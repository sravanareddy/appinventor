{
 "cells": [
  {
   "cell_type": "code",
   "execution_count": 1,
   "metadata": {
    "collapsed": true
   },
   "outputs": [],
   "source": [
    "import ujson\n",
    "import numpy \n",
    "import datetime"
   ]
  },
  {
   "cell_type": "code",
   "execution_count": 61,
   "metadata": {
    "collapsed": false
   },
   "outputs": [
    {
     "name": "stdout",
     "output_type": "stream",
     "text": [
      "0 1 2 3 4 5 6 7 8 9 10 11 12 13 14 15 16 17 18 19 20 21 22 23 24 25 26 27 28 29 30 31 32 33 34 35 36 37 38 39 40 41 42 43 44 45 46\n"
     ]
    }
   ],
   "source": [
    "summaries = {}\n",
    "ctr = 0\n",
    "for line in open('user_project_summaries.json'): # lazy iteration because the file is large\n",
    "    print ctr,\n",
    "    ctr+=1\n",
    "    summaries.update(ujson.loads(line))\n",
    "    if ctr==20:\n",
    "        break"
   ]
  },
  {
   "cell_type": "code",
   "execution_count": 62,
   "metadata": {
    "collapsed": true
   },
   "outputs": [],
   "source": [
    "from features import *"
   ]
  },
  {
   "cell_type": "code",
   "execution_count": 65,
   "metadata": {
    "collapsed": false
   },
   "outputs": [
    {
     "name": "stdout",
     "output_type": "stream",
     "text": [
      ".\n",
      ".\n",
      "lang data created with 40875 users and 6 languages\n"
     ]
    }
   ],
   "source": [
    "'''We are using all the data from the user from whom we we have previously \n",
    "classfied what their primary langauge is '''\n",
    "\n",
    "isocodes = ujson.load(open('isocodes.json'))  # mapping from  iso code to language name\n",
    "user_langs = ujson.load(open('user_inferredlangs.json'))  # mapping from userid to inferred language\n",
    "#remove Latin because it's not a reliable inference\n",
    "#TODO for later: get next-best language besides Latin in the inference function\n",
    "# remove uncommon languages\n",
    "lang_counts = {}\n",
    "for user in user_langs:\n",
    "    lang = user_langs[user]\n",
    "    lang_counts[lang] = lang_counts.get(lang, 0) + 1\n",
    "    ctr+=1\n",
    "print '.'\n",
    "user_langs = {user: lang for user, lang in user_langs.items() if lang!='la' and lang_counts[lang]>=500 and user in summaries}\n",
    "print'.'\n",
    "langset = sorted(list(set(user_langs.values())))\n",
    "lang_num_map = {lang: i for i, lang in enumerate(langset)} #key is langauge isocode, value is number \n",
    "print 'lang data created with', len(user_langs), 'users and', len(langset), 'languages'"
   ]
  },
  {
   "cell_type": "code",
   "execution_count": 66,
   "metadata": {
    "collapsed": true
   },
   "outputs": [],
   "source": [
    "# time utilities\n",
    "def convert_time(el):\n",
    "    \"\"\"Human readable time\"\"\"\n",
    "    el = int(str(el)[:10])\n",
    "    return datetime.date.fromtimestamp(el)\n",
    "\n",
    "def timediff(t1, t2):\n",
    "    \"\"\"difference between times (millisec precision) as days\"\"\"\n",
    "    return (t1-t2)/(86400.*1000)"
   ]
  },
  {
   "cell_type": "markdown",
   "metadata": {},
   "source": [
    "### Featurizers"
   ]
  },
  {
   "cell_type": "code",
   "execution_count": 67,
   "metadata": {
    "collapsed": true
   },
   "outputs": [],
   "source": [
    "def projectLengthFeatures(projects):\n",
    "    \"\"\"moments of project lengths and intervals, as well as number of projects\"\"\"\n",
    "    lengths = getProjectLengths(projects)\n",
    "    intervals = getProjectIntervals(projects)\n",
    "    \n",
    "    #note: feature names are for our reference only\n",
    "    userDict = {} \n",
    "    userDict[\"mean of lengths\"] = numpy.mean(lengths)\n",
    "    userDict[\"stddev of lengths\"] = numpy.std(lengths)\n",
    "    userDict[\"mean of intervals\"] = numpy.mean(lengths)\n",
    "    userDict[\"stddev of intervals\"] = numpy.std(lengths)\n",
    "    \n",
    "    userDict[\"num projects\"] = numProjects(projects)\n",
    "    \n",
    "    return userDict"
   ]
  },
  {
   "cell_type": "code",
   "execution_count": 69,
   "metadata": {
    "collapsed": true
   },
   "outputs": [],
   "source": [
    "def dayAnalysisFeatures(projects):\n",
    "    \"\"\"number of projects on each day of the week, and the percentage of them on a weekday\"\"\"\n",
    "    byday = numOnDay(projects)\n",
    "\n",
    "    userDict = {day: byday[i] for i, day in enumerate([\"Monday\", \n",
    "                                                       \"Tuesday\", \n",
    "                                                       \"Wednesday\", \n",
    "                                                       \"Thursday\", \n",
    "                                                       \"Friday\", \n",
    "                                                       \"Saturday\", \n",
    "                                                       \"Sunday\"])}\n",
    "    return userDict"
   ]
  },
  {
   "cell_type": "code",
   "execution_count": 68,
   "metadata": {
    "collapsed": true
   },
   "outputs": [],
   "source": [
    "def decileProjects(projects):\n",
    "    numbins = 10\n",
    "    hist = projectsPerUserPeriod(projects, bins=numbins)\n",
    "    \n",
    "    userDict = {'decile '+str(i+1): hist[i] for i in range(numbins)}\n",
    "    return userDict"
   ]
  },
  {
   "cell_type": "markdown",
   "metadata": {},
   "source": [
    "### Setup"
   ]
  },
  {
   "cell_type": "code",
   "execution_count": 70,
   "metadata": {
    "collapsed": true
   },
   "outputs": [],
   "source": [
    "def combine_featfuncs(funclist):\n",
    "    def combined(user):\n",
    "        basedict = funclist[0](user)\n",
    "        for f in funclist[1:]:\n",
    "            basedict.update(f(user))\n",
    "        return basedict\n",
    "    return combined"
   ]
  },
  {
   "cell_type": "code",
   "execution_count": 71,
   "metadata": {
    "collapsed": false
   },
   "outputs": [],
   "source": [
    "def getAllProjects(userID): \n",
    "    \"\"\"list of projects sorted by creation times\"\"\"\n",
    "    projectlist = summaries[userID].values()\n",
    "    return projectlist#sorted(projectlist,\n",
    "                  #key=lambda project: project['**created']) \n",
    "\n",
    "def projectsInMindur(projectlist):\n",
    "    \"\"\"filter projects within user's MINDUR duration from earliest\"\"\"\n",
    "    earliest = projectlist[0]['**created']\n",
    "    filtered_projects = [projectlist[0]]\n",
    "    for project in projectlist[1:]:\n",
    "        if timediff(project['**created'], earliest)>120:#1/29 manually changed from MINDUR to 120\n",
    "            break\n",
    "        filtered_projects.append(project)\n",
    "    return filtered_projects\n",
    "\n",
    "def userDuration(projectlist):\n",
    "    \"\"\"get the duration (difference between last and earliest creation dates)\"\"\"\n",
    "    return timediff(projectlist[-1]['**created'], projectlist[0]['**created'])\n",
    "\n",
    "def getProjects(userID):\n",
    "    projectlist = getAllProjects(userID)\n",
    "    return projectlist"
   ]
  },
  {
   "cell_type": "code",
   "execution_count": 72,
   "metadata": {
    "collapsed": true
   },
   "outputs": [],
   "source": [
    "def get_user_labels():\n",
    "        return {user: lang_num_map[lang] for user, lang in user_langs.items()}"
   ]
  },
  {
   "cell_type": "code",
   "execution_count": 73,
   "metadata": {
    "collapsed": true
   },
   "outputs": [],
   "source": [
    "time_combined = combine_featfuncs([projectLengthFeatures, dayAnalysisFeatures,decileProjects])  "
   ]
  },
  {
   "cell_type": "code",
   "execution_count": 74,
   "metadata": {
    "collapsed": false
   },
   "outputs": [
    {
     "name": "stdout",
     "output_type": "stream",
     "text": [
      "1\n",
      "2\n",
      "3\n",
      "4\n",
      "5\n",
      "6\n",
      "7\n",
      "8\n",
      "9\n",
      "10\n",
      "11\n",
      "12\n",
      "13\n",
      "14\n",
      "15\n",
      "16\n",
      "17\n",
      "18\n",
      "19\n",
      "20\n",
      "21\n",
      "22\n",
      "23\n",
      "24\n",
      "25\n",
      "26\n",
      "27\n",
      "28\n",
      "29\n",
      "30\n",
      "31\n",
      "32\n",
      "33\n",
      "34\n",
      "35\n",
      "36\n",
      "37\n",
      "38\n",
      "39\n",
      "40\n"
     ]
    }
   ],
   "source": [
    "from sklearn.feature_extraction import DictVectorizer\n",
    "\n",
    "#all_features = []\n",
    "time_features = [] \n",
    "#code_features = []\n",
    "\n",
    "#TASK = 'LANGUAGE'  # toggle between LANGUAGE and RETENTION\n",
    "userlabels = get_user_labels()\n",
    "\n",
    "y = []\n",
    "ctr = 0\n",
    "for user in userlabels:\n",
    "    projects = getProjects(user)  # this returns projects sorted by creation date that include tutorials \n",
    "    \n",
    "    y.append(userlabels[user])\n",
    "    \n",
    "    time_features.append(time_combined(projects))\n",
    "    \n",
    "    ctr+=1\n",
    "    if ctr%1000==0:\n",
    "        print ctr/1000\n",
    "        \n",
    "\n",
    "\n",
    "y = numpy.array(y)\n",
    "\n",
    "timevec = DictVectorizer()\n",
    "\n",
    "Xtime = timevec.fit_transform(time_features) \n",
    "\n",
    "codevec = DictVectorizer()\n",
    "\n",
    "#Xcode = codevec.fit_transform(code_features)\n",
    "\n",
    "allvec = DictVectorizer()\n",
    "\n",
    "#Xall = allvec.fit_transform(all_features)\n"
   ]
  },
  {
   "cell_type": "code",
   "execution_count": 75,
   "metadata": {
    "collapsed": true
   },
   "outputs": [],
   "source": [
    "from sklearn.preprocessing import scale\n",
    "from numpy import *\n",
    "# # convert to dense matrices since these are dense anyway\n",
    "Xtime = scale(Xtime.toarray())"
   ]
  },
  {
   "cell_type": "code",
   "execution_count": 76,
   "metadata": {
    "collapsed": false
   },
   "outputs": [
    {
     "name": "stdout",
     "output_type": "stream",
     "text": [
      "Chance is 0.51429969419\n",
      "Building a logreg model with 22 time\n",
      "Fold 1\n",
      "Fold 2\n",
      "Fold 3\n",
      "Average accuracy 0.297492187377\n"
     ]
    }
   ],
   "source": [
    "from sklearn.cross_validation import StratifiedKFold\n",
    "from sklearn.neighbors import KNeighborsClassifier\n",
    "from  sklearn.metrics import f1_score \n",
    "from sklearn.linear_model import LogisticRegression\n",
    "from sklearn.metrics import confusion_matrix\n",
    "import matplotlib.pyplot as plt\n",
    "\n",
    "print 'Chance is', max(numpy.bincount(y))/float(len(y))\n",
    "\n",
    "foldindices = StratifiedKFold(y)\n",
    "\n",
    "\n",
    "labels = map(lambda x:x[0], sorted(lang_num_map.items(), key=lambda x:x[1]))  \n",
    "# languages corresponding to class labels as a list\n",
    "\n",
    "    \n",
    "k = 70 #num neighbors for kNN\n",
    "\n",
    "classifiers = [('logreg', LogisticRegression(class_weight='balanced', \n",
    "                                                             multi_class='multinomial', \n",
    "                                                             solver='lbfgs'))]  # no knn because it's too slow\n",
    "\n",
    "for modelname, model in classifiers:\n",
    "    for featname, X in [('time', Xtime)]:\n",
    "        print  'Building a', modelname, 'model with', X.shape[1], featname\n",
    "    \n",
    "        cvaccs = numpy.zeros(len(foldindices))\n",
    "        cvf1 = numpy.zeros(len(foldindices))\n",
    "        for i, (trainidx, testidx) in enumerate(foldindices):\n",
    "            print 'Fold', i+1\n",
    "        \n",
    "            ytrain = y[trainidx]\n",
    "            ytest = y[testidx]\n",
    "        \n",
    "            Xtrain = X[trainidx, :]  \n",
    "            Xtest = X[testidx, :]\n",
    "            \n",
    "            model.fit(Xtrain, ytrain)\n",
    "            cvaccs[i] = model.score(Xtest, ytest)\n",
    "        \n",
    "            predictions = model.predict(Xtest)\n",
    "            #cvf1[i] = f1_score(ytest, predictions)\n",
    "            \n",
    "            #print '****', modelname, cvaccs[i]\n",
    "        #analyze last fold only\n",
    "        cnf_matrix = confusion_matrix(ytest, predictions)  \n",
    "        #plot_confusion_matrix(cnf_matrix, labels)\n",
    "        #plt.show()\n",
    "        \n",
    "        print 'Average accuracy', numpy.mean(cvaccs)"
   ]
  }
 ],
 "metadata": {
  "kernelspec": {
   "display_name": "Python 2",
   "language": "python",
   "name": "python2"
  },
  "language_info": {
   "codemirror_mode": {
    "name": "ipython",
    "version": 2
   },
   "file_extension": ".py",
   "mimetype": "text/x-python",
   "name": "python",
   "nbconvert_exporter": "python",
   "pygments_lexer": "ipython2",
   "version": "2.7.11"
  }
 },
 "nbformat": 4,
 "nbformat_minor": 0
}
