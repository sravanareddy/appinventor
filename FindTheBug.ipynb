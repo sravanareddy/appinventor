{
 "cells": [
  {
   "cell_type": "code",
   "execution_count": 35,
   "metadata": {
    "collapsed": true
   },
   "outputs": [],
   "source": [
    "import ujson\n",
    "import numpy \n",
    "import datetime\n",
    "import json"
   ]
  },
  {
   "cell_type": "code",
   "execution_count": 2,
   "metadata": {
    "collapsed": false
   },
   "outputs": [
    {
     "name": "stdout",
     "output_type": "stream",
     "text": [
      "0 1 2 3 4 5 6 7 8 9 10 11 12 13 14 15 16 17 18 19 20 21 22 23 24 25 26 27 28 29 30 31 32 33 34 35 36 37 38 39 40 41 42 43 44 45 46\n"
     ]
    }
   ],
   "source": [
    "summaries = {}\n",
    "ctr = 0\n",
    "for line in open('user_project_summaries.json'): # lazy iteration because the file is large\n",
    "#     if ctr == 20: \n",
    "#         break\n",
    "    print ctr,\n",
    "    ctr+=1\n",
    "    summaries.update(ujson.loads(line))"
   ]
  },
  {
   "cell_type": "code",
   "execution_count": 3,
   "metadata": {
    "collapsed": true
   },
   "outputs": [],
   "source": [
    "from features import *\n",
    "import features\n",
    "reload(features)\n",
    "import sys, os\n",
    "sys.path.append(os.getcwd())"
   ]
  },
  {
   "cell_type": "code",
   "execution_count": 4,
   "metadata": {
    "collapsed": true
   },
   "outputs": [],
   "source": [
    "# c = 0 \n",
    "# for userID in summaries: \n",
    "#     c += numProjects(getAllProjects(userID))"
   ]
  },
  {
   "cell_type": "code",
   "execution_count": 5,
   "metadata": {
    "collapsed": false
   },
   "outputs": [
    {
     "name": "stdout",
     "output_type": "stream",
     "text": [
      "lang data created with 43862 users and 18 languages [u'ar', u'ca', u'de', u'el', u'en', u'es', u'fr', u'he', u'it', u'ja', u'ko', u'nl', u'pl', u'pt', u'ru', u'th', u'tr', u'zh']\n"
     ]
    }
   ],
   "source": [
    "'''We are using all the data from the user from whom we we have previously \n",
    "classfied what their primary langauge is '''\n",
    "\n",
    "isocodes = ujson.load(open('isocodes.json'))  # mapping from  iso code to language name\n",
    "user_langs = ujson.load(open('user_inferredlangs.json'))  # mapping from userid to inferred language\n",
    "#remove Latin because it's not a reliable inference\n",
    "#TODO for later: get next-best language besides Latin in the inference function\n",
    "# remove uncommon languages\n",
    "lang_counts = {}\n",
    "for user in user_langs:\n",
    "    lang = user_langs[user]\n",
    "    lang_counts[lang] = lang_counts.get(lang, 0) + 1\n",
    "    ctr+=1\n",
    "user_langs = {user: lang for user, lang in user_langs.items() if lang!='la' and lang_counts[lang]>=100 and user in summaries}\n",
    "langset = sorted(list(set(user_langs.values())))\n",
    "lang_num_map = {lang: i for i, lang in enumerate(langset)} #key is langauge isocode, value is number \n",
    "print 'lang data created with', len(user_langs), 'users and', len(langset), 'languages', langset"
   ]
  },
  {
   "cell_type": "code",
   "execution_count": 6,
   "metadata": {
    "collapsed": true
   },
   "outputs": [],
   "source": [
    "# time utilities\n",
    "def convert_time(el):\n",
    "    \"\"\"Human readable time\"\"\"\n",
    "    el = int(str(el)[:10])\n",
    "    return datetime.date.fromtimestamp(el)\n",
    "\n",
    "def timediff(t1, t2):\n",
    "    \"\"\"difference between times (millisec precision) as days\"\"\"\n",
    "    return (t1-t2)/(86400.*1000)"
   ]
  },
  {
   "cell_type": "markdown",
   "metadata": {},
   "source": [
    "### Filter Tutorials"
   ]
  },
  {
   "cell_type": "code",
   "execution_count": 7,
   "metadata": {
    "collapsed": false
   },
   "outputs": [
    {
     "name": "stdout",
     "output_type": "stream",
     "text": [
      "0 1 2 3 4 5 6 7 8 9 00999 p005_006_Draw\n",
      "00999 p002_002_WildLifeShow\n",
      "00999 p010_010_RememberInformation\n",
      "00999 p011_011_DetermineLocation\n",
      "00999 p006_004_Draw2\n",
      "00999 p012_012_ProcessAList\n",
      "00999 p008_008_MoleMash\n"
     ]
    }
   ],
   "source": [
    "not_tutorials = {}\n",
    "\n",
    "for i in range(10): \n",
    "    print i, \n",
    "    notT_list = ujson.load(open('tutorial_comparisons/nottutorials_' + str(i) +'.json'))\n",
    "    for entry in notT_list: \n",
    "        if entry[0] not in summaries:\n",
    "            continue\n",
    "        proj_name = entry[1].split(\"_summary.json\")[0]\n",
    "        if entry[0] not in not_tutorials: \n",
    "            not_tutorials[entry[0]] = {}\n",
    "        try: \n",
    "            not_tutorials[entry[0]][proj_name] = summaries[entry[0]][proj_name]\n",
    "        except KeyError: \n",
    "            print entry[0], proj_name\n"
   ]
  },
  {
   "cell_type": "code",
   "execution_count": null,
   "metadata": {
    "collapsed": true
   },
   "outputs": [],
   "source": []
  },
  {
   "cell_type": "code",
   "execution_count": 8,
   "metadata": {
    "collapsed": false
   },
   "outputs": [],
   "source": [
    "not_tutorials = {user: not_tutorials[user] for user in not_tutorials.keys() if len(not_tutorials[user])>0}\n",
    "# SR's fix"
   ]
  },
  {
   "cell_type": "markdown",
   "metadata": {},
   "source": [
    "# Featurizers"
   ]
  },
  {
   "cell_type": "markdown",
   "metadata": {},
   "source": [
    "## Time featurizer"
   ]
  },
  {
   "cell_type": "code",
   "execution_count": 9,
   "metadata": {
    "collapsed": true
   },
   "outputs": [],
   "source": [
    "def projectLengthFeatures(projects):\n",
    "    \"\"\"moments of project lengths and intervals, as well as number of projects\"\"\"\n",
    "    lengths = getProjectLengths(projects)\n",
    "    intervals = getProjectIntervals(projects)\n",
    "    \n",
    "    #note: feature names are for our reference only\n",
    "    userDict = {} \n",
    "    userDict[\"mean of lengths\"] = numpy.mean(lengths)\n",
    "    userDict[\"stddev of lengths\"] = numpy.std(lengths)\n",
    "    userDict[\"mean of intervals\"] = numpy.mean(lengths)\n",
    "    userDict[\"stddev of intervals\"] = numpy.std(lengths)\n",
    "    \n",
    "    userDict[\"num projects\"] = numProjects(projects)\n",
    "    \n",
    "    return userDict"
   ]
  },
  {
   "cell_type": "code",
   "execution_count": 10,
   "metadata": {
    "collapsed": true
   },
   "outputs": [],
   "source": [
    "def dayAnalysisFeatures(projects):\n",
    "    \"\"\"number of projects on each day of the week, and the percentage of them on a weekday\"\"\"\n",
    "    byday = numOnDay(projects)\n",
    "\n",
    "    userDict = {day: byday[i] for i, day in enumerate([\"Monday\", \n",
    "                                                       \"Tuesday\", \n",
    "                                                       \"Wednesday\", \n",
    "                                                       \"Thursday\", \n",
    "                                                       \"Friday\", \n",
    "                                                       \"Saturday\", \n",
    "                                                       \"Sunday\"])}\n",
    "    return userDict"
   ]
  },
  {
   "cell_type": "code",
   "execution_count": 11,
   "metadata": {
    "collapsed": true
   },
   "outputs": [],
   "source": [
    "def decileProjects(projects):\n",
    "    numbins = 10\n",
    "    hist = projectsPerUserPeriod(projects, bins=numbins)\n",
    "    \n",
    "    userDict = {'decile '+str(i+1): hist[i] for i in range(numbins)}\n",
    "    return userDict"
   ]
  },
  {
   "cell_type": "code",
   "execution_count": null,
   "metadata": {
    "collapsed": true
   },
   "outputs": [],
   "source": []
  },
  {
   "cell_type": "markdown",
   "metadata": {},
   "source": [
    "## Code Features\n"
   ]
  },
  {
   "cell_type": "code",
   "execution_count": 12,
   "metadata": {
    "collapsed": true
   },
   "outputs": [],
   "source": [
    "def deltaDeciles(decileDict, name):\n",
    "    values = sortDeciles(decileDict)\n",
    "    deltas = {}\n",
    "    for i in range(10): \n",
    "        if i== 0: pass\n",
    "        else: deltas[str(i) + \" \" + name] = values[i]-values[i-1]\n",
    "    return deltas\n",
    "\n",
    "\n",
    "def sortDeciles(decileDict):\n",
    "    deciles_sorted = []\n",
    "    keys = decileDict.keys()\n",
    "    for key in keys: \n",
    "        deciles_sorted.insert(int(key[-1]), decileDict[key])\n",
    "    return deciles_sorted\n",
    "\n"
   ]
  },
  {
   "cell_type": "code",
   "execution_count": 13,
   "metadata": {
    "collapsed": true
   },
   "outputs": [],
   "source": [
    "def summaryOBlockDecile(projects): \n",
    "    hist = decileOrphanBlocks(projects)\n",
    "    userDict = {'Orphan Decile '+str(i+1): hist[i] for i in range(10)}\n",
    "    return userDict"
   ]
  },
  {
   "cell_type": "code",
   "execution_count": 14,
   "metadata": {
    "collapsed": true
   },
   "outputs": [],
   "source": [
    "def summaryDecileTLBlocks(projects): \n",
    "    hist = decileTypesTopLevelBlocks(projects)\n",
    "    userDict = {'TopLevel Decile '+str(i+1): hist[i] for i in range(10)}\n",
    "    return userDict"
   ]
  },
  {
   "cell_type": "code",
   "execution_count": 15,
   "metadata": {
    "collapsed": true
   },
   "outputs": [],
   "source": [
    "def summaryDecileNumScreens(projects): \n",
    "    hist = decileNumScreens(projects)\n",
    "    userDict = {'NumScreens Decile '+str(i+1): hist[i] for i in range(10)}\n",
    "    return userDict"
   ]
  },
  {
   "cell_type": "code",
   "execution_count": 16,
   "metadata": {
    "collapsed": true
   },
   "outputs": [],
   "source": [
    "def summaryDeltasTLBlocks(projects): \n",
    "    tlblocks = summaryDecileTLBlocks(projects)\n",
    "    return deltaDeciles(tlblocks, \"TL blocks delta\")"
   ]
  },
  {
   "cell_type": "code",
   "execution_count": 17,
   "metadata": {
    "collapsed": true
   },
   "outputs": [],
   "source": [
    "def summaryDeltasOBlock(projects): \n",
    "    oblock = summaryOBlockDecile(projects)\n",
    "    return deltaDeciles(oblock,\"O blocks delta\")"
   ]
  },
  {
   "cell_type": "code",
   "execution_count": 18,
   "metadata": {
    "collapsed": true
   },
   "outputs": [],
   "source": [
    "def summaryDeltasNumScreens(projects): \n",
    "    numscreens = summaryDecileNumScreens(projects)\n",
    "    return deltaDeciles(numscreens, \"numscreens blocks delta\")"
   ]
  },
  {
   "cell_type": "code",
   "execution_count": 19,
   "metadata": {
    "collapsed": true
   },
   "outputs": [],
   "source": [
    "def summaryAverages(projects):\n",
    "    userDict = {} \n",
    "    userDict[\"mean of numScreens\"] = numpy.mean(getNumScreens(projects))\n",
    "    userDict[\"NB\"] = averageNumBlocks(projects)\n",
    "    userDict[\"OB\"] = getAverageOrphanBlocks(projects)\n",
    "    \n",
    "    userDict[\"TL\"] = getAverageTypeTLBlocks(projects)\n",
    "    userDict[\"TL2\"] = getAverageNumTLBlocks(projects)\n",
    "    \n",
    "    userDict[\"NC\"] = averageNumComponents(projects)\n",
    "    userDict[\"NTC\"] = averageNumTypeComponents(projects)\n",
    "\n",
    "    userDict[\"MC\"] = aveNumMediaAssets(projects)\n",
    "    \n",
    "    userDict[\"NP\"] = averageNumProcedures(projects)\n",
    "    userDict[\"NS\"] = averageNumStrings(projects) \n",
    "        \n",
    "    varList = getAllVariables(projects)\n",
    "    userDict[\"local vars\"] = varList[0]\n",
    "    userDict[\"global vars\"] = varList[1]\n",
    "    \n",
    "    controls_dict = getControlsBlocks(projects)\n",
    "    userDict['controls_if'] = controls_dict['controls_if']\n",
    "    userDict['controls_forEach'] = controls_dict['controls_forEach']\n",
    "    userDict['controls_choose'] = controls_dict['controls_choose']\n",
    "    userDict['controls_while'] = controls_dict['controls_while']\n",
    "\n",
    "\n",
    "\n",
    "    return userDict"
   ]
  },
  {
   "cell_type": "code",
   "execution_count": 20,
   "metadata": {
    "collapsed": true
   },
   "outputs": [],
   "source": [
    "def classesFeaturizers(projects): \n",
    "    userDict = {} \n",
    "    classes = getClasses(projects)\n",
    "    cList = ['TableArrangement', 'DatePicker', 'Canvas', \n",
    "             'CheckBox', 'Web', 'Clock', 'BluetoothServer', \n",
    "             'ActivityStarter', 'Texting', 'Label', 'Spinner', \n",
    "             'Camera', 'BluetoothClient', 'PhoneCall', 'LocationSensor', \n",
    "             'VerticalArrangement', 'HorizontalArrangement', 'Sharing', \n",
    "             'TextToSpeech', 'GoogleMap', 'Slider', 'OrientationSensor', \n",
    "             'ListView', 'PhoneNumberPicker', 'TinyDB', 'NxtDirectCommands', \n",
    "             'Sound', 'ListPicker', 'SpeechRecognizer', 'Button', 'WebViewer',\n",
    "             'BarcodeScanner', 'NxtDrive', 'Camcorder', 'Notifier', 'TextBox',\n",
    "             'AccelerometerSensor', 'Image', 'VideoPlayer', 'TinyWebDB',\n",
    "             'Player', 'File', 'YandexTranslate']\n",
    "   \n",
    "    for key in cList: \n",
    "        userDict[key] = classes[key]\n",
    "        \n",
    "    return userDict"
   ]
  },
  {
   "cell_type": "code",
   "execution_count": 21,
   "metadata": {
    "collapsed": false
   },
   "outputs": [],
   "source": [
    "def allBlocksFeaturizer(projects):\n",
    "    userDict = {}\n",
    "    with open('all_blocks.json') as data_file:    \n",
    "        block_list = json.load(data_file)\n",
    "\n",
    "    all_blocks_dict = {block:0 for block in block_list}\n",
    "    all_blocks_dict = getBlocks(projects, all_blocks_dict) \n",
    "    \n",
    "    for key in block_list: \n",
    "        userDict[key] = all_blocks_dict[key]\n",
    "    return userDict"
   ]
  },
  {
   "cell_type": "code",
   "execution_count": 22,
   "metadata": {
    "collapsed": true
   },
   "outputs": [],
   "source": [
    "# blocks = set() \n",
    "# users = summaries.keys()\n",
    "# c = Counter()"
   ]
  },
  {
   "cell_type": "code",
   "execution_count": 23,
   "metadata": {
    "collapsed": false,
    "scrolled": false
   },
   "outputs": [],
   "source": [
    "# j = 0\n",
    "# for userID in users: \n",
    "#     i = 0\n",
    "\n",
    "#     projects = getAllProjects(userID, False)\n",
    "#     screenNames = getScreenNames(projects)\n",
    "\n",
    "#     while i < len(projects):\n",
    "#         for screenName in screenNames[i]:\n",
    "#                 if screenName in projects[i] and 'Active Blocks' in projects[i][screenName]['Blocks'] and 'Types' in projects[i][screenName]['Blocks']['Active Blocks']:\n",
    "#                     b = projects[i][screenName]['Blocks']['Active Blocks']['Types']\n",
    "#                     for block in b: \n",
    "#                         if block not in blocks: \n",
    "#                             blocks.add(block)\n",
    "#                     c.update(b)\n",
    "#         i+=1\n",
    "#     j+=1 \n",
    "#     if j % 1000 == 0: \n",
    "#         print j,"
   ]
  },
  {
   "cell_type": "code",
   "execution_count": 24,
   "metadata": {
    "collapsed": false
   },
   "outputs": [],
   "source": [
    "# with open('top_500_blocks.json', 'w') as data_file:\n",
    "#     json.dump(dict(c.most_common(500)), data_file)"
   ]
  },
  {
   "cell_type": "code",
   "execution_count": null,
   "metadata": {
    "collapsed": false
   },
   "outputs": [],
   "source": []
  },
  {
   "cell_type": "code",
   "execution_count": 25,
   "metadata": {
    "collapsed": false
   },
   "outputs": [],
   "source": [
    "l = summaries['44884']['p010_009_simplecalc']['Screen1']['Blocks']['Active Blocks']['Types']"
   ]
  },
  {
   "cell_type": "code",
   "execution_count": 26,
   "metadata": {
    "collapsed": true
   },
   "outputs": [],
   "source": [
    "# from collections import defaultdict\n",
    "# from collections import Counter"
   ]
  },
  {
   "cell_type": "code",
   "execution_count": 27,
   "metadata": {
    "collapsed": false
   },
   "outputs": [
    {
     "ename": "NameError",
     "evalue": "name 'Counter' is not defined",
     "output_type": "error",
     "traceback": [
      "\u001b[0;31m---------------------------------------------------------------------------\u001b[0m",
      "\u001b[0;31mNameError\u001b[0m                                 Traceback (most recent call last)",
      "\u001b[0;32m<ipython-input-27-53d5220f7177>\u001b[0m in \u001b[0;36m<module>\u001b[0;34m()\u001b[0m\n\u001b[0;32m----> 1\u001b[0;31m \u001b[0mc\u001b[0m \u001b[0;34m=\u001b[0m \u001b[0mCounter\u001b[0m\u001b[0;34m(\u001b[0m\u001b[0ml\u001b[0m\u001b[0;34m)\u001b[0m\u001b[0;34m\u001b[0m\u001b[0m\n\u001b[0m",
      "\u001b[0;31mNameError\u001b[0m: name 'Counter' is not defined"
     ]
    }
   ],
   "source": [
    "# c = Counter(l)"
   ]
  },
  {
   "cell_type": "code",
   "execution_count": null,
   "metadata": {
    "collapsed": false
   },
   "outputs": [],
   "source": []
  },
  {
   "cell_type": "code",
   "execution_count": null,
   "metadata": {
    "collapsed": false
   },
   "outputs": [],
   "source": [
    "# i = 0\n",
    "# for userID in users: \n",
    "#     projects = getAllProjects(userID, False)\n",
    "#     getBlocks(projects, all_blocks_dict)\n",
    "#     if i %1000 == 0: \n",
    "#         print i,\n",
    "#     i+=1"
   ]
  },
  {
   "cell_type": "markdown",
   "metadata": {},
   "source": [
    "### Setup"
   ]
  },
  {
   "cell_type": "code",
   "execution_count": 28,
   "metadata": {
    "collapsed": true
   },
   "outputs": [],
   "source": [
    "def combine_featfuncs(funclist):\n",
    "    def combined(user):\n",
    "        basedict = funclist[0](user)\n",
    "        for f in funclist[1:]:\n",
    "            basedict.update(f(user))\n",
    "        return basedict\n",
    "    return combined"
   ]
  },
  {
   "cell_type": "code",
   "execution_count": 29,
   "metadata": {
    "collapsed": false
   },
   "outputs": [],
   "source": [
    "def getAllProjects(userID, no_tutorials): \n",
    "    \"\"\"list of projects sorted by creation times\"\"\"\n",
    "    if (no_tutorials):\n",
    "        try: \n",
    "            projectlist = not_tutorials[userID].values()\n",
    "        except:\n",
    "            print userID\n",
    "    else: \n",
    "        projectlist = summaries[userID].values()\n",
    "    return sorted(projectlist,\n",
    "                  key=lambda project: project['**created']) \n",
    "\n",
    "def userDuration(projectlist):\n",
    "    \"\"\"get the duration (difference between last and earliest creation dates)\"\"\"\n",
    "    return timediff(projectlist[-1]['**created'], projectlist[0]['**created'])\n",
    "\n",
    "\n",
    "def getProjects(userID, no_tutorials):\n",
    "    return getAllProjects(userID, no_tutorials)\n",
    "     "
   ]
  },
  {
   "cell_type": "code",
   "execution_count": 30,
   "metadata": {
    "collapsed": true
   },
   "outputs": [],
   "source": [
    "langgroups = {'es': 'eur',\n",
    "              'pt': 'eur', \n",
    "              'it': 'eur', \n",
    "              'de': 'eur', \n",
    "              'fr': 'eur', \n",
    "              'ca': 'eur', \n",
    "              'el': 'eur', \n",
    "              'nl': 'eur', \n",
    "              'pl': 'eur', \n",
    "              'ru': 'eur',\n",
    "              'ko': 'asia', \n",
    "              'zh': 'asia', \n",
    "              'ja': 'asia', \n",
    "              'th': 'asia'}\n",
    "langgroup_num_map = {'eur': 0, 'asia': 1}\n",
    "\n"
   ]
  },
  {
   "cell_type": "code",
   "execution_count": 31,
   "metadata": {
    "collapsed": true
   },
   "outputs": [],
   "source": [
    "def get_user_labels():\n",
    "    return {user: lang_num_map[lang] for user, lang in user_langs.items()}"
   ]
  },
  {
   "cell_type": "code",
   "execution_count": 32,
   "metadata": {
    "collapsed": false
   },
   "outputs": [],
   "source": [
    "time_combined = combine_featfuncs([projectLengthFeatures, dayAnalysisFeatures,decileProjects])\n",
    "code_combined = combine_featfuncs([summaryOBlockDecile,summaryDecileTLBlocks,summaryDecileNumScreens,summaryDeltasTLBlocks,summaryDeltasOBlock,summaryDeltasNumScreens, summaryAverages, classesFeaturizers, allBlocksFeaturizer])  "
   ]
  },
  {
   "cell_type": "code",
   "execution_count": 36,
   "metadata": {
    "collapsed": false
   },
   "outputs": [
    {
     "name": "stderr",
     "output_type": "stream",
     "text": [
      "/Users/emmalurie/anaconda/lib/python2.7/site-packages/numpy/lib/function_base.py:1110: RuntimeWarning: Mean of empty slice.\n",
      "  avg = a.mean(axis)\n",
      "/Users/emmalurie/anaconda/lib/python2.7/site-packages/numpy/core/_methods.py:80: RuntimeWarning: invalid value encountered in double_scalars\n",
      "  ret = ret.dtype.type(ret / rcount)\n"
     ]
    },
    {
     "name": "stdout",
     "output_type": "stream",
     "text": [
      "1 2 3 4 5 6 7 8 9 10 11 12 13 14 15 16 17 18 19 20 21 22 23 24 25 26 27 28 29 30 31 32 33 34 35 36 37 38 39 40 41 42 43\n"
     ]
    }
   ],
   "source": [
    "from sklearn.feature_extraction import DictVectorizer\n",
    "\n",
    "all_features = []\n",
    "time_features = [] \n",
    "code_features = []\n",
    "\n",
    "userlabels = get_user_labels()\n",
    "\n",
    "y = []\n",
    "ctr = 0\n",
    "for user in userlabels:\n",
    "    if user in not_tutorials: \n",
    "\n",
    "        projects = getProjects(user, True)  # this returns projects sorted by creation date that include tutorials \n",
    "\n",
    "        y.append(userlabels[user])\n",
    "\n",
    "        time_features.append(time_combined(projects))\n",
    "        code_features.append(code_combined(projects))\n",
    "\n",
    "\n",
    "        # merge time and code feature dicts\n",
    "        all_features_user = time_features[-1].copy()\n",
    "        all_features_user.update(code_features[-1])\n",
    "        all_features.append(all_features_user)\n",
    "\n",
    "        ctr+=1\n",
    "        if ctr%1000==0:\n",
    "            print ctr/1000,\n",
    "        \n",
    "\n",
    "\n",
    "y = numpy.array(y)\n",
    "\n",
    "timevec = DictVectorizer()\n",
    "\n",
    "Xtime = timevec.fit_transform(time_features) \n",
    "\n",
    "codevec = DictVectorizer()\n",
    "\n",
    "Xcode = codevec.fit_transform(code_features)\n",
    "\n",
    "allvec = DictVectorizer()\n",
    "\n",
    "Xall = allvec.fit_transform(all_features)\n"
   ]
  },
  {
   "cell_type": "code",
   "execution_count": 37,
   "metadata": {
    "collapsed": false
   },
   "outputs": [],
   "source": [
    "from sklearn.preprocessing import scale\n",
    "from numpy import *\n",
    "# # convert to dense matrices since these are dense anyway\n",
    "Xtime = scale(Xtime.toarray())\n",
    "Xcode = scale(Xcode.toarray())\n",
    "Xall = scale(Xall.toarray())"
   ]
  },
  {
   "cell_type": "code",
   "execution_count": 38,
   "metadata": {
    "collapsed": false,
    "scrolled": true
   },
   "outputs": [
    {
     "name": "stderr",
     "output_type": "stream",
     "text": [
      "/Users/emmalurie/anaconda/lib/python2.7/site-packages/matplotlib/font_manager.py:273: UserWarning: Matplotlib is building the font cache using fc-list. This may take a moment.\n",
      "  warnings.warn('Matplotlib is building the font cache using fc-list. This may take a moment.')\n"
     ]
    },
    {
     "name": "stdout",
     "output_type": "stream",
     "text": [
      "Chance is 0.478097765171\n",
      "Building a logreg model with 22 time\n",
      "Fold 1\n",
      "Fold 2\n",
      "Fold 3\n",
      "Confusion matrix, without normalization\n"
     ]
    },
    {
     "data": {
      "image/png": "[encoded data removed]",
      "text/plain": [
       "<matplotlib.figure.Figure at 0x10459c710>"
      ]
     },
     "metadata": {},
     "output_type": "display_data"
    },
    {
     "name": "stdout",
     "output_type": "stream",
     "text": [
      "Average accuracy 0.491730616094\n",
      "Building a logreg model with 1650 code\n",
      "Fold 1\n",
      "Fold 2\n",
      "Fold 3\n",
      "Confusion matrix, without normalization\n"
     ]
    },
    {
     "data": {
      "image/png": "[encoded data removed]",
      "text/plain": [
       "<matplotlib.figure.Figure at 0xa305cea90>"
      ]
     },
     "metadata": {},
     "output_type": "display_data"
    },
    {
     "name": "stdout",
     "output_type": "stream",
     "text": [
      "Average accuracy 0.768030056495\n",
      "Building a logreg model with 1672 all\n",
      "Fold 1\n",
      "Fold 2\n",
      "Fold 3\n",
      "Confusion matrix, without normalization\n"
     ]
    },
    {
     "data": {
      "image/png": "[encoded data removed]",
      "text/plain": [
       "<matplotlib.figure.Figure at 0xa2c085990>"
      ]
     },
     "metadata": {},
     "output_type": "display_data"
    },
    {
     "name": "stdout",
     "output_type": "stream",
     "text": [
      "Average accuracy 0.769288186684\n"
     ]
    }
   ],
   "source": [
    "from sklearn.cross_validation import StratifiedKFold\n",
    "from sklearn.neighbors import KNeighborsClassifier\n",
    "from  sklearn.metrics import f1_score \n",
    "from sklearn.linear_model import LogisticRegression\n",
    "from sklearn.metrics import confusion_matrix\n",
    "import matplotlib.pyplot as plt\n",
    "%matplotlib inline \n",
    "from plotcnf import plot_confusion_matrix\n",
    "\n",
    "print 'Chance is', max(numpy.bincount(y))/float(len(y))\n",
    "\n",
    "\n",
    "foldindices = StratifiedKFold(y)\n",
    "\n",
    "labels = map(lambda x:x[0], sorted(langgroup_num_map.items(), key=lambda x:x[1]))  \n",
    "# languages corresponding to class labels as a list\n",
    "\n",
    "    \n",
    "k = 70 #num neighbors for kNN\n",
    "\n",
    "classifiers = [('logreg', LogisticRegression())]  # no knn because it's too slow \n",
    "#multi_class='multinomial', \n",
    "                                                             \n",
    "\n",
    "for modelname, model in classifiers:\n",
    "    for featname, X in [('time', Xtime), ('code', Xcode), ('all', Xall)]:\n",
    "        print  'Building a', modelname, 'model with', X.shape[1], featname\n",
    "    \n",
    "        cvaccs = numpy.zeros(len(foldindices))\n",
    "        #cvf1 = numpy.zeros(len(foldindices))\n",
    "        for i, (trainidx, testidx) in enumerate(foldindices):\n",
    "            print 'Fold', i+1\n",
    "        \n",
    "            ytrain = y[trainidx]\n",
    "            ytest = y[testidx]\n",
    "        \n",
    "            Xtrain = X[trainidx, :]  \n",
    "            Xtest = X[testidx, :]\n",
    "            \n",
    "            model.fit(Xtrain, ytrain)\n",
    "            cvaccs[i] = model.score(Xtest, ytest)\n",
    "        \n",
    "            predictions = model.predict(Xtest)\n",
    "            #cvf1[i] = f1_score(ytest, predictions)\n",
    "            \n",
    "            #print '****', modelname, cvaccs[i]\n",
    "        #analyze last fold only\n",
    "        cnf_matrix = confusion_matrix(ytest, predictions)  \n",
    "        plot_confusion_matrix(cnf_matrix, labels)\n",
    "        plt.show()\n",
    "        \n",
    "        print 'Average accuracy', numpy.mean(cvaccs)"
   ]
  },
  {
   "cell_type": "code",
   "execution_count": null,
   "metadata": {
    "collapsed": true
   },
   "outputs": [],
   "source": []
  }
 ],
 "metadata": {
  "anaconda-cloud": {},
  "kernelspec": {
   "display_name": "Python [default]",
   "language": "python",
   "name": "python2"
  },
  "language_info": {
   "codemirror_mode": {
    "name": "ipython",
    "version": 2
   },
   "file_extension": ".py",
   "mimetype": "text/x-python",
   "name": "python",
   "nbconvert_exporter": "python",
   "pygments_lexer": "ipython2",
   "version": "2.7.12"
  }
 },
 "nbformat": 4,
 "nbformat_minor": 0
}
