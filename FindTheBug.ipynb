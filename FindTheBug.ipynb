{
 "cells": [
  {
   "cell_type": "code",
   "execution_count": 1,
   "metadata": {
    "collapsed": true
   },
   "outputs": [],
   "source": [
    "import ujson\n",
    "import numpy \n",
    "import datetime"
   ]
  },
  {
   "cell_type": "code",
   "execution_count": 2,
   "metadata": {
    "collapsed": false
   },
   "outputs": [
    {
     "name": "stdout",
     "output_type": "stream",
     "text": [
      "0 1 2 3 4 5 6 7 8 9 10 11 12 13 14 15 16 17 18 19 20 21 22 23 24 25 26 27 28 29 30 31 32 33 34 35 36 37 38 39 40 41 42 43 44 45 46\n"
     ]
    }
   ],
   "source": [
    "summaries = {}\n",
    "ctr = 0\n",
    "for line in open('user_project_summaries.json'): # lazy iteration because the file is large\n",
    "#     if ctr == 20: \n",
    "#         break\n",
    "    print ctr,\n",
    "    ctr+=1\n",
    "    summaries.update(ujson.loads(line))"
   ]
  },
  {
   "cell_type": "code",
   "execution_count": 3,
   "metadata": {
    "collapsed": true
   },
   "outputs": [],
   "source": [
    "from features import *\n",
    "import features\n",
    "reload(features)\n",
    "import sys, os\n",
    "sys.path.append(os.getcwd())"
   ]
  },
  {
   "cell_type": "code",
   "execution_count": 4,
   "metadata": {
    "collapsed": false
   },
   "outputs": [
    {
     "name": "stdout",
     "output_type": "stream",
     "text": [
      "lang data created with 43862 users and 18 languages [u'ar', u'ca', u'de', u'el', u'en', u'es', u'fr', u'he', u'it', u'ja', u'ko', u'nl', u'pl', u'pt', u'ru', u'th', u'tr', u'zh']\n"
     ]
    }
   ],
   "source": [
    "'''We are using all the data from the user from whom we we have previously \n",
    "classfied what their primary langauge is '''\n",
    "\n",
    "isocodes = ujson.load(open('isocodes.json'))  # mapping from  iso code to language name\n",
    "user_langs = ujson.load(open('user_inferredlangs.json'))  # mapping from userid to inferred language\n",
    "#remove Latin because it's not a reliable inference\n",
    "#TODO for later: get next-best language besides Latin in the inference function\n",
    "# remove uncommon languages\n",
    "lang_counts = {}\n",
    "for user in user_langs:\n",
    "    lang = user_langs[user]\n",
    "    lang_counts[lang] = lang_counts.get(lang, 0) + 1\n",
    "    ctr+=1\n",
    "user_langs = {user: lang for user, lang in user_langs.items() if lang!='la' and lang_counts[lang]>=100 and user in summaries}\n",
    "langset = sorted(list(set(user_langs.values())))\n",
    "lang_num_map = {lang: i for i, lang in enumerate(langset)} #key is langauge isocode, value is number \n",
    "print 'lang data created with', len(user_langs), 'users and', len(langset), 'languages', langset"
   ]
  },
  {
   "cell_type": "code",
   "execution_count": 5,
   "metadata": {
    "collapsed": true
   },
   "outputs": [],
   "source": [
    "# time utilities\n",
    "def convert_time(el):\n",
    "    \"\"\"Human readable time\"\"\"\n",
    "    el = int(str(el)[:10])\n",
    "    return datetime.date.fromtimestamp(el)\n",
    "\n",
    "def timediff(t1, t2):\n",
    "    \"\"\"difference between times (millisec precision) as days\"\"\"\n",
    "    return (t1-t2)/(86400.*1000)"
   ]
  },
  {
   "cell_type": "markdown",
   "metadata": {},
   "source": [
    "### Filter Tutorials"
   ]
  },
  {
   "cell_type": "code",
   "execution_count": 6,
   "metadata": {
    "collapsed": false
   },
   "outputs": [
    {
     "name": "stdout",
     "output_type": "stream",
     "text": [
      "0 1 2 3 4 5 6 7 8 9 00999 p005_006_Draw\n",
      "00999 p002_002_WildLifeShow\n",
      "00999 p010_010_RememberInformation\n",
      "00999 p011_011_DetermineLocation\n",
      "00999 p006_004_Draw2\n",
      "00999 p012_012_ProcessAList\n",
      "00999 p008_008_MoleMash\n"
     ]
    }
   ],
   "source": [
    "not_tutorials = {}\n",
    "\n",
    "for i in range(10): \n",
    "    print i, \n",
    "    notT_list = ujson.load(open('tutorial_comparisons/nottutorials_' + str(i) +'.json'))\n",
    "    for entry in notT_list: \n",
    "        if entry[0] not in summaries:\n",
    "            continue\n",
    "        proj_name = entry[1].split(\"_summary.json\")[0]\n",
    "        if entry[0] not in not_tutorials: \n",
    "            not_tutorials[entry[0]] = {}\n",
    "        try: \n",
    "            not_tutorials[entry[0]][proj_name] = summaries[entry[0]][proj_name]\n",
    "        except KeyError: \n",
    "            print entry[0], proj_name\n"
   ]
  },
  {
   "cell_type": "code",
   "execution_count": 7,
   "metadata": {
    "collapsed": false
   },
   "outputs": [],
   "source": [
    "not_tutorials = {user: not_tutorials[user] for user in not_tutorials.keys() if len(not_tutorials[user])>0}\n",
    "# SR's fix"
   ]
  },
  {
   "cell_type": "markdown",
   "metadata": {},
   "source": [
    "# Featurizers"
   ]
  },
  {
   "cell_type": "markdown",
   "metadata": {},
   "source": [
    "## Time featurizer"
   ]
  },
  {
   "cell_type": "code",
   "execution_count": 8,
   "metadata": {
    "collapsed": true
   },
   "outputs": [],
   "source": [
    "def projectLengthFeatures(projects):\n",
    "    \"\"\"moments of project lengths and intervals, as well as number of projects\"\"\"\n",
    "    lengths = getProjectLengths(projects)\n",
    "    intervals = getProjectIntervals(projects)\n",
    "    \n",
    "    #note: feature names are for our reference only\n",
    "    userDict = {} \n",
    "    userDict[\"mean of lengths\"] = numpy.mean(lengths)\n",
    "    userDict[\"stddev of lengths\"] = numpy.std(lengths)\n",
    "    userDict[\"mean of intervals\"] = numpy.mean(lengths)\n",
    "    userDict[\"stddev of intervals\"] = numpy.std(lengths)\n",
    "    \n",
    "    userDict[\"num projects\"] = numProjects(projects)\n",
    "    \n",
    "    return userDict"
   ]
  },
  {
   "cell_type": "code",
   "execution_count": 9,
   "metadata": {
    "collapsed": true
   },
   "outputs": [],
   "source": [
    "def dayAnalysisFeatures(projects):\n",
    "    \"\"\"number of projects on each day of the week, and the percentage of them on a weekday\"\"\"\n",
    "    byday = numOnDay(projects)\n",
    "\n",
    "    userDict = {day: byday[i] for i, day in enumerate([\"Monday\", \n",
    "                                                       \"Tuesday\", \n",
    "                                                       \"Wednesday\", \n",
    "                                                       \"Thursday\", \n",
    "                                                       \"Friday\", \n",
    "                                                       \"Saturday\", \n",
    "                                                       \"Sunday\"])}\n",
    "    return userDict"
   ]
  },
  {
   "cell_type": "code",
   "execution_count": 10,
   "metadata": {
    "collapsed": true
   },
   "outputs": [],
   "source": [
    "def decileProjects(projects):\n",
    "    numbins = 10\n",
    "    hist = projectsPerUserPeriod(projects, bins=numbins)\n",
    "    \n",
    "    userDict = {'decile '+str(i+1): hist[i] for i in range(numbins)}\n",
    "    return userDict"
   ]
  },
  {
   "cell_type": "markdown",
   "metadata": {},
   "source": [
    "## Code Features\n"
   ]
  },
  {
   "cell_type": "code",
   "execution_count": 11,
   "metadata": {
    "collapsed": true
   },
   "outputs": [],
   "source": [
    "def deltaDeciles(decileDict, name):\n",
    "    values = sortDeciles(decileDict)\n",
    "    deltas = {}\n",
    "    for i in range(10): \n",
    "        if i== 0: pass\n",
    "        else: deltas[str(i) + \" \" + name] = values[i]-values[i-1]\n",
    "    return deltas\n",
    "\n",
    "\n",
    "def sortDeciles(decileDict):\n",
    "    deciles_sorted = []\n",
    "    keys = decileDict.keys()\n",
    "    for key in keys: \n",
    "        deciles_sorted.insert(int(key[-1]), decileDict[key])\n",
    "    return deciles_sorted\n",
    "\n"
   ]
  },
  {
   "cell_type": "code",
   "execution_count": 12,
   "metadata": {
    "collapsed": true
   },
   "outputs": [],
   "source": [
    "def summaryOBlockDecile(projects): \n",
    "    hist = decileOrphanBlocks(projects)\n",
    "    userDict = {'Orphan Decile '+str(i+1): hist[i] for i in range(10)}\n",
    "    return userDict"
   ]
  },
  {
   "cell_type": "code",
   "execution_count": 13,
   "metadata": {
    "collapsed": true
   },
   "outputs": [],
   "source": [
    "def summaryDecileTLBlocks(projects): \n",
    "    hist = decileTypesTopLevelBlocks(projects)\n",
    "    userDict = {'TopLevel Decile '+str(i+1): hist[i] for i in range(10)}\n",
    "    return userDict"
   ]
  },
  {
   "cell_type": "code",
   "execution_count": 14,
   "metadata": {
    "collapsed": true
   },
   "outputs": [],
   "source": [
    "def summaryDecileNumScreens(projects): \n",
    "    hist = decileNumScreens(projects)\n",
    "    userDict = {'NumScreens Decile '+str(i+1): hist[i] for i in range(10)}\n",
    "    return userDict"
   ]
  },
  {
   "cell_type": "code",
   "execution_count": 15,
   "metadata": {
    "collapsed": true
   },
   "outputs": [],
   "source": [
    "def summaryDeltasTLBlocks(projects): \n",
    "    tlblocks = summaryDecileTLBlocks(projects)\n",
    "    return deltaDeciles(tlblocks, \"TL blocks delta\")"
   ]
  },
  {
   "cell_type": "code",
   "execution_count": 16,
   "metadata": {
    "collapsed": true
   },
   "outputs": [],
   "source": [
    "def summaryDeltasOBlock(projects): \n",
    "    oblock = summaryOBlockDecile(projects)\n",
    "    return deltaDeciles(oblock,\"O blocks delta\")"
   ]
  },
  {
   "cell_type": "code",
   "execution_count": 17,
   "metadata": {
    "collapsed": true
   },
   "outputs": [],
   "source": [
    "def summaryDeltasNumScreens(projects): \n",
    "    numscreens = summaryDecileNumScreens(projects)\n",
    "    return deltaDeciles(numscreens, \"numscreens blocks delta\")"
   ]
  },
  {
   "cell_type": "code",
   "execution_count": 36,
   "metadata": {
    "collapsed": true
   },
   "outputs": [],
   "source": [
    "def summaryAverages(projects):\n",
    "    userDict = {} \n",
    "    userDict[\"mean of numScreens\"] = numpy.mean(getNumScreens(projects))\n",
    "    userDict[\"NB\"] = averageNumBlocks(projects)\n",
    "    userDict[\"OB\"] = getAverageOrphanBlocks(projects)\n",
    "    \n",
    "    userDict[\"TL\"] = getAverageTypeTLBlocks(projects)\n",
    "    userDict[\"TL2\"] = getAverageNumTLBlocks(projects)\n",
    "    \n",
    "    userDict[\"NC\"] = averageNumComponents(projects)\n",
    "    userDict[\"NTC\"] = averageNumTypeComponents(projects)\n",
    "\n",
    "    userDict[\"MC\"] = aveNumMediaAssets(projects)\n",
    "    \n",
    "    userDict[\"NP\"] = averageNumProcedures(projects)\n",
    "    userDict[\"NS\"] = averageNumStrings(projects) \n",
    "    \n",
    "    #userDict[\"KW\"] = countKeywords(projects)\n",
    "    \n",
    "    varList = getAllVariables(projects)\n",
    "    userDict[\"local vars\"] = varList[0]\n",
    "    userDict[\"global vars\"] = varList[1]\n",
    "    \n",
    "    controls_dict = getControlsBlocks(projects)\n",
    "    userDict['controls_if'] = controls_dict['controls_if']\n",
    "    userDict['controls_forEach'] = controls_dict['controls_forEach']\n",
    "    userDict['controls_choose'] = controls_dict['controls_choose']\n",
    "    userDict['controls_while'] = controls_dict['controls_while']\n",
    "\n",
    "\n",
    "\n",
    "    return userDict"
   ]
  },
  {
   "cell_type": "code",
   "execution_count": 87,
   "metadata": {
    "collapsed": true
   },
   "outputs": [],
   "source": [
    "def classesFeaturizers(projects): \n",
    "    userDict = {} \n",
    "    classes = getClasses(projects)\n",
    "    cList = ['TableArrangement', 'DatePicker', 'Canvas', \n",
    "             'CheckBox', 'Web', 'Clock', 'BluetoothServer', \n",
    "             'ActivityStarter', 'Texting', 'Label', 'Spinner', \n",
    "             'Camera', 'BluetoothClient', 'PhoneCall', 'LocationSensor', \n",
    "             'VerticalArrangement', 'HorizontalArrangement', 'Sharing', \n",
    "             'TextToSpeech', 'GoogleMap', 'Slider', 'OrientationSensor', \n",
    "             'ListView', 'PhoneNumberPicker', 'TinyDB', 'NxtDirectCommands', \n",
    "             'Sound', 'ListPicker', 'SpeechRecognizer', 'Button', 'WebViewer',\n",
    "             'BarcodeScanner', 'NxtDrive', 'Camcorder', 'Notifier', 'TextBox',\n",
    "             'AccelerometerSensor', 'Image', 'VideoPlayer', 'TinyWebDB',\n",
    "             'Player', 'File', 'YandexTranslate']\n",
    "   \n",
    "    for key in cList: \n",
    "        userDict[key] = classes[key]\n",
    "        \n",
    "    return userDict"
   ]
  },
  {
   "cell_type": "code",
   "execution_count": 91,
   "metadata": {
    "collapsed": false
   },
   "outputs": [
    {
     "name": "stdout",
     "output_type": "stream",
     "text": [
      "1000 2000 3000 4000 5000 6000 7000 8000 9000 10000 11000 12000 13000 14000 15000 16000 17000 18000 19000 20000 21000 22000 23000 24000 25000 26000 27000 28000 29000 30000 31000 32000 33000 34000 35000 36000 37000 38000 39000 40000 41000 42000 43000\n"
     ]
    }
   ],
   "source": [
    "j = 0\n",
    "for user in userlabels:\n",
    "    if user in not_tutorials: \n",
    "        j+=1\n",
    "        if j % 1000 == 0: \n",
    "            print j,\n",
    "        projects = getAllProjects(userID, True)\n",
    "        classesFeaturizers(projects)\n",
    "        "
   ]
  },
  {
   "cell_type": "code",
   "execution_count": 21,
   "metadata": {
    "collapsed": false
   },
   "outputs": [],
   "source": [
    "def getControlsBlocks(projects):\n",
    "    controls_dict = {'controls_if': 0, 'controls_forEach': 0 , 'controls_while': 0, 'controls_choose': 0}\n",
    "    numScreens = getScreenNames(projects)\n",
    "    i= 0\n",
    "    while i < len(projects):\n",
    "        for screenName in numScreens[i]:\n",
    "            if screenName in projects[i] and 'Active Blocks' in projects[i][screenName] and 'Types' in projects[i][screenName]['Blocks']['Active Blocks']:\n",
    "                allBlocks = projects[i][screenName]['Blocks']['Active Blocks']['Types']\n",
    "                \n",
    "                if 'controls_if' in allBlocks: \n",
    "                    controls_dict['controls_if'] += projects[i][screenName]['Blocks']['Active Blocks']['Types']['controls_if']\n",
    "                if 'controls_forEach' in allBlocks: \n",
    "                    controls_dict['controls_forEach'] += projects[i][screenName]['Blocks']['Active Blocks']['Types']['controls_forEach']\n",
    "                if 'controls_while' in allBlocks: \n",
    "                    controls_dict['controls_while'] += projects[i][screenName]['Blocks']['Active Blocks']['Types']['controls_while']\n",
    "                if 'controls_choose' in allBlocks: \n",
    "                    controls_dict['controls_choose'] += projects[i][screenName]['Blocks']['Active Blocks']['Types']['controls_choose']\n",
    "               \n",
    "        i+=1\n",
    "    final_dict = normalizeDict(controls_dict, projects)\n",
    "    return final_dict"
   ]
  },
  {
   "cell_type": "code",
   "execution_count": 22,
   "metadata": {
    "collapsed": false
   },
   "outputs": [],
   "source": [
    "def normalizeDict(d, projects): \n",
    "    np = numProjects(projects)\n",
    "    if float(np) == 0: np == 1\n",
    "    for entry in d: \n",
    "        try: \n",
    "            d[entry] = d[entry] / float(np)\n",
    "        except ZeroDivisionError: \n",
    "            print entry, np\n",
    "    return d\n"
   ]
  },
  {
   "cell_type": "code",
   "execution_count": null,
   "metadata": {
    "collapsed": true
   },
   "outputs": [],
   "source": []
  },
  {
   "cell_type": "code",
   "execution_count": 92,
   "metadata": {
    "collapsed": false
   },
   "outputs": [],
   "source": [
    "def getClasses(projects):\n",
    "    class_dict = {u'TableArrangement':0, u'DatePicker':0, u'Canvas':0,\n",
    "                  u'CheckBox':0, u'Web':0, u'Clock':0, u'BluetoothServer':0, u'ActivityStarter':0,\n",
    "                  u'Texting':0, u'Label':0, u'Spinner':0, u'Camera':0, u'BluetoothClient':0, \n",
    "                  u'PhoneCall':0, u'LocationSensor':0, u'VerticalArrangement':0,\n",
    "                  u'HorizontalArrangement':0, u'Sharing':0, u'TextToSpeech':0,\n",
    "                  u'GoogleMap' :0, u'Slider':0, u'OrientationSensor':0, u'ListView':0, \n",
    "                  u'PhoneNumberPicker':0, u'TinyDB':0, u'NxtDirectCommands':0, u'Sound':0,\n",
    "                  u'ListPicker':0, u'SpeechRecognizer':0, u'Button':0, u'WebViewer':0, u'BarcodeScanner':0,\n",
    "                  u'NxtDrive':0, u'Camcorder':0, u'Notifier':0, u'TextBox':0, u'AccelerometerSensor':0,\n",
    "                  u'Image':0, u'VideoPlayer':0, u'TinyWebDB':0, u'Player':0, u'File':0, u'YandexTranslate':0}\n",
    "    \n",
    "    screenNames = getScreenNames(projects)\n",
    "    i= 0\n",
    "    while i < len(projects):\n",
    "        for screenName in screenNames[i]:\n",
    "            if screenName in projects[i] and 'Components' in projects[i][screenName] and 'Type and Frequency' in projects[i][screenName]['Components']:\n",
    "                types = projects[i][screenName]['Components']['Type and Frequency']\n",
    "                for entry in types: \n",
    "                    if entry in class_dict: \n",
    "                        class_dict[entry] += projects[i][screenName]['Components']['Type and Frequency'][entry]\n",
    "        i+=1\n",
    "    final_dict = normalizeDict(class_dict, projects)\n",
    "\n",
    "    return final_dict"
   ]
  },
  {
   "cell_type": "code",
   "execution_count": null,
   "metadata": {
    "collapsed": true
   },
   "outputs": [],
   "source": []
  },
  {
   "cell_type": "code",
   "execution_count": 81,
   "metadata": {
    "collapsed": false
   },
   "outputs": [
    {
     "name": "stdout",
     "output_type": "stream",
     "text": [
      "1000 2000 3000 4000 5000 6000 7000 8000 9000 10000 11000 12000 13000 14000 15000 16000 17000 18000 19000 20000 21000 22000 23000 24000 25000 26000 27000 28000 29000 30000 31000 32000 33000 34000 35000 36000 37000 38000 39000 40000 41000 42000 43000\n"
     ]
    }
   ],
   "source": [
    "masterSet = set()\n",
    "j = 0\n",
    "for user in userlabels:\n",
    "    if user in not_tutorials: \n",
    "        j+=1\n",
    "        if j % 1000 == 0: \n",
    "            print j,\n",
    "        projects = getAllProjects(userID, True)\n",
    "        screenNames = getScreenNames(projects)\n",
    "        while i < len(projects):\n",
    "            for screenName in screenNames[i]:\n",
    "                if screenName in projects[i] and 'Active Blocks' in projects[i][screenName] and 'Types' in projects[i][screenName]['Blocks']['Active Blocks']:\n",
    "                    allBlocks = projects[i][screenName]['Blocks']['Active Blocks']['Types']\n",
    "                    for c in allBlocks: \n",
    "                        if c.split(\"_\")[0] not in masterSet: \n",
    "                            masterSet.add(c.split(\"_\")[0])\n",
    "            i+=1"
   ]
  },
  {
   "cell_type": "code",
   "execution_count": 97,
   "metadata": {
    "collapsed": false
   },
   "outputs": [
    {
     "name": "stdout",
     "output_type": "stream",
     "text": [
      "math_compare\n",
      "math_random_int\n",
      "math_add\n",
      "math_number\n",
      "math_number\n",
      "math_random_int\n",
      "math_add\n",
      "math_number\n",
      "math_compare\n",
      "math_abs\n",
      "math_add\n",
      "math_single\n",
      "math_format_as_decimal\n",
      "math_on_list\n",
      "math_number\n"
     ]
    }
   ],
   "source": [
    "keys = not_tutorials['11542'].keys()\n",
    "for key in keys: \n",
    "    blocks = not_tutorials['11542'][key]['Screen1']['Blocks']['Active Blocks']['Types']\n",
    "    for block in blocks: \n",
    "        if 'math' in block:\n",
    "            print block"
   ]
  },
  {
   "cell_type": "code",
   "execution_count": 106,
   "metadata": {
    "collapsed": false,
    "scrolled": true
   },
   "outputs": [
    {
     "name": "stdout",
     "output_type": "stream",
     "text": [
      "1000 2000 3000 4000 5000 6000 7000 8000 9000 10000 11000 12000 13000 14000 15000 16000 17000 18000 19000 20000 21000 22000 23000 24000 25000 26000 27000 28000 29000 30000 31000 32000 33000 34000 35000 36000 37000 38000 39000 40000 41000 42000 43000\n"
     ]
    }
   ],
   "source": [
    "masterSet = set()\n",
    "j = 0\n",
    "for user in userlabels:\n",
    "    if user in not_tutorials: \n",
    "        j+=1\n",
    "        if j % 1000 == 0: \n",
    "            print j,\n",
    "        projects = getAllProjects(userID, True)\n",
    "        screenNames = getScreenNames(projects)\n",
    "        while i < len(projects):\n",
    "            for screenName in screenNames[i]:\n",
    "                if screenName in projects[i] and 'Active Blocks' in projects[i][screenName]['Blocks'] and 'Types' in projects[i][screenName]['Blocks']['Active Blocks']:\n",
    "                    allBlocks = projects[i][screenName]['Blocks']['Active Blocks']['Types']\n",
    "                    #for block in allBlocks: \n",
    "                        #print block\n",
    "            break\n",
    "           # i+=1"
   ]
  },
  {
   "cell_type": "code",
   "execution_count": 103,
   "metadata": {
    "collapsed": false
   },
   "outputs": [
    {
     "name": "stdout",
     "output_type": "stream",
     "text": [
      "set([])\n"
     ]
    }
   ],
   "source": [
    "print masterSet"
   ]
  },
  {
   "cell_type": "code",
   "execution_count": 90,
   "metadata": {
    "collapsed": false
   },
   "outputs": [
    {
     "name": "stdout",
     "output_type": "stream",
     "text": [
      "1000 2000 3000 4000 5000 6000 7000 8000 9000 10000 11000 12000 13000 14000 15000 16000 17000 18000 19000 20000 21000 22000 23000 24000 25000 26000 27000 28000 29000 30000 31000 32000 33000 34000 35000 36000 37000 38000 39000 40000 41000 42000 43000\n"
     ]
    }
   ],
   "source": [
    "j = 0\n",
    "math_\n",
    "for user in userlabels:\n",
    "    if user in not_tutorials: \n",
    "        j+=1\n",
    "        if j % 1000 == 0: \n",
    "            print j,\n",
    "        projects = getAllProjects(userID, True)\n",
    "        for block in blocks: \n",
    "            if 'math' in block:\n",
    "                print block\n",
    "        "
   ]
  },
  {
   "cell_type": "markdown",
   "metadata": {},
   "source": [
    "### Setup"
   ]
  },
  {
   "cell_type": "code",
   "execution_count": 24,
   "metadata": {
    "collapsed": true
   },
   "outputs": [],
   "source": [
    "def combine_featfuncs(funclist):\n",
    "    def combined(user):\n",
    "        basedict = funclist[0](user)\n",
    "        for f in funclist[1:]:\n",
    "            basedict.update(f(user))\n",
    "        return basedict\n",
    "    return combined"
   ]
  },
  {
   "cell_type": "code",
   "execution_count": 31,
   "metadata": {
    "collapsed": false
   },
   "outputs": [],
   "source": [
    "def getAllProjects(userID, no_tutorials): \n",
    "    \"\"\"list of projects sorted by creation times\"\"\"\n",
    "    if (no_tutorials):\n",
    "        try: \n",
    "            projectlist = not_tutorials[userID].values()\n",
    "        except:\n",
    "            print userID\n",
    "    else: \n",
    "        projectlist = summaries[userID].values()\n",
    "    return sorted(projectlist,\n",
    "                  key=lambda project: project['**created']) \n",
    "\n",
    "def userDuration(projectlist):\n",
    "    \"\"\"get the duration (difference between last and earliest creation dates)\"\"\"\n",
    "    return timediff(projectlist[-1]['**created'], projectlist[0]['**created'])\n",
    "\n",
    "\n",
    "def getProjects(userID, no_tutorials):\n",
    "    return getAllProjects(userID, no_tutorials)\n",
    "     "
   ]
  },
  {
   "cell_type": "code",
   "execution_count": 27,
   "metadata": {
    "collapsed": true
   },
   "outputs": [],
   "source": [
    "langgroups = {'es': 'eur',\n",
    "              'pt': 'eur', \n",
    "              'it': 'eur', \n",
    "              'de': 'eur', \n",
    "              'fr': 'eur', \n",
    "              'ca': 'eur', \n",
    "              'el': 'eur', \n",
    "              'nl': 'eur', \n",
    "              'pl': 'eur', \n",
    "              'ru': 'eur',\n",
    "              'ko': 'asia', \n",
    "              'zh': 'asia', \n",
    "              'ja': 'asia', \n",
    "              'th': 'asia'}\n",
    "langgroup_num_map = {'eur': 0, 'asia': 1}\n",
    "\n"
   ]
  },
  {
   "cell_type": "code",
   "execution_count": 28,
   "metadata": {
    "collapsed": true
   },
   "outputs": [],
   "source": [
    "def get_user_labels():\n",
    "    return {user: lang_num_map[lang] for user, lang in user_langs.items()}"
   ]
  },
  {
   "cell_type": "code",
   "execution_count": 88,
   "metadata": {
    "collapsed": true
   },
   "outputs": [],
   "source": [
    "time_combined = combine_featfuncs([projectLengthFeatures, dayAnalysisFeatures,decileProjects])\n",
    "code_combined = combine_featfuncs([summaryOBlockDecile,summaryDecileTLBlocks,summaryDecileNumScreens,summaryDeltasTLBlocks,summaryDeltasOBlock,summaryDeltasNumScreens, summaryAverages, classesFeaturizers])  "
   ]
  },
  {
   "cell_type": "code",
   "execution_count": 93,
   "metadata": {
    "collapsed": false
   },
   "outputs": [
    {
     "name": "stdout",
     "output_type": "stream",
     "text": [
      "1 2 3 4 5 6 7 8 9 10 11 12 13 14 15 16 17 18 19 20 21 22 23 24 25 26 27 28 29 30 31 32 33 34 35 36 37 38 39 40 41 42 43\n"
     ]
    }
   ],
   "source": [
    "from sklearn.feature_extraction import DictVectorizer\n",
    "\n",
    "all_features = []\n",
    "time_features = [] \n",
    "code_features = []\n",
    "\n",
    "userlabels = get_user_labels()\n",
    "\n",
    "y = []\n",
    "ctr = 0\n",
    "for user in userlabels:\n",
    "    if user in not_tutorials: \n",
    "\n",
    "        projects = getProjects(user, True)  # this returns projects sorted by creation date that include tutorials \n",
    "\n",
    "        y.append(userlabels[user])\n",
    "\n",
    "        time_features.append(time_combined(projects))\n",
    "        code_features.append(code_combined(projects))\n",
    "\n",
    "\n",
    "        # merge time and code feature dicts\n",
    "        all_features_user = time_features[-1].copy()\n",
    "        all_features_user.update(code_features[-1])\n",
    "        all_features.append(all_features_user)\n",
    "\n",
    "        ctr+=1\n",
    "        if ctr%1000==0:\n",
    "            print ctr/1000,\n",
    "        \n",
    "\n",
    "\n",
    "y = numpy.array(y)\n",
    "\n",
    "timevec = DictVectorizer()\n",
    "\n",
    "Xtime = timevec.fit_transform(time_features) \n",
    "\n",
    "codevec = DictVectorizer()\n",
    "\n",
    "Xcode = codevec.fit_transform(code_features)\n",
    "\n",
    "allvec = DictVectorizer()\n",
    "\n",
    "Xall = allvec.fit_transform(all_features)\n"
   ]
  },
  {
   "cell_type": "code",
   "execution_count": 94,
   "metadata": {
    "collapsed": true
   },
   "outputs": [],
   "source": [
    "from sklearn.preprocessing import scale\n",
    "from numpy import *\n",
    "# # convert to dense matrices since these are dense anyway\n",
    "Xtime = scale(Xtime.toarray())\n",
    "Xcode = scale(Xcode.toarray())\n",
    "Xall = scale(Xall.toarray())"
   ]
  },
  {
   "cell_type": "code",
   "execution_count": 95,
   "metadata": {
    "collapsed": false,
    "scrolled": false
   },
   "outputs": [
    {
     "name": "stdout",
     "output_type": "stream",
     "text": [
      "Chance is 0.478097765171\n",
      "Building a logreg model with 22 time\n",
      "Fold 1\n",
      "Fold 2\n",
      "Fold 3\n",
      "Confusion matrix, without normalization\n"
     ]
    },
    {
     "data": {
      "image/png": "[encoded data removed]",
      "text/plain": [
       "<matplotlib.figure.Figure at 0x6113d0a90>"
      ]
     },
     "metadata": {},
     "output_type": "display_data"
    },
    {
     "name": "stdout",
     "output_type": "stream",
     "text": [
      "Average accuracy 0.491730616094\n",
      "Building a logreg model with 116 code\n",
      "Fold 1\n",
      "Fold 2\n",
      "Fold 3\n",
      "Confusion matrix, without normalization\n"
     ]
    },
    {
     "data": {
      "image/png": "[encoded data removed]",
      "text/plain": [
       "<matplotlib.figure.Figure at 0x638a1c250>"
      ]
     },
     "metadata": {},
     "output_type": "display_data"
    },
    {
     "name": "stdout",
     "output_type": "stream",
     "text": [
      "Average accuracy 0.631676581245\n",
      "Building a logreg model with 138 all\n",
      "Fold 1\n",
      "Fold 2\n",
      "Fold 3\n",
      "Confusion matrix, without normalization\n"
     ]
    },
    {
     "data": {
      "image/png": "[encoded data removed]",
      "text/plain": [
       "<matplotlib.figure.Figure at 0x614318610>"
      ]
     },
     "metadata": {},
     "output_type": "display_data"
    },
    {
     "name": "stdout",
     "output_type": "stream",
     "text": [
      "Average accuracy 0.641512151032\n"
     ]
    }
   ],
   "source": [
    "from sklearn.cross_validation import StratifiedKFold\n",
    "from sklearn.neighbors import KNeighborsClassifier\n",
    "from  sklearn.metrics import f1_score \n",
    "from sklearn.linear_model import LogisticRegression\n",
    "from sklearn.metrics import confusion_matrix\n",
    "import matplotlib.pyplot as plt\n",
    "%matplotlib inline \n",
    "from plotcnf import plot_confusion_matrix\n",
    "\n",
    "print 'Chance is', max(numpy.bincount(y))/float(len(y))\n",
    "\n",
    "\n",
    "foldindices = StratifiedKFold(y)\n",
    "\n",
    "labels = map(lambda x:x[0], sorted(langgroup_num_map.items(), key=lambda x:x[1]))  \n",
    "# languages corresponding to class labels as a list\n",
    "\n",
    "    \n",
    "k = 70 #num neighbors for kNN\n",
    "\n",
    "classifiers = [('logreg', LogisticRegression())]  # no knn because it's too slow \n",
    "#multi_class='multinomial', \n",
    "                                                             \n",
    "\n",
    "for modelname, model in classifiers:\n",
    "    for featname, X in [('time', Xtime), ('code', Xcode), ('all', Xall)]:\n",
    "        print  'Building a', modelname, 'model with', X.shape[1], featname\n",
    "    \n",
    "        cvaccs = numpy.zeros(len(foldindices))\n",
    "        #cvf1 = numpy.zeros(len(foldindices))\n",
    "        for i, (trainidx, testidx) in enumerate(foldindices):\n",
    "            print 'Fold', i+1\n",
    "        \n",
    "            ytrain = y[trainidx]\n",
    "            ytest = y[testidx]\n",
    "        \n",
    "            Xtrain = X[trainidx, :]  \n",
    "            Xtest = X[testidx, :]\n",
    "            \n",
    "            model.fit(Xtrain, ytrain)\n",
    "            cvaccs[i] = model.score(Xtest, ytest)\n",
    "        \n",
    "            predictions = model.predict(Xtest)\n",
    "            #cvf1[i] = f1_score(ytest, predictions)\n",
    "            \n",
    "            #print '****', modelname, cvaccs[i]\n",
    "        #analyze last fold only\n",
    "        cnf_matrix = confusion_matrix(ytest, predictions)  \n",
    "        plot_confusion_matrix(cnf_matrix, labels)\n",
    "        plt.show()\n",
    "        \n",
    "        print 'Average accuracy', numpy.mean(cvaccs)"
   ]
  },
  {
   "cell_type": "code",
   "execution_count": null,
   "metadata": {
    "collapsed": true
   },
   "outputs": [],
   "source": []
  }
 ],
 "metadata": {
  "anaconda-cloud": {},
  "kernelspec": {
   "display_name": "Python [default]",
   "language": "python",
   "name": "python2"
  },
  "language_info": {
   "codemirror_mode": {
    "name": "ipython",
    "version": 2
   },
   "file_extension": ".py",
   "mimetype": "text/x-python",
   "name": "python",
   "nbconvert_exporter": "python",
   "pygments_lexer": "ipython2",
   "version": "2.7.12"
  }
 },
 "nbformat": 4,
 "nbformat_minor": 0
}
