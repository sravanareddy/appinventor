{
 "cells": [
  {
   "cell_type": "code",
   "execution_count": 1,
   "metadata": {
    "collapsed": false
   },
   "outputs": [],
   "source": [
    "import ujson\n",
    "import numpy \n",
    "import datetime\n",
    "import json"
   ]
  },
  {
   "cell_type": "code",
   "execution_count": 2,
   "metadata": {
    "collapsed": false
   },
   "outputs": [
    {
     "name": "stdout",
     "output_type": "stream",
     "text": [
      "1 2 3 4 5 6 7 8 9 10 11 12 13 14 15 16 17 18 19 20 21 22 23 24 25 26 27 28 29 30 31 32 33 34 35 36 37 38 39 40 41 42 43 44 45 46 47\n"
     ]
    }
   ],
   "source": [
    "summaries = {}\n",
    "ctr = 0\n",
    "for line in open('user_project_summaries.json'): # lazy iteration because the file is large\n",
    "    ctr+=1\n",
    "    summaries.update(ujson.loads(line))  \n",
    "    print ctr,"
   ]
  },
  {
   "cell_type": "code",
   "execution_count": 5,
   "metadata": {
    "collapsed": false
   },
   "outputs": [],
   "source": [
    "from features import *\n",
    "import features\n",
    "reload(features)\n",
    "import sys, os\n",
    "sys.path.append(os.getcwd())\n"
   ]
  },
  {
   "cell_type": "code",
   "execution_count": 4,
   "metadata": {
    "collapsed": true
   },
   "outputs": [],
   "source": [
    "# c = 0 \n",
    "# for userID in summaries: \n",
    "#     c += numProjects(getAllProjects(userID))"
   ]
  },
  {
   "cell_type": "code",
   "execution_count": 10,
   "metadata": {
    "collapsed": false
   },
   "outputs": [
    {
     "name": "stdout",
     "output_type": "stream",
     "text": [
      " 1000 2000 3000 4000 5000 6000 7000 8000 9000 10000 11000 12000 13000 14000 15000 16000 17000 18000 19000 20000 21000 22000 23000 24000 25000 26000 27000 28000 29000 30000 31000 32000 33000 34000 35000 36000 37000 38000 39000 40000 41000 42000 43000 44000 45000 lang data created with 43862 users and 18 languages [u'ar', u'ca', u'de', u'el', u'en', u'es', u'fr', u'he', u'it', u'ja', u'ko', u'nl', u'pl', u'pt', u'ru', u'th', u'tr', u'zh']\n"
     ]
    }
   ],
   "source": [
    "'''We are using all the data from the user from whom we we have previously \n",
    "classfied what their primary langauge is '''\n",
    "ctr=0\n",
    "isocodes = ujson.load(open('isocodes.json'))  # mapping from  iso code to language name\n",
    "user_langs = ujson.load(open('user_inferredlangs.json'))  # mapping from userid to inferred language\n",
    "#remove Latin because it's not a reliable inference\n",
    "#TODO for later: get next-best language besides Latin in the inference function\n",
    "# remove uncommon languages\n",
    "lang_counts = {}\n",
    "for user in user_langs:\n",
    "    lang = user_langs[user]\n",
    "    lang_counts[lang] = lang_counts.get(lang, 0) + 1\n",
    "    ctr+=1\n",
    "    if ctr %1000 == 0: \n",
    "        print ctr,\n",
    "user_langs = {user: lang for user, lang in user_langs.items() if lang!='la' and lang_counts[lang]>=100 and user in summaries}\n",
    "langset = sorted(list(set(user_langs.values())))\n",
    "lang_num_map = {lang: i for i, lang in enumerate(langset)} #key is langauge isocode, value is number \n",
    "print 'lang data created with', len(user_langs), 'users and', len(langset), 'languages', langset"
   ]
  },
  {
   "cell_type": "code",
   "execution_count": 11,
   "metadata": {
    "collapsed": true
   },
   "outputs": [],
   "source": [
    "# time utilities\n",
    "def convert_time(el):\n",
    "    \"\"\"Human readable time\"\"\"\n",
    "    el = int(str(el)[:10])\n",
    "    return datetime.date.fromtimestamp(el)\n",
    "\n",
    "def timediff(t1, t2):\n",
    "    \"\"\"difference between times (millisec precision) as days\"\"\"\n",
    "    return (t1-t2)/(86400.*1000)"
   ]
  },
  {
   "cell_type": "markdown",
   "metadata": {},
   "source": [
    "### Filter Tutorials"
   ]
  },
  {
   "cell_type": "code",
   "execution_count": 181,
   "metadata": {
    "collapsed": true
   },
   "outputs": [],
   "source": [
    "filter_tutorials = True"
   ]
  },
  {
   "cell_type": "code",
   "execution_count": 182,
   "metadata": {
    "collapsed": false
   },
   "outputs": [
    {
     "name": "stdout",
     "output_type": "stream",
     "text": [
      "0 1 2 3 4 5 6 7 8 9 00999 p005_006_Draw\n",
      "00999 p002_002_WildLifeShow\n",
      "00999 p010_010_RememberInformation\n",
      "00999 p011_011_DetermineLocation\n",
      "00999 p006_004_Draw2\n",
      "00999 p012_012_ProcessAList\n",
      "00999 p008_008_MoleMash\n"
     ]
    }
   ],
   "source": [
    "if filter_tutorials: \n",
    "    not_tutorials = {}\n",
    "\n",
    "    for i in range(10): \n",
    "        print i, \n",
    "        notT_list = ujson.load(open('tutorial_comparisons/nottutorials_' + str(i) +'.json'))\n",
    "        for entry in notT_list: \n",
    "            if entry[0] not in summaries:\n",
    "                continue\n",
    "            proj_name = entry[1].split(\"_summary.json\")[0]\n",
    "            if entry[0] not in not_tutorials: \n",
    "                not_tutorials[entry[0]] = {}\n",
    "            try: \n",
    "                not_tutorials[entry[0]][proj_name] = summaries[entry[0]][proj_name]\n",
    "            except KeyError: \n",
    "                print entry[0], proj_name\n"
   ]
  },
  {
   "cell_type": "code",
   "execution_count": null,
   "metadata": {
    "collapsed": true
   },
   "outputs": [],
   "source": []
  },
  {
   "cell_type": "code",
   "execution_count": 183,
   "metadata": {
    "collapsed": false
   },
   "outputs": [],
   "source": [
    "not_tutorials = {user: not_tutorials[user] for user in not_tutorials.keys() if len(not_tutorials[user])>0}\n",
    "# SR's fix"
   ]
  },
  {
   "cell_type": "markdown",
   "metadata": {},
   "source": [
    "# Featurizers"
   ]
  },
  {
   "cell_type": "markdown",
   "metadata": {},
   "source": [
    "## Time featurizer"
   ]
  },
  {
   "cell_type": "code",
   "execution_count": 33,
   "metadata": {
    "collapsed": false
   },
   "outputs": [],
   "source": [
    "def projectLengthFeatures(projects):\n",
    "    \"\"\"moments of project lengths and intervals, as well as number of projects\"\"\"\n",
    "    lengths = getProjectLengths(projects)\n",
    "    intervals = getProjectIntervals(projects)\n",
    "    \n",
    "    #note: feature names are for our reference only\n",
    "    userDict = {} \n",
    "    userDict[\"mean of lengths\"] = numpy.mean(lengths)\n",
    "    userDict[\"stddev of lengths\"] = numpy.std(lengths)\n",
    "    userDict[\"mean of intervals\"] = numpy.mean(lengths)\n",
    "    userDict[\"stddev of intervals\"] = numpy.std(lengths)\n",
    "    \n",
    "    userDict[\"num projects\"] = numProjects(projects)\n",
    "    \n",
    "    return userDict"
   ]
  },
  {
   "cell_type": "code",
   "execution_count": 34,
   "metadata": {
    "collapsed": true
   },
   "outputs": [],
   "source": [
    "def dayAnalysisFeatures(projects):\n",
    "    \"\"\"number of projects on each day of the week, and the percentage of them on a weekday\"\"\"\n",
    "    byday = numOnDay(projects)\n",
    "\n",
    "    userDict = {day: byday[i] for i, day in enumerate([\"Monday\", \n",
    "                                                       \"Tuesday\", \n",
    "                                                       \"Wednesday\", \n",
    "                                                       \"Thursday\", \n",
    "                                                       \"Friday\", \n",
    "                                                       \"Saturday\", \n",
    "                                                       \"Sunday\"])}\n",
    "    return userDict"
   ]
  },
  {
   "cell_type": "code",
   "execution_count": 35,
   "metadata": {
    "collapsed": true
   },
   "outputs": [],
   "source": [
    "def decileProjects(projects):\n",
    "    numbins = 10\n",
    "    hist = projectsPerUserPeriod(projects, bins=numbins)\n",
    "    \n",
    "    userDict = {'decile '+str(i+1): hist[i] for i in range(numbins)}\n",
    "    return userDict"
   ]
  },
  {
   "cell_type": "code",
   "execution_count": null,
   "metadata": {
    "collapsed": true
   },
   "outputs": [],
   "source": []
  },
  {
   "cell_type": "markdown",
   "metadata": {},
   "source": [
    "## Code Features\n"
   ]
  },
  {
   "cell_type": "code",
   "execution_count": 36,
   "metadata": {
    "collapsed": true
   },
   "outputs": [],
   "source": [
    "def deltaDeciles(decileDict, name):\n",
    "    values = sortDeciles(decileDict)\n",
    "    deltas = {}\n",
    "    for i in range(10): \n",
    "        if i== 0: pass\n",
    "        else: deltas[str(i) + \" \" + name] = values[i]-values[i-1]\n",
    "    return deltas\n",
    "\n",
    "\n",
    "def sortDeciles(decileDict):\n",
    "    deciles_sorted = []\n",
    "    keys = decileDict.keys()\n",
    "    for key in keys: \n",
    "        deciles_sorted.insert(int(key[-1]), decileDict[key])\n",
    "    return deciles_sorted\n",
    "\n"
   ]
  },
  {
   "cell_type": "code",
   "execution_count": 37,
   "metadata": {
    "collapsed": true
   },
   "outputs": [],
   "source": [
    "def summaryOBlockDecile(projects): \n",
    "    hist = decileOrphanBlocks(projects)\n",
    "    userDict = {'Orphan Decile '+str(i+1): hist[i] for i in range(10)}\n",
    "    return userDict"
   ]
  },
  {
   "cell_type": "code",
   "execution_count": 38,
   "metadata": {
    "collapsed": true
   },
   "outputs": [],
   "source": [
    "def summaryDecileTLBlocks(projects): \n",
    "    hist = decileTypesTopLevelBlocks(projects)\n",
    "    userDict = {'TopLevel Decile '+str(i+1): hist[i] for i in range(10)}\n",
    "    return userDict"
   ]
  },
  {
   "cell_type": "code",
   "execution_count": 39,
   "metadata": {
    "collapsed": true
   },
   "outputs": [],
   "source": [
    "def summaryDecileNumScreens(projects): \n",
    "    hist = decileNumScreens(projects)\n",
    "    userDict = {'NumScreens Decile '+str(i+1): hist[i] for i in range(10)}\n",
    "    return userDict"
   ]
  },
  {
   "cell_type": "code",
   "execution_count": 40,
   "metadata": {
    "collapsed": true
   },
   "outputs": [],
   "source": [
    "def summaryDeltasTLBlocks(projects): \n",
    "    tlblocks = summaryDecileTLBlocks(projects)\n",
    "    return deltaDeciles(tlblocks, \"TL blocks delta\")"
   ]
  },
  {
   "cell_type": "code",
   "execution_count": 41,
   "metadata": {
    "collapsed": true
   },
   "outputs": [],
   "source": [
    "def summaryDeltasOBlock(projects): \n",
    "    oblock = summaryOBlockDecile(projects)\n",
    "    return deltaDeciles(oblock,\"O blocks delta\")"
   ]
  },
  {
   "cell_type": "code",
   "execution_count": 42,
   "metadata": {
    "collapsed": true
   },
   "outputs": [],
   "source": [
    "def summaryDeltasNumScreens(projects): \n",
    "    numscreens = summaryDecileNumScreens(projects)\n",
    "    return deltaDeciles(numscreens, \"numscreens blocks delta\")"
   ]
  },
  {
   "cell_type": "code",
   "execution_count": 43,
   "metadata": {
    "collapsed": true
   },
   "outputs": [],
   "source": [
    "def summaryAverages(projects):\n",
    "    userDict = {} \n",
    "    userDict[\"mean of numScreens\"] = numpy.mean(getNumScreens(projects))\n",
    "    userDict[\"NB\"] = averageNumBlocks(projects)\n",
    "    userDict[\"OB\"] = getAverageOrphanBlocks(projects)\n",
    "    \n",
    "    userDict[\"TL\"] = getAverageTypeTLBlocks(projects)\n",
    "    userDict[\"TL2\"] = getAverageNumTLBlocks(projects)\n",
    "    \n",
    "    userDict[\"NC\"] = averageNumComponents(projects)\n",
    "    userDict[\"NTC\"] = averageNumTypeComponents(projects)\n",
    "\n",
    "    userDict[\"MC\"] = aveNumMediaAssets(projects)\n",
    "    \n",
    "    userDict[\"NP\"] = averageNumProcedures(projects)\n",
    "    userDict[\"NS\"] = averageNumStrings(projects) \n",
    "        \n",
    "    varList = getAllVariables(projects)\n",
    "    userDict[\"local vars\"] = varList[0]\n",
    "    userDict[\"global vars\"] = varList[1]\n",
    "    \n",
    "#     controls_dict = getControlsBlocks(projects)\n",
    "#     userDict['controls_if'] = controls_dict['controls_if']\n",
    "#     userDict['controls_forEach'] = controls_dict['controls_forEach']\n",
    "#     userDict['controls_choose'] = controls_dict['controls_choose']\n",
    "#     userDict['controls_while'] = controls_dict['controls_while']\n",
    "\n",
    "\n",
    "\n",
    "    return userDict"
   ]
  },
  {
   "cell_type": "code",
   "execution_count": 44,
   "metadata": {
    "collapsed": true
   },
   "outputs": [],
   "source": [
    "def classesFeaturizers(projects): \n",
    "    userDict = {} \n",
    "    classes = getClasses(projects)\n",
    "    cList = ['TableArrangement', 'DatePicker', 'Canvas', \n",
    "             'CheckBox', 'Web', 'Clock', 'BluetoothServer', \n",
    "             'ActivityStarter', 'Texting', 'Label', 'Spinner', \n",
    "             'Camera', 'BluetoothClient', 'PhoneCall', 'LocationSensor', \n",
    "             'VerticalArrangement', 'HorizontalArrangement', 'Sharing', \n",
    "             'TextToSpeech', 'GoogleMap', 'Slider', 'OrientationSensor', \n",
    "             'ListView', 'PhoneNumberPicker', 'TinyDB', 'NxtDirectCommands', \n",
    "             'Sound', 'ListPicker', 'SpeechRecognizer', 'Button', 'WebViewer',\n",
    "             'BarcodeScanner', 'NxtDrive', 'Camcorder', 'Notifier', 'TextBox',\n",
    "             'AccelerometerSensor', 'Image', 'VideoPlayer', 'TinyWebDB',\n",
    "             'Player', 'File', 'YandexTranslate']\n",
    "   \n",
    "    for key in cList: \n",
    "        userDict[key] = classes[key]\n",
    "        \n",
    "    return userDict"
   ]
  },
  {
   "cell_type": "code",
   "execution_count": 76,
   "metadata": {
    "collapsed": false
   },
   "outputs": [],
   "source": [
    "def allBlocksFeaturizer(projects):\n",
    "    userDict = {}\n",
    "    with open('top_500_blocks.json') as data_file:    \n",
    "        block_list = json.load(data_file)\n",
    "\n",
    "    all_blocks_dict = {block:0 for block in block_list}\n",
    "    all_blocks_dict = getBlocks(projects, all_blocks_dict) \n",
    "    \n",
    "    for key in block_list: \n",
    "        userDict[key] = all_blocks_dict[key]\n",
    "    return userDict"
   ]
  },
  {
   "cell_type": "code",
   "execution_count": null,
   "metadata": {
    "collapsed": true
   },
   "outputs": [],
   "source": []
  },
  {
   "cell_type": "code",
   "execution_count": 82,
   "metadata": {
    "collapsed": false
   },
   "outputs": [],
   "source": [
    "# blocks = set() \n",
    "# # users = summaries.keys()\n",
    "# c = Counter()"
   ]
  },
  {
   "cell_type": "code",
   "execution_count": 83,
   "metadata": {
    "collapsed": false,
    "scrolled": false
   },
   "outputs": [
    {
     "name": "stdout",
     "output_type": "stream",
     "text": [
      "1000 2000 3000 4000 5000 6000 7000 8000 9000 10000 11000 12000 13000 14000 15000 16000 17000 18000 19000 20000 21000 22000 23000 24000 25000 26000 27000 28000 29000 30000 31000 32000 33000 34000 35000 36000 37000 38000 39000 40000 41000 42000 43000 44000 45000 46000\n"
     ]
    }
   ],
   "source": [
    "# j = 0\n",
    "# for userID in users: \n",
    "#     i = 0\n",
    "    \n",
    "#     projects = getAllProjects(userID, False)\n",
    "#     screenNames = getScreenNames(projects)\n",
    "\n",
    "#     while i < len(projects):\n",
    "#         for screenName in screenNames[i]:\n",
    "#                 if screenName in projects[i] and 'Active Blocks' in projects[i][screenName]['Blocks'] and 'Types' in projects[i][screenName]['Blocks']['Active Blocks']:\n",
    "#                     b = projects[i][screenName]['Blocks']['Active Blocks']['Types']\n",
    "#                     for block in b: \n",
    "#                         if block not in blocks: \n",
    "#                             blocks.add(block)\n",
    "#                     c.update(b)\n",
    "#         i+=1\n",
    "#     j+=1 \n",
    "#     if j % 1000 == 0: \n",
    "#         print j,"
   ]
  },
  {
   "cell_type": "code",
   "execution_count": 32,
   "metadata": {
    "collapsed": false
   },
   "outputs": [],
   "source": [
    "# with open('top_200_blocks.json', 'w') as data_file:\n",
    "#     json.dump(dict(c.most_common(200)), data_file)"
   ]
  },
  {
   "cell_type": "code",
   "execution_count": 122,
   "metadata": {
    "collapsed": false
   },
   "outputs": [],
   "source": [
    "# category_dict = {} \n",
    "# for block in c: \n",
    "#     if '.' in block: \n",
    "#         key = block.split('.')[0]\n",
    "#         if key not in category_dict:\n",
    "#             category_dict[key] = []\n",
    "#         category_dict[key].append(block)\n",
    "#     elif '_' in block: \n",
    "#         key = block.split('_')[0]\n",
    "#         if key not in category_dict: \n",
    "#             category_dict[key] = []\n",
    "#         category_dict[key].append(block)\n",
    "#     else: \n",
    "#         if 'other' not in category_dict:\n",
    "#             category_dict['other'] = []\n",
    "#         category_dict['other'].append(block)\n"
   ]
  },
  {
   "cell_type": "code",
   "execution_count": 129,
   "metadata": {
    "collapsed": false
   },
   "outputs": [
    {
     "name": "stdout",
     "output_type": "stream",
     "text": [
      "[u'lexical_variable_set', u'lexical_variable_get']\n"
     ]
    }
   ],
   "source": [
    "# print category_dict['lexical']"
   ]
  },
  {
   "cell_type": "code",
   "execution_count": 125,
   "metadata": {
    "collapsed": false
   },
   "outputs": [],
   "source": [
    "with open('blocks_by_category.json', 'w') as data_file:\n",
    "    json.dump(category_dict, data_file)"
   ]
  },
  {
   "cell_type": "code",
   "execution_count": 27,
   "metadata": {
    "collapsed": true
   },
   "outputs": [],
   "source": [
    "from collections import defaultdict\n",
    "from collections import Counter"
   ]
  },
  {
   "cell_type": "code",
   "execution_count": null,
   "metadata": {
    "collapsed": false
   },
   "outputs": [],
   "source": [
    "# c = Counter(l)"
   ]
  },
  {
   "cell_type": "code",
   "execution_count": null,
   "metadata": {
    "collapsed": false
   },
   "outputs": [],
   "source": [
    "# i = 0\n",
    "# for userID in users: \n",
    "#     projects = getAllProjects(userID, False)\n",
    "#     getBlocks(projects, all_blocks_dict)\n",
    "#     if i %1000 == 0: \n",
    "#         print i,\n",
    "#     i+=1"
   ]
  },
  {
   "cell_type": "markdown",
   "metadata": {},
   "source": [
    "### Setup"
   ]
  },
  {
   "cell_type": "code",
   "execution_count": 46,
   "metadata": {
    "collapsed": true
   },
   "outputs": [],
   "source": [
    "def combine_featfuncs(funclist):\n",
    "    def combined(user):\n",
    "        basedict = funclist[0](user)\n",
    "        for f in funclist[1:]:\n",
    "            basedict.update(f(user))\n",
    "        return basedict\n",
    "    return combined"
   ]
  },
  {
   "cell_type": "code",
   "execution_count": 52,
   "metadata": {
    "collapsed": false
   },
   "outputs": [],
   "source": [
    "def getAllProjects(userID, no_tutorials): \n",
    "    \"\"\"list of projects sorted by creation times\"\"\"\n",
    "    if (no_tutorials):\n",
    "        try: \n",
    "            projectlist = not_tutorials[userID].values()\n",
    "        except:\n",
    "            print userID\n",
    "    else: \n",
    "        projectlist = summaries[userID].values()\n",
    "    return sorted(projectlist,\n",
    "                  key=lambda project: project['**created']) \n",
    "\n",
    "def userDuration(projectlist):\n",
    "    \"\"\"get the duration (difference between last and earliest creation dates)\"\"\"\n",
    "    return timediff(projectlist[-1]['**created'], projectlist[0]['**created'])\n",
    "\n",
    "\n",
    "def getProjects(userID, no_tutorials):\n",
    "    return getAllProjects(userID, no_tutorials)\n",
    "     "
   ]
  },
  {
   "cell_type": "code",
   "execution_count": 142,
   "metadata": {
    "collapsed": false
   },
   "outputs": [],
   "source": [
    "langgroups = {'es': 'eur',\n",
    "              'pt': 'eur', \n",
    "              'it': 'eur', \n",
    "              'de': 'eur', \n",
    "              'fr': 'eur', \n",
    "              'ca': 'eur', \n",
    "              'el': 'eur', \n",
    "              'nl': 'eur', \n",
    "              'pl': 'eur',\n",
    "              'en': 'eur',\n",
    "              'ru': 'eur',\n",
    "              'ko': 'asia', \n",
    "              'zh': 'asia', \n",
    "              'ja': 'asia', \n",
    "              'th': 'asia'}\n",
    "langgroup_num_map = {'eur': 0, 'asia': 1}\n",
    "\n"
   ]
  },
  {
   "cell_type": "code",
   "execution_count": 53,
   "metadata": {
    "collapsed": true
   },
   "outputs": [],
   "source": [
    "#def get_user_labels():\n",
    "    #return {user: lang_num_map[lang] for user, lang in user_langs.items()}\n",
    "    #return {user: langgroup_num_map[langgroups[lang]] for user, lang in user_langs.items()}\n",
    "    \n",
    "def get_user_labels():\n",
    "    return {user: langgroup_num_map[langgroups[lang]] for user, lang in user_langs.items() if lang in langgroups.keys()}\n"
   ]
  },
  {
   "cell_type": "code",
   "execution_count": 174,
   "metadata": {
    "collapsed": false
   },
   "outputs": [],
   "source": [
    "time_combined = combine_featfuncs([projectLengthFeatures, dayAnalysisFeatures,decileProjects])\n",
    "code_combined = combine_featfuncs([summaryOBlockDecile,summaryDecileTLBlocks,summaryDecileNumScreens,summaryDeltasTLBlocks,summaryDeltasOBlock,summaryDeltasNumScreens, summaryAverages, allBlocksFeaturizer])  "
   ]
  },
  {
   "cell_type": "code",
   "execution_count": 185,
   "metadata": {
    "collapsed": false
   },
   "outputs": [
    {
     "name": "stdout",
     "output_type": "stream",
     "text": [
      "1 2 3 4 5 6 7 8 9 10 11 12 13 14 15 16 17 18 19 20 21 22 23 24 25 26 27 28 29 30 31 32 33 34 35 36 37 38 39 40 41 42 43\n"
     ]
    }
   ],
   "source": [
    "from sklearn.feature_extraction import DictVectorizer\n",
    "\n",
    "all_features = []\n",
    "time_features = [] \n",
    "code_features = []\n",
    "\n",
    "userlabels = get_user_labels()\n",
    "\n",
    "y = []\n",
    "ctr = 0\n",
    "for user in userlabels:\n",
    "    if user in not_tutorials: \n",
    "\n",
    "        projects = getProjects(user, filter_tutorials)  # this returns projects sorted by creation date that include tutorials \n",
    "\n",
    "        y.append(userlabels[user])\n",
    "\n",
    "        time_features.append(time_combined(projects))\n",
    "        code_features.append(code_combined(projects))\n",
    "\n",
    "\n",
    "        # merge time and code feature dicts\n",
    "        all_features_user = time_features[-1].copy()\n",
    "        all_features_user.update(code_features[-1])\n",
    "        all_features.append(all_features_user)\n",
    "\n",
    "        ctr+=1\n",
    "        if ctr%1000==0:\n",
    "            print ctr/1000,\n",
    "\n",
    "        \n",
    "\n",
    "\n",
    "y = numpy.array(y)\n",
    "\n",
    "timevec = DictVectorizer()\n",
    "\n",
    "Xtime = timevec.fit_transform(time_features) \n",
    "\n",
    "codevec = DictVectorizer()\n",
    "\n",
    "Xcode = codevec.fit_transform(code_features)\n",
    "\n",
    "allvec = DictVectorizer()\n",
    "\n",
    "Xall = allvec.fit_transform(all_features)\n"
   ]
  },
  {
   "cell_type": "code",
   "execution_count": 186,
   "metadata": {
    "collapsed": false
   },
   "outputs": [],
   "source": [
    "from sklearn.preprocessing import scale\n",
    "from numpy import *\n",
    "# # convert to dense matrices since these are dense anyway\n",
    "Xtime = scale(Xtime.toarray())\n",
    "Xcode = scale(Xcode.toarray())\n",
    "Xall = scale(Xall.toarray())"
   ]
  },
  {
   "cell_type": "code",
   "execution_count": 187,
   "metadata": {
    "collapsed": true
   },
   "outputs": [],
   "source": [
    "foldindices = StratifiedKFold(y)"
   ]
  },
  {
   "cell_type": "markdown",
   "metadata": {},
   "source": [
    "#### Static KFold Values"
   ]
  },
  {
   "cell_type": "code",
   "execution_count": 188,
   "metadata": {
    "collapsed": true
   },
   "outputs": [],
   "source": [
    "import pickle"
   ]
  },
  {
   "cell_type": "code",
   "execution_count": 191,
   "metadata": {
    "collapsed": false
   },
   "outputs": [],
   "source": [
    "if filter_tutorials:\n",
    "    with open('filtered_kfold.pickle', 'rb') as f:\n",
    "        foldindices = pickle.load(f)\n",
    "else:\n",
    "    with open('unfiltered_kfold.pickle', 'rb') as f:\n",
    "        foldindices = pickle.load(f)"
   ]
  },
  {
   "cell_type": "markdown",
   "metadata": {},
   "source": [
    "### Model Training and Testing"
   ]
  },
  {
   "cell_type": "code",
   "execution_count": 192,
   "metadata": {
    "collapsed": false,
    "scrolled": true
   },
   "outputs": [
    {
     "name": "stdout",
     "output_type": "stream",
     "text": [
      "Chance is 0.679871272458\n",
      "Building a logreg model with 22 time\n",
      "Fold 1\n",
      "Fold 2\n",
      "Fold 3\n",
      "Confusion matrix, without normalization\n"
     ]
    },
    {
     "data": {
      "image/png": "[encoded data removed]",
      "text/plain": [
       "<matplotlib.figure.Figure at 0x2d523d850>"
      ]
     },
     "metadata": {},
     "output_type": "display_data"
    },
    {
     "name": "stdout",
     "output_type": "stream",
     "text": [
      "Average accuracy 0.698856191097\n",
      "Building a logreg model with 569 code\n",
      "Fold 1\n",
      "Fold 2\n",
      "Fold 3\n",
      "Confusion matrix, without normalization\n"
     ]
    },
    {
     "data": {
      "image/png": "[encoded data removed]",
      "text/plain": [
       "<matplotlib.figure.Figure at 0x7de2e7f10>"
      ]
     },
     "metadata": {},
     "output_type": "display_data"
    },
    {
     "name": "stdout",
     "output_type": "stream",
     "text": [
      "Average accuracy 0.902088289019\n",
      "Building a logreg model with 591 all\n",
      "Fold 1\n",
      "Fold 2\n",
      "Fold 3\n",
      "Confusion matrix, without normalization\n"
     ]
    },
    {
     "data": {
      "image/png": "[encoded data removed]",
      "text/plain": [
       "<matplotlib.figure.Figure at 0x7a26a8f50>"
      ]
     },
     "metadata": {},
     "output_type": "display_data"
    },
    {
     "name": "stdout",
     "output_type": "stream",
     "text": [
      "Average accuracy 0.903662642851\n"
     ]
    }
   ],
   "source": [
    "from sklearn.cross_validation import StratifiedKFold\n",
    "from sklearn.neighbors import KNeighborsClassifier\n",
    "from  sklearn.metrics import f1_score \n",
    "from sklearn.linear_model import LogisticRegression\n",
    "from sklearn.metrics import confusion_matrix\n",
    "import matplotlib.pyplot as plt\n",
    "%matplotlib inline \n",
    "from plotcnf import plot_confusion_matrix\n",
    "\n",
    "print 'Chance is', max(numpy.bincount(y))/float(len(y))\n",
    "\n",
    "### added later ### ************************    \n",
    "#foldindices = StratifiedKFold(y)\n",
    "\n",
    "\n",
    "labels = map(lambda x:x[0], sorted(langgroup_num_map.items(), key=lambda x:x[1]))  \n",
    "# languages corresponding to class labels as a list\n",
    "\n",
    "    \n",
    "k = 70 #num neighbors for kNN\n",
    "\n",
    "classifiers = [('logreg', LogisticRegression())]  # no knn because it's too slow \n",
    "#multi_class='multinomial', \n",
    "   \n",
    "\n",
    "for modelname, model in classifiers:\n",
    "    #for featname, X in [('code', Xcode), ('all', Xall)]:\n",
    "    for featname, X in [('time', Xtime), ('code', Xcode), ('all', Xall)]:\n",
    "        print  'Building a', modelname, 'model with', X.shape[1], featname\n",
    "    \n",
    "        cvaccs = numpy.zeros(len(foldindices))\n",
    "        #cvf1 = numpy.zeros(len(foldindices))\n",
    "        for i, (trainidx, testidx) in enumerate(foldindices):\n",
    "            print 'Fold', i+1\n",
    "        \n",
    "            ytrain = y[trainidx]\n",
    "            ytest = y[testidx]\n",
    "        \n",
    "            Xtrain = X[trainidx, :]  \n",
    "            Xtest = X[testidx, :]\n",
    "            \n",
    "            model.fit(Xtrain, ytrain)\n",
    "            cvaccs[i] = model.score(Xtest, ytest)\n",
    "        \n",
    "            predictions = model.predict(Xtest)\n",
    "            #cvf1[i] = f1_score(ytest, predictions)\n",
    "            \n",
    "            #print '****', modelname, cvaccs[i]\n",
    "        #analyze last fold only\n",
    "        cnf_matrix = confusion_matrix(ytest, predictions)  \n",
    "\n",
    "        plot_confusion_matrix(cnf_matrix, labels)\n",
    "        plt.show()\n",
    "        coef = model.coef_\n",
    "        print 'Average accuracy', numpy.mean(cvaccs)"
   ]
  },
  {
   "cell_type": "markdown",
   "metadata": {},
   "source": [
    "### Coefs "
   ]
  },
  {
   "cell_type": "code",
   "execution_count": 180,
   "metadata": {
    "collapsed": false
   },
   "outputs": [
    {
     "data": {
      "text/plain": [
       "[(u'text_changeCase', -1.8240164234017411),\n",
       " (u'procedures_defnoreturn', -1.5879318100603772),\n",
       " ('TL2', -1.5684396377203653),\n",
       " (u'color_green', -1.564423180112807),\n",
       " (u'ActivityStarter.SetDataType', -1.4362480494834355),\n",
       " (u'DatePicker.GetMonthInText', -1.2105033562999943),\n",
       " (u'Web.SetUrl', -1.177354613922601),\n",
       " (u'lexical_variable_get', -1.0714027638650732),\n",
       " (u'ImageSprite.EdgeReached', -0.96276601170447629),\n",
       " (u'TextBox.SetBackgroundColor', -0.93937376248600601),\n",
       " (u'TimePicker.GetMinute', -0.86979250915878192),\n",
       " ('NB', -0.80117340118876734),\n",
       " (u'Form.GetWidth', -0.77125288178509221),\n",
       " (u'controls_if', -0.73209085597030055),\n",
       " (u'VerticalArrangement.GetVisible', -0.72791632925328575),\n",
       " (u'YandexTranslate.RequestTranslation', -0.6868614955467045),\n",
       " (u'ListView.GetElements', -0.65690871990936095),\n",
       " (u'Sharing.ShareMessage', -0.64912048249536558),\n",
       " (u'Camera.TakePicture', -0.61719643895508836),\n",
       " (u'Form.SetBackgroundImage', -0.61709003664727247),\n",
       " (u'Sound.GetMinimumInterval', -0.57325123936004274),\n",
       " (u'global_declaration', -0.54344629253941434),\n",
       " (u'BluetoothClient.Connect', -0.54275031827118014),\n",
       " (u'ImageSprite.PointInDirection', -0.52657921149432974),\n",
       " (u'PasswordTextBox.SetText', -0.52382662673376112),\n",
       " (u'procedures_defreturn', -0.52334967683815381),\n",
       " ('NS', -0.5070089135654664),\n",
       " (u'Ball.SetX', -0.50391596067075539),\n",
       " (u'PasswordTextBox.SetVisible', -0.50184616660728198),\n",
       " (u'Clock.Now', -0.50002324471562243),\n",
       " (u'logic_boolean', -0.48136189697921222),\n",
       " (u'ImageSprite.Dragged', -0.46203567925795513),\n",
       " (u'FusiontablesControl.GotResult', -0.45782321236986484),\n",
       " (u'Player.GetIsPlaying', -0.45375487685908505),\n",
       " (u'Ball.Flung', -0.45313932628276482),\n",
       " (u'BluetoothServer.GetIsAccepting', -0.44991249795057375),\n",
       " (u'File.AppendToFile', -0.44095611161383769),\n",
       " (u'CheckBox.SetText', -0.43845811485879621),\n",
       " (u'TextToSpeech.AfterSpeaking', -0.43109533568528929),\n",
       " (u'Canvas.GetWidth', -0.42055501282040247),\n",
       " (u'text', -0.41176329068671935),\n",
       " (u'math_single', -0.40686455831646479),\n",
       " (u'WebViewer.GetHomeUrl', -0.40337930804402927),\n",
       " (u'Notifier.ShowChooseDialog', -0.40254210309642741),\n",
       " (u'Canvas.DrawCircle', -0.39705023880733781),\n",
       " (u'WebViewer.GetCurrentPageTitle', -0.39413408435772873),\n",
       " (u'None.text', -0.39073716938537956),\n",
       " (u'TextBox.LostFocus', -0.38793227362298355),\n",
       " (u'BluetoothClient.GetAvailable', -0.38465097376898405),\n",
       " (u'math_format_as_decimal', -0.36666139533970421),\n",
       " (u'Canvas.Dragged', -0.36420782355712356),\n",
       " (u'BluetoothClient.GetEnabled', -0.36309235476683893),\n",
       " (u'Canvas.Touched', -0.35214093141437769),\n",
       " (u'controls_getStartValue', -0.35045218935944439),\n",
       " ('MC', -0.34728968200222882),\n",
       " (u'controls_openAnotherScreen', -0.34714383689485656),\n",
       " (u'text_replace_all', -0.34336941689433437),\n",
       " (u'ListPicker.GetSelection', -0.34198979356582859),\n",
       " (u'VideoPlayer.Start', -0.32993278201677345),\n",
       " (u'Web.SetRequestHeaders', -0.32956304110721446),\n",
       " (u'lists_to_csv_table', -0.32858122936245138),\n",
       " (u'Spinner.GetSelection', -0.32554440655600686),\n",
       " (u'Ball.SetInterval', -0.32426936843870396),\n",
       " (u'LocationSensor.GetLatitude', -0.3240077623525775),\n",
       " (u'BluetoothClient.BytesAvailableToReceive', -0.31805399840538601),\n",
       " (u'color_cyan', -0.31753549576295975),\n",
       " ('NC', -0.31587875905155521),\n",
       " ('NTC', -0.31587875905155521),\n",
       " (u'ListPicker.SetTextColor', -0.30749628847329569),\n",
       " (u'TinyDB.StoreValue', -0.29835889121417547),\n",
       " (u'logic_operation', -0.29762233220095036),\n",
       " (u'TinyDB.GetValue', -0.29614134418605575),\n",
       " (u'ListView.SetElements', -0.29190516720492471),\n",
       " (u'NxtDrive.Stop', -0.29143690774942294),\n",
       " (u'Ball.GetY', -0.28913922911132028),\n",
       " (u'TextBox.GetText', -0.28347460390076473),\n",
       " (u'VideoPlayer.SetWidth', -0.28226066234021019),\n",
       " (u'color_red', -0.27736000855572446),\n",
       " (u'ImageSprite.PointTowards', -0.27630752823691351),\n",
       " (u'local_declaration_statement', -0.27392323130600071),\n",
       " (u'TextToSpeech.SetCountry', -0.27177271116784357),\n",
       " (u'ImageSprite.GetWidth', -0.27147065966209716),\n",
       " (u'SpeechRecognizer.BeforeGettingText', -0.26872658339417194),\n",
       " (u'ActivityStarter.ResolveActivity', -0.26776725153526543),\n",
       " (u'ContactPicker.AfterPicking', -0.26354786118511458),\n",
       " (u'Canvas.GetHeight', -0.26300278640546665),\n",
       " (u'Sound.Stop', -0.26142147971512258),\n",
       " (u'Form.SetScreenOrientation', -0.25643214636455802),\n",
       " (u'LocationSensor.SetEnabled', -0.25151191730982286),\n",
       " (u'BarcodeScanner.GetResult', -0.24518488996095866),\n",
       " (u'color_magenta', -0.24103263298076316),\n",
       " (u'Button.GetWidth', -0.24093635234425415),\n",
       " (u'TextToSpeech.Speak', -0.24044597445485846),\n",
       " (u'DatePicker.GetYear', -0.23594476739246531),\n",
       " (u'BluetoothServer.ReceiveText', -0.22446566343053048),\n",
       " (u'BluetoothServer.GetIsConnected', -0.22414407820625148),\n",
       " (u'TextToSpeech.SetPitch', -0.22356027645032919),\n",
       " (u'Sound.Play', -0.22213406071175967),\n",
       " (u'NearField.GetLastMessage', -0.22076143732444178),\n",
       " (u'ActivityStarter.SetActivityClass', -0.22037447308516422),\n",
       " (u'Canvas.SetBackgroundColor', -0.21567495923664143),\n",
       " (u'color_gray', -0.2151776931090312),\n",
       " (u'Ball.MoveTo', -0.21362167306211804),\n",
       " (u'File.SaveFile', -0.21255771423291805),\n",
       " (u'math_add', -0.21146895710538927),\n",
       " (u'ListPicker.GetElements', -0.21077211872860027),\n",
       " (u'ListView.GetSelectionIndex', -0.20976783918310221),\n",
       " (u'VideoPlayer.SetVisible', -0.20962681656515345),\n",
       " (u'color_white', -0.20654769875416662),\n",
       " (u'Button.LongClick', -0.20580054888427302),\n",
       " (u'ContactPicker.GetPhoneNumber', -0.20356149288359826),\n",
       " (u'Form.SetBackgroundColor', -0.1976258063807739),\n",
       " (u'controls_closeApplication', -0.19613021942543843),\n",
       " (u'text_contains', -0.18924012137943866),\n",
       " (u'Button.GetText', -0.18478562268663373),\n",
       " (u'math_round', -0.18155333277228189),\n",
       " (u'DatePicker.AfterDateSet', -0.17906936137107768),\n",
       " (u'CheckBox.SetVisible', -0.17809210699914793),\n",
       " (u'controls_eval_but_ignore', -0.17787518712174877),\n",
       " (u'OrientationSensor.GetPitch', -0.17618120869053425),\n",
       " (u'color_yellow', -0.17408855706080437),\n",
       " (u'Ball.PointInDirection', -0.17265540778268262),\n",
       " (u'VideoPlayer.SetFullScreen', -0.16893406347292086),\n",
       " (u'Image.SetHeight', -0.16838943286993152),\n",
       " (u'Button.SetFontBold', -0.16803451819544399),\n",
       " (u'color_split_color', -0.16684933117536965),\n",
       " (u'OrientationSensor.OrientationChanged', -0.16679669552876228),\n",
       " (u'LocationSensor.LocationChanged', -0.16647220856671538),\n",
       " (u'Canvas.DrawPoint', -0.164912297227922),\n",
       " (u'TextBox.GetNumbersOnly', -0.16126561824825023),\n",
       " ('Friday', -0.16077269705527023),\n",
       " (u'Player.SetVolume', -0.16049456768953918),\n",
       " (u'LocationSensor.GetAccuracy', -0.15890693893151828),\n",
       " (u'color_make_color', -0.15848435061160404),\n",
       " ('Saturday', -0.15374401424211542),\n",
       " (u'ImageSprite.SetHeading', -0.15198728212625873),\n",
       " (u'ListPicker.SetElements', -0.15076598898442897),\n",
       " (u'PhoneNumberPicker.GetPhoneNumber', -0.14988608573201162),\n",
       " (u'SoundRecorder.Stop', -0.14910953599988105),\n",
       " (u'Ball.CollidedWith', -0.14747249309765895),\n",
       " ('stddev of intervals', -0.14611200399897323),\n",
       " ('stddev of lengths', -0.14611200399897323),\n",
       " (u'ImageSprite.SetInterval', -0.14533857842125947),\n",
       " (u'ListPicker.SetVisible', -0.14430131473537111),\n",
       " (u'ImageSprite.Touched', -0.14277265332102995),\n",
       " ('1 numscreens blocks delta', -0.14229335150164532),\n",
       " (u'Ball.Dragged', -0.13908186290280597),\n",
       " (u'ImageSprite.GetX', -0.1372951968751259),\n",
       " (u'Form.GetHeight', -0.13725196625510755),\n",
       " (u'Texting.SetPhoneNumber', -0.12757493078257673),\n",
       " ('Orphan Decile 10', -0.12666080339025171),\n",
       " (u'Label.SetVisible', -0.12608560197597854),\n",
       " (u'Label.SetWidth', -0.12373411262834329),\n",
       " (u'color_light_gray', -0.1228528617059494),\n",
       " (u'ImageSprite.SetWidth', -0.12210131019468491),\n",
       " (u'Button.GetImage', -0.12183377296558499),\n",
       " (u'color_orange', -0.11999474907385921),\n",
       " (u'color_blue', -0.11918188420808344),\n",
       " (u'Sharing.ShareFileWithMessage', -0.11864336381924376),\n",
       " (u'Slider.SetColorLeft', -0.11762773245685339),\n",
       " (u'Clock.MakeInstant', -0.11622123558935372),\n",
       " (u'SpeechRecognizer.GetResult', -0.11151340454097142),\n",
       " (u'controls_choose', -0.11029025565766082),\n",
       " (u'ImageSprite.GetHeading', -0.11007665425671248),\n",
       " (u'ActivityStarter.SetExtraValue', -0.10986179311821533),\n",
       " (u'Image.GetPicture', -0.10908644484808513),\n",
       " (u'WebViewer.GoBack', -0.10578063799811337),\n",
       " ('local vars', -0.10499995855716474),\n",
       " ('1 TL blocks delta', -0.10335720174525355),\n",
       " (u'ListPicker.GetSelectionIndex', -0.1018173654478491),\n",
       " (u'Web.BuildRequestData', -0.10156695531325929),\n",
       " (u'Ball.Touched', -0.10032472605066577),\n",
       " (u'Notifier.LogInfo', -0.099214344580162359),\n",
       " (u'WebViewer.SetWebViewString', -0.095045077900947517),\n",
       " (u'Canvas.DrawText', -0.093293407264812001),\n",
       " (u'BarcodeScanner.DoScan', -0.09139642509619135),\n",
       " (u'ImageSprite.Flung', -0.089140525100208937),\n",
       " (u'ListPicker.GetText', -0.089004979710568047),\n",
       " (u'lists_pick_random_item', -0.088369328224816607),\n",
       " (u'TextBox.RequestFocus', -0.087271119253822638),\n",
       " (u'LocationSensor.GetAltitude', -0.087026394328966028),\n",
       " (u'text_segment', -0.086856576804044683),\n",
       " ('decile 3', -0.084730986261678715),\n",
       " (u'Sound.GetSource', -0.084205003083978075),\n",
       " (u'Camcorder.RecordVideo', -0.083911711805369604),\n",
       " (u'Label.SetFontSize', -0.083808946361302608),\n",
       " (u'TextBox.SetEnabled', -0.083399392831603428),\n",
       " (u'ImageSprite.SetEnabled', -0.083132504416355377),\n",
       " (u'math_cos', -0.08293692199336164),\n",
       " (u'AccelerometerSensor.GetYAccel', -0.082530641712985783),\n",
       " ('decile 8', -0.080019671373422918),\n",
       " (u'Form.SetAboutScreen', -0.078745528901643033),\n",
       " (u'Player.GetSource', -0.07604308283316602),\n",
       " (u'Clock.SetTimerInterval', -0.075341473180974172),\n",
       " (u'controls_while', -0.074363566876924775),\n",
       " (u'File.ReadFrom', -0.074183757833700681),\n",
       " (u'Ball.SetHeading', -0.072804437675668521),\n",
       " (u'ImageSprite.TouchDown', -0.071858334587136294),\n",
       " (u'ListView.SetVisible', -0.07119312527028207),\n",
       " (u'math_neg', -0.067590813319702986),\n",
       " (u'ActivityStarter.SetActivityPackage', -0.067178646215974983),\n",
       " (u'DatePicker.SetText', -0.066667802329883466),\n",
       " (u'Web.UriEncode', -0.06542896554128555),\n",
       " (u'ImagePicker.AfterPicking', -0.065339488548807306),\n",
       " (u'Ball.SetVisible', -0.064788245279631895),\n",
       " (u'Player.Pause', -0.063882404622197728),\n",
       " (u'FusiontablesControl.ForgetLogin', -0.062828061825277171),\n",
       " (u'FusiontablesControl.SetApiKey', -0.062070531635021103),\n",
       " (u'ImagePicker.Open', -0.062035715227549089),\n",
       " ('Tuesday', -0.06203521061641646),\n",
       " (u'Ball.EdgeReached', -0.061685087159435416),\n",
       " (u'ProximitySensor.ProximityChanged', -0.061555921109192849),\n",
       " (u'Web.GotFile', -0.061058495760805909),\n",
       " ('Orphan Decile 1', -0.057846921372842586),\n",
       " (u'Button.GotFocus', -0.057360488077299855),\n",
       " (u'lists_position_in', -0.056914283296337485),\n",
       " ('2 numscreens blocks delta', -0.056831861944547507),\n",
       " (u'Label.SetHeight', -0.056772813001215262),\n",
       " (u'Slider.SetVisible', -0.054964804970556926),\n",
       " (u'TextBox.SetVisible', -0.054700692525254245),\n",
       " (u'color_dark_gray', -0.05373152506021573),\n",
       " (u'Sharing.ShareFile', -0.053365496761222569),\n",
       " (u'lists_add_items', -0.052198302396561258),\n",
       " ('Orphan Decile 2', -0.051988379413467012),\n",
       " ('Orphan Decile 8', -0.051363255456475472),\n",
       " (u'TextBox.SetText', -0.050606827756387175),\n",
       " (u'ImageSprite.GetHeight', -0.047898714206345408),\n",
       " (u'ImageSprite.SetY', -0.047530729471074534),\n",
       " (u'TinyDB.ClearTag', -0.044644858730295799),\n",
       " (u'CheckBox.Changed', -0.044480995732553798),\n",
       " (u'Player.SetSource', -0.044334609978586258),\n",
       " (u'None.spaces', -0.044082020643372063),\n",
       " (u'BluetoothServer.AcceptConnection', -0.043460724442770618),\n",
       " (u'ActivityStarter.SetAction', -0.042779584569389496),\n",
       " (u'Ball.SetEnabled', -0.042556767995283434),\n",
       " ('7 O blocks delta', -0.042304953700165994),\n",
       " (u'WebViewer.GoToUrl', -0.041137945503826483),\n",
       " (u'TinyWebDB.WebServiceError', -0.041052021201181718),\n",
       " ('Orphan Decile 9', -0.040771976082701888),\n",
       " ('7 numscreens blocks delta', -0.037939138523986081),\n",
       " (u'Clock.GetMillis', -0.037677941135847333),\n",
       " (u'text_split', -0.035921305148644583),\n",
       " (u'lists_append_list', -0.035208754420885238),\n",
       " (u'OrientationSensor.GetRoll', -0.034455783727495533),\n",
       " (u'PhoneCall.MakePhoneCall', -0.032106464433624915),\n",
       " (u'Notifier.AfterTextInput', -0.031333435017870337),\n",
       " (u'Clock.SetTimerAlwaysFires', -0.030960071814419829),\n",
       " ('Orphan Decile 6', -0.030437678323720373),\n",
       " (u'TextBox.HideKeyboard', -0.030130528154553377),\n",
       " ('8 TL blocks delta', -0.028502735724239038),\n",
       " ('6 TL blocks delta', -0.02839555414471687),\n",
       " ('5 TL blocks delta', -0.027033122430399494),\n",
       " (u'ListView.GetSelection', -0.026566239730456027),\n",
       " (u'logic_negate', -0.025569659712614452),\n",
       " (u'lists_from_csv_table', -0.024649394838112824),\n",
       " (u'ImageSprite.GetEnabled', -0.024143675918521901),\n",
       " (u'Clock.DayOfMonth', -0.023970987087261537),\n",
       " (u'Ball.SetRadius', -0.023199992559129197),\n",
       " (u'ImageSprite.CollidingWith', -0.023152331815482555),\n",
       " (u'Label.GetVisible', -0.02308752034639457),\n",
       " (u'Form.OtherScreenClosed', -0.023026229262113954),\n",
       " (u'TextBox.SetHint', -0.022907290644374606),\n",
       " (u'Spinner.SetSelection', -0.022600219132854107),\n",
       " (u'lists_remove_item', -0.022523919243166313),\n",
       " (u'controls_forEach', -0.020856846687904232),\n",
       " (u'ListPicker.SetElementsFromString', -0.020233886879645623),\n",
       " (u'Canvas.SetVisible', -0.019482826332338141),\n",
       " (u'Button.GetEnabled', -0.019094591020898062),\n",
       " (u'Button.GetVisible', -0.018833783182183504),\n",
       " (u'Ball.GetSpeed', -0.01866143990058592),\n",
       " (u'Button.TouchDown', -0.018567137569947621),\n",
       " (u'Texting.MessageReceived', -0.017953608175970429),\n",
       " ('decile 5', -0.01777167676154744),\n",
       " ('decile 10', -0.017737686238833362),\n",
       " (u'NxtDrive.TurnCounterClockwiseIndefinitely', -0.016457897013954909),\n",
       " (u'TextBox.SetNumbersOnly', -0.016156270499319177),\n",
       " ('8 O blocks delta', -0.015860837348801768),\n",
       " ('Orphan Decile 3', -0.015163837182639903),\n",
       " ('NumScreens Decile 2', -0.014830303181378235),\n",
       " (u'ListPicker.SetSelection', -0.01436175064851572),\n",
       " (u'Ball.SetPaintColor', -0.012996408075731512),\n",
       " ('NumScreens Decile 8', -0.012902672817732627),\n",
       " ('decile 2', -0.011306375117880407),\n",
       " ('OB', -0.010185318623601381),\n",
       " ('Orphan Decile 5', -0.0086369247617769703),\n",
       " (u'BluetoothClient.Send1ByteNumber', -0.0072465202811447579),\n",
       " (u'local_declaration_expression', -0.0066349327752385067),\n",
       " (u'Canvas.GetBackgroundColor', -0.005712389829445279),\n",
       " (u'Player.Vibrate', -0.0056189242525663072),\n",
       " (u'controls_closeScreenWithValue', -0.0054654792796669715),\n",
       " ('4 O blocks delta', -0.004679711521739279),\n",
       " (u'Form.ScreenOrientationChanged', -0.0046341465753637874),\n",
       " (u'Ball.GetPaintColor', -0.0037942264758853554),\n",
       " (u'TinyWebDB.ValueStored', -0.0029863999115738128),\n",
       " ('decile 7', -0.0028861774970258634),\n",
       " ('3 TL blocks delta', -0.002540687253682665),\n",
       " ('TopLevel Decile 5', -0.0020899457288523987),\n",
       " (u'OrientationSensor.GetMagnitude', 0.00055123772106533374),\n",
       " (u'Slider.GetThumbPosition', 0.00056217993877788193),\n",
       " (u'ListPicker.SetBackgroundColor', 0.0013147621882389346),\n",
       " (u'BluetoothClient.GetAddressesAndNames', 0.0018338264127187788),\n",
       " ('3 numscreens blocks delta', 0.0020808505349416378),\n",
       " (u'LocationSensor.GetCurrentAddress', 0.0029669738933125853),\n",
       " ('Monday', 0.0043570596048054444),\n",
       " (u'Clock.GetTimerInterval', 0.0044031851975052062),\n",
       " (u'Canvas.Flung', 0.0053387497339252134),\n",
       " ('2 O blocks delta', 0.0057873786601697272),\n",
       " ('8 numscreens blocks delta', 0.0064806235630568212),\n",
       " (u'Form.BackPressed', 0.0065719894039497056),\n",
       " ('Orphan Decile 4', 0.0067894026102104281),\n",
       " ('TopLevel Decile 6', 0.0069720137968676361),\n",
       " (u'Clock.GetTimerEnabled', 0.0069771951172476598),\n",
       " (u'ImageSprite.MoveTo', 0.0072357517153020193),\n",
       " (u'Button.SetHeight', 0.0076853681321608818),\n",
       " ('4 TL blocks delta', 0.0081007584147877992),\n",
       " (u'Texting.SendMessage', 0.0083152454250037412),\n",
       " ('9 O blocks delta', 0.0083414974936883764),\n",
       " (u'BluetoothClient.SendText', 0.0093850723926999953),\n",
       " ('6 numscreens blocks delta', 0.009608031038208233),\n",
       " ('9 numscreens blocks delta', 0.0096144867565009558),\n",
       " (u'CheckBox.SetChecked', 0.010172682435440721),\n",
       " (u'NearField.SetReadMode', 0.010501327996445568),\n",
       " (u'NxtDrive.TurnClockwiseIndefinitely', 0.010734418999468212),\n",
       " ('6 O blocks delta', 0.011775707809532777),\n",
       " (u'lists_copy', 0.012176513260751207),\n",
       " (u'Notifier.LogWarning', 0.012456214708445617),\n",
       " ('TopLevel Decile 1', 0.012620532151071673),\n",
       " (u'Spinner.AfterSelecting', 0.013127093235378133),\n",
       " ('Thursday', 0.013328461682924415),\n",
       " (u'Web.JsonTextDecode', 0.014693089370222958),\n",
       " (u'ImageSprite.GetSpeed', 0.014788318304003935),\n",
       " (u'lists_to_csv_row', 0.014957604663817362),\n",
       " (u'Button.SetTextColor', 0.015818342782686873),\n",
       " ('5 O blocks delta', 0.017386768848524348),\n",
       " ('7 TL blocks delta', 0.018483939722301158),\n",
       " (u'AccelerometerSensor.SetEnabled', 0.018963499650844814),\n",
       " ('Orphan Decile 7', 0.021658790694724008),\n",
       " (u'Spinner.GetSelectionIndex', 0.02208902434219176),\n",
       " (u'lists_create_with', 0.022294327071273986),\n",
       " ('mean of numScreens', 0.022579676707299587),\n",
       " ('9 TL blocks delta', 0.024053852517244043),\n",
       " (u'text_trim', 0.024283961019130954),\n",
       " (u'CheckBox.SetEnabled', 0.02457457313842942),\n",
       " ('TopLevel Decile 7', 0.025394773811913629),\n",
       " (u'Canvas.GetLineWidth', 0.025401931199294354),\n",
       " (u'Ball.GetHeading', 0.025497933019241015),\n",
       " (u'SoundRecorder.Start', 0.025744949931219899),\n",
       " (u'AccelerometerSensor.GetXAccel', 0.025781940387810183),\n",
       " (u'Clock.SetTimerEnabled', 0.025832692670915366),\n",
       " (u'Clock.SystemTime', 0.026002826566561294),\n",
       " (u'ImageSprite.SetSpeed', 0.026709225067629013),\n",
       " (u'color_black', 0.028083469967308813),\n",
       " ('TopLevel Decile 4', 0.028774619253981962),\n",
       " ('num projects', 0.029051154131627368),\n",
       " (u'lists_from_csv_row', 0.029563517476640162),\n",
       " (u'NearField.TagRead', 0.029924134958618641),\n",
       " ('3 O blocks delta', 0.031389052250593782),\n",
       " (u'OrientationSensor.GetAzimuth', 0.031724117072375747),\n",
       " (u'PhoneNumberPicker.GetPicture', 0.03256786316069215),\n",
       " (u'math_abs', 0.032874403524473253),\n",
       " (u'ListPicker.SetText', 0.033148839665380639),\n",
       " (u'TinyDB.ClearAll', 0.033417418719140488),\n",
       " (u'procedures_callreturn', 0.034270011449805043),\n",
       " (u'Clock.Hour', 0.034764311560171915),\n",
       " (u'math_subtract', 0.035465939268057356),\n",
       " (u'Notifier.ShowTextDialog', 0.03779768471830515),\n",
       " ('5 numscreens blocks delta', 0.038524567719352878),\n",
       " (u'ListView.SetElementsFromString', 0.039257332875594478),\n",
       " (u'ListPicker.SetTitle', 0.039301014718073873),\n",
       " ('TopLevel Decile 9', 0.04040966312947597),\n",
       " (u'TinyDB.GetTags', 0.040894918429754255),\n",
       " ('decile 1', 0.042340380290797786),\n",
       " ('Wednesday', 0.04256781821811826),\n",
       " (u'BluetoothServer.ConnectionAccepted', 0.042721149570637378),\n",
       " (u'text_starts_at', 0.043317293243055451),\n",
       " ('1 O blocks delta', 0.044951175532109901),\n",
       " (u'Canvas.GetPaintColor', 0.045400880361001025),\n",
       " ('decile 6', 0.045735423813971512),\n",
       " (u'text_length', 0.046340974675096763),\n",
       " (u'Canvas.SaveAs', 0.046804184023445786),\n",
       " (u'BarcodeScanner.AfterScan', 0.046888282214681845),\n",
       " (u'BluetoothServer.SendText', 0.051426898649841492),\n",
       " ('2 TL blocks delta', 0.052269646364568823),\n",
       " ('decile 4', 0.052401348000483433),\n",
       " (u'PhoneNumberPicker.GetContactName', 0.053109431909513415),\n",
       " (u'Canvas.DrawLine', 0.053218041583586007),\n",
       " (u'math_is_a_number', 0.053512330828498544),\n",
       " (u'Canvas.GetPixelColor', 0.05408564286021935),\n",
       " (u'lists_is_list', 0.054723954650482069),\n",
       " (u'Canvas.SetWidth', 0.055839572624790529),\n",
       " (u'NxtDrive.MoveForwardIndefinitely', 0.056088600366835016),\n",
       " (u'Label.SetText', 0.056445428614106764),\n",
       " (u'math_atan2', 0.058081622523418593),\n",
       " (u'ImageSprite.GetVisible', 0.058331211661167774),\n",
       " (u'Clock.Minute', 0.058615154474634119),\n",
       " (u'Button.SetVisible', 0.058793463203241705),\n",
       " (u'logic_false', 0.059859119024145882),\n",
       " (u'Button.SetEnabled', 0.062520683436052715),\n",
       " (u'Sound.Resume', 0.062636999170013613),\n",
       " (u'Image.SetVisible', 0.062653139361850366),\n",
       " (u'Canvas.Clear', 0.062869075004027705),\n",
       " ('NumScreens Decile 3', 0.063266135145920277),\n",
       " (u'Label.SetTextColor', 0.063736364263078549),\n",
       " (u'Ball.Bounce', 0.064217456139187737),\n",
       " ('TopLevel Decile 8', 0.068762020617433639),\n",
       " (u'Slider.SetThumbPosition', 0.069488010463157446),\n",
       " (u'math_trig', 0.070312199625288896),\n",
       " (u'TinyWebDB.GotValue', 0.071550717682654294),\n",
       " (u'Sound.Pause', 0.071946615541585282),\n",
       " (u'Button.GetBackgroundColor', 0.073163004490070377),\n",
       " (u'Button.SetFontSize', 0.07436471558986707),\n",
       " (u'math_ceiling', 0.07471530029889642),\n",
       " ('TopLevel Decile 2', 0.074812920497030463),\n",
       " ('NumScreens Decile 1', 0.075692447243178043),\n",
       " (u'text_isEmpty', 0.075706427135771165),\n",
       " (u'Player.Start', 0.078488378148391491),\n",
       " ('4 numscreens blocks delta', 0.078625037006296847),\n",
       " (u'math_convert_number', 0.078944179301915426),\n",
       " (u'Button.SetText', 0.079384036355369808),\n",
       " (u'Spinner.SetElements', 0.079828578443340376),\n",
       " ('TopLevel Decile 3', 0.079881283325552901),\n",
       " (u'ActivityStarter.StartActivity', 0.080419841159894034),\n",
       " (u'Player.Completed', 0.081664598188561685),\n",
       " (u'Ball.TouchDown', 0.085734963673153156),\n",
       " (u'TableArrangement.SetVisible', 0.085790233739309066),\n",
       " ('NumScreens Decile 5', 0.086552321128842966),\n",
       " ('NumScreens Decile 7', 0.086680152050760934),\n",
       " ('NumScreens Decile 9', 0.087823720196312988),\n",
       " (u'Slider.PositionChanged', 0.087823873075256367),\n",
       " (u'component_component_block', 0.08802082274318071),\n",
       " (u'Ball.CollidingWith', 0.088649959857772992),\n",
       " (u'PhoneNumberPicker.AfterPicking', 0.08909743900439196),\n",
       " (u'math_power', 0.089289069649037781),\n",
       " (u'AccelerometerSensor.AccelerationChanged', 0.090075903591402662),\n",
       " ('NumScreens Decile 4', 0.090860772516199617),\n",
       " (u'Image.SetPicture', 0.09248846670177642),\n",
       " (u'WebViewer.SetHomeUrl', 0.094779004020806662),\n",
       " (u'ImageSprite.GetPicture', 0.094847495797502956),\n",
       " (u'FusiontablesControl.SendQuery', 0.095080359888490201),\n",
       " (u'Canvas.SetHeight', 0.095428589641587347),\n",
       " (u'Label.SetBackgroundColor', 0.0965489811365048),\n",
       " (u'TinyWebDB.GetValue', 0.096728868416700017),\n",
       " (u'Canvas.GetBackgroundImage', 0.099578737997424088),\n",
       " (u'lists_is_in', 0.10046171575765207),\n",
       " (u'ActivityStarter.AfterActivity', 0.10106994884808049),\n",
       " (u'math_floor', 0.10175540210497103),\n",
       " (u'Clock.Duration', 0.10196799553374446),\n",
       " (u'Canvas.TouchUp', 0.10279279381038757),\n",
       " (u'SoundRecorder.AfterSoundRecorded', 0.10489098828514203),\n",
       " (u'BluetoothClient.ReceiveSigned1ByteNumber', 0.10736478787668831),\n",
       " (u'Form.ErrorOccurred', 0.10780302599065657),\n",
       " (u'VerticalArrangement.SetVisible', 0.10816900898532641),\n",
       " (u'lists_length', 0.10829964197217508),\n",
       " (u'Button.SetImage', 0.10844364684656978),\n",
       " (u'Sound.Vibrate', 0.10907948438843738),\n",
       " (u'Canvas.SetPaintColor', 0.1101420993961342),\n",
       " (u'LocationSensor.SetProviderName', 0.11080682082914288),\n",
       " (u'HorizontalArrangement.SetVisible', 0.11264241255836667),\n",
       " ('NumScreens Decile 6', 0.11669097354338172),\n",
       " (u'ContactPicker.GetContactName', 0.11697804995516076),\n",
       " (u'AccelerometerSensor.GetZAccel', 0.11716466998085452),\n",
       " (u'File.GotText', 0.1212258505929857),\n",
       " (u'ListPicker.Open', 0.12161016245239024),\n",
       " (u'lists_replace_item', 0.1226274638649956),\n",
       " (u'ActivityStarter.SetExtraKey', 0.12332471216230867),\n",
       " (u'Clock.FormatDate', 0.12375151132036517),\n",
       " (u'WebViewer.SetVisible', 0.12428881482051324),\n",
       " (u'controls_closeScreen', 0.12511394452332669),\n",
       " (u'math_number', 0.12652722763087781),\n",
       " ('mean of intervals', 0.12652903266094284),\n",
       " ('mean of lengths', 0.12652903266094284),\n",
       " (u'color_pink', 0.12946226993452681),\n",
       " (u'logic_or', 0.13062150041257245),\n",
       " (u'text_compare', 0.13064593839584157),\n",
       " (u'TinyWebDB.StoreValue', 0.1343915557658481),\n",
       " (u'WebViewer.GoHome', 0.13439156814570533),\n",
       " (u'WebViewer.GetCurrentUrl', 0.13563232040806966),\n",
       " ('TopLevel Decile 10', 0.13867383616750567),\n",
       " (u'ImageSprite.SetHeight', 0.1388587809565229),\n",
       " (u'math_divide', 0.14059780836664693),\n",
       " (u'Clock.FormatTime', 0.1412356474055641),\n",
       " (u'BluetoothClient.GetIsConnected', 0.14140074283296872),\n",
       " (u'Player.Stop', 0.14142718021144168),\n",
       " (u'Clock.Year', 0.14503831968007808),\n",
       " (u'Player.SetLoop', 0.14542598258423442),\n",
       " (u'Clock.Second', 0.14546716701132462),\n",
       " (u'ImageSprite.SetVisible', 0.14594991529683951),\n",
       " (u'YandexTranslate.GotTranslation', 0.14626058210141082),\n",
       " (u'VideoPlayer.SetHeight', 0.15193519797275967),\n",
       " (u'ImageSprite.SetZ', 0.15341981333153479),\n",
       " ('decile 9', 0.1581189607486374),\n",
       " (u'Ball.GetRadius', 0.16079740126690689),\n",
       " (u'ImageSprite.SetPicture', 0.17017588294133601),\n",
       " (u'Canvas.SetBackgroundImage', 0.1706271471624683),\n",
       " (u'DatePicker.GetDay', 0.17116728753727536),\n",
       " (u'Notifier.ShowAlert', 0.17576088193127143),\n",
       " (u'WebViewer.GoForward', 0.17734351138782792),\n",
       " (u'Button.TouchUp', 0.17795869534066464),\n",
       " (u'Clock.FormatDateTime', 0.18271649827004557),\n",
       " (u'ImageSprite.CollidedWith', 0.19183134592971252),\n",
       " (u'controls_openAnotherScreenWithStartValue', 0.19484984428025892),\n",
       " ('NumScreens Decile 10', 0.19721067215555219),\n",
       " (u'BluetoothServer.StopAccepting', 0.20257397792595871),\n",
       " (u'Label.GetText', 0.20511211316864603),\n",
       " (u'Clock.Month', 0.20677886064928711),\n",
       " (u'ActivityStarter.SetDataUri', 0.20771406465399228),\n",
       " (u'NearField.SetTextToWrite', 0.21161158047789344),\n",
       " (u'Form.Initialize', 0.2165199373199572),\n",
       " (u'TextToSpeech.SetLanguage', 0.21773470107057291),\n",
       " (u'Camcorder.AfterRecording', 0.21805423135386667),\n",
       " (u'Ball.SetSpeed', 0.2222548830125407),\n",
       " (u'Web.SetSaveResponse', 0.22672739717857959),\n",
       " (u'VideoPlayer.Completed', 0.23000993653585841),\n",
       " (u'Image.GetVisible', 0.23134752545074694),\n",
       " (u'VideoPlayer.Pause', 0.23142942828237836),\n",
       " ('NP', 0.23195917049302667),\n",
       " (u'ImageSprite.GetY', 0.2349061919726089),\n",
       " (u'math_on_list', 0.23609954957787865),\n",
       " (u'lexical_variable_set', 0.2393589406479559),\n",
       " (u'controls_do_then_return', 0.2411498309388089),\n",
       " (u'SpeechRecognizer.GetText', 0.24277706113722022),\n",
       " (u'lists_is_empty', 0.24289796133042593),\n",
       " (u'TextToSpeech.SetSpeechRate', 0.24301826641554461),\n",
       " (u'FusiontablesControl.SetQuery', 0.24307660264105721),\n",
       " (u'Canvas.TouchDown', 0.24492510359014916),\n",
       " (u'BluetoothClient.Disconnect', 0.24639064170529434),\n",
       " (u'TextBox.SetTextColor', 0.24675096893501311),\n",
       " (u'TextBox.GotFocus', 0.24778592152014578),\n",
       " ('TL', 0.25234153292447453),\n",
       " (u'Clock.Timer', 0.25380098262505563),\n",
       " (u'ImageSprite.SetX', 0.2596819764185449),\n",
       " (u'BluetoothServer.Disconnect', 0.26273735614683852),\n",
       " (u'BluetoothServer.BytesAvailableToReceive', 0.262799616973516),\n",
       " (u'Texting.SetMessage', 0.27340429669474714),\n",
       " (u'ImageSprite.SetRotates', 0.27409946920855605),\n",
       " (u'PhoneCall.SetPhoneNumber', 0.2763618387856891),\n",
       " (u'lists_lookup_in_pairs', 0.27777953594306026),\n",
       " (u'Form.SetTitle', 0.28243045585700705),\n",
       " (u'math_multiply', 0.28661268388028821),\n",
       " (u'Web.GotText', 0.29340750716790071),\n",
       " (u'ListView.AfterPicking', 0.29360594924693628),\n",
       " (u'Sound.SetSource', 0.30043012527410407),\n",
       " (u'math_random_float', 0.30447362768523845),\n",
       " (u'HorizontalArrangement.SetHeight', 0.30626767584841702),\n",
       " (u'OrientationSensor.GetAngle', 0.30807185006358612),\n",
       " (u'OrientationSensor.SetEnabled', 0.31059851366112029),\n",
       " (u'Canvas.SetFontSize', 0.31981701741064572),\n",
       " (u'Canvas.SetLineWidth', 0.32151039981762547),\n",
       " (u'File.Delete', 0.32713545319264559),\n",
       " (u'DatePicker.GetMonth', 0.33106758874155995),\n",
       " (u'Image.SetWidth', 0.3431681542876025),\n",
       " (u'LocationSensor.GetProviderName', 0.34458686684747242),\n",
       " (u'lists_insert_item', 0.34540430444281228),\n",
       " (u'NxtDrive.MoveBackwardIndefinitely', 0.34667232981541679),\n",
       " (u'CheckBox.GetText', 0.35241768270510648),\n",
       " (u'ListPicker.BeforePicking', 0.35435275491298673),\n",
       " (u'ImageSprite.TouchUp', 0.35628032656584618),\n",
       " (u'CheckBox.GetChecked', 0.35708466079436135),\n",
       " (u'VideoPlayer.SetSource', 0.3570970077711067),\n",
       " (u'lists_select_item', 0.35966496338159598),\n",
       " (u'Ball.GetX', 0.36248466960044884),\n",
       " (u'ListPicker.SetEnabled', 0.36852135393561247),\n",
       " (u'Web.PostText', 0.36895842884292263),\n",
       " (u'logic_compare', 0.36969940206054569),\n",
       " (u'Canvas.Save', 0.37598830066249234),\n",
       " (u'PasswordTextBox.GetText', 0.37609336661877479),\n",
       " ('Sunday', 0.38227902690256427),\n",
       " (u'math_division', 0.38925244792366254),\n",
       " (u'ImagePicker.GetSelection', 0.40368559086740474),\n",
       " (u'LocationSensor.GetLongitude', 0.41144782881598324),\n",
       " (u'TimePicker.AfterTimeSet', 0.41512249210597951),\n",
       " (u'SpeechRecognizer.AfterGettingText', 0.43447145672868331),\n",
       " (u'BluetoothClient.ReceiveText', 0.45065356437959092),\n",
       " (u'AccelerometerSensor.Shaking', 0.46001298494650289),\n",
       " (u'ImageSprite.Bounce', 0.47998194654547754),\n",
       " (u'Notifier.ShowMessageDialog', 0.49210531532698992),\n",
       " (u'Notifier.AfterChoosing', 0.49242402612033392),\n",
       " (u'math_random_int', 0.49936555016887796),\n",
       " (u'text_join', 0.51440474835676853),\n",
       " (u'Ball.SetY', 0.52622668825320806),\n",
       " (u'controls_forRange', 0.67782197459078086),\n",
       " (u'Camera.AfterPicture', 0.74492803633526716),\n",
       " (u'Web.Get', 0.74695467892633782),\n",
       " (u'math_compare', 0.75334609604620606),\n",
       " (u'TimePicker.GetHour', 0.79352114360691162),\n",
       " (u'Button.SetBackgroundColor', 0.8371186199879922),\n",
       " (u'ListPicker.AfterPicking', 0.84499949019021192),\n",
       " (u'procedures_callnoreturn', 1.0156746629778011),\n",
       " (u'Button.SetWidth', 1.277817018310607),\n",
       " (u'Button.Click', 1.6180296193726689),\n",
       " ('global vars', 1.7621638696814901)]"
      ]
     },
     "execution_count": 180,
     "metadata": {},
     "output_type": "execute_result"
    }
   ],
   "source": [
    "sorted(zip(allvec.get_feature_names(), coef[0]), key=lambda tup: tup[1])"
   ]
  },
  {
   "cell_type": "code",
   "execution_count": 194,
   "metadata": {
    "collapsed": false
   },
   "outputs": [
    {
     "name": "stderr",
     "output_type": "stream",
     "text": [
      "/Users/emmalurie/anaconda/lib/python2.7/site-packages/sklearn/metrics/classification.py:976: DeprecationWarning: From version 0.18, binary input will not be handled specially when using averaged precision/recall/F-score. Please use average='binary' to report only the positive class performance.\n",
      "  'positive class performance.', DeprecationWarning)\n"
     ]
    },
    {
     "data": {
      "text/plain": [
       "0.84497938259222116"
      ]
     },
     "execution_count": 194,
     "metadata": {},
     "output_type": "execute_result"
    }
   ],
   "source": [
    "from sklearn.metrics import f1_score\n",
    "f1_score(ytest, predictions)"
   ]
  }
 ],
 "metadata": {
  "anaconda-cloud": {},
  "kernelspec": {
   "display_name": "Python [default]",
   "language": "python",
   "name": "python2"
  },
  "language_info": {
   "codemirror_mode": {
    "name": "ipython",
    "version": 2
   },
   "file_extension": ".py",
   "mimetype": "text/x-python",
   "name": "python",
   "nbconvert_exporter": "python",
   "pygments_lexer": "ipython2",
   "version": "2.7.12"
  }
 },
 "nbformat": 4,
 "nbformat_minor": 0
}
