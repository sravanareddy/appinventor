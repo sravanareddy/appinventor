{
 "cells": [
  {
   "cell_type": "code",
   "execution_count": 1,
   "metadata": {
    "collapsed": false
   },
   "outputs": [],
   "source": [
    "import ujson\n",
    "import numpy \n",
    "import datetime\n",
    "import json\n",
    "from collections import Counter"
   ]
  },
  {
   "cell_type": "markdown",
   "metadata": {},
   "source": [
    "## 1. Load Data"
   ]
  },
  {
   "cell_type": "code",
   "execution_count": 2,
   "metadata": {
    "collapsed": false
   },
   "outputs": [
    {
     "name": "stdout",
     "output_type": "stream",
     "text": [
      "1 2 3 4 5 6 7 8 9 10 11 12 13 14 15 16 17 18 19 20 21 22 23 24 25 26 27 28 29 30 31 32 33 34 35 36 37 38 39 40 41 42 43 44 45 46 47\n"
     ]
    }
   ],
   "source": [
    "summaries = {}\n",
    "ctr = 0\n",
    "for line in open('user_project_summaries.json'): # lazy iteration because the file is large\n",
    "    ctr+=1\n",
    "    summaries.update(ujson.loads(line))  \n",
    "    print ctr,"
   ]
  },
  {
   "cell_type": "code",
   "execution_count": 3,
   "metadata": {
    "collapsed": false
   },
   "outputs": [],
   "source": [
    "from features import *\n",
    "import features\n",
    "reload(features)\n",
    "import sys, os\n",
    "sys.path.append(os.getcwd())\n"
   ]
  },
  {
   "cell_type": "markdown",
   "metadata": {},
   "source": [
    "The languages labels are inferred from the `namestrings_to_langs.py` script using `langid`."
   ]
  },
  {
   "cell_type": "code",
   "execution_count": 4,
   "metadata": {
    "collapsed": false
   },
   "outputs": [
    {
     "name": "stdout",
     "output_type": "stream",
     "text": [
      "lang data created with 43410 users and 12 languages set([u'el', u'fr', u'en', u'zh', u'pt', u'la', u'ca', u'de', u'ko', u'it', u'th', u'es'])\n"
     ]
    }
   ],
   "source": [
    "isocodes = ujson.load(open('isocodes.json'))  # mapping from  iso code to language name\n",
    "user_langs = ujson.load(open('user_inferredlangs.json'))  # mapping from userid to inferred language\n",
    "# remove uncommon languages\n",
    "lang_counts = Counter()\n",
    "for user in user_langs:\n",
    "    lang = user_langs[user]\n",
    "    lang_counts[lang] += 1\n",
    "    \n",
    "user_langs = {user: lang for user, lang in user_langs.items() if lang_counts[lang]>=250 and user in summaries}\n",
    "langset = set(user_langs.values())\n",
    "print 'lang data created with', len(user_langs), 'users and', len(langset), 'languages', langset"
   ]
  },
  {
   "cell_type": "code",
   "execution_count": 5,
   "metadata": {
    "collapsed": true
   },
   "outputs": [],
   "source": [
    "# time utilities\n",
    "def convert_time(el):\n",
    "    \"\"\"Human readable time\"\"\"\n",
    "    el = int(str(el)[:10])\n",
    "    return datetime.date.fromtimestamp(el)\n",
    "\n",
    "def timediff(t1, t2):\n",
    "    \"\"\"difference between times (millisec precision) as days\"\"\"\n",
    "    return (t1-t2)/(86400.*1000)"
   ]
  },
  {
   "cell_type": "code",
   "execution_count": 6,
   "metadata": {
    "collapsed": false
   },
   "outputs": [],
   "source": [
    "i = 0\n",
    "lang_dict = {}\n",
    "for user in summaries: \n",
    "        try: \n",
    "            lang = user_langs[user]\n",
    "        except KeyError:\n",
    "            i +=1\n",
    "        if lang not in lang_dict:\n",
    "            lang_dict[lang] = []\n",
    "        lang_dict[lang].append(summaries[user])"
   ]
  },
  {
   "cell_type": "markdown",
   "metadata": {},
   "source": [
    "Chinese examples"
   ]
  },
  {
   "cell_type": "code",
   "execution_count": 11,
   "metadata": {
    "collapsed": false
   },
   "outputs": [],
   "source": [
    "chin_users = lang_dict['zh']\n",
    "c = Counter()\n",
    "for summary in chin_users: \n",
    "    for project in summary: \n",
    "        c.update([summary[project]['**Project Name']])\n",
    "\n",
    "# print c.most_common(50)        "
   ]
  },
  {
   "cell_type": "code",
   "execution_count": 12,
   "metadata": {
    "collapsed": false
   },
   "outputs": [],
   "source": [
    "zh_examples = [entry for entry in c if 'ex_' in entry and c[entry] > 100]\n",
    "pt_examples = ['Calculadora', 'calculadora', 'DataEHora', 'Lista']\n",
    "ca_examples = ['CercleVersusPunt', 'Adreces_DavidMartinez', 'NomIntroduit', 'TallersSanJordi']\n",
    "de_examples = ['Taschenrechner', 'Einkaufsliste', 'Mehrwertsteuer',  'ZufallsgeneratorLayout']\n",
    "ko_examples = ['gawibawibo', 'ParisMapTour']\n",
    "it_examples = ['calcolatrice', 'traduttore']\n",
    "es_examples = ['prueba', 'brujula', 'examen', 'accelerometro', u'adivina_numero', 'Proyecto', 'Xilofono']\n",
    "\n",
    "lang_tutorials = set(zh_examples + pt_examples + ca_examples + de_examples + ko_examples + it_examples + es_examples)\n"
   ]
  },
  {
   "cell_type": "markdown",
   "metadata": {},
   "source": [
    "### Filter Tutorials"
   ]
  },
  {
   "cell_type": "code",
   "execution_count": 13,
   "metadata": {
    "collapsed": true
   },
   "outputs": [],
   "source": [
    "filter_tutorials = True"
   ]
  },
  {
   "cell_type": "code",
   "execution_count": 14,
   "metadata": {
    "collapsed": true
   },
   "outputs": [],
   "source": [
    "def nameCheck(proj_name): \n",
    "    for tutorial_substring in lang_tutorials: \n",
    "        if tutorial_substring in proj_name.lower():\n",
    "            return True\n",
    "    return False"
   ]
  },
  {
   "cell_type": "code",
   "execution_count": 15,
   "metadata": {
    "collapsed": false
   },
   "outputs": [
    {
     "name": "stdout",
     "output_type": "stream",
     "text": [
      "0 1 2 3 4 5 6 7 8 9\n"
     ]
    }
   ],
   "source": [
    "if filter_tutorials: \n",
    "    not_tutorials = {}\n",
    "\n",
    "    for i in range(10): \n",
    "        print i, \n",
    "        notT_list = ujson.load(open('tutorial_comparisons/nottutorials_' + str(i) +'.json'))\n",
    "        for entry in notT_list: \n",
    "            if entry[0] not in summaries:\n",
    "                continue\n",
    "            proj_name = entry[1].split(\"_summary.json\")[0]\n",
    "            if entry[0] not in not_tutorials: \n",
    "                not_tutorials[entry[0]] = {}\n",
    "            try: \n",
    "                if not nameCheck(proj_name):\n",
    "                    not_tutorials[entry[0]][proj_name] = summaries[entry[0]][proj_name]\n",
    "            except KeyError: \n",
    "                pass\n",
    "\n",
    "not_tutorials = {user: not_tutorials[user] for user in not_tutorials.keys() if len(not_tutorials[user])>0}\n"
   ]
  },
  {
   "cell_type": "code",
   "execution_count": 17,
   "metadata": {
    "collapsed": false
   },
   "outputs": [],
   "source": [
    "users = not_tutorials.keys() \n",
    "lang_counter = Counter([user_langs[user] for user in users if user in user_langs]) \n",
    "tup = sorted(zip(lang_counter.values(), lang_counter.keys()), reverse = True)\n"
   ]
  },
  {
   "cell_type": "code",
   "execution_count": 19,
   "metadata": {
    "collapsed": false
   },
   "outputs": [
    {
     "data": {
      "image/png": "[encoded data removed]",
      "text/plain": [
       "<matplotlib.figure.Figure at 0x60eedd190>"
      ]
     },
     "metadata": {},
     "output_type": "display_data"
    }
   ],
   "source": [
    "import matplotlib.pyplot as plt; plt.rcdefaults()\n",
    "import numpy as np\n",
    "import matplotlib.pyplot as plt\n",
    " \n",
    "values = [t[0] for t in tup]\n",
    "languages = [t[1] for t in tup]\n",
    "y_pos = np.arange(len(languages))\n",
    "plt.bar(y_pos, values, alpha= 0.5)\n",
    "plt.xticks(y_pos, languages)\n",
    "plt.ylabel('Number of Users')\n",
    "plt.xlabel('Languages')\n",
    "plt.title('User Language Distribution')\n",
    "\n",
    "plt.show()"
   ]
  },
  {
   "cell_type": "code",
   "execution_count": null,
   "metadata": {
    "collapsed": false
   },
   "outputs": [],
   "source": [
    "# len(not_tutorials)"
   ]
  },
  {
   "cell_type": "code",
   "execution_count": null,
   "metadata": {
    "collapsed": false
   },
   "outputs": [],
   "source": [
    "# if filter_tutorials: \n",
    "#     not_tutorials_old = {}\n",
    "\n",
    "#     for i in range(10): \n",
    "#         print i, \n",
    "#         notT_list_old = ujson.load(open('tutorial_comparisons/nottutorials_' + str(i) +'.json'))\n",
    "#         for entry in notT_list_old: \n",
    "#             if entry[0] not in summaries:\n",
    "#                 continue\n",
    "#             proj_name = entry[1].split(\"_summary.json\")[0]\n",
    "#             if entry[0] not in not_tutorials_old: \n",
    "#                 not_tutorials_old[entry[0]] = {}\n",
    "#             try: \n",
    "#                 not_tutorials_old[entry[0]][proj_name] = summaries[entry[0]][proj_name]\n",
    "#             except KeyError: \n",
    "#                 pass"
   ]
  },
  {
   "cell_type": "code",
   "execution_count": null,
   "metadata": {
    "collapsed": false
   },
   "outputs": [],
   "source": [
    "# sum([len(not_tutorials[userID]) for userID in not_tutorials])"
   ]
  },
  {
   "cell_type": "code",
   "execution_count": null,
   "metadata": {
    "collapsed": false
   },
   "outputs": [],
   "source": [
    "# sum([len(not_tutorials_old[userID]) for userID in not_tutorials_old])"
   ]
  },
  {
   "cell_type": "code",
   "execution_count": null,
   "metadata": {
    "collapsed": false
   },
   "outputs": [],
   "source": [
    "# len(not_tutorials_old)"
   ]
  },
  {
   "cell_type": "markdown",
   "metadata": {},
   "source": [
    "## 2. Featurize"
   ]
  },
  {
   "cell_type": "markdown",
   "metadata": {},
   "source": [
    "## Time featurizer"
   ]
  },
  {
   "cell_type": "code",
   "execution_count": 20,
   "metadata": {
    "collapsed": false
   },
   "outputs": [],
   "source": [
    "def projectLengthFeatures(projects):\n",
    "    \"\"\"moments of project lengths and intervals, as well as number of projects\"\"\"\n",
    "    lengths = getProjectLengths(projects)\n",
    "    intervals = getProjectIntervals(projects)\n",
    "    \n",
    "    #note: feature names are for our reference only\n",
    "    userDict = {} \n",
    "    userDict[\"mean of lengths\"] = numpy.mean(lengths)\n",
    "    userDict[\"stddev of lengths\"] = numpy.std(lengths)\n",
    "    userDict[\"mean of intervals\"] = numpy.mean(lengths)\n",
    "    userDict[\"stddev of intervals\"] = numpy.std(lengths)\n",
    "    \n",
    "    userDict[\"num projects\"] = numProjects(projects)\n",
    "    \n",
    "    return userDict"
   ]
  },
  {
   "cell_type": "code",
   "execution_count": 21,
   "metadata": {
    "collapsed": true
   },
   "outputs": [],
   "source": [
    "def dayAnalysisFeatures(projects):\n",
    "    \"\"\"number of projects on each day of the week, and the percentage of them on a weekday\"\"\"\n",
    "    byday = numOnDay(projects)\n",
    "\n",
    "    userDict = {day: byday[i] for i, day in enumerate([\"Monday\", \n",
    "                                                       \"Tuesday\", \n",
    "                                                       \"Wednesday\", \n",
    "                                                       \"Thursday\", \n",
    "                                                       \"Friday\", \n",
    "                                                       \"Saturday\", \n",
    "                                                       \"Sunday\"])}\n",
    "    return userDict"
   ]
  },
  {
   "cell_type": "code",
   "execution_count": 22,
   "metadata": {
    "collapsed": true
   },
   "outputs": [],
   "source": [
    "def decileProjects(projects):\n",
    "    numbins = 10\n",
    "    hist = projectsPerUserPeriod(projects, bins=numbins)\n",
    "    \n",
    "    userDict = {'decile '+str(i+1): hist[i] for i in range(numbins)}\n",
    "    return userDict"
   ]
  },
  {
   "cell_type": "markdown",
   "metadata": {},
   "source": [
    "## Code Features\n"
   ]
  },
  {
   "cell_type": "code",
   "execution_count": 23,
   "metadata": {
    "collapsed": false
   },
   "outputs": [],
   "source": [
    "def transformBlocks(projects, all_blocks_dict):\n",
    "    newDict = {}\n",
    "    for key in all_blocks_dict: \n",
    "        if '_' in key: \n",
    "            newKey = key.split(\"_\")[0]\n",
    "        elif '.' in key: \n",
    "            newKey = key.split(\".\")[0]\n",
    "        else: \n",
    "            newKey = key\n",
    "        if newKey not in newDict: \n",
    "            newDict[newKey] = 0\n",
    "        newDict[newKey] += all_blocks_dict[key]\n",
    "\n",
    "    return normalizeDict(newDict,p)"
   ]
  },
  {
   "cell_type": "code",
   "execution_count": 24,
   "metadata": {
    "collapsed": true
   },
   "outputs": [],
   "source": [
    "def deltaDeciles(decileDict, name):\n",
    "    values = sortDeciles(decileDict)\n",
    "    deltas = {}\n",
    "    for i in range(10): \n",
    "        if i== 0: pass\n",
    "        else: deltas[str(i) + \" \" + name] = values[i]-values[i-1]\n",
    "    return deltas\n",
    "\n",
    "\n",
    "def sortDeciles(decileDict):\n",
    "    deciles_sorted = []\n",
    "    keys = decileDict.keys()\n",
    "    for key in keys: \n",
    "        deciles_sorted.insert(int(key[-1]), decileDict[key])\n",
    "    return deciles_sorted\n",
    "\n"
   ]
  },
  {
   "cell_type": "code",
   "execution_count": 25,
   "metadata": {
    "collapsed": true
   },
   "outputs": [],
   "source": [
    "def summaryOBlockDecile(projects): \n",
    "    hist = decileOrphanBlocks(projects)\n",
    "    userDict = {'Orphan Decile '+str(i+1): hist[i] for i in range(10)}\n",
    "    return userDict"
   ]
  },
  {
   "cell_type": "code",
   "execution_count": 26,
   "metadata": {
    "collapsed": true
   },
   "outputs": [],
   "source": [
    "def summaryDecileTLBlocks(projects): \n",
    "    hist = decileTypesTopLevelBlocks(projects)\n",
    "    userDict = {'TopLevel Decile '+str(i+1): hist[i] for i in range(10)}\n",
    "    return userDict"
   ]
  },
  {
   "cell_type": "code",
   "execution_count": 27,
   "metadata": {
    "collapsed": true
   },
   "outputs": [],
   "source": [
    "def summaryDecileNumScreens(projects): \n",
    "    hist = decileNumScreens(projects)\n",
    "    userDict = {'NumScreens Decile '+str(i+1): hist[i] for i in range(10)}\n",
    "    return userDict"
   ]
  },
  {
   "cell_type": "code",
   "execution_count": 28,
   "metadata": {
    "collapsed": true
   },
   "outputs": [],
   "source": [
    "def summaryDeltasTLBlocks(projects): \n",
    "    tlblocks = summaryDecileTLBlocks(projects)\n",
    "    return deltaDeciles(tlblocks, \"TL blocks delta\")"
   ]
  },
  {
   "cell_type": "code",
   "execution_count": 29,
   "metadata": {
    "collapsed": true
   },
   "outputs": [],
   "source": [
    "def summaryDeltasOBlock(projects): \n",
    "    oblock = summaryOBlockDecile(projects)\n",
    "    return deltaDeciles(oblock,\"O blocks delta\")"
   ]
  },
  {
   "cell_type": "code",
   "execution_count": 30,
   "metadata": {
    "collapsed": true
   },
   "outputs": [],
   "source": [
    "def summaryDeltasNumScreens(projects): \n",
    "    numscreens = summaryDecileNumScreens(projects)\n",
    "    return deltaDeciles(numscreens, \"numscreens blocks delta\")"
   ]
  },
  {
   "cell_type": "code",
   "execution_count": 31,
   "metadata": {
    "collapsed": true
   },
   "outputs": [],
   "source": [
    "def summaryAverages(projects):\n",
    "    userDict = {} \n",
    "    userDict[\"mean of numScreens\"] = numpy.mean(getNumScreens(projects))\n",
    "    userDict[\"NB\"] = averageNumBlocks(projects)\n",
    "    userDict[\"OB\"] = getAverageOrphanBlocks(projects)\n",
    "    \n",
    "    userDict[\"TL\"] = getAverageTypeTLBlocks(projects)\n",
    "    userDict[\"TL2\"] = getAverageNumTLBlocks(projects)\n",
    "    \n",
    "    userDict[\"NC\"] = averageNumComponents(projects)\n",
    "    userDict[\"NTC\"] = averageNumTypeComponents(projects)\n",
    "\n",
    "    userDict[\"MC\"] = aveNumMediaAssets(projects)\n",
    "    \n",
    "    userDict[\"NP\"] = averageNumProcedures(projects)\n",
    "    userDict[\"NS\"] = averageNumStrings(projects) \n",
    "        \n",
    "    varList = getAllVariables(projects)\n",
    "    userDict[\"local vars\"] = varList[0]\n",
    "    userDict[\"global vars\"] = varList[1]\n",
    "    \n",
    "#     controls_dict = getControlsBlocks(projects)\n",
    "#     userDict['controls_if'] = controls_dict['controls_if']\n",
    "#     userDict['controls_forEach'] = controls_dict['controls_forEach']\n",
    "#     userDict['controls_choose'] = controls_dict['controls_choose']\n",
    "#     userDict['controls_while'] = controls_dict['controls_while']\n",
    "\n",
    "\n",
    "\n",
    "    return userDict"
   ]
  },
  {
   "cell_type": "code",
   "execution_count": 32,
   "metadata": {
    "collapsed": true
   },
   "outputs": [],
   "source": [
    "def classesFeaturizers(projects): \n",
    "    userDict = {} \n",
    "    classes = getClasses(projects)\n",
    "    cList = ['TableArrangement', 'DatePicker', 'Canvas', \n",
    "             'CheckBox', 'Web', 'Clock', 'BluetoothServer', \n",
    "             'ActivityStarter', 'Texting', 'Label', 'Spinner', \n",
    "             'Camera', 'BluetoothClient', 'PhoneCall', 'LocationSensor', \n",
    "             'VerticalArrangement', 'HorizontalArrangement', 'Sharing', \n",
    "             'TextToSpeech', 'GoogleMap', 'Slider', 'OrientationSensor', \n",
    "             'ListView', 'PhoneNumberPicker', 'TinyDB', 'NxtDirectCommands', \n",
    "             'Sound', 'ListPicker', 'SpeechRecognizer', 'Button', 'WebViewer',\n",
    "             'BarcodeScanner', 'NxtDrive', 'Camcorder', 'Notifier', 'TextBox',\n",
    "             'AccelerometerSensor', 'Image', 'VideoPlayer', 'TinyWebDB',\n",
    "             'Player', 'File', 'YandexTranslate']\n",
    "   \n",
    "    for key in cList: \n",
    "        userDict[key] = classes[key]\n",
    "        \n",
    "    return userDict"
   ]
  },
  {
   "cell_type": "code",
   "execution_count": 46,
   "metadata": {
    "collapsed": false
   },
   "outputs": [],
   "source": [
    "def allBlocksFeaturizer(projects):\n",
    "    userDict = {}\n",
    "    with open('top_500_blocks.json') as data_file:    \n",
    "        block_list = json.load(data_file)\n",
    "\n",
    "    all_blocks_dict = {block:0 for block in block_list}\n",
    "    all_blocks_dict = getBlocks(projects, all_blocks_dict) \n",
    "    \n",
    "    for key in block_list: \n",
    "        userDict[key] = all_blocks_dict[key]\n",
    "            \n",
    "    return userDict"
   ]
  },
  {
   "cell_type": "markdown",
   "metadata": {},
   "source": [
    "### Setup"
   ]
  },
  {
   "cell_type": "code",
   "execution_count": 47,
   "metadata": {
    "collapsed": true
   },
   "outputs": [],
   "source": [
    "def combine_featfuncs(funclist):\n",
    "    def combined(user):\n",
    "        basedict = funclist[0](user)\n",
    "        for f in funclist[1:]:\n",
    "            basedict.update(f(user))\n",
    "        return basedict\n",
    "    return combined"
   ]
  },
  {
   "cell_type": "code",
   "execution_count": 48,
   "metadata": {
    "collapsed": false
   },
   "outputs": [],
   "source": [
    "def getAllProjects(userID, no_tutorials): \n",
    "    \"\"\"list of projects sorted by creation times\"\"\"\n",
    "    if (no_tutorials):\n",
    "        try: \n",
    "            projectlist = not_tutorials[userID].values()\n",
    "        except:\n",
    "            print userID\n",
    "    else: \n",
    "        projectlist = summaries[userID].values()\n",
    "    return sorted(projectlist,\n",
    "                  key=lambda project: project['**created']) \n",
    "\n",
    "def userDuration(projectlist):\n",
    "    \"\"\"get the duration (difference between last and earliest creation dates)\"\"\"\n",
    "    return timediff(projectlist[-1]['**created'], projectlist[0]['**created'])\n",
    "\n",
    "\n",
    "     "
   ]
  },
  {
   "cell_type": "code",
   "execution_count": 49,
   "metadata": {
    "collapsed": false
   },
   "outputs": [],
   "source": [
    "langgroups = {'es': 'eur',\n",
    "              'pt': 'eur', \n",
    "              'it': 'eur', \n",
    "              'de': 'eur', \n",
    "              'fr': 'eur', \n",
    "              'ca': 'eur', \n",
    "              'el': 'eur', \n",
    "              'nl': 'eur', \n",
    "              'pl': 'eur',\n",
    "              'en': 'eur',\n",
    "              'ru': 'eur',\n",
    "              'ko': 'asia', \n",
    "              'zh': 'asia', \n",
    "              'ja': 'asia', \n",
    "              'th': 'asia'}\n",
    "langgroup_num_map = {'eur': 0, 'asia': 1}\n",
    "\n"
   ]
  },
  {
   "cell_type": "code",
   "execution_count": 50,
   "metadata": {
    "collapsed": true
   },
   "outputs": [],
   "source": [
    "#def get_user_labels():\n",
    "    #return {user: lang_num_map[lang] for user, lang in user_langs.items()}\n",
    "    #return {user: langgroup_num_map[langgroups[lang]] for user, lang in user_langs.items()}\n",
    "    \n",
    "def get_user_labels():\n",
    "    return {user: langgroup_num_map[langgroups[lang]] for user, lang in user_langs.items() if lang in langgroups.keys()}\n"
   ]
  },
  {
   "cell_type": "code",
   "execution_count": 51,
   "metadata": {
    "collapsed": false
   },
   "outputs": [],
   "source": [
    "time_combined = combine_featfuncs([projectLengthFeatures, dayAnalysisFeatures,decileProjects])\n",
    "code_combined = combine_featfuncs([summaryOBlockDecile,summaryDecileTLBlocks,summaryDecileNumScreens,summaryDeltasTLBlocks,summaryDeltasOBlock,summaryDeltasNumScreens, summaryAverages, allBlocksFeaturizer])  "
   ]
  },
  {
   "cell_type": "code",
   "execution_count": 52,
   "metadata": {
    "collapsed": false
   },
   "outputs": [
    {
     "name": "stdout",
     "output_type": "stream",
     "text": [
      "1 2 3 4 5 6 7 8 9 10 11 12 13 14 15 16 17 18 19 20 21 22 23 24 25 26 27 28 29 30 31 32 33 34 35 36 37 38 39 40 41 42\n"
     ]
    }
   ],
   "source": [
    "from sklearn.feature_extraction import DictVectorizer\n",
    "\n",
    "all_features = []\n",
    "time_features = [] \n",
    "code_features = []\n",
    "\n",
    "userlabels = get_user_labels()\n",
    "\n",
    "y = []\n",
    "ctr = 0\n",
    "for user in userlabels:\n",
    "    if user in not_tutorials: \n",
    "\n",
    "        projects = getAllProjects(user, filter_tutorials)  # this returns projects sorted by creation date that include tutorials \n",
    "\n",
    "        y.append(userlabels[user])\n",
    "\n",
    "        time_features.append(time_combined(projects))\n",
    "        code_features.append(code_combined(projects))\n",
    "\n",
    "\n",
    "        # merge time and code feature dicts\n",
    "        all_features_user = time_features[-1].copy()\n",
    "        all_features_user.update(code_features[-1])\n",
    "        all_features.append(all_features_user)\n",
    "\n",
    "        ctr+=1\n",
    "        if ctr%1000==0:\n",
    "            print ctr/1000,\n",
    "\n",
    "        \n",
    "\n",
    "\n",
    "y = numpy.array(y)\n",
    "\n",
    "timevec = DictVectorizer()\n",
    "\n",
    "Xtime = timevec.fit_transform(time_features) \n",
    "\n",
    "codevec = DictVectorizer()\n",
    "\n",
    "Xcode = codevec.fit_transform(code_features)\n",
    "\n",
    "allvec = DictVectorizer()\n",
    "\n",
    "Xall = allvec.fit_transform(all_features)\n"
   ]
  },
  {
   "cell_type": "code",
   "execution_count": 53,
   "metadata": {
    "collapsed": false
   },
   "outputs": [],
   "source": [
    "from sklearn.preprocessing import scale\n",
    "from numpy import *\n",
    "# # convert to dense matrices since these are dense anyway\n",
    "Xtime = scale(Xtime.toarray())\n",
    "Xcode = scale(Xcode.toarray())\n",
    "Xall = scale(Xall.toarray())"
   ]
  },
  {
   "cell_type": "markdown",
   "metadata": {},
   "source": [
    "#### Static KFold Values"
   ]
  },
  {
   "cell_type": "code",
   "execution_count": 54,
   "metadata": {
    "collapsed": true
   },
   "outputs": [],
   "source": [
    "import pickle"
   ]
  },
  {
   "cell_type": "code",
   "execution_count": 55,
   "metadata": {
    "collapsed": false
   },
   "outputs": [],
   "source": [
    "if filter_tutorials:\n",
    "    with open('filtered_kfold.pickle', 'rb') as f:\n",
    "        foldindices = pickle.load(f)\n",
    "else:\n",
    "    with open('unfiltered_kfold.pickle', 'rb') as f:\n",
    "        foldindices = pickle.load(f)"
   ]
  },
  {
   "cell_type": "markdown",
   "metadata": {},
   "source": [
    "### Model Training and Testing"
   ]
  },
  {
   "cell_type": "code",
   "execution_count": 56,
   "metadata": {
    "collapsed": false,
    "scrolled": true
   },
   "outputs": [
    {
     "name": "stdout",
     "output_type": "stream",
     "text": [
      "Chance is 0.678882455397\n",
      "Building a logreg model with 591 features\n",
      "Confusion matrix, without normalization\n"
     ]
    },
    {
     "data": {
      "image/png": "[encoded data removed]",
      "text/plain": [
       "<matplotlib.figure.Figure at 0x610260f10>"
      ]
     },
     "metadata": {},
     "output_type": "display_data"
    },
    {
     "name": "stdout",
     "output_type": "stream",
     "text": [
      "Average accuracy: 0.907851929862\n"
     ]
    }
   ],
   "source": [
    "from sklearn.cross_validation import StratifiedKFold\n",
    "from sklearn.neighbors import KNeighborsClassifier\n",
    "from  sklearn.metrics import f1_score \n",
    "from sklearn.linear_model import LogisticRegression\n",
    "from sklearn.metrics import confusion_matrix\n",
    "import matplotlib.pyplot as plt\n",
    "%matplotlib inline \n",
    "from plotcnf import plot_confusion_matrix\n",
    "from sklearn.decomposition import PCA\n",
    "\n",
    "print 'Chance is', max(numpy.bincount(y))/float(len(y))\n",
    "\n",
    "### added later ### ************************    \n",
    "foldindices = StratifiedKFold(y)\n",
    "\n",
    "\n",
    "labels = map(lambda x:x[0], sorted(langgroup_num_map.items(), key=lambda x:x[1]))  \n",
    "# languages corresponding to class labels as a list\n",
    "\n",
    "    \n",
    "k = 70 #num neighbors for kNN\n",
    "\n",
    "classifiers = [('logreg', LogisticRegression())]  # no knn because it's too slow \n",
    "#multi_class='multinomial', \n",
    "   \n",
    "\n",
    "for modelname, model in classifiers:\n",
    "    for featname, X in [('all', Xall)]:#('time', Xtime), ('code', Xcode), ('all', Xall)]:\n",
    "        print  'Building a', modelname, 'model with', X.shape[1], 'features'\n",
    "    \n",
    "        cvaccs = numpy.zeros(len(foldindices))\n",
    "        #cvf1 = numpy.zeros(len(foldindices))\n",
    "        for i, (trainidx, testidx) in enumerate(foldindices):\n",
    "            #print 'Fold', i+1\n",
    "        \n",
    "            ytrain = y[trainidx]\n",
    "            ytest = y[testidx]\n",
    "        \n",
    "            Xtrain = X[trainidx, :]  \n",
    "            Xtest = X[testidx, :]\n",
    "            \n",
    "#             model.fit(Xtrain, ytrain)\n",
    "#             cvaccs[i] = model.score(Xtest, ytest)\n",
    "\n",
    "            #pca = PCA(n_components=200)\n",
    "\n",
    "           # reduced_train = pca.fit_transform(Xtrain)\n",
    "            #reduced_test = pca.transform(Xtest)\n",
    "            \n",
    "            model.fit(Xtrain, ytrain)\n",
    "            cvaccs[i] = model.score(Xtest, ytest)\n",
    "    \n",
    "        \n",
    "            predictions = model.predict(Xtest)\n",
    "            #cvf1[i] = f1_score(ytest, predictions)\n",
    "            \n",
    "            #print '****', modelname, cvaccs[i]\n",
    "        #analyze last fold only\n",
    "        cnf_matrix = confusion_matrix(ytest, predictions)  \n",
    "\n",
    "        plot_confusion_matrix(cnf_matrix, labels)\n",
    "        plt.show()\n",
    "        coef = model.coef_\n",
    "        print 'Average accuracy:', numpy.mean(cvaccs)"
   ]
  },
  {
   "cell_type": "code",
   "execution_count": 60,
   "metadata": {
    "collapsed": false
   },
   "outputs": [],
   "source": [
    "plt.show()\n",
    "coef = model.coef_\n",
    "print 'Average accuracy:', numpy.mean(cvaccs)"
   ]
  },
  {
   "cell_type": "markdown",
   "metadata": {},
   "source": [
    "### Coefs "
   ]
  },
  {
   "cell_type": "code",
   "execution_count": 57,
   "metadata": {
    "collapsed": false
   },
   "outputs": [
    {
     "data": {
      "text/plain": [
       "[('NB', -3.3397021193239258),\n",
       " (u'procedures_defnoreturn', -1.0636068782948505),\n",
       " (u'ImageSprite.EdgeReached', -0.99390535315983508),\n",
       " ('TL2', -0.95253755091674575),\n",
       " (u'DatePicker.GetMonthInText', -0.90160470234535883),\n",
       " ('MC', -0.62013795631835888),\n",
       " (u'ImageSprite.PointInDirection', -0.50574187289393291),\n",
       " (u'YandexTranslate.RequestTranslation', -0.48786765079925987),\n",
       " (u'text_replace_all', -0.48008101945712739),\n",
       " (u'Button.GetWidth', -0.46324132777250315),\n",
       " (u'Canvas.DrawText', -0.43165001199163922),\n",
       " (u'global_declaration', -0.42496407789019225),\n",
       " (u'Ball.SetInterval', -0.39837137112161747),\n",
       " (u'lexical_variable_get', -0.39320011767243485),\n",
       " (u'BluetoothClient.GetEnabled', -0.37084561703878188),\n",
       " (u'PasswordTextBox.SetVisible', -0.36901686565288355),\n",
       " (u'AccelerometerSensor.GetXAccel', -0.35896346218746822),\n",
       " (u'ListView.GetElements', -0.34955107873147573),\n",
       " (u'FusiontablesControl.GotResult', -0.34735581257862763),\n",
       " (u'math_single', -0.33226613819873496),\n",
       " ('mean of numScreens', -0.33087502470528918),\n",
       " (u'ActivityStarter.SetActivityClass', -0.32858515714206876),\n",
       " (u'Player.GetIsPlaying', -0.32184084043395267),\n",
       " (u'ActivityStarter.SetDataType', -0.31963721078817825),\n",
       " (u'math_format_as_decimal', -0.3186037310783813),\n",
       " (u'TimePicker.GetMinute', -0.30864890369370596),\n",
       " (u'color_green', -0.27994253411185893),\n",
       " (u'Canvas.Touched', -0.2796656158094798),\n",
       " (u'FusiontablesControl.SetQuery', -0.27949628554950279),\n",
       " (u'TextToSpeech.SetCountry', -0.27732296865626327),\n",
       " (u'lists_to_csv_table', -0.2772969594871193),\n",
       " (u'Camera.TakePicture', -0.27123230514507402),\n",
       " (u'Canvas.SetBackgroundColor', -0.26459859471804098),\n",
       " (u'logic_boolean', -0.26359330819762261),\n",
       " (u'ListView.SetElements', -0.26155527000760165),\n",
       " (u'Canvas.GetHeight', -0.25638739886180106),\n",
       " (u'ImageSprite.Dragged', -0.2541710300916098),\n",
       " (u'WebViewer.GetHomeUrl', -0.25390055679719831),\n",
       " (u'Ball.Flung', -0.24685057634226396),\n",
       " (u'math_round', -0.24594841826614872),\n",
       " (u'procedures_defreturn', -0.23673808056047679),\n",
       " (u'color_gray', -0.2345737084014643),\n",
       " (u'Clock.Now', -0.23417538444338279),\n",
       " (u'controls_if', -0.23390471906716126),\n",
       " (u'CheckBox.SetText', -0.23316060431938049),\n",
       " (u'BluetoothServer.GetIsAccepting', -0.22946602727262874),\n",
       " (u'LocationSensor.LocationChanged', -0.22644938796902139),\n",
       " (u'color_cyan', -0.22134754215110736),\n",
       " (u'BluetoothServer.ReceiveText', -0.22048557027730042),\n",
       " (u'TextBox.GetNumbersOnly', -0.21934660069911854),\n",
       " (u'VideoPlayer.SetWidth', -0.21699219461291397),\n",
       " (u'Canvas.Dragged', -0.21635412356114253),\n",
       " ('NS', -0.20757172226308226),\n",
       " (u'ImagePicker.AfterPicking', -0.20408631849197514),\n",
       " (u'local_declaration_statement', -0.20289618382672722),\n",
       " (u'Ball.Dragged', -0.20203848398549082),\n",
       " (u'File.AppendToFile', -0.19854197447470467),\n",
       " (u'TextBox.RequestFocus', -0.19686901999996215),\n",
       " (u'controls_closeApplication', -0.19366082652149239),\n",
       " (u'TinyDB.GetValue', -0.19191353922441665),\n",
       " (u'None.text', -0.18978995045545002),\n",
       " ('NC', -0.18949901793084964),\n",
       " ('NTC', -0.18949901793084964),\n",
       " (u'ImageSprite.Flung', -0.18552149271064053),\n",
       " (u'Ball.Touched', -0.18463741102799383),\n",
       " (u'Web.UriEncode', -0.18403358272722348),\n",
       " (u'ContactPicker.AfterPicking', -0.1818150343900074),\n",
       " (u'Web.BuildRequestData', -0.18041217874615431),\n",
       " (u'BarcodeScanner.GetResult', -0.18027152273451386),\n",
       " (u'color_red', -0.17891022411305602),\n",
       " (u'BluetoothClient.Connect', -0.17861986779195946),\n",
       " (u'WebViewer.GetCurrentPageTitle', -0.17796633794025701),\n",
       " (u'ActivityStarter.ResolveActivity', -0.17723300038036019),\n",
       " (u'Web.SetUrl', -0.17634116601936473),\n",
       " (u'WebViewer.SetWebViewString', -0.17552411222691186),\n",
       " (u'BluetoothServer.GetIsConnected', -0.17536725928764824),\n",
       " (u'VerticalArrangement.GetVisible', -0.17525619180511703),\n",
       " (u'OrientationSensor.GetRoll', -0.17196939397723027),\n",
       " (u'ImageSprite.GetWidth', -0.1696059166715482),\n",
       " ('Friday', -0.16644839021914742),\n",
       " (u'DatePicker.GetYear', -0.16479472407805312),\n",
       " (u'SoundRecorder.Start', -0.16011607030086963),\n",
       " (u'PhoneNumberPicker.GetPhoneNumber', -0.16011150089286463),\n",
       " (u'PasswordTextBox.SetText', -0.15606495774932067),\n",
       " (u'Label.SetFontSize', -0.15569082592317204),\n",
       " ('stddev of intervals', -0.15428193051156025),\n",
       " ('stddev of lengths', -0.15428193051156025),\n",
       " (u'Ball.SetPaintColor', -0.15390202543902984),\n",
       " (u'Form.GetHeight', -0.15248719045513343),\n",
       " (u'math_neg', -0.14976392182092785),\n",
       " (u'Form.SetBackgroundImage', -0.14905692068412429),\n",
       " (u'ImageSprite.SetInterval', -0.14789266215197774),\n",
       " (u'text_trim', -0.14654670367716724),\n",
       " (u'ListPicker.GetSelection', -0.14525802481008948),\n",
       " (u'text_segment', -0.14454555232295918),\n",
       " (u'TinyDB.StoreValue', -0.14438971633625078),\n",
       " (u'TextToSpeech.SetPitch', -0.14379168229504163),\n",
       " (u'TextToSpeech.Speak', -0.14288693621777099),\n",
       " (u'Clock.GetMillis', -0.14044090125052466),\n",
       " (u'Label.SetVisible', -0.13520522470125171),\n",
       " (u'Button.SetVisible', -0.13424626851895777),\n",
       " (u'BluetoothClient.BytesAvailableToReceive', -0.13367898357912286),\n",
       " (u'Canvas.DrawCircle', -0.13329595241324044),\n",
       " (u'Form.ScreenOrientationChanged', -0.13085318952759126),\n",
       " (u'color_magenta', -0.1303062230027765),\n",
       " (u'text_changeCase', -0.12946190948001307),\n",
       " (u'Ball.MoveTo', -0.12669373585021568),\n",
       " (u'File.SaveFile', -0.12499019820260351),\n",
       " (u'ImageSprite.GetX', -0.12480349644084618),\n",
       " (u'TextBox.SetBackgroundColor', -0.12171751988432482),\n",
       " (u'Sharing.ShareMessage', -0.1202903351944789),\n",
       " (u'ListPicker.GetElements', -0.11928931427984375),\n",
       " (u'Sharing.ShareFileWithMessage', -0.11911111319584766),\n",
       " (u'controls_forEach', -0.11853637196596491),\n",
       " (u'Camcorder.RecordVideo', -0.11851388397818984),\n",
       " (u'Canvas.Clear', -0.1183025465230399),\n",
       " (u'controls_eval_but_ignore', -0.11475064157661542),\n",
       " (u'SpeechRecognizer.BeforeGettingText', -0.11438472968559857),\n",
       " ('Saturday', -0.11400317495376466),\n",
       " (u'Canvas.GetWidth', -0.11395738785283702),\n",
       " (u'ImageSprite.GetEnabled', -0.11395111132736707),\n",
       " (u'controls_getStartValue', -0.11312084979404041),\n",
       " (u'Ball.GetSpeed', -0.11154370434779666),\n",
       " (u'text_contains', -0.11101482596588726),\n",
       " (u'VideoPlayer.SetVisible', -0.10777158154851436),\n",
       " (u'ImageSprite.CollidingWith', -0.10574500136465913),\n",
       " (u'Button.SetFontBold', -0.10344440038593415),\n",
       " (u'ListView.SetVisible', -0.1019824412577971),\n",
       " ('Orphan Decile 10', -0.1016544494806233),\n",
       " (u'Button.GetText', -0.1013989449993324),\n",
       " (u'LocationSensor.GetAccuracy', -0.10070034756055543),\n",
       " (u'ListView.GetSelectionIndex', -0.10067160466884539),\n",
       " (u'Form.SetAboutScreen', -0.10029355314704623),\n",
       " (u'ImageSprite.PointTowards', -0.098991454663213435),\n",
       " (u'LocationSensor.GetLatitude', -0.096715303386059284),\n",
       " (u'BluetoothClient.GetAvailable', -0.09594186052819513),\n",
       " (u'LocationSensor.SetEnabled', -0.094753121922291267),\n",
       " (u'TextBox.SetNumbersOnly', -0.094682830651324643),\n",
       " (u'Button.LongClick', -0.093799052578917255),\n",
       " (u'WebViewer.GoBack', -0.09201767462769106),\n",
       " (u'ListPicker.GetText', -0.090601396896518596),\n",
       " (u'ListPicker.SetBackgroundColor', -0.090563549186266135),\n",
       " (u'VideoPlayer.SetFullScreen', -0.090382403161214181),\n",
       " ('1 TL blocks delta', -0.087552813322272924),\n",
       " (u'ListView.GetSelection', -0.085532171199397947),\n",
       " (u'color_make_color', -0.08418423640134623),\n",
       " (u'Spinner.GetSelectionIndex', -0.082963493891753268),\n",
       " (u'Texting.SendMessage', -0.081426848608070659),\n",
       " (u'ImageSprite.SetHeight', -0.081118067448424647),\n",
       " (u'TextToSpeech.AfterSpeaking', -0.079757027578087253),\n",
       " (u'None.spaces', -0.077699868893954582),\n",
       " (u'color_yellow', -0.077287781307751158),\n",
       " (u'Canvas.SetHeight', -0.076492411242150754),\n",
       " (u'Image.SetHeight', -0.075672774410016852),\n",
       " (u'Form.SetScreenOrientation', -0.068793969768873586),\n",
       " (u'ProximitySensor.ProximityChanged', -0.066954514746036586),\n",
       " (u'color_blue', -0.06650930283702558),\n",
       " (u'Sound.Pause', -0.065522661336580801),\n",
       " (u'TinyWebDB.GotValue', -0.065509491270548781),\n",
       " (u'color_light_gray', -0.065379365714262005),\n",
       " (u'controls_choose', -0.064908801951306702),\n",
       " (u'DatePicker.AfterDateSet', -0.064706343496954769),\n",
       " (u'NxtDrive.MoveForwardIndefinitely', -0.064214172723565444),\n",
       " (u'Sound.GetMinimumInterval', -0.063497258092631431),\n",
       " (u'OrientationSensor.GetPitch', -0.063063412511910444),\n",
       " (u'Clock.GetTimerEnabled', -0.062672383175518029),\n",
       " (u'BarcodeScanner.DoScan', -0.061999282283178594),\n",
       " (u'Sound.GetSource', -0.061963238367276366),\n",
       " (u'color_orange', -0.061536002451777649),\n",
       " (u'ListPicker.SetSelection', -0.06118973439941286),\n",
       " (u'Ball.SetX', -0.060791301363690105),\n",
       " (u'ContactPicker.GetPhoneNumber', -0.05932563837511904),\n",
       " (u'Ball.Bounce', -0.058651831690863729),\n",
       " (u'math_atan2', -0.058366587080838361),\n",
       " (u'TextToSpeech.SetSpeechRate', -0.056162439986486207),\n",
       " (u'SpeechRecognizer.GetResult', -0.051532117975140936),\n",
       " ('Orphan Decile 9', -0.051467989902697867),\n",
       " (u'ActivityStarter.SetExtraKey', -0.051370808138204223),\n",
       " (u'local_declaration_expression', -0.051090406190563514),\n",
       " ('3 numscreens blocks delta', -0.050713089302279003),\n",
       " (u'lists_add_items', -0.050362060716218703),\n",
       " (u'VideoPlayer.Pause', -0.049632097275748521),\n",
       " (u'Web.SetRequestHeaders', -0.049382838169847891),\n",
       " (u'TextBox.SetEnabled', -0.048662801391794845),\n",
       " (u'Form.OtherScreenClosed', -0.048242379580907005),\n",
       " (u'Player.SetSource', -0.047956613347471859),\n",
       " (u'color_dark_gray', -0.047569985229203263),\n",
       " (u'FusiontablesControl.ForgetLogin', -0.0475685606530801),\n",
       " (u'Ball.SetEnabled', -0.047302475423827157),\n",
       " ('decile 3', -0.047024828836638055),\n",
       " (u'OrientationSensor.OrientationChanged', -0.046677172189697677),\n",
       " (u'ImageSprite.SetWidth', -0.046640072122701742),\n",
       " ('Orphan Decile 8', -0.046340767930938012),\n",
       " ('Orphan Decile 2', -0.045160350058724465),\n",
       " (u'color_black', -0.044703678603482531),\n",
       " (u'File.ReadFrom', -0.044615329030390304),\n",
       " (u'Notifier.LogInfo', -0.043982735955198082),\n",
       " (u'DatePicker.SetText', -0.042726993606289718),\n",
       " (u'Canvas.GetBackgroundImage', -0.042713882497497364),\n",
       " (u'Spinner.GetSelection', -0.042292533557607918),\n",
       " (u'NxtDrive.TurnClockwiseIndefinitely', -0.041949321945698066),\n",
       " (u'AccelerometerSensor.GetZAccel', -0.040854042694655576),\n",
       " ('Orphan Decile 1', -0.040500019266440479),\n",
       " (u'ListPicker.SetVisible', -0.040326235019364061),\n",
       " (u'math_is_a_number', -0.04028954408005507),\n",
       " (u'Ball.PointInDirection', -0.038807345879725258),\n",
       " (u'lists_is_list', -0.038723640947164496),\n",
       " ('Orphan Decile 6', -0.038095458536468743),\n",
       " (u'ListPicker.SetTextColor', -0.036817942416478705),\n",
       " (u'TextBox.LostFocus', -0.036059191091750036),\n",
       " ('Orphan Decile 7', -0.035415523331955315),\n",
       " ('local vars', -0.03519260679977685),\n",
       " (u'Notifier.LogWarning', -0.034820286454092894),\n",
       " ('2 numscreens blocks delta', -0.033721337494497169),\n",
       " ('4 TL blocks delta', -0.030734080969638089),\n",
       " (u'Player.SetVolume', -0.030564696733811691),\n",
       " (u'lists_pick_random_item', -0.030079719067580515),\n",
       " (u'Button.GotFocus', -0.029243485842847135),\n",
       " (u'OrientationSensor.GetAzimuth', -0.027870021353481024),\n",
       " ('decile 10', -0.027724310138461342),\n",
       " (u'Form.GetWidth', -0.026888700879437809),\n",
       " (u'CheckBox.Changed', -0.025812007825900346),\n",
       " ('3 TL blocks delta', -0.025105546877116369),\n",
       " ('5 O blocks delta', -0.024504767251483657),\n",
       " ('decile 8', -0.024242982461247783),\n",
       " (u'lists_copy', -0.023780000466609857),\n",
       " (u'Canvas.GetBackgroundColor', -0.023340225715739491),\n",
       " (u'ListPicker.SetElements', -0.023167672159647691),\n",
       " (u'LocationSensor.GetAltitude', -0.023137833779796481),\n",
       " (u'Canvas.DrawPoint', -0.022436371679587286),\n",
       " (u'ImageSprite.Touched', -0.021863231586972686),\n",
       " (u'BluetoothServer.AcceptConnection', -0.021700362683477203),\n",
       " ('Tuesday', -0.021457887962896577),\n",
       " (u'NearField.SetReadMode', -0.021205275243842508),\n",
       " (u'Canvas.GetPaintColor', -0.021171850949825113),\n",
       " (u'ActivityStarter.StartActivity', -0.019695779463971556),\n",
       " (u'math_add', -0.019071835873327461),\n",
       " (u'ImageSprite.SetEnabled', -0.018901462801648509),\n",
       " ('decile 5', -0.018572161898685245),\n",
       " (u'math_cos', -0.018448023193802555),\n",
       " (u'TinyWebDB.WebServiceError', -0.017815358481024016),\n",
       " (u'lists_position_in', -0.017719435039575127),\n",
       " (u'color_split_color', -0.017534208355055984),\n",
       " (u'logic_operation', -0.017253035780737183),\n",
       " (u'Slider.SetVisible', -0.016895563750073037),\n",
       " ('6 TL blocks delta', -0.016406515380394261),\n",
       " ('7 TL blocks delta', -0.016381639329789598),\n",
       " ('1 numscreens blocks delta', -0.015981312065127064),\n",
       " ('Orphan Decile 4', -0.015765142812332402),\n",
       " (u'ListPicker.GetSelectionIndex', -0.015015906997328399),\n",
       " (u'Sharing.ShareFile', -0.014734637225939182),\n",
       " ('6 O blocks delta', -0.014501788431471409),\n",
       " (u'Notifier.ShowAlert', -0.013753273446678529),\n",
       " (u'Slider.SetThumbPosition', -0.012712505871039921),\n",
       " (u'Clock.DayOfMonth', -0.012252586073249923),\n",
       " (u'Clock.MakeInstant', -0.011522017166410294),\n",
       " (u'controls_openAnotherScreen', -0.010500609572623365),\n",
       " (u'math_ceiling', -0.0098120622020213388),\n",
       " (u'Button.GetImage', -0.0095710674026309416),\n",
       " (u'Clock.SetTimerInterval', -0.0084032811905980966),\n",
       " ('9 numscreens blocks delta', -0.0082783889228997699),\n",
       " (u'TextBox.SetText', -0.0075594144523980292),\n",
       " (u'Web.GotFile', -0.0068295324975215588),\n",
       " (u'CheckBox.SetVisible', -0.0061255995733833623),\n",
       " ('8 O blocks delta', -0.0050467195340362838),\n",
       " (u'TextBox.GotFocus', -0.0036980434351404777),\n",
       " ('9 O blocks delta', -0.0033463550424120722),\n",
       " ('7 numscreens blocks delta', -0.0026917531525116685),\n",
       " ('7 O blocks delta', -0.0025687769150942548),\n",
       " ('2 O blocks delta', -0.0025196751661300662),\n",
       " (u'Ball.SetY', -0.0019236451406668136),\n",
       " (u'Canvas.SetVisible', -0.0019105095867178866),\n",
       " (u'ImagePicker.Open', 0.00051616281160195461),\n",
       " ('TopLevel Decile 1', 0.00061830032856046932),\n",
       " (u'math_abs', 0.001739157534434678),\n",
       " (u'Clock.SetTimerAlwaysFires', 0.0017543786903095565),\n",
       " (u'TinyDB.ClearTag', 0.0028852323781870834),\n",
       " (u'Sound.Stop', 0.0029891160356610991),\n",
       " (u'TextBox.SetHint', 0.0032027626318704302),\n",
       " ('5 numscreens blocks delta', 0.0034092297379686152),\n",
       " (u'Player.Vibrate', 0.003617332244167033),\n",
       " (u'BluetoothClient.SendText', 0.005095580704435965),\n",
       " ('8 numscreens blocks delta', 0.0052147426027851149),\n",
       " (u'Button.GetEnabled', 0.0057246337331297911),\n",
       " ('4 O blocks delta', 0.0065529604451476453),\n",
       " (u'Player.GetSource', 0.006788694721254063),\n",
       " ('Orphan Decile 5', 0.00720375752815673),\n",
       " (u'LocationSensor.GetCurrentAddress', 0.0077967377143155648),\n",
       " ('TopLevel Decile 3', 0.009134862221129041),\n",
       " ('decile 2', 0.0093679566147253646),\n",
       " (u'NearField.GetLastMessage', 0.010014020817023175),\n",
       " ('4 numscreens blocks delta', 0.010314891151408091),\n",
       " (u'SoundRecorder.Stop', 0.010500938515410433),\n",
       " (u'ImageSprite.GetHeading', 0.01090187034391181),\n",
       " (u'text_isEmpty', 0.011840755302806573),\n",
       " (u'Web.JsonTextDecode', 0.01192937934514798),\n",
       " (u'NxtDrive.TurnCounterClockwiseIndefinitely', 0.012331702420510744),\n",
       " (u'math_convert_number', 0.012709483195729841),\n",
       " (u'Spinner.SetElements', 0.01331056848042449),\n",
       " (u'Ball.SetHeading', 0.013580241811850705),\n",
       " ('8 TL blocks delta', 0.014237411465187746),\n",
       " ('Thursday', 0.015168241851694037),\n",
       " (u'ImageSprite.GetSpeed', 0.015303948103426791),\n",
       " ('Orphan Decile 3', 0.015813384500092273),\n",
       " ('6 numscreens blocks delta', 0.015973132542069307),\n",
       " (u'Notifier.ShowTextDialog', 0.01715152464274583),\n",
       " (u'Form.SetBackgroundColor', 0.017365045360499973),\n",
       " (u'lists_is_in', 0.017507894916483399),\n",
       " (u'Slider.SetColorLeft', 0.017941134248749255),\n",
       " ('1 O blocks delta', 0.018913789587228183),\n",
       " (u'Clock.Year', 0.019350779793143275),\n",
       " (u'Ball.CollidedWith', 0.019433521524268561),\n",
       " (u'PhoneNumberPicker.GetPicture', 0.019557774747057347),\n",
       " ('decile 6', 0.021286195743073867),\n",
       " (u'color_white', 0.021419649166184187),\n",
       " ('Wednesday', 0.021739759116589881),\n",
       " ('TopLevel Decile 4', 0.023650653344452471),\n",
       " (u'Image.GetPicture', 0.023897789527784836),\n",
       " (u'BluetoothClient.GetIsConnected', 0.024723799776734254),\n",
       " (u'lists_append_list', 0.025619936413183317),\n",
       " ('9 TL blocks delta', 0.025766447968985379),\n",
       " (u'TinyWebDB.ValueStored', 0.026040783502347061),\n",
       " (u'Sound.Play', 0.026205454043004273),\n",
       " (u'Clock.Second', 0.026426453980561079),\n",
       " (u'TextBox.HideKeyboard', 0.026569093161616129),\n",
       " (u'lists_length', 0.026660300852162953),\n",
       " (u'VideoPlayer.Start', 0.02683417203520418),\n",
       " (u'NearField.TagRead', 0.027228936798358399),\n",
       " (u'TextBox.SetTextColor', 0.027844096485709052),\n",
       " ('decile 7', 0.028186345215658569),\n",
       " (u'BluetoothServer.ConnectionAccepted', 0.028201774769890518),\n",
       " (u'math_random_float', 0.028480830274277374),\n",
       " (u'BluetoothClient.ReceiveSigned1ByteNumber', 0.028555989268250186),\n",
       " (u'Notifier.AfterTextInput', 0.029223573526431602),\n",
       " (u'TableArrangement.SetVisible', 0.029672038329915981),\n",
       " (u'Spinner.AfterSelecting', 0.029851350152636576),\n",
       " (u'CheckBox.SetEnabled', 0.029862345901890654),\n",
       " (u'color_pink', 0.029997007073116363),\n",
       " (u'Ball.CollidingWith', 0.030294110282360728),\n",
       " (u'TimePicker.AfterTimeSet', 0.030432523834074611),\n",
       " (u'procedures_callreturn', 0.031189770144749957),\n",
       " (u'math_subtract', 0.03194170397657492),\n",
       " (u'Label.SetHeight', 0.033728320323527322),\n",
       " (u'text_starts_at', 0.034584654959451622),\n",
       " ('NumScreens Decile 2', 0.035743712162108691),\n",
       " (u'Ball.GetX', 0.035983094594045008),\n",
       " (u'Spinner.SetSelection', 0.036469056841106087),\n",
       " (u'BluetoothServer.SendText', 0.037205227201908886),\n",
       " (u'Ball.SetVisible', 0.037721514869087577),\n",
       " (u'TinyDB.GetTags', 0.03776929803744309),\n",
       " ('num projects', 0.03789640108625366),\n",
       " ('TopLevel Decile 5', 0.038452882922791955),\n",
       " (u'Button.GetVisible', 0.03854041982082114),\n",
       " ('3 O blocks delta', 0.039169462394676835),\n",
       " (u'Ball.SetRadius', 0.039274912860050283),\n",
       " (u'BluetoothServer.StopAccepting', 0.039293393116300125),\n",
       " (u'WebViewer.GetCurrentUrl', 0.03938221654409086),\n",
       " ('5 TL blocks delta', 0.040264407052251816),\n",
       " (u'Button.SetFontSize', 0.041143705975035534),\n",
       " ('TopLevel Decile 6', 0.041854115184053166),\n",
       " (u'Texting.SetMessage', 0.042799079799835424),\n",
       " (u'Web.SetSaveResponse', 0.043876052426784926),\n",
       " (u'ContactPicker.GetContactName', 0.04416552365834172),\n",
       " ('TopLevel Decile 2', 0.044856766479413453),\n",
       " (u'NxtDrive.Stop', 0.045259333578395712),\n",
       " (u'VideoPlayer.Completed', 0.045478471546235764),\n",
       " (u'Texting.MessageReceived', 0.046406600924477272),\n",
       " (u'Button.SetHeight', 0.046577493354297894),\n",
       " (u'Image.SetVisible', 0.046919741349063245),\n",
       " ('NumScreens Decile 3', 0.047990589110316999),\n",
       " (u'ImageSprite.SetSpeed', 0.048650140726440409),\n",
       " (u'Clock.Timer', 0.048977995209357028),\n",
       " ('NumScreens Decile 9', 0.049965586538148372),\n",
       " (u'Clock.SystemTime', 0.050145262663898231),\n",
       " ('OB', 0.050599614128898365),\n",
       " (u'OrientationSensor.SetEnabled', 0.051051009616971912),\n",
       " (u'Form.ErrorOccurred', 0.051780825148305766),\n",
       " (u'lists_from_csv_row', 0.052114979445473282),\n",
       " (u'Canvas.GetLineWidth', 0.052440090481992344),\n",
       " (u'Button.GetBackgroundColor', 0.052496918850064543),\n",
       " (u'Sound.Resume', 0.052506740486834749),\n",
       " (u'PhoneNumberPicker.AfterPicking', 0.05266948478514305),\n",
       " (u'TinyDB.ClearAll', 0.05312151942331312),\n",
       " (u'Label.GetVisible', 0.053178828766236377),\n",
       " (u'WebViewer.GoHome', 0.053770603430705159),\n",
       " (u'lists_to_csv_row', 0.05386930189015221),\n",
       " ('decile 4', 0.054291652638875657),\n",
       " (u'ImageSprite.TouchUp', 0.054795750933447261),\n",
       " (u'Button.SetImage', 0.054846248458164208),\n",
       " (u'ListPicker.SetTitle', 0.055423040714158857),\n",
       " (u'PhoneCall.MakePhoneCall', 0.056186603609257833),\n",
       " (u'Clock.Hour', 0.056293712801693152),\n",
       " ('2 TL blocks delta', 0.056816975755922615),\n",
       " (u'Label.SetWidth', 0.057055420419169521),\n",
       " ('TopLevel Decile 9', 0.057103991736068387),\n",
       " (u'ListPicker.SetElementsFromString', 0.058802157739541165),\n",
       " ('NumScreens Decile 7', 0.059913476923538406),\n",
       " (u'Ball.TouchDown', 0.060427936961972337),\n",
       " (u'Notifier.ShowChooseDialog', 0.060750628320220122),\n",
       " (u'WebViewer.SetHomeUrl', 0.061274563270643394),\n",
       " (u'Ball.GetY', 0.061852160413845683),\n",
       " (u'Web.PostText', 0.062523665194452557),\n",
       " (u'PhoneNumberPicker.GetContactName', 0.062738313972384857),\n",
       " (u'OrientationSensor.GetMagnitude', 0.062943574081883391),\n",
       " (u'Clock.Duration', 0.063377091113426709),\n",
       " (u'controls_do_then_return', 0.063575580898533476),\n",
       " ('TopLevel Decile 7', 0.065558396140736122),\n",
       " (u'math_trig', 0.06598590512092066),\n",
       " (u'controls_while', 0.066606575550254177),\n",
       " (u'ActivityStarter.AfterActivity', 0.066702470575564859),\n",
       " (u'ListPicker.SetText', 0.066978738517502384),\n",
       " (u'Player.SetLoop', 0.067278172776057493),\n",
       " (u'Image.SetPicture', 0.068456180200949998),\n",
       " ('Monday', 0.069367186463031999),\n",
       " ('TopLevel Decile 8', 0.069382163590712642),\n",
       " ('NumScreens Decile 6', 0.06952580139715224),\n",
       " (u'Clock.Minute', 0.069598591383931319),\n",
       " (u'AccelerometerSensor.AccelerationChanged', 0.069926940421047259),\n",
       " (u'ImageSprite.TouchDown', 0.071034022501725289),\n",
       " (u'ImageSprite.SetZ', 0.072353056188810355),\n",
       " ('decile 1', 0.072504639908065313),\n",
       " (u'lists_replace_item', 0.072564473811707303),\n",
       " ('NumScreens Decile 4', 0.073705697847373575),\n",
       " (u'controls_openAnotherScreenWithStartValue', 0.074391133996473208),\n",
       " (u'Ball.GetPaintColor', 0.076835787160670715),\n",
       " (u'text_length', 0.077543649284469232),\n",
       " ('NumScreens Decile 5', 0.078115290322802067),\n",
       " (u'ImageSprite.GetVisible', 0.07985053235501105),\n",
       " (u'Canvas.SaveAs', 0.080042318647167987),\n",
       " (u'Button.SetTextColor', 0.080925679131116299),\n",
       " (u'TextBox.SetVisible', 0.081502199942775702),\n",
       " (u'ImageSprite.MoveTo', 0.08232216363662552),\n",
       " (u'math_power', 0.08243217229182917),\n",
       " (u'Ball.GetHeading', 0.082961836507450162),\n",
       " (u'TinyWebDB.StoreValue', 0.082975013966948549),\n",
       " (u'File.GotText', 0.084098566327888077),\n",
       " (u'ActivityStarter.SetAction', 0.084250241139512252),\n",
       " (u'Canvas.Flung', 0.084602828887917425),\n",
       " (u'File.Delete', 0.086854664667643897),\n",
       " (u'CheckBox.SetChecked', 0.087543245197131525),\n",
       " (u'ListView.SetElementsFromString', 0.087552766742394844),\n",
       " (u'Slider.GetThumbPosition', 0.087616562010895738),\n",
       " (u'Clock.FormatDate', 0.08878218077678407),\n",
       " (u'BluetoothClient.ReceiveText', 0.088928077478188969),\n",
       " ('decile 9', 0.089074877346326908),\n",
       " (u'Label.SetTextColor', 0.089347100287830203),\n",
       " (u'BluetoothClient.Send1ByteNumber', 0.090156062256785213),\n",
       " (u'math_floor', 0.090596119643641046),\n",
       " (u'Button.SetEnabled', 0.091304999067313403),\n",
       " (u'lists_from_csv_table', 0.091401618068279539),\n",
       " (u'Button.SetText', 0.091681584014681142),\n",
       " (u'ActivityStarter.SetExtraValue', 0.091820658874094838),\n",
       " (u'text_split', 0.09184586083808273),\n",
       " (u'Clock.GetTimerInterval', 0.092160619310297343),\n",
       " (u'math_on_list', 0.093338781508344459),\n",
       " (u'SpeechRecognizer.GetText', 0.093704460876816137),\n",
       " (u'logic_or', 0.094706772157023209),\n",
       " (u'LocationSensor.SetProviderName', 0.095602830092466687),\n",
       " (u'Button.TouchUp', 0.096744025156236133),\n",
       " (u'WebViewer.SetVisible', 0.096997067991326652),\n",
       " ('NumScreens Decile 8', 0.097698170516873448),\n",
       " (u'DatePicker.GetDay', 0.098404898642052874),\n",
       " (u'Player.Completed', 0.098740802604072225),\n",
       " (u'controls_closeScreenWithValue', 0.099801201836673001),\n",
       " (u'Label.SetBackgroundColor', 0.10101508691396262),\n",
       " (u'Clock.FormatTime', 0.10311781992815899),\n",
       " (u'Web.Get', 0.10446275629259265),\n",
       " (u'ImageSprite.SetHeading', 0.10466968135403054),\n",
       " (u'ImageSprite.GetPicture', 0.10479918852794706),\n",
       " (u'Canvas.SetWidth', 0.10636608080918032),\n",
       " (u'ActivityStarter.SetDataUri', 0.10675073136835611),\n",
       " (u'Button.TouchDown', 0.10826127020037339),\n",
       " (u'ImageSprite.GetHeight', 0.11064352470041744),\n",
       " (u'ImageSprite.SetX', 0.11362134643268376),\n",
       " ('TopLevel Decile 10', 0.11390403102626326),\n",
       " (u'ListPicker.Open', 0.11429931192408471),\n",
       " (u'Canvas.GetPixelColor', 0.11454775103267326),\n",
       " (u'logic_negate', 0.1161540047010957),\n",
       " (u'WebViewer.GoForward', 0.11617434046468202),\n",
       " (u'VideoPlayer.SetHeight', 0.12022978754066799),\n",
       " (u'text_compare', 0.12066643347269154),\n",
       " (u'Ball.EdgeReached', 0.12183455120892203),\n",
       " (u'Player.Start', 0.12195761260210257),\n",
       " (u'Clock.FormatDateTime', 0.12195811791759342),\n",
       " (u'Slider.PositionChanged', 0.12305595621042364),\n",
       " (u'VerticalArrangement.SetVisible', 0.12717147683228167),\n",
       " (u'VideoPlayer.SetSource', 0.12795236191921136),\n",
       " (u'NxtDrive.MoveBackwardIndefinitely', 0.1288568196039937),\n",
       " (u'Canvas.TouchUp', 0.1301937308970923),\n",
       " ('mean of intervals', 0.13108590726422475),\n",
       " ('mean of lengths', 0.13108590726422475),\n",
       " (u'BarcodeScanner.AfterScan', 0.13275058381157054),\n",
       " (u'Ball.GetRadius', 0.13304324927179914),\n",
       " (u'ImageSprite.CollidedWith', 0.13620356347981533),\n",
       " (u'Form.BackPressed', 0.13757278995795563),\n",
       " ('NumScreens Decile 1', 0.13817227705977767),\n",
       " (u'WebViewer.GoToUrl', 0.14045880639632491),\n",
       " (u'FusiontablesControl.SetApiKey', 0.14256483455303984),\n",
       " (u'YandexTranslate.GotTranslation', 0.1433140128713552),\n",
       " (u'Form.Initialize', 0.14855349056340844),\n",
       " (u'ActivityStarter.SetActivityPackage', 0.14859293489732031),\n",
       " (u'math_divide', 0.14940485698957012),\n",
       " (u'Texting.SetPhoneNumber', 0.14968579651481528),\n",
       " (u'BluetoothClient.Disconnect', 0.15213078143487663),\n",
       " (u'LocationSensor.GetLongitude', 0.15234739487899732),\n",
       " (u'Clock.Month', 0.15344116491654158),\n",
       " (u'DatePicker.GetMonth', 0.15385581048834041),\n",
       " (u'ListView.AfterPicking', 0.15463937858180332),\n",
       " (u'BluetoothServer.BytesAvailableToReceive', 0.15670020575069823),\n",
       " (u'ImageSprite.SetPicture', 0.1645166233415995),\n",
       " ('TL', 0.16541933221543345),\n",
       " (u'Image.GetVisible', 0.16573558443891073),\n",
       " (u'Label.GetText', 0.16842511459815798),\n",
       " (u'lists_is_empty', 0.17010993123343904),\n",
       " (u'ImageSprite.SetVisible', 0.17085600863166164),\n",
       " (u'ImageSprite.SetY', 0.17089931288749233),\n",
       " (u'Canvas.SetBackgroundImage', 0.17369259778783971),\n",
       " (u'TextBox.GetText', 0.17441218829226138),\n",
       " (u'NearField.SetTextToWrite', 0.17481768583731594),\n",
       " (u'logic_false', 0.17614054887177372),\n",
       " (u'Camcorder.AfterRecording', 0.17656696749700382),\n",
       " (u'Button.SetWidth', 0.17696249133451425),\n",
       " ('NumScreens Decile 10', 0.1773763594619662),\n",
       " (u'Canvas.SetPaintColor', 0.18005779734604263),\n",
       " (u'HorizontalArrangement.SetVisible', 0.18577809975513773),\n",
       " (u'Player.Pause', 0.18624105401591742),\n",
       " (u'HorizontalArrangement.SetHeight', 0.18795213438735672),\n",
       " (u'CheckBox.GetChecked', 0.19195554239984594),\n",
       " (u'TinyWebDB.GetValue', 0.1982249325363446),\n",
       " (u'Label.SetText', 0.20075751381297496),\n",
       " (u'ImageSprite.SetRotates', 0.20120197401278203),\n",
       " (u'Form.SetTitle', 0.2054257171345753),\n",
       " (u'Sound.SetSource', 0.21058356335688619),\n",
       " (u'ListPicker.AfterPicking', 0.2106545349195233),\n",
       " (u'lists_select_item', 0.2135144248594574),\n",
       " (u'math_multiply', 0.21626753202597884),\n",
       " (u'Player.Stop', 0.21675728420069496),\n",
       " (u'text', 0.21694294581584081),\n",
       " (u'Notifier.AfterChoosing', 0.21788777726808509),\n",
       " (u'Canvas.TouchDown', 0.21843308629871047),\n",
       " (u'lists_lookup_in_pairs', 0.2244971001597055),\n",
       " (u'AccelerometerSensor.SetEnabled', 0.22594750541299097),\n",
       " (u'Web.GotText', 0.22614860637053083),\n",
       " (u'lists_remove_item', 0.23349135951240285),\n",
       " (u'BluetoothClient.GetAddressesAndNames', 0.23432245288660733),\n",
       " (u'SpeechRecognizer.AfterGettingText', 0.23585819044969489),\n",
       " (u'Canvas.DrawLine', 0.24151328003153824),\n",
       " (u'Ball.SetSpeed', 0.24635507126278336),\n",
       " (u'SoundRecorder.AfterSoundRecorded', 0.24941053146779307),\n",
       " (u'Clock.SetTimerEnabled', 0.25067061698222898),\n",
       " (u'Canvas.SetLineWidth', 0.25164048467765959),\n",
       " (u'Canvas.Save', 0.25284459103732421),\n",
       " (u'Image.SetWidth', 0.26458535520071846),\n",
       " (u'Sound.Vibrate', 0.26556910184661026),\n",
       " (u'Button.SetBackgroundColor', 0.26623316279701997),\n",
       " (u'logic_compare', 0.26886587918209598),\n",
       " ('Sunday', 0.27215322728813846),\n",
       " (u'OrientationSensor.GetAngle', 0.27277614204132083),\n",
       " (u'AccelerometerSensor.GetYAccel', 0.27481925057567202),\n",
       " (u'lists_insert_item', 0.2778523085868162),\n",
       " (u'controls_closeScreen', 0.27974807384977091),\n",
       " (u'lists_create_with', 0.28034021931597425),\n",
       " (u'CheckBox.GetText', 0.28284823047489838),\n",
       " (u'ImageSprite.GetY', 0.2873186718324332),\n",
       " (u'Camera.AfterPicture', 0.29072988688056989),\n",
       " (u'TextToSpeech.SetLanguage', 0.2987447998353388),\n",
       " (u'ListPicker.SetEnabled', 0.30059281142052791),\n",
       " (u'BluetoothServer.Disconnect', 0.30961954982450551),\n",
       " (u'PasswordTextBox.GetText', 0.31641411728907359),\n",
       " (u'PhoneCall.SetPhoneNumber', 0.32963391765013972),\n",
       " (u'lexical_variable_set', 0.33810289141072136),\n",
       " (u'component_component_block', 0.34264449389830487),\n",
       " (u'FusiontablesControl.SendQuery', 0.34918669422179277),\n",
       " (u'TimePicker.GetHour', 0.35193719431669279),\n",
       " (u'ImageSprite.Bounce', 0.35609959519436041),\n",
       " (u'math_number', 0.36405746479138923),\n",
       " (u'LocationSensor.GetProviderName', 0.36483558111922365),\n",
       " (u'ImagePicker.GetSelection', 0.38711521776845315),\n",
       " (u'math_random_int', 0.39314286097347667),\n",
       " (u'ListPicker.BeforePicking', 0.39763683979478187),\n",
       " (u'AccelerometerSensor.Shaking', 0.40130513841773963),\n",
       " (u'Canvas.SetFontSize', 0.42039225405882197),\n",
       " (u'Notifier.ShowMessageDialog', 0.44093366056762323),\n",
       " ('NP', 0.46571700235679481),\n",
       " (u'math_division', 0.47228863981837671),\n",
       " (u'controls_forRange', 0.51682209512166377),\n",
       " (u'math_compare', 0.52815915100132416),\n",
       " (u'text_join', 0.58216866895504582),\n",
       " (u'procedures_callnoreturn', 0.82639170276705065),\n",
       " (u'Button.Click', 0.88456202828545938),\n",
       " ('global vars', 1.3510121999910385)]"
      ]
     },
     "execution_count": 57,
     "metadata": {},
     "output_type": "execute_result"
    }
   ],
   "source": [
    "sorted(zip(allvec.get_feature_names(), coef[0]), key=lambda tup: tup[1])"
   ]
  },
  {
   "cell_type": "code",
   "execution_count": 58,
   "metadata": {
    "collapsed": false
   },
   "outputs": [
    {
     "data": {
      "text/plain": [
       "0.8525887406737509"
      ]
     },
     "execution_count": 58,
     "metadata": {},
     "output_type": "execute_result"
    }
   ],
   "source": [
    "from sklearn.metrics import f1_score\n",
    "f1_score(ytest, predictions)"
   ]
  }
 ],
 "metadata": {
  "anaconda-cloud": {},
  "kernelspec": {
   "display_name": "Python [default]",
   "language": "python",
   "name": "python2"
  },
  "language_info": {
   "codemirror_mode": {
    "name": "ipython",
    "version": 2
   },
   "file_extension": ".py",
   "mimetype": "text/x-python",
   "name": "python",
   "nbconvert_exporter": "python",
   "pygments_lexer": "ipython2",
   "version": "2.7.12"
  }
 },
 "nbformat": 4,
 "nbformat_minor": 0
}
