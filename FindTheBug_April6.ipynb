{
 "cells": [
  {
   "cell_type": "code",
   "execution_count": 1,
   "metadata": {
    "collapsed": false
   },
   "outputs": [],
   "source": [
    "import ujson\n",
    "import numpy \n",
    "import datetime\n",
    "import json\n",
    "from collections import Counter"
   ]
  },
  {
   "cell_type": "markdown",
   "metadata": {},
   "source": [
    "## 1. Load Data"
   ]
  },
  {
   "cell_type": "code",
   "execution_count": 2,
   "metadata": {
    "collapsed": false
   },
   "outputs": [
    {
     "name": "stdout",
     "output_type": "stream",
     "text": [
      "1 2 3 4 5 6 7 8 9 10 11 12 13 14 15 16 17 18 19 20 21 22 23 24 25 26 27 28 29 30 31 32 33 34 35 36 37 38 39 40 41 42 43 44 45 46 47\n"
     ]
    }
   ],
   "source": [
    "summaries = {}\n",
    "ctr = 0\n",
    "for line in open('user_project_summaries.json'): # lazy iteration because the file is large\n",
    "    ctr+=1\n",
    "    summaries.update(ujson.loads(line))  \n",
    "    print ctr,"
   ]
  },
  {
   "cell_type": "code",
   "execution_count": 3,
   "metadata": {
    "collapsed": false
   },
   "outputs": [],
   "source": [
    "from features import *\n",
    "import features\n",
    "reload(features)\n",
    "import sys, os\n",
    "sys.path.append(os.getcwd())\n"
   ]
  },
  {
   "cell_type": "markdown",
   "metadata": {},
   "source": [
    "The languages labels are inferred from the `namestrings_to_langs.py` script using `langid`."
   ]
  },
  {
   "cell_type": "code",
   "execution_count": 4,
   "metadata": {
    "collapsed": false
   },
   "outputs": [
    {
     "name": "stdout",
     "output_type": "stream",
     "text": [
      "lang data created with 43410 users and 12 languages set([u'el', u'fr', u'en', u'zh', u'pt', u'la', u'ca', u'de', u'ko', u'it', u'th', u'es'])\n"
     ]
    }
   ],
   "source": [
    "isocodes = ujson.load(open('isocodes.json'))  # mapping from  iso code to language name\n",
    "user_langs = ujson.load(open('user_inferredlangs.json'))  # mapping from userid to inferred language\n",
    "# remove uncommon languages\n",
    "lang_counts = Counter()\n",
    "for user in user_langs:\n",
    "    lang = user_langs[user]\n",
    "    lang_counts[lang] += 1\n",
    "    \n",
    "user_langs = {user: lang for user, lang in user_langs.items() if lang_counts[lang]>=250 and user in summaries}\n",
    "langset = set(user_langs.values())\n",
    "print 'lang data created with', len(user_langs), 'users and', len(langset), 'languages', langset"
   ]
  },
  {
   "cell_type": "code",
   "execution_count": 5,
   "metadata": {
    "collapsed": true
   },
   "outputs": [],
   "source": [
    "# time utilities\n",
    "def convert_time(el):\n",
    "    \"\"\"Human readable time\"\"\"\n",
    "    el = int(str(el)[:10])\n",
    "    return datetime.date.fromtimestamp(el)\n",
    "\n",
    "def timediff(t1, t2):\n",
    "    \"\"\"difference between times (millisec precision) as days\"\"\"\n",
    "    return (t1-t2)/(86400.*1000)"
   ]
  },
  {
   "cell_type": "code",
   "execution_count": 6,
   "metadata": {
    "collapsed": false
   },
   "outputs": [],
   "source": [
    "i = 0\n",
    "lang_dict = {}\n",
    "for user in summaries: \n",
    "        try: \n",
    "            lang = user_langs[user]\n",
    "        except KeyError:\n",
    "            i +=1\n",
    "        if lang not in lang_dict:\n",
    "            lang_dict[lang] = []\n",
    "        lang_dict[lang].append(summaries[user])"
   ]
  },
  {
   "cell_type": "markdown",
   "metadata": {},
   "source": [
    "Chinese examples"
   ]
  },
  {
   "cell_type": "code",
   "execution_count": 7,
   "metadata": {
    "collapsed": false
   },
   "outputs": [],
   "source": [
    "chin_users = lang_dict['zh']\n",
    "c = Counter()\n",
    "for summary in chin_users: \n",
    "    for project in summary: \n",
    "        c.update([summary[project]['**Project Name']])\n",
    "\n",
    "# print c.most_common(50)        "
   ]
  },
  {
   "cell_type": "code",
   "execution_count": 8,
   "metadata": {
    "collapsed": false
   },
   "outputs": [],
   "source": [
    "zh_examples = [entry for entry in c if 'ex_' in entry]\n",
    "zh_examples.append('HelloPurr')\n",
    "pt_examples = ['Calculadora', 'calculadora', 'DataEHora', 'Lista']\n",
    "ca_examples = ['CercleVersusPunt', 'Adreces_DavidMartinez', 'NomIntroduit', 'TallersSanJordi']\n",
    "de_examples = ['Taschenrechner', 'Einkaufsliste', 'Mehrwertsteuer',  'ZufallsgeneratorLayout']\n",
    "ko_examples = ['gawibawibo', 'ParisMapTour']\n",
    "it_examples = ['calcolatrice', 'traduttore']\n",
    "es_examples = ['prueba', 'brujula', 'examen', 'accelerometro', u'adivina_numero', 'Proyecto', 'Xilofono']\n",
    "\n",
    "lang_tutorials = set(zh_examples + pt_examples + ca_examples + de_examples + ko_examples + it_examples + es_examples)\n"
   ]
  },
  {
   "cell_type": "markdown",
   "metadata": {},
   "source": [
    "### Filter Tutorials"
   ]
  },
  {
   "cell_type": "code",
   "execution_count": 9,
   "metadata": {
    "collapsed": true
   },
   "outputs": [],
   "source": [
    "filter_tutorials = True"
   ]
  },
  {
   "cell_type": "code",
   "execution_count": 10,
   "metadata": {
    "collapsed": true
   },
   "outputs": [],
   "source": [
    "def nameCheck(proj_name): \n",
    "    for tutorial_substring in lang_tutorials: \n",
    "        if tutorial_substring in proj_name.lower():\n",
    "            return True\n",
    "    return False"
   ]
  },
  {
   "cell_type": "code",
   "execution_count": 38,
   "metadata": {
    "collapsed": false
   },
   "outputs": [
    {
     "name": "stdout",
     "output_type": "stream",
     "text": [
      "0 1 2 3 4 5 6 7 8 9\n"
     ]
    }
   ],
   "source": [
    "if filter_tutorials: \n",
    "    not_tutorials = {}\n",
    "\n",
    "    for i in range(10): \n",
    "        print i, \n",
    "        notT_list = ujson.load(open('tutorial_comparisons/nottutorials_' + str(i) +'.json'))\n",
    "        for entry in notT_list: \n",
    "            if entry[0] not in summaries:\n",
    "                continue\n",
    "            proj_name = entry[1].split(\"_summary.json\")[0]\n",
    "            if entry[0] not in not_tutorials: \n",
    "                not_tutorials[entry[0]] = {}\n",
    "            try: \n",
    "                if nameCheck(proj_name):\n",
    "                    not_tutorials[entry[0]][proj_name] = summaries[entry[0]][proj_name]\n",
    "            except KeyError: \n",
    "                pass"
   ]
  },
  {
   "cell_type": "code",
   "execution_count": 39,
   "metadata": {
    "collapsed": false
   },
   "outputs": [
    {
     "data": {
      "text/plain": [
       "46025"
      ]
     },
     "execution_count": 39,
     "metadata": {},
     "output_type": "execute_result"
    }
   ],
   "source": [
    "len(not_tutorials)"
   ]
  },
  {
   "cell_type": "code",
   "execution_count": 40,
   "metadata": {
    "collapsed": false
   },
   "outputs": [
    {
     "name": "stdout",
     "output_type": "stream",
     "text": [
      "0 1 2 3 4 5 6 7 8 9\n"
     ]
    }
   ],
   "source": [
    "if filter_tutorials: \n",
    "    not_tutorials_old = {}\n",
    "\n",
    "    for i in range(10): \n",
    "        print i, \n",
    "        notT_list_old = ujson.load(open('tutorial_comparisons/nottutorials_' + str(i) +'.json'))\n",
    "        for entry in notT_list_old: \n",
    "            if entry[0] not in summaries:\n",
    "                continue\n",
    "            proj_name = entry[1].split(\"_summary.json\")[0]\n",
    "            if entry[0] not in not_tutorials_old: \n",
    "                not_tutorials_old[entry[0]] = {}\n",
    "            try: \n",
    "                not_tutorials_old[entry[0]][proj_name] = summaries[entry[0]][proj_name]\n",
    "            except KeyError: \n",
    "                pass"
   ]
  },
  {
   "cell_type": "code",
   "execution_count": 41,
   "metadata": {
    "collapsed": false
   },
   "outputs": [
    {
     "data": {
      "text/plain": [
       "29692"
      ]
     },
     "execution_count": 41,
     "metadata": {},
     "output_type": "execute_result"
    }
   ],
   "source": [
    "sum([len(not_tutorials[userID]) for userID in not_tutorials])"
   ]
  },
  {
   "cell_type": "code",
   "execution_count": 42,
   "metadata": {
    "collapsed": false
   },
   "outputs": [
    {
     "data": {
      "text/plain": [
       "895483"
      ]
     },
     "execution_count": 42,
     "metadata": {},
     "output_type": "execute_result"
    }
   ],
   "source": [
    "sum([len(not_tutorials_old[userID]) for userID in not_tutorials_old])"
   ]
  },
  {
   "cell_type": "code",
   "execution_count": 76,
   "metadata": {
    "collapsed": false
   },
   "outputs": [
    {
     "data": {
      "text/plain": [
       "6923"
      ]
     },
     "execution_count": 76,
     "metadata": {},
     "output_type": "execute_result"
    }
   ],
   "source": [
    "len(not_tutorials)"
   ]
  },
  {
   "cell_type": "code",
   "execution_count": 43,
   "metadata": {
    "collapsed": false
   },
   "outputs": [],
   "source": [
    "not_tutorials = {user: not_tutorials[user] for user in not_tutorials.keys() if len(not_tutorials[user])>0}\n",
    "# SR's fix"
   ]
  },
  {
   "cell_type": "markdown",
   "metadata": {},
   "source": [
    "## 2. Featurize"
   ]
  },
  {
   "cell_type": "markdown",
   "metadata": {},
   "source": [
    "## Time featurizer"
   ]
  },
  {
   "cell_type": "code",
   "execution_count": 44,
   "metadata": {
    "collapsed": false
   },
   "outputs": [],
   "source": [
    "def projectLengthFeatures(projects):\n",
    "    \"\"\"moments of project lengths and intervals, as well as number of projects\"\"\"\n",
    "    lengths = getProjectLengths(projects)\n",
    "    intervals = getProjectIntervals(projects)\n",
    "    \n",
    "    #note: feature names are for our reference only\n",
    "    userDict = {} \n",
    "    userDict[\"mean of lengths\"] = numpy.mean(lengths)\n",
    "    userDict[\"stddev of lengths\"] = numpy.std(lengths)\n",
    "    userDict[\"mean of intervals\"] = numpy.mean(lengths)\n",
    "    userDict[\"stddev of intervals\"] = numpy.std(lengths)\n",
    "    \n",
    "    userDict[\"num projects\"] = numProjects(projects)\n",
    "    \n",
    "    return userDict"
   ]
  },
  {
   "cell_type": "code",
   "execution_count": 45,
   "metadata": {
    "collapsed": true
   },
   "outputs": [],
   "source": [
    "def dayAnalysisFeatures(projects):\n",
    "    \"\"\"number of projects on each day of the week, and the percentage of them on a weekday\"\"\"\n",
    "    byday = numOnDay(projects)\n",
    "\n",
    "    userDict = {day: byday[i] for i, day in enumerate([\"Monday\", \n",
    "                                                       \"Tuesday\", \n",
    "                                                       \"Wednesday\", \n",
    "                                                       \"Thursday\", \n",
    "                                                       \"Friday\", \n",
    "                                                       \"Saturday\", \n",
    "                                                       \"Sunday\"])}\n",
    "    return userDict"
   ]
  },
  {
   "cell_type": "code",
   "execution_count": 46,
   "metadata": {
    "collapsed": true
   },
   "outputs": [],
   "source": [
    "def decileProjects(projects):\n",
    "    numbins = 10\n",
    "    hist = projectsPerUserPeriod(projects, bins=numbins)\n",
    "    \n",
    "    userDict = {'decile '+str(i+1): hist[i] for i in range(numbins)}\n",
    "    return userDict"
   ]
  },
  {
   "cell_type": "markdown",
   "metadata": {},
   "source": [
    "## Code Features\n"
   ]
  },
  {
   "cell_type": "code",
   "execution_count": 47,
   "metadata": {
    "collapsed": true
   },
   "outputs": [],
   "source": [
    "def getBlocks2(projects, block_dict): \n",
    "    '''returns  a dictionary with the key as a block name ie math_add \n",
    "    and a value that is the # of occurances of that block / numProjects'''\n",
    "    screenNames = getScreenNames(projects)\n",
    "    i= 0\n",
    "    while i < len(projects):\n",
    "        for screenName in screenNames[i]:\n",
    "                if screenName in projects[i] and 'Active Blocks' in projects[i][screenName]['Blocks'] and 'Types' in projects[i][screenName]['Blocks']['Active Blocks']:\n",
    "                    blocks = projects[i][screenName]['Blocks']['Active Blocks']['Types']\n",
    "                    for block in blocks: \n",
    "                         if block in block_dict: \n",
    "                            block_dict[block] += projects[i][screenName]['Blocks']['Active Blocks']['Types'][block]\n",
    "        i+=1\n",
    "\n",
    "    return block_dict"
   ]
  },
  {
   "cell_type": "code",
   "execution_count": 48,
   "metadata": {
    "collapsed": false
   },
   "outputs": [],
   "source": [
    "def transformBlocks(projects, all_blocks_dict):\n",
    "    newDict = {}\n",
    "    for key in all_blocks_dict: \n",
    "        if '_' in key: \n",
    "            newKey = key.split(\"_\")[0]\n",
    "        elif '.' in key: \n",
    "            newKey = key.split(\".\")[0]\n",
    "        else: \n",
    "            newKey = key\n",
    "        if newKey not in newDict: \n",
    "            newDict[newKey] = 0\n",
    "        newDict[newKey] += all_blocks_dict[key]\n",
    "\n",
    "    return normalizeDict(newDict,p)"
   ]
  },
  {
   "cell_type": "code",
   "execution_count": 49,
   "metadata": {
    "collapsed": true
   },
   "outputs": [],
   "source": [
    "def deltaDeciles(decileDict, name):\n",
    "    values = sortDeciles(decileDict)\n",
    "    deltas = {}\n",
    "    for i in range(10): \n",
    "        if i== 0: pass\n",
    "        else: deltas[str(i) + \" \" + name] = values[i]-values[i-1]\n",
    "    return deltas\n",
    "\n",
    "\n",
    "def sortDeciles(decileDict):\n",
    "    deciles_sorted = []\n",
    "    keys = decileDict.keys()\n",
    "    for key in keys: \n",
    "        deciles_sorted.insert(int(key[-1]), decileDict[key])\n",
    "    return deciles_sorted\n",
    "\n"
   ]
  },
  {
   "cell_type": "code",
   "execution_count": 50,
   "metadata": {
    "collapsed": true
   },
   "outputs": [],
   "source": [
    "def summaryOBlockDecile(projects): \n",
    "    hist = decileOrphanBlocks(projects)\n",
    "    userDict = {'Orphan Decile '+str(i+1): hist[i] for i in range(10)}\n",
    "    return userDict"
   ]
  },
  {
   "cell_type": "code",
   "execution_count": 51,
   "metadata": {
    "collapsed": true
   },
   "outputs": [],
   "source": [
    "def summaryDecileTLBlocks(projects): \n",
    "    hist = decileTypesTopLevelBlocks(projects)\n",
    "    userDict = {'TopLevel Decile '+str(i+1): hist[i] for i in range(10)}\n",
    "    return userDict"
   ]
  },
  {
   "cell_type": "code",
   "execution_count": 52,
   "metadata": {
    "collapsed": true
   },
   "outputs": [],
   "source": [
    "def summaryDecileNumScreens(projects): \n",
    "    hist = decileNumScreens(projects)\n",
    "    userDict = {'NumScreens Decile '+str(i+1): hist[i] for i in range(10)}\n",
    "    return userDict"
   ]
  },
  {
   "cell_type": "code",
   "execution_count": 53,
   "metadata": {
    "collapsed": true
   },
   "outputs": [],
   "source": [
    "def summaryDeltasTLBlocks(projects): \n",
    "    tlblocks = summaryDecileTLBlocks(projects)\n",
    "    return deltaDeciles(tlblocks, \"TL blocks delta\")"
   ]
  },
  {
   "cell_type": "code",
   "execution_count": 54,
   "metadata": {
    "collapsed": true
   },
   "outputs": [],
   "source": [
    "def summaryDeltasOBlock(projects): \n",
    "    oblock = summaryOBlockDecile(projects)\n",
    "    return deltaDeciles(oblock,\"O blocks delta\")"
   ]
  },
  {
   "cell_type": "code",
   "execution_count": 55,
   "metadata": {
    "collapsed": true
   },
   "outputs": [],
   "source": [
    "def summaryDeltasNumScreens(projects): \n",
    "    numscreens = summaryDecileNumScreens(projects)\n",
    "    return deltaDeciles(numscreens, \"numscreens blocks delta\")"
   ]
  },
  {
   "cell_type": "code",
   "execution_count": 56,
   "metadata": {
    "collapsed": true
   },
   "outputs": [],
   "source": [
    "def summaryAverages(projects):\n",
    "    userDict = {} \n",
    "    userDict[\"mean of numScreens\"] = numpy.mean(getNumScreens(projects))\n",
    "    userDict[\"NB\"] = averageNumBlocks(projects)\n",
    "    userDict[\"OB\"] = getAverageOrphanBlocks(projects)\n",
    "    \n",
    "    userDict[\"TL\"] = getAverageTypeTLBlocks(projects)\n",
    "    userDict[\"TL2\"] = getAverageNumTLBlocks(projects)\n",
    "    \n",
    "    userDict[\"NC\"] = averageNumComponents(projects)\n",
    "    userDict[\"NTC\"] = averageNumTypeComponents(projects)\n",
    "\n",
    "    userDict[\"MC\"] = aveNumMediaAssets(projects)\n",
    "    \n",
    "    userDict[\"NP\"] = averageNumProcedures(projects)\n",
    "    userDict[\"NS\"] = averageNumStrings(projects) \n",
    "        \n",
    "    varList = getAllVariables(projects)\n",
    "    userDict[\"local vars\"] = varList[0]\n",
    "    userDict[\"global vars\"] = varList[1]\n",
    "    \n",
    "#     controls_dict = getControlsBlocks(projects)\n",
    "#     userDict['controls_if'] = controls_dict['controls_if']\n",
    "#     userDict['controls_forEach'] = controls_dict['controls_forEach']\n",
    "#     userDict['controls_choose'] = controls_dict['controls_choose']\n",
    "#     userDict['controls_while'] = controls_dict['controls_while']\n",
    "\n",
    "\n",
    "\n",
    "    return userDict"
   ]
  },
  {
   "cell_type": "code",
   "execution_count": 57,
   "metadata": {
    "collapsed": true
   },
   "outputs": [],
   "source": [
    "def classesFeaturizers(projects): \n",
    "    userDict = {} \n",
    "    classes = getClasses(projects)\n",
    "    cList = ['TableArrangement', 'DatePicker', 'Canvas', \n",
    "             'CheckBox', 'Web', 'Clock', 'BluetoothServer', \n",
    "             'ActivityStarter', 'Texting', 'Label', 'Spinner', \n",
    "             'Camera', 'BluetoothClient', 'PhoneCall', 'LocationSensor', \n",
    "             'VerticalArrangement', 'HorizontalArrangement', 'Sharing', \n",
    "             'TextToSpeech', 'GoogleMap', 'Slider', 'OrientationSensor', \n",
    "             'ListView', 'PhoneNumberPicker', 'TinyDB', 'NxtDirectCommands', \n",
    "             'Sound', 'ListPicker', 'SpeechRecognizer', 'Button', 'WebViewer',\n",
    "             'BarcodeScanner', 'NxtDrive', 'Camcorder', 'Notifier', 'TextBox',\n",
    "             'AccelerometerSensor', 'Image', 'VideoPlayer', 'TinyWebDB',\n",
    "             'Player', 'File', 'YandexTranslate']\n",
    "   \n",
    "    for key in cList: \n",
    "        userDict[key] = classes[key]\n",
    "        \n",
    "    return userDict"
   ]
  },
  {
   "cell_type": "code",
   "execution_count": 65,
   "metadata": {
    "collapsed": false
   },
   "outputs": [],
   "source": [
    "def allBlocksFeaturizer(projects):\n",
    "    userDict = {}\n",
    "    with open('top_500_blocks.json') as data_file:    \n",
    "        block_list = json.load(data_file)\n",
    "\n",
    "    all_blocks_dict = {block:0 for block in block_list}\n",
    "    all_blocks_dict = getBlocks(projects, all_blocks_dict) \n",
    "    \n",
    "    for key in block_list: \n",
    "        userDict[key] = all_blocks_dict[key]\n",
    "            \n",
    "    return userDict"
   ]
  },
  {
   "cell_type": "markdown",
   "metadata": {},
   "source": [
    "### Setup"
   ]
  },
  {
   "cell_type": "code",
   "execution_count": 59,
   "metadata": {
    "collapsed": true
   },
   "outputs": [],
   "source": [
    "def combine_featfuncs(funclist):\n",
    "    def combined(user):\n",
    "        basedict = funclist[0](user)\n",
    "        for f in funclist[1:]:\n",
    "            basedict.update(f(user))\n",
    "        return basedict\n",
    "    return combined"
   ]
  },
  {
   "cell_type": "code",
   "execution_count": 60,
   "metadata": {
    "collapsed": false
   },
   "outputs": [],
   "source": [
    "def getAllProjects(userID, no_tutorials): \n",
    "    \"\"\"list of projects sorted by creation times\"\"\"\n",
    "    if (no_tutorials):\n",
    "        try: \n",
    "            projectlist = not_tutorials[userID].values()\n",
    "        except:\n",
    "            print userID\n",
    "    else: \n",
    "        projectlist = summaries[userID].values()\n",
    "    return sorted(projectlist,\n",
    "                  key=lambda project: project['**created']) \n",
    "\n",
    "def userDuration(projectlist):\n",
    "    \"\"\"get the duration (difference between last and earliest creation dates)\"\"\"\n",
    "    return timediff(projectlist[-1]['**created'], projectlist[0]['**created'])\n",
    "\n",
    "\n",
    "     "
   ]
  },
  {
   "cell_type": "code",
   "execution_count": 61,
   "metadata": {
    "collapsed": false
   },
   "outputs": [],
   "source": [
    "langgroups = {'es': 'eur',\n",
    "              'pt': 'eur', \n",
    "              'it': 'eur', \n",
    "              'de': 'eur', \n",
    "              'fr': 'eur', \n",
    "              'ca': 'eur', \n",
    "              'el': 'eur', \n",
    "              'nl': 'eur', \n",
    "              'pl': 'eur',\n",
    "              'en': 'eur',\n",
    "              'ru': 'eur',\n",
    "              'ko': 'asia', \n",
    "              'zh': 'asia', \n",
    "              'ja': 'asia', \n",
    "              'th': 'asia'}\n",
    "langgroup_num_map = {'eur': 0, 'asia': 1}\n",
    "\n"
   ]
  },
  {
   "cell_type": "code",
   "execution_count": 62,
   "metadata": {
    "collapsed": true
   },
   "outputs": [],
   "source": [
    "#def get_user_labels():\n",
    "    #return {user: lang_num_map[lang] for user, lang in user_langs.items()}\n",
    "    #return {user: langgroup_num_map[langgroups[lang]] for user, lang in user_langs.items()}\n",
    "    \n",
    "def get_user_labels():\n",
    "    return {user: langgroup_num_map[langgroups[lang]] for user, lang in user_langs.items() if lang in langgroups.keys()}\n"
   ]
  },
  {
   "cell_type": "code",
   "execution_count": 68,
   "metadata": {
    "collapsed": false
   },
   "outputs": [],
   "source": [
    "time_combined = combine_featfuncs([projectLengthFeatures, dayAnalysisFeatures,decileProjects])\n",
    "code_combined = combine_featfuncs([summaryOBlockDecile,summaryDecileTLBlocks,summaryDecileNumScreens,summaryDeltasTLBlocks,summaryDeltasOBlock,summaryDeltasNumScreens, summaryAverages, allBlocksFeaturizer])  "
   ]
  },
  {
   "cell_type": "code",
   "execution_count": 69,
   "metadata": {
    "collapsed": false
   },
   "outputs": [
    {
     "name": "stdout",
     "output_type": "stream",
     "text": [
      "1 2 3 4 5 6\n"
     ]
    }
   ],
   "source": [
    "from sklearn.feature_extraction import DictVectorizer\n",
    "\n",
    "all_features = []\n",
    "time_features = [] \n",
    "code_features = []\n",
    "\n",
    "userlabels = get_user_labels()\n",
    "\n",
    "y = []\n",
    "ctr = 0\n",
    "for user in userlabels:\n",
    "    if user in not_tutorials: \n",
    "\n",
    "        projects = getAllProjects(user, filter_tutorials)  # this returns projects sorted by creation date that include tutorials \n",
    "\n",
    "        y.append(userlabels[user])\n",
    "\n",
    "        time_features.append(time_combined(projects))\n",
    "        code_features.append(code_combined(projects))\n",
    "\n",
    "\n",
    "        # merge time and code feature dicts\n",
    "        all_features_user = time_features[-1].copy()\n",
    "        all_features_user.update(code_features[-1])\n",
    "        all_features.append(all_features_user)\n",
    "\n",
    "        ctr+=1\n",
    "        if ctr%1000==0:\n",
    "            print ctr/1000,\n",
    "\n",
    "        \n",
    "\n",
    "\n",
    "y = numpy.array(y)\n",
    "\n",
    "timevec = DictVectorizer()\n",
    "\n",
    "Xtime = timevec.fit_transform(time_features) \n",
    "\n",
    "codevec = DictVectorizer()\n",
    "\n",
    "Xcode = codevec.fit_transform(code_features)\n",
    "\n",
    "allvec = DictVectorizer()\n",
    "\n",
    "Xall = allvec.fit_transform(all_features)\n"
   ]
  },
  {
   "cell_type": "code",
   "execution_count": 70,
   "metadata": {
    "collapsed": false
   },
   "outputs": [],
   "source": [
    "from sklearn.preprocessing import scale\n",
    "from numpy import *\n",
    "# # convert to dense matrices since these are dense anyway\n",
    "Xtime = scale(Xtime.toarray())\n",
    "Xcode = scale(Xcode.toarray())\n",
    "Xall = scale(Xall.toarray())"
   ]
  },
  {
   "cell_type": "markdown",
   "metadata": {},
   "source": [
    "#### Static KFold Values"
   ]
  },
  {
   "cell_type": "code",
   "execution_count": 71,
   "metadata": {
    "collapsed": true
   },
   "outputs": [],
   "source": [
    "import pickle"
   ]
  },
  {
   "cell_type": "code",
   "execution_count": 72,
   "metadata": {
    "collapsed": false
   },
   "outputs": [],
   "source": [
    "if filter_tutorials:\n",
    "    with open('filtered_kfold.pickle', 'rb') as f:\n",
    "        foldindices = pickle.load(f)\n",
    "else:\n",
    "    with open('unfiltered_kfold.pickle', 'rb') as f:\n",
    "        foldindices = pickle.load(f)"
   ]
  },
  {
   "cell_type": "markdown",
   "metadata": {},
   "source": [
    "### Model Training and Testing"
   ]
  },
  {
   "cell_type": "code",
   "execution_count": 84,
   "metadata": {
    "collapsed": false,
    "scrolled": true
   },
   "outputs": [
    {
     "name": "stdout",
     "output_type": "stream",
     "text": [
      "Chance is 0.559511395799\n",
      "Building a logreg model with 591 all\n",
      "Fold 1\n",
      "Fold 2\n",
      "Fold 3\n",
      "Confusion matrix, without normalization\n"
     ]
    },
    {
     "data": {
      "image/png": "[encoded data removed]",
      "text/plain": [
       "<matplotlib.figure.Figure at 0x663ff48d0>"
      ]
     },
     "metadata": {},
     "output_type": "display_data"
    },
    {
     "name": "stdout",
     "output_type": "stream",
     "text": [
      "Average accuracy 0.914345407331\n"
     ]
    }
   ],
   "source": [
    "from sklearn.cross_validation import StratifiedKFold\n",
    "from sklearn.neighbors import KNeighborsClassifier\n",
    "from  sklearn.metrics import f1_score \n",
    "from sklearn.linear_model import LogisticRegression\n",
    "from sklearn.metrics import confusion_matrix\n",
    "import matplotlib.pyplot as plt\n",
    "%matplotlib inline \n",
    "from plotcnf import plot_confusion_matrix\n",
    "from sklearn.decomposition import PCA\n",
    "\n",
    "print 'Chance is', max(numpy.bincount(y))/float(len(y))\n",
    "\n",
    "### added later ### ************************    \n",
    "foldindices = StratifiedKFold(y)\n",
    "\n",
    "\n",
    "labels = map(lambda x:x[0], sorted(langgroup_num_map.items(), key=lambda x:x[1]))  \n",
    "# languages corresponding to class labels as a list\n",
    "\n",
    "    \n",
    "k = 70 #num neighbors for kNN\n",
    "\n",
    "classifiers = [('logreg', LogisticRegression())]  # no knn because it's too slow \n",
    "#multi_class='multinomial', \n",
    "   \n",
    "\n",
    "for modelname, model in classifiers:\n",
    "    for featname, X in [('all', Xall)]:#('time', Xtime), ('code', Xcode), ('all', Xall)]:\n",
    "        print  'Building a', modelname, 'model with', X.shape[1], featname\n",
    "    \n",
    "        cvaccs = numpy.zeros(len(foldindices))\n",
    "        #cvf1 = numpy.zeros(len(foldindices))\n",
    "        for i, (trainidx, testidx) in enumerate(foldindices):\n",
    "            print 'Fold', i+1\n",
    "        \n",
    "            ytrain = y[trainidx]\n",
    "            ytest = y[testidx]\n",
    "        \n",
    "            Xtrain = X[trainidx, :]  \n",
    "            Xtest = X[testidx, :]\n",
    "            \n",
    "#             model.fit(Xtrain, ytrain)\n",
    "#             cvaccs[i] = model.score(Xtest, ytest)\n",
    "\n",
    "            pca = PCA(n_components=200)\n",
    "\n",
    "            reduced_train = pca.fit_transform(Xtrain)\n",
    "            reduced_test = pca.transform(Xtest)\n",
    "            \n",
    "            model.fit(reduced_train, ytrain)\n",
    "            cvaccs[i] = model.score(reduced_test, ytest)\n",
    "    \n",
    "        \n",
    "#             predictions = model.predict(Xtest)\n",
    "            #cvf1[i] = f1_score(ytest, predictions)\n",
    "            \n",
    "            #print '****', modelname, cvaccs[i]\n",
    "        #analyze last fold only\n",
    "        cnf_matrix = confusion_matrix(ytest, predictions)  \n",
    "\n",
    "        plot_confusion_matrix(cnf_matrix, labels)\n",
    "        plt.show()\n",
    "        coef = model.coef_\n",
    "        print 'Average accuracy', numpy.mean(cvaccs)"
   ]
  },
  {
   "cell_type": "markdown",
   "metadata": {},
   "source": [
    "### Coefs "
   ]
  },
  {
   "cell_type": "code",
   "execution_count": 77,
   "metadata": {
    "collapsed": false
   },
   "outputs": [
    {
     "data": {
      "text/plain": [
       "[(u'controls_choose', -2.1728149112266033),\n",
       " ('TL2', -2.047956608360733),\n",
       " (u'TextBox.SetText', -1.5232108220266223),\n",
       " (u'OrientationSensor.OrientationChanged', -1.4902367230607341),\n",
       " ('NS', -1.4319400244419902),\n",
       " (u'Button.Click', -1.373841802384957),\n",
       " (u'ListPicker.GetSelection', -1.1655146453290259),\n",
       " (u'Label.SetVisible', -1.1566914249656868),\n",
       " (u'procedures_defnoreturn', -1.1385645505500135),\n",
       " (u'LocationSensor.LocationChanged', -1.0973359746815483),\n",
       " (u'Button.LongClick', -1.0895120431817493),\n",
       " (u'Clock.GetTimerInterval', -1.0553289227322951),\n",
       " (u'text_trim', -1.0349327948545248),\n",
       " (u'math_round', -1.0200471814273229),\n",
       " (u'color_make_color', -0.99623297148931178),\n",
       " (u'None.spaces', -0.98679440918407879),\n",
       " (u'procedures_defreturn', -0.98413201868032518),\n",
       " (u'math_add', -0.97631318468998196),\n",
       " (u'TextBox.SetEnabled', -0.97478486504670148),\n",
       " (u'Button.SetBackgroundColor', -0.96296435566730232),\n",
       " (u'global_declaration', -0.91793123831947132),\n",
       " (u'text_replace_all', -0.90379747015759548),\n",
       " (u'Camera.TakePicture', -0.89814830998286976),\n",
       " (u'File.SaveFile', -0.89409323163367782),\n",
       " (u'ImagePicker.AfterPicking', -0.86487606880820889),\n",
       " (u'Canvas.GetHeight', -0.85238778858073649),\n",
       " (u'TableArrangement.SetVisible', -0.84413360624060296),\n",
       " (u'lists_add_items', -0.83398212873160771),\n",
       " ('local vars', -0.81793032291003853),\n",
       " (u'Button.TouchDown', -0.80399634335153547),\n",
       " (u'Label.SetBackgroundColor', -0.75798229258924699),\n",
       " (u'WebViewer.GoToUrl', -0.75468079181674064),\n",
       " (u'Clock.Timer', -0.73564337259081813),\n",
       " (u'Label.SetText', -0.72373080293458347),\n",
       " (u'controls_eval_but_ignore', -0.70261953406089184),\n",
       " (u'math_random_int', -0.68815586794758077),\n",
       " (u'ListPicker.GetElements', -0.676602396100492),\n",
       " (u'TimePicker.GetMinute', -0.67443155309513314),\n",
       " (u'TextBox.GotFocus', -0.66342610728495133),\n",
       " (u'Clock.Now', -0.65242305532667699),\n",
       " (u'File.AppendToFile', -0.64805560801582729),\n",
       " (u'color_red', -0.64342943321876289),\n",
       " ('MC', -0.63823180568121696),\n",
       " (u'BarcodeScanner.GetResult', -0.60821769433270101),\n",
       " (u'TinyDB.StoreValue', -0.59189489099135362),\n",
       " (u'TextToSpeech.SetCountry', -0.58951681750221063),\n",
       " (u'color_white', -0.58501276903031463),\n",
       " (u'Ball.CollidedWith', -0.58246403653181578),\n",
       " (u'text_split', -0.57533985016114531),\n",
       " (u'WebViewer.SetVisible', -0.56238666098212498),\n",
       " (u'controls_openAnotherScreen', -0.51670928362323143),\n",
       " (u'logic_operation', -0.51512264341826197),\n",
       " (u'ListPicker.SetText', -0.50309720469476504),\n",
       " (u'Ball.SetHeading', -0.50053858910544713),\n",
       " (u'SpeechRecognizer.AfterGettingText', -0.49136005546890221),\n",
       " (u'NearField.SetTextToWrite', -0.48798082407470905),\n",
       " (u'math_subtract', -0.47806698255373403),\n",
       " (u'Button.GotFocus', -0.47429134169267118),\n",
       " (u'ListView.SetElements', -0.46945749794744446),\n",
       " (u'Form.BackPressed', -0.46928218509828129),\n",
       " (u'TinyDB.ClearTag', -0.46421169038688237),\n",
       " (u'ListPicker.SetBackgroundColor', -0.44384925108465467),\n",
       " (u'Ball.SetSpeed', -0.4414400876002389),\n",
       " (u'TextToSpeech.SetLanguage', -0.43266273220642648),\n",
       " (u'Sound.Play', -0.43008873020319272),\n",
       " (u'LocationSensor.GetAltitude', -0.40904647671280381),\n",
       " (u'TextBox.SetVisible', -0.40529450855865812),\n",
       " (u'color_gray', -0.40392652221469516),\n",
       " (u'controls_do_then_return', -0.40111888338366752),\n",
       " (u'controls_if', -0.39937704158788123),\n",
       " (u'Clock.GetTimerEnabled', -0.39551367601170456),\n",
       " (u'Canvas.Touched', -0.39034643967963961),\n",
       " (u'controls_closeApplication', -0.38901273878704196),\n",
       " (u'Form.GetWidth', -0.38670692728431688),\n",
       " (u'BluetoothClient.ReceiveText', -0.38616052088161823),\n",
       " (u'TinyWebDB.GetValue', -0.3838523156567038),\n",
       " (u'ListPicker.GetSelectionIndex', -0.38072933220968447),\n",
       " (u'math_neg', -0.38034309621594686),\n",
       " (u'color_magenta', -0.37784566353046761),\n",
       " (u'math_trig', -0.37755885282203233),\n",
       " (u'Ball.EdgeReached', -0.37737785088567749),\n",
       " (u'FusiontablesControl.GotResult', -0.37601762589107596),\n",
       " (u'ImageSprite.GetY', -0.37247954478872397),\n",
       " (u'Notifier.ShowChooseDialog', -0.37216823713215363),\n",
       " (u'ImageSprite.EdgeReached', -0.36319012678199009),\n",
       " (u'TextBox.LostFocus', -0.35926605715817655),\n",
       " (u'Ball.SetRadius', -0.35307953429464695),\n",
       " (u'Canvas.Dragged', -0.34832493508816031),\n",
       " (u'lists_is_empty', -0.34719072174535365),\n",
       " (u'Sharing.ShareFile', -0.34232213889763441),\n",
       " (u'math_random_float', -0.33872384260015026),\n",
       " (u'Button.SetTextColor', -0.33826142122696273),\n",
       " (u'ActivityStarter.ResolveActivity', -0.33097190552435557),\n",
       " (u'TextBox.GetNumbersOnly', -0.32968805432211401),\n",
       " (u'File.GotText', -0.318411915659921),\n",
       " (u'ImageSprite.CollidedWith', -0.3167986075570014),\n",
       " (u'ImageSprite.SetInterval', -0.31472507612152956),\n",
       " (u'Canvas.DrawLine', -0.31314861992916082),\n",
       " (u'Ball.SetInterval', -0.30972957158095438),\n",
       " (u'DatePicker.GetMonthInText', -0.30932531234982347),\n",
       " (u'ImageSprite.GetVisible', -0.30907672105772588),\n",
       " (u'ImageSprite.SetX', -0.30417035444771767),\n",
       " (u'DatePicker.AfterDateSet', -0.29976075768612898),\n",
       " (u'lexical_variable_set', -0.29878142286887255),\n",
       " (u'Canvas.SetVisible', -0.29243317800613927),\n",
       " (u'FusiontablesControl.SetApiKey', -0.29050884449483733),\n",
       " (u'BluetoothClient.SendText', -0.29049293149148581),\n",
       " (u'CheckBox.SetText', -0.28518177069780692),\n",
       " (u'Spinner.GetSelection', -0.28490008699207642),\n",
       " (u'TextBox.SetBackgroundColor', -0.28243542943613348),\n",
       " (u'math_single', -0.27602646523069052),\n",
       " (u'lists_replace_item', -0.27579220874270394),\n",
       " (u'Spinner.GetSelectionIndex', -0.2749942086243351),\n",
       " (u'CheckBox.Changed', -0.27397053477390282),\n",
       " (u'Image.GetVisible', -0.27133934411034777),\n",
       " (u'Slider.GetThumbPosition', -0.27034781811944852),\n",
       " (u'DatePicker.GetYear', -0.26269618254281529),\n",
       " (u'TinyDB.ClearAll', -0.26192350016621652),\n",
       " (u'HorizontalArrangement.SetVisible', -0.25347006822459117),\n",
       " (u'Texting.SetPhoneNumber', -0.2480031310996858),\n",
       " (u'Canvas.GetWidth', -0.24763358863365523),\n",
       " (u'BluetoothClient.GetEnabled', -0.2459772366280458),\n",
       " (u'Player.SetVolume', -0.23498195085125123),\n",
       " (u'Ball.SetX', -0.23071887307664485),\n",
       " (u'ListPicker.SetTextColor', -0.23016213536883784),\n",
       " (u'math_format_as_decimal', -0.22805218475457364),\n",
       " (u'Form.SetScreenOrientation', -0.22775062095060838),\n",
       " (u'Player.Vibrate', -0.22386599782861558),\n",
       " (u'Canvas.SetBackgroundColor', -0.22241492785742692),\n",
       " (u'Ball.GetSpeed', -0.22031502070616502),\n",
       " (u'Clock.DayOfMonth', -0.21967817896610278),\n",
       " ('Thursday', -0.21922998862860937),\n",
       " ('Orphan Decile 10', -0.21478721707158357),\n",
       " (u'Button.SetText', -0.20373731190748737),\n",
       " (u'TinyWebDB.GotValue', -0.20340024640219864),\n",
       " (u'Player.GetSource', -0.20324399740158924),\n",
       " (u'Canvas.Clear', -0.19832864859977511),\n",
       " (u'Form.SetBackgroundColor', -0.19783834949665846),\n",
       " (u'ListPicker.GetText', -0.19774367068059201),\n",
       " (u'WebViewer.GetCurrentPageTitle', -0.19546765339131261),\n",
       " (u'LocationSensor.SetEnabled', -0.19419395268426615),\n",
       " (u'Ball.GetX', -0.19216233680202455),\n",
       " ('8 numscreens blocks delta', -0.19123835294625632),\n",
       " (u'ListView.AfterPicking', -0.19085991978769024),\n",
       " (u'color_light_gray', -0.1871830733126354),\n",
       " (u'NearField.GetLastMessage', -0.18505181739751494),\n",
       " (u'ImageSprite.PointInDirection', -0.18244530713604082),\n",
       " (u'File.ReadFrom', -0.18206074438929651),\n",
       " (u'SpeechRecognizer.GetResult', -0.18074299784849993),\n",
       " (u'text_starts_at', -0.17907838360683917),\n",
       " (u'WebViewer.GoHome', -0.17830965896034451),\n",
       " (u'BluetoothServer.ConnectionAccepted', -0.17758204123680899),\n",
       " (u'BluetoothClient.GetIsConnected', -0.17745860843430095),\n",
       " (u'color_black', -0.17724331497662721),\n",
       " (u'Camcorder.RecordVideo', -0.17626021243820625),\n",
       " (u'color_yellow', -0.17317842787498297),\n",
       " (u'Form.ErrorOccurred', -0.16969069611874929),\n",
       " ('9 numscreens blocks delta', -0.16902689891636244),\n",
       " (u'SpeechRecognizer.BeforeGettingText', -0.1686882083867377),\n",
       " (u'Clock.Year', -0.16758245861230664),\n",
       " (u'Ball.Dragged', -0.16632370665069901),\n",
       " ('1 numscreens blocks delta', -0.1655024164989721),\n",
       " (u'Player.GetIsPlaying', -0.16425455241563655),\n",
       " (u'BluetoothClient.Send1ByteNumber', -0.16299345189311276),\n",
       " (u'math_atan2', -0.16105050743524357),\n",
       " (u'Notifier.LogInfo', -0.16099713071838814),\n",
       " (u'TinyDB.GetTags', -0.16095480193957007),\n",
       " (u'logic_negate', -0.15995356626043739),\n",
       " (u'Label.SetHeight', -0.15830956951852035),\n",
       " ('TopLevel Decile 10', -0.15702870233833735),\n",
       " (u'PhoneNumberPicker.GetContactName', -0.15521178163089508),\n",
       " (u'Clock.SetTimerEnabled', -0.15468104427429685),\n",
       " ('NB', -0.15211019665881126),\n",
       " (u'color_blue', -0.14951495345188359),\n",
       " (u'Image.SetVisible', -0.14794991598340776),\n",
       " ('decile 10', -0.14329029162754414),\n",
       " (u'BluetoothClient.Connect', -0.14185608025064761),\n",
       " (u'Clock.SetTimerAlwaysFires', -0.14131368239704301),\n",
       " (u'Texting.SendMessage', -0.13554622345338196),\n",
       " (u'Sound.Pause', -0.13356144512858953),\n",
       " ('decile 9', -0.13045706291649886),\n",
       " (u'ImageSprite.GetPicture', -0.12847921596860593),\n",
       " ('Orphan Decile 5', -0.1283477509932574),\n",
       " (u'ImageSprite.SetHeight', -0.12317819530074453),\n",
       " (u'ImageSprite.TouchDown', -0.12175064060831325),\n",
       " ('mean of intervals', -0.12059221432755808),\n",
       " ('mean of lengths', -0.12059221432755808),\n",
       " (u'Canvas.SetHeight', -0.11736535736956154),\n",
       " ('decile 8', -0.11444641473193351),\n",
       " ('Orphan Decile 1', -0.11437505758132605),\n",
       " ('Orphan Decile 9', -0.11419106034149121),\n",
       " (u'lists_to_csv_row', -0.11374773446531625),\n",
       " (u'ProximitySensor.ProximityChanged', -0.11229391546244363),\n",
       " ('Orphan Decile 3', -0.11170924382577753),\n",
       " (u'HorizontalArrangement.SetHeight', -0.11160479439443777),\n",
       " (u'Sound.GetMinimumInterval', -0.11045956918109544),\n",
       " (u'Sound.Vibrate', -0.11039989351043893),\n",
       " (u'Form.SetTitle', -0.10976816099027054),\n",
       " (u'Clock.Month', -0.10766693069610267),\n",
       " (u'Player.Completed', -0.10623999329235859),\n",
       " (u'Web.SetUrl', -0.10255534748670933),\n",
       " ('6 TL blocks delta', -0.10160686752754824),\n",
       " (u'color_pink', -0.1012133149801641),\n",
       " (u'Ball.GetRadius', -0.10016346274684787),\n",
       " ('Orphan Decile 2', -0.099408090507655006),\n",
       " (u'ImageSprite.SetHeading', -0.098786803030164155),\n",
       " (u'controls_forEach', -0.098754716010354904),\n",
       " (u'Spinner.AfterSelecting', -0.098739475016258973),\n",
       " (u'OrientationSensor.GetPitch', -0.096330539707904964),\n",
       " (u'Canvas.TouchDown', -0.095330932617811406),\n",
       " (u'Button.GetText', -0.094608420792754472),\n",
       " ('Saturday', -0.093254822665073345),\n",
       " (u'Canvas.DrawCircle', -0.092843303389847073),\n",
       " (u'ImageSprite.GetHeading', -0.089416693338220526),\n",
       " (u'VideoPlayer.Start', -0.088754854852181084),\n",
       " (u'color_dark_gray', -0.088188435103569177),\n",
       " (u'ImageSprite.GetHeight', -0.087434965094943598),\n",
       " (u'TextBox.RequestFocus', -0.087266383797516694),\n",
       " (u'Web.SetRequestHeaders', -0.085933893513289478),\n",
       " (u'TextToSpeech.Speak', -0.085337703810305268),\n",
       " (u'LocationSensor.GetLatitude', -0.085020358021106385),\n",
       " ('NumScreens Decile 7', -0.082902536426163922),\n",
       " ('NumScreens Decile 2', -0.08062705467164788),\n",
       " (u'lists_copy', -0.079626028815096075),\n",
       " (u'lists_append_list', -0.077742913592267385),\n",
       " (u'VerticalArrangement.GetVisible', -0.077220658431105593),\n",
       " (u'Form.GetHeight', -0.076609639953014383),\n",
       " (u'ImageSprite.CollidingWith', -0.075642585715611832),\n",
       " (u'lists_is_in', -0.07540737196900095),\n",
       " (u'None.text', -0.073560306015114901),\n",
       " (u'ActivityStarter.AfterActivity', -0.073148679897212354),\n",
       " (u'controls_while', -0.072003890857937583),\n",
       " (u'Button.GetEnabled', -0.069602149563888202),\n",
       " ('9 O blocks delta', -0.068841230722255703),\n",
       " (u'Spinner.SetSelection', -0.068784541762921161),\n",
       " ('1 O blocks delta', -0.067277956796295404),\n",
       " ('NC', -0.067003144971453862),\n",
       " ('NTC', -0.067003144971453862),\n",
       " ('decile 6', -0.065189288990085054),\n",
       " (u'controls_getStartValue', -0.064693775542792945),\n",
       " ('3 TL blocks delta', -0.064065868957546609),\n",
       " (u'ListPicker.SetSelection', -0.058558958205712781),\n",
       " (u'BluetoothServer.AcceptConnection', -0.057758889125453822),\n",
       " ('NumScreens Decile 3', -0.057597290218988954),\n",
       " ('6 O blocks delta', -0.057422450701979627),\n",
       " ('7 TL blocks delta', -0.057307110340459329),\n",
       " (u'Button.SetEnabled', -0.056686546841085803),\n",
       " (u'Web.PostText', -0.056682011539077232),\n",
       " (u'Button.GetWidth', -0.055846646181426769),\n",
       " ('TopLevel Decile 4', -0.052673464981478811),\n",
       " ('NumScreens Decile 8', -0.050558986999312223),\n",
       " (u'Texting.SetMessage', -0.050524992219421923),\n",
       " ('3 numscreens blocks delta', -0.049373926597957002),\n",
       " (u'WebViewer.GoBack', -0.049356640855883753),\n",
       " (u'FusiontablesControl.SendQuery', -0.04801208966746142),\n",
       " ('7 O blocks delta', -0.046356961536661911),\n",
       " (u'FusiontablesControl.SetQuery', -0.045512275592691172),\n",
       " (u'Label.SetWidth', -0.045451341843658427),\n",
       " (u'VideoPlayer.SetVisible', -0.045412193314198129),\n",
       " (u'math_multiply', -0.045226777883911898),\n",
       " (u'Ball.PointInDirection', -0.041847642591837188),\n",
       " (u'Image.SetHeight', -0.041290397133260041),\n",
       " (u'WebViewer.GetCurrentUrl', -0.041090129663650478),\n",
       " (u'lists_to_csv_table', -0.039495115825202945),\n",
       " (u'controls_closeScreenWithValue', -0.038197165225669932),\n",
       " ('TopLevel Decile 5', -0.038076636569129574),\n",
       " (u'CheckBox.SetChecked', -0.036523277136307909),\n",
       " (u'OrientationSensor.SetEnabled', -0.035380937159002153),\n",
       " (u'OrientationSensor.GetAzimuth', -0.034790963170255193),\n",
       " (u'YandexTranslate.GotTranslation', -0.034161729138732701),\n",
       " (u'TextBox.SetTextColor', -0.03179445935472032),\n",
       " (u'Button.SetHeight', -0.026215886970932089),\n",
       " (u'text_compare', -0.025357735406384314),\n",
       " ('Orphan Decile 8', -0.024876989859331965),\n",
       " (u'Camcorder.AfterRecording', -0.02419758575611693),\n",
       " (u'ListView.GetSelection', -0.023106496713066603),\n",
       " (u'TextToSpeech.SetSpeechRate', -0.022904339584689137),\n",
       " ('NumScreens Decile 1', -0.022456663613441327),\n",
       " (u'Canvas.SetWidth', -0.022396995757661201),\n",
       " (u'Canvas.GetBackgroundImage', -0.022063109225854759),\n",
       " (u'TextToSpeech.SetPitch', -0.020873581124166159),\n",
       " (u'Notifier.LogWarning', -0.020386732239863082),\n",
       " (u'NearField.TagRead', -0.018281975798017037),\n",
       " ('2 numscreens blocks delta', -0.017185913502140493),\n",
       " ('Friday', -0.01677174641992827),\n",
       " (u'Button.SetFontSize', -0.016139130080289363),\n",
       " ('8 O blocks delta', -0.015531063710329078),\n",
       " (u'ActivityStarter.StartActivity', -0.014991029259031155),\n",
       " (u'VideoPlayer.Completed', -0.014558132325119127),\n",
       " (u'Clock.FormatTime', -0.014442720881036946),\n",
       " (u'VideoPlayer.Pause', -0.010269913579980663),\n",
       " (u'ImageSprite.Bounce', -0.0085264822261461141),\n",
       " ('4 TL blocks delta', -0.0061616899337628506),\n",
       " ('5 TL blocks delta', -0.0056383672576474078),\n",
       " ('TopLevel Decile 6', -0.0049716398447094906),\n",
       " (u'Ball.SetPaintColor', -0.0047201208071443431),\n",
       " ('4 O blocks delta', -0.0040626142416340391),\n",
       " (u'Form.SetBackgroundImage', -0.0029240294429611485),\n",
       " (u'ImageSprite.GetWidth', -0.0028237699952704002),\n",
       " ('Orphan Decile 6', -0.0012436839271510207),\n",
       " (u'Sharing.ShareMessage', -0.00063356455913897945),\n",
       " (u'SoundRecorder.Stop', -0.00057107854655284805),\n",
       " (u'Ball.GetPaintColor', 0.0),\n",
       " (u'PasswordTextBox.SetVisible', 0.0),\n",
       " (u'VideoPlayer.SetFullScreen', 0.0),\n",
       " (u'VideoPlayer.SetHeight', 0.0),\n",
       " (u'VideoPlayer.SetWidth', 0.0),\n",
       " (u'ImageSprite.Flung', 0.00054534190401325355),\n",
       " (u'AccelerometerSensor.GetYAccel', 0.00084187550087520433),\n",
       " (u'BluetoothClient.GetAddressesAndNames', 0.0014715781388059631),\n",
       " (u'SoundRecorder.Start', 0.0017297704025500829),\n",
       " (u'ImageSprite.SetPicture', 0.0027691529652814598),\n",
       " (u'ImageSprite.GetEnabled', 0.004314754806815339),\n",
       " ('Tuesday', 0.0062046121457735928),\n",
       " (u'AccelerometerSensor.GetXAccel', 0.0082471750487462057),\n",
       " (u'color_split_color', 0.0087989856591783096),\n",
       " (u'Label.SetFontSize', 0.0097717433937728609),\n",
       " (u'Web.GotText', 0.0099497966311553002),\n",
       " ('3 O blocks delta', 0.010778027185985797),\n",
       " (u'Web.BuildRequestData', 0.011122019018594047),\n",
       " (u'ImageSprite.SetWidth', 0.011403407143157358),\n",
       " (u'Ball.Flung', 0.014262710430875986),\n",
       " ('NumScreens Decile 9', 0.017733407969797315),\n",
       " (u'controls_forRange', 0.01873046442872512),\n",
       " (u'CheckBox.SetEnabled', 0.019563245717735555),\n",
       " (u'Button.SetFontBold', 0.019868347878963983),\n",
       " (u'Clock.FormatDate', 0.020075450821747363),\n",
       " (u'Slider.SetVisible', 0.020820468204029666),\n",
       " ('8 TL blocks delta', 0.021873321392581097),\n",
       " (u'math_abs', 0.022409465197987755),\n",
       " (u'controls_openAnotherScreenWithStartValue', 0.023542989372149638),\n",
       " (u'AccelerometerSensor.GetZAccel', 0.023592708906832491),\n",
       " (u'ImageSprite.GetSpeed', 0.024163189212281343),\n",
       " (u'math_cos', 0.024882607572392239),\n",
       " (u'BluetoothClient.ReceiveSigned1ByteNumber', 0.025268197929451054),\n",
       " (u'ListPicker.SetTitle', 0.025387909491260796),\n",
       " (u'Clock.GetMillis', 0.026139184692600202),\n",
       " (u'CheckBox.SetVisible', 0.02690235330506445),\n",
       " ('stddev of intervals', 0.028055321310038583),\n",
       " ('stddev of lengths', 0.028055321310038583),\n",
       " (u'Web.SetSaveResponse', 0.02847275804208808),\n",
       " (u'ListPicker.SetElements', 0.028563643525602658),\n",
       " (u'ImageSprite.SetVisible', 0.028694777160645009),\n",
       " (u'Clock.MakeInstant', 0.029021710139297292),\n",
       " ('4 numscreens blocks delta', 0.031718819813734603),\n",
       " (u'WebViewer.GetHomeUrl', 0.031815025250738552),\n",
       " (u'AccelerometerSensor.AccelerationChanged', 0.032309524376859383),\n",
       " (u'TextBox.SetHint', 0.032397158807395),\n",
       " ('NumScreens Decile 5', 0.032521302925562129),\n",
       " (u'PhoneNumberPicker.AfterPicking', 0.034542512220579719),\n",
       " (u'Notifier.ShowAlert', 0.035290377016266007),\n",
       " (u'Form.SetAboutScreen', 0.035737290501593674),\n",
       " (u'SoundRecorder.AfterSoundRecorded', 0.035789706971725586),\n",
       " (u'ImageSprite.PointTowards', 0.035919206828327159),\n",
       " ('2 O blocks delta', 0.037986917711495517),\n",
       " (u'Web.GotFile', 0.039042026809777752),\n",
       " (u'Canvas.GetBackgroundColor', 0.039078444255847847),\n",
       " (u'math_power', 0.043796066509112365),\n",
       " (u'ImageSprite.Touched', 0.043913513402966987),\n",
       " (u'Canvas.GetPaintColor', 0.045752024139973355),\n",
       " ('NumScreens Decile 6', 0.045893819234603429),\n",
       " (u'YandexTranslate.RequestTranslation', 0.045977155151240331),\n",
       " (u'lists_position_in', 0.046240248058846224),\n",
       " (u'math_convert_number', 0.048236389380245083),\n",
       " (u'Texting.MessageReceived', 0.04975326431402765),\n",
       " ('6 numscreens blocks delta', 0.052114733432476121),\n",
       " (u'Button.GetVisible', 0.054072115768680297),\n",
       " (u'logic_or', 0.054290552231978553),\n",
       " (u'Sharing.ShareFileWithMessage', 0.055432185903151049),\n",
       " (u'Canvas.Flung', 0.055640164419319772),\n",
       " (u'Canvas.GetPixelColor', 0.056493762597611831),\n",
       " (u'Web.UriEncode', 0.058818015442142463),\n",
       " ('2 TL blocks delta', 0.05907440686754821),\n",
       " (u'color_green', 0.060389491221435054),\n",
       " (u'NxtDrive.Stop', 0.060542280121036164),\n",
       " (u'controls_closeScreen', 0.061635203835050438),\n",
       " (u'FusiontablesControl.ForgetLogin', 0.06196335698862903),\n",
       " ('Orphan Decile 7', 0.062927005511473455),\n",
       " (u'LocationSensor.GetCurrentAddress', 0.064048871237014943),\n",
       " ('TopLevel Decile 3', 0.066822179539768281),\n",
       " (u'NxtDrive.MoveForwardIndefinitely', 0.066972142909531712),\n",
       " (u'Label.GetVisible', 0.06709552243170426),\n",
       " (u'Ball.Touched', 0.067226949297305438),\n",
       " ('TopLevel Decile 2', 0.068336884120101596),\n",
       " (u'Player.Start', 0.068627622368191143),\n",
       " (u'ActivityStarter.SetActivityPackage', 0.070967435809393645),\n",
       " ('mean of numScreens', 0.073893140441524549),\n",
       " (u'ListPicker.SetElementsFromString', 0.075408348591103319),\n",
       " ('TopLevel Decile 1', 0.076098367415871698),\n",
       " (u'Ball.CollidingWith', 0.07667799831062494),\n",
       " ('5 numscreens blocks delta', 0.077046205635791648),\n",
       " (u'BluetoothServer.Disconnect', 0.08203469163115594),\n",
       " (u'Clock.Second', 0.082191626408441479),\n",
       " (u'BarcodeScanner.DoScan', 0.082662905116179297),\n",
       " ('TopLevel Decile 9', 0.084393997536297782),\n",
       " (u'BluetoothServer.GetIsAccepting', 0.085937644411365643),\n",
       " (u'ImageSprite.MoveTo', 0.086216989808979835),\n",
       " (u'BarcodeScanner.AfterScan', 0.088701968967193845),\n",
       " (u'NxtDrive.TurnCounterClockwiseIndefinitely', 0.089767178599175323),\n",
       " (u'Web.Get', 0.090054521750475416),\n",
       " (u'ActivityStarter.SetDataType', 0.091656288317754214),\n",
       " (u'NxtDrive.TurnClockwiseIndefinitely', 0.093247048423062223),\n",
       " (u'Form.Initialize', 0.093729692127857825),\n",
       " (u'TinyWebDB.WebServiceError', 0.10186393344991156),\n",
       " ('decile 7', 0.10628811930425314),\n",
       " (u'BluetoothServer.GetIsConnected', 0.10903664314398492),\n",
       " (u'NxtDrive.MoveBackwardIndefinitely', 0.11136625509381647),\n",
       " (u'text_changeCase', 0.11205302203224293),\n",
       " (u'Image.GetPicture', 0.11337687507644931),\n",
       " (u'BluetoothServer.BytesAvailableToReceive', 0.11417729833942289),\n",
       " ('Orphan Decile 4', 0.11489832888232908),\n",
       " (u'SpeechRecognizer.GetText', 0.11641200102591093),\n",
       " (u'ActivityStarter.SetExtraKey', 0.11755141238282939),\n",
       " (u'Form.OtherScreenClosed', 0.11760017290301152),\n",
       " (u'ListPicker.SetEnabled', 0.12091170031779633),\n",
       " (u'math_ceiling', 0.12195649347839893),\n",
       " (u'ImageSprite.SetSpeed', 0.12557586751893249),\n",
       " (u'Ball.MoveTo', 0.12575792976884692),\n",
       " (u'Clock.FormatDateTime', 0.12698561175597906),\n",
       " (u'TinyWebDB.ValueStored', 0.13073686599582751),\n",
       " (u'Form.ScreenOrientationChanged', 0.132231125528534),\n",
       " (u'Ball.SetY', 0.1326392339849837),\n",
       " (u'BluetoothServer.ReceiveText', 0.13456019285017989),\n",
       " (u'LocationSensor.GetProviderName', 0.13586865760183625),\n",
       " (u'lists_is_list', 0.13720726532250949),\n",
       " (u'Canvas.SetBackgroundImage', 0.13892703857620323),\n",
       " ('NumScreens Decile 4', 0.13943049137346966),\n",
       " (u'Sound.GetSource', 0.14093291957132562),\n",
       " (u'Clock.Duration', 0.14673746126769888),\n",
       " (u'ImageSprite.GetX', 0.14680899297764632),\n",
       " (u'math_is_a_number', 0.14884966802933056),\n",
       " (u'Slider.PositionChanged', 0.14939158395680924),\n",
       " ('7 numscreens blocks delta', 0.15008525079590002),\n",
       " (u'ImageSprite.SetRotates', 0.15122379201917099),\n",
       " (u'ListView.GetElements', 0.15126974544971528),\n",
       " ('1 TL blocks delta', 0.15186771948125008),\n",
       " (u'DatePicker.GetMonth', 0.15270463669356515),\n",
       " (u'PhoneCall.MakePhoneCall', 0.15272444138011523),\n",
       " ('Monday', 0.15414551614051258),\n",
       " (u'Notifier.AfterChoosing', 0.15594996559214072),\n",
       " (u'Canvas.DrawPoint', 0.15827602592241893),\n",
       " (u'ActivityStarter.SetDataUri', 0.1607899807331209),\n",
       " (u'text_segment', 0.16256006242313734),\n",
       " ('OB', 0.16272050941997934),\n",
       " (u'BluetoothClient.GetAvailable', 0.16325449823758681),\n",
       " (u'Button.GetBackgroundColor', 0.16435712193033536),\n",
       " (u'Button.SetImage', 0.16506980956336281),\n",
       " (u'LocationSensor.GetLongitude', 0.16596573627558694),\n",
       " (u'lists_select_item', 0.16752658089606082),\n",
       " ('5 O blocks delta', 0.16897645672443271),\n",
       " ('decile 1', 0.17037344852324096),\n",
       " ('decile 2', 0.17144025907258323),\n",
       " (u'PhoneNumberPicker.GetPicture', 0.17477421336667898),\n",
       " (u'Camera.AfterPicture', 0.17675339050169811),\n",
       " (u'ListPicker.AfterPicking', 0.17720852660244127),\n",
       " (u'OrientationSensor.GetAngle', 0.17742702635775284),\n",
       " (u'Label.GetText', 0.18110655675572659),\n",
       " (u'ImageSprite.TouchUp', 0.18228241812079846),\n",
       " (u'BluetoothServer.SendText', 0.18381915135223131),\n",
       " (u'PasswordTextBox.SetText', 0.18771841678725493),\n",
       " (u'ListView.SetVisible', 0.18931555781785137),\n",
       " (u'TextBox.SetNumbersOnly', 0.18973364870813778),\n",
       " (u'CheckBox.GetChecked', 0.19052051896702785),\n",
       " (u'Slider.SetColorLeft', 0.1914048106691921),\n",
       " (u'math_floor', 0.1928173999619921),\n",
       " (u'Sound.Resume', 0.19351225805443895),\n",
       " (u'math_compare', 0.19554961768781523),\n",
       " ('TopLevel Decile 8', 0.19689178297816134),\n",
       " (u'Notifier.ShowMessageDialog', 0.19782732135157433),\n",
       " (u'DatePicker.GetDay', 0.19932971659632948),\n",
       " (u'BluetoothServer.StopAccepting', 0.20289886541004687),\n",
       " (u'Button.SetVisible', 0.20559431111042864),\n",
       " (u'ListPicker.BeforePicking', 0.20814879699512592),\n",
       " (u'color_cyan', 0.21319589394968164),\n",
       " (u'WebViewer.SetWebViewString', 0.21450284178056156),\n",
       " (u'lists_length', 0.21506374929782815),\n",
       " (u'TextBox.HideKeyboard', 0.2153446298966831),\n",
       " (u'logic_compare', 0.21660155734407105),\n",
       " (u'Sound.Stop', 0.21695712215694793),\n",
       " (u'ActivityStarter.SetExtraValue', 0.22236926967429035),\n",
       " ('num projects', 0.22345464111174249),\n",
       " (u'OrientationSensor.GetMagnitude', 0.22719566845816311),\n",
       " (u'lists_lookup_in_pairs', 0.23322485057124254),\n",
       " ('NumScreens Decile 10', 0.23478646486452245),\n",
       " (u'Notifier.ShowTextDialog', 0.23522996522944195),\n",
       " ('TopLevel Decile 7', 0.24276719998819229),\n",
       " (u'text_length', 0.24433782457276337),\n",
       " (u'Player.Pause', 0.24597075791173373),\n",
       " (u'logic_boolean', 0.25089144828793142),\n",
       " (u'Button.TouchUp', 0.25682062803665412),\n",
       " ('decile 5', 0.25819412912358547),\n",
       " (u'Label.SetTextColor', 0.26411330083313628),\n",
       " (u'VideoPlayer.SetSource', 0.26670349371568625),\n",
       " (u'lists_create_with', 0.27417889330383516),\n",
       " (u'Ball.SetVisible', 0.27524934164443371),\n",
       " ('Sunday', 0.27677728270971486),\n",
       " (u'Canvas.TouchUp', 0.28194561558782955),\n",
       " (u'lists_insert_item', 0.28751713401832368),\n",
       " (u'ContactPicker.GetContactName', 0.29368809031464538),\n",
       " (u'lists_pick_random_item', 0.29947303686188004),\n",
       " (u'Canvas.SetFontSize', 0.30514477322152261),\n",
       " (u'ImageSprite.SetY', 0.30552613961564562),\n",
       " (u'Notifier.AfterTextInput', 0.31776764658489959),\n",
       " ('9 TL blocks delta', 0.32031419785517135),\n",
       " (u'ContactPicker.AfterPicking', 0.32250465725271943),\n",
       " (u'ContactPicker.GetPhoneNumber', 0.32282104413945439),\n",
       " (u'BluetoothClient.Disconnect', 0.326529446852446),\n",
       " (u'PhoneNumberPicker.GetPhoneNumber', 0.32773471547641375),\n",
       " (u'TextToSpeech.AfterSpeaking', 0.33188978436471789),\n",
       " (u'text_isEmpty', 0.33575165071486096),\n",
       " (u'VerticalArrangement.SetVisible', 0.33605925144875121),\n",
       " ('Wednesday', 0.33689359134792257),\n",
       " (u'Player.SetSource', 0.33860087949525169),\n",
       " (u'Image.SetPicture', 0.34101956982379444),\n",
       " (u'Ball.GetY', 0.34382901116889636),\n",
       " (u'TextBox.GetText', 0.34925245497482643),\n",
       " (u'math_divide', 0.35685339770785285),\n",
       " (u'lists_from_csv_row', 0.35860192806753505),\n",
       " (u'CheckBox.GetText', 0.35944109776583433),\n",
       " (u'math_division', 0.36218514517862033),\n",
       " (u'component_component_block', 0.36418807593418323),\n",
       " (u'WebViewer.GoForward', 0.36928842744917167),\n",
       " (u'procedures_callnoreturn', 0.36960497812799092),\n",
       " ('decile 3', 0.37105742813979709),\n",
       " (u'OrientationSensor.GetRoll', 0.37642578108153846),\n",
       " (u'ActivityStarter.SetAction', 0.37642796149680458),\n",
       " (u'ActivityStarter.SetActivityClass', 0.37874949771955257),\n",
       " (u'LocationSensor.SetProviderName', 0.38836864694792883),\n",
       " (u'TinyDB.GetValue', 0.39116901894794948),\n",
       " (u'LocationSensor.GetAccuracy', 0.39142280770140186),\n",
       " (u'color_orange', 0.39172079438979773),\n",
       " (u'Image.SetWidth', 0.39606878807072288),\n",
       " (u'Canvas.SaveAs', 0.3961642250233694),\n",
       " (u'Canvas.Save', 0.40316272384819452),\n",
       " (u'Clock.Minute', 0.40401816804791923),\n",
       " (u'TimePicker.GetHour', 0.40922205422589114),\n",
       " (u'TimePicker.AfterTimeSet', 0.42453661954254601),\n",
       " (u'WebViewer.SetHomeUrl', 0.42593696197833225),\n",
       " (u'TinyWebDB.StoreValue', 0.42855500326313045),\n",
       " (u'ListPicker.Open', 0.438873968504227),\n",
       " (u'ImageSprite.SetEnabled', 0.46388946149393906),\n",
       " (u'Player.Stop', 0.47267506285215921),\n",
       " (u'PhoneCall.SetPhoneNumber', 0.47866119315613143),\n",
       " (u'Canvas.SetPaintColor', 0.4816323674449744),\n",
       " (u'ListView.SetElementsFromString', 0.48213191157101321),\n",
       " (u'ListPicker.SetVisible', 0.48682336739180793),\n",
       " (u'Canvas.DrawText', 0.49382710942713187),\n",
       " (u'math_on_list', 0.49627437966151139),\n",
       " (u'lexical_variable_get', 0.50321168742874234),\n",
       " (u'logic_false', 0.50545751658963245),\n",
       " (u'Clock.SystemTime', 0.51125695906814517),\n",
       " (u'Ball.Bounce', 0.51553423810963384),\n",
       " (u'local_declaration_expression', 0.51908527623984757),\n",
       " (u'text_contains', 0.51997161417832416),\n",
       " (u'lists_remove_item', 0.5219392364578469),\n",
       " (u'Ball.GetHeading', 0.52314761124627185),\n",
       " (u'ImageSprite.Dragged', 0.52616457205364642),\n",
       " (u'Spinner.SetElements', 0.53650741824316139),\n",
       " (u'DatePicker.SetText', 0.53672270952625722),\n",
       " (u'Ball.TouchDown', 0.54558025901750762),\n",
       " (u'Ball.SetEnabled', 0.54978438436873955),\n",
       " (u'ImageSprite.SetZ', 0.56425212522634505),\n",
       " ('NP', 0.57664379295180879),\n",
       " (u'Clock.Hour', 0.62960979729157152),\n",
       " (u'NearField.SetReadMode', 0.6590384062293928),\n",
       " ('decile 4', 0.68272718112090891),\n",
       " (u'AccelerometerSensor.Shaking', 0.69784503156203759),\n",
       " (u'Button.GetImage', 0.70771143374957646),\n",
       " (u'ImagePicker.Open', 0.71578765511833875),\n",
       " (u'Slider.SetThumbPosition', 0.74508792462012285),\n",
       " (u'Canvas.SetLineWidth', 0.75164696444667545),\n",
       " (u'text', 0.77093666056986021),\n",
       " ('global vars', 0.78631854261905099),\n",
       " (u'Canvas.GetLineWidth', 0.8002077442704647),\n",
       " (u'procedures_callreturn', 0.82708562108752137),\n",
       " (u'BluetoothClient.BytesAvailableToReceive', 0.82775616727606438),\n",
       " (u'Button.SetWidth', 0.83193913951122245),\n",
       " (u'ListView.GetSelectionIndex', 0.83919454937557081),\n",
       " (u'Web.JsonTextDecode', 0.90159909040165809),\n",
       " (u'PasswordTextBox.GetText', 0.93594348149708095),\n",
       " (u'local_declaration_statement', 0.95909653439960341),\n",
       " (u'Clock.SetTimerInterval', 0.96135783352586979),\n",
       " (u'Player.SetLoop', 0.96423238430347114),\n",
       " (u'Sound.SetSource', 0.96563246691014992),\n",
       " (u'AccelerometerSensor.SetEnabled', 1.0454039396972565),\n",
       " (u'text_join', 1.0645718897748617),\n",
       " (u'ImagePicker.GetSelection', 1.1778436895579785),\n",
       " (u'File.Delete', 1.208108984722063),\n",
       " ('TL', 1.2270675480690041),\n",
       " (u'lists_from_csv_table', 1.2748115361950092),\n",
       " (u'math_number', 1.8500358278909612)]"
      ]
     },
     "execution_count": 77,
     "metadata": {},
     "output_type": "execute_result"
    }
   ],
   "source": [
    "sorted(zip(allvec.get_feature_names(), coef[0]), key=lambda tup: tup[1])"
   ]
  },
  {
   "cell_type": "code",
   "execution_count": null,
   "metadata": {
    "collapsed": false
   },
   "outputs": [],
   "source": [
    "from sklearn.metrics import f1_score\n",
    "f1_score(ytest, predictions)"
   ]
  }
 ],
 "metadata": {
  "anaconda-cloud": {},
  "kernelspec": {
   "display_name": "Python [default]",
   "language": "python",
   "name": "python2"
  },
  "language_info": {
   "codemirror_mode": {
    "name": "ipython",
    "version": 2
   },
   "file_extension": ".py",
   "mimetype": "text/x-python",
   "name": "python",
   "nbconvert_exporter": "python",
   "pygments_lexer": "ipython2",
   "version": "2.7.12"
  }
 },
 "nbformat": 4,
 "nbformat_minor": 0
}
