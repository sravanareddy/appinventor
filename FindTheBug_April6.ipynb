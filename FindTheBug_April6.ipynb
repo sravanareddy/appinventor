{
 "cells": [
  {
   "cell_type": "code",
   "execution_count": 1,
   "metadata": {
    "collapsed": false
   },
   "outputs": [],
   "source": [
    "import ujson\n",
    "import numpy \n",
    "import datetime\n",
    "import json\n",
    "from collections import Counter"
   ]
  },
  {
   "cell_type": "markdown",
   "metadata": {},
   "source": [
    "## 1. Load Data"
   ]
  },
  {
   "cell_type": "code",
   "execution_count": 2,
   "metadata": {
    "collapsed": false
   },
   "outputs": [
    {
     "name": "stdout",
     "output_type": "stream",
     "text": [
      "1 2 3 4 5 6 7 8 9 10 11 12 13 14 15 16 17 18 19 20 21 22 23 24 25 26 27 28 29 30 31 32 33 34 35 36 37 38 39 40 41 42 43 44 45 46 47\n"
     ]
    }
   ],
   "source": [
    "summaries = {}\n",
    "ctr = 0\n",
    "for line in open('user_project_summaries.json'): # lazy iteration because the file is large\n",
    "    ctr+=1\n",
    "    summaries.update(ujson.loads(line))  \n",
    "    print ctr,"
   ]
  },
  {
   "cell_type": "code",
   "execution_count": 3,
   "metadata": {
    "collapsed": false
   },
   "outputs": [],
   "source": [
    "from features import *\n",
    "import features\n",
    "reload(features)\n",
    "import sys, os\n",
    "sys.path.append(os.getcwd())\n"
   ]
  },
  {
   "cell_type": "markdown",
   "metadata": {},
   "source": [
    "The languages labels are inferred from the `namestrings_to_langs.py` script using `langid`."
   ]
  },
  {
   "cell_type": "code",
   "execution_count": 4,
   "metadata": {
    "collapsed": false
   },
   "outputs": [
    {
     "name": "stdout",
     "output_type": "stream",
     "text": [
      "lang data created with 42633 users and 11 languages set([u'el', u'fr', u'en', u'zh', u'pt', u'ca', u'de', u'ko', u'it', u'th', u'es'])\n"
     ]
    }
   ],
   "source": [
    "isocodes = ujson.load(open('isocodes.json'))  # mapping from  iso code to language name\n",
    "user_langs = ujson.load(open('user_inferredlangs.json'))  # mapping from userid to inferred language\n",
    "# remove uncommon languages\n",
    "lang_counts = Counter()\n",
    "for user in user_langs:\n",
    "    lang = user_langs[user]\n",
    "    lang_counts[lang] += 1\n",
    "    \n",
    "user_langs = {user: lang for user, lang in user_langs.items() if lang_counts[lang]>=250 and user in summaries and lang != 'la'}\n",
    "langset = set(user_langs.values())\n",
    "print 'lang data created with', len(user_langs), 'users and', len(langset), 'languages', langset"
   ]
  },
  {
   "cell_type": "code",
   "execution_count": 5,
   "metadata": {
    "collapsed": true
   },
   "outputs": [],
   "source": [
    "# time utilities\n",
    "def convert_time(el):\n",
    "    \"\"\"Human readable time\"\"\"\n",
    "    el = int(str(el)[:10])\n",
    "    return datetime.date.fromtimestamp(el)\n",
    "\n",
    "def timediff(t1, t2):\n",
    "    \"\"\"difference between times (millisec precision) as days\"\"\"\n",
    "    return (t1-t2)/(86400.*1000)"
   ]
  },
  {
   "cell_type": "code",
   "execution_count": 6,
   "metadata": {
    "collapsed": false
   },
   "outputs": [],
   "source": [
    "i = 0\n",
    "lang_dict = {}\n",
    "for user in summaries: \n",
    "        try: \n",
    "            lang = user_langs[user]\n",
    "        except KeyError:\n",
    "            i +=1\n",
    "        if lang not in lang_dict:\n",
    "            lang_dict[lang] = []\n",
    "        lang_dict[lang].append(summaries[user])"
   ]
  },
  {
   "cell_type": "markdown",
   "metadata": {},
   "source": [
    "Chinese examples"
   ]
  },
  {
   "cell_type": "code",
   "execution_count": 7,
   "metadata": {
    "collapsed": false
   },
   "outputs": [],
   "source": [
    "chin_users = lang_dict['zh']\n",
    "c = Counter()\n",
    "for summary in chin_users: \n",
    "    for project in summary: \n",
    "        c.update([summary[project]['**Project Name']])\n",
    "\n",
    "# print c.most_common(50)        "
   ]
  },
  {
   "cell_type": "code",
   "execution_count": 8,
   "metadata": {
    "collapsed": false
   },
   "outputs": [],
   "source": [
    "zh_examples = [entry for entry in c if 'ex_' in entry and c[entry] > 100]\n",
    "pt_examples = ['Calculadora', 'calculadora', 'DataEHora', 'Lista']\n",
    "ca_examples = ['CercleVersusPunt', 'Adreces_DavidMartinez', 'NomIntroduit', 'TallersSanJordi']\n",
    "de_examples = ['Taschenrechner', 'Einkaufsliste', 'Mehrwertsteuer',  'ZufallsgeneratorLayout']\n",
    "ko_examples = ['gawibawibo', 'ParisMapTour']\n",
    "it_examples = ['calcolatrice', 'traduttore']\n",
    "es_examples = ['prueba', 'brujula', 'examen', 'accelerometro', u'adivina_numero', 'Proyecto', 'Xilofono']\n",
    "\n",
    "lang_tutorials = set(zh_examples + pt_examples + ca_examples + de_examples + ko_examples + it_examples + es_examples)\n"
   ]
  },
  {
   "cell_type": "markdown",
   "metadata": {},
   "source": [
    "### Filter Tutorials"
   ]
  },
  {
   "cell_type": "code",
   "execution_count": 9,
   "metadata": {
    "collapsed": true
   },
   "outputs": [],
   "source": [
    "filter_tutorials = True"
   ]
  },
  {
   "cell_type": "code",
   "execution_count": 33,
   "metadata": {
    "collapsed": false
   },
   "outputs": [
    {
     "name": "stdout",
     "output_type": "stream",
     "text": [
      "\n"
     ]
    }
   ],
   "source": [
    "def nameCheck(proj_name): \n",
    "    for tutorial_substring in lang_tutorials: \n",
    "        if tutorial_substring in proj_name.lower():\n",
    "            return True\n",
    "    return False"
   ]
  },
  {
   "cell_type": "code",
   "execution_count": 34,
   "metadata": {
    "collapsed": false
   },
   "outputs": [
    {
     "name": "stdout",
     "output_type": "stream",
     "text": [
      "0 1 2 3 4 5 6 7 8 9\n"
     ]
    }
   ],
   "source": [
    "if filter_tutorials: \n",
    "    not_tutorials = {}\n",
    "\n",
    "    for i in range(10): \n",
    "        print i, \n",
    "        notT_list = ujson.load(open('tutorial_comparisons/nottutorials_' + str(i) +'.json'))\n",
    "        for entry in notT_list: \n",
    "            if entry[0] not in summaries:\n",
    "                continue\n",
    "            proj_name = entry[1].split(\"_summary.json\")[0]\n",
    "            if entry[0] not in not_tutorials: \n",
    "                not_tutorials[entry[0]] = {}\n",
    "            try: \n",
    "                if not nameCheck(proj_name):\n",
    "                    not_tutorials[entry[0]][proj_name] = summaries[entry[0]][proj_name]\n",
    "            except KeyError: \n",
    "                pass\n",
    "\n",
    "not_tutorials = {user: not_tutorials[user] for user in not_tutorials.keys() if len(not_tutorials[user])>0}\n"
   ]
  },
  {
   "cell_type": "code",
   "execution_count": 101,
   "metadata": {
    "collapsed": false
   },
   "outputs": [],
   "source": [
    "users = not_tutorials.keys() \n",
    "lang_counter = Counter([user_langs[user] for user in users if user in user_langs]) \n",
    "tup = sorted(zip(lang_counter.values(), lang_counter.keys()), reverse = True)\n"
   ]
  },
  {
   "cell_type": "code",
   "execution_count": 102,
   "metadata": {
    "collapsed": false
   },
   "outputs": [
    {
     "data": {
      "image/png": "[encoded data removed]",
      "text/plain": [
       "<matplotlib.figure.Figure at 0x856f29610>"
      ]
     },
     "metadata": {},
     "output_type": "display_data"
    }
   ],
   "source": [
    "import matplotlib.pyplot as plt; plt.rcdefaults()\n",
    "import numpy as np\n",
    "import matplotlib.pyplot as plt\n",
    " \n",
    "values = [t[0] for t in tup]\n",
    "languages = [t[1] for t in tup]\n",
    "y_pos = np.arange(len(languages))\n",
    "plt.bar(y_pos, values, alpha= 0, color = 'indigo')\n",
    "plt.xticks(y_pos, languages)\n",
    "plt.ylabel('Number of Users')\n",
    "plt.xlabel('Languages')\n",
    "plt.title('User Language Distribution')\n",
    "\n",
    "plt.show()"
   ]
  },
  {
   "cell_type": "code",
   "execution_count": 37,
   "metadata": {
    "collapsed": false
   },
   "outputs": [],
   "source": [
    "# len(not_tutorials)"
   ]
  },
  {
   "cell_type": "code",
   "execution_count": 38,
   "metadata": {
    "collapsed": false
   },
   "outputs": [],
   "source": [
    "# if filter_tutorials: \n",
    "#     not_tutorials_old = {}\n",
    "\n",
    "#     for i in range(10): \n",
    "#         print i, \n",
    "#         notT_list_old = ujson.load(open('tutorial_comparisons/nottutorials_' + str(i) +'.json'))\n",
    "#         for entry in notT_list_old: \n",
    "#             if entry[0] not in summaries:\n",
    "#                 continue\n",
    "#             proj_name = entry[1].split(\"_summary.json\")[0]\n",
    "#             if entry[0] not in not_tutorials_old: \n",
    "#                 not_tutorials_old[entry[0]] = {}\n",
    "#             try: \n",
    "#                 not_tutorials_old[entry[0]][proj_name] = summaries[entry[0]][proj_name]\n",
    "#             except KeyError: \n",
    "#                 pass"
   ]
  },
  {
   "cell_type": "code",
   "execution_count": 39,
   "metadata": {
    "collapsed": false
   },
   "outputs": [],
   "source": [
    "# sum([len(not_tutorials[userID]) for userID in not_tutorials])"
   ]
  },
  {
   "cell_type": "code",
   "execution_count": 40,
   "metadata": {
    "collapsed": false
   },
   "outputs": [],
   "source": [
    "# len(not_tutorials)"
   ]
  },
  {
   "cell_type": "code",
   "execution_count": 41,
   "metadata": {
    "collapsed": false
   },
   "outputs": [],
   "source": [
    "# sum([len(summaries[userID]) for userID in summaries])"
   ]
  },
  {
   "cell_type": "code",
   "execution_count": 42,
   "metadata": {
    "collapsed": false
   },
   "outputs": [],
   "source": [
    "# sum([len(not_tutorials_old[userID]) for userID in not_tutorials_old])"
   ]
  },
  {
   "cell_type": "code",
   "execution_count": 43,
   "metadata": {
    "collapsed": false
   },
   "outputs": [],
   "source": [
    "# len(not_tutorials_old)"
   ]
  },
  {
   "cell_type": "markdown",
   "metadata": {},
   "source": [
    "## 2. Featurize"
   ]
  },
  {
   "cell_type": "markdown",
   "metadata": {},
   "source": [
    "## Time featurizer"
   ]
  },
  {
   "cell_type": "code",
   "execution_count": 44,
   "metadata": {
    "collapsed": false
   },
   "outputs": [],
   "source": [
    "def projectLengthFeatures(projects):\n",
    "    \"\"\"moments of project lengths and intervals, as well as number of projects\"\"\"\n",
    "    lengths = getProjectLengths(projects)\n",
    "    intervals = getProjectIntervals(projects)\n",
    "    \n",
    "    #note: feature names are for our reference only\n",
    "    userDict = {} \n",
    "    userDict[\"mean of lengths\"] = numpy.mean(lengths)\n",
    "    userDict[\"stddev of lengths\"] = numpy.std(lengths)\n",
    "    userDict[\"mean of intervals\"] = numpy.mean(lengths)\n",
    "    userDict[\"stddev of intervals\"] = numpy.std(lengths)\n",
    "    \n",
    "    userDict[\"num projects\"] = numProjects(projects)\n",
    "    \n",
    "    return userDict"
   ]
  },
  {
   "cell_type": "code",
   "execution_count": 45,
   "metadata": {
    "collapsed": true
   },
   "outputs": [],
   "source": [
    "def dayAnalysisFeatures(projects):\n",
    "    \"\"\"number of projects on each day of the week, and the percentage of them on a weekday\"\"\"\n",
    "    byday = numOnDay(projects)\n",
    "\n",
    "    userDict = {day: byday[i] for i, day in enumerate([\"Monday\", \n",
    "                                                       \"Tuesday\", \n",
    "                                                       \"Wednesday\", \n",
    "                                                       \"Thursday\", \n",
    "                                                       \"Friday\", \n",
    "                                                       \"Saturday\", \n",
    "                                                       \"Sunday\"])}\n",
    "    return userDict"
   ]
  },
  {
   "cell_type": "code",
   "execution_count": 46,
   "metadata": {
    "collapsed": true
   },
   "outputs": [],
   "source": [
    "def decileProjects(projects):\n",
    "    numbins = 10\n",
    "    hist = projectsPerUserPeriod(projects, bins=numbins)\n",
    "    \n",
    "    userDict = {'decile '+str(i+1): hist[i] for i in range(numbins)}\n",
    "    return userDict"
   ]
  },
  {
   "cell_type": "markdown",
   "metadata": {},
   "source": [
    "## Code Features\n"
   ]
  },
  {
   "cell_type": "code",
   "execution_count": 47,
   "metadata": {
    "collapsed": false
   },
   "outputs": [],
   "source": [
    "def transformBlocks(projects, all_blocks_dict):\n",
    "    newDict = {}\n",
    "    for key in all_blocks_dict: \n",
    "        if '_' in key: \n",
    "            newKey = key.split(\"_\")[0]\n",
    "        elif '.' in key: \n",
    "            newKey = key.split(\".\")[0]\n",
    "        else: \n",
    "            newKey = key\n",
    "        if newKey not in newDict: \n",
    "            newDict[newKey] = 0\n",
    "        newDict[newKey] += all_blocks_dict[key]\n",
    "\n",
    "    return normalizeDict(newDict,p)"
   ]
  },
  {
   "cell_type": "code",
   "execution_count": 48,
   "metadata": {
    "collapsed": true
   },
   "outputs": [],
   "source": [
    "def deltaDeciles(decileDict, name):\n",
    "    values = sortDeciles(decileDict)\n",
    "    deltas = {}\n",
    "    for i in range(10): \n",
    "        if i== 0: pass\n",
    "        else: deltas[str(i) + \" \" + name] = values[i]-values[i-1]\n",
    "    return deltas\n",
    "\n",
    "\n",
    "def sortDeciles(decileDict):\n",
    "    deciles_sorted = []\n",
    "    keys = decileDict.keys()\n",
    "    for key in keys: \n",
    "        deciles_sorted.insert(int(key[-1]), decileDict[key])\n",
    "    return deciles_sorted\n",
    "\n"
   ]
  },
  {
   "cell_type": "code",
   "execution_count": 49,
   "metadata": {
    "collapsed": true
   },
   "outputs": [],
   "source": [
    "def summaryOBlockDecile(projects): \n",
    "    hist = decileOrphanBlocks(projects)\n",
    "    userDict = {'Orphan Decile '+str(i+1): hist[i] for i in range(10)}\n",
    "    return userDict"
   ]
  },
  {
   "cell_type": "code",
   "execution_count": 50,
   "metadata": {
    "collapsed": true
   },
   "outputs": [],
   "source": [
    "def summaryDecileTLBlocks(projects): \n",
    "    hist = decileTypesTopLevelBlocks(projects)\n",
    "    userDict = {'TopLevel Decile '+str(i+1): hist[i] for i in range(10)}\n",
    "    return userDict"
   ]
  },
  {
   "cell_type": "code",
   "execution_count": 51,
   "metadata": {
    "collapsed": true
   },
   "outputs": [],
   "source": [
    "def summaryDecileNumScreens(projects): \n",
    "    hist = decileNumScreens(projects)\n",
    "    userDict = {'NumScreens Decile '+str(i+1): hist[i] for i in range(10)}\n",
    "    return userDict"
   ]
  },
  {
   "cell_type": "code",
   "execution_count": 52,
   "metadata": {
    "collapsed": true
   },
   "outputs": [],
   "source": [
    "def summaryDeltasTLBlocks(projects): \n",
    "    tlblocks = summaryDecileTLBlocks(projects)\n",
    "    return deltaDeciles(tlblocks, \"TL blocks delta\")"
   ]
  },
  {
   "cell_type": "code",
   "execution_count": 53,
   "metadata": {
    "collapsed": true
   },
   "outputs": [],
   "source": [
    "def summaryDeltasOBlock(projects): \n",
    "    oblock = summaryOBlockDecile(projects)\n",
    "    return deltaDeciles(oblock,\"O blocks delta\")"
   ]
  },
  {
   "cell_type": "code",
   "execution_count": 54,
   "metadata": {
    "collapsed": true
   },
   "outputs": [],
   "source": [
    "def summaryDeltasNumScreens(projects): \n",
    "    numscreens = summaryDecileNumScreens(projects)\n",
    "    return deltaDeciles(numscreens, \"numscreens blocks delta\")"
   ]
  },
  {
   "cell_type": "code",
   "execution_count": 55,
   "metadata": {
    "collapsed": true
   },
   "outputs": [],
   "source": [
    "def summaryAverages(projects):\n",
    "    userDict = {} \n",
    "    userDict[\"mean of numScreens\"] = numpy.mean(getNumScreens(projects))\n",
    "    userDict[\"NB\"] = averageNumBlocks(projects)\n",
    "    userDict[\"OB\"] = getAverageOrphanBlocks(projects)\n",
    "    \n",
    "    userDict[\"TL\"] = getAverageTypeTLBlocks(projects)\n",
    "    userDict[\"TL2\"] = getAverageNumTLBlocks(projects)\n",
    "    \n",
    "    userDict[\"NC\"] = averageNumComponents(projects)\n",
    "    userDict[\"NTC\"] = averageNumTypeComponents(projects)\n",
    "\n",
    "    userDict[\"MC\"] = aveNumMediaAssets(projects)\n",
    "    \n",
    "    userDict[\"NP\"] = averageNumProcedures(projects)\n",
    "    userDict[\"NS\"] = averageNumStrings(projects) \n",
    "        \n",
    "    varList = getAllVariables(projects)\n",
    "    userDict[\"local vars\"] = varList[0]\n",
    "    userDict[\"global vars\"] = varList[1]\n",
    "    \n",
    "#     controls_dict = getControlsBlocks(projects)\n",
    "#     userDict['controls_if'] = controls_dict['controls_if']\n",
    "#     userDict['controls_forEach'] = controls_dict['controls_forEach']\n",
    "#     userDict['controls_choose'] = controls_dict['controls_choose']\n",
    "#     userDict['controls_while'] = controls_dict['controls_while']\n",
    "\n",
    "\n",
    "\n",
    "    return userDict"
   ]
  },
  {
   "cell_type": "code",
   "execution_count": 56,
   "metadata": {
    "collapsed": true
   },
   "outputs": [],
   "source": [
    "def classesFeaturizers(projects): \n",
    "    userDict = {} \n",
    "    classes = getClasses(projects)\n",
    "    cList = ['TableArrangement', 'DatePicker', 'Canvas', \n",
    "             'CheckBox', 'Web', 'Clock', 'BluetoothServer', \n",
    "             'ActivityStarter', 'Texting', 'Label', 'Spinner', \n",
    "             'Camera', 'BluetoothClient', 'PhoneCall', 'LocationSensor', \n",
    "             'VerticalArrangement', 'HorizontalArrangement', 'Sharing', \n",
    "             'TextToSpeech', 'GoogleMap', 'Slider', 'OrientationSensor', \n",
    "             'ListView', 'PhoneNumberPicker', 'TinyDB', 'NxtDirectCommands', \n",
    "             'Sound', 'ListPicker', 'SpeechRecognizer', 'Button', 'WebViewer',\n",
    "             'BarcodeScanner', 'NxtDrive', 'Camcorder', 'Notifier', 'TextBox',\n",
    "             'AccelerometerSensor', 'Image', 'VideoPlayer', 'TinyWebDB',\n",
    "             'Player', 'File', 'YandexTranslate']\n",
    "   \n",
    "    for key in cList: \n",
    "        userDict[key] = classes[key]\n",
    "        \n",
    "    return userDict"
   ]
  },
  {
   "cell_type": "code",
   "execution_count": 57,
   "metadata": {
    "collapsed": false
   },
   "outputs": [],
   "source": [
    "def allBlocksFeaturizer(projects):\n",
    "    userDict = {}\n",
    "    with open('top_500_blocks.json') as data_file:    \n",
    "        block_list = json.load(data_file)\n",
    "\n",
    "    all_blocks_dict = {block:0 for block in block_list}\n",
    "    all_blocks_dict = getBlocks(projects, all_blocks_dict) \n",
    "    \n",
    "    for key in block_list: \n",
    "        userDict[key] = all_blocks_dict[key]\n",
    "            \n",
    "    return userDict"
   ]
  },
  {
   "cell_type": "markdown",
   "metadata": {},
   "source": [
    "### Setup"
   ]
  },
  {
   "cell_type": "code",
   "execution_count": 58,
   "metadata": {
    "collapsed": true
   },
   "outputs": [],
   "source": [
    "def combine_featfuncs(funclist):\n",
    "    def combined(user):\n",
    "        basedict = funclist[0](user)\n",
    "        for f in funclist[1:]:\n",
    "            basedict.update(f(user))\n",
    "        return basedict\n",
    "    return combined"
   ]
  },
  {
   "cell_type": "code",
   "execution_count": 59,
   "metadata": {
    "collapsed": false
   },
   "outputs": [],
   "source": [
    "def getAllProjects(userID, no_tutorials): \n",
    "    \"\"\"list of projects sorted by creation times\"\"\"\n",
    "    if (no_tutorials):\n",
    "        try: \n",
    "            projectlist = not_tutorials[userID].values()\n",
    "        except:\n",
    "            print userID\n",
    "    else: \n",
    "        projectlist = summaries[userID].values()\n",
    "    return sorted(projectlist,\n",
    "                  key=lambda project: project['**created']) \n",
    "\n",
    "def userDuration(projectlist):\n",
    "    \"\"\"get the duration (difference between last and earliest creation dates)\"\"\"\n",
    "    return timediff(projectlist[-1]['**created'], projectlist[0]['**created'])\n",
    "\n",
    "\n",
    "     "
   ]
  },
  {
   "cell_type": "code",
   "execution_count": 60,
   "metadata": {
    "collapsed": false
   },
   "outputs": [],
   "source": [
    "langgroups = {'es': 'eur',\n",
    "              'pt': 'eur', \n",
    "              'it': 'eur', \n",
    "              'de': 'eur', \n",
    "              'fr': 'eur', \n",
    "              'ca': 'eur', \n",
    "              'el': 'eur', \n",
    "              'nl': 'eur', \n",
    "              'pl': 'eur',\n",
    "              'en': 'eur',\n",
    "              'ko': 'asia', \n",
    "              'zh': 'asia', \n",
    "              'th': 'asia'}\n",
    "langgroup_num_map = {'eur': 0, 'asia': 1}\n",
    "\n"
   ]
  },
  {
   "cell_type": "code",
   "execution_count": 61,
   "metadata": {
    "collapsed": false
   },
   "outputs": [],
   "source": [
    "def get_user_labels():\n",
    "    return {user: langgroup_num_map[langgroups[lang]] for user, lang in user_langs.items() if lang in langgroups.keys()}"
   ]
  },
  {
   "cell_type": "code",
   "execution_count": null,
   "metadata": {
    "collapsed": true
   },
   "outputs": [],
   "source": []
  },
  {
   "cell_type": "code",
   "execution_count": 62,
   "metadata": {
    "collapsed": false
   },
   "outputs": [],
   "source": [
    "#time_combined = combine_featfuncs([projectLengthFeatures, dayAnalysisFeatures,decileProjects])\n",
    "code_combined = combine_featfuncs([summaryOBlockDecile,summaryDecileTLBlocks,summaryDecileNumScreens,summaryDeltasTLBlocks,summaryDeltasOBlock,summaryDeltasNumScreens, summaryAverages, allBlocksFeaturizer])\n",
    "all_blocks = combine_featfuncs([allBlocksFeaturizer])\n",
    "but_all = combine_featfuncs([summaryOBlockDecile,summaryDecileTLBlocks,summaryDecileNumScreens,summaryDeltasTLBlocks,summaryDeltasOBlock,summaryDeltasNumScreens, summaryAverages])"
   ]
  },
  {
   "cell_type": "code",
   "execution_count": 64,
   "metadata": {
    "collapsed": false
   },
   "outputs": [
    {
     "name": "stdout",
     "output_type": "stream",
     "text": [
      " 1 2 3 4 5 6 7 8 9 10 11 12 13 14 15 16 17 18 19 20 21 22 23 24 25 26 27 28 29 30 31 32 33 34 35 36 37 38 39 40 41 42\n"
     ]
    }
   ],
   "source": [
    "from sklearn.feature_extraction import DictVectorizer\n",
    "\n",
    "all_features = []\n",
    "time_features = [] \n",
    "code_features = []\n",
    "all_list = []\n",
    "but_list = [] \n",
    "userlabels = get_user_labels()\n",
    "y = []\n",
    "ctr = 0\n",
    "for user in userlabels:\n",
    "    if user in not_tutorials: \n",
    "\n",
    "        projects = getAllProjects(user, filter_tutorials)  # this returns projects sorted by creation date that include tutorials \n",
    "\n",
    "        y.append(userlabels[user])\n",
    "\n",
    "#         time_features.append(time_combined(projects))\n",
    "        code_features.append(code_combined(projects))\n",
    "        all_list.append(all_blocks(projects))\n",
    "        but_list.append(but_all(projects))\n",
    "\n",
    "        # merge time and code feature dicts\n",
    "#         all_features_user = time_features[-1].copy()\n",
    "#         all_features_user.update(code_features[-1])\n",
    "#         all_features.append(all_features_user)\n",
    "\n",
    "        ctr+=1\n",
    "        if ctr%1000==0:\n",
    "            print ctr/1000,\n",
    "\n",
    "        \n",
    "\n",
    "\n",
    "y = numpy.array(y)\n",
    "\n",
    "# timevec = DictVectorizer()\n",
    "\n",
    "# Xtime = timevec.fit_transform(time_features) \n",
    "\n",
    "codevec = DictVectorizer()\n",
    "\n",
    "Xcode = codevec.fit_transform(code_features)\n",
    "\n",
    "\n",
    "\n",
    "allvec = DictVectorizer()\n",
    "\n",
    "Xall = allvec.fit_transform(all_list)\n",
    "\n",
    "butvec = DictVectorizer()\n",
    "\n",
    "Xbut = butvec.fit_transform(but_list)\n"
   ]
  },
  {
   "cell_type": "code",
   "execution_count": 65,
   "metadata": {
    "collapsed": false
   },
   "outputs": [],
   "source": [
    "from sklearn.preprocessing import scale\n",
    "from numpy import *\n",
    "# # convert to dense matrices since these are dense anyway\n",
    "# Xtime = scale(Xtime.toarray())\n",
    "Xcode = scale(Xcode.toarray())\n",
    "# Xall = scale(Xall.toarray())\n",
    "Xall = scale(Xall.toarray())\n",
    "Xbut = scale(Xbut.toarray())\n"
   ]
  },
  {
   "cell_type": "markdown",
   "metadata": {},
   "source": [
    "#### Static KFold Values"
   ]
  },
  {
   "cell_type": "code",
   "execution_count": 66,
   "metadata": {
    "collapsed": true
   },
   "outputs": [],
   "source": [
    "import pickle"
   ]
  },
  {
   "cell_type": "code",
   "execution_count": 67,
   "metadata": {
    "collapsed": false
   },
   "outputs": [],
   "source": [
    "if filter_tutorials:\n",
    "    with open('filtered_kfold.pickle', 'rb') as f:\n",
    "        foldindices = pickle.load(f)\n",
    "else:\n",
    "    with open('unfiltered_kfold.pickle', 'rb') as f:\n",
    "        foldindices = pickle.load(f)"
   ]
  },
  {
   "cell_type": "markdown",
   "metadata": {},
   "source": [
    "### Model Training and Testing"
   ]
  },
  {
   "cell_type": "code",
   "execution_count": 99,
   "metadata": {
    "collapsed": false,
    "scrolled": true
   },
   "outputs": [
    {
     "name": "stdout",
     "output_type": "stream",
     "text": [
      "Chance is 0.678882455397\n",
      "Building a logreg model with 569 features\n",
      "Fold 1\n",
      "Fold 2\n",
      "Fold 3\n",
      "Confusion matrix, without normalization\n"
     ]
    },
    {
     "data": {
      "image/png": "[encoded data removed]",
      "text/plain": [
       "<matplotlib.figure.Figure at 0x8581ba890>"
      ]
     },
     "metadata": {},
     "output_type": "display_data"
    },
    {
     "name": "stdout",
     "output_type": "stream",
     "text": [
      "Average accuracy: 0.906322014122\n"
     ]
    }
   ],
   "source": [
    "from sklearn.cross_validation import StratifiedKFold\n",
    "from sklearn.neighbors import KNeighborsClassifier\n",
    "from  sklearn.metrics import f1_score \n",
    "from sklearn.linear_model import LogisticRegression\n",
    "from sklearn.metrics import confusion_matrix\n",
    "import matplotlib.pyplot as plt\n",
    "%matplotlib inline \n",
    "from plotcnf import plot_confusion_matrix\n",
    "from sklearn.decomposition import PCA\n",
    "\n",
    "print 'Chance is', max(numpy.bincount(y))/float(len(y))\n",
    "\n",
    "### added later ### ************************    \n",
    "\n",
    "\n",
    "labels = map(lambda x:x[0], sorted(langgroup_num_map.items(), key=lambda x:x[1]))  \n",
    "# languages corresponding to class labels as a list\n",
    "\n",
    "    \n",
    "k = 70 #num neighbors for kNN\n",
    "\n",
    "classifiers = [('logreg', LogisticRegression())]  # no knn because it's too slow \n",
    "#multi_class='multinomial', \n",
    "   \n",
    "\n",
    "for modelname, model in classifiers:\n",
    "    for featname, X in [('code', Xcode)]:\n",
    "        print  'Building a', modelname, 'model with', X.shape[1], 'features'\n",
    "    \n",
    "        cvaccs = numpy.zeros(len(foldindices))\n",
    "        #cvf1 = numpy.zeros(len(foldindices))\n",
    "        for i, (trainidx, testidx) in enumerate(foldindices):\n",
    "            \n",
    "            print 'Fold', i+1\n",
    "        \n",
    "            ytrain = y[trainidx]\n",
    "            ytest = y[testidx]\n",
    "        \n",
    "            Xtrain = X[trainidx, :]  \n",
    "            Xtest = X[testidx, :]\n",
    "            \n",
    "            model.fit(Xtrain, ytrain)\n",
    "            cvaccs[i] = model.score(Xtest, ytest)\n",
    "            \n",
    "            predictions = model.predict(Xtest)\n",
    "\n",
    "#             pca = PCA(n_components=7)\n",
    "\n",
    "#             reduced_train = pca.fit_transform(Xtrain)\n",
    "#             reduced_test = pca.transform(Xtest)\n",
    "            \n",
    "#             model.fit(reduced_train, ytrain)\n",
    "#             cvaccs[i] = model.score(reduced_test, ytest)\n",
    "    \n",
    "        \n",
    "#             predictions = model.predict(reduced_test)\n",
    "\n",
    "            #cvf1[i] = f1_score(ytest, predictions)\n",
    "            \n",
    "              \n",
    "            #print '****', modelname, cvaccs[i]\n",
    "        #analyze last fold only\n",
    "        cnf_matrix = confusion_matrix(ytest, predictions)  \n",
    "        plot_confusion_matrix(cnf_matrix, labels)\n",
    "        plt.title('European and Asian Language Groupings')\n",
    "\n",
    "        plt.show()\n",
    "        coef = model.coef_\n",
    "        print 'Average accuracy:', numpy.mean(cvaccs)"
   ]
  },
  {
   "cell_type": "code",
   "execution_count": 97,
   "metadata": {
    "collapsed": false
   },
   "outputs": [
    {
     "name": "stdout",
     "output_type": "stream",
     "text": [
      "Confusion matrix, without normalization\n"
     ]
    },
    {
     "data": {
      "image/png": "[encoded data removed]",
      "text/plain": [
       "<matplotlib.figure.Figure at 0x85163bb10>"
      ]
     },
     "metadata": {},
     "output_type": "display_data"
    }
   ],
   "source": [
    "labels = map(lambda x:x[0], sorted(langgroup_num_map.items(), key=lambda x:x[1]))  \n",
    "plot_confusion_matrix(cnf_matrix, labels)\n"
   ]
  },
  {
   "cell_type": "code",
   "execution_count": 107,
   "metadata": {
    "collapsed": false
   },
   "outputs": [
    {
     "data": {
      "image/png": "[encoded data removed]",
      "text/plain": [
       "<matplotlib.figure.Figure at 0x859fa1c50>"
      ]
     },
     "metadata": {},
     "output_type": "display_data"
    }
   ],
   "source": [
    "import matplotlib.pyplot as plt; plt.rcdefaults()\n",
    "import numpy as np\n",
    "import matplotlib.pyplot as plt\n",
    " \n",
    "values = [0.906322014122,0.898154647691,0.73169996454]\n",
    "\n",
    "labels = ['All features (0.91) ', 'Top 500 Blocks (0.90)', 'All but 500 Blocks (0.73)']\n",
    "y_pos = np.arange(len(labels))\n",
    "plt.bar(y_pos, values, alpha= 0.5, width = 0.35, color='indigo')\n",
    "plt.xticks(y_pos, labels)\n",
    "plt.ylabel('Average Accuracy')\n",
    "plt.xlabel('Feature Combinations')\n",
    "plt.title('Feature Combinations vs. Accuracy')\n",
    "plt.show()"
   ]
  },
  {
   "cell_type": "code",
   "execution_count": null,
   "metadata": {
    "collapsed": false
   },
   "outputs": [],
   "source": [
    "# eigenvalues = pca.explained_variance_\n",
    "# print eigenvalues"
   ]
  },
  {
   "cell_type": "code",
   "execution_count": null,
   "metadata": {
    "collapsed": false
   },
   "outputs": [],
   "source": [
    "# plt.show()\n",
    "# coef = model.coef_\n",
    "# print 'Average accuracy:', numpy.mean(cvaccs)"
   ]
  },
  {
   "cell_type": "markdown",
   "metadata": {},
   "source": [
    "### Coefs "
   ]
  },
  {
   "cell_type": "code",
   "execution_count": null,
   "metadata": {
    "collapsed": false
   },
   "outputs": [],
   "source": [
    "# sorted(zip(allvec.get_feature_names(), coef[0]), key=lambda tup: tup[1])"
   ]
  },
  {
   "cell_type": "code",
   "execution_count": null,
   "metadata": {
    "collapsed": false
   },
   "outputs": [],
   "source": [
    "# from sklearn.metrics import f1_score\n",
    "# f1_score(ytest, predictions)"
   ]
  },
  {
   "cell_type": "markdown",
   "metadata": {},
   "source": [
    "### Old code pasted"
   ]
  },
  {
   "cell_type": "code",
   "execution_count": null,
   "metadata": {
    "collapsed": true
   },
   "outputs": [],
   "source": [
    "# from sklearn.preprocessing import scale\n",
    "# from numpy import *\n",
    "# # # convert to dense matrices since these are dense anyway\n",
    "# #Xtime = scale(Xtime.toarray())\n",
    "# Xcode = scale(Xcode.toarray())\n",
    "# #Xall = scale(Xall.toarray())"
   ]
  },
  {
   "cell_type": "code",
   "execution_count": null,
   "metadata": {
    "collapsed": true
   },
   "outputs": [],
   "source": [
    "from sklearn.cross_validation import StratifiedKFold\n",
    "from sklearn.neighbors import KNeighborsClassifier\n",
    "from  sklearn.metrics import f1_score \n",
    "from sklearn.linear_model import LogisticRegression\n",
    "from sklearn.metrics import confusion_matrix\n",
    "import matplotlib.pyplot as plt\n",
    "%matplotlib inline \n",
    "from plotcnf import plot_confusion_matrix\n",
    "\n",
    "print 'Chance is', max(numpy.bincount(y))/float(len(y))\n",
    "\n",
    "\n",
    "foldindices = StratifiedKFold(y)\n",
    "\n",
    "labels = ['en', 'es', 'ko', 'zh']\n",
    "# languages corresponding to class labels as a list\n",
    "\n",
    "    \n",
    "k = 70 #num neighbors for kNN\n",
    "\n",
    "classifiers = [('logreg', LogisticRegression())]  # no knn because it's too slow \n",
    "#multi_class='multinomial', \n",
    "                                                             \n",
    "\n",
    "for modelname, model in classifiers:\n",
    "    for featname, X in [('code', Xcode)]:#('time', Xtime), ('code', Xcode), ('all', Xall)]:\n",
    "        print  'Building a', modelname, 'model with', X.shape[1], featname\n",
    "    \n",
    "        cvaccs = numpy.zeros(len(foldindices))\n",
    "        #cvf1 = numpy.zeros(len(foldindices))\n",
    "        for i, (trainidx, testidx) in enumerate(foldindices):\n",
    "            print 'Fold', i+1\n",
    "        \n",
    "            ytrain = y[trainidx]\n",
    "            ytest = y[testidx]\n",
    "        \n",
    "            Xtrain = X[trainidx, :]  \n",
    "            Xtest = X[testidx, :]\n",
    "            \n",
    "            model.fit(Xtrain, ytrain)\n",
    "            cvaccs[i] = model.score(Xtest, ytest)\n",
    "        \n",
    "            predictions = model.predict(Xtest)\n",
    "            #cvf1[i] = f1_score(ytest, predictions)\n",
    "            \n",
    "            #print '****', modelname, cvaccs[i]\n",
    "        #analyze last fold only\n",
    "        cnf_matrix = confusion_matrix(ytest, predictions)  \n",
    "        plot_confusion_matrix(cnf_matrix, labels)\n",
    "        plt.title(\"Top Four Most Common Languages\")\n",
    "        plt.show()\n",
    "        \n",
    "        print 'Average accuracy', numpy.mean(cvaccs)"
   ]
  }
 ],
 "metadata": {
  "anaconda-cloud": {},
  "kernelspec": {
   "display_name": "Python [default]",
   "language": "python",
   "name": "python2"
  },
  "language_info": {
   "codemirror_mode": {
    "name": "ipython",
    "version": 2
   },
   "file_extension": ".py",
   "mimetype": "text/x-python",
   "name": "python",
   "nbconvert_exporter": "python",
   "pygments_lexer": "ipython2",
   "version": "2.7.12"
  }
 },
 "nbformat": 4,
 "nbformat_minor": 0
}
