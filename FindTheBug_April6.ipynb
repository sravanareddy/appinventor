{
 "cells": [
  {
   "cell_type": "code",
   "execution_count": 1,
   "metadata": {
    "collapsed": false
   },
   "outputs": [],
   "source": [
    "import ujson\n",
    "import numpy \n",
    "import datetime\n",
    "import json\n",
    "from collections import Counter"
   ]
  },
  {
   "cell_type": "markdown",
   "metadata": {},
   "source": [
    "## 1. Load Data"
   ]
  },
  {
   "cell_type": "code",
   "execution_count": 2,
   "metadata": {
    "collapsed": false
   },
   "outputs": [
    {
     "name": "stdout",
     "output_type": "stream",
     "text": [
      "1 2 3 4 5 6 7 8 9 10 11 12 13 14 15 16 17 18 19 20 21 22 23 24 25 26 27 28 29 30 31 32 33 34 35 36 37 38 39 40 41 42 43 44 45 46 47\n"
     ]
    }
   ],
   "source": [
    "summaries = {}\n",
    "ctr = 0\n",
    "for line in open('user_project_summaries.json'): # lazy iteration because the file is large\n",
    "    ctr+=1\n",
    "    summaries.update(ujson.loads(line))  \n",
    "    print ctr,"
   ]
  },
  {
   "cell_type": "code",
   "execution_count": 3,
   "metadata": {
    "collapsed": false
   },
   "outputs": [],
   "source": [
    "from features import *\n",
    "import features\n",
    "reload(features)\n",
    "import sys, os\n",
    "sys.path.append(os.getcwd())\n"
   ]
  },
  {
   "cell_type": "markdown",
   "metadata": {},
   "source": [
    "The languages labels are inferred from the `namestrings_to_langs.py` script using `langid`."
   ]
  },
  {
   "cell_type": "code",
   "execution_count": 4,
   "metadata": {
    "collapsed": false
   },
   "outputs": [
    {
     "name": "stdout",
     "output_type": "stream",
     "text": [
      "lang data created with 42633 users and 11 languages set([u'el', u'fr', u'en', u'zh', u'pt', u'ca', u'de', u'ko', u'it', u'th', u'es'])\n"
     ]
    }
   ],
   "source": [
    "isocodes = ujson.load(open('isocodes.json'))  # mapping from  iso code to language name\n",
    "user_langs = ujson.load(open('user_inferredlangs.json'))  # mapping from userid to inferred language\n",
    "# remove uncommon languages\n",
    "lang_counts = Counter()\n",
    "for user in user_langs:\n",
    "    lang = user_langs[user]\n",
    "    lang_counts[lang] += 1\n",
    "    \n",
    "user_langs = {user: lang for user, lang in user_langs.items() if lang_counts[lang]>=250 and user in summaries and lang != 'la'}\n",
    "langset = set(user_langs.values())\n",
    "print 'lang data created with', len(user_langs), 'users and', len(langset), 'languages', langset"
   ]
  },
  {
   "cell_type": "code",
   "execution_count": 5,
   "metadata": {
    "collapsed": true
   },
   "outputs": [],
   "source": [
    "# time utilities\n",
    "def convert_time(el):\n",
    "    \"\"\"Human readable time\"\"\"\n",
    "    el = int(str(el)[:10])\n",
    "    return datetime.date.fromtimestamp(el)\n",
    "\n",
    "def timediff(t1, t2):\n",
    "    \"\"\"difference between times (millisec precision) as days\"\"\"\n",
    "    return (t1-t2)/(86400.*1000)"
   ]
  },
  {
   "cell_type": "code",
   "execution_count": 6,
   "metadata": {
    "collapsed": false
   },
   "outputs": [],
   "source": [
    "i = 0\n",
    "lang_dict = {}\n",
    "for user in summaries: \n",
    "        try: \n",
    "            lang = user_langs[user]\n",
    "        except KeyError:\n",
    "            i +=1\n",
    "        if lang not in lang_dict:\n",
    "            lang_dict[lang] = []\n",
    "        lang_dict[lang].append(summaries[user])"
   ]
  },
  {
   "cell_type": "markdown",
   "metadata": {},
   "source": [
    "Chinese examples"
   ]
  },
  {
   "cell_type": "code",
   "execution_count": 7,
   "metadata": {
    "collapsed": false
   },
   "outputs": [],
   "source": [
    "chin_users = lang_dict['zh']\n",
    "c = Counter()\n",
    "for summary in chin_users: \n",
    "    for project in summary: \n",
    "        c.update([summary[project]['**Project Name']])\n",
    "\n",
    "# print c.most_common(50)        "
   ]
  },
  {
   "cell_type": "code",
   "execution_count": 8,
   "metadata": {
    "collapsed": false
   },
   "outputs": [],
   "source": [
    "zh_examples = [entry for entry in c if 'ex_' in entry and c[entry] > 100]\n",
    "pt_examples = ['Calculadora', 'calculadora', 'DataEHora', 'Lista']\n",
    "ca_examples = ['CercleVersusPunt', 'Adreces_DavidMartinez', 'NomIntroduit', 'TallersSanJordi']\n",
    "de_examples = ['Taschenrechner', 'Einkaufsliste', 'Mehrwertsteuer',  'ZufallsgeneratorLayout']\n",
    "ko_examples = ['gawibawibo', 'ParisMapTour']\n",
    "it_examples = ['calcolatrice', 'traduttore']\n",
    "es_examples = ['prueba', 'brujula', 'examen', 'accelerometro', u'adivina_numero', 'Proyecto', 'Xilofono']\n",
    "\n",
    "lang_tutorials = set(zh_examples + pt_examples + ca_examples + de_examples + ko_examples + it_examples + es_examples)\n"
   ]
  },
  {
   "cell_type": "markdown",
   "metadata": {},
   "source": [
    "### Filter Tutorials"
   ]
  },
  {
   "cell_type": "code",
   "execution_count": 9,
   "metadata": {
    "collapsed": true
   },
   "outputs": [],
   "source": [
    "filter_tutorials = True"
   ]
  },
  {
   "cell_type": "code",
   "execution_count": 10,
   "metadata": {
    "collapsed": false
   },
   "outputs": [],
   "source": [
    "def nameCheck(proj_name): \n",
    "    for tutorial_substring in lang_tutorials: \n",
    "        if tutorial_substring in proj_name.lower():\n",
    "            return True\n",
    "    return False"
   ]
  },
  {
   "cell_type": "code",
   "execution_count": 11,
   "metadata": {
    "collapsed": false
   },
   "outputs": [
    {
     "name": "stdout",
     "output_type": "stream",
     "text": [
      "0 1 2 3 4 5 6 7 8 9\n"
     ]
    }
   ],
   "source": [
    "if filter_tutorials: \n",
    "    not_tutorials = {}\n",
    "\n",
    "    for i in range(10): \n",
    "        print i, \n",
    "        notT_list = ujson.load(open('tutorial_comparisons/nottutorials_' + str(i) +'.json'))\n",
    "        for entry in notT_list: \n",
    "            if entry[0] not in summaries:\n",
    "                continue\n",
    "            proj_name = entry[1].split(\"_summary.json\")[0]\n",
    "            if entry[0] not in not_tutorials: \n",
    "                not_tutorials[entry[0]] = {}\n",
    "            try: \n",
    "                if not nameCheck(proj_name):\n",
    "                    not_tutorials[entry[0]][proj_name] = summaries[entry[0]][proj_name]\n",
    "            except KeyError: \n",
    "                pass\n",
    "\n",
    "not_tutorials = {user: not_tutorials[user] for user in not_tutorials.keys() if len(not_tutorials[user])>0}\n"
   ]
  },
  {
   "cell_type": "code",
   "execution_count": 12,
   "metadata": {
    "collapsed": false
   },
   "outputs": [],
   "source": [
    "users = not_tutorials.keys() \n",
    "lang_counter = Counter([user_langs[user] for user in users if user in user_langs]) \n",
    "tup = sorted(zip(lang_counter.values(), lang_counter.keys()), reverse = True)\n"
   ]
  },
  {
   "cell_type": "code",
   "execution_count": 13,
   "metadata": {
    "collapsed": false
   },
   "outputs": [
    {
     "name": "stderr",
     "output_type": "stream",
     "text": [
      "/Users/emmalurie/anaconda/lib/python2.7/site-packages/matplotlib/font_manager.py:273: UserWarning: Matplotlib is building the font cache using fc-list. This may take a moment.\n",
      "  warnings.warn('Matplotlib is building the font cache using fc-list. This may take a moment.')\n"
     ]
    },
    {
     "data": {
      "image/png": "[encoded data removed]",
      "text/plain": [
       "<matplotlib.figure.Figure at 0x6113dee90>"
      ]
     },
     "metadata": {},
     "output_type": "display_data"
    }
   ],
   "source": [
    "import matplotlib.pyplot as plt; plt.rcdefaults()\n",
    "import numpy as np\n",
    "import matplotlib.pyplot as plt\n",
    " \n",
    "values = [t[0] for t in tup]\n",
    "languages = [t[1] for t in tup]\n",
    "y_pos = np.arange(len(languages))\n",
    "plt.bar(y_pos, values, alpha= 0, color = 'indigo')\n",
    "plt.xticks(y_pos, languages)\n",
    "plt.ylabel('Number of Users')\n",
    "plt.xlabel('Languages')\n",
    "plt.title('User Language Distribution')\n",
    "\n",
    "plt.show()"
   ]
  },
  {
   "cell_type": "code",
   "execution_count": 14,
   "metadata": {
    "collapsed": false
   },
   "outputs": [],
   "source": [
    "# len(not_tutorials)"
   ]
  },
  {
   "cell_type": "code",
   "execution_count": 15,
   "metadata": {
    "collapsed": false
   },
   "outputs": [],
   "source": [
    "# if filter_tutorials: \n",
    "#     not_tutorials_old = {}\n",
    "\n",
    "#     for i in range(10): \n",
    "#         print i, \n",
    "#         notT_list_old = ujson.load(open('tutorial_comparisons/nottutorials_' + str(i) +'.json'))\n",
    "#         for entry in notT_list_old: \n",
    "#             if entry[0] not in summaries:\n",
    "#                 continue\n",
    "#             proj_name = entry[1].split(\"_summary.json\")[0]\n",
    "#             if entry[0] not in not_tutorials_old: \n",
    "#                 not_tutorials_old[entry[0]] = {}\n",
    "#             try: \n",
    "#                 not_tutorials_old[entry[0]][proj_name] = summaries[entry[0]][proj_name]\n",
    "#             except KeyError: \n",
    "#                 pass"
   ]
  },
  {
   "cell_type": "code",
   "execution_count": 16,
   "metadata": {
    "collapsed": false
   },
   "outputs": [],
   "source": [
    "# sum([len(not_tutorials[userID]) for userID in not_tutorials])"
   ]
  },
  {
   "cell_type": "code",
   "execution_count": 17,
   "metadata": {
    "collapsed": false
   },
   "outputs": [],
   "source": [
    "# len(not_tutorials)"
   ]
  },
  {
   "cell_type": "code",
   "execution_count": 18,
   "metadata": {
    "collapsed": false
   },
   "outputs": [],
   "source": [
    "# sum([len(summaries[userID]) for userID in summaries])"
   ]
  },
  {
   "cell_type": "code",
   "execution_count": 19,
   "metadata": {
    "collapsed": false
   },
   "outputs": [],
   "source": [
    "# sum([len(not_tutorials_old[userID]) for userID in not_tutorials_old])"
   ]
  },
  {
   "cell_type": "code",
   "execution_count": 20,
   "metadata": {
    "collapsed": false
   },
   "outputs": [],
   "source": [
    "# len(not_tutorials_old)"
   ]
  },
  {
   "cell_type": "markdown",
   "metadata": {},
   "source": [
    "## 2. Featurize"
   ]
  },
  {
   "cell_type": "markdown",
   "metadata": {},
   "source": [
    "## Time featurizer"
   ]
  },
  {
   "cell_type": "code",
   "execution_count": 21,
   "metadata": {
    "collapsed": false
   },
   "outputs": [],
   "source": [
    "def projectLengthFeatures(projects):\n",
    "    \"\"\"moments of project lengths and intervals, as well as number of projects\"\"\"\n",
    "    lengths = getProjectLengths(projects)\n",
    "    intervals = getProjectIntervals(projects)\n",
    "    \n",
    "    #note: feature names are for our reference only\n",
    "    userDict = {} \n",
    "    userDict[\"mean of lengths\"] = numpy.mean(lengths)\n",
    "    userDict[\"stddev of lengths\"] = numpy.std(lengths)\n",
    "    userDict[\"mean of intervals\"] = numpy.mean(lengths)\n",
    "    userDict[\"stddev of intervals\"] = numpy.std(lengths)\n",
    "    \n",
    "    userDict[\"num projects\"] = numProjects(projects)\n",
    "    \n",
    "    return userDict"
   ]
  },
  {
   "cell_type": "code",
   "execution_count": 22,
   "metadata": {
    "collapsed": true
   },
   "outputs": [],
   "source": [
    "def dayAnalysisFeatures(projects):\n",
    "    \"\"\"number of projects on each day of the week, and the percentage of them on a weekday\"\"\"\n",
    "    byday = numOnDay(projects)\n",
    "\n",
    "    userDict = {day: byday[i] for i, day in enumerate([\"Monday\", \n",
    "                                                       \"Tuesday\", \n",
    "                                                       \"Wednesday\", \n",
    "                                                       \"Thursday\", \n",
    "                                                       \"Friday\", \n",
    "                                                       \"Saturday\", \n",
    "                                                       \"Sunday\"])}\n",
    "    return userDict"
   ]
  },
  {
   "cell_type": "code",
   "execution_count": 23,
   "metadata": {
    "collapsed": true
   },
   "outputs": [],
   "source": [
    "def decileProjects(projects):\n",
    "    numbins = 10\n",
    "    hist = projectsPerUserPeriod(projects, bins=numbins)\n",
    "    \n",
    "    userDict = {'decile '+str(i+1): hist[i] for i in range(numbins)}\n",
    "    return userDict"
   ]
  },
  {
   "cell_type": "markdown",
   "metadata": {},
   "source": [
    "## Code Features\n"
   ]
  },
  {
   "cell_type": "code",
   "execution_count": 24,
   "metadata": {
    "collapsed": false
   },
   "outputs": [],
   "source": [
    "def transformBlocks(projects, all_blocks_dict):\n",
    "    newDict = {}\n",
    "    for key in all_blocks_dict: \n",
    "        if '_' in key: \n",
    "            newKey = key.split(\"_\")[0]\n",
    "        elif '.' in key: \n",
    "            newKey = key.split(\".\")[0]\n",
    "        else: \n",
    "            newKey = key\n",
    "        if newKey not in newDict: \n",
    "            newDict[newKey] = 0\n",
    "        newDict[newKey] += all_blocks_dict[key]\n",
    "\n",
    "    return normalizeDict(newDict,p)"
   ]
  },
  {
   "cell_type": "code",
   "execution_count": 25,
   "metadata": {
    "collapsed": true
   },
   "outputs": [],
   "source": [
    "def deltaDeciles(decileDict, name):\n",
    "    values = sortDeciles(decileDict)\n",
    "    deltas = {}\n",
    "    for i in range(10): \n",
    "        if i== 0: pass\n",
    "        else: deltas[str(i) + \" \" + name] = values[i]-values[i-1]\n",
    "    return deltas\n",
    "\n",
    "\n",
    "def sortDeciles(decileDict):\n",
    "    deciles_sorted = []\n",
    "    keys = decileDict.keys()\n",
    "    for key in keys: \n",
    "        deciles_sorted.insert(int(key[-1]), decileDict[key])\n",
    "    return deciles_sorted\n",
    "\n"
   ]
  },
  {
   "cell_type": "code",
   "execution_count": 26,
   "metadata": {
    "collapsed": true
   },
   "outputs": [],
   "source": [
    "def summaryOBlockDecile(projects): \n",
    "    hist = decileOrphanBlocks(projects)\n",
    "    userDict = {'Orphan Decile '+str(i+1): hist[i] for i in range(10)}\n",
    "    return userDict"
   ]
  },
  {
   "cell_type": "code",
   "execution_count": 27,
   "metadata": {
    "collapsed": true
   },
   "outputs": [],
   "source": [
    "def summaryDecileTLBlocks(projects): \n",
    "    hist = decileTypesTopLevelBlocks(projects)\n",
    "    userDict = {'TopLevel Decile '+str(i+1): hist[i] for i in range(10)}\n",
    "    return userDict"
   ]
  },
  {
   "cell_type": "code",
   "execution_count": 28,
   "metadata": {
    "collapsed": true
   },
   "outputs": [],
   "source": [
    "def summaryDecileNumScreens(projects): \n",
    "    hist = decileNumScreens(projects)\n",
    "    userDict = {'NumScreens Decile '+str(i+1): hist[i] for i in range(10)}\n",
    "    return userDict"
   ]
  },
  {
   "cell_type": "code",
   "execution_count": 29,
   "metadata": {
    "collapsed": true
   },
   "outputs": [],
   "source": [
    "def summaryDeltasTLBlocks(projects): \n",
    "    tlblocks = summaryDecileTLBlocks(projects)\n",
    "    return deltaDeciles(tlblocks, \"TL blocks delta\")"
   ]
  },
  {
   "cell_type": "code",
   "execution_count": 30,
   "metadata": {
    "collapsed": true
   },
   "outputs": [],
   "source": [
    "def summaryDeltasOBlock(projects): \n",
    "    oblock = summaryOBlockDecile(projects)\n",
    "    return deltaDeciles(oblock,\"O blocks delta\")"
   ]
  },
  {
   "cell_type": "code",
   "execution_count": 31,
   "metadata": {
    "collapsed": true
   },
   "outputs": [],
   "source": [
    "def summaryDeltasNumScreens(projects): \n",
    "    numscreens = summaryDecileNumScreens(projects)\n",
    "    return deltaDeciles(numscreens, \"numscreens blocks delta\")"
   ]
  },
  {
   "cell_type": "code",
   "execution_count": 32,
   "metadata": {
    "collapsed": true
   },
   "outputs": [],
   "source": [
    "def summaryAverages(projects):\n",
    "    userDict = {} \n",
    "    userDict[\"mean of numScreens\"] = numpy.mean(getNumScreens(projects))\n",
    "    userDict[\"NB\"] = averageNumBlocks(projects)\n",
    "    userDict[\"OB\"] = getAverageOrphanBlocks(projects)\n",
    "    \n",
    "    userDict[\"TL\"] = getAverageTypeTLBlocks(projects)\n",
    "    userDict[\"TL2\"] = getAverageNumTLBlocks(projects)\n",
    "    \n",
    "    userDict[\"NC\"] = averageNumComponents(projects)\n",
    "    userDict[\"NTC\"] = averageNumTypeComponents(projects)\n",
    "\n",
    "    userDict[\"MC\"] = aveNumMediaAssets(projects)\n",
    "    \n",
    "    userDict[\"NP\"] = averageNumProcedures(projects)\n",
    "    userDict[\"NS\"] = averageNumStrings(projects) \n",
    "        \n",
    "    varList = getAllVariables(projects)\n",
    "    userDict[\"local vars\"] = varList[0]\n",
    "    userDict[\"global vars\"] = varList[1]\n",
    "    \n",
    "#     controls_dict = getControlsBlocks(projects)\n",
    "#     userDict['controls_if'] = controls_dict['controls_if']\n",
    "#     userDict['controls_forEach'] = controls_dict['controls_forEach']\n",
    "#     userDict['controls_choose'] = controls_dict['controls_choose']\n",
    "#     userDict['controls_while'] = controls_dict['controls_while']\n",
    "\n",
    "\n",
    "\n",
    "    return userDict"
   ]
  },
  {
   "cell_type": "code",
   "execution_count": 33,
   "metadata": {
    "collapsed": true
   },
   "outputs": [],
   "source": [
    "def classesFeaturizers(projects): \n",
    "    userDict = {} \n",
    "    classes = getClasses(projects)\n",
    "    cList = ['TableArrangement', 'DatePicker', 'Canvas', \n",
    "             'CheckBox', 'Web', 'Clock', 'BluetoothServer', \n",
    "             'ActivityStarter', 'Texting', 'Label', 'Spinner', \n",
    "             'Camera', 'BluetoothClient', 'PhoneCall', 'LocationSensor', \n",
    "             'VerticalArrangement', 'HorizontalArrangement', 'Sharing', \n",
    "             'TextToSpeech', 'GoogleMap', 'Slider', 'OrientationSensor', \n",
    "             'ListView', 'PhoneNumberPicker', 'TinyDB', 'NxtDirectCommands', \n",
    "             'Sound', 'ListPicker', 'SpeechRecognizer', 'Button', 'WebViewer',\n",
    "             'BarcodeScanner', 'NxtDrive', 'Camcorder', 'Notifier', 'TextBox',\n",
    "             'AccelerometerSensor', 'Image', 'VideoPlayer', 'TinyWebDB',\n",
    "             'Player', 'File', 'YandexTranslate']\n",
    "   \n",
    "    for key in cList: \n",
    "        userDict[key] = classes[key]\n",
    "        \n",
    "    return userDict"
   ]
  },
  {
   "cell_type": "code",
   "execution_count": 34,
   "metadata": {
    "collapsed": false
   },
   "outputs": [],
   "source": [
    "def allBlocksFeaturizer(projects):\n",
    "    userDict = {}\n",
    "    with open('top_500_blocks.json') as data_file:    \n",
    "        block_list = json.load(data_file)\n",
    "\n",
    "    all_blocks_dict = {block:0 for block in block_list}\n",
    "    all_blocks_dict = getBlocks(projects, all_blocks_dict) \n",
    "    \n",
    "    for key in block_list: \n",
    "        userDict[key] = all_blocks_dict[key]\n",
    "            \n",
    "    return userDict"
   ]
  },
  {
   "cell_type": "markdown",
   "metadata": {},
   "source": [
    "### Setup"
   ]
  },
  {
   "cell_type": "code",
   "execution_count": 35,
   "metadata": {
    "collapsed": true
   },
   "outputs": [],
   "source": [
    "def combine_featfuncs(funclist):\n",
    "    def combined(user):\n",
    "        basedict = funclist[0](user)\n",
    "        for f in funclist[1:]:\n",
    "            basedict.update(f(user))\n",
    "        return basedict\n",
    "    return combined"
   ]
  },
  {
   "cell_type": "code",
   "execution_count": 36,
   "metadata": {
    "collapsed": false
   },
   "outputs": [],
   "source": [
    "def getAllProjects(userID, no_tutorials): \n",
    "    \"\"\"list of projects sorted by creation times\"\"\"\n",
    "    if (no_tutorials):\n",
    "        try: \n",
    "            projectlist = not_tutorials[userID].values()\n",
    "        except:\n",
    "            print userID\n",
    "    else: \n",
    "        projectlist = summaries[userID].values()\n",
    "    return sorted(projectlist,\n",
    "                  key=lambda project: project['**created']) \n",
    "\n",
    "def userDuration(projectlist):\n",
    "    \"\"\"get the duration (difference between last and earliest creation dates)\"\"\"\n",
    "    return timediff(projectlist[-1]['**created'], projectlist[0]['**created'])\n",
    "\n",
    "\n",
    "     "
   ]
  },
  {
   "cell_type": "code",
   "execution_count": 37,
   "metadata": {
    "collapsed": false
   },
   "outputs": [],
   "source": [
    "langgroups = {'es': 'eur',\n",
    "              'pt': 'eur', \n",
    "              'it': 'eur', \n",
    "              'de': 'eur', \n",
    "              'fr': 'eur', \n",
    "              'ca': 'eur', \n",
    "              'el': 'eur', \n",
    "              'nl': 'eur', \n",
    "              'pl': 'eur',\n",
    "              'en': 'eur',\n",
    "              'ko': 'asia', \n",
    "              'zh': 'asia', \n",
    "              'th': 'asia'}\n",
    "langgroup_num_map = {'eur': 0, 'asia': 1}\n",
    "\n"
   ]
  },
  {
   "cell_type": "code",
   "execution_count": 38,
   "metadata": {
    "collapsed": false
   },
   "outputs": [],
   "source": [
    "def get_user_labels():\n",
    "    return {user: langgroup_num_map[langgroups[lang]] for user, lang in user_langs.items() if lang in langgroups.keys()}"
   ]
  },
  {
   "cell_type": "code",
   "execution_count": null,
   "metadata": {
    "collapsed": true
   },
   "outputs": [],
   "source": []
  },
  {
   "cell_type": "code",
   "execution_count": 39,
   "metadata": {
    "collapsed": false
   },
   "outputs": [],
   "source": [
    "#time_combined = combine_featfuncs([projectLengthFeatures, dayAnalysisFeatures,decileProjects])\n",
    "code_combined = combine_featfuncs([summaryOBlockDecile,summaryDecileTLBlocks,summaryDecileNumScreens,summaryDeltasTLBlocks,summaryDeltasOBlock,summaryDeltasNumScreens, summaryAverages, allBlocksFeaturizer])\n",
    "#all_blocks = combine_featfuncs([allBlocksFeaturizer])\n",
    "#but_all = combine_featfuncs([summaryOBlockDecile,summaryDecileTLBlocks,summaryDecileNumScreens,summaryDeltasTLBlocks,summaryDeltasOBlock,summaryDeltasNumScreens, summaryAverages])"
   ]
  },
  {
   "cell_type": "code",
   "execution_count": 40,
   "metadata": {
    "collapsed": false
   },
   "outputs": [
    {
     "name": "stderr",
     "output_type": "stream",
     "text": [
      "/Users/emmalurie/anaconda/lib/python2.7/site-packages/numpy/lib/function_base.py:1110: RuntimeWarning: Mean of empty slice.\n",
      "  avg = a.mean(axis)\n",
      "/Users/emmalurie/anaconda/lib/python2.7/site-packages/numpy/core/_methods.py:80: RuntimeWarning: invalid value encountered in double_scalars\n",
      "  ret = ret.dtype.type(ret / rcount)\n"
     ]
    },
    {
     "name": "stdout",
     "output_type": "stream",
     "text": [
      "1 2 3 4 5 6 7 8 9 10 11 12 13 14 15 16 17 18 19 20 21 22 23 24 25 26 27 28 29 30 31 32 33 34 35 36 37 38 39 40 41 42\n"
     ]
    }
   ],
   "source": [
    "from sklearn.feature_extraction import DictVectorizer\n",
    "\n",
    "all_features = []\n",
    "time_features = [] \n",
    "code_features = []\n",
    "all_list = []\n",
    "but_list = [] \n",
    "userlabels = get_user_labels()\n",
    "y = []\n",
    "ctr = 0\n",
    "for user in userlabels:\n",
    "    if user in not_tutorials: \n",
    "\n",
    "        projects = getAllProjects(user, filter_tutorials)  # this returns projects sorted by creation date that include tutorials \n",
    "\n",
    "        y.append(userlabels[user])\n",
    "\n",
    "#         time_features.append(time_combined(projects))\n",
    "        code_features.append(code_combined(projects))\n",
    "#        all_list.append(all_blocks(projects))\n",
    " #       but_list.append(but_all(projects))\n",
    "\n",
    "        # merge time and code feature dicts\n",
    "#         all_features_user = time_features[-1].copy()\n",
    "#         all_features_user.update(code_features[-1])\n",
    "#         all_features.append(all_features_user)\n",
    "\n",
    "        ctr+=1\n",
    "        if ctr%1000==0:\n",
    "            print ctr/1000,\n",
    "\n",
    "        \n",
    "\n",
    "\n",
    "y = numpy.array(y)\n",
    "\n",
    "# timevec = DictVectorizer()\n",
    "\n",
    "# Xtime = timevec.fit_transform(time_features) \n",
    "\n",
    "codevec = DictVectorizer()\n",
    "\n",
    "Xcode = codevec.fit_transform(code_features)\n",
    "\n",
    "\n",
    "\n",
    "# allvec = DictVectorizer()\n",
    "\n",
    "# Xall = allvec.fit_transform(all_list)\n",
    "\n",
    "# butvec = DictVectorizer()\n",
    "\n",
    "# Xbut = butvec.fit_transform(but_list)\n"
   ]
  },
  {
   "cell_type": "code",
   "execution_count": 41,
   "metadata": {
    "collapsed": false
   },
   "outputs": [],
   "source": [
    "from sklearn.preprocessing import scale\n",
    "from numpy import *\n",
    "# # convert to dense matrices since these are dense anyway\n",
    "# Xtime = scale(Xtime.toarray())\n",
    "Xcode = scale(Xcode.toarray())\n",
    "# Xall = scale(Xall.toarray())\n",
    "# Xall = scale(Xall.toarray())\n",
    "# Xbut = scale(Xbut.toarray())\n"
   ]
  },
  {
   "cell_type": "markdown",
   "metadata": {},
   "source": [
    "#### Static KFold Values"
   ]
  },
  {
   "cell_type": "code",
   "execution_count": 42,
   "metadata": {
    "collapsed": true
   },
   "outputs": [],
   "source": [
    "import pickle"
   ]
  },
  {
   "cell_type": "code",
   "execution_count": 43,
   "metadata": {
    "collapsed": false
   },
   "outputs": [],
   "source": [
    "if filter_tutorials:\n",
    "    with open('filtered_kfold.pickle', 'rb') as f:\n",
    "        foldindices = pickle.load(f)\n",
    "else:\n",
    "    with open('unfiltered_kfold.pickle', 'rb') as f:\n",
    "        foldindices = pickle.load(f)"
   ]
  },
  {
   "cell_type": "markdown",
   "metadata": {},
   "source": [
    "### Model Training and Testing"
   ]
  },
  {
   "cell_type": "code",
   "execution_count": null,
   "metadata": {
    "collapsed": false,
    "scrolled": true
   },
   "outputs": [
    {
     "name": "stdout",
     "output_type": "stream",
     "text": [
      "Chance is 0.678882455397\n",
      "Building a logreg model with 569 features\n",
      "Fold 1\n"
     ]
    }
   ],
   "source": [
    "from sklearn.cross_validation import StratifiedKFold\n",
    "from sklearn.neighbors import KNeighborsClassifier\n",
    "from  sklearn.metrics import f1_score \n",
    "from sklearn.linear_model import LogisticRegression\n",
    "from sklearn.metrics import confusion_matrix\n",
    "import matplotlib.pyplot as plt\n",
    "%matplotlib inline \n",
    "from plotcnf import plot_confusion_matrix\n",
    "from sklearn.decomposition import PCA\n",
    "\n",
    "print 'Chance is', max(numpy.bincount(y))/float(len(y))\n",
    "\n",
    "### added later ### ************************    \n",
    "\n",
    "\n",
    "labels = map(lambda x:x[0], sorted(langgroup_num_map.items(), key=lambda x:x[1]))  \n",
    "# languages corresponding to class labels as a list\n",
    "\n",
    "    \n",
    "k = 70 #num neighbors for kNN\n",
    "\n",
    "classifiers = [('logreg', LogisticRegression(penalty = 'l1'))]  # no knn because it's too slow \n",
    "#multi_class='multinomial', \n",
    "   \n",
    "\n",
    "for modelname, model in classifiers:\n",
    "    for featname, X in [('code', Xcode)]:\n",
    "        print  'Building a', modelname, 'model with', X.shape[1], 'features'\n",
    "    \n",
    "        cvaccs = numpy.zeros(len(foldindices))\n",
    "        #cvf1 = numpy.zeros(len(foldindices))\n",
    "        for i, (trainidx, testidx) in enumerate(foldindices):\n",
    "            \n",
    "            print 'Fold', i+1\n",
    "        \n",
    "            ytrain = y[trainidx]\n",
    "            ytest = y[testidx]\n",
    "        \n",
    "            Xtrain = X[trainidx, :]  \n",
    "            Xtest = X[testidx, :]\n",
    "            \n",
    "            model.fit(Xtrain, ytrain)\n",
    "            cvaccs[i] = model.score(Xtest, ytest)\n",
    "            \n",
    "            predictions = model.predict(Xtest)\n",
    "\n",
    "#             pca = PCA(n_components=7)\n",
    "\n",
    "#             reduced_train = pca.fit_transform(Xtrain)\n",
    "#             reduced_test = pca.transform(Xtest)\n",
    "            \n",
    "#             model.fit(reduced_train, ytrain)\n",
    "#             cvaccs[i] = model.score(reduced_test, ytest)\n",
    "    \n",
    "        \n",
    "#             predictions = model.predict(reduced_test)\n",
    "\n",
    "            #cvf1[i] = f1_score(ytest, predictions)\n",
    "            \n",
    "              \n",
    "            #print '****', modelname, cvaccs[i]\n",
    "        #analyze last fold only\n",
    "        cnf_matrix = confusion_matrix(ytest, predictions)  \n",
    "        plot_confusion_matrix(cnf_matrix, labels)\n",
    "        plt.title('European and Asian Language Groupings')\n",
    "\n",
    "        plt.show()\n",
    "        coef = model.coef_\n",
    "        print 'Average accuracy:', numpy.mean(cvaccs)"
   ]
  },
  {
   "cell_type": "markdown",
   "metadata": {},
   "source": [
    "### Testing different sized training setes"
   ]
  },
  {
   "cell_type": "code",
   "execution_count": 72,
   "metadata": {
    "collapsed": false
   },
   "outputs": [
    {
     "name": "stdout",
     "output_type": "stream",
     "text": [
      "100 0.711129741853\n",
      "200 0.783669935684\n",
      "300 0.812526448775\n",
      "400 0.822764666939\n",
      "500 0.824200432356\n",
      "600 0.837734530064\n",
      "700 0.843854362557\n",
      "800 0.851292179904\n",
      "900 0.851786475332\n",
      "1000 0.851245313319\n",
      "1100 0.851574846931\n",
      "1200 0.850115403078\n",
      "1300 0.849762277456\n",
      "1400 0.851456968317\n",
      "1500 0.851504014395\n",
      "1600 0.855623066511\n",
      "1700 0.856941099571\n",
      "1800 0.860189394576\n",
      "1900 0.862401839907\n",
      "2000 0.864214201636\n",
      "2100 0.865744080813\n",
      "2200 0.86689734042\n",
      "2300 0.869298172824\n",
      "2400 0.868662680998\n",
      "2500 0.871228143926\n",
      "2600 0.872946350342\n",
      "2700 0.87318177684\n",
      "2800 0.875841469865\n",
      "2900 0.876076801631\n",
      "3000 0.876994830849\n",
      "3100 0.875535534916\n",
      "3200 0.875676689765\n",
      "3300 0.875158878778\n",
      "3400 0.87492345228\n",
      "3500 0.876359146234\n",
      "3600 0.876476818764\n",
      "3700 0.877842034177\n",
      "3800 0.878477577528\n",
      "3900 0.877394871247\n",
      "4000 0.87826581949\n",
      "4100 0.879866328445\n",
      "4200 0.881890516348\n",
      "4300 0.88238475693\n",
      "4400 0.882926233056\n",
      "4500 0.883961785228\n",
      "4600 0.883867629921\n",
      "4700 0.88478551787\n",
      "4800 0.885138565377\n",
      "4900 0.885397505774\n",
      "5000 0.885585806421\n",
      "5100 0.885491646126\n",
      "5200 0.885774035604\n",
      "5300 0.886715555455\n",
      "5400 0.887468739759\n",
      "5500 0.887704089804\n",
      "5600 0.887539391142\n",
      "5700 0.887021536943\n",
      "5800 0.888763288833\n",
      "5900 0.889445879923\n",
      "6000 0.889751859745\n",
      "6100 0.890034302404\n",
      "6200 0.890363824379\n",
      "6300 0.890834574332\n",
      "6400 0.891258276547\n",
      "6500 0.891728996586\n",
      "6600 0.892952950784\n",
      "6700 0.89311771094\n",
      "6800 0.892905854848\n",
      "6900 0.893047032965\n",
      "7000 0.892482162605\n",
      "7100 0.89377671833\n",
      "7200 0.893894394183\n",
      "7300 0.893776715005\n",
      "7400 0.894412198524\n",
      "7500 0.893847344783\n",
      "7600 0.894012084994\n",
      "7700 0.894883004985\n",
      "7800 0.89540080434\n",
      "7900 0.896083357202\n",
      "8000 0.896577647644\n",
      "8100 0.897307333007\n",
      "8200 0.896507090994\n",
      "8300 0.896342339146\n",
      "8400 0.896318793671\n",
      "8500 0.896248192148\n",
      "8600 0.896624780144\n",
      "8700 0.897001368139\n",
      "8800 0.896601234668\n",
      "8900 0.896813059183\n",
      "9000 0.897472088177\n",
      "9100 0.897989909136\n",
      "9200 0.898460627511\n",
      "9300 0.898107570034\n",
      "9400 0.898225212648\n",
      "9500 0.898837198888\n",
      "9600 0.898131113847\n",
      "9700 0.898319372943\n",
      "9800 0.898531197458\n",
      "9900 0.89930791228\n",
      "10000 0.899213778576\n",
      "10100 0.898601764083\n",
      "10200 0.898884183474\n",
      "10300 0.89942553495\n",
      "10400 0.899637399354\n",
      "10500 0.89921372207\n",
      "10600 0.899119571746\n",
      "10700 0.898884190123\n",
      "10800 0.899331394601\n",
      "10900 0.899401997786\n",
      "11000 0.898860621379\n",
      "11100 0.898907700695\n",
      "11200 0.899237245939\n",
      "11300 0.899213698802\n",
      "11400 0.899354923457\n",
      "11500 0.899378465606\n",
      "11600 0.899637386058\n",
      "11700 0.899331384628\n",
      "11800 0.899707974286\n",
      "11900 0.899778575809\n",
      "12000 0.899496131488\n",
      "12100 0.89966089663\n",
      "12200 0.899707967638\n",
      "12300 0.900061053372\n",
      "12400 0.899613830612\n",
      "12500 0.899849218883\n",
      "12600 0.899943347601\n",
      "12700 0.899802134581\n",
      "12800 0.899778612375\n",
      "12900 0.900343504341\n",
      "13000 0.901120232457\n",
      "13100 0.900555348801\n",
      "13200 0.900931946769\n",
      "13300 0.901143789566\n",
      "13400 0.900931966712\n",
      "13500 0.90144976939\n",
      "13600 0.90142622059\n",
      "13700 0.901167313434\n",
      "13800 0.901402675114\n",
      "13900 0.901661607201\n",
      "14000 0.901543916389\n",
      "14100 0.901685132733\n",
      "14200 0.901355609096\n",
      "14300 0.901473313203\n",
      "14400 0.901308546399\n",
      "14500 0.901261462096\n",
      "14600 0.901755749215\n",
      "14700 0.901755734256\n",
      "14800 0.901826354063\n",
      "14900 0.9020146464\n",
      "15000 0.902108816664\n",
      "15100 0.90222652576\n",
      "15200 0.902344211586\n",
      "15300 0.901944113016\n",
      "15400 0.902038268326\n",
      "15500 0.901897038686\n",
      "15600 0.902509013293\n",
      "15700 0.902626712416\n",
      "15800 0.902344258123\n",
      "15900 0.902297178807\n",
      "16000 0.902108913063\n",
      "16100 0.901897073589\n",
      "16200 0.902485517678\n",
      "16300 0.90253259201\n",
      "16400 0.902367818556\n",
      "16500 0.90246196888\n",
      "16600 0.902603163618\n",
      "16700 0.902485472806\n",
      "16800 0.902673795058\n",
      "16900 0.902932678945\n",
      "17000 0.90293266731\n",
      "17100 0.902767918788\n",
      "17200 0.902909145103\n",
      "17300 0.903026829268\n",
      "17400 0.902603170265\n",
      "17500 0.902744401565\n",
      "17600 0.902697320586\n",
      "17700 0.902815014723\n",
      "17800 0.902885616245\n",
      "17900 0.903732934252\n",
      "18000 0.903379873448\n",
      "18100 0.903474042054\n",
      "18200 0.903238685361\n",
      "18300 0.903497577558\n",
      "18400 0.903850648333\n",
      "18500 0.903638800549\n",
      "18600 0.903709420354\n",
      "18700 0.903732947548\n",
      "18800 0.903356364538\n",
      "18900 0.903662357659\n",
      "19000 0.903709417031\n",
      "19100 0.903591734528\n",
      "19200 0.903379931619\n",
      "19300 0.902979778204\n",
      "19400 0.902862072433\n",
      "19500 0.902838545239\n",
      "19600 0.902956227742\n",
      "19700 0.902767912138\n",
      "19800 0.9024854861\n",
      "19900 0.902461940624\n",
      "20000 0.902885604613\n"
     ]
    }
   ],
   "source": [
    "train_size = 100\n",
    "accuracies = [] \n",
    "X = Xcode \n",
    "\n",
    "for n in range(200): \n",
    "    cvaccs = numpy.zeros(len(foldindices))\n",
    "    for i, (trainidx, testidx) in enumerate(foldindices):\n",
    "\n",
    "        ytrain = y[trainidx[0:train_size]]\n",
    "        ytest = y[testidx]\n",
    "\n",
    "        Xtrain = X[trainidx[0:train_size], :]  \n",
    "        Xtest = X[testidx, :]\n",
    "\n",
    "        model.fit(Xtrain, ytrain)\n",
    "        cvaccs[i] = model.score(Xtest, ytest)\n",
    "\n",
    "        predictions = model.predict(Xtest)\n",
    "\n",
    "    print train_size, numpy.mean(cvaccs)\n",
    "    accuracies.append((train_size, numpy.mean(cvaccs)))\n",
    "    train_size+= 100\n",
    "\n"
   ]
  },
  {
   "cell_type": "code",
   "execution_count": 73,
   "metadata": {
    "collapsed": true
   },
   "outputs": [],
   "source": []
  },
  {
   "cell_type": "code",
   "execution_count": 76,
   "metadata": {
    "collapsed": false
   },
   "outputs": [
    {
     "data": {
      "image/png": "[encoded data removed]",
      "text/plain": [
       "<matplotlib.figure.Figure at 0x73c3d8f90>"
      ]
     },
     "metadata": {},
     "output_type": "display_data"
    }
   ],
   "source": [
    "plt.plot([a[0] for a in accuracies],[a[1] for a in accuracies] , 'bo')\n",
    "plt.xlabel('Training Set Size')\n",
    "plt.ylabel('Accuracy')\n",
    "plt.show()"
   ]
  },
  {
   "cell_type": "code",
   "execution_count": 45,
   "metadata": {
    "collapsed": false
   },
   "outputs": [
    {
     "name": "stdout",
     "output_type": "stream",
     "text": [
      "Confusion matrix, without normalization\n"
     ]
    },
    {
     "data": {
      "image/png": "[encoded data removed]",
      "text/plain": [
       "<matplotlib.figure.Figure at 0x72aadc850>"
      ]
     },
     "metadata": {},
     "output_type": "display_data"
    }
   ],
   "source": []
  },
  {
   "cell_type": "code",
   "execution_count": 47,
   "metadata": {
    "collapsed": false
   },
   "outputs": [],
   "source": [
    "# eigenvalues = pca.explained_variance_\n",
    "# print eigenvalues\n",
    "#dictvectorizer has features_names\n",
    "#codevec \n",
    "#inverse_tranform "
   ]
  },
  {
   "cell_type": "code",
   "execution_count": 48,
   "metadata": {
    "collapsed": false
   },
   "outputs": [],
   "source": [
    "# plt.show()\n",
    "# coef = model.coef_\n",
    "# print 'Average accuracy:', numpy.mean(cvaccs)"
   ]
  },
  {
   "cell_type": "markdown",
   "metadata": {},
   "source": [
    "### Coefs "
   ]
  },
  {
   "cell_type": "code",
   "execution_count": 49,
   "metadata": {
    "collapsed": false
   },
   "outputs": [],
   "source": [
    "# sorted(zip(allvec.get_feature_names(), coef[0]), key=lambda tup: tup[1])"
   ]
  },
  {
   "cell_type": "code",
   "execution_count": 50,
   "metadata": {
    "collapsed": false
   },
   "outputs": [],
   "source": [
    "# from sklearn.metrics import f1_score\n",
    "# f1_score(ytest, predictions)"
   ]
  }
 ],
 "metadata": {
  "anaconda-cloud": {},
  "kernelspec": {
   "display_name": "Python [default]",
   "language": "python",
   "name": "python2"
  },
  "language_info": {
   "codemirror_mode": {
    "name": "ipython",
    "version": 2
   },
   "file_extension": ".py",
   "mimetype": "text/x-python",
   "name": "python",
   "nbconvert_exporter": "python",
   "pygments_lexer": "ipython2",
   "version": "2.7.12"
  }
 },
 "nbformat": 4,
 "nbformat_minor": 0
}
