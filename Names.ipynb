{
 "cells": [
  {
   "cell_type": "code",
   "execution_count": 3,
   "metadata": {
    "collapsed": false
   },
   "outputs": [],
   "source": [
    "import ujson\n",
    "\n",
    "with open('user_project_summaries.json') as o:\n",
    "    summaries = ujson.load(o)"
   ]
  },
  {
   "cell_type": "markdown",
   "metadata": {},
   "source": [
    "## Project names\n",
    "\n",
    "### Morphological analysis\n",
    "\n",
    "Use a morphological analyzer to learn to split project names."
   ]
  },
  {
   "cell_type": "code",
   "execution_count": 4,
   "metadata": {
    "collapsed": false
   },
   "outputs": [],
   "source": [
    "with open('projectnames.txt', 'w') as o:\n",
    "    for userid in summaries:\n",
    "        for projectid in summaries[userid]:\n",
    "            o.write(summaries[userid][projectid]['**Project Name']+' ')"
   ]
  },
  {
   "cell_type": "code",
   "execution_count": 5,
   "metadata": {
    "collapsed": false
   },
   "outputs": [
    {
     "name": "stderr",
     "output_type": "stream",
     "text": [
      "...........................................................\n",
      "...........................................................\n",
      "...........................................................\n",
      "...........................................................\n",
      "...........................................................\n",
      "...........................................................\n"
     ]
    },
    {
     "data": {
      "text/plain": [
       "(6, 901445.6816452648)"
      ]
     },
     "execution_count": 5,
     "metadata": {},
     "output_type": "execute_result"
    }
   ],
   "source": [
    "import morfessor\n",
    "io = morfessor.MorfessorIO()\n",
    "train_data = io.read_corpus_file('projectnames.txt')\n",
    "model_tokens = morfessor.BaselineModel()\n",
    "model_tokens.load_data(train_data)\n",
    "model_tokens.train_batch()"
   ]
  },
  {
   "cell_type": "code",
   "execution_count": 6,
   "metadata": {
    "collapsed": true
   },
   "outputs": [],
   "source": [
    "pnames = open('projectnames.txt').read().split()"
   ]
  },
  {
   "cell_type": "code",
   "execution_count": 7,
   "metadata": {
    "collapsed": false
   },
   "outputs": [],
   "source": [
    "segpnames = [model_tokens.viterbi_segment(word) for word in pnames]"
   ]
  },
  {
   "cell_type": "code",
   "execution_count": 8,
   "metadata": {
    "collapsed": false
   },
   "outputs": [
    {
     "name": "stdout",
     "output_type": "stream",
     "text": [
      "['Phone', 'AccessLab'] ['BtCarEmuLab'] ['BN103096', 'Voice', 'Dict'] ['BN103096', 'Mole'] ['BN103096', 'L', 'AP', '01'] ['BN103096', 'Lab', '03', '05'] ['BtOX', 'Game', 'Lab', 'V1'] ['Screen', '4'] ['BN103', '09', '7', 'EX', '050702'] ['BN103096', 'T2', 'S'] ['BN103096', '1'] ['BN103', '2', '99', 'Lab', '03', '05'] ['Block_La', 'b00'] ['BN103096'] ['BN103096', 'OddEven'] ['BN103096', 'ST', 'ER'] ['BN103096', 'AA', '01'] ['BN103096', 'Sensor', '1'] ['BN103', '02', 'MD', '01'] ['BN103096', 'EX', '050702'] ['BN103', '02', 'MD', '03'] ['WebViewer', 'Lab'] ['Lotto', '1111', 'Lab'] ['BN103096', 'Ex04', '09', '01', '09', '02'] ['Web', 'AccessLab'] ['BN103', '2', '99', 'Roll', 'er', '2'] ['MusicPlayer', '2', 'Lab'] ['BN103096', 'BN103', '100'] ['Bluetooth', 'Lab1'] ['BN103096', 'Click'] ['BN103096', 'Demo', '01'] ['Lab', '00'] ['BN103096', 'Ex', '050701'] ['BN103096', 'game', 'ox'] ['bn103096', 'clock'] ['BN103096', '_', 'MusicPlayer', 'Lab'] ['BN103096', 'Ex', '050702'] ['BtCarCtrlLab0'] ['BN103096', 'Taichung', 'Tour'] ['BN103', '2', 'xx', 'MD', '02'] ['BN103096', 'Ex04', '16', '01'] ['bn103096', 'Clock'] ['Vote'] ['BN103096', 'Ex04', '09', '01'] ['BN103096', 'Roll', 'er'] ['MusicPlayer', 'Json', 'Lab'] ['BN103096', 'MoleMash', 'Lab'] ['aaaa'] ['ex_Camera', '_', 's'] ['G105', '_05', '_', 'For']\n"
     ]
    }
   ],
   "source": [
    "for segpname, _ in segpnames[:50]:\n",
    "    print segpname,"
   ]
  },
  {
   "cell_type": "markdown",
   "metadata": {},
   "source": [
    "Does this give anything reasonable? Remains to be explored. Might need some parameter tweaking.\n",
    "\n",
    "### Clustering\n",
    "\n",
    "Cluster the project names using edit distance."
   ]
  },
  {
   "cell_type": "code",
   "execution_count": 9,
   "metadata": {
    "collapsed": false
   },
   "outputs": [
    {
     "name": "stdout",
     "output_type": "stream",
     "text": [
      ". . . . . . . . . . . . . . . . . . . . . . . . . . . . . . . . . . . . . . . . . . . . . . . . . . . . . . . . . . . . . . . . . . . . . . Computed pairwise edit distances\n"
     ]
    }
   ],
   "source": [
    "import leven\n",
    "from sklearn.cluster import AffinityPropagation\n",
    "import numpy as np\n",
    "\n",
    "pnameset = list(set(pnames))[:7000]   # will increase, but clustering takes longer\n",
    "\n",
    "lev_aff = np.zeros((len(pnameset), len(pnameset)))\n",
    "for i, pnamei in enumerate(pnameset):\n",
    "    if i%100==0:\n",
    "        print '.',\n",
    "    for j, pnamej in enumerate(pnameset):\n",
    "        if j>i:\n",
    "            lev_aff[i, j] = -1*leven.levenshtein(pnamei, pnamej)\n",
    "        elif j==i:\n",
    "            lev_aff[i, j] = 0\n",
    "        else:\n",
    "            lev_aff[i, j] = lev_aff[j, i]\n",
    "print 'Computed pairwise edit distances'"
   ]
  },
  {
   "cell_type": "code",
   "execution_count": 10,
   "metadata": {
    "collapsed": false
   },
   "outputs": [
    {
     "name": "stdout",
     "output_type": "stream",
     "text": [
      "Fit affinity propagator\n"
     ]
    }
   ],
   "source": [
    "model = AffinityPropagation(affinity=\"precomputed\")\n",
    "model.fit(lev_aff)\n",
    "print 'Fit affinity propagator'"
   ]
  },
  {
   "cell_type": "code",
   "execution_count": 12,
   "metadata": {
    "collapsed": false
   },
   "outputs": [
    {
     "name": "stdout",
     "output_type": "stream",
     "text": [
      "MyActivitySiwni ['ActivityRecord', 'MyActivityMETHULI', 'MyActivityvihan__4226', 'MyActivitymethuli', 'MyActivitySiwni']\n",
      "Lab1_Combine_Instrument_copy ['Lab1_Combine_Instrument_copy']\n",
      "BluetoothConnection6 ['BluetoothConnection3', 'BluetoothConnection6', 'BluetoothConnection7', 'BluetoothConnection4', 'BluetoothConnection9', 'bluetoothforarduino_app', 'bluetoothClient_Ardino', 'Midterm2Corrections', 'BluetoothConnectionWhatakuai', 'Blutooth_Jonathanlois']\n",
      "ALLGTAGRANDTHEFTAUTOFULLANDROIDPORTS ['ALLGTAGRANDTHEFTAUTOFULLANDROIDPORTS']\n",
      "MileyBash_NeedsDebugging ['MileyBash_Debugged1', 'MileyBash_NeedsDebugging']\n",
      "Project_AlainS_GuessTheName_copy ['Project_AlainS_GuessTheName_copy']\n",
      "get_location ['test_leehwanung', 'Math_Addition', 'sprite_rotation', 'DreamWorkExpansion', 'FBI_Locator', 'Notification', 'Horacio_Jonathan', 'p10B_velocidad_luz', 'Ch7_Location', 'MapMyLocation', 'get_location', 'Newton_Raphson', 'ex_calculation', 'App_Test_Socrative']\n",
      "Chapter12 ['Chapter11_S', 'Chapter11_C', 'CWChapter2Ex2', 'Chapter12', 'Chapter2DemoImages', 'shalomss2', 'Chapter6_demo_p291', 'chatterbox', 'MoreChaptersStuff', 'Planner100']\n",
      "Coopersmith_HW5_GPS_FieldGuide ['Coopersmith_HW5_GPS_FieldGuide']\n",
      "android_bot_clock_ten ['android_bot_clock_ten']\n"
     ]
    }
   ],
   "source": [
    "from collections import defaultdict\n",
    "exemplars = defaultdict(list)\n",
    "for i, clustid in enumerate(model.labels_):\n",
    "    exem = model.cluster_centers_indices_[clustid]\n",
    "    exemplars[pnameset[exem]].append(pnameset[i])\n",
    "    \n",
    "# look at a sample\n",
    "for exem in exemplars.keys()[:10]:\n",
    "    print exem, exemplars[exem]"
   ]
  },
  {
   "cell_type": "markdown",
   "metadata": {},
   "source": [
    "Unclear whether these clusters are meaningful, BUT we can very that later by looking at the code.\n",
    "\n",
    "## Language Identification from Project and Variable Names\n",
    "\n",
    "Predict the native language of a user from their project/variable names and strings."
   ]
  },
  {
   "cell_type": "code",
   "execution_count": 13,
   "metadata": {
    "collapsed": false
   },
   "outputs": [],
   "source": [
    "import langid\n",
    "\n",
    "user_tokens = defaultdict(list)\n",
    "for userid in summaries:\n",
    "    for projectid in summaries[userid]:\n",
    "        numscreens = summaries[userid][projectid]['*Number of Screens']\n",
    "        for screenid in range(numscreens):\n",
    "            screentitle = 'Screen'+str(screenid+1)\n",
    "            if screentitle in summaries[userid][projectid]:\n",
    "                # blocks\n",
    "                if summaries[userid][projectid][screentitle]['Blocks']=='NO BLOCKS':\n",
    "                    continue\n",
    "                blocks = summaries[userid][projectid][screentitle]['Blocks']\n",
    "                if blocks['Active Blocks']=='NO ACTIVE BLOCKS':\n",
    "                    continue\n",
    "                for namesp in ['Global Variable Names', 'Procedure Names', 'Procedure Parameter Names', 'Strings']:\n",
    "                    for vname in blocks['Active Blocks'][namesp]:\n",
    "                        user_tokens[userid].append(vname)\n",
    "                # components\n",
    "                if summaries[userid][projectid][screentitle]['Components']=='N':\n",
    "                    continue\n",
    "                for sname in summaries[userid][projectid][screentitle]['Components']['Strings']:\n",
    "                    user_tokens[userid].append(sname)\n",
    "            "
   ]
  },
  {
   "cell_type": "code",
   "execution_count": 14,
   "metadata": {
    "collapsed": true
   },
   "outputs": [],
   "source": [
    "from collections import defaultdict, Counter\n",
    "\n",
    "user_langs = defaultdict(lambda : defaultdict(float))\n",
    "for userid in user_tokens:\n",
    "    if len(user_tokens[userid])<50:\n",
    "        continue\n",
    "    user_langs[userid] = langid.classify(' '.join(user_tokens[userid]))[0]\n",
    "            "
   ]
  },
  {
   "cell_type": "code",
   "execution_count": 15,
   "metadata": {
    "collapsed": false
   },
   "outputs": [
    {
     "data": {
      "text/plain": [
       "Counter({'ar': 4,\n",
       "         'br': 1,\n",
       "         'ca': 10,\n",
       "         'de': 12,\n",
       "         'el': 6,\n",
       "         'en': 422,\n",
       "         'es': 105,\n",
       "         'et': 1,\n",
       "         'fi': 1,\n",
       "         'fr': 6,\n",
       "         'gl': 1,\n",
       "         'he': 4,\n",
       "         'it': 22,\n",
       "         'ja': 4,\n",
       "         'ko': 81,\n",
       "         'la': 12,\n",
       "         'lb': 1,\n",
       "         'lv': 1,\n",
       "         'ms': 1,\n",
       "         'nl': 5,\n",
       "         'no': 3,\n",
       "         'pl': 4,\n",
       "         'pt': 14,\n",
       "         'ru': 1,\n",
       "         'se': 1,\n",
       "         'sq': 1,\n",
       "         'te': 1,\n",
       "         'th': 3,\n",
       "         'tr': 4,\n",
       "         'vi': 2,\n",
       "         'zh': 238})"
      ]
     },
     "execution_count": 15,
     "metadata": {},
     "output_type": "execute_result"
    }
   ],
   "source": [
    "langcounts = Counter(user_langs.values())\n",
    "langcounts"
   ]
  },
  {
   "cell_type": "code",
   "execution_count": null,
   "metadata": {
    "collapsed": true
   },
   "outputs": [],
   "source": []
  }
 ],
 "metadata": {
  "kernelspec": {
   "display_name": "Python 2",
   "language": "python",
   "name": "python2"
  },
  "language_info": {
   "codemirror_mode": {
    "name": "ipython",
    "version": 2
   },
   "file_extension": ".py",
   "mimetype": "text/x-python",
   "name": "python",
   "nbconvert_exporter": "python",
   "pygments_lexer": "ipython2",
   "version": "2.7.10"
  }
 },
 "nbformat": 4,
 "nbformat_minor": 0
}
