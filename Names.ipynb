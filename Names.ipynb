{
 "cells": [
  {
   "cell_type": "code",
   "execution_count": null,
   "metadata": {
    "collapsed": false
   },
   "outputs": [
    {
     "name": "stdout",
     "output_type": "stream",
     "text": [
      "0 1 2 3 4 5 6 7 8 9"
     ]
    }
   ],
   "source": [
    "import ujson\n",
    "\n",
    "summaries = {}\n",
    "ctr = 0\n",
    "for line in open('user_project_summaries.json'): # lazy iteration because the file is large\n",
    "    print ctr,\n",
    "    ctr+=1\n",
    "    summaries.update(ujson.loads(line))"
   ]
  },
  {
   "cell_type": "markdown",
   "metadata": {},
   "source": [
    "## Project names\n",
    "\n",
    "### Morphological analysis\n",
    "\n",
    "Use a morphological analyzer to learn to split project names."
   ]
  },
  {
   "cell_type": "code",
   "execution_count": 2,
   "metadata": {
    "collapsed": false
   },
   "outputs": [],
   "source": [
    "with open('projectnames.txt', 'w') as o:\n",
    "    for userid in summaries:\n",
    "        for projectid in summaries[userid]:\n",
    "            o.write(summaries[userid][projectid]['**Project Name'].replace('_', ' ')+' ') # _ usually separates morphemes"
   ]
  },
  {
   "cell_type": "code",
   "execution_count": 23,
   "metadata": {
    "collapsed": false
   },
   "outputs": [
    {
     "ename": "KeyboardInterrupt",
     "evalue": "",
     "output_type": "error",
     "traceback": [
      "\u001b[0;31m---------------------------------------------------------------------------\u001b[0m",
      "\u001b[0;31mKeyboardInterrupt\u001b[0m                         Traceback (most recent call last)",
      "\u001b[0;32m<ipython-input-23-65e1dfa3f989>\u001b[0m in \u001b[0;36m<module>\u001b[0;34m()\u001b[0m\n\u001b[1;32m      3\u001b[0m \u001b[0mtrain_data\u001b[0m \u001b[0;34m=\u001b[0m \u001b[0mio\u001b[0m\u001b[0;34m.\u001b[0m\u001b[0mread_corpus_file\u001b[0m\u001b[0;34m(\u001b[0m\u001b[0;34m'projectnames.txt'\u001b[0m\u001b[0;34m)\u001b[0m\u001b[0;34m\u001b[0m\u001b[0m\n\u001b[1;32m      4\u001b[0m \u001b[0mmodel_tokens\u001b[0m \u001b[0;34m=\u001b[0m \u001b[0mmorfessor\u001b[0m\u001b[0;34m.\u001b[0m\u001b[0mBaselineModel\u001b[0m\u001b[0;34m(\u001b[0m\u001b[0;34m)\u001b[0m\u001b[0;34m\u001b[0m\u001b[0m\n\u001b[0;32m----> 5\u001b[0;31m \u001b[0mmodel_tokens\u001b[0m\u001b[0;34m.\u001b[0m\u001b[0mload_data\u001b[0m\u001b[0;34m(\u001b[0m\u001b[0mtrain_data\u001b[0m\u001b[0;34m)\u001b[0m\u001b[0;34m\u001b[0m\u001b[0m\n\u001b[0m\u001b[1;32m      6\u001b[0m \u001b[0mmodel_tokens\u001b[0m\u001b[0;34m.\u001b[0m\u001b[0mtrain_batch\u001b[0m\u001b[0;34m(\u001b[0m\u001b[0;34m)\u001b[0m\u001b[0;34m\u001b[0m\u001b[0m\n",
      "\u001b[0;32m/usr/local/lib/python2.7/site-packages/Morfessor-2.0.2a3-py2.7.egg/morfessor/baseline.pyc\u001b[0m in \u001b[0;36mload_data\u001b[0;34m(self, data, freqthreshold, count_modifier, init_rand_split)\u001b[0m\n\u001b[1;32m    493\u001b[0m         \u001b[0mself\u001b[0m\u001b[0;34m.\u001b[0m\u001b[0m_check_segment_only\u001b[0m\u001b[0;34m(\u001b[0m\u001b[0;34m)\u001b[0m\u001b[0;34m\u001b[0m\u001b[0m\n\u001b[1;32m    494\u001b[0m         \u001b[0mtotalcount\u001b[0m \u001b[0;34m=\u001b[0m \u001b[0mcollections\u001b[0m\u001b[0;34m.\u001b[0m\u001b[0mCounter\u001b[0m\u001b[0;34m(\u001b[0m\u001b[0;34m)\u001b[0m\u001b[0;34m\u001b[0m\u001b[0m\n\u001b[0;32m--> 495\u001b[0;31m         \u001b[0;32mfor\u001b[0m \u001b[0mcount\u001b[0m\u001b[0;34m,\u001b[0m \u001b[0m_\u001b[0m\u001b[0;34m,\u001b[0m \u001b[0matoms\u001b[0m \u001b[0;32min\u001b[0m \u001b[0mdata\u001b[0m\u001b[0;34m:\u001b[0m\u001b[0;34m\u001b[0m\u001b[0m\n\u001b[0m\u001b[1;32m    496\u001b[0m             \u001b[0;32mif\u001b[0m \u001b[0mlen\u001b[0m\u001b[0;34m(\u001b[0m\u001b[0matoms\u001b[0m\u001b[0;34m)\u001b[0m \u001b[0;34m>\u001b[0m \u001b[0;36m0\u001b[0m\u001b[0;34m:\u001b[0m\u001b[0;34m\u001b[0m\u001b[0m\n\u001b[1;32m    497\u001b[0m                 \u001b[0mtotalcount\u001b[0m\u001b[0;34m[\u001b[0m\u001b[0matoms\u001b[0m\u001b[0;34m]\u001b[0m \u001b[0;34m+=\u001b[0m \u001b[0mcount\u001b[0m\u001b[0;34m\u001b[0m\u001b[0m\n",
      "\u001b[0;32m/usr/local/lib/python2.7/site-packages/Morfessor-2.0.2a3-py2.7.egg/morfessor/io.pyc\u001b[0m in \u001b[0;36mread_corpus_file\u001b[0;34m(self, file_name)\u001b[0m\n\u001b[1;32m    110\u001b[0m         \"\"\"\n\u001b[1;32m    111\u001b[0m         \u001b[0m_logger\u001b[0m\u001b[0;34m.\u001b[0m\u001b[0minfo\u001b[0m\u001b[0;34m(\u001b[0m\u001b[0;34m\"Reading corpus from '%s'...\"\u001b[0m \u001b[0;34m%\u001b[0m \u001b[0mfile_name\u001b[0m\u001b[0;34m)\u001b[0m\u001b[0;34m\u001b[0m\u001b[0m\n\u001b[0;32m--> 112\u001b[0;31m         \u001b[0;32mfor\u001b[0m \u001b[0mline\u001b[0m \u001b[0;32min\u001b[0m \u001b[0mself\u001b[0m\u001b[0;34m.\u001b[0m\u001b[0m_read_text_file\u001b[0m\u001b[0;34m(\u001b[0m\u001b[0mfile_name\u001b[0m\u001b[0;34m,\u001b[0m \u001b[0mraw\u001b[0m\u001b[0;34m=\u001b[0m\u001b[0mTrue\u001b[0m\u001b[0;34m)\u001b[0m\u001b[0;34m:\u001b[0m\u001b[0;34m\u001b[0m\u001b[0m\n\u001b[0m\u001b[1;32m    113\u001b[0m             \u001b[0;32mfor\u001b[0m \u001b[0mcompound\u001b[0m \u001b[0;32min\u001b[0m \u001b[0mself\u001b[0m\u001b[0;34m.\u001b[0m\u001b[0mcompound_sep_re\u001b[0m\u001b[0;34m.\u001b[0m\u001b[0msplit\u001b[0m\u001b[0;34m(\u001b[0m\u001b[0mline\u001b[0m\u001b[0;34m)\u001b[0m\u001b[0;34m:\u001b[0m\u001b[0;34m\u001b[0m\u001b[0m\n\u001b[1;32m    114\u001b[0m                 \u001b[0;32mif\u001b[0m \u001b[0mlen\u001b[0m\u001b[0;34m(\u001b[0m\u001b[0mcompound\u001b[0m\u001b[0;34m)\u001b[0m \u001b[0;34m>\u001b[0m \u001b[0;36m0\u001b[0m\u001b[0;34m:\u001b[0m\u001b[0;34m\u001b[0m\u001b[0m\n",
      "\u001b[0;32m/usr/local/lib/python2.7/site-packages/Morfessor-2.0.2a3-py2.7.egg/morfessor/io.pyc\u001b[0m in \u001b[0;36m_read_text_file\u001b[0;34m(self, file_name, raw)\u001b[0m\n\u001b[1;32m    318\u001b[0m \u001b[0;34m\u001b[0m\u001b[0m\n\u001b[1;32m    319\u001b[0m         \"\"\"\n\u001b[0;32m--> 320\u001b[0;31m         \u001b[0minp\u001b[0m \u001b[0;34m=\u001b[0m \u001b[0mself\u001b[0m\u001b[0;34m.\u001b[0m\u001b[0m_open_text_file_read\u001b[0m\u001b[0;34m(\u001b[0m\u001b[0mfile_name\u001b[0m\u001b[0;34m)\u001b[0m\u001b[0;34m\u001b[0m\u001b[0m\n\u001b[0m\u001b[1;32m    321\u001b[0m         \u001b[0;32mtry\u001b[0m\u001b[0;34m:\u001b[0m\u001b[0;34m\u001b[0m\u001b[0m\n\u001b[1;32m    322\u001b[0m             \u001b[0;32mfor\u001b[0m \u001b[0mline\u001b[0m \u001b[0;32min\u001b[0m \u001b[0minp\u001b[0m\u001b[0;34m:\u001b[0m\u001b[0;34m\u001b[0m\u001b[0m\n",
      "\u001b[0;32m/usr/local/lib/python2.7/site-packages/Morfessor-2.0.2a3-py2.7.egg/morfessor/io.pyc\u001b[0m in \u001b[0;36m_open_text_file_read\u001b[0;34m(self, file_name)\u001b[0m\n\u001b[1;32m    308\u001b[0m             \u001b[0;32mif\u001b[0m \u001b[0mself\u001b[0m\u001b[0;34m.\u001b[0m\u001b[0mencoding\u001b[0m \u001b[0;32mis\u001b[0m \u001b[0mNone\u001b[0m\u001b[0;34m:\u001b[0m\u001b[0;34m\u001b[0m\u001b[0m\n\u001b[1;32m    309\u001b[0m                 \u001b[0;31m# Try to determine encoding if not set so far\u001b[0m\u001b[0;34m\u001b[0m\u001b[0;34m\u001b[0m\u001b[0m\n\u001b[0;32m--> 310\u001b[0;31m                 \u001b[0mself\u001b[0m\u001b[0;34m.\u001b[0m\u001b[0mencoding\u001b[0m \u001b[0;34m=\u001b[0m \u001b[0mself\u001b[0m\u001b[0;34m.\u001b[0m\u001b[0m_find_encoding\u001b[0m\u001b[0;34m(\u001b[0m\u001b[0mfile_name\u001b[0m\u001b[0;34m)\u001b[0m\u001b[0;34m\u001b[0m\u001b[0m\n\u001b[0m\u001b[1;32m    311\u001b[0m             \u001b[0minp\u001b[0m \u001b[0;34m=\u001b[0m \u001b[0mcodecs\u001b[0m\u001b[0;34m.\u001b[0m\u001b[0mgetreader\u001b[0m\u001b[0;34m(\u001b[0m\u001b[0mself\u001b[0m\u001b[0;34m.\u001b[0m\u001b[0mencoding\u001b[0m\u001b[0;34m)\u001b[0m\u001b[0;34m(\u001b[0m\u001b[0mfile_obj\u001b[0m\u001b[0;34m)\u001b[0m\u001b[0;34m\u001b[0m\u001b[0m\n\u001b[1;32m    312\u001b[0m         \u001b[0;32mreturn\u001b[0m \u001b[0minp\u001b[0m\u001b[0;34m\u001b[0m\u001b[0m\n",
      "\u001b[0;32m/usr/local/lib/python2.7/site-packages/Morfessor-2.0.2a3-py2.7.egg/morfessor/io.pyc\u001b[0m in \u001b[0;36m_find_encoding\u001b[0;34m(self, *files)\u001b[0m\n\u001b[1;32m    357\u001b[0m                         \u001b[0mfile_obj\u001b[0m \u001b[0;34m=\u001b[0m \u001b[0mopen\u001b[0m\u001b[0;34m(\u001b[0m\u001b[0mf\u001b[0m\u001b[0;34m,\u001b[0m \u001b[0;34m'rb'\u001b[0m\u001b[0;34m)\u001b[0m\u001b[0;34m\u001b[0m\u001b[0m\n\u001b[1;32m    358\u001b[0m \u001b[0;34m\u001b[0m\u001b[0m\n\u001b[0;32m--> 359\u001b[0;31m                     \u001b[0;32mfor\u001b[0m \u001b[0m_\u001b[0m \u001b[0;32min\u001b[0m \u001b[0mcodecs\u001b[0m\u001b[0;34m.\u001b[0m\u001b[0mgetreader\u001b[0m\u001b[0;34m(\u001b[0m\u001b[0mencoding\u001b[0m\u001b[0;34m)\u001b[0m\u001b[0;34m(\u001b[0m\u001b[0mfile_obj\u001b[0m\u001b[0;34m)\u001b[0m\u001b[0;34m:\u001b[0m\u001b[0;34m\u001b[0m\u001b[0m\n\u001b[0m\u001b[1;32m    360\u001b[0m                         \u001b[0;32mpass\u001b[0m\u001b[0;34m\u001b[0m\u001b[0m\n\u001b[1;32m    361\u001b[0m                 \u001b[0;32mexcept\u001b[0m \u001b[0mUnicodeDecodeError\u001b[0m\u001b[0;34m:\u001b[0m\u001b[0;34m\u001b[0m\u001b[0m\n",
      "\u001b[0;32m/usr/local/Cellar/python/2.7.10_2/Frameworks/Python.framework/Versions/2.7/lib/python2.7/codecs.pyc\u001b[0m in \u001b[0;36mnext\u001b[0;34m(self)\u001b[0m\n\u001b[1;32m    616\u001b[0m \u001b[0;34m\u001b[0m\u001b[0m\n\u001b[1;32m    617\u001b[0m         \u001b[0;34m\"\"\" Return the next decoded line from the input stream.\"\"\"\u001b[0m\u001b[0;34m\u001b[0m\u001b[0m\n\u001b[0;32m--> 618\u001b[0;31m         \u001b[0mline\u001b[0m \u001b[0;34m=\u001b[0m \u001b[0mself\u001b[0m\u001b[0;34m.\u001b[0m\u001b[0mreadline\u001b[0m\u001b[0;34m(\u001b[0m\u001b[0;34m)\u001b[0m\u001b[0;34m\u001b[0m\u001b[0m\n\u001b[0m\u001b[1;32m    619\u001b[0m         \u001b[0;32mif\u001b[0m \u001b[0mline\u001b[0m\u001b[0;34m:\u001b[0m\u001b[0;34m\u001b[0m\u001b[0m\n\u001b[1;32m    620\u001b[0m             \u001b[0;32mreturn\u001b[0m \u001b[0mline\u001b[0m\u001b[0;34m\u001b[0m\u001b[0m\n",
      "\u001b[0;32m/usr/local/Cellar/python/2.7.10_2/Frameworks/Python.framework/Versions/2.7/lib/python2.7/codecs.pyc\u001b[0m in \u001b[0;36mreadline\u001b[0;34m(self, size, keepends)\u001b[0m\n\u001b[1;32m    539\u001b[0m                     \u001b[0mdata\u001b[0m \u001b[0;34m+=\u001b[0m \u001b[0mself\u001b[0m\u001b[0;34m.\u001b[0m\u001b[0mread\u001b[0m\u001b[0;34m(\u001b[0m\u001b[0msize\u001b[0m\u001b[0;34m=\u001b[0m\u001b[0;36m1\u001b[0m\u001b[0;34m,\u001b[0m \u001b[0mchars\u001b[0m\u001b[0;34m=\u001b[0m\u001b[0;36m1\u001b[0m\u001b[0;34m)\u001b[0m\u001b[0;34m\u001b[0m\u001b[0m\n\u001b[1;32m    540\u001b[0m \u001b[0;34m\u001b[0m\u001b[0m\n\u001b[0;32m--> 541\u001b[0;31m             \u001b[0mline\u001b[0m \u001b[0;34m+=\u001b[0m \u001b[0mdata\u001b[0m\u001b[0;34m\u001b[0m\u001b[0m\n\u001b[0m\u001b[1;32m    542\u001b[0m             \u001b[0mlines\u001b[0m \u001b[0;34m=\u001b[0m \u001b[0mline\u001b[0m\u001b[0;34m.\u001b[0m\u001b[0msplitlines\u001b[0m\u001b[0;34m(\u001b[0m\u001b[0mTrue\u001b[0m\u001b[0;34m)\u001b[0m\u001b[0;34m\u001b[0m\u001b[0m\n\u001b[1;32m    543\u001b[0m             \u001b[0;32mif\u001b[0m \u001b[0mlines\u001b[0m\u001b[0;34m:\u001b[0m\u001b[0;34m\u001b[0m\u001b[0m\n",
      "\u001b[0;31mKeyboardInterrupt\u001b[0m: "
     ]
    }
   ],
   "source": [
    "import morfessor\n",
    "io = morfessor.MorfessorIO()\n",
    "train_data = io.read_corpus_file('projectnames.txt')\n",
    "model_tokens = morfessor.BaselineModel()\n",
    "model_tokens.load_data(train_data)\n",
    "model_tokens.train_batch()"
   ]
  },
  {
   "cell_type": "code",
   "execution_count": 30,
   "metadata": {
    "collapsed": false
   },
   "outputs": [
    {
     "name": "stdout",
     "output_type": "stream",
     "text": [
      "Loaded set of 484526 project names\n"
     ]
    }
   ],
   "source": [
    "from collections import Counter\n",
    "\n",
    "pnames = Counter(open('projectnames.txt').read().split())\n",
    "print 'Loaded set of', len(pnames), 'project names'"
   ]
  },
  {
   "cell_type": "code",
   "execution_count": 5,
   "metadata": {
    "collapsed": false
   },
   "outputs": [],
   "source": [
    "segpnames = [model_tokens.viterbi_segment(word) for word in pnames]"
   ]
  },
  {
   "cell_type": "code",
   "execution_count": 6,
   "metadata": {
    "collapsed": false
   },
   "outputs": [
    {
     "name": "stdout",
     "output_type": "stream",
     "text": [
      "['Phone', 'AccessLab'] ['BtCarEmuLab'] ['BN103096', 'Voice', 'Dict'] ['BN103096', 'Mole'] ['BN103096', 'L', 'AP', '01'] ['BN103096', 'Lab', '03', '05'] ['BtOX', 'Game', 'Lab', 'V1'] ['Screen', '4'] ['BN103', '09', '7', 'EX05', '07', '02'] ['BN103096', 'T2', 'S'] ['BN103096', '1'] ['BN103', '2', '99', 'Lab', '03', '05'] ['Block', '_', 'Lab', '00'] ['BN103096'] ['BN103096', 'OddEven'] ['BN103096', 'ST', 'ER'] ['BN103096', 'AA', '01'] ['BN103096', 'Sensor', '1'] ['BN103', '02', 'MD', '01'] ['BN103096', 'EX05', '07', '02'] ['BN103', '02', 'MD', '03'] ['WebViewer', 'Lab'] ['Lotto', '1111', 'Lab'] ['BN103096', 'Ex040901', '09', '02'] ['Web', 'AccessLab'] ['BN103', '2', '99', 'Roll', 'er', '2'] ['MusicPlayer', '2', 'Lab'] ['BN103096', 'BN103', '100'] ['Bluetooth', 'Lab1'] ['BN103096', 'Click'] ['BN103096', 'Demo', '01'] ['Lab', '00'] ['BN103096', 'Ex05', '07', '01'] ['BN103096', 'game', 'ox'] ['bn103096', 'clock'] ['BN103096', '_', 'MusicPlayer', 'Lab'] ['BN103096', 'Ex05', '07', '02'] ['BtCarCtrlLab0'] ['BN103096', 'Taichung', 'Tour'] ['BN103', '2', 'xx', 'MD', '02'] ['BN103096', 'Ex', '04', '16', '01'] ['bn103096', 'Clock'] ['Vote'] ['BN103096', 'Ex040901'] ['BN103096', 'Roll', 'er'] ['MusicPlayer', 'Json', 'Lab'] ['BN103096', 'MoleMash', 'Lab'] ['aaaa'] ['ex_Camera_s'] ['G105', '_05', '_For']\n"
     ]
    }
   ],
   "source": [
    "for segpname, _ in segpnames[:50]:\n",
    "    print segpname,"
   ]
  },
  {
   "cell_type": "markdown",
   "metadata": {},
   "source": [
    "Does this give anything reasonable? Remains to be explored. Might need some parameter tweaking.\n",
    "\n",
    "### Clustering\n",
    "\n",
    "Cluster the project names using edit distance."
   ]
  },
  {
   "cell_type": "code",
   "execution_count": 31,
   "metadata": {
    "collapsed": false
   },
   "outputs": [
    {
     "name": "stdout",
     "output_type": "stream",
     "text": [
      ". . . . . . . . . . . . . . . . . . . . . . . . . . . . . . . . . . . . . . . . . . . . . . . . . . Computed pairwise edit distances\n"
     ]
    }
   ],
   "source": [
    "import leven\n",
    "from sklearn.cluster import AffinityPropagation\n",
    "import numpy as np\n",
    "\n",
    "pnames_subset = [pname for pname, _ in pnames.most_common(5000)]\n",
    "\n",
    "lev_aff = np.zeros((len(pnames_subset), len(pnames_subset)))\n",
    "for i, pnamei in enumerate(pnames_subset):\n",
    "    if i%100==0:\n",
    "        print '.',\n",
    "    for j, pnamej in enumerate(pnames_subset):\n",
    "        if j>i:\n",
    "            lev_aff[i, j] = -1*leven.levenshtein(pnamei, pnamej)\n",
    "        elif j==i:\n",
    "            lev_aff[i, j] = 0\n",
    "        else:\n",
    "            lev_aff[i, j] = lev_aff[j, i]\n",
    "print 'Computed pairwise edit distances'"
   ]
  },
  {
   "cell_type": "code",
   "execution_count": 32,
   "metadata": {
    "collapsed": false
   },
   "outputs": [
    {
     "name": "stdout",
     "output_type": "stream",
     "text": [
      "Fit affinity propagator\n"
     ]
    }
   ],
   "source": [
    "model = AffinityPropagation(affinity=\"precomputed\")\n",
    "model.fit(lev_aff)\n",
    "print 'Fit affinity propagator'"
   ]
  },
  {
   "cell_type": "code",
   "execution_count": 34,
   "metadata": {
    "collapsed": false
   },
   "outputs": [
    {
     "name": "stdout",
     "output_type": "stream",
     "text": [
      "Canvas ['Canvas', 'canvas', 'CanvasDraw', 'CanvasClock', 'CanvasFlung', 'canvas2', 'canvas1', 'lanzado', 'Carlos', 'Canvas2', 'Canvas1']\n",
      "Soundboard ['Soundboard', 'SoundBoard', 'soundboard', 'MLGsoundboard', 'download', 'SoundboardApp', 'SoundBoardApp']\n",
      "takepicturetest ['takepicturetest']\n",
      "ActivityStarter ['ActivityStarter', 'activitystarter']\n",
      "Texting ['Texting', 'texting', 'testing', 'NoTexting', 'Testing', 'TextDialog', 'Snelling', 'notexting', 'TextingApp', 'fertig']\n",
      "four ['for', 'Tour', 'tour', 'Your', 'four', 'your', 'Touch', 'Group', 'You', 'fourth']\n",
      "Notetaker ['NoteTaker', 'QRCodeMaker', 'notetaker', 'Notetaker']\n",
      "luckyvassuBMICalculator ['luckyvassuBMICalculator']\n",
      "ShowAlert ['ShowAlert', 'showalert']\n",
      "CoinFlipMediaOnly ['PaintPotMediaOnly', 'CoinFlipMediaOnly']\n",
      "PaintPotExtended ['PaintPotExtended']\n",
      "Trivia ['adivina', 'driving', 'Trivia', 'Adivina', 'trivia', 'TriviaQuiz']\n",
      "mediaboard ['MediaBoard', 'clipboard', 'mediaboard']\n",
      "UniversalScreenSize ['UniversalScreenSize']\n",
      "ver ['For', 'Kerr', 'ver2', 'var', 'Wed', 'per', 'Ver', 'ver1', 'veu', 'term', 'Meu', 'ver', 'Ver2', 'meu']\n",
      "JoesAutomotive ['JoesAutomotive']\n",
      "TimeSwitch ['TimeSwitch', 'OnOffSwitch']\n",
      "WorkshopSelector ['WorkshopSelector']\n",
      "ShooterGame ['ShooterGame', 'ShootingGame', 'shootergame', 'LotteryGame']\n",
      "SlideControlLED ['SlideControlLED']\n",
      "Procedure ['Procedure', 'procedure', 'Procedures', 'ProcedureAdd', 'procedures', 'ProcedureResults', 'Precedence', 'ProcedNoReturn', 'procedureadd', 'procedure2']\n",
      "CoinFlipExperiment ['CoinFlipExperiment', 'ClassifyExperiment']\n",
      "Day ['easy', 'play', 'fly', 'day', 'Day1', 'Day', 'Day2', 'Delay', 'Lady', 'Delay2', 'Dean', 'say', 'yyy', 'DOS', 'Say', 'Day3', 'Baby', 'DayOfWeek', 'day2', 'Diary', 'Dado', 'Day7']\n",
      "p2 ['2', 'v2', 'V2', '22', 'P2', 'F2C', 'p', 'p2', 'p6', 'Q2', 'L2', 'A2', 'p121', 'C2', 'p59', 'p62', '32', '42', 'php', 't2', 'p8', 'w2', 'f2', 'p22', 'p129', 'jjj', 's2', 'p21', 'p25', 'D2', 'p20', 'pj', 'p42', 'p24', 'p29', 'pj2', 'U2', 'p27', 'c2', 'C2F', 'pr2', 'A22', 'p26', 'p20B', 'p28', 'q2', 'N2', 'H2', 'p40', 'esp8266', 'S2', 'gps2', 'm2', 'p6B', '52']\n",
      "ch4p1 ['ch5p1', 'ch4p1', 'ch4p2', 'ch3p4', 'ch3p1', 'ch4p3', 'cs451', 'ch3p3']\n",
      "SpeechRecognizer ['SpeechRecognizer', 'SpeechRecognize', 'speechrecognizer']\n",
      "myself ['mysql', 'myself', 'Myself']\n",
      "WeightLifting ['WeightLifting']\n",
      "HappyNewYear ['HappyNewYear']\n",
      "AndroidMashStarter ['AndroidMashStarter', 'AndroidMashStarter2', 'AndroidMashStarter1']\n"
     ]
    }
   ],
   "source": [
    "from collections import defaultdict\n",
    "exemplars = defaultdict(list)\n",
    "for i, clustid in enumerate(model.labels_):\n",
    "    exem = model.cluster_centers_indices_[clustid]\n",
    "    exemplars[pnames_subset[exem]].append(pnames_subset[i])\n",
    "    \n",
    "# look at a sample\n",
    "for exem in exemplars.keys()[:30]:\n",
    "    print exem, exemplars[exem]"
   ]
  },
  {
   "cell_type": "markdown",
   "metadata": {},
   "source": [
    "Unclear whether these clusters are meaningful, BUT we can very that later by looking at the code.\n",
    "\n",
    "## Language Identification from Variable Names\n",
    "\n",
    "Predict the native language of a user from their variable names and strings."
   ]
  },
  {
   "cell_type": "code",
   "execution_count": 12,
   "metadata": {
    "collapsed": false
   },
   "outputs": [
    {
     "name": "stdout",
     "output_type": "stream",
     "text": [
      ". . . . . . . . . . . . . . . . . . . . . . . . . . . . . . . . . . . . . . . . . . . . . . . . . . . . . . . . . . . . . . . . . . . . . . . . . . . . . . . . . . . . . . . . . . . . . . . . . . . . . . . . . . . . . . . . . . . . . . . . . . . . . . . . . . . . . . . . . . . . . . . . . . . . . . . . . . . . . . . . . . . . . . . . . . . . . . . . . . . . . . . . . . . . . . . . . . . . . . . . . . . . . . . . . . . . . . . . . . . . . . . . . . . . . . . . . . . . . . . . . . . . . . . . . . . . . . . . . . . . . . . . . . . . . . . . . . . . . . . . . . . . . . . . . . . . . . . . . . . . . . . . . . . . . . . . . . . . . . . . . . . . . . . . . . . . . . . . . . . . . . . . . . . . . . . . . . . . . . . . . . . . . . . . . . . . . . . . . . . . . . . . . . . . . . . . . . . . . . . . . . . . . . . . . . . . . . . . . . . . . . . . . . . . . . . . . . . . . . . . . . . . . . . . . . . . . . . . . . . . . . .\n"
     ]
    }
   ],
   "source": [
    "import langid\n",
    "from collections import defaultdict\n",
    "\n",
    "user_tokens = defaultdict(list)\n",
    "for i, userid in enumerate(summaries):\n",
    "    if (i+1)%100==0:\n",
    "        print '.',\n",
    "    if (i+1)%5000==0:\n",
    "        print i+1\n",
    "    for projectid in summaries[userid]:\n",
    "        numscreens = summaries[userid][projectid]['*Number of Screens']\n",
    "        for screenid in range(numscreens):\n",
    "            screentitle = 'Screen'+str(screenid+1)\n",
    "            if screentitle in summaries[userid][projectid]:\n",
    "                # blocks\n",
    "                if summaries[userid][projectid][screentitle]['Blocks']=='NO BLOCKS':\n",
    "                    continue\n",
    "                blocks = summaries[userid][projectid][screentitle]['Blocks']\n",
    "                if blocks == 'MALFORMED BKYFILE':\n",
    "                    continue\n",
    "                if blocks['Active Blocks']=='NO ACTIVE BLOCKS':\n",
    "                    continue\n",
    "                for namesp in ['Global Variable Names', 'Procedure Names', 'Procedure Parameter Names', 'Strings']:\n",
    "                    for vname in blocks['Active Blocks'][namesp]:\n",
    "                        user_tokens[userid].append(vname)\n",
    "                # components\n",
    "                if summaries[userid][projectid][screentitle]['Components']=='N':\n",
    "                    continue\n",
    "                for sname in summaries[userid][projectid][screentitle]['Components']['Strings']:\n",
    "                    user_tokens[userid].append(sname)\n",
    "            "
   ]
  },
  {
   "cell_type": "code",
   "execution_count": 14,
   "metadata": {
    "collapsed": false
   },
   "outputs": [
    {
     "name": "stdout",
     "output_type": "stream",
     "text": [
      " . * . * * * . * * . * * . * * * . * . * . * * . * * . * * . . * * * . . * . * * . * * * . * * . * . * * . * * . * * . * . * * * . . * * . * * * . . * . * * * . * * . * * * . * . * * . . * . * * * . . . . * * * * * * * . * * * . * * . . * . * * * * . * . . * * . * * . 5000\n",
      "* * . * . * * . * * * * . * * . * * * . * * * * . * * * . * . * * . * * * * . * * . * . . * * . . * * . * . . * . * * * . * * . * * * * . * . * * . * . * * * . * . * . . * . . * . * * * . * * . * . . . * * * * . * * . * . * . * * . * * . * * . * * * . * * . * * * * * . * . * * . 10000\n",
      "* . * . . . . * . * * . . * . * . . * . * . . * * * . * . * * . * * . * . . * * * . * . * * . * * . . * . . * * . * . * * . * * * * * * . * * . * * . * . * * . . * . * . * * * . * * . * * * * * . . * * * * . . * . * * * . * * . . * * * . . 15000\n",
      ". * * * * . . * . . * . . * . * . . . . * . . * * * . * * * . * * . * . . . * . * * * . * * * . * . * . * * * . . * * . . * * . * * . * * * . * . * . . . * * * . * * . * . * . . * * * . . * * . * . * . * * . . . . 20000\n",
      ". * . * * * . * * * . . . * * . * . * * . * . * * * * . * . * . * . * * . * * * . * * . * . * * * . . * . * * * * . * * . * * * . * * . * * * . * . . . * . * . * . . * . * * * . * * . * . * * . * . * * . * . * . * * * . . * . * . * * . * * * . * * . * . 25000\n",
      "* * . * * . * . * * . * * * . * . * * * . * . * . . * * . * * . * * . * . * * * . . * * * * * . * * . * * * * . * . * . * . * * . * * . * * . * * * * . * . * * * . * * * . * . * * . * * . . . * * * * . * * . * . . . * * . * . * . * . * . * . * * . . * * * . * . * * * * . 30000\n",
      "* * . * . * * . * . . * * * . * . * * . * . * * . . * * * * . * . * * * . * * * * * . * . * * * . . * * * * . * . * . * . * * . * * * * . * . * * . * * . * * . * . . * . * . * * . * . * * . * * * . * . * * . * . * . . * . * . * . . * * . * * . * . * * . . 35000\n",
      ". * . * . * . * . * . . * * * * . * * . * * . . * . * . . . * * * . * * * . * * . . * * . * * . * . * . . . . * . . * . * . * * * . * * * * . * * . * . * . * . * . * * . . . . * * * . * * . * * . * * . * * * . * . * * . . * * . 40000\n",
      "* * * . * * * . * . * * * . * * * . * . * . * . * . * . * . * . * . * . * . * * * * . * . * . . * * * . * * . * * . * . . * * . * * * * * . . * . * * . . * * . * * . * . * . . * * . * . . * * . * * . * . * . . * * . * * * . * . * . * * * * * * . . * . 45000\n",
      ". * * . * . * . * . * * . * . . * . * . * .\n"
     ]
    }
   ],
   "source": [
    "from collections import defaultdict, Counter\n",
    "\n",
    "user_langs = defaultdict(lambda : defaultdict(float))\n",
    "for i, userid in enumerate(user_tokens):\n",
    "    if (i+1)%100==0:\n",
    "        print '.',\n",
    "    if (i+1)%5000==0:\n",
    "        print i+1\n",
    "        \n",
    "    if len(user_tokens[userid])<50:\n",
    "        print '*',\n",
    "        continue\n",
    "    user_langs[userid] = langid.classify(' '.join(user_tokens[userid]))[0]\n",
    "\n",
    "with open('user_inferredlangs.json', 'w') as o:\n",
    "    ujson.dump(user_langs, o)"
   ]
  },
  {
   "cell_type": "code",
   "execution_count": 22,
   "metadata": {
    "collapsed": false
   },
   "outputs": [
    {
     "name": "stdout",
     "output_type": "stream",
     "text": [
      "45505 total users\n"
     ]
    },
    {
     "data": {
      "image/png": "[encoded data removed]",
      "text/plain": [
       "<matplotlib.figure.Figure at 0x4ae2af410>"
      ]
     },
     "metadata": {},
     "output_type": "display_data"
    }
   ],
   "source": [
    "iso = ujson.load(open('isocodes.json'))\n",
    "\n",
    "langcounts = Counter(user_langs.values())\n",
    "print sum(langcounts.values()), 'total users'\n",
    "\n",
    "import matplotlib\n",
    "import matplotlib.pyplot as plt\n",
    "%matplotlib inline  \n",
    "matplotlib.rcParams['figure.figsize'] = (16, 6)\n",
    "\n",
    "common_langcounts_keys, common_langcounts_values = zip(*langcounts.most_common(20))\n",
    "common_langcounts_keys = [iso[code] for code in common_langcounts_keys]\n",
    "\n",
    "plt.bar(range(len(common_langcounts_keys)), common_langcounts_values)\n",
    "x = plt.xticks(range(len(common_langcounts_keys)), common_langcounts_keys)"
   ]
  },
  {
   "cell_type": "markdown",
   "metadata": {
    "collapsed": true
   },
   "source": [
    "The \"Latin\" users are suspicious. Needs further investigation."
   ]
  },
  {
   "cell_type": "code",
   "execution_count": null,
   "metadata": {
    "collapsed": true
   },
   "outputs": [],
   "source": []
  }
 ],
 "metadata": {
  "kernelspec": {
   "display_name": "Python [ipykernel_py2]",
   "language": "python",
   "name": "Python [ipykernel_py2]"
  },
  "language_info": {
   "codemirror_mode": {
    "name": "ipython",
    "version": 2
   },
   "file_extension": ".py",
   "mimetype": "text/x-python",
   "name": "python",
   "nbconvert_exporter": "python",
   "pygments_lexer": "ipython2",
   "version": "2.7.12"
  }
 },
 "nbformat": 4,
 "nbformat_minor": 0
}
