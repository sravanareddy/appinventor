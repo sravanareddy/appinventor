{
 "cells": [
  {
   "cell_type": "code",
   "execution_count": 1,
   "metadata": {
    "collapsed": false
   },
   "outputs": [],
   "source": [
    "import ujson\n",
    "import numpy \n",
    "import datetime"
   ]
  },
  {
   "cell_type": "markdown",
   "metadata": {},
   "source": [
    "# Load Data"
   ]
  },
  {
   "cell_type": "code",
   "execution_count": 2,
   "metadata": {
    "collapsed": false
   },
   "outputs": [
    {
     "name": "stdout",
     "output_type": "stream",
     "text": [
      "0 1 2 3 4 5 6 7 8 9 10 11 12 13 14 15 16 17 18 19 20 21 22 23 24 25 26 27 28 29 30 31 32 33 34 35 36 37 38 39 40 41 42 43 44 45 46\n"
     ]
    }
   ],
   "source": [
    "summaries = {}\n",
    "ctr = 0\n",
    "for line in open('user_project_summaries.json'): # lazy iteration because the file is large\n",
    "    print ctr,\n",
    "    ctr+=1\n",
    "    summaries.update(ujson.loads(line))\n"
   ]
  },
  {
   "cell_type": "markdown",
   "metadata": {},
   "source": [
    "## Language\n",
    "\n",
    "Create Language Data Set and Initialize Language Codes"
   ]
  },
  {
   "cell_type": "code",
   "execution_count": 3,
   "metadata": {
    "collapsed": false
   },
   "outputs": [
    {
     "name": "stdout",
     "output_type": "stream",
     "text": [
      "lang data created with 40875 users and 6 languages\n"
     ]
    }
   ],
   "source": [
    "'''We are using all the data from the user from whom we we have previously \n",
    "classfied what their primary langauge is '''\n",
    "\n",
    "isocodes = ujson.load(open('isocodes.json'))  # mapping from  iso code to language name\n",
    "user_langs = ujson.load(open('user_inferredlangs.json'))  # mapping from userid to inferred language\n",
    "#remove Latin because it's not a reliable inference\n",
    "#TODO for later: get next-best language besides Latin in the inference function\n",
    "# remove uncommon languages\n",
    "lang_counts = {}\n",
    "for user in user_langs:\n",
    "    lang = user_langs[user]\n",
    "    lang_counts[lang] = lang_counts.get(lang, 0) + 1\n",
    "        \n",
    "user_langs = {user: lang for user, lang in user_langs.items() if lang!='la' and lang_counts[lang]>=500}\n",
    "\n",
    "langset = sorted(list(set(user_langs.values())))\n",
    "lang_num_map = {lang: i for i, lang in enumerate(langset)} #key is langauge isocode, value is number \n",
    "print 'lang data created with', len(user_langs), 'users and', len(langset), 'languages'"
   ]
  },
  {
   "cell_type": "markdown",
   "metadata": {},
   "source": [
    "## Time"
   ]
  },
  {
   "cell_type": "code",
   "execution_count": 4,
   "metadata": {
    "collapsed": false
   },
   "outputs": [],
   "source": [
    "# time utilities\n",
    "def convert_time(el):\n",
    "    \"\"\"Human readable time\"\"\"\n",
    "    el = int(str(el)[:10])\n",
    "    return datetime.date.fromtimestamp(el)\n",
    "\n",
    "def timediff(t1, t2):\n",
    "    \"\"\"difference between times (millisec precision) as days\"\"\"\n",
    "    return (t1-t2)/(86400.*1000)"
   ]
  },
  {
   "cell_type": "code",
   "execution_count": 5,
   "metadata": {
    "collapsed": false
   },
   "outputs": [
    {
     "name": "stdout",
     "output_type": "stream",
     "text": [
      "1 2 3 4 5 6 7 8 9 10 11 12 13 14 15 16 17 18 19 20 21 22 23 24 25 26 27 28 29 30 31 32 33 34 35 36 37 38 39 40 41 42 43 44 45 46\n",
      "Earliest: 2013-03-27\n",
      "Latest: 2016-03-10\n",
      "1 2 3 4 5 6 7 8 9 10 11 12 13 14 15 16 17 18 19 20 21 22 23 24 25 26 27 28 29 30 31 32 33 34 35 36 37 38 39 40 41 42 43 44 45 46 00999 has no projects\n",
      "\n",
      "Filtered to 25346 users from 46320\n"
     ]
    }
   ],
   "source": [
    "earliest = 1e100\n",
    "latest = 0\n",
    "\n",
    "ctr = 0\n",
    "for user in summaries:\n",
    "    for project in summaries[user]:\n",
    "        ctime = summaries[user][project][\"**created\"]\n",
    "        if ctime < earliest:\n",
    "            earliest = ctime\n",
    "        if ctime > latest:\n",
    "            latest = ctime\n",
    "            \n",
    "    ctr+=1\n",
    "    if ctr%1000==0:\n",
    "        print ctr/1000,\n",
    "            \n",
    "print\n",
    "print 'Earliest:', convert_time(earliest) \n",
    "print 'Latest:', convert_time(latest)\n",
    "MAXDUR = 300\n",
    "MINDUR = 150\n",
    "# get subset of data from \"old\" users whose earliest creation date is more than MAXDUR days before the end of the dataset\n",
    "# (giving them a good chance to stay on for more than MINDUR days),\n",
    "# AND have activity within MAXDUR days if they are active beyond MINDUR (to be fair to recent users)\n",
    "\n",
    "old_users = set() \n",
    "\n",
    "ctr = 0\n",
    "for user in summaries:\n",
    "    ctimes = [project[\"**created\"] for project in summaries[user].values()]\n",
    "    if ctimes==[]:\n",
    "        print user, 'has no projects'\n",
    "        continue\n",
    "    start_time = min(ctimes)\n",
    "    if timediff(latest, start_time)>MAXDUR:  # first restrict to old users\n",
    "        # creation times since start date of user\n",
    "        ctimes_from_start = [timediff(project[\"**created\"], start_time) for project in summaries[user].values()]  \n",
    "        # projects created at least MINDUR days after start\n",
    "        post_mindur = [ctime for ctime in ctimes_from_start if ctime>MINDUR]\n",
    "        # consider users who either were not active after MINDUR days, or had activity between MINDUR and MAXDUR days\n",
    "        if post_mindur==[] or len(filter(lambda length: length<=MAXDUR, post_mindur))>0:\n",
    "            old_users.add(user)\n",
    "            \n",
    "    ctr+=1\n",
    "    if ctr%1000==0:\n",
    "        print ctr/1000,\n",
    "        \n",
    "print\n",
    "print 'Filtered to', len(old_users), 'users from', len(summaries)"
   ]
  },
  {
   "cell_type": "code",
   "execution_count": 151,
   "metadata": {
    "collapsed": true
   },
   "outputs": [],
   "source": [
    "def createKeywordDict(projects): \n",
    "    '''creates a dictionary of all of the classes a user used in their projects and how many times each class was used'''\n",
    "    numScreens = getScreenNames(projects)\n",
    "    keywordDict = {}\n",
    "    i = 0\n",
    "    while i < len(projects):\n",
    "        for screenName in numScreens[i]:\n",
    "            if screenName in projects[i].keys():\n",
    "                if  not isinstance(projects[i][screenName]['Components'], unicode):\n",
    "#                    if 'Number of Components' in projects[i][screenName]['Components'].keys():\n",
    "                    if not isinstance(projects[i][screenName]['Components']['Type and Frequency'],unicode):\n",
    "                        for key in projects[i][screenName]['Components']['Type and Frequency']:\n",
    "                            if key in keywordDict:\n",
    "                                keywordDict[key] = keywordDict[key] + projects[i][screenName]['Components']['Type and Frequency'][key]\n",
    "                            else: \n",
    "                                keywordDict[key] = projects[i][screenName]['Components']['Type and Frequency'][key]\n",
    "        i+=1\n",
    "    \n",
    "    return keywordDict "
   ]
  },
  {
   "cell_type": "code",
   "execution_count": null,
   "metadata": {
    "collapsed": true
   },
   "outputs": [],
   "source": []
  },
  {
   "cell_type": "code",
   "execution_count": 43,
   "metadata": {
    "collapsed": false
   },
   "outputs": [],
   "source": [
    "def projectKeywords(project): \n",
    "    '''the same as createKeywordDict, but for one project'''\n",
    "    keywordDict = {}\n",
    "\n",
    "    screenNames = [key for key in project.keys() if '*' not in key]\n",
    "    \n",
    "    for screenName in screenNames:\n",
    "        if screenName in project.keys():\n",
    "            if  not isinstance(project[screenName]['Components'], unicode):\n",
    "#                    if 'Number of Components' in projects[i][screenName]['Components'].keys():\n",
    "                if not isinstance(project[screenName]['Components']['Type and Frequency'],unicode):\n",
    "                    for key in project[screenName]['Components']['Type and Frequency']:\n",
    "                        if key in keywordDict:\n",
    "                            keywordDict[key] = keywordDict[key] + project[screenName]['Components']['Type and Frequency'][key]\n",
    "                        else: \n",
    "                            keywordDict[key] = project[screenName]['Components']['Type and Frequency'][key]\n",
    "    \n",
    "    return keywordDict "
   ]
  },
  {
   "cell_type": "code",
   "execution_count": 152,
   "metadata": {
    "collapsed": false
   },
   "outputs": [
    {
     "name": "stdout",
     "output_type": "stream",
     "text": [
      "{u'Sound': 2, u'HorizontalArrangement': 24, u'Canvas': 3, u'TextToSpeech': 1, u'AccelerometerSensor': 1, u'VerticalArrangement': 3, u'Button': 5, u'Clock': 2, u'TinyDB': 3, u'WebViewer': 1, u'Label': 17, u'Spinner': 1, u'Slider': 1, u'Camera': 1, u'TableArrangement': 2, u'ListView': 1, u'Image': 7, u'Notifier': 1, u'TextBox': 3}\n"
     ]
    }
   ],
   "source": [
    "# for user in first_ten[0:1]: \n",
    "#     projects= getProjects(user, \"LANGUAGE\")\n",
    "#     print createKeywordDict(projects)"
   ]
  },
  {
   "cell_type": "code",
   "execution_count": 234,
   "metadata": {
    "collapsed": true
   },
   "outputs": [],
   "source": [
    "def blockClassFrequency(projects): \n",
    "    '''a dictionary that contains the number of projects\n",
    "    a user used each class of blocks in that was used by the user at least once'''\n",
    "    freqDict = {} \n",
    "    numProjects = len(projects)\n",
    "    for project in projects: \n",
    "        projectDict = projectKeywords(project)\n",
    "        keys = projectDict.keys()\n",
    "        for key in keys: \n",
    "            if key not in freqDict.keys(): \n",
    "                freqDict[key] = 1\n",
    "            else: \n",
    "                freqDict[key] +=1\n",
    "    finalKeys = freqDict.keys() \n",
    "    for key in finalKeys: \n",
    "        freqDict[key] = float(freqDict[key])\n",
    "    return freqDict"
   ]
  },
  {
   "cell_type": "code",
   "execution_count": 237,
   "metadata": {
    "collapsed": false
   },
   "outputs": [
    {
     "name": "stdout",
     "output_type": "stream",
     "text": [
      "{u'Sound': 2.0, u'HorizontalArrangement': 12.0, u'Canvas': 3.0, u'TextToSpeech': 1.0, u'AccelerometerSensor': 1.0, u'VerticalArrangement': 3.0, u'Button': 5.0, u'Clock': 2.0, u'TinyDB': 2.0, u'WebViewer': 1.0, u'Label': 9.0, u'Spinner': 1.0, u'Slider': 1.0, u'Camera': 1.0, u'TableArrangement': 2.0, u'ListView': 1.0, u'Image': 4.0, u'Notifier': 1.0, u'TextBox': 2.0}\n",
      "{u'Sound': 12.0, u'HorizontalArrangement': 18.0, u'Canvas': 18.0, u'CheckBox': 1.0, u'TextToSpeech': 6.0, u'AccelerometerSensor': 1.0, u'VerticalArrangement': 2.0, u'Texting': 4.0, u'Button': 24.0, u'Clock': 13.0, u'TinyDB': 3.0, u'WebViewer': 3.0, u'Label': 24.0, u'Player': 5.0, u'Camera': 2.0, u'Slider': 1.0, u'TableArrangement': 7.0, u'LocationSensor': 3.0, u'Image': 3.0, u'Notifier': 1.0, u'TextBox': 4.0}\n",
      "{u'Sound': 4.0, u'VerticalArrangement': 1.0, u'Canvas': 7.0, u'ActivityStarter': 1.0, u'ListPicker': 1.0, u'AccelerometerSensor': 2.0, u'HorizontalArrangement': 6.0, u'SpeechRecognizer': 2.0, u'Button': 10.0, u'Clock': 1.0, u'WebViewer': 2.0, u'Label': 6.0, u'Player': 1.0, u'Camera': 2.0, u'ImagePicker': 2.0, u'VideoPlayer': 1.0, u'TableArrangement': 1.0, u'Image': 4.0, u'Notifier': 1.0, u'TextBox': 2.0}\n",
      "{u'Sound': 4.0, u'HorizontalArrangement': 12.0, u'Canvas': 7.0, u'Sharing': 2.0, u'TextToSpeech': 2.0, u'Clock': 4.0, u'Web': 1.0, u'Button': 12.0, u'ActivityStarter': 1.0, u'VerticalArrangement': 1.0, u'PhoneCall': 1.0, u'Label': 10.0, u'Camera': 3.0, u'TinyDB': 1.0, u'ContactPicker': 1.0, u'Image': 3.0, u'Notifier': 1.0, u'TextBox': 4.0}\n",
      "{u'Sound': 9.0, u'HorizontalArrangement': 13.0, u'Canvas': 9.0, u'CheckBox': 4.0, u'AccelerometerSensor': 7.0, u'VerticalArrangement': 2.0, u'Button': 12.0, u'Clock': 4.0, u'TinyDB': 1.0, u'WebViewer': 1.0, u'Label': 4.0, u'Player': 2.0, u'Camera': 4.0, u'Image': 1.0, u'TextBox': 1.0}\n",
      "{u'HorizontalArrangement': 1.0, u'Canvas': 4.0, u'TextToSpeech': 6.0, u'AccelerometerSensor': 4.0, u'VerticalArrangement': 3.0, u'Button': 16.0, u'Clock': 1.0, u'Label': 13.0, u'ListPicker': 1.0, u'Image': 1.0, u'TextBox': 14.0}\n",
      "{u'Sound': 1.0, u'HorizontalArrangement': 3.0, u'Canvas': 1.0, u'ListPicker': 5.0, u'Clock': 12.0, u'BluetoothServer': 9.0, u'Button': 8.0, u'ActivityStarter': 10.0, u'VerticalArrangement': 4.0, u'Label': 16.0, u'LocationSensor': 1.0, u'BluetoothClient': 17.0, u'TableArrangement': 11.0, u'TinyDB': 5.0, u'Notifier': 16.0, u'TextBox': 4.0}\n",
      "{u'Sound': 1.0, u'HorizontalArrangement': 8.0, u'Canvas': 5.0, u'CheckBox': 1.0, u'TextToSpeech': 4.0, u'VerticalArrangement': 5.0, u'SpeechRecognizer': 2.0, u'Image': 5.0, u'TinyDB': 4.0, u'ActivityStarter': 2.0, u'Texting': 3.0, u'LocationSensor': 3.0, u'Player': 3.0, u'Camera': 2.0, u'Clock': 1.0, u'ListPicker': 3.0, u'Label': 10.0, u'PhoneNumberPicker': 1.0, u'Button': 23.0, u'Notifier': 4.0, u'TextBox': 6.0}\n",
      "{u'TableArrangement': 1.0, u'VerticalArrangement': 3.0, u'Canvas': 5.0, u'Clock': 7.0, u'BluetoothServer': 1.0, u'ActivityStarter': 1.0, u'Texting': 1.0, u'Label': 14.0, u'Camera': 2.0, u'BluetoothClient': 1.0, u'LocationSensor': 2.0, u'HorizontalArrangement': 14.0, u'TextToSpeech': 3.0, u'OrientationSensor': 2.0, u'TinyDB': 2.0, u'FusiontablesControl': 2.0, u'Sound': 2.0, u'ListPicker': 3.0, u'SpeechRecognizer': 3.0, u'Button': 12.0, u'WebViewer': 3.0, u'BarcodeScanner': 1.0, u'Notifier': 4.0, u'TextBox': 5.0, u'AccelerometerSensor': 1.0, u'Image': 4.0, u'TinyWebDB': 2.0, u'Player': 1.0}\n",
      "{u'TableArrangement': 10.0, u'VerticalArrangement': 2.0, u'Canvas': 14.0, u'Web': 2.0, u'Clock': 11.0, u'ActivityStarter': 3.0, u'Texting': 1.0, u'Label': 17.0, u'Camera': 1.0, u'HorizontalArrangement': 36.0, u'TextToSpeech': 8.0, u'Button': 26.0, u'Sound': 3.0, u'ListPicker': 3.0, u'SpeechRecognizer': 4.0, u'TinyDB': 5.0, u'WebViewer': 2.0, u'BarcodeScanner': 2.0, u'Notifier': 17.0, u'TextBox': 6.0, u'AccelerometerSensor': 1.0, u'PhoneCall': 1.0, u'Player': 8.0, u'File': 1.0, u'YandexTranslate': 1.0}\n"
     ]
    }
   ],
   "source": [
    "for user in first_ten: \n",
    "    print blockClassFrequency(getProjects(user,\"LANGUAGE\"))"
   ]
  },
  {
   "cell_type": "code",
   "execution_count": 159,
   "metadata": {
    "collapsed": true
   },
   "outputs": [],
   "source": [
    "def projectFunctions(project):\n",
    "    '''returns how many times a user used a function a particular in a project'''\n",
    "    freqDict = {}\n",
    "    screenNames = [key for key in project.keys() if '*' not in key]\n",
    "    i = 0\n",
    "    while i < len(projects):\n",
    "        for screenName in screenNames:\n",
    "            if screenName in project.keys():\n",
    "                if  not isinstance(project[screenName]['Blocks'], unicode):\n",
    "                    if  not isinstance(project[screenName]['Blocks']['Active Blocks'],unicode):\n",
    "                        if project[screenName]['Blocks']['Active Blocks'] != 'NO ACTIVE BLOCKS':\n",
    "                            all_funcs =  project[screenName]['Blocks']['Active Blocks']['Types'].keys()                                               \n",
    "                            for func in all_funcs:\n",
    "                                sfunc = []\n",
    "                                if \"_\" in func: \n",
    "                                    sfunc = func.split('_')\n",
    "                                if \".\" in func:\n",
    "                                    sfunc = func.split('.')\n",
    "                                if type(sfunc) == list and len(sfunc) > 1:\n",
    "                                    key = sfunc[1]\n",
    "                                    if func[1] not in freqDict.keys(): \n",
    "                                         freqDict[key] =  project[screenName]['Blocks']['Active Blocks']['Types'][func]\n",
    "                                    else: \n",
    "                                        freqDict[key] += project[screenName]['Blocks']['Active Blocks']['Types'][func] \n",
    "        i+=1\n",
    "                            \n",
    "    return freqDict"
   ]
  },
  {
   "cell_type": "code",
   "execution_count": 229,
   "metadata": {
    "collapsed": true
   },
   "outputs": [],
   "source": [
    "def blockFuncFrequency(projects):\n",
    "    '''a dictionary that contains the number of projects\n",
    "    a user used each function. each function must have been used by the user at least once'''\n",
    "    freqDict = {} \n",
    "    numProjects = len(projects)\n",
    "    for project in projects: \n",
    "        projectDict = projectFunctions(project)\n",
    "        keys = projectDict.keys()\n",
    "        for key in keys: \n",
    "            if key not in freqDict.keys(): \n",
    "                freqDict[key] = 1\n",
    "            else: \n",
    "                freqDict[key] +=1\n",
    "    finalKeys = freqDict.keys() \n",
    "    for key in finalKeys: \n",
    "        freqDict[key] = float(freqDict[key])\n",
    "    return freqDict"
   ]
  },
  {
   "cell_type": "code",
   "execution_count": 127,
   "metadata": {
    "collapsed": false
   },
   "outputs": [],
   "source": [
    "def functionDict(projects):\n",
    "    '''returns a dictionary how many times a user used each function (that was used at least once) throughout her projects. function equivalent to createKeywordDict'''\n",
    "    freqDict = {}\n",
    "    screenNames = getScreenNames(projects)\n",
    "    i = 0\n",
    "    while i < len(projects):\n",
    "        for screenName in screenNames[i]:\n",
    "            if screenName in project.keys():\n",
    "                if  not isinstance(projects[i][screenName]['Blocks'], unicode):\n",
    "                    if  not isinstance(projects[i][screenName]['Blocks']['Active Blocks'],unicode):\n",
    "                        if projects[i][screenName]['Blocks']['Active Blocks'] != 'NO ACTIVE BLOCKS':\n",
    "                            all_funcs =  projects[i][screenName]['Blocks']['Active Blocks']['Types'].keys()                                               \n",
    "                            for func in all_funcs:\n",
    "                                sfunc = []\n",
    "                                if \"_\" in func: \n",
    "                                    sfunc = func.split('_')\n",
    "                                if \".\" in func:\n",
    "                                    sfunc = func.split('.')\n",
    "                                if type(sfunc) == list and len(sfunc) > 1:\n",
    "                                    key = sfunc[1]\n",
    "                                    if func[1] not in freqDict.keys(): \n",
    "                                         freqDict[key] =  projects[i][screenName]['Blocks']['Active Blocks']['Types'][func]\n",
    "                                    else: \n",
    "                                        freqDict[key] += projects[i][screenName]['Blocks']['Active Blocks']['Types'][func] \n",
    "        i+=1\n",
    "                            \n",
    "    return freqDict"
   ]
  },
  {
   "cell_type": "code",
   "execution_count": 202,
   "metadata": {
    "collapsed": false
   },
   "outputs": [
    {
     "name": "stdout",
     "output_type": "stream",
     "text": [
      "0\n",
      "1000\n",
      "2000\n",
      "3000\n",
      "4000\n",
      "5000\n",
      "6000\n",
      "7000\n",
      "8000\n",
      "9000\n",
      "10000\n",
      "11000\n",
      "12000\n",
      "13000\n",
      "14000\n",
      "15000\n",
      "16000\n",
      "17000\n",
      "18000\n",
      "19000\n",
      "20000\n",
      "21000\n",
      "22000\n",
      "23000\n",
      "24000\n",
      "25000\n",
      "26000\n",
      "27000\n",
      "28000\n",
      "29000\n",
      "30000\n",
      "31000\n",
      "32000\n",
      "33000\n",
      "34000\n",
      "35000\n",
      "36000\n",
      "37000\n",
      "38000\n",
      "39000\n",
      "40000\n",
      "41000\n",
      "42000\n",
      "43000\n",
      "44000\n",
      "45000\n",
      "46000\n",
      "{u'Web': 14217, u'Canvas': 41014, u'FtcIrSeekerSensor': 6, u'BluetoothServer': 4395, u'ActivityStarter': 24199, u'Texting': 16237, u'SoundRecorder': 5954, u'HorizontalArrangement': 45384, u'Sharing': 6604, u'FloatingButton': 1, u'Sound': 39047, u'LinkedData': 6, u'SpeechRecognizer': 15027, u'mrSoundMeter': 6, u'FtcOpMode': 9, u'SensorDB': 1, u'NxtDrive': 1787, u'LinkedDataForm': 1, u'mrPanel': 1, u'Voting': 9, u'mrButton': 2, u'ProximitySensor': 2090, u'InAppBilling': 1, u'Pedometer': 14, u'NxtColorSensor': 576, u'LightSensor': 3, u'NearField': 2836, u'YandexTranslate': 3262, u'mrSoundRecorder': 1, u'TableArrangement': 31978, u'GalleryViewer': 3, u'CheckBox': 13938, u'Clock': 40555, u'FtcRobotController': 9, u'Label': 45663, u'Camera': 26199, u'EmailPicker': 1073, u'AdMobInterstitial': 5, u'NxtTouchSensor': 599, u'ContactPicker': 2179, u'FusiontablesControl': 6049, u'VSVArrangement': 1, u'PhoneNumberPicker': 4510, u'Button': 46077, u'NxtDirectCommands': 1101, u'ListPicker': 26867, u'MIOIOUltrasonidos': 1, u'AdAmazonInterstitial': 1, u'PhoneStatus': 2, u'BarcodeScanner': 7252, u'DigitalRead': 2, u'BLE': 3, u'FtcServo': 5, u'GoogleDrive': 1, u'Camcorder': 4584, u'Notifier': 34245, u'TextBox': 40899, u'MobFoxInterstitial': 1, u'Image': 37307, u'KitchenSink': 3, u'TinyWebDB': 11423, u'GameClient': 10, u'UsbAccessory': 2, u'Sharer': 1, u'Spinner': 6041, u'BluetoothClient': 8726, u'NxtLightSensor': 482, u'LocationSensor': 20709, u'TextToSpeech': 31053, u'OrientationSensor': 18248, u'FtcGamepad': 6, u'mrSlider': 1, u'ListView': 9355, u'FtcOpticalDistanceSensor': 6, u'MMedia': 1, u'WebViewer': 20492, u'MMediaInterstitial': 1, u'mrCanvas': 1, u'FtcDcMotor': 6, u'GyroscopeSensor': 161, u'AdAmazon': 3, u'Twitter': 1932, u'iSENSE': 1, u'FtcDeviceInterfaceModule': 6, u'VideoPlayer': 5794, u'AdMob': 26, u'TimePicker': 3537, u'HSVArrangement': 6, u'LinkedDataListPicker': 3, u'FtcTouchSensor': 6, u'mrSound': 1, u'DatePicker': 4968, u'VerticalArrangement': 33207, u'XYChart': 1, u'FirebaseDB': 201, u'NxtUltrasonicSensor': 950, u'SQLite': 12, u'GoogleMap': 5, u'Slider': 15238, u'PasswordTextBox': 7032, u'ImagePicker': 5119, u'Dropbox': 1, u'WICEDSense': 4, u'TinyDB': 29613, u'mrSphero': 1, u'GoogleCloudMessaging': 8, u'mrPlayer': 1, u'Chronometer': 2, u'DropBox': 1, u'AccelerometerSensor': 30680, u'PhoneCall': 10300, u'Player': 27147, u'File': 7405, u'NxtSoundSensor': 431, u'UdooArduino': 1} \n",
      "\n",
      "\n"
     ]
    },
    {
     "ename": "NameError",
     "evalue": "name 'K' is not defined",
     "output_type": "error",
     "traceback": [
      "\u001b[0;31m---------------------------------------------------------------------------\u001b[0m",
      "\u001b[0;31mNameError\u001b[0m                                 Traceback (most recent call last)",
      "\u001b[0;32m<ipython-input-202-74761e8cd296>\u001b[0m in \u001b[0;36m<module>\u001b[0;34m()\u001b[0m\n\u001b[1;32m     21\u001b[0m \u001b[0;32mfor\u001b[0m \u001b[0mk\u001b[0m \u001b[0;32min\u001b[0m \u001b[0mallKeys\u001b[0m\u001b[0;34m:\u001b[0m\u001b[0;34m\u001b[0m\u001b[0m\n\u001b[1;32m     22\u001b[0m     \u001b[0;32mif\u001b[0m \u001b[0mallKeysD\u001b[0m\u001b[0;34m[\u001b[0m\u001b[0mk\u001b[0m\u001b[0;34m]\u001b[0m \u001b[0;34m>\u001b[0m \u001b[0;36m15\u001b[0m\u001b[0;34m:\u001b[0m\u001b[0;34m\u001b[0m\u001b[0m\n\u001b[0;32m---> 23\u001b[0;31m         \u001b[0mcommonList\u001b[0m\u001b[0;34m.\u001b[0m\u001b[0mappend\u001b[0m\u001b[0;34m(\u001b[0m\u001b[0;34m(\u001b[0m\u001b[0mk\u001b[0m\u001b[0;34m,\u001b[0m \u001b[0mallKeysD\u001b[0m\u001b[0;34m[\u001b[0m\u001b[0mK\u001b[0m\u001b[0;34m]\u001b[0m\u001b[0;34m)\u001b[0m\u001b[0;34m)\u001b[0m\u001b[0;34m\u001b[0m\u001b[0m\n\u001b[0m\u001b[1;32m     24\u001b[0m     \u001b[0;32melse\u001b[0m\u001b[0;34m:\u001b[0m\u001b[0;34m\u001b[0m\u001b[0m\n\u001b[1;32m     25\u001b[0m         \u001b[0mrareList\u001b[0m\u001b[0;34m.\u001b[0m\u001b[0mappend\u001b[0m\u001b[0;34m(\u001b[0m\u001b[0;34m(\u001b[0m\u001b[0mk\u001b[0m\u001b[0;34m,\u001b[0m \u001b[0mallKeysD\u001b[0m\u001b[0;34m[\u001b[0m\u001b[0mK\u001b[0m\u001b[0;34m]\u001b[0m\u001b[0;34m)\u001b[0m\u001b[0;34m)\u001b[0m\u001b[0;34m\u001b[0m\u001b[0m\n",
      "\u001b[0;31mNameError\u001b[0m: name 'K' is not defined"
     ]
    }
   ],
   "source": [
    "'''this code compiles the frequency of all classes among all users. The frequency dictionary of all classes is allKeysD. \n",
    "commonList holds a list of all classes that are used more than 15 times across all users. rareList holds a list of all class that are used fewer than 15 times.'''\n",
    "allKeys = set()\n",
    "allKeysD = {}\n",
    "i=0 \n",
    "for user in all_users: \n",
    "    keywords = createKeywordDict(getProjects(user, \"LANGUAGE\")).keys()\n",
    "    for key in keywords: \n",
    "        if key not in allKeys: \n",
    "            allKeys.add(key)\n",
    "            allKeysD[key] = 1\n",
    "        else: \n",
    "            allKeysD[key] +=1\n",
    "\n",
    "    if i % 1000 == 0: \n",
    "        print i\n",
    "    i+=1 \n",
    "print allKeysD, '\\n\\n'\n"
   ]
  },
  {
   "cell_type": "code",
   "execution_count": 211,
   "metadata": {
    "collapsed": true
   },
   "outputs": [],
   "source": [
    "commonList =[]\n",
    "rareList = []\n",
    "for k in allKeys: \n",
    "    if allKeysD[k] > 15: \n",
    "        commonList.append((k, allKeysD[k]))\n",
    "    else:\n",
    "        rareList.append((k, allKeysD[k])) \n"
   ]
  },
  {
   "cell_type": "code",
   "execution_count": 212,
   "metadata": {
    "collapsed": false
   },
   "outputs": [
    {
     "name": "stdout",
     "output_type": "stream",
     "text": [
      "[(u'AdMob', 26), (u'GyroscopeSensor', 161), (u'FirebaseDB', 201), (u'NxtSoundSensor', 431), (u'NxtLightSensor', 482), (u'NxtColorSensor', 576), (u'NxtTouchSensor', 599), (u'NxtUltrasonicSensor', 950), (u'EmailPicker', 1073), (u'NxtDirectCommands', 1101), (u'NxtDrive', 1787), (u'Twitter', 1932), (u'ProximitySensor', 2090), (u'ContactPicker', 2179), (u'NearField', 2836), (u'YandexTranslate', 3262), (u'TimePicker', 3537), (u'BluetoothServer', 4395), (u'PhoneNumberPicker', 4510), (u'Camcorder', 4584), (u'DatePicker', 4968), (u'ImagePicker', 5119), (u'VideoPlayer', 5794), (u'SoundRecorder', 5954), (u'Spinner', 6041), (u'FusiontablesControl', 6049), (u'Sharing', 6604), (u'PasswordTextBox', 7032), (u'BarcodeScanner', 7252), (u'File', 7405), (u'BluetoothClient', 8726), (u'ListView', 9355), (u'PhoneCall', 10300), (u'TinyWebDB', 11423), (u'CheckBox', 13938), (u'Web', 14217), (u'SpeechRecognizer', 15027), (u'Slider', 15238), (u'Texting', 16237), (u'OrientationSensor', 18248), (u'WebViewer', 20492), (u'LocationSensor', 20709), (u'ActivityStarter', 24199), (u'Camera', 26199), (u'ListPicker', 26867), (u'Player', 27147), (u'TinyDB', 29613), (u'AccelerometerSensor', 30680), (u'TextToSpeech', 31053), (u'TableArrangement', 31978), (u'VerticalArrangement', 33207), (u'Notifier', 34245), (u'Image', 37307), (u'Sound', 39047), (u'Clock', 40555), (u'TextBox', 40899), (u'Canvas', 41014), (u'HorizontalArrangement', 45384), (u'Label', 45663), (u'Button', 46077)]\n"
     ]
    }
   ],
   "source": [
    "print sorted(commonList, key= lambda x: x[1])"
   ]
  },
  {
   "cell_type": "code",
   "execution_count": 213,
   "metadata": {
    "collapsed": false
   },
   "outputs": [
    {
     "name": "stdout",
     "output_type": "stream",
     "text": [
      "[(u'FloatingButton', 1), (u'SensorDB', 1), (u'LinkedDataForm', 1), (u'mrPanel', 1), (u'InAppBilling', 1), (u'mrSoundRecorder', 1), (u'VSVArrangement', 1), (u'MIOIOUltrasonidos', 1), (u'AdAmazonInterstitial', 1), (u'GoogleDrive', 1), (u'MobFoxInterstitial', 1), (u'Sharer', 1), (u'mrSlider', 1), (u'MMedia', 1), (u'MMediaInterstitial', 1), (u'mrCanvas', 1), (u'iSENSE', 1), (u'mrSound', 1), (u'XYChart', 1), (u'Dropbox', 1), (u'mrSphero', 1), (u'mrPlayer', 1), (u'DropBox', 1), (u'UdooArduino', 1), (u'mrButton', 2), (u'PhoneStatus', 2), (u'DigitalRead', 2), (u'UsbAccessory', 2), (u'Chronometer', 2), (u'LightSensor', 3), (u'GalleryViewer', 3), (u'BLE', 3), (u'KitchenSink', 3), (u'AdAmazon', 3), (u'LinkedDataListPicker', 3), (u'WICEDSense', 4), (u'AdMobInterstitial', 5), (u'FtcServo', 5), (u'GoogleMap', 5), (u'FtcIrSeekerSensor', 6), (u'LinkedData', 6), (u'mrSoundMeter', 6), (u'FtcGamepad', 6), (u'FtcOpticalDistanceSensor', 6), (u'FtcDcMotor', 6), (u'FtcDeviceInterfaceModule', 6), (u'HSVArrangement', 6), (u'FtcTouchSensor', 6), (u'GoogleCloudMessaging', 8), (u'FtcOpMode', 9), (u'Voting', 9), (u'FtcRobotController', 9), (u'GameClient', 10), (u'SQLite', 12), (u'Pedometer', 14)]\n"
     ]
    }
   ],
   "source": [
    "print sorted(rareList, key= lambda x: x[1])"
   ]
  },
  {
   "cell_type": "markdown",
   "metadata": {},
   "source": [
    "All possible classes[u'Web', u'Canvas', u'FtcIrSeekerSensor', u'BluetoothServer', u'ActivityStarter', u'Texting', u'SoundRecorder', u'HorizontalArrangement', u'Sharing', u'FloatingButton', u'Sound', u'LinkedData', u'SpeechRecognizer', u'mrSoundMeter', u'FtcOpMode', u'SensorDB', u'NxtDrive', u'LinkedDataForm', u'mrPanel', u'Voting', u'mrButton', u'ProximitySensor', u'InAppBilling', u'Pedometer', u'NxtColorSensor', u'LightSensor', u'NearField', u'YandexTranslate', u'mrSoundRecorder', u'TableArrangement', u'GalleryViewer', u'CheckBox', u'Clock', u'FtcRobotController', u'Label', u'Camera', u'EmailPicker', u'AdMobInterstitial', u'NxtTouchSensor', u'ContactPicker', u'FusiontablesControl', u'VSVArrangement', u'PhoneNumberPicker', u'Button', u'NxtDirectCommands', u'ListPicker', u'MIOIOUltrasonidos', u'AdAmazonInterstitial', u'PhoneStatus', u'BarcodeScanner', u'DigitalRead', u'BLE', u'FtcServo', u'GoogleDrive', u'Camcorder', u'Notifier', u'TextBox', u'MobFoxInterstitial', u'Image', u'KitchenSink', u'TinyWebDB', u'GameClient', u'UsbAccessory', u'Sharer', u'Spinner', u'BluetoothClient', u'NxtLightSensor', u'LocationSensor', u'TextToSpeech', u'OrientationSensor', u'FtcGamepad', u'mrSlider', u'ListView', u'FtcOpticalDistanceSensor', u'MMedia', u'WebViewer', u'MMediaInterstitial', u'mrCanvas', u'FtcDcMotor', u'GyroscopeSensor', u'AdAmazon', u'Twitter', u'iSENSE', u'FtcDeviceInterfaceModule', u'VideoPlayer', u'AdMob', u'TimePicker', u'HSVArrangement', u'LinkedDataListPicker', u'FtcTouchSensor', u'mrSound', u'DatePicker', u'VerticalArrangement', u'XYChart', u'FirebaseDB', u'NxtUltrasonicSensor', u'SQLite', u'GoogleMap', u'Slider', u'PasswordTextBox', u'ImagePicker', u'Dropbox', u'WICEDSense', u'TinyDB', u'mrSphero', u'GoogleCloudMessaging', u'mrPlayer', u'Chronometer', u'DropBox', u'AccelerometerSensor', u'PhoneCall', u'Player', u'File', u'NxtSoundSensor', u'UdooArduino"
   ]
  },
  {
   "cell_type": "code",
   "execution_count": 10,
   "metadata": {
    "collapsed": true
   },
   "outputs": [],
   "source": [
    "all_users = summaries.keys()"
   ]
  },
  {
   "cell_type": "code",
   "execution_count": 13,
   "metadata": {
    "collapsed": true
   },
   "outputs": [],
   "source": [
    "first_thousand = all_users[0:1000]\n",
    "first_ten = all_users[0:10]"
   ]
  },
  {
   "cell_type": "code",
   "execution_count": 131,
   "metadata": {
    "collapsed": false
   },
   "outputs": [
    {
     "name": "stdout",
     "output_type": "stream",
     "text": [
      "0\n",
      "1000\n",
      "2000\n",
      "3000\n",
      "4000\n",
      "5000\n",
      "6000\n",
      "7000\n",
      "8000\n",
      "9000\n",
      "10000\n",
      "11000\n",
      "12000\n",
      "13000\n",
      "14000\n",
      "15000\n",
      "16000\n",
      "17000\n",
      "18000\n",
      "19000\n",
      "20000\n",
      "21000\n",
      "22000\n",
      "23000\n",
      "24000\n",
      "25000\n",
      "26000\n",
      "27000\n",
      "28000\n",
      "29000\n",
      "30000\n",
      "31000\n",
      "32000\n",
      "33000\n",
      "34000\n",
      "35000\n",
      "36000\n",
      "37000\n",
      "38000\n",
      "39000\n",
      "40000\n",
      "41000\n",
      "42000\n",
      "43000\n",
      "44000\n",
      "45000\n",
      "46000\n",
      "{u'GetDistanceInterval': 458, u'getproperty': 14, u'SetLED': 6, u'SetShowFilterBar': 144, u'SetText': 45613, u'SetApiKey': 3729, u'GoHome': 6035, u'yellow': 12999, u'PlayerError': 3, u'ReceiveUnsigned2ByteNumber': 47, u'DrawPoint': 3419, u'ShowAlert': 23487, u'GetRegId': 1, u'ErrorOccurred': 4000, u'GetSpeed': 6514, u'PictureAfterChanges': 6, u'LsRead': 1, u'ReadBatteryLevel': 1, u'SetHint': 4267, u'GetIsConnected': 4127, u'GetA': 5, u'SetTitle': 8712, u'GetStrength': 6, u'GetX': 22804, u'GetY': 23981, u'GetZ': 209, u'SetPressedEventEnabled': 17, u'GetServiceURL': 137, u'digitalRead1': 2, u'SetStopBeforeDisconnect': 5, u'Now': 14992, u'GetAddressesAndNames': 7350, u'TelemetryAddTextData': 6, u'division': 35288, u'SystemTime': 2206, u'ReceiveSigned4ByteNumber': 116, u'SetAllowCookies': 30, u'AddMonths': 185, u'GetMagnitude': 8345, u'ShowInterstitialAd': 1, u'forEach': 21560, u'GetDistance': 913, u'cyan': 7808, u'SetFollowLinks': 97, u'GetFontBold': 94, u'AfterTimeSet': 2160, u'GetFontSize': 473, u'StopFollowing': 6, u'GetPhoneNumberList': 165, u'GetDpadUp': 1, u'AutoSize': 6, u'SimpleStep': 4, u'EnableScroll': 1, u'TagRead': 1799, u'round': 8322, u'GetReleasedEventEnabled': 1, u'DayOfMonth': 1994, u'AfterSpeaking': 2229, u'Disconnect': 5837, u'StopAccepting': 1709, u'GetDirectMessages': 10, u'SetImages': 1, u'SetAboveRangeEventEnabled': 35, u'SetQuery': 3929, u'methor': 1, u'TouchDown': 14567, u'GetDpadDown': 1, u'append': 1828, u'SetAnimationSpeed': 7, u'blue': 24850, u'nothing': 3, u'BatteryLevelUpdated': 1, u'DirectMessagesReceived': 58, u'GetInstant': 122, u'SetReadMode': 1621, u'GetLoop': 100, u'DrawLine': 31997, u'SetBackgroundImage': 23036, u'methos': 1, u'BeforePicking': 16575, u'ConvertSoundlevelTodB': 2, u'playerskin': 1, u'AfterDateSet': 3390, u'methoi': 1, u'GetResponseFileName': 27, u'abs': 3900, u'FormatTime': 3727, u'methol': 1, u'GetOutputState': 18, u'net': 1, u'WithinRange': 103, u'methoe': 2, u'method': 13, u'GetPitch': 1956, u'methof': 2, u'ShowTextDialog': 8126, u'StartActivity': 20825, u'AboveRange': 122, u'GetWithinRangeEventEnabled': 3, u'ReceiveSigned2ByteNumber': 123, u'Changed': 8015, u'component': 23863, u'GetPaintColor': 1971, u'MoveForwardIndefinitely': 1138, u'MessageRead': 7, u'GetMessage': 503, u'SetTopOfRange': 15, u'GetTextToWrite': 31, u'ResultsToSimpleJSON': 1, u'GetActivityClass': 20, u'OnMapClick': 1, u'GetBallotOptions': 2, u'Dragged': 34204, u'GotBallotConfirmation': 1, u'SetTextAlignment': 73, u'SaveAs': 3120, u'convert': 960, u'RsaTextEncrypt': 1, u'RequestMentions': 193, u'SetBrickName': 10, u'AddDays': 362, u'MenuItemSelected': 1, u'SetOpenScreenAnimation': 148, u'GetTextColor': 1041, u'GetBatteryLevel': 129, u'pick': 19326, u'GetDetectColor': 7, u'EnableMyLocation': 1, u'GetPower': 1, u'AesFileDecrypt': 1, u'RangeClip': 5, u'SetGenerateLight': 30, u'divide': 12460, u'Glide': 3, u'SetWeight': 2, u'GetProviderLocked': 245, u'defnoreturn': 38898, u'replace': 12770, u'SetInputMode': 1, u'MessageWrite': 24, u'boolean': 42695, u'ScanDevice': 1, u'GotText': 12197, u'ClearAll': 4199, u'select': 31614, u'SetGravityInverted': 2, u'Base64DecodeToFile': 3, u'GPSAvailable': 3, u'PostText': 1872, u'from': 6135, u'to': 2393, u'GetSaveResponse': 29, u'contains': 10477, u'FoundDeviceEvent': 4, u'BeforeSpeaking': 842, u'startHTTPD': 3, u'AccelerationChanged': 7021, u'HashTextEncode': 2, u'AfterSelecting': 4897, u'GetResultName': 20, u'GetRotates': 123, u'SetSaveResponse': 899, u'ExecuteSPARQLQuery': 3, u'GetReturnMessage': 2, u'PlayTone': 135, u'SetColorRight': 348, u'SetMaxValue': 722, u'GetUseExternalScanner': 35, u'SetTimerEnabled': 27997, u'GetLineWidth': 1310, u'GetResultType': 50, u'closeScreenWithValue': 408, u'RetrievedResults': 3, u'SetPlaySpeed': 4, u'RegInfoReceived': 2, u'SeekTo': 153, u'GetMode': 6, u'join': 43034, u'SetProviderName': 1851, u'MakePhoneCall': 7991, u'SetInterval': 9272, u'GetXAccel': 2864, u'SetWithinRangeEventEnabled': 18, u'ReceiveSigned1ByteNumber': 555, u'SetBackgroundPixelColor': 254, u'GetSelectedDeviceRssi': 1, u'NoLongerCollidingWith': 1340, u'GetMinute': 2087, u'GetTags': 3586, u'PutText': 222, u'compare': 44440, u'GetAction': 48, u'AdFailedToLoad': 1, u'SetSelection': 3467, u'do': 10010, u'MoveBackward': 195, u'SetSecure': 101, u'DoQuery': 151, u'EdgeReached': 28995, u'GetGoogleVoiceEnabled': 186, u'magenta': 8544, u'SetRadius': 1918, u'SearchTwitter': 38, u'tan': 298, u'getVersionName': 3, u'pink': 5707, u'RequestFriendTimeline': 224, u'setproperty': 47, u'GetUseFront': 336, u'SetAlignHorizontal': 199, u'FormatDateTime': 7156, u'GetHasAccuracy': 333, u'GetSpeechRate': 52, u'isEmpty': 14303, u'PhoneCallEnded': 563, u'GetDeviceServices': 4, u'SetPaintColor': 31561, u'installURL': 3, u'AfterFileSaved': 171, u'GetDeviceList': 1, u'SetPicture': 32444, u'plane': 1, u'SetPlayOnlyInForeground': 88, u'GetMaximumRange': 267, u'PostFile': 380, u'SetEnabled': 28734, u'SetTimerAlwaysFires': 1734, u'SetPropertyURI': 1, u'light': 4080, u'GetBelowRangeEventEnabled': 9, u'AcceptConnection': 2688, u'atan2': 3671, u'GetResultUri': 507, u'green': 25357, u'ValueStored': 1906, u'GetHasMargins': 23, u'AesTextDecrypt': 2, u'callreturn': 16490, u'GotValue': 8266, u'Pressed': 158, u'GetPlayInForeground': 2, u'SetFontBold': 459, u'getStartValue': 1483, u'LogInfo': 1102, u'DismissProgressDialog': 448, u'Vibrate': 26739, u'GetMinValue': 237, u'closeScreenWithPlainText': 548, u'ActivityCanceled': 92, u'GetSource': 4988, u'SetVisible': 33981, u'StatusChanged': 479, u'SetConsumerSecret': 496, u'GetSecure': 23, u'Resume': 1466, u'methogs': 1, u'GetAzimuth': 1765, u'GotResponseFromServer': 1, u'GetExtras': 2, u'SetSpeechRate': 1025, u'ShowChooseDialog': 11503, u'choose': 8192, u'SetDelimiterByte': 70, u'orange': 8008, u'GetFirmwareVersion': 57, u'SetScreenOrientation': 2945, u'GotTranslation': 2442, u'SetFrameToUse': 7, u'return': 3, u'GetRuntime': 6, u'Register': 2, u'closeApplication': 12095, u'GetPicture': 9271, u'ListFiles': 8, u'PointTowards': 1061, u'AfterChoosing': 11009, u'GetPressedEventEnabled': 9, u'SetVolume': 2836, u'GetUrl': 383, u'GetWebViewString': 422, u'GetInterval': 517, u'SetAdEnabled': 3, u'WalkStep': 2, u'GetProjectBucket': 3, u'IsAuthorized': 541, u'StoppedMoving': 2, u'SetUrl': 10743, u'SetServiceAccountEmail': 356, u'ShowMessageDialog': 21407, u'EnableCompass': 1, u'StopFollowingObject': 3, u'mode': 1, u'SetAction': 11002, u'SetElementsFromString': 4861, u'SetX': 23677, u'SetY': 20539, u'SetZ': 1697, u'SetSavedRecording': 253, u'StartSharing': 2, u'SendBytes': 270, u'GetAvailableCountries': 45, u'GetIsTouched': 6, u'GetAccuracy': 1529, u'GetAvailable': 1516, u'operation': 25510, u'Save': 3176, u'DurationToSeconds': 10, u'SetThumbPosition': 3852, u'OnTouchDown': 1, u'RsaTextDecrypt': 1, u'GetFontItalic': 31, u'Weekday': 377, u'SetUseCanvasGravity': 2, u'GetMillis': 1117, u'TelemetryAddNumericData': 9, u'Connected': 3, u'SoundError': 19, u'SetResponseFileName': 686, u'red': 32960, u'iet': 1, u'GetConsumerKey': 8, u'StartProgram': 59, u'Hour': 3087, u'GetPrompt': 20, u'GoForward': 2255, u'GetHeight': 27178, u'GetTimeInterval': 557, u'ClearLocations': 180, u'GetPlayOnlyInForeground': 14, u'OnMapLongClick': 1, u'GetShowFilterBar': 43, u'GetPixelColor': 842, u'Delete': 1040, u'BuildRequestData': 987, u'SetLanguage': 3121, u'starts': 2455, u'SetGenerateColor': 26, u'GetAltitude': 1063, u'SendQuery': 3825, u'length': 26841, u'StartedMoving': 3, u'GetDeviceDensity': 4, u'GetDuration': 126, u'Speak': 29572, u'GetFollowLinks': 54, u'GetIsPressed': 6, u'Pause': 14839, u'SetFullScreen': 2301, u'UriEncode': 2683, u'StopSoundPlayback': 1, u'number': 45612, u'GetValue': 26894, u'Start': 24914, u'SetPanLeftRight': 5, u'MicOFF': 1, u'OnSettings': 2, u'GetIgnoreSslErrors': 9, u'GetRowsWithConditions': 255, u'stopLeScan': 4, u'closeScreen': 3418, u'AddYears': 38, u'SearchSuccessful': 40, u'GetAlignHorizontal': 74, u'CanvasBoundaryEnabled': 3, u'SaveFile': 2566, u'MenuShow': 1, u'AfterGettingText': 12675, u'GetText': 45104, u'GetVisible': 8517, u'FormatDate': 2418, u'GetRightStickY': 1, u'white': 12025, u'GetServiceAccountEmail': 2, u'IsDevicePaired': 516, u'SetElements': 26114, u'ceiling': 923, u'GetSelectionIndex': 11424, u'TurnClockwiseIndefinitely': 741, u'SetHighByteFirst': 12, u'SetDataType': 1427, u'StartedRecording': 383, u'GetPhoneNumber': 5617, u'SetReleasedEventEnabled': 8, u'GetYAccel': 2860, u'MentionsReceived': 196, u'DirectMessage': 68, u'SetConsumerKey': 489, u'copy': 1833, u'MakeInstantFromMillis': 554, u'SetUseServiceAuthentication': 314, u'GetTimerInterval': 2937, u'LocationChanged': 15020, u'GetSoundLevelFromMic': 2, u'AfterScan': 5610, u'SetActivityClass': 2907, u'Connect': 7488, u'GetColor': 35, u'ConnectWithUUID': 40, u'GetScrollable': 40, u'DurationToHours': 2, u'Click': 46158, u'false': 36438, u'SetImage': 9837, u'GetHeading': 14151, u'SetRotationAngle': 5, u'GetCountry': 76, u'SetSpeed': 29119, u'GetLastMessage': 1114, u'SetObjectType': 4, u'RunQuery': 5, u'GetMaxValue': 304, u'OtherScreenClosed': 5918, u'WriteStringValue': 2, u'AfterPicking': 32802, u'GetAlignVertical': 48, u'SetPhoneNumber': 16005, u'CanGoForward': 558, u'FollowersReceived': 204, u'StoreValue': 27577, u'GetTextSize': 13, u'getPlainStartText': 348, u'GetColorChangedEventEnabled': 1, u'SetExtraValue': 1593, u'TouchUp': 9371, u'GetMentions': 3, u'MonthName': 304, u'multiply': 38672, u'GetIsPlaying': 7687, u'segment': 7926, u'SetScaling': 4, u'RequestTranslation': 2461, u'LoadAd': 3, u'SetWebViewString': 806, u'RequestFocus': 1417, u'ShareMessage': 1771, u'clock': 1, u'LightChanged': 1, u'Send1ByteNumber': 1813, u'ResolveActivity': 1405, u'neg': 1951, u'SetPosition': 5, u'GetDataType': 16, u'VideoPlayerError': 1, u'GetUseGPS': 1, u'GetHasLongitudeLatitude': 615, u'FriendTimelineReceived': 230, u'IsPressed': 86, u'GetAngle': 8922, u'GetReceivingEnabled': 229, u'GetAvailableLanguages': 98, u'SetHeightPercent': 394, u'text': 613, u'random': 37191, u'PositionChanged': 18438, u'GetAboveRangeEventEnabled': 11, u'undefined': 2, u'GetBrickName': 84, u'spaces': 1794, u'GetEmailAddressList': 33, u'SetPitch': 1051, u'OrbitObject': 3, u'ColorChanged': 29, u'SetTimerInterval': 13791, u'EnableZoomControl': 1, u'Released': 56, u'GetTopOfRange': 5, u'IncomingCallAnswered': 291, u'GetNumbersOnly': 792, u'ProximityChanged': 1307, u'SendBallot': 1, u'GetXAngularVelocity': 19, u'StoppedRecording': 298, u'black': 14881, u'SetAnimation': 614, u'GetActivityPackage': 14, u'methom': 1, u'GetUserEmailAddress': 1, u'GoToUrl': 13301, u'defreturn': 18561, u'GetHour': 2202, u'ReceiveUnsignedBytes': 128, u'forRange': 19975, u'get': 116, u'SetEndpointURL': 4, u'ReceiveText': 4289, u'SetServiceURL': 331, u'GetGenerateColor': 12, u'GetBackgroundPixelColor': 434, u'gray': 3353, u'SetFrameImageList': 7, u'GetServerURL': 1, u'SetColorLeft': 811, u'GetGenerateLight': 11, u'UnsupportedQueryType': 1, u'SetSubject': 1, u'remove': 10329, u'GetDataUri': 157, u'methog': 1, u'ScreenOrientationChanged': 1332, u'ShowProgressDialog': 564, u'MenuItemAdd': 1, u'GetConsumerSecret': 16, u'AesFileEncrypt': 1, u'AddSeconds': 335, u'SetDetectColor': 5, u'GetFrameQty': 7, u'GetCurrentPosition': 1, u'GetExtraValue': 28, u'GetIsAccepting': 1455, u'WeekdayName': 575, u'pinout': 1, u'SetCloseScreenAnimation': 117, u'GetImage': 3181, u'WebServiceError': 1067, u'elock': 1, u'ObtenerValor': 1, u'SetThumbEnabled': 205, u'AddMarkersFromJson': 2, u'SetBottomOfRange': 33, u'SetChecked': 5561, u'RssiChanged': 1, u'InitializeMenu': 1, u'GetWidth': 29557, u'GetApiKey': 20, u'SetTimeToDisplayFromInstant': 18, u'DeAuthorize': 219, u'methofs': 1, u'NoOpenPoll': 1, u'Minute': 3118, u'GetColorRight': 26, u'SetPower': 6, u'GetDelimiterByte': 17, u'AdLoaded': 1, u'GetMonthInText': 1207, u'GetColorLeft': 55, u'GetHint': 344, u'GetScaling': 1, u'GetMinimumInterval': 330, u'GetElements': 5314, u'SetItemBackgroundColor': 81, u'cos': 4522, u'met': 1, u'GetFriendTimeline': 21, u'SetMinimumInterval': 535, u'Month': 1851, u'HideKeyboard': 4812, u'let': 1, u'DoScan': 5697, u'GetStopBeforeDisconnect': 2, u'EnableMapLongClickListener': 1, u'GotResult': 4410, u'GetSavedRecording': 190, u'GetCurrentAddress': 13766, u'SetProjectBucket': 7, u'SetKeyFile': 241, u'SetReceivingEnabled': 612, u'GetEmailAddress': 855, u'SetRotates': 2678, u'SetTimeToDisplay': 456, u'FirebaseError': 13, u'SetNumbersOnly': 1206, u'KeepAlive': 4, u'SetSortOrder': 1, u'Play': 34933, u'GetFrameToUse': 6, u'Get': 10260, u'Send4ByteNumber': 203, u'create': 40400, u'AfterRecording': 2941, u'SetBounceEnabled': 2, u'GetOpenScreenAnimation': 30, u'SetHasMargins': 64, u'GyroscopeChanged': 72, u'GetZAngularVelocity': 5, u'PhoneCallStarted': 593, u'GetThumbEnabled': 53, u'Authorize': 693, u'GetScreenOrientation': 71, u'Send2ByteNumber': 275, u'MessageReceived': 10971, u'AddWeeks': 18, u'GoBack': 2720, u'SetTwitPic_API_Key': 75, u'SetDataUri': 19105, u'GetMultiLine': 60, u'GetHasAltitude': 342, u'TakePicture': 23737, u'declaration': 44896, u'Unauthenticate': 3, u'FlashtOn': 2, u'Shaking': 26176, u'SetPadding': 1, u'SetBelowRangeEventEnabled': 21, u'save': 1, u'SetDateToDisplayFromInstant': 15, u'SetStrideLength': 1, u'GetSelection': 31014, u'SetUseFront': 681, u'while': 12777, u'GetContactUri': 13, u'DrawCircle': 26991, u'GetBackgroundColor': 4469, u'SetGravityEnabled': 2, u'Follow': 167, u'GetYAngularVelocity': 6, u'Open': 7139, u'SetLoop': 1956, u'GetWifiIpAddress': 3, u'DataChanged': 45, u'MoveBackwardIndefinitely': 1062, u'SetItemTextColor': 62, u'AddHours': 349, u'is': 15817, u'AfterPicture': 23266, u'GetKeepRunningWhenOnPause': 6, u'SetGoogleVoiceEnabled': 405, u'openAnotherScreenWithStartValue': 8585, u'SetMessage': 13358, u'RequestBallot': 2, u'RecordVideo': 3280, u'SetFontItalic': 75, u'if': 44947, u'RequestDirectMessages': 18, u'SetUserChoice': 1, u'GetCurrentProgramName': 5, u'make': 10768, u'Stop': 17115, u'GetQuery': 79, u'DownloadFile': 6, u'GetLatitude': 11373, u'commaet': 1, u'SelectedDevice': 1, u'HmacTextEncode': 2, u'split': 6246, u'GetTimerEnabled': 3109, u'SetTextColor': 12392, u'XMLTextDecode': 193, u'LogError': 754, u'Clear': 31977, u'DrawText': 7554, u'SetCharacterEncoding': 36, u'SetTextToWrite': 1533, u'SetActivityPackage': 2852, u'GotFocus': 6245, u'PutTextWithEncoding': 13, u'MakeInstant': 869, u'AesTextEncrypt': 2, u'GetPromptforPermission': 8, u'SetDistanceInterval': 244, u'HtmlTextDecode': 685, u'StopProgram': 38, u'SetRelationToObject': 3, u'SetTitleVisible': 119, u'GetBottomOfRange': 10, u'Bounce': 26132, u'TagWritten': 1420, u'LsWrite': 1, u'DurationToWeeks': 1, u'Duration': 4685, u'position': 7162, u'GetSensitivity': 63, u'GetWriteType': 88, u'ClearCaches': 267, u'CanGoBack': 722, u'SetTextSize': 42, u'KeyReady': 2, u'isDirect': 3, u'SetScalePictureToFit': 51, u'GetSelectionColor': 8, u'LostFocus': 2865, u'EnableRotate': 1, u'PrepareAesKey': 2, u'SetMinValue': 549, u'SetSensitivity': 383, u'InsertRow': 848, u'DurationToMinutes': 3, u'CollidedWith': 26317, u'SendMessage': 13630, u'GetEnabled': 6281, u'SetShowStatusBar': 56, u'MoveForward': 250, u'SetKeepRunningWhenOnPause': 43, u'GetContactName': 2537, u'GetHighByteFirst': 18, u'MoveTo': 30021, u'LongClick': 7094, u'SendText': 6147, u'Completed': 4052, u'GetTwitPic_API_Key': 1, u'SetIgnoreSslErrors': 12, u'GetTimerAlwaysFires': 149, u'add': 44255, u'GetRotationAngle': 2, u'SetExtraKey': 1445, u'SetRequestHeaders': 928, u'Initialize': 42021, u'GetUsername': 303, u'Reset': 1, u'SetOutputState': 6, u'format': 4423, u'DrawTextAtAngle': 825, u'BelowRange': 420, u'GetCharacterEncoding': 35, u'dark': 3393, u'SetMultiLine': 158, u'LongitudeFromAddress': 843, u'SetCountry': 1739, u'setAssetsLoaded': 3, u'GetMonth': 2577, u'StartScanning': 2, u'insert': 4624, u'GetRequestHeaders': 18, u'ShareFileWithMessage': 2504, u'ViewContact': 27, u'EnableMapClickListener': 1, u'ClearCookies': 107, u'GetProviderName': 1729, u'Flung': 20445, u'GetInputValues': 9, u'GetHomeUrl': 627, u'SetHeading': 31284, u'GetUseServiceAuthentication': 3, u'LatitudeFromAddress': 906, u'SetKeepAspectRatio': 6, u'GetSearchResults': 4, u'PrepareRsaKeyPair': 1, u'pinMode': 1, u'GetLeftStickY': 6, u'methods': 1, u'GetBallotQuestion': 2, u'GetImagePath': 1, u'ConnectWithAddress': 2, u'GetCloseScreenAnimation': 35, u'isRegistered': 2, u'setHmacSeedReturnCode': 3, u'RequestFollowers': 194, u'GetLanguage': 145, u'GetLightDetectedRaw': 6, u'TweetWithImage': 258, u'GetFollowers': 12, u'SetImageHeading': 5, u'UploadDataSet': 1, u'SetAlignVertical': 105, u'pet': 1, u'MicIsOn': 5, u'GetAllowCookies': 13, u'GetRows': 269, u'ReceiveUnsigned4ByteNumber': 34, u'GetLongitude': 11342, u'ClearTag': 2101, u'callnoreturn': 38330, u'CheckAuthorized': 271, u'RetrievedRawResults': 1, u'SetWidth': 12803, u'SetSource': 19267, u'GetRadius': 6619, u'GetSignalDetected': 6, u'SetPlayInForeground': 2, u'power': 12349, u'Timer': 38266, u'oet': 1, u'AddDuration': 4, u'BytesAvailableToReceive': 4324, u'GetScanning': 4, u'GetCurrentPageTitle': 953, u'EnableZoomGesture': 1, u'post': 1, u'BeforeGettingText': 1753, u'subtract': 41331, u'Loop': 9, u'GotFile': 1234, u'on': 3921, u'SetOriginCenter': 4, u'SetUseGPS': 1, u'dlock': 1, u'SetAboutScreen': 683, u'SetWidthPercent': 378, u'GetLightLevel': 139, u'AfterActivity': 1540, u'ForgetLogin': 3097, u'GetExtraKey': 4, u'GetDay': 3537, u'GetTitle': 784, u'MicON': 4, u'ActivityError': 2, u'or': 11238, u'SetLineWidth': 13736, u'SetHeight': 11324, u'Tweet': 556, u'SetResultName': 620, u'GetItemBackgroundColor': 4, u'GetKeyFile': 7, u'OrientationChanged': 10796, u'jet': 1, u'Touched': 31809, u'JsonTextDecode': 2968, u'negate': 16833, u'GetShowFeedback': 118, u'ImageUploaded': 1, u'Login': 3, u'het': 1, u'ResetInputScaledValue': 1, u'SetUseExternalScanner': 84, u'startLeScan': 4, u'GetShowStatusBar': 10, u'CalibrationFailed': 1, u'SetSelectionIndex': 680, u'PlaySoundFile': 30, u'PutFile': 48, u'AcceptConnectionWithUUID': 39, u'DeleteFile': 5, u'SetDateToDisplay': 706, u'shutdown': 3, u'GetIsMicON': 1, u'MenuClearAll': 1, u'SetSelectionColor': 38, u'GetTextAlignment': 13, u'ShareFile': 1567, u'CollidingWith': 6637, u'GetItemTextColor': 13, u'GetYear': 3401, u'AfterSoundRecorded': 3881, u'DisplayDropdown': 401, u'GetSoundLevel': 87, u'MoveIntoBounds': 638, u'ReceiveUnsigned1ByteNumber': 305, u'GetTitleVisible': 9, u'BluetoothError': 6, u'FoundDevice': 1, u'SetProviderLocked': 659, u'GetAboutScreen': 118, u'SetExtras': 27, u'GetReadMode': 156, u'trim': 5224, u'block': 5, u'ValueWrite': 2, u'trig': 1638, u'SetPrompt': 230, u'latet': 1, u'AppendToFile': 1811, u'single': 7425, u'GetZAccel': 1624, u'SetUserId': 1, u'ConnectionAccepted': 2636, u'openAnotherScreen': 29104, u'TurnCounterClockwiseIndefinitely': 715, u'OtherPlayerStarted': 207, u'SetTimeInterval': 275, u'GetBackgroundImage': 2132, u'floor': 3683, u'DurationToDays': 5, u'BackPressed': 6641, u'SetBackgroundColor': 24893, u'GetSelectedDeviceName': 1, u'methob': 1, u'GotBallot': 1, u'GetCurrentUrl': 1181, u'lookup': 1475, u'GetThumbPosition': 8606, u'changeCase': 10543, u'SetFontSize': 6274, u'SpeedChangeSmoothlyTo': 3, u'GetChecked': 17437, u'OnTouching': 1, u'GCMInfoReceived': 2, u'AfterTextInput': 7869, u'LaunchPicker': 569, u'ResetMotorPosition': 8, u'GetResult': 7205, u'GetFullScreen': 57, u'GetRoll': 1976, u'FillCanvas': 7, u'eval': 2027, u'variable': 45713, u'PointInDirection': 2328, u'GetLightDetected': 6, u'AddMinutes': 271, u'longet': 1, u'SetScrollable': 572, u'GetAvailableProviders': 1150, u'SetCurrentPosition': 3, u'SetPromptforPermission': 28, u'LogWarning': 906, u'Second': 2720, u'PostTextWithEncoding': 78, u'ReceiveSignedBytes': 317, u'Year': 2013, u'SetHomeUrl': 6508, u'ReadFrom': 3473, u'SetShowFeedback': 151, u'GPSLost': 1} \n",
      "\n",
      "\n"
     ]
    }
   ],
   "source": [
    "# #list of all functions used\n",
    "# allFunctions = set()\n",
    "# allFunctionsD = {}\n",
    "# i=0 \n",
    "# for user in all_users: \n",
    "#     functions = functionDict(getProjects(user, \"LANGUAGE\")).keys()\n",
    "#     for funcName in functions\n",
    "#         if funcName not in allFunctions: \n",
    "#             allFunctions.add(funcName)\n",
    "#             allFunctionsD[funcName] = 1\n",
    "#         else: \n",
    "#             allFunctionsD[funcName] +=1\n",
    "\n",
    "#     if i % 1000 == 0: \n",
    "#         print i\n",
    "#     i+=1 \n",
    "# print allFunctionsD, '\\n\\n'\n",
    "# commonFList =[]\n",
    "# rareFList = []\n",
    "# for k in allFunctionsD: \n",
    "#     if allFunctionsD[k] > 15: \n",
    "#         commonFList.append(k)\n",
    "#     else:\n",
    "#         rareFList.append(k) \n"
   ]
  },
  {
   "cell_type": "code",
   "execution_count": 221,
   "metadata": {
    "collapsed": false
   },
   "outputs": [
    {
     "name": "stdout",
     "output_type": "stream",
     "text": [
      "[(u'GetRegId', 1), (u'LsRead', 1), (u'ReadBatteryLevel', 1), (u'ShowInterstitialAd', 1), (u'GetDpadUp', 1), (u'EnableScroll', 1), (u'GetReleasedEventEnabled', 1), (u'SetImages', 1), (u'methor', 1), (u'GetDpadDown', 1), (u'BatteryLevelUpdated', 1), (u'methos', 1), (u'playerskin', 1), (u'methoi', 1), (u'methol', 1), (u'net', 1), (u'ResultsToSimpleJSON', 1), (u'OnMapClick', 1), (u'GotBallotConfirmation', 1), (u'RsaTextEncrypt', 1), (u'MenuItemSelected', 1), (u'EnableMyLocation', 1), (u'GetPower', 1), (u'AesFileDecrypt', 1), (u'SetInputMode', 1), (u'ScanDevice', 1), (u'GetSelectedDeviceRssi', 1), (u'AdFailedToLoad', 1), (u'GetDeviceList', 1), (u'plane', 1), (u'SetPropertyURI', 1), (u'methogs', 1), (u'GotResponseFromServer', 1), (u'EnableCompass', 1), (u'mode', 1), (u'OnTouchDown', 1), (u'RsaTextDecrypt', 1), (u'iet', 1), (u'OnMapLongClick', 1), (u'StopSoundPlayback', 1), (u'MicOFF', 1), (u'MenuShow', 1), (u'GetRightStickY', 1), (u'GetColorChangedEventEnabled', 1), (u'clock', 1), (u'LightChanged', 1), (u'VideoPlayerError', 1), (u'GetUseGPS', 1), (u'EnableZoomControl', 1), (u'SendBallot', 1), (u'methom', 1), (u'GetUserEmailAddress', 1), (u'GetServerURL', 1), (u'UnsupportedQueryType', 1), (u'SetSubject', 1), (u'methog', 1), (u'MenuItemAdd', 1), (u'AesFileEncrypt', 1), (u'GetCurrentPosition', 1), (u'pinout', 1), (u'elock', 1), (u'ObtenerValor', 1), (u'RssiChanged', 1), (u'InitializeMenu', 1), (u'methofs', 1), (u'NoOpenPoll', 1), (u'AdLoaded', 1), (u'GetScaling', 1), (u'met', 1), (u'let', 1), (u'EnableMapLongClickListener', 1), (u'SetSortOrder', 1), (u'SetPadding', 1), (u'save', 1), (u'SetStrideLength', 1), (u'SetUserChoice', 1), (u'commaet', 1), (u'SelectedDevice', 1), (u'LsWrite', 1), (u'DurationToWeeks', 1), (u'EnableRotate', 1), (u'GetTwitPic_API_Key', 1), (u'Reset', 1), (u'EnableMapClickListener', 1), (u'PrepareRsaKeyPair', 1), (u'pinMode', 1), (u'methods', 1), (u'GetImagePath', 1), (u'UploadDataSet', 1), (u'pet', 1), (u'RetrievedRawResults', 1), (u'oet', 1), (u'EnableZoomGesture', 1), (u'post', 1), (u'SetUseGPS', 1), (u'dlock', 1), (u'jet', 1), (u'ImageUploaded', 1), (u'het', 1), (u'ResetInputScaledValue', 1), (u'CalibrationFailed', 1), (u'GetIsMicON', 1), (u'MenuClearAll', 1), (u'FoundDevice', 1), (u'latet', 1), (u'SetUserId', 1), (u'GetSelectedDeviceName', 1), (u'methob', 1), (u'GotBallot', 1), (u'OnTouching', 1), (u'longet', 1), (u'GPSLost', 1), (u'GetRegId', 1), (u'LsRead', 1), (u'ReadBatteryLevel', 1), (u'ShowInterstitialAd', 1), (u'GetDpadUp', 1), (u'EnableScroll', 1), (u'GetReleasedEventEnabled', 1), (u'SetImages', 1), (u'methor', 1), (u'GetDpadDown', 1), (u'BatteryLevelUpdated', 1), (u'methos', 1), (u'playerskin', 1), (u'methoi', 1), (u'methol', 1), (u'net', 1), (u'ResultsToSimpleJSON', 1), (u'OnMapClick', 1), (u'GotBallotConfirmation', 1), (u'RsaTextEncrypt', 1), (u'MenuItemSelected', 1), (u'EnableMyLocation', 1), (u'GetPower', 1), (u'AesFileDecrypt', 1), (u'SetInputMode', 1), (u'ScanDevice', 1), (u'GetSelectedDeviceRssi', 1), (u'AdFailedToLoad', 1), (u'GetDeviceList', 1), (u'plane', 1), (u'SetPropertyURI', 1), (u'methogs', 1), (u'GotResponseFromServer', 1), (u'EnableCompass', 1), (u'mode', 1), (u'OnTouchDown', 1), (u'RsaTextDecrypt', 1), (u'iet', 1), (u'OnMapLongClick', 1), (u'StopSoundPlayback', 1), (u'MicOFF', 1), (u'MenuShow', 1), (u'GetRightStickY', 1), (u'GetColorChangedEventEnabled', 1), (u'clock', 1), (u'LightChanged', 1), (u'VideoPlayerError', 1), (u'GetUseGPS', 1), (u'EnableZoomControl', 1), (u'SendBallot', 1), (u'methom', 1), (u'GetUserEmailAddress', 1), (u'GetServerURL', 1), (u'UnsupportedQueryType', 1), (u'SetSubject', 1), (u'methog', 1), (u'MenuItemAdd', 1), (u'AesFileEncrypt', 1), (u'GetCurrentPosition', 1), (u'pinout', 1), (u'elock', 1), (u'ObtenerValor', 1), (u'RssiChanged', 1), (u'InitializeMenu', 1), (u'methofs', 1), (u'NoOpenPoll', 1), (u'AdLoaded', 1), (u'GetScaling', 1), (u'met', 1), (u'let', 1), (u'EnableMapLongClickListener', 1), (u'SetSortOrder', 1), (u'SetPadding', 1), (u'save', 1), (u'SetStrideLength', 1), (u'SetUserChoice', 1), (u'commaet', 1), (u'SelectedDevice', 1), (u'LsWrite', 1), (u'DurationToWeeks', 1), (u'EnableRotate', 1), (u'GetTwitPic_API_Key', 1), (u'Reset', 1), (u'EnableMapClickListener', 1), (u'PrepareRsaKeyPair', 1), (u'pinMode', 1), (u'methods', 1), (u'GetImagePath', 1), (u'UploadDataSet', 1), (u'pet', 1), (u'RetrievedRawResults', 1), (u'oet', 1), (u'EnableZoomGesture', 1), (u'post', 1), (u'SetUseGPS', 1), (u'dlock', 1), (u'jet', 1), (u'ImageUploaded', 1), (u'het', 1), (u'ResetInputScaledValue', 1), (u'CalibrationFailed', 1), (u'GetIsMicON', 1), (u'MenuClearAll', 1), (u'FoundDevice', 1), (u'latet', 1), (u'SetUserId', 1), (u'GetSelectedDeviceName', 1), (u'methob', 1), (u'GotBallot', 1), (u'OnTouching', 1), (u'longet', 1), (u'GPSLost', 1), (u'GetRegId', 1), (u'LsRead', 1), (u'ReadBatteryLevel', 1), (u'ShowInterstitialAd', 1), (u'GetDpadUp', 1), (u'EnableScroll', 1), (u'GetReleasedEventEnabled', 1), (u'SetImages', 1), (u'methor', 1), (u'GetDpadDown', 1), (u'BatteryLevelUpdated', 1), (u'methos', 1), (u'playerskin', 1), (u'methoi', 1), (u'methol', 1), (u'net', 1), (u'ResultsToSimpleJSON', 1), (u'OnMapClick', 1), (u'GotBallotConfirmation', 1), (u'RsaTextEncrypt', 1), (u'MenuItemSelected', 1), (u'EnableMyLocation', 1), (u'GetPower', 1), (u'AesFileDecrypt', 1), (u'SetInputMode', 1), (u'ScanDevice', 1), (u'GetSelectedDeviceRssi', 1), (u'AdFailedToLoad', 1), (u'GetDeviceList', 1), (u'plane', 1), (u'SetPropertyURI', 1), (u'methogs', 1), (u'GotResponseFromServer', 1), (u'EnableCompass', 1), (u'mode', 1), (u'OnTouchDown', 1), (u'RsaTextDecrypt', 1), (u'iet', 1), (u'OnMapLongClick', 1), (u'StopSoundPlayback', 1), (u'MicOFF', 1), (u'MenuShow', 1), (u'GetRightStickY', 1), (u'GetColorChangedEventEnabled', 1), (u'clock', 1), (u'LightChanged', 1), (u'VideoPlayerError', 1), (u'GetUseGPS', 1), (u'EnableZoomControl', 1), (u'SendBallot', 1), (u'methom', 1), (u'GetUserEmailAddress', 1), (u'GetServerURL', 1), (u'UnsupportedQueryType', 1), (u'SetSubject', 1), (u'methog', 1), (u'MenuItemAdd', 1), (u'AesFileEncrypt', 1), (u'GetCurrentPosition', 1), (u'pinout', 1), (u'elock', 1), (u'ObtenerValor', 1), (u'RssiChanged', 1), (u'InitializeMenu', 1), (u'methofs', 1), (u'NoOpenPoll', 1), (u'AdLoaded', 1), (u'GetScaling', 1), (u'met', 1), (u'let', 1), (u'EnableMapLongClickListener', 1), (u'SetSortOrder', 1), (u'SetPadding', 1), (u'save', 1), (u'SetStrideLength', 1), (u'SetUserChoice', 1), (u'commaet', 1), (u'SelectedDevice', 1), (u'LsWrite', 1), (u'DurationToWeeks', 1), (u'EnableRotate', 1), (u'GetTwitPic_API_Key', 1), (u'Reset', 1), (u'EnableMapClickListener', 1), (u'PrepareRsaKeyPair', 1), (u'pinMode', 1), (u'methods', 1), (u'GetImagePath', 1), (u'UploadDataSet', 1), (u'pet', 1), (u'RetrievedRawResults', 1), (u'oet', 1), (u'EnableZoomGesture', 1), (u'post', 1), (u'SetUseGPS', 1), (u'dlock', 1), (u'jet', 1), (u'ImageUploaded', 1), (u'het', 1), (u'ResetInputScaledValue', 1), (u'CalibrationFailed', 1), (u'GetIsMicON', 1), (u'MenuClearAll', 1), (u'FoundDevice', 1), (u'latet', 1), (u'SetUserId', 1), (u'GetSelectedDeviceName', 1), (u'methob', 1), (u'GotBallot', 1), (u'OnTouching', 1), (u'longet', 1), (u'GPSLost', 1), (u'GetRegId', 1), (u'LsRead', 1), (u'ReadBatteryLevel', 1), (u'ShowInterstitialAd', 1), (u'GetDpadUp', 1), (u'EnableScroll', 1), (u'GetReleasedEventEnabled', 1), (u'SetImages', 1), (u'methor', 1), (u'GetDpadDown', 1), (u'BatteryLevelUpdated', 1), (u'methos', 1), (u'playerskin', 1), (u'methoi', 1), (u'methol', 1), (u'net', 1), (u'ResultsToSimpleJSON', 1), (u'OnMapClick', 1), (u'GotBallotConfirmation', 1), (u'RsaTextEncrypt', 1), (u'MenuItemSelected', 1), (u'EnableMyLocation', 1), (u'GetPower', 1), (u'AesFileDecrypt', 1), (u'SetInputMode', 1), (u'ScanDevice', 1), (u'GetSelectedDeviceRssi', 1), (u'AdFailedToLoad', 1), (u'GetDeviceList', 1), (u'plane', 1), (u'SetPropertyURI', 1), (u'methogs', 1), (u'GotResponseFromServer', 1), (u'EnableCompass', 1), (u'mode', 1), (u'OnTouchDown', 1), (u'RsaTextDecrypt', 1), (u'iet', 1), (u'OnMapLongClick', 1), (u'StopSoundPlayback', 1), (u'MicOFF', 1), (u'MenuShow', 1), (u'GetRightStickY', 1), (u'GetColorChangedEventEnabled', 1), (u'clock', 1), (u'LightChanged', 1), (u'VideoPlayerError', 1), (u'GetUseGPS', 1), (u'EnableZoomControl', 1), (u'SendBallot', 1), (u'methom', 1), (u'GetUserEmailAddress', 1), (u'GetServerURL', 1), (u'UnsupportedQueryType', 1), (u'SetSubject', 1), (u'methog', 1), (u'MenuItemAdd', 1), (u'AesFileEncrypt', 1), (u'GetCurrentPosition', 1), (u'pinout', 1), (u'elock', 1), (u'ObtenerValor', 1), (u'RssiChanged', 1), (u'InitializeMenu', 1), (u'methofs', 1), (u'NoOpenPoll', 1), (u'AdLoaded', 1), (u'GetScaling', 1), (u'met', 1), (u'let', 1), (u'EnableMapLongClickListener', 1), (u'SetSortOrder', 1), (u'SetPadding', 1), (u'save', 1), (u'SetStrideLength', 1), (u'SetUserChoice', 1), (u'commaet', 1), (u'SelectedDevice', 1), (u'LsWrite', 1), (u'DurationToWeeks', 1), (u'EnableRotate', 1), (u'GetTwitPic_API_Key', 1), (u'Reset', 1), (u'EnableMapClickListener', 1), (u'PrepareRsaKeyPair', 1), (u'pinMode', 1), (u'methods', 1), (u'GetImagePath', 1), (u'UploadDataSet', 1), (u'pet', 1), (u'RetrievedRawResults', 1), (u'oet', 1), (u'EnableZoomGesture', 1), (u'post', 1), (u'SetUseGPS', 1), (u'dlock', 1), (u'jet', 1), (u'ImageUploaded', 1), (u'het', 1), (u'ResetInputScaledValue', 1), (u'CalibrationFailed', 1), (u'GetIsMicON', 1), (u'MenuClearAll', 1), (u'FoundDevice', 1), (u'latet', 1), (u'SetUserId', 1), (u'GetSelectedDeviceName', 1), (u'methob', 1), (u'GotBallot', 1), (u'OnTouching', 1), (u'longet', 1), (u'GPSLost', 1), (u'GetRegId', 1), (u'LsRead', 1), (u'ReadBatteryLevel', 1), (u'ShowInterstitialAd', 1), (u'GetDpadUp', 1), (u'EnableScroll', 1), (u'GetReleasedEventEnabled', 1), (u'SetImages', 1), (u'methor', 1), (u'GetDpadDown', 1), (u'BatteryLevelUpdated', 1), (u'methos', 1), (u'playerskin', 1), (u'methoi', 1), (u'methol', 1), (u'net', 1), (u'ResultsToSimpleJSON', 1), (u'OnMapClick', 1), (u'GotBallotConfirmation', 1), (u'RsaTextEncrypt', 1), (u'MenuItemSelected', 1), (u'EnableMyLocation', 1), (u'GetPower', 1), (u'AesFileDecrypt', 1), (u'SetInputMode', 1), (u'ScanDevice', 1), (u'GetSelectedDeviceRssi', 1), (u'AdFailedToLoad', 1), (u'GetDeviceList', 1), (u'plane', 1), (u'SetPropertyURI', 1), (u'methogs', 1), (u'GotResponseFromServer', 1), (u'EnableCompass', 1), (u'mode', 1), (u'OnTouchDown', 1), (u'RsaTextDecrypt', 1), (u'iet', 1), (u'OnMapLongClick', 1), (u'StopSoundPlayback', 1), (u'MicOFF', 1), (u'MenuShow', 1), (u'GetRightStickY', 1), (u'GetColorChangedEventEnabled', 1), (u'clock', 1), (u'LightChanged', 1), (u'VideoPlayerError', 1), (u'GetUseGPS', 1), (u'EnableZoomControl', 1), (u'SendBallot', 1), (u'methom', 1), (u'GetUserEmailAddress', 1), (u'GetServerURL', 1), (u'UnsupportedQueryType', 1), (u'SetSubject', 1), (u'methog', 1), (u'MenuItemAdd', 1), (u'AesFileEncrypt', 1), (u'GetCurrentPosition', 1), (u'pinout', 1), (u'elock', 1), (u'ObtenerValor', 1), (u'RssiChanged', 1), (u'InitializeMenu', 1), (u'methofs', 1), (u'NoOpenPoll', 1), (u'AdLoaded', 1), (u'GetScaling', 1), (u'met', 1), (u'let', 1), (u'EnableMapLongClickListener', 1), (u'SetSortOrder', 1), (u'SetPadding', 1), (u'save', 1), (u'SetStrideLength', 1), (u'SetUserChoice', 1), (u'commaet', 1), (u'SelectedDevice', 1), (u'LsWrite', 1), (u'DurationToWeeks', 1), (u'EnableRotate', 1), (u'GetTwitPic_API_Key', 1), (u'Reset', 1), (u'EnableMapClickListener', 1), (u'PrepareRsaKeyPair', 1), (u'pinMode', 1), (u'methods', 1), (u'GetImagePath', 1), (u'UploadDataSet', 1), (u'pet', 1), (u'RetrievedRawResults', 1), (u'oet', 1), (u'EnableZoomGesture', 1), (u'post', 1), (u'SetUseGPS', 1), (u'dlock', 1), (u'jet', 1), (u'ImageUploaded', 1), (u'het', 1), (u'ResetInputScaledValue', 1), (u'CalibrationFailed', 1), (u'GetIsMicON', 1), (u'MenuClearAll', 1), (u'FoundDevice', 1), (u'latet', 1), (u'SetUserId', 1), (u'GetSelectedDeviceName', 1), (u'methob', 1), (u'GotBallot', 1), (u'OnTouching', 1), (u'longet', 1), (u'GPSLost', 1), (u'GetRegId', 1), (u'LsRead', 1), (u'ReadBatteryLevel', 1), (u'ShowInterstitialAd', 1), (u'GetDpadUp', 1), (u'EnableScroll', 1), (u'GetReleasedEventEnabled', 1), (u'SetImages', 1), (u'methor', 1), (u'GetDpadDown', 1), (u'BatteryLevelUpdated', 1), (u'methos', 1), (u'playerskin', 1), (u'methoi', 1), (u'methol', 1), (u'net', 1), (u'ResultsToSimpleJSON', 1), (u'OnMapClick', 1), (u'GotBallotConfirmation', 1), (u'RsaTextEncrypt', 1), (u'MenuItemSelected', 1), (u'EnableMyLocation', 1), (u'GetPower', 1), (u'AesFileDecrypt', 1), (u'SetInputMode', 1), (u'ScanDevice', 1), (u'GetSelectedDeviceRssi', 1), (u'AdFailedToLoad', 1), (u'GetDeviceList', 1), (u'plane', 1), (u'SetPropertyURI', 1), (u'methogs', 1), (u'GotResponseFromServer', 1), (u'EnableCompass', 1), (u'mode', 1), (u'OnTouchDown', 1), (u'RsaTextDecrypt', 1), (u'iet', 1), (u'OnMapLongClick', 1), (u'StopSoundPlayback', 1), (u'MicOFF', 1), (u'MenuShow', 1), (u'GetRightStickY', 1), (u'GetColorChangedEventEnabled', 1), (u'clock', 1), (u'LightChanged', 1), (u'VideoPlayerError', 1), (u'GetUseGPS', 1), (u'EnableZoomControl', 1), (u'SendBallot', 1), (u'methom', 1), (u'GetUserEmailAddress', 1), (u'GetServerURL', 1), (u'UnsupportedQueryType', 1), (u'SetSubject', 1), (u'methog', 1), (u'MenuItemAdd', 1), (u'AesFileEncrypt', 1), (u'GetCurrentPosition', 1), (u'pinout', 1), (u'elock', 1), (u'ObtenerValor', 1), (u'RssiChanged', 1), (u'InitializeMenu', 1), (u'methofs', 1), (u'NoOpenPoll', 1), (u'AdLoaded', 1), (u'GetScaling', 1), (u'met', 1), (u'let', 1), (u'EnableMapLongClickListener', 1), (u'SetSortOrder', 1), (u'SetPadding', 1), (u'save', 1), (u'SetStrideLength', 1), (u'SetUserChoice', 1), (u'commaet', 1), (u'SelectedDevice', 1), (u'LsWrite', 1), (u'DurationToWeeks', 1), (u'EnableRotate', 1), (u'GetTwitPic_API_Key', 1), (u'Reset', 1), (u'EnableMapClickListener', 1), (u'PrepareRsaKeyPair', 1), (u'pinMode', 1), (u'methods', 1), (u'GetImagePath', 1), (u'UploadDataSet', 1), (u'pet', 1), (u'RetrievedRawResults', 1), (u'oet', 1), (u'EnableZoomGesture', 1), (u'post', 1), (u'SetUseGPS', 1), (u'dlock', 1), (u'jet', 1), (u'ImageUploaded', 1), (u'het', 1), (u'ResetInputScaledValue', 1), (u'CalibrationFailed', 1), (u'GetIsMicON', 1), (u'MenuClearAll', 1), (u'FoundDevice', 1), (u'latet', 1), (u'SetUserId', 1), (u'GetSelectedDeviceName', 1), (u'methob', 1), (u'GotBallot', 1), (u'OnTouching', 1), (u'longet', 1), (u'GPSLost', 1), (u'GetRegId', 1), (u'LsRead', 1), (u'ReadBatteryLevel', 1), (u'ShowInterstitialAd', 1), (u'GetDpadUp', 1), (u'EnableScroll', 1), (u'GetReleasedEventEnabled', 1), (u'SetImages', 1), (u'methor', 1), (u'GetDpadDown', 1), (u'BatteryLevelUpdated', 1), (u'methos', 1), (u'playerskin', 1), (u'methoi', 1), (u'methol', 1), (u'net', 1), (u'ResultsToSimpleJSON', 1), (u'OnMapClick', 1), (u'GotBallotConfirmation', 1), (u'RsaTextEncrypt', 1), (u'MenuItemSelected', 1), (u'EnableMyLocation', 1), (u'GetPower', 1), (u'AesFileDecrypt', 1), (u'SetInputMode', 1), (u'ScanDevice', 1), (u'GetSelectedDeviceRssi', 1), (u'AdFailedToLoad', 1), (u'GetDeviceList', 1), (u'plane', 1), (u'SetPropertyURI', 1), (u'methogs', 1), (u'GotResponseFromServer', 1), (u'EnableCompass', 1), (u'mode', 1), (u'OnTouchDown', 1), (u'RsaTextDecrypt', 1), (u'iet', 1), (u'OnMapLongClick', 1), (u'StopSoundPlayback', 1), (u'MicOFF', 1), (u'MenuShow', 1), (u'GetRightStickY', 1), (u'GetColorChangedEventEnabled', 1), (u'clock', 1), (u'LightChanged', 1), (u'VideoPlayerError', 1), (u'GetUseGPS', 1), (u'EnableZoomControl', 1), (u'SendBallot', 1), (u'methom', 1), (u'GetUserEmailAddress', 1), (u'GetServerURL', 1), (u'UnsupportedQueryType', 1), (u'SetSubject', 1), (u'methog', 1), (u'MenuItemAdd', 1), (u'AesFileEncrypt', 1), (u'GetCurrentPosition', 1), (u'pinout', 1), (u'elock', 1), (u'ObtenerValor', 1), (u'RssiChanged', 1), (u'InitializeMenu', 1), (u'methofs', 1), (u'NoOpenPoll', 1), (u'AdLoaded', 1), (u'GetScaling', 1), (u'met', 1), (u'let', 1), (u'EnableMapLongClickListener', 1), (u'SetSortOrder', 1), (u'SetPadding', 1), (u'save', 1), (u'SetStrideLength', 1), (u'SetUserChoice', 1), (u'commaet', 1), (u'SelectedDevice', 1), (u'LsWrite', 1), (u'DurationToWeeks', 1), (u'EnableRotate', 1), (u'GetTwitPic_API_Key', 1), (u'Reset', 1), (u'EnableMapClickListener', 1), (u'PrepareRsaKeyPair', 1), (u'pinMode', 1), (u'methods', 1), (u'GetImagePath', 1), (u'UploadDataSet', 1), (u'pet', 1), (u'RetrievedRawResults', 1), (u'oet', 1), (u'EnableZoomGesture', 1), (u'post', 1), (u'SetUseGPS', 1), (u'dlock', 1), (u'jet', 1), (u'ImageUploaded', 1), (u'het', 1), (u'ResetInputScaledValue', 1), (u'CalibrationFailed', 1), (u'GetIsMicON', 1), (u'MenuClearAll', 1), (u'FoundDevice', 1), (u'latet', 1), (u'SetUserId', 1), (u'GetSelectedDeviceName', 1), (u'methob', 1), (u'GotBallot', 1), (u'OnTouching', 1), (u'longet', 1), (u'GPSLost', 1), (u'GetRegId', 1), (u'LsRead', 1), (u'ReadBatteryLevel', 1), (u'ShowInterstitialAd', 1), (u'GetDpadUp', 1), (u'EnableScroll', 1), (u'GetReleasedEventEnabled', 1), (u'SetImages', 1), (u'methor', 1), (u'GetDpadDown', 1), (u'BatteryLevelUpdated', 1), (u'methos', 1), (u'playerskin', 1), (u'methoi', 1), (u'methol', 1), (u'net', 1), (u'ResultsToSimpleJSON', 1), (u'OnMapClick', 1), (u'GotBallotConfirmation', 1), (u'RsaTextEncrypt', 1), (u'MenuItemSelected', 1), (u'EnableMyLocation', 1), (u'GetPower', 1), (u'AesFileDecrypt', 1), (u'SetInputMode', 1), (u'ScanDevice', 1), (u'GetSelectedDeviceRssi', 1), (u'AdFailedToLoad', 1), (u'GetDeviceList', 1), (u'plane', 1), (u'SetPropertyURI', 1), (u'methogs', 1), (u'GotResponseFromServer', 1), (u'EnableCompass', 1), (u'mode', 1), (u'OnTouchDown', 1), (u'RsaTextDecrypt', 1), (u'iet', 1), (u'OnMapLongClick', 1), (u'StopSoundPlayback', 1), (u'MicOFF', 1), (u'MenuShow', 1), (u'GetRightStickY', 1), (u'GetColorChangedEventEnabled', 1), (u'clock', 1), (u'LightChanged', 1), (u'VideoPlayerError', 1), (u'GetUseGPS', 1), (u'EnableZoomControl', 1), (u'SendBallot', 1), (u'methom', 1), (u'GetUserEmailAddress', 1), (u'GetServerURL', 1), (u'UnsupportedQueryType', 1), (u'SetSubject', 1), (u'methog', 1), (u'MenuItemAdd', 1), (u'AesFileEncrypt', 1), (u'GetCurrentPosition', 1), (u'pinout', 1), (u'elock', 1), (u'ObtenerValor', 1), (u'RssiChanged', 1), (u'InitializeMenu', 1), (u'methofs', 1), (u'NoOpenPoll', 1), (u'AdLoaded', 1), (u'GetScaling', 1), (u'met', 1), (u'let', 1), (u'EnableMapLongClickListener', 1), (u'SetSortOrder', 1), (u'SetPadding', 1), (u'save', 1), (u'SetStrideLength', 1), (u'SetUserChoice', 1), (u'commaet', 1), (u'SelectedDevice', 1), (u'LsWrite', 1), (u'DurationToWeeks', 1), (u'EnableRotate', 1), (u'GetTwitPic_API_Key', 1), (u'Reset', 1), (u'EnableMapClickListener', 1), (u'PrepareRsaKeyPair', 1), (u'pinMode', 1), (u'methods', 1), (u'GetImagePath', 1), (u'UploadDataSet', 1), (u'pet', 1), (u'RetrievedRawResults', 1), (u'oet', 1), (u'EnableZoomGesture', 1), (u'post', 1), (u'SetUseGPS', 1), (u'dlock', 1), (u'jet', 1), (u'ImageUploaded', 1), (u'het', 1), (u'ResetInputScaledValue', 1), (u'CalibrationFailed', 1), (u'GetIsMicON', 1), (u'MenuClearAll', 1), (u'FoundDevice', 1), (u'latet', 1), (u'SetUserId', 1), (u'GetSelectedDeviceName', 1), (u'methob', 1), (u'GotBallot', 1), (u'OnTouching', 1), (u'longet', 1), (u'GPSLost', 1), (u'GetRegId', 1), (u'LsRead', 1), (u'ReadBatteryLevel', 1), (u'ShowInterstitialAd', 1), (u'GetDpadUp', 1), (u'EnableScroll', 1), (u'GetReleasedEventEnabled', 1), (u'SetImages', 1), (u'methor', 1), (u'GetDpadDown', 1), (u'BatteryLevelUpdated', 1), (u'methos', 1), (u'playerskin', 1), (u'methoi', 1), (u'methol', 1), (u'net', 1), (u'ResultsToSimpleJSON', 1), (u'OnMapClick', 1), (u'GotBallotConfirmation', 1), (u'RsaTextEncrypt', 1), (u'MenuItemSelected', 1), (u'EnableMyLocation', 1), (u'GetPower', 1), (u'AesFileDecrypt', 1), (u'SetInputMode', 1), (u'ScanDevice', 1), (u'GetSelectedDeviceRssi', 1), (u'AdFailedToLoad', 1), (u'GetDeviceList', 1), (u'plane', 1), (u'SetPropertyURI', 1), (u'methogs', 1), (u'GotResponseFromServer', 1), (u'EnableCompass', 1), (u'mode', 1), (u'OnTouchDown', 1), (u'RsaTextDecrypt', 1), (u'iet', 1), (u'OnMapLongClick', 1), (u'StopSoundPlayback', 1), (u'MicOFF', 1), (u'MenuShow', 1), (u'GetRightStickY', 1), (u'GetColorChangedEventEnabled', 1), (u'clock', 1), (u'LightChanged', 1), (u'VideoPlayerError', 1), (u'GetUseGPS', 1), (u'EnableZoomControl', 1), (u'SendBallot', 1), (u'methom', 1), (u'GetUserEmailAddress', 1), (u'GetServerURL', 1), (u'UnsupportedQueryType', 1), (u'SetSubject', 1), (u'methog', 1), (u'MenuItemAdd', 1), (u'AesFileEncrypt', 1), (u'GetCurrentPosition', 1), (u'pinout', 1), (u'elock', 1), (u'ObtenerValor', 1), (u'RssiChanged', 1), (u'InitializeMenu', 1), (u'methofs', 1), (u'NoOpenPoll', 1), (u'AdLoaded', 1), (u'GetScaling', 1), (u'met', 1), (u'let', 1), (u'EnableMapLongClickListener', 1), (u'SetSortOrder', 1), (u'SetPadding', 1), (u'save', 1), (u'SetStrideLength', 1), (u'SetUserChoice', 1), (u'commaet', 1), (u'SelectedDevice', 1), (u'LsWrite', 1), (u'DurationToWeeks', 1), (u'EnableRotate', 1), (u'GetTwitPic_API_Key', 1), (u'Reset', 1), (u'EnableMapClickListener', 1), (u'PrepareRsaKeyPair', 1), (u'pinMode', 1), (u'methods', 1), (u'GetImagePath', 1), (u'UploadDataSet', 1), (u'pet', 1), (u'RetrievedRawResults', 1), (u'oet', 1), (u'EnableZoomGesture', 1), (u'post', 1), (u'SetUseGPS', 1), (u'dlock', 1), (u'jet', 1), (u'ImageUploaded', 1), (u'het', 1), (u'ResetInputScaledValue', 1), (u'CalibrationFailed', 1), (u'GetIsMicON', 1), (u'MenuClearAll', 1), (u'FoundDevice', 1), (u'latet', 1), (u'SetUserId', 1), (u'GetSelectedDeviceName', 1), (u'methob', 1), (u'GotBallot', 1), (u'OnTouching', 1), (u'longet', 1), (u'GPSLost', 1), (u'digitalRead1', 2), (u'ConvertSoundlevelTodB', 2), (u'methoe', 2), (u'methof', 2), (u'GetBallotOptions', 2), (u'SetWeight', 2), (u'SetGravityInverted', 2), (u'HashTextEncode', 2), (u'GetReturnMessage', 2), (u'RegInfoReceived', 2), (u'AesTextDecrypt', 2), (u'GetPlayInForeground', 2), (u'GetExtras', 2), (u'Register', 2), (u'WalkStep', 2), (u'StoppedMoving', 2), (u'StartSharing', 2), (u'SetUseCanvasGravity', 2), (u'OnSettings', 2), (u'GetServiceAccountEmail', 2), (u'GetSoundLevelFromMic', 2), (u'DurationToHours', 2), (u'WriteStringValue', 2), (u'undefined', 2), (u'AddMarkersFromJson', 2), (u'GetStopBeforeDisconnect', 2), (u'SetBounceEnabled', 2), (u'FlashtOn', 2), (u'SetGravityEnabled', 2), (u'RequestBallot', 2), (u'HmacTextEncode', 2), (u'AesTextEncrypt', 2), (u'KeyReady', 2), (u'PrepareAesKey', 2), (u'GetRotationAngle', 2), (u'StartScanning', 2), (u'GetBallotQuestion', 2), (u'ConnectWithAddress', 2), (u'isRegistered', 2), (u'SetPlayInForeground', 2), (u'ActivityError', 2), (u'ValueWrite', 2), (u'GCMInfoReceived', 2), (u'digitalRead1', 2), (u'ConvertSoundlevelTodB', 2), (u'methoe', 2), (u'methof', 2), (u'GetBallotOptions', 2), (u'SetWeight', 2), (u'SetGravityInverted', 2), (u'HashTextEncode', 2), (u'GetReturnMessage', 2), (u'RegInfoReceived', 2), (u'AesTextDecrypt', 2), (u'GetPlayInForeground', 2), (u'GetExtras', 2), (u'Register', 2), (u'WalkStep', 2), (u'StoppedMoving', 2), (u'StartSharing', 2), (u'SetUseCanvasGravity', 2), (u'OnSettings', 2), (u'GetServiceAccountEmail', 2), (u'GetSoundLevelFromMic', 2), (u'DurationToHours', 2), (u'WriteStringValue', 2), (u'undefined', 2), (u'AddMarkersFromJson', 2), (u'GetStopBeforeDisconnect', 2), (u'SetBounceEnabled', 2), (u'FlashtOn', 2), (u'SetGravityEnabled', 2), (u'RequestBallot', 2), (u'HmacTextEncode', 2), (u'AesTextEncrypt', 2), (u'KeyReady', 2), (u'PrepareAesKey', 2), (u'GetRotationAngle', 2), (u'StartScanning', 2), (u'GetBallotQuestion', 2), (u'ConnectWithAddress', 2), (u'isRegistered', 2), (u'SetPlayInForeground', 2), (u'ActivityError', 2), (u'ValueWrite', 2), (u'GCMInfoReceived', 2), (u'digitalRead1', 2), (u'ConvertSoundlevelTodB', 2), (u'methoe', 2), (u'methof', 2), (u'GetBallotOptions', 2), (u'SetWeight', 2), (u'SetGravityInverted', 2), (u'HashTextEncode', 2), (u'GetReturnMessage', 2), (u'RegInfoReceived', 2), (u'AesTextDecrypt', 2), (u'GetPlayInForeground', 2), (u'GetExtras', 2), (u'Register', 2), (u'WalkStep', 2), (u'StoppedMoving', 2), (u'StartSharing', 2), (u'SetUseCanvasGravity', 2), (u'OnSettings', 2), (u'GetServiceAccountEmail', 2), (u'GetSoundLevelFromMic', 2), (u'DurationToHours', 2), (u'WriteStringValue', 2), (u'undefined', 2), (u'AddMarkersFromJson', 2), (u'GetStopBeforeDisconnect', 2), (u'SetBounceEnabled', 2), (u'FlashtOn', 2), (u'SetGravityEnabled', 2), (u'RequestBallot', 2), (u'HmacTextEncode', 2), (u'AesTextEncrypt', 2), (u'KeyReady', 2), (u'PrepareAesKey', 2), (u'GetRotationAngle', 2), (u'StartScanning', 2), (u'GetBallotQuestion', 2), (u'ConnectWithAddress', 2), (u'isRegistered', 2), (u'SetPlayInForeground', 2), (u'ActivityError', 2), (u'ValueWrite', 2), (u'GCMInfoReceived', 2), (u'digitalRead1', 2), (u'ConvertSoundlevelTodB', 2), (u'methoe', 2), (u'methof', 2), (u'GetBallotOptions', 2), (u'SetWeight', 2), (u'SetGravityInverted', 2), (u'HashTextEncode', 2), (u'GetReturnMessage', 2), (u'RegInfoReceived', 2), (u'AesTextDecrypt', 2), (u'GetPlayInForeground', 2), (u'GetExtras', 2), (u'Register', 2), (u'WalkStep', 2), (u'StoppedMoving', 2), (u'StartSharing', 2), (u'SetUseCanvasGravity', 2), (u'OnSettings', 2), (u'GetServiceAccountEmail', 2), (u'GetSoundLevelFromMic', 2), (u'DurationToHours', 2), (u'WriteStringValue', 2), (u'undefined', 2), (u'AddMarkersFromJson', 2), (u'GetStopBeforeDisconnect', 2), (u'SetBounceEnabled', 2), (u'FlashtOn', 2), (u'SetGravityEnabled', 2), (u'RequestBallot', 2), (u'HmacTextEncode', 2), (u'AesTextEncrypt', 2), (u'KeyReady', 2), (u'PrepareAesKey', 2), (u'GetRotationAngle', 2), (u'StartScanning', 2), (u'GetBallotQuestion', 2), (u'ConnectWithAddress', 2), (u'isRegistered', 2), (u'SetPlayInForeground', 2), (u'ActivityError', 2), (u'ValueWrite', 2), (u'GCMInfoReceived', 2), (u'digitalRead1', 2), (u'ConvertSoundlevelTodB', 2), (u'methoe', 2), (u'methof', 2), (u'GetBallotOptions', 2), (u'SetWeight', 2), (u'SetGravityInverted', 2), (u'HashTextEncode', 2), (u'GetReturnMessage', 2), (u'RegInfoReceived', 2), (u'AesTextDecrypt', 2), (u'GetPlayInForeground', 2), (u'GetExtras', 2), (u'Register', 2), (u'WalkStep', 2), (u'StoppedMoving', 2), (u'StartSharing', 2), (u'SetUseCanvasGravity', 2), (u'OnSettings', 2), (u'GetServiceAccountEmail', 2), (u'GetSoundLevelFromMic', 2), (u'DurationToHours', 2), (u'WriteStringValue', 2), (u'undefined', 2), (u'AddMarkersFromJson', 2), (u'GetStopBeforeDisconnect', 2), (u'SetBounceEnabled', 2), (u'FlashtOn', 2), (u'SetGravityEnabled', 2), (u'RequestBallot', 2), (u'HmacTextEncode', 2), (u'AesTextEncrypt', 2), (u'KeyReady', 2), (u'PrepareAesKey', 2), (u'GetRotationAngle', 2), (u'StartScanning', 2), (u'GetBallotQuestion', 2), (u'ConnectWithAddress', 2), (u'isRegistered', 2), (u'SetPlayInForeground', 2), (u'ActivityError', 2), (u'ValueWrite', 2), (u'GCMInfoReceived', 2), (u'digitalRead1', 2), (u'ConvertSoundlevelTodB', 2), (u'methoe', 2), (u'methof', 2), (u'GetBallotOptions', 2), (u'SetWeight', 2), (u'SetGravityInverted', 2), (u'HashTextEncode', 2), (u'GetReturnMessage', 2), (u'RegInfoReceived', 2), (u'AesTextDecrypt', 2), (u'GetPlayInForeground', 2), (u'GetExtras', 2), (u'Register', 2), (u'WalkStep', 2), (u'StoppedMoving', 2), (u'StartSharing', 2), (u'SetUseCanvasGravity', 2), (u'OnSettings', 2), (u'GetServiceAccountEmail', 2), (u'GetSoundLevelFromMic', 2), (u'DurationToHours', 2), (u'WriteStringValue', 2), (u'undefined', 2), (u'AddMarkersFromJson', 2), (u'GetStopBeforeDisconnect', 2), (u'SetBounceEnabled', 2), (u'FlashtOn', 2), (u'SetGravityEnabled', 2), (u'RequestBallot', 2), (u'HmacTextEncode', 2), (u'AesTextEncrypt', 2), (u'KeyReady', 2), (u'PrepareAesKey', 2), (u'GetRotationAngle', 2), (u'StartScanning', 2), (u'GetBallotQuestion', 2), (u'ConnectWithAddress', 2), (u'isRegistered', 2), (u'SetPlayInForeground', 2), (u'ActivityError', 2), (u'ValueWrite', 2), (u'GCMInfoReceived', 2), (u'digitalRead1', 2), (u'ConvertSoundlevelTodB', 2), (u'methoe', 2), (u'methof', 2), (u'GetBallotOptions', 2), (u'SetWeight', 2), (u'SetGravityInverted', 2), (u'HashTextEncode', 2), (u'GetReturnMessage', 2), (u'RegInfoReceived', 2), (u'AesTextDecrypt', 2), (u'GetPlayInForeground', 2), (u'GetExtras', 2), (u'Register', 2), (u'WalkStep', 2), (u'StoppedMoving', 2), (u'StartSharing', 2), (u'SetUseCanvasGravity', 2), (u'OnSettings', 2), (u'GetServiceAccountEmail', 2), (u'GetSoundLevelFromMic', 2), (u'DurationToHours', 2), (u'WriteStringValue', 2), (u'undefined', 2), (u'AddMarkersFromJson', 2), (u'GetStopBeforeDisconnect', 2), (u'SetBounceEnabled', 2), (u'FlashtOn', 2), (u'SetGravityEnabled', 2), (u'RequestBallot', 2), (u'HmacTextEncode', 2), (u'AesTextEncrypt', 2), (u'KeyReady', 2), (u'PrepareAesKey', 2), (u'GetRotationAngle', 2), (u'StartScanning', 2), (u'GetBallotQuestion', 2), (u'ConnectWithAddress', 2), (u'isRegistered', 2), (u'SetPlayInForeground', 2), (u'ActivityError', 2), (u'ValueWrite', 2), (u'GCMInfoReceived', 2), (u'digitalRead1', 2), (u'ConvertSoundlevelTodB', 2), (u'methoe', 2), (u'methof', 2), (u'GetBallotOptions', 2), (u'SetWeight', 2), (u'SetGravityInverted', 2), (u'HashTextEncode', 2), (u'GetReturnMessage', 2), (u'RegInfoReceived', 2), (u'AesTextDecrypt', 2), (u'GetPlayInForeground', 2), (u'GetExtras', 2), (u'Register', 2), (u'WalkStep', 2), (u'StoppedMoving', 2), (u'StartSharing', 2), (u'SetUseCanvasGravity', 2), (u'OnSettings', 2), (u'GetServiceAccountEmail', 2), (u'GetSoundLevelFromMic', 2), (u'DurationToHours', 2), (u'WriteStringValue', 2), (u'undefined', 2), (u'AddMarkersFromJson', 2), (u'GetStopBeforeDisconnect', 2), (u'SetBounceEnabled', 2), (u'FlashtOn', 2), (u'SetGravityEnabled', 2), (u'RequestBallot', 2), (u'HmacTextEncode', 2), (u'AesTextEncrypt', 2), (u'KeyReady', 2), (u'PrepareAesKey', 2), (u'GetRotationAngle', 2), (u'StartScanning', 2), (u'GetBallotQuestion', 2), (u'ConnectWithAddress', 2), (u'isRegistered', 2), (u'SetPlayInForeground', 2), (u'ActivityError', 2), (u'ValueWrite', 2), (u'GCMInfoReceived', 2), (u'digitalRead1', 2), (u'ConvertSoundlevelTodB', 2), (u'methoe', 2), (u'methof', 2), (u'GetBallotOptions', 2), (u'SetWeight', 2), (u'SetGravityInverted', 2), (u'HashTextEncode', 2), (u'GetReturnMessage', 2), (u'RegInfoReceived', 2), (u'AesTextDecrypt', 2), (u'GetPlayInForeground', 2), (u'GetExtras', 2), (u'Register', 2), (u'WalkStep', 2), (u'StoppedMoving', 2), (u'StartSharing', 2), (u'SetUseCanvasGravity', 2), (u'OnSettings', 2), (u'GetServiceAccountEmail', 2), (u'GetSoundLevelFromMic', 2), (u'DurationToHours', 2), (u'WriteStringValue', 2), (u'undefined', 2), (u'AddMarkersFromJson', 2), (u'GetStopBeforeDisconnect', 2), (u'SetBounceEnabled', 2), (u'FlashtOn', 2), (u'SetGravityEnabled', 2), (u'RequestBallot', 2), (u'HmacTextEncode', 2), (u'AesTextEncrypt', 2), (u'KeyReady', 2), (u'PrepareAesKey', 2), (u'GetRotationAngle', 2), (u'StartScanning', 2), (u'GetBallotQuestion', 2), (u'ConnectWithAddress', 2), (u'isRegistered', 2), (u'SetPlayInForeground', 2), (u'ActivityError', 2), (u'ValueWrite', 2), (u'GCMInfoReceived', 2), (u'PlayerError', 3), (u'nothing', 3), (u'GetWithinRangeEventEnabled', 3), (u'Glide', 3), (u'Base64DecodeToFile', 3), (u'GPSAvailable', 3), (u'startHTTPD', 3), (u'ExecuteSPARQLQuery', 3), (u'RetrievedResults', 3), (u'getVersionName', 3), (u'installURL', 3), (u'return', 3), (u'SetAdEnabled', 3), (u'GetProjectBucket', 3), (u'StopFollowingObject', 3), (u'Connected', 3), (u'StartedMoving', 3), (u'CanvasBoundaryEnabled', 3), (u'GetMentions', 3), (u'LoadAd', 3), (u'OrbitObject', 3), (u'Unauthenticate', 3), (u'GetWifiIpAddress', 3), (u'SetRelationToObject', 3), (u'isDirect', 3), (u'DurationToMinutes', 3), (u'setAssetsLoaded', 3), (u'GetUseServiceAuthentication', 3), (u'setHmacSeedReturnCode', 3), (u'Login', 3), (u'shutdown', 3), (u'SpeedChangeSmoothlyTo', 3), (u'SetCurrentPosition', 3), (u'PlayerError', 3), (u'nothing', 3), (u'GetWithinRangeEventEnabled', 3), (u'Glide', 3), (u'Base64DecodeToFile', 3), (u'GPSAvailable', 3), (u'startHTTPD', 3), (u'ExecuteSPARQLQuery', 3), (u'RetrievedResults', 3), (u'getVersionName', 3), (u'installURL', 3), (u'return', 3), (u'SetAdEnabled', 3), (u'GetProjectBucket', 3), (u'StopFollowingObject', 3), (u'Connected', 3), (u'StartedMoving', 3), (u'CanvasBoundaryEnabled', 3), (u'GetMentions', 3), (u'LoadAd', 3), (u'OrbitObject', 3), (u'Unauthenticate', 3), (u'GetWifiIpAddress', 3), (u'SetRelationToObject', 3), (u'isDirect', 3), (u'DurationToMinutes', 3), (u'setAssetsLoaded', 3), (u'GetUseServiceAuthentication', 3), (u'setHmacSeedReturnCode', 3), (u'Login', 3), (u'shutdown', 3), (u'SpeedChangeSmoothlyTo', 3), (u'SetCurrentPosition', 3), (u'PlayerError', 3), (u'nothing', 3), (u'GetWithinRangeEventEnabled', 3), (u'Glide', 3), (u'Base64DecodeToFile', 3), (u'GPSAvailable', 3), (u'startHTTPD', 3), (u'ExecuteSPARQLQuery', 3), (u'RetrievedResults', 3), (u'getVersionName', 3), (u'installURL', 3), (u'return', 3), (u'SetAdEnabled', 3), (u'GetProjectBucket', 3), (u'StopFollowingObject', 3), (u'Connected', 3), (u'StartedMoving', 3), (u'CanvasBoundaryEnabled', 3), (u'GetMentions', 3), (u'LoadAd', 3), (u'OrbitObject', 3), (u'Unauthenticate', 3), (u'GetWifiIpAddress', 3), (u'SetRelationToObject', 3), (u'isDirect', 3), (u'DurationToMinutes', 3), (u'setAssetsLoaded', 3), (u'GetUseServiceAuthentication', 3), (u'setHmacSeedReturnCode', 3), (u'Login', 3), (u'shutdown', 3), (u'SpeedChangeSmoothlyTo', 3), (u'SetCurrentPosition', 3), (u'PlayerError', 3), (u'nothing', 3), (u'GetWithinRangeEventEnabled', 3), (u'Glide', 3), (u'Base64DecodeToFile', 3), (u'GPSAvailable', 3), (u'startHTTPD', 3), (u'ExecuteSPARQLQuery', 3), (u'RetrievedResults', 3), (u'getVersionName', 3), (u'installURL', 3), (u'return', 3), (u'SetAdEnabled', 3), (u'GetProjectBucket', 3), (u'StopFollowingObject', 3), (u'Connected', 3), (u'StartedMoving', 3), (u'CanvasBoundaryEnabled', 3), (u'GetMentions', 3), (u'LoadAd', 3), (u'OrbitObject', 3), (u'Unauthenticate', 3), (u'GetWifiIpAddress', 3), (u'SetRelationToObject', 3), (u'isDirect', 3), (u'DurationToMinutes', 3), (u'setAssetsLoaded', 3), (u'GetUseServiceAuthentication', 3), (u'setHmacSeedReturnCode', 3), (u'Login', 3), (u'shutdown', 3), (u'SpeedChangeSmoothlyTo', 3), (u'SetCurrentPosition', 3), (u'PlayerError', 3), (u'nothing', 3), (u'GetWithinRangeEventEnabled', 3), (u'Glide', 3), (u'Base64DecodeToFile', 3), (u'GPSAvailable', 3), (u'startHTTPD', 3), (u'ExecuteSPARQLQuery', 3), (u'RetrievedResults', 3), (u'getVersionName', 3), (u'installURL', 3), (u'return', 3), (u'SetAdEnabled', 3), (u'GetProjectBucket', 3), (u'StopFollowingObject', 3), (u'Connected', 3), (u'StartedMoving', 3), (u'CanvasBoundaryEnabled', 3), (u'GetMentions', 3), (u'LoadAd', 3), (u'OrbitObject', 3), (u'Unauthenticate', 3), (u'GetWifiIpAddress', 3), (u'SetRelationToObject', 3), (u'isDirect', 3), (u'DurationToMinutes', 3), (u'setAssetsLoaded', 3), (u'GetUseServiceAuthentication', 3), (u'setHmacSeedReturnCode', 3), (u'Login', 3), (u'shutdown', 3), (u'SpeedChangeSmoothlyTo', 3), (u'SetCurrentPosition', 3), (u'PlayerError', 3), (u'nothing', 3), (u'GetWithinRangeEventEnabled', 3), (u'Glide', 3), (u'Base64DecodeToFile', 3), (u'GPSAvailable', 3), (u'startHTTPD', 3), (u'ExecuteSPARQLQuery', 3), (u'RetrievedResults', 3), (u'getVersionName', 3), (u'installURL', 3), (u'return', 3), (u'SetAdEnabled', 3), (u'GetProjectBucket', 3), (u'StopFollowingObject', 3), (u'Connected', 3), (u'StartedMoving', 3), (u'CanvasBoundaryEnabled', 3), (u'GetMentions', 3), (u'LoadAd', 3), (u'OrbitObject', 3), (u'Unauthenticate', 3), (u'GetWifiIpAddress', 3), (u'SetRelationToObject', 3), (u'isDirect', 3), (u'DurationToMinutes', 3), (u'setAssetsLoaded', 3), (u'GetUseServiceAuthentication', 3), (u'setHmacSeedReturnCode', 3), (u'Login', 3), (u'shutdown', 3), (u'SpeedChangeSmoothlyTo', 3), (u'SetCurrentPosition', 3), (u'PlayerError', 3), (u'nothing', 3), (u'GetWithinRangeEventEnabled', 3), (u'Glide', 3), (u'Base64DecodeToFile', 3), (u'GPSAvailable', 3), (u'startHTTPD', 3), (u'ExecuteSPARQLQuery', 3), (u'RetrievedResults', 3), (u'getVersionName', 3), (u'installURL', 3), (u'return', 3), (u'SetAdEnabled', 3), (u'GetProjectBucket', 3), (u'StopFollowingObject', 3), (u'Connected', 3), (u'StartedMoving', 3), (u'CanvasBoundaryEnabled', 3), (u'GetMentions', 3), (u'LoadAd', 3), (u'OrbitObject', 3), (u'Unauthenticate', 3), (u'GetWifiIpAddress', 3), (u'SetRelationToObject', 3), (u'isDirect', 3), (u'DurationToMinutes', 3), (u'setAssetsLoaded', 3), (u'GetUseServiceAuthentication', 3), (u'setHmacSeedReturnCode', 3), (u'Login', 3), (u'shutdown', 3), (u'SpeedChangeSmoothlyTo', 3), (u'SetCurrentPosition', 3), (u'PlayerError', 3), (u'nothing', 3), (u'GetWithinRangeEventEnabled', 3), (u'Glide', 3), (u'Base64DecodeToFile', 3), (u'GPSAvailable', 3), (u'startHTTPD', 3), (u'ExecuteSPARQLQuery', 3), (u'RetrievedResults', 3), (u'getVersionName', 3), (u'installURL', 3), (u'return', 3), (u'SetAdEnabled', 3), (u'GetProjectBucket', 3), (u'StopFollowingObject', 3), (u'Connected', 3), (u'StartedMoving', 3), (u'CanvasBoundaryEnabled', 3), (u'GetMentions', 3), (u'LoadAd', 3), (u'OrbitObject', 3), (u'Unauthenticate', 3), (u'GetWifiIpAddress', 3), (u'SetRelationToObject', 3), (u'isDirect', 3), (u'DurationToMinutes', 3), (u'setAssetsLoaded', 3), (u'GetUseServiceAuthentication', 3), (u'setHmacSeedReturnCode', 3), (u'Login', 3), (u'shutdown', 3), (u'SpeedChangeSmoothlyTo', 3), (u'SetCurrentPosition', 3), (u'PlayerError', 3), (u'nothing', 3), (u'GetWithinRangeEventEnabled', 3), (u'Glide', 3), (u'Base64DecodeToFile', 3), (u'GPSAvailable', 3), (u'startHTTPD', 3), (u'ExecuteSPARQLQuery', 3), (u'RetrievedResults', 3), (u'getVersionName', 3), (u'installURL', 3), (u'return', 3), (u'SetAdEnabled', 3), (u'GetProjectBucket', 3), (u'StopFollowingObject', 3), (u'Connected', 3), (u'StartedMoving', 3), (u'CanvasBoundaryEnabled', 3), (u'GetMentions', 3), (u'LoadAd', 3), (u'OrbitObject', 3), (u'Unauthenticate', 3), (u'GetWifiIpAddress', 3), (u'SetRelationToObject', 3), (u'isDirect', 3), (u'DurationToMinutes', 3), (u'setAssetsLoaded', 3), (u'GetUseServiceAuthentication', 3), (u'setHmacSeedReturnCode', 3), (u'Login', 3), (u'shutdown', 3), (u'SpeedChangeSmoothlyTo', 3), (u'SetCurrentPosition', 3), (u'SimpleStep', 4), (u'FoundDeviceEvent', 4), (u'SetPlaySpeed', 4), (u'GetDeviceServices', 4), (u'GetDeviceDensity', 4), (u'stopLeScan', 4), (u'SetObjectType', 4), (u'SetScaling', 4), (u'SetEndpointURL', 4), (u'KeepAlive', 4), (u'GetSearchResults', 4), (u'AddDuration', 4), (u'GetScanning', 4), (u'SetOriginCenter', 4), (u'GetExtraKey', 4), (u'MicON', 4), (u'GetItemBackgroundColor', 4), (u'startLeScan', 4), (u'SimpleStep', 4), (u'FoundDeviceEvent', 4), (u'SetPlaySpeed', 4), (u'GetDeviceServices', 4), (u'GetDeviceDensity', 4), (u'stopLeScan', 4), (u'SetObjectType', 4), (u'SetScaling', 4), (u'SetEndpointURL', 4), (u'KeepAlive', 4), (u'GetSearchResults', 4), (u'AddDuration', 4), (u'GetScanning', 4), (u'SetOriginCenter', 4), (u'GetExtraKey', 4), (u'MicON', 4), (u'GetItemBackgroundColor', 4), (u'startLeScan', 4), (u'SimpleStep', 4), (u'FoundDeviceEvent', 4), (u'SetPlaySpeed', 4), (u'GetDeviceServices', 4), (u'GetDeviceDensity', 4), (u'stopLeScan', 4), (u'SetObjectType', 4), (u'SetScaling', 4), (u'SetEndpointURL', 4), (u'KeepAlive', 4), (u'GetSearchResults', 4), (u'AddDuration', 4), (u'GetScanning', 4), (u'SetOriginCenter', 4), (u'GetExtraKey', 4), (u'MicON', 4), (u'GetItemBackgroundColor', 4), (u'startLeScan', 4), (u'SimpleStep', 4), (u'FoundDeviceEvent', 4), (u'SetPlaySpeed', 4), (u'GetDeviceServices', 4), (u'GetDeviceDensity', 4), (u'stopLeScan', 4), (u'SetObjectType', 4), (u'SetScaling', 4), (u'SetEndpointURL', 4), (u'KeepAlive', 4), (u'GetSearchResults', 4), (u'AddDuration', 4), (u'GetScanning', 4), (u'SetOriginCenter', 4), (u'GetExtraKey', 4), (u'MicON', 4), (u'GetItemBackgroundColor', 4), (u'startLeScan', 4), (u'SimpleStep', 4), (u'FoundDeviceEvent', 4), (u'SetPlaySpeed', 4), (u'GetDeviceServices', 4), (u'GetDeviceDensity', 4), (u'stopLeScan', 4), (u'SetObjectType', 4), (u'SetScaling', 4), (u'SetEndpointURL', 4), (u'KeepAlive', 4), (u'GetSearchResults', 4), (u'AddDuration', 4), (u'GetScanning', 4), (u'SetOriginCenter', 4), (u'GetExtraKey', 4), (u'MicON', 4), (u'GetItemBackgroundColor', 4), (u'startLeScan', 4), (u'SimpleStep', 4), (u'FoundDeviceEvent', 4), (u'SetPlaySpeed', 4), (u'GetDeviceServices', 4), (u'GetDeviceDensity', 4), (u'stopLeScan', 4), (u'SetObjectType', 4), (u'SetScaling', 4), (u'SetEndpointURL', 4), (u'KeepAlive', 4), (u'GetSearchResults', 4), (u'AddDuration', 4), (u'GetScanning', 4), (u'SetOriginCenter', 4), (u'GetExtraKey', 4), (u'MicON', 4), (u'GetItemBackgroundColor', 4), (u'startLeScan', 4), (u'SimpleStep', 4), (u'FoundDeviceEvent', 4), (u'SetPlaySpeed', 4), (u'GetDeviceServices', 4), (u'GetDeviceDensity', 4), (u'stopLeScan', 4), (u'SetObjectType', 4), (u'SetScaling', 4), (u'SetEndpointURL', 4), (u'KeepAlive', 4), (u'GetSearchResults', 4), (u'AddDuration', 4), (u'GetScanning', 4), (u'SetOriginCenter', 4), (u'GetExtraKey', 4), (u'MicON', 4), (u'GetItemBackgroundColor', 4), (u'startLeScan', 4), (u'SimpleStep', 4), (u'FoundDeviceEvent', 4), (u'SetPlaySpeed', 4), (u'GetDeviceServices', 4), (u'GetDeviceDensity', 4), (u'stopLeScan', 4), (u'SetObjectType', 4), (u'SetScaling', 4), (u'SetEndpointURL', 4), (u'KeepAlive', 4), (u'GetSearchResults', 4), (u'AddDuration', 4), (u'GetScanning', 4), (u'SetOriginCenter', 4), (u'GetExtraKey', 4), (u'MicON', 4), (u'GetItemBackgroundColor', 4), (u'startLeScan', 4), (u'SimpleStep', 4), (u'FoundDeviceEvent', 4), (u'SetPlaySpeed', 4), (u'GetDeviceServices', 4), (u'GetDeviceDensity', 4), (u'stopLeScan', 4), (u'SetObjectType', 4), (u'SetScaling', 4), (u'SetEndpointURL', 4), (u'KeepAlive', 4), (u'GetSearchResults', 4), (u'AddDuration', 4), (u'GetScanning', 4), (u'SetOriginCenter', 4), (u'GetExtraKey', 4), (u'MicON', 4), (u'GetItemBackgroundColor', 4), (u'startLeScan', 4), (u'GetA', 5), (u'SetStopBeforeDisconnect', 5), (u'RangeClip', 5), (u'SetPanLeftRight', 5), (u'SetRotationAngle', 5), (u'RunQuery', 5), (u'SetPosition', 5), (u'GetTopOfRange', 5), (u'SetDetectColor', 5), (u'GetZAngularVelocity', 5), (u'GetCurrentProgramName', 5), (u'SetImageHeading', 5), (u'MicIsOn', 5), (u'DeleteFile', 5), (u'block', 5), (u'DurationToDays', 5), (u'GetA', 5), (u'SetStopBeforeDisconnect', 5), (u'RangeClip', 5), (u'SetPanLeftRight', 5), (u'SetRotationAngle', 5), (u'RunQuery', 5), (u'SetPosition', 5), (u'GetTopOfRange', 5), (u'SetDetectColor', 5), (u'GetZAngularVelocity', 5), (u'GetCurrentProgramName', 5), (u'SetImageHeading', 5), (u'MicIsOn', 5), (u'DeleteFile', 5), (u'block', 5), (u'DurationToDays', 5), (u'GetA', 5), (u'SetStopBeforeDisconnect', 5), (u'RangeClip', 5), (u'SetPanLeftRight', 5), (u'SetRotationAngle', 5), (u'RunQuery', 5), (u'SetPosition', 5), (u'GetTopOfRange', 5), (u'SetDetectColor', 5), (u'GetZAngularVelocity', 5), (u'GetCurrentProgramName', 5), (u'SetImageHeading', 5), (u'MicIsOn', 5), (u'DeleteFile', 5), (u'block', 5), (u'DurationToDays', 5), (u'GetA', 5), (u'SetStopBeforeDisconnect', 5), (u'RangeClip', 5), (u'SetPanLeftRight', 5), (u'SetRotationAngle', 5), (u'RunQuery', 5), (u'SetPosition', 5), (u'GetTopOfRange', 5), (u'SetDetectColor', 5), (u'GetZAngularVelocity', 5), (u'GetCurrentProgramName', 5), (u'SetImageHeading', 5), (u'MicIsOn', 5), (u'DeleteFile', 5), (u'block', 5), (u'DurationToDays', 5), (u'GetA', 5), (u'SetStopBeforeDisconnect', 5), (u'RangeClip', 5), (u'SetPanLeftRight', 5), (u'SetRotationAngle', 5), (u'RunQuery', 5), (u'SetPosition', 5), (u'GetTopOfRange', 5), (u'SetDetectColor', 5), (u'GetZAngularVelocity', 5), (u'GetCurrentProgramName', 5), (u'SetImageHeading', 5), (u'MicIsOn', 5), (u'DeleteFile', 5), (u'block', 5), (u'DurationToDays', 5), (u'GetA', 5), (u'SetStopBeforeDisconnect', 5), (u'RangeClip', 5), (u'SetPanLeftRight', 5), (u'SetRotationAngle', 5), (u'RunQuery', 5), (u'SetPosition', 5), (u'GetTopOfRange', 5), (u'SetDetectColor', 5), (u'GetZAngularVelocity', 5), (u'GetCurrentProgramName', 5), (u'SetImageHeading', 5), (u'MicIsOn', 5), (u'DeleteFile', 5), (u'block', 5), (u'DurationToDays', 5), (u'GetA', 5), (u'SetStopBeforeDisconnect', 5), (u'RangeClip', 5), (u'SetPanLeftRight', 5), (u'SetRotationAngle', 5), (u'RunQuery', 5), (u'SetPosition', 5), (u'GetTopOfRange', 5), (u'SetDetectColor', 5), (u'GetZAngularVelocity', 5), (u'GetCurrentProgramName', 5), (u'SetImageHeading', 5), (u'MicIsOn', 5), (u'DeleteFile', 5), (u'block', 5), (u'DurationToDays', 5), (u'GetA', 5), (u'SetStopBeforeDisconnect', 5), (u'RangeClip', 5), (u'SetPanLeftRight', 5), (u'SetRotationAngle', 5), (u'RunQuery', 5), (u'SetPosition', 5), (u'GetTopOfRange', 5), (u'SetDetectColor', 5), (u'GetZAngularVelocity', 5), (u'GetCurrentProgramName', 5), (u'SetImageHeading', 5), (u'MicIsOn', 5), (u'DeleteFile', 5), (u'block', 5), (u'DurationToDays', 5), (u'GetA', 5), (u'SetStopBeforeDisconnect', 5), (u'RangeClip', 5), (u'SetPanLeftRight', 5), (u'SetRotationAngle', 5), (u'RunQuery', 5), (u'SetPosition', 5), (u'GetTopOfRange', 5), (u'SetDetectColor', 5), (u'GetZAngularVelocity', 5), (u'GetCurrentProgramName', 5), (u'SetImageHeading', 5), (u'MicIsOn', 5), (u'DeleteFile', 5), (u'block', 5), (u'DurationToDays', 5), (u'SetLED', 6), (u'PictureAfterChanges', 6), (u'GetStrength', 6), (u'TelemetryAddTextData', 6), (u'StopFollowing', 6), (u'AutoSize', 6), (u'GetMode', 6), (u'GetRuntime', 6), (u'GetIsTouched', 6), (u'GetIsPressed', 6), (u'SetPower', 6), (u'GetFrameToUse', 6), (u'GetYAngularVelocity', 6), (u'GetKeepRunningWhenOnPause', 6), (u'DownloadFile', 6), (u'SetOutputState', 6), (u'SetKeepAspectRatio', 6), (u'GetLeftStickY', 6), (u'GetLightDetectedRaw', 6), (u'GetSignalDetected', 6), (u'BluetoothError', 6), (u'GetLightDetected', 6), (u'SetLED', 6), (u'PictureAfterChanges', 6), (u'GetStrength', 6), (u'TelemetryAddTextData', 6), (u'StopFollowing', 6), (u'AutoSize', 6), (u'GetMode', 6), (u'GetRuntime', 6), (u'GetIsTouched', 6), (u'GetIsPressed', 6), (u'SetPower', 6), (u'GetFrameToUse', 6), (u'GetYAngularVelocity', 6), (u'GetKeepRunningWhenOnPause', 6), (u'DownloadFile', 6), (u'SetOutputState', 6), (u'SetKeepAspectRatio', 6), (u'GetLeftStickY', 6), (u'GetLightDetectedRaw', 6), (u'GetSignalDetected', 6), (u'BluetoothError', 6), (u'GetLightDetected', 6), (u'SetLED', 6), (u'PictureAfterChanges', 6), (u'GetStrength', 6), (u'TelemetryAddTextData', 6), (u'StopFollowing', 6), (u'AutoSize', 6), (u'GetMode', 6), (u'GetRuntime', 6), (u'GetIsTouched', 6), (u'GetIsPressed', 6), (u'SetPower', 6), (u'GetFrameToUse', 6), (u'GetYAngularVelocity', 6), (u'GetKeepRunningWhenOnPause', 6), (u'DownloadFile', 6), (u'SetOutputState', 6), (u'SetKeepAspectRatio', 6), (u'GetLeftStickY', 6), (u'GetLightDetectedRaw', 6), (u'GetSignalDetected', 6), (u'BluetoothError', 6), (u'GetLightDetected', 6), (u'SetLED', 6), (u'PictureAfterChanges', 6), (u'GetStrength', 6), (u'TelemetryAddTextData', 6), (u'StopFollowing', 6), (u'AutoSize', 6), (u'GetMode', 6), (u'GetRuntime', 6), (u'GetIsTouched', 6), (u'GetIsPressed', 6), (u'SetPower', 6), (u'GetFrameToUse', 6), (u'GetYAngularVelocity', 6), (u'GetKeepRunningWhenOnPause', 6), (u'DownloadFile', 6), (u'SetOutputState', 6), (u'SetKeepAspectRatio', 6), (u'GetLeftStickY', 6), (u'GetLightDetectedRaw', 6), (u'GetSignalDetected', 6), (u'BluetoothError', 6), (u'GetLightDetected', 6), (u'SetLED', 6), (u'PictureAfterChanges', 6), (u'GetStrength', 6), (u'TelemetryAddTextData', 6), (u'StopFollowing', 6), (u'AutoSize', 6), (u'GetMode', 6), (u'GetRuntime', 6), (u'GetIsTouched', 6), (u'GetIsPressed', 6), (u'SetPower', 6), (u'GetFrameToUse', 6), (u'GetYAngularVelocity', 6), (u'GetKeepRunningWhenOnPause', 6), (u'DownloadFile', 6), (u'SetOutputState', 6), (u'SetKeepAspectRatio', 6), (u'GetLeftStickY', 6), (u'GetLightDetectedRaw', 6), (u'GetSignalDetected', 6), (u'BluetoothError', 6), (u'GetLightDetected', 6), (u'SetLED', 6), (u'PictureAfterChanges', 6), (u'GetStrength', 6), (u'TelemetryAddTextData', 6), (u'StopFollowing', 6), (u'AutoSize', 6), (u'GetMode', 6), (u'GetRuntime', 6), (u'GetIsTouched', 6), (u'GetIsPressed', 6), (u'SetPower', 6), (u'GetFrameToUse', 6), (u'GetYAngularVelocity', 6), (u'GetKeepRunningWhenOnPause', 6), (u'DownloadFile', 6), (u'SetOutputState', 6), (u'SetKeepAspectRatio', 6), (u'GetLeftStickY', 6), (u'GetLightDetectedRaw', 6), (u'GetSignalDetected', 6), (u'BluetoothError', 6), (u'GetLightDetected', 6), (u'SetLED', 6), (u'PictureAfterChanges', 6), (u'GetStrength', 6), (u'TelemetryAddTextData', 6), (u'StopFollowing', 6), (u'AutoSize', 6), (u'GetMode', 6), (u'GetRuntime', 6), (u'GetIsTouched', 6), (u'GetIsPressed', 6), (u'SetPower', 6), (u'GetFrameToUse', 6), (u'GetYAngularVelocity', 6), (u'GetKeepRunningWhenOnPause', 6), (u'DownloadFile', 6), (u'SetOutputState', 6), (u'SetKeepAspectRatio', 6), (u'GetLeftStickY', 6), (u'GetLightDetectedRaw', 6), (u'GetSignalDetected', 6), (u'BluetoothError', 6), (u'GetLightDetected', 6), (u'SetLED', 6), (u'PictureAfterChanges', 6), (u'GetStrength', 6), (u'TelemetryAddTextData', 6), (u'StopFollowing', 6), (u'AutoSize', 6), (u'GetMode', 6), (u'GetRuntime', 6), (u'GetIsTouched', 6), (u'GetIsPressed', 6), (u'SetPower', 6), (u'GetFrameToUse', 6), (u'GetYAngularVelocity', 6), (u'GetKeepRunningWhenOnPause', 6), (u'DownloadFile', 6), (u'SetOutputState', 6), (u'SetKeepAspectRatio', 6), (u'GetLeftStickY', 6), (u'GetLightDetectedRaw', 6), (u'GetSignalDetected', 6), (u'BluetoothError', 6), (u'GetLightDetected', 6), (u'SetLED', 6), (u'PictureAfterChanges', 6), (u'GetStrength', 6), (u'TelemetryAddTextData', 6), (u'StopFollowing', 6), (u'AutoSize', 6), (u'GetMode', 6), (u'GetRuntime', 6), (u'GetIsTouched', 6), (u'GetIsPressed', 6), (u'SetPower', 6), (u'GetFrameToUse', 6), (u'GetYAngularVelocity', 6), (u'GetKeepRunningWhenOnPause', 6), (u'DownloadFile', 6), (u'SetOutputState', 6), (u'SetKeepAspectRatio', 6), (u'GetLeftStickY', 6), (u'GetLightDetectedRaw', 6), (u'GetSignalDetected', 6), (u'BluetoothError', 6), (u'GetLightDetected', 6), (u'SetAnimationSpeed', 7), (u'MessageRead', 7), (u'GetDetectColor', 7), (u'SetFrameToUse', 7), (u'SetFrameImageList', 7), (u'GetFrameQty', 7), (u'SetProjectBucket', 7), (u'GetKeyFile', 7), (u'FillCanvas', 7), (u'SetAnimationSpeed', 7), (u'MessageRead', 7), (u'GetDetectColor', 7), (u'SetFrameToUse', 7), (u'SetFrameImageList', 7), (u'GetFrameQty', 7), (u'SetProjectBucket', 7), (u'GetKeyFile', 7), (u'FillCanvas', 7), (u'SetAnimationSpeed', 7), (u'MessageRead', 7), (u'GetDetectColor', 7), (u'SetFrameToUse', 7), (u'SetFrameImageList', 7), (u'GetFrameQty', 7), (u'SetProjectBucket', 7), (u'GetKeyFile', 7), (u'FillCanvas', 7), (u'SetAnimationSpeed', 7), (u'MessageRead', 7), (u'GetDetectColor', 7), (u'SetFrameToUse', 7), (u'SetFrameImageList', 7), (u'GetFrameQty', 7), (u'SetProjectBucket', 7), (u'GetKeyFile', 7), (u'FillCanvas', 7), (u'SetAnimationSpeed', 7), (u'MessageRead', 7), (u'GetDetectColor', 7), (u'SetFrameToUse', 7), (u'SetFrameImageList', 7), (u'GetFrameQty', 7), (u'SetProjectBucket', 7), (u'GetKeyFile', 7), (u'FillCanvas', 7), (u'SetAnimationSpeed', 7), (u'MessageRead', 7), (u'GetDetectColor', 7), (u'SetFrameToUse', 7), (u'SetFrameImageList', 7), (u'GetFrameQty', 7), (u'SetProjectBucket', 7), (u'GetKeyFile', 7), (u'FillCanvas', 7), (u'SetAnimationSpeed', 7), (u'MessageRead', 7), (u'GetDetectColor', 7), (u'SetFrameToUse', 7), (u'SetFrameImageList', 7), (u'GetFrameQty', 7), (u'SetProjectBucket', 7), (u'GetKeyFile', 7), (u'FillCanvas', 7), (u'SetAnimationSpeed', 7), (u'MessageRead', 7), (u'GetDetectColor', 7), (u'SetFrameToUse', 7), (u'SetFrameImageList', 7), (u'GetFrameQty', 7), (u'SetProjectBucket', 7), (u'GetKeyFile', 7), (u'FillCanvas', 7), (u'SetAnimationSpeed', 7), (u'MessageRead', 7), (u'GetDetectColor', 7), (u'SetFrameToUse', 7), (u'SetFrameImageList', 7), (u'GetFrameQty', 7), (u'SetProjectBucket', 7), (u'GetKeyFile', 7), (u'FillCanvas', 7), (u'ListFiles', 8), (u'GetConsumerKey', 8), (u'SetReleasedEventEnabled', 8), (u'GetPromptforPermission', 8), (u'GetSelectionColor', 8), (u'ResetMotorPosition', 8), (u'ListFiles', 8), (u'GetConsumerKey', 8), (u'SetReleasedEventEnabled', 8), (u'GetPromptforPermission', 8), (u'GetSelectionColor', 8), (u'ResetMotorPosition', 8), (u'ListFiles', 8), (u'GetConsumerKey', 8), (u'SetReleasedEventEnabled', 8), (u'GetPromptforPermission', 8), (u'GetSelectionColor', 8), (u'ResetMotorPosition', 8), (u'ListFiles', 8), (u'GetConsumerKey', 8), (u'SetReleasedEventEnabled', 8), (u'GetPromptforPermission', 8), (u'GetSelectionColor', 8), (u'ResetMotorPosition', 8), (u'ListFiles', 8), (u'GetConsumerKey', 8), (u'SetReleasedEventEnabled', 8), (u'GetPromptforPermission', 8), (u'GetSelectionColor', 8), (u'ResetMotorPosition', 8), (u'ListFiles', 8), (u'GetConsumerKey', 8), (u'SetReleasedEventEnabled', 8), (u'GetPromptforPermission', 8), (u'GetSelectionColor', 8), (u'ResetMotorPosition', 8), (u'ListFiles', 8), (u'GetConsumerKey', 8), (u'SetReleasedEventEnabled', 8), (u'GetPromptforPermission', 8), (u'GetSelectionColor', 8), (u'ResetMotorPosition', 8), (u'ListFiles', 8), (u'GetConsumerKey', 8), (u'SetReleasedEventEnabled', 8), (u'GetPromptforPermission', 8), (u'GetSelectionColor', 8), (u'ResetMotorPosition', 8), (u'ListFiles', 8), (u'GetConsumerKey', 8), (u'SetReleasedEventEnabled', 8), (u'GetPromptforPermission', 8), (u'GetSelectionColor', 8), (u'ResetMotorPosition', 8), (u'GetBelowRangeEventEnabled', 9), (u'GetPressedEventEnabled', 9), (u'TelemetryAddNumericData', 9), (u'GetIgnoreSslErrors', 9), (u'GetInputValues', 9), (u'Loop', 9), (u'GetTitleVisible', 9), (u'GetBelowRangeEventEnabled', 9), (u'GetPressedEventEnabled', 9), (u'TelemetryAddNumericData', 9), (u'GetIgnoreSslErrors', 9), (u'GetInputValues', 9), (u'Loop', 9), (u'GetTitleVisible', 9), (u'GetBelowRangeEventEnabled', 9), (u'GetPressedEventEnabled', 9), (u'TelemetryAddNumericData', 9), (u'GetIgnoreSslErrors', 9), (u'GetInputValues', 9), (u'Loop', 9), (u'GetTitleVisible', 9), (u'GetBelowRangeEventEnabled', 9), (u'GetPressedEventEnabled', 9), (u'TelemetryAddNumericData', 9), (u'GetIgnoreSslErrors', 9), (u'GetInputValues', 9), (u'Loop', 9), (u'GetTitleVisible', 9), (u'GetBelowRangeEventEnabled', 9), (u'GetPressedEventEnabled', 9), (u'TelemetryAddNumericData', 9), (u'GetIgnoreSslErrors', 9), (u'GetInputValues', 9), (u'Loop', 9), (u'GetTitleVisible', 9), (u'GetBelowRangeEventEnabled', 9), (u'GetPressedEventEnabled', 9), (u'TelemetryAddNumericData', 9), (u'GetIgnoreSslErrors', 9), (u'GetInputValues', 9), (u'Loop', 9), (u'GetTitleVisible', 9), (u'GetBelowRangeEventEnabled', 9), (u'GetPressedEventEnabled', 9), (u'TelemetryAddNumericData', 9), (u'GetIgnoreSslErrors', 9), (u'GetInputValues', 9), (u'Loop', 9), (u'GetTitleVisible', 9), (u'GetBelowRangeEventEnabled', 9), (u'GetPressedEventEnabled', 9), (u'TelemetryAddNumericData', 9), (u'GetIgnoreSslErrors', 9), (u'GetInputValues', 9), (u'Loop', 9), (u'GetTitleVisible', 9), (u'GetBelowRangeEventEnabled', 9), (u'GetPressedEventEnabled', 9), (u'TelemetryAddNumericData', 9), (u'GetIgnoreSslErrors', 9), (u'GetInputValues', 9), (u'Loop', 9), (u'GetTitleVisible', 9), (u'GetDirectMessages', 10), (u'SetBrickName', 10), (u'DurationToSeconds', 10), (u'GetBottomOfRange', 10), (u'GetShowStatusBar', 10), (u'GetDirectMessages', 10), (u'SetBrickName', 10), (u'DurationToSeconds', 10), (u'GetBottomOfRange', 10), (u'GetShowStatusBar', 10), (u'GetDirectMessages', 10), (u'SetBrickName', 10), (u'DurationToSeconds', 10), (u'GetBottomOfRange', 10), (u'GetShowStatusBar', 10), (u'GetDirectMessages', 10), (u'SetBrickName', 10), (u'DurationToSeconds', 10), (u'GetBottomOfRange', 10), (u'GetShowStatusBar', 10), (u'GetDirectMessages', 10), (u'SetBrickName', 10), (u'DurationToSeconds', 10), (u'GetBottomOfRange', 10), (u'GetShowStatusBar', 10), (u'GetDirectMessages', 10), (u'SetBrickName', 10), (u'DurationToSeconds', 10), (u'GetBottomOfRange', 10), (u'GetShowStatusBar', 10), (u'GetDirectMessages', 10), (u'SetBrickName', 10), (u'DurationToSeconds', 10), (u'GetBottomOfRange', 10), (u'GetShowStatusBar', 10), (u'GetDirectMessages', 10), (u'SetBrickName', 10), (u'DurationToSeconds', 10), (u'GetBottomOfRange', 10), (u'GetShowStatusBar', 10), (u'GetDirectMessages', 10), (u'SetBrickName', 10), (u'DurationToSeconds', 10), (u'GetBottomOfRange', 10), (u'GetShowStatusBar', 10), (u'GetAboveRangeEventEnabled', 11), (u'GetGenerateLight', 11), (u'GetAboveRangeEventEnabled', 11), (u'GetGenerateLight', 11), (u'GetAboveRangeEventEnabled', 11), (u'GetGenerateLight', 11), (u'GetAboveRangeEventEnabled', 11), (u'GetGenerateLight', 11), (u'GetAboveRangeEventEnabled', 11), (u'GetGenerateLight', 11), (u'GetAboveRangeEventEnabled', 11), (u'GetGenerateLight', 11), (u'GetAboveRangeEventEnabled', 11), (u'GetGenerateLight', 11), (u'GetAboveRangeEventEnabled', 11), (u'GetGenerateLight', 11), (u'GetAboveRangeEventEnabled', 11), (u'GetGenerateLight', 11), (u'SetHighByteFirst', 12), (u'GetGenerateColor', 12), (u'SetIgnoreSslErrors', 12), (u'GetFollowers', 12), (u'SetHighByteFirst', 12), (u'GetGenerateColor', 12), (u'SetIgnoreSslErrors', 12), (u'GetFollowers', 12), (u'SetHighByteFirst', 12), (u'GetGenerateColor', 12), (u'SetIgnoreSslErrors', 12), (u'GetFollowers', 12), (u'SetHighByteFirst', 12), (u'GetGenerateColor', 12), (u'SetIgnoreSslErrors', 12), (u'GetFollowers', 12), (u'SetHighByteFirst', 12), (u'GetGenerateColor', 12), (u'SetIgnoreSslErrors', 12), (u'GetFollowers', 12), (u'SetHighByteFirst', 12), (u'GetGenerateColor', 12), (u'SetIgnoreSslErrors', 12), (u'GetFollowers', 12), (u'SetHighByteFirst', 12), (u'GetGenerateColor', 12), (u'SetIgnoreSslErrors', 12), (u'GetFollowers', 12), (u'SetHighByteFirst', 12), (u'GetGenerateColor', 12), (u'SetIgnoreSslErrors', 12), (u'GetFollowers', 12), (u'SetHighByteFirst', 12), (u'GetGenerateColor', 12), (u'SetIgnoreSslErrors', 12), (u'GetFollowers', 12), (u'method', 13), (u'GetTextSize', 13), (u'FirebaseError', 13), (u'GetContactUri', 13), (u'PutTextWithEncoding', 13), (u'GetAllowCookies', 13), (u'GetTextAlignment', 13), (u'GetItemTextColor', 13), (u'method', 13), (u'GetTextSize', 13), (u'FirebaseError', 13), (u'GetContactUri', 13), (u'PutTextWithEncoding', 13), (u'GetAllowCookies', 13), (u'GetTextAlignment', 13), (u'GetItemTextColor', 13), (u'method', 13), (u'GetTextSize', 13), (u'FirebaseError', 13), (u'GetContactUri', 13), (u'PutTextWithEncoding', 13), (u'GetAllowCookies', 13), (u'GetTextAlignment', 13), (u'GetItemTextColor', 13), (u'method', 13), (u'GetTextSize', 13), (u'FirebaseError', 13), (u'GetContactUri', 13), (u'PutTextWithEncoding', 13), (u'GetAllowCookies', 13), (u'GetTextAlignment', 13), (u'GetItemTextColor', 13), (u'method', 13), (u'GetTextSize', 13), (u'FirebaseError', 13), (u'GetContactUri', 13), (u'PutTextWithEncoding', 13), (u'GetAllowCookies', 13), (u'GetTextAlignment', 13), (u'GetItemTextColor', 13), (u'method', 13), (u'GetTextSize', 13), (u'FirebaseError', 13), (u'GetContactUri', 13), (u'PutTextWithEncoding', 13), (u'GetAllowCookies', 13), (u'GetTextAlignment', 13), (u'GetItemTextColor', 13), (u'method', 13), (u'GetTextSize', 13), (u'FirebaseError', 13), (u'GetContactUri', 13), (u'PutTextWithEncoding', 13), (u'GetAllowCookies', 13), (u'GetTextAlignment', 13), (u'GetItemTextColor', 13), (u'method', 13), (u'GetTextSize', 13), (u'FirebaseError', 13), (u'GetContactUri', 13), (u'PutTextWithEncoding', 13), (u'GetAllowCookies', 13), (u'GetTextAlignment', 13), (u'GetItemTextColor', 13), (u'method', 13), (u'GetTextSize', 13), (u'FirebaseError', 13), (u'GetContactUri', 13), (u'PutTextWithEncoding', 13), (u'GetAllowCookies', 13), (u'GetTextAlignment', 13), (u'GetItemTextColor', 13), (u'getproperty', 14), (u'GetPlayOnlyInForeground', 14), (u'GetActivityPackage', 14), (u'getproperty', 14), (u'GetPlayOnlyInForeground', 14), (u'GetActivityPackage', 14), (u'getproperty', 14), (u'GetPlayOnlyInForeground', 14), (u'GetActivityPackage', 14), (u'getproperty', 14), (u'GetPlayOnlyInForeground', 14), (u'GetActivityPackage', 14), (u'getproperty', 14), (u'GetPlayOnlyInForeground', 14), (u'GetActivityPackage', 14), (u'getproperty', 14), (u'GetPlayOnlyInForeground', 14), (u'GetActivityPackage', 14), (u'getproperty', 14), (u'GetPlayOnlyInForeground', 14), (u'GetActivityPackage', 14), (u'getproperty', 14), (u'GetPlayOnlyInForeground', 14), (u'GetActivityPackage', 14), (u'getproperty', 14), (u'GetPlayOnlyInForeground', 14), (u'GetActivityPackage', 14), (u'SetTopOfRange', 15), (u'SetDateToDisplayFromInstant', 15), (u'SetTopOfRange', 15), (u'SetDateToDisplayFromInstant', 15), (u'SetTopOfRange', 15), (u'SetDateToDisplayFromInstant', 15), (u'SetTopOfRange', 15), (u'SetDateToDisplayFromInstant', 15), (u'SetTopOfRange', 15), (u'SetDateToDisplayFromInstant', 15), (u'SetTopOfRange', 15), (u'SetDateToDisplayFromInstant', 15), (u'SetTopOfRange', 15), (u'SetDateToDisplayFromInstant', 15), (u'SetTopOfRange', 15), (u'SetDateToDisplayFromInstant', 15), (u'SetTopOfRange', 15), (u'SetDateToDisplayFromInstant', 15), u'GCMInfoReceived', u'GPSAvailable', u'GPSLost', u'BatteryLevelUpdated', u'RangeClip', u'Base64DecodeToFile', u'HashTextEncode', u'WalkStep', u'CanvasBoundaryEnabled', u'save', u'CalibrationFailed', u'ValueWrite', u'latet', u'ObtenerValor', u'ScanDevice', u'ActivityError', u'AdFailedToLoad', u'AddMarkersFromJson', u'AdLoaded', u'AddDuration', u'getproperty', u'SetLED', u'GetRegId', u'ReadBatteryLevel', u'GetA', u'GetStrength', u'SetStopBeforeDisconnect', u'TelemetryAddTextData', u'GetDpadUp', u'GetReleasedEventEnabled', u'GetDirectMessages', u'SetImages', u'methor', u'GetDpadDown', u'SetAnimationSpeed', u'methos', u'methoi', u'methol', u'net', u'methoe', u'method', u'methof', u'GetWithinRangeEventEnabled', u'MessageRead', u'SetTopOfRange', u'ResultsToSimpleJSON', u'GetBallotOptions', u'SetBrickName', u'MenuItemSelected', u'GetDetectColor', u'GetPower', u'AesFileDecrypt', u'SetWeight', u'SetInputMode', u'SetGravityInverted', u'GetReturnMessage', u'RetrievedResults', u'SetPlaySpeed', u'RegInfoReceived', u'GetMode', u'GetSelectedDeviceRssi', u'getVersionName', u'GetDeviceServices', u'GetDeviceList', u'SetPropertyURI', u'GetBelowRangeEventEnabled', u'AesTextDecrypt', u'GetPlayInForeground', u'methogs', u'GetExtras', u'SetFrameToUse', u'return', u'GetRuntime', u'Register', u'GetPressedEventEnabled', u'SetAdEnabled', u'GetProjectBucket', u'GetIsTouched', u'SetUseCanvasGravity', u'TelemetryAddNumericData', u'iet', u'GetConsumerKey', u'GetPlayOnlyInForeground', u'GetDeviceDensity', u'GetIsPressed', u'SetPanLeftRight', u'GetIgnoreSslErrors', u'MenuShow', u'GetRightStickY', u'GetServiceAccountEmail', u'SetHighByteFirst', u'SetReleasedEventEnabled', u'GetSoundLevelFromMic', u'SetRotationAngle', u'SetObjectType', u'GetTextSize', u'GetColorChangedEventEnabled', u'GetMentions', u'SetScaling', u'SetPosition', u'GetUseGPS', u'GetAboveRangeEventEnabled', u'GetTopOfRange', u'SendBallot', u'GetActivityPackage', u'methom', u'GetUserEmailAddress', u'SetEndpointURL', u'GetGenerateColor', u'SetFrameImageList', u'GetServerURL', u'GetGenerateLight', u'SetSubject', u'methog', u'MenuItemAdd', u'AesFileEncrypt', u'SetDetectColor', u'GetFrameQty', u'GetCurrentPosition', u'methofs', u'SetPower', u'GetScaling', u'met', u'let', u'GetStopBeforeDisconnect', u'SetProjectBucket', u'KeepAlive', u'SetSortOrder', u'GetFrameToUse', u'SetBounceEnabled', u'GetZAngularVelocity', u'SetPadding', u'SetDateToDisplayFromInstant', u'SetStrideLength', u'GetContactUri', u'SetGravityEnabled', u'GetYAngularVelocity', u'GetWifiIpAddress', u'GetKeepRunningWhenOnPause', u'RequestBallot', u'SetUserChoice', u'GetCurrentProgramName', u'SelectedDevice', u'AesTextEncrypt', u'GetPromptforPermission', u'SetRelationToObject', u'GetBottomOfRange', u'KeyReady', u'GetSelectionColor', u'GetTwitPic_API_Key', u'SetIgnoreSslErrors', u'GetRotationAngle', u'Reset', u'SetOutputState', u'setAssetsLoaded', u'GetInputValues', u'GetUseServiceAuthentication', u'SetKeepAspectRatio', u'GetSearchResults', u'GetLeftStickY', u'methods', u'GetBallotQuestion', u'GetImagePath', u'setHmacSeedReturnCode', u'GetLightDetectedRaw', u'GetFollowers', u'SetImageHeading', u'pet', u'GetAllowCookies', u'RetrievedRawResults', u'GetSignalDetected', u'SetPlayInForeground', u'oet', u'GetScanning', u'SetOriginCenter', u'SetUseGPS', u'GetExtraKey', u'GetItemBackgroundColor', u'GetKeyFile', u'jet', u'het', u'ResetInputScaledValue', u'GetShowStatusBar', u'DeleteFile', u'GetIsMicON', u'MenuClearAll', u'GetTextAlignment', u'GetItemTextColor', u'GetTitleVisible', u'SetUserId', u'GetSelectedDeviceName', u'methob', u'ResetMotorPosition', u'GetLightDetected', u'SetCurrentPosition', u'ShowInterstitialAd', u'shutdown', u'PictureAfterChanges', u'digitalRead1', u'SimpleStep', u'ListFiles', u'MicOFF', u'LightChanged', u'VideoPlayerError', u'pinout', u'FirebaseError', u'pinMode', u'MicIsOn', u'MicON', u'FillCanvas', u'PlayerError', u'playerskin', u'Glide', u'plane', u'clock', u'elock', u'FlashtOn', u'dlock', u'BluetoothError', u'block', u'HmacTextEncode', u'ImageUploaded', u'EnableScroll', u'OnMapClick', u'EnableMyLocation', u'installURL', u'EnableCompass', u'OnTouchDown', u'OnMapLongClick', u'OnSettings', u'undefined', u'EnableZoomControl', u'UnsupportedQueryType', u'InitializeMenu', u'EnableMapLongClickListener', u'Unauthenticate', u'EnableRotate', u'EnableMapClickListener', u'EnableZoomGesture', u'OnTouching', u'nothing', u'ConvertSoundlevelTodB', u'GotBallotConfirmation', u'FoundDeviceEvent', u'GotResponseFromServer', u'mode', u'Connected', u'LoadAd', u'NoOpenPoll', u'DownloadFile', u'commaet', u'ConnectWithAddress', u'post', u'Loop', u'Login', u'FoundDevice', u'GotBallot', u'longet', u'UploadDataSet', u'SpeedChangeSmoothlyTo', u'WriteStringValue', u'OrbitObject', u'PrepareAesKey', u'PrepareRsaKeyPair', u'LsRead', u'RsaTextEncrypt', u'RsaTextDecrypt', u'RssiChanged', u'LsWrite', u'isDirect', u'isRegistered', u'StopFollowing', u'startHTTPD', u'StoppedMoving', u'StopFollowingObject', u'StartSharing', u'StartedMoving', u'StopSoundPlayback', u'stopLeScan', u'StartScanning', u'startLeScan', u'AutoSize', u'DurationToSeconds', u'DurationToHours', u'RunQuery', u'PutTextWithEncoding', u'DurationToWeeks', u'DurationToMinutes', u'DurationToDays', u'ExecuteSPARQLQuery']\n"
     ]
    }
   ],
   "source": [
    "for k in allFunctionsD: \n",
    "    if allFunctionsD[k] > 15: \n",
    "        commonFList.append((k, allFunctionsD[k]))\n",
    "    else:\n",
    "        rareFList.append((k, allFunctionsD[k])) \n",
    "\n",
    "#print sorted(commonFList, key= lambda y: y[1]), '\\n'\n",
    "#print sorted(rareFList, key= lambda z: z[1])"
   ]
  },
  {
   "cell_type": "code",
   "execution_count": 225,
   "metadata": {
    "collapsed": false
   },
   "outputs": [],
   "source": [
    "def get_tf(term,project, freqType): \n",
    "    numactiveblocks = numActiveBlocks(project) \n",
    "    if numactiveblocks == 0: return 0  \n",
    "    \n",
    "    if freqType == 'functions': \n",
    "        projectFrequency = projectFunctions(project)\n",
    "    if freqType == 'classes': \n",
    "        projectFrequency = projectKeywords(project)\n",
    "    \n",
    "    if term in projectFrequency: \n",
    "        return projectFrequency[term] / float(numactiveblocks)\n",
    "    else: return 0"
   ]
  },
  {
   "cell_type": "code",
   "execution_count": 232,
   "metadata": {
    "collapsed": false
   },
   "outputs": [],
   "source": [
    "import math\n",
    "def get_idf(term, projects, freqType): \n",
    "    '''idf is log(total number of docs/ number of docs with term in it)'''\n",
    "    \n",
    "    if freqType == 'functions': \n",
    "        projectFrequency = blockFuncFrequency(projects)\n",
    "    if freqType == 'classes': \n",
    "        projectFrequency = blockClassFrequency(projects)\n",
    "    \n",
    "    l = float(numProjects(projects))\n",
    "    if term not in projectFrequency.keys(): return 0 \n",
    "    \n",
    "    f = projectFrequency[term]\n",
    "   \n",
    "    if l == 0 or f == 0: return 0\n",
    "    \n",
    "    return math.log(l / float(f))"
   ]
  },
  {
   "cell_type": "code",
   "execution_count": 227,
   "metadata": {
    "collapsed": false
   },
   "outputs": [],
   "source": [
    "def get_tfidf(term, projects, freqType):\n",
    "    idf = get_idf(term, projects, freqType)\n",
    "    all_tf = 0\n",
    "    for project in projects:\n",
    "        tf = get_tf(term, project, freqType)\n",
    "        all_tf += tf\n",
    "    return (tf/numProjects(projects)) * idf"
   ]
  },
  {
   "cell_type": "code",
   "execution_count": 136,
   "metadata": {
    "collapsed": false
   },
   "outputs": [],
   "source": [
    "def numActiveBlocks(project):\n",
    "    screenNames = [key for key in project.keys() if '*' not in key]\n",
    "    totalBlocks = 0\n",
    "    for screenName in screenNames:\n",
    "        if screenName in project.keys():\n",
    "            if  not isinstance(project[screenName]['Blocks'], unicode):\n",
    "                if  not isinstance(project[screenName]['Blocks']['Active Blocks'],unicode):\n",
    "                    totalBlocks += project[screenName]['Blocks']['Active Blocks']['*Number of Blocks']\n",
    "    return totalBlocks"
   ]
  },
  {
   "cell_type": "code",
   "execution_count": 241,
   "metadata": {
    "collapsed": false
   },
   "outputs": [
    {
     "name": "stdout",
     "output_type": "stream",
     "text": [
      "0.00204086129148 \n",
      "\n",
      "0.000754148750514 \n",
      "\n",
      "0.0 \n",
      "\n",
      "0.00250469340318 \n",
      "\n",
      "0.0 \n",
      "\n",
      "0.0 \n",
      "\n",
      "0.0 \n",
      "\n",
      "0.0 \n",
      "\n",
      "0.0 \n",
      "\n",
      "0.0 \n",
      "\n"
     ]
    }
   ],
   "source": [
    "for user in first_ten:\n",
    "    projects = getProjects(user, \"LANGUAGE\")\n",
    "    print get_tfidf(\"HorizontalArrangement\", projects, 'classes'), \"\\n\""
   ]
  },
  {
   "cell_type": "code",
   "execution_count": 78,
   "metadata": {
    "collapsed": true
   },
   "outputs": [],
   "source": [
    "def getScreenNames(projects): \n",
    "    screenNames = []\n",
    "    for project in projects: \n",
    "        projectScreens = [key for key in project.keys() if '*' not in key]\n",
    "        screenNames.append(projectScreens)\n",
    "    return screenNames"
   ]
  },
  {
   "cell_type": "markdown",
   "metadata": {},
   "source": [
    "# Features"
   ]
  },
  {
   "cell_type": "code",
   "execution_count": 167,
   "metadata": {
    "collapsed": false
   },
   "outputs": [],
   "source": [
    "from features import *\n",
    "import features\n",
    "reload(features)\n",
    "import sys, os\n",
    "sys.path.append(os.getcwd())"
   ]
  },
  {
   "cell_type": "markdown",
   "metadata": {},
   "source": [
    "## Time Features\n",
    "\n",
    "Get moments from list of project lengths and intervals."
   ]
  },
  {
   "cell_type": "code",
   "execution_count": 243,
   "metadata": {
    "collapsed": false
   },
   "outputs": [],
   "source": [
    "def projectLengthFeatures(projects):\n",
    "    \"\"\"moments of project lengths and intervals, as well as number of projects\"\"\"\n",
    "    lengths = getProjectLengths(projects)\n",
    "    intervals = getProjectIntervals(projects)\n",
    "    \n",
    "    #note: feature names are for our reference only\n",
    "    userDict = {} \n",
    "    userDict[\"mean of lengths\"] = numpy.mean(lengths)\n",
    "    userDict[\"stddev of lengths\"] = numpy.std(lengths)\n",
    "    userDict[\"mean of intervals\"] = numpy.mean(lengths)\n",
    "    userDict[\"stddev of intervals\"] = numpy.std(lengths)\n",
    "    \n",
    "    userDict[\"num projects\"] = numProjects(projects)\n",
    "    \n",
    "    return userDict"
   ]
  },
  {
   "cell_type": "markdown",
   "metadata": {},
   "source": [
    "Get weekday distibution features."
   ]
  },
  {
   "cell_type": "code",
   "execution_count": 244,
   "metadata": {
    "collapsed": true
   },
   "outputs": [],
   "source": [
    "def dayAnalysisFeatures(projects):\n",
    "    \"\"\"number of projects on each day of the week, and the percentage of them on a weekday\"\"\"\n",
    "    byday = numOnDay(projects)\n",
    "\n",
    "    userDict = {day: byday[i] for i, day in enumerate([\"Monday\", \n",
    "                                                       \"Tuesday\", \n",
    "                                                       \"Wednesday\", \n",
    "                                                       \"Thursday\", \n",
    "                                                       \"Friday\", \n",
    "                                                       \"Saturday\", \n",
    "                                                       \"Sunday\"])}\n",
    "    return userDict"
   ]
  },
  {
   "cell_type": "markdown",
   "metadata": {},
   "source": [
    "Histogram of user's projects in the period."
   ]
  },
  {
   "cell_type": "code",
   "execution_count": 245,
   "metadata": {
    "collapsed": true
   },
   "outputs": [],
   "source": [
    "def decileProjects(projects):\n",
    "    numbins = 10\n",
    "    hist = projectsPerUserPeriod(projects, bins=numbins)\n",
    "    \n",
    "    userDict = {'decile '+str(i+1): hist[i] for i in range(numbins)}\n",
    "    return userDict"
   ]
  },
  {
   "cell_type": "markdown",
   "metadata": {},
   "source": [
    "Here is a function to combine different feature groups."
   ]
  },
  {
   "cell_type": "code",
   "execution_count": 246,
   "metadata": {
    "collapsed": true
   },
   "outputs": [],
   "source": [
    "def combine_featfuncs(funclist):\n",
    "    def combined(user):\n",
    "        basedict = funclist[0](user)\n",
    "        for f in funclist[1:]:\n",
    "            basedict.update(f(user))\n",
    "        return basedict\n",
    "    return combined"
   ]
  },
  {
   "cell_type": "markdown",
   "metadata": {},
   "source": [
    "## Code Features\n"
   ]
  },
  {
   "cell_type": "code",
   "execution_count": 247,
   "metadata": {
    "collapsed": true
   },
   "outputs": [],
   "source": [
    "def summaryOBlockDecile(projects): \n",
    "    hist = decileOrphanBlocks(projects)\n",
    "    userDict = {'Orphan Decile '+str(i+1): hist[i] for i in range(10)}\n",
    "    return userDict"
   ]
  },
  {
   "cell_type": "code",
   "execution_count": 248,
   "metadata": {
    "collapsed": true
   },
   "outputs": [],
   "source": [
    "def summaryDecileTLBlocks(projects): \n",
    "    hist = decileTypesTopLevelBlocks(projects)\n",
    "    userDict = {'TopLevel Decile '+str(i+1): hist[i] for i in range(10)}\n",
    "    return userDict"
   ]
  },
  {
   "cell_type": "code",
   "execution_count": 249,
   "metadata": {
    "collapsed": true
   },
   "outputs": [],
   "source": [
    "def summaryDecileNumScreens(projects): \n",
    "    hist = decileNumScreens(projects)\n",
    "    userDict = {'NumScreens Decile '+str(i+1): hist[i] for i in range(10)}\n",
    "    return userDict"
   ]
  },
  {
   "cell_type": "code",
   "execution_count": 250,
   "metadata": {
    "collapsed": false
   },
   "outputs": [],
   "source": [
    "def summaryAverages(projects):\n",
    "    userDict = {} \n",
    "    userDict[\"mean of numScreens\"] = numpy.mean(getNumScreens(projects))\n",
    "    userDict[\"NB\"] = averageNumBlocks(projects)\n",
    "    userDict[\"OB\"] = getAverageOrphanBlocks(projects)\n",
    "    \n",
    "    userDict[\"TL\"] = getAverageTypeTLBlocks(projects)\n",
    "    userDict[\"TL2\"] = getAverageNumTLBlocks(projects)\n",
    "    \n",
    "    userDict[\"NC\"] = averageNumComponents(projects)\n",
    "    userDict[\"NTC\"] = averageNumTypeComponents(projects)\n",
    "\n",
    "    userDict[\"MC\"] = aveNumMediaAssets(projects)\n",
    "    \n",
    "    userDict[\"NP\"] = averageNumProcedures(projects)\n",
    "    userDict[\"NS\"] = averageNumStrings(projects) \n",
    "    \n",
    "    #userDict[\"KW\"] = countKeywords(projects)\n",
    "    \n",
    "    varList = getAllVariables(projects)\n",
    "    userDict[\"local vars\"] = varList[0]\n",
    "    userDict[\"global vars\"] = varList[1]\n",
    "    \n",
    "    return userDict"
   ]
  },
  {
   "cell_type": "code",
   "execution_count": 251,
   "metadata": {
    "collapsed": true
   },
   "outputs": [],
   "source": [
    "def funcs_tfidf(projects):\n",
    "    userDict = {}\n",
    "    userDict[\"Click\"] = get_tfidf(\"Click\", projects, \"classes\")\n",
    "    userDict[\"variable\"] = get_tfidf(\"variable\", projects, \"classes\")\n",
    "    userDict[\"SetText\"] = get_tfidf(\"SetText\", projects, \"classes\")\n",
    "    userDict[\"number\"] = get_tfidf(\"number\", projects, \"classes\")\n",
    "    userDict[\"GetText\"] = get_tfidf(\"GetText\", projects, \"classes\")\n",
    "    userDict[\"if\"] = get_tfidf(\"if\", projects, \"classes\")\n",
    "    userDict[\"declaration\"] = get_tfidf(\"declaration\", projects, \"classes\")\n",
    "    userDict[\"compare\"] = get_tfidf(\"compare\", projects, \"classes\")\n",
    "    userDict[\"add\"] = get_tfidf(\"add\", projects, \"classes\")\n",
    "    userDict[\"join\"] = get_tfidf(\"join\", projects, \"classes\")\n",
    "\n",
    "    return userDict"
   ]
  },
  {
   "cell_type": "code",
   "execution_count": 252,
   "metadata": {
    "collapsed": true
   },
   "outputs": [],
   "source": [
    "def classes_tfidf(projects): \n",
    "    userDict[\"Button\"] = get_tfidf(\"Button\", projects, \"functions\")\n",
    "    userDict[\"Label\"] = get_tfidf(\"Label\", projects, \"functions\")\n",
    "    userDict[\"HorizontalArrangement\"] = get_tfidf(\"HorizontalArrangement\", projects, \"functions\")\n",
    "    userDict[\"Canvas\"] = get_tfidf(\"Canvas\", projects, \"functions\")\n",
    "    userDict[\"TextBox\"] = get_tfidf(\"TextBox\", projects, \"functions\")\n",
    "    userDict[\"Clock\"] = get_tfidf(\"Clock\", projects, \"functions\")\n",
    "    userDict[\"Sound\"] = get_tfidf(\"Sound\", projects, \"functions\")\n",
    "    userDict[\"image\"] = get_tfidf(\"Notifier\", projects, \"functions\")\n",
    "    userDict[\"VerticalArrangement\"] = get_tfidf(\"VerticalArrangement\", projects, \"functions\")\n",
    "\n",
    "    return userDict"
   ]
  },
  {
   "cell_type": "markdown",
   "metadata": {
    "collapsed": true
   },
   "source": [
    "# Classification"
   ]
  },
  {
   "cell_type": "markdown",
   "metadata": {},
   "source": [
    "Get list of projects for each user."
   ]
  },
  {
   "cell_type": "code",
   "execution_count": 253,
   "metadata": {
    "collapsed": true
   },
   "outputs": [],
   "source": [
    "def getAllProjects(userID): #from summaries\n",
    "    \"\"\"list of projects sorted by creation times\"\"\"\n",
    "    projectlist = summaries[userID].values()\n",
    "    return sorted(projectlist,\n",
    "                  key=lambda project: project['**created']) \n",
    "\n",
    "def projectsInMindur(projectlist):\n",
    "    \"\"\"filter projects within user's MINDUR duration from earliest\"\"\"\n",
    "    earliest = projectlist[0]['**created']\n",
    "    filtered_projects = [projectlist[0]]\n",
    "    for project in projectlist[1:]:\n",
    "        if timediff(project['**created'], earliest)>MINDUR:\n",
    "            break\n",
    "        filtered_projects.append(project)\n",
    "    return filtered_projects\n",
    "\n",
    "def userDuration(projectlist):\n",
    "    \"\"\"get the duration (difference between last and earliest creation dates)\"\"\"\n",
    "    return timediff(projectlist[-1]['**created'], projectlist[0]['**created'])\n",
    "\n",
    "def getProjects(userID, task):\n",
    "    projectlist = getAllProjects(userID)\n",
    "    if task == 'LANGUAGE': \n",
    "        return projectlist\n",
    "    if task == 'RETENTION':\n",
    "        return projectsInMindur(projectlist)"
   ]
  },
  {
   "cell_type": "markdown",
   "metadata": {},
   "source": [
    "Use the appropriate set of users for each task with labels."
   ]
  },
  {
   "cell_type": "code",
   "execution_count": 254,
   "metadata": {
    "collapsed": false
   },
   "outputs": [],
   "source": [
    "def get_user_labels(task):\n",
    "    if task == 'RETENTION': \n",
    "        return {user: int(userDuration(getAllProjects(user))>MINDUR) for user in old_users}\n",
    "    if task == 'LANGUAGE':\n",
    "        return {user: lang_num_map[lang] for user, lang in user_langs.items()}"
   ]
  },
  {
   "cell_type": "markdown",
   "metadata": {
    "collapsed": true
   },
   "source": [
    "### Featurizing"
   ]
  },
  {
   "cell_type": "code",
   "execution_count": 255,
   "metadata": {
    "collapsed": false
   },
   "outputs": [],
   "source": [
    "# featurizer functions\n",
    "time_combined = combine_featfuncs([projectLengthFeatures, dayAnalysisFeatures, decileProjects,])  \n",
    "code_combined = combine_featfuncs([summaryDecileNumScreens,summaryOBlockDecile,summaryDecileTLBlocks,summaryAverages, funcs_tfidf, classes_tfidf]) "
   ]
  },
  {
   "cell_type": "code",
   "execution_count": 257,
   "metadata": {
    "collapsed": false
   },
   "outputs": [
    {
     "ename": "ImportError",
     "evalue": "cannot import name __check_build",
     "output_type": "error",
     "traceback": [
      "\u001b[0;31m---------------------------------------------------------------------------\u001b[0m",
      "\u001b[0;31mImportError\u001b[0m                               Traceback (most recent call last)",
      "\u001b[0;32m<ipython-input-257-869c52e553b2>\u001b[0m in \u001b[0;36m<module>\u001b[0;34m()\u001b[0m\n\u001b[0;32m----> 1\u001b[0;31m \u001b[0;32mfrom\u001b[0m \u001b[0msklearn\u001b[0m\u001b[0;34m.\u001b[0m\u001b[0mfeature_extraction\u001b[0m \u001b[0;32mimport\u001b[0m \u001b[0mDictVectorizer\u001b[0m\u001b[0;34m\u001b[0m\u001b[0m\n\u001b[0m\u001b[1;32m      2\u001b[0m \u001b[0;34m\u001b[0m\u001b[0m\n\u001b[1;32m      3\u001b[0m \u001b[0mall_features\u001b[0m \u001b[0;34m=\u001b[0m \u001b[0;34m[\u001b[0m\u001b[0;34m]\u001b[0m\u001b[0;34m\u001b[0m\u001b[0m\n\u001b[1;32m      4\u001b[0m \u001b[0mtime_features\u001b[0m \u001b[0;34m=\u001b[0m \u001b[0;34m[\u001b[0m\u001b[0;34m]\u001b[0m\u001b[0;34m\u001b[0m\u001b[0m\n\u001b[1;32m      5\u001b[0m \u001b[0mcode_features\u001b[0m \u001b[0;34m=\u001b[0m \u001b[0;34m[\u001b[0m\u001b[0;34m]\u001b[0m\u001b[0;34m\u001b[0m\u001b[0m\n",
      "\u001b[0;32m/Users/emmalurie/anaconda/envs/ipykernel_py2/lib/python2.7/site-packages/sklearn/__init__.py\u001b[0m in \u001b[0;36m<module>\u001b[0;34m()\u001b[0m\n\u001b[1;32m     54\u001b[0m     \u001b[0;31m# process, as it may not be compiled yet\u001b[0m\u001b[0;34m\u001b[0m\u001b[0;34m\u001b[0m\u001b[0m\n\u001b[1;32m     55\u001b[0m \u001b[0;32melse\u001b[0m\u001b[0;34m:\u001b[0m\u001b[0;34m\u001b[0m\u001b[0m\n\u001b[0;32m---> 56\u001b[0;31m     \u001b[0;32mfrom\u001b[0m \u001b[0;34m.\u001b[0m \u001b[0;32mimport\u001b[0m \u001b[0m__check_build\u001b[0m\u001b[0;34m\u001b[0m\u001b[0m\n\u001b[0m\u001b[1;32m     57\u001b[0m     \u001b[0;32mfrom\u001b[0m \u001b[0;34m.\u001b[0m\u001b[0mbase\u001b[0m \u001b[0;32mimport\u001b[0m \u001b[0mclone\u001b[0m\u001b[0;34m\u001b[0m\u001b[0m\n\u001b[1;32m     58\u001b[0m     \u001b[0m__check_build\u001b[0m  \u001b[0;31m# avoid flakes unused variable error\u001b[0m\u001b[0;34m\u001b[0m\u001b[0m\n",
      "\u001b[0;31mImportError\u001b[0m: cannot import name __check_build"
     ]
    }
   ],
   "source": [
    "from sklearn.feature_extraction import DictVectorizer\n",
    "\n",
    "all_features = []\n",
    "time_features = [] \n",
    "code_features = []\n",
    "\n",
    "TASK = 'LANGUAGE'  # toggle between LANGUAGE and RETENTION\n",
    "userlabels = get_user_labels(TASK)\n",
    "\n",
    "y = []\n",
    "ctr = 0\n",
    "for user in userlabels:\n",
    "    projects = getProjects(user, TASK)  # this returns projects sorted by creation date\n",
    "    \n",
    "    y.append(userlabels[user])\n",
    "    \n",
    "    time_features.append(time_combined(projects))\n",
    "    code_features.append(code_combined(projects))\n",
    "    \n",
    "    # merge time and code feature dicts\n",
    "    all_features_user = time_features[-1].copy()\n",
    "    all_features_user.update(code_features[-1])\n",
    "    all_features.append(all_features_user)\n",
    "    \n",
    "    ctr+=1\n",
    "    if ctr%1000==0:\n",
    "        print '.',\n",
    "\n",
    "y = numpy.array(y)\n",
    "\n",
    "timevec = DictVectorizer()\n",
    "Xtime = timevec.fit_transform(time_features) \n",
    "\n",
    "codevec = DictVectorizer()\n",
    "Xcode = codevec.fit_transform(code_features)\n",
    "\n",
    "allvec = DictVectorizer()\n",
    "Xall = allvec.fit_transform(all_features)"
   ]
  },
  {
   "cell_type": "markdown",
   "metadata": {},
   "source": [
    "Scale and standardize features"
   ]
  },
  {
   "cell_type": "code",
   "execution_count": null,
   "metadata": {
    "collapsed": false
   },
   "outputs": [],
   "source": [
    "from sklearn.preprocessing import scale\n",
    "# convert to dense matrices since these are dense anyway\n",
    "Xtime = scale(Xtime.toarray())\n",
    "Xcode = scale(Xcode.toarray())\n",
    "Xall = scale(Xall.toarray())"
   ]
  },
  {
   "cell_type": "markdown",
   "metadata": {},
   "source": [
    "### Model and Prediction"
   ]
  },
  {
   "cell_type": "code",
   "execution_count": null,
   "metadata": {
    "collapsed": false
   },
   "outputs": [],
   "source": [
    "from sklearn.cross_validation import StratifiedKFold\n",
    "from sklearn.neighbors import KNeighborsClassifier\n",
    "from  sklearn.metrics import f1_score \n",
    "from sklearn.linear_model import LogisticRegression\n",
    "from sklearn.metrics import confusion_matrix\n",
    "import matplotlib.pyplot as plt\n",
    "%matplotlib inline \n",
    "from plotcnf import plot_confusion_matrix\n",
    "\n",
    "print 'Chance is', max(numpy.bincount(y))/float(len(y))\n",
    "\n",
    "foldindices = StratifiedKFold(y)\n",
    "\n",
    "if TASK=='LANGUAGE':\n",
    "    labels = map(lambda x:x[0], sorted(lang_num_map.items(), key=lambda x:x[1]))  \n",
    "    # languages corresponding to class labels as a list\n",
    "elif TASK=='RETENTION':\n",
    "    labels = ['left', 'survived']\n",
    "    \n",
    "k = 70 #num neighbors for kNN\n",
    "if TASK == 'RETENTION':\n",
    "    classifiers = [('knn', KNeighborsClassifier(n_neighbors=k)), \n",
    "                   ('logreg', LogisticRegression())]\n",
    "else:\n",
    "    classifiers = [('logreg', LogisticRegression(class_weight='balanced', \n",
    "                                                             multi_class='multinomial', \n",
    "                                                             solver='lbfgs'))]  # no knn because it's too slow\n",
    "\n",
    "for modelname, model in classifiers:\n",
    "    for featname, X in [('time', Xtime), ('code', Xcode), ('all', Xall)]:\n",
    "        print  'Building a', modelname, 'model with', X.shape[1], featname, 'features for', TASK\n",
    "    \n",
    "        cvaccs = numpy.zeros(len(foldindices))\n",
    "        cvf1 = numpy.zeros(len(foldindices))\n",
    "        for i, (trainidx, testidx) in enumerate(foldindices):\n",
    "            print 'Fold', i+1\n",
    "        \n",
    "            ytrain = y[trainidx]\n",
    "            ytest = y[testidx]\n",
    "        \n",
    "            Xtrain = X[trainidx, :]  \n",
    "            Xtest = X[testidx, :]\n",
    "            \n",
    "            model.fit(Xtrain, ytrain)\n",
    "            cvaccs[i] = model.score(Xtest, ytest)\n",
    "        \n",
    "            predictions = model.predict(Xtest)\n",
    "            cvf1[i] = f1_score(ytest, predictions)\n",
    "            \n",
    "            #print '****', modelname, cvaccs[i]\n",
    "        # analyze last fold only\n",
    "        cnf_matrix = confusion_matrix(ytest, predictions)  \n",
    "        plot_confusion_matrix(cnf_matrix, labels)\n",
    "        plt.show()\n",
    "        \n",
    "        print 'Average accuracy', numpy.mean(cvaccs)\n",
    "        print 'Average F1 score', numpy.mean(cvf1)"
   ]
  },
  {
   "cell_type": "code",
   "execution_count": null,
   "metadata": {
    "collapsed": false
   },
   "outputs": [],
   "source": []
  }
 ],
 "metadata": {
  "anaconda-cloud": {},
  "kernelspec": {
   "display_name": "Python [ipykernel_py2]",
   "language": "python",
   "name": "Python [ipykernel_py2]"
  },
  "language_info": {
   "codemirror_mode": {
    "name": "ipython",
    "version": 2
   },
   "file_extension": ".py",
   "mimetype": "text/x-python",
   "name": "python",
   "nbconvert_exporter": "python",
   "pygments_lexer": "ipython2",
   "version": "2.7.12"
  }
 },
 "nbformat": 4,
 "nbformat_minor": 0
}
