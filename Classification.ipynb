{
 "cells": [
  {
   "cell_type": "code",
   "execution_count": 1,
   "metadata": {
    "collapsed": false
   },
   "outputs": [],
   "source": [
    "import datetime\n",
    "import ujson\n",
    "import numpy \n",
    "data = ujson.load(open('user_project_times.json'))"
   ]
  },
  {
   "cell_type": "code",
   "execution_count": 2,
   "metadata": {
    "collapsed": false,
    "scrolled": false
   },
   "outputs": [
    {
     "name": "stdout",
     "output_type": "stream",
     "text": [
      "0 1 2 3 4 5 6 7 8 9 10 11 12 13 14 15 16 17 18 19 20 21 22 23 24 25 26 27 28 29 30 31 32 33 34 35 36 37 38 39 40 41 42 43 44 45 46\n"
     ]
    }
   ],
   "source": [
    "summaries = {}\n",
    "ctr = 0\n",
    "for line in open('user_project_summaries.json'): # lazy iteration because the file is large\n",
    "    print ctr,\n",
    "    ctr+=1\n",
    "    summaries.update(ujson.loads(line))"
   ]
  },
  {
   "cell_type": "code",
   "execution_count": 3,
   "metadata": {
    "collapsed": false
   },
   "outputs": [],
   "source": [
    "TASK = \"LANGUAGE\""
   ]
  },
  {
   "cell_type": "markdown",
   "metadata": {},
   "source": [
    "Create Language Data Set and Initialize Language Codes"
   ]
  },
  {
   "cell_type": "code",
   "execution_count": 4,
   "metadata": {
    "collapsed": false
   },
   "outputs": [
    {
     "name": "stdout",
     "output_type": "stream",
     "text": [
      "done loading keys\n",
      "lang data created\n"
     ]
    }
   ],
   "source": [
    "'''We are using all the data from the user from whom we we have previously classfied what their primary langauge is '''\n",
    "user_langs = ujson.load(open('user_inferredlangs.json')) \n",
    "lang_data = {}\n",
    "keys = user_langs.keys()\n",
    "\n",
    "print 'done loading keys'\n",
    "for key in keys: \n",
    "    lang_data[key] = data[key[0:2] + '/' + key]\n",
    "print 'lang data created'\n",
    "\n",
    "lang_dict = {} #key is langauge isocode, value is number \n",
    "isocodes = ujson.load(open('isocodes.json'))\n",
    "counter = 0 \n",
    "for lang in isocodes:\n",
    "    lang_dict[lang] = counter\n",
    "    counter+=1\n",
    "    "
   ]
  },
  {
   "cell_type": "code",
   "execution_count": 5,
   "metadata": {
    "collapsed": false
   },
   "outputs": [],
   "source": [
    "def convert_time(el):\n",
    "    el = int(str(el)[:10])\n",
    "    return datetime.date.fromtimestamp(el)"
   ]
  },
  {
   "cell_type": "markdown",
   "metadata": {},
   "source": [
    "Now let's get the length of activity for each user (still using creation times) in days. "
   ]
  },
  {
   "cell_type": "code",
   "execution_count": 6,
   "metadata": {
    "collapsed": false
   },
   "outputs": [],
   "source": [
    "import numpy\n",
    "user_activity_length = numpy.zeros(len(data))\n",
    "for i, user in enumerate(data.keys()):\n",
    "    ctimes = [ctime for ctime, _ in data[user]]\n",
    "    user_activity_length[i] = (max(ctimes) - min(ctimes))/(86400*1000)"
   ]
  },
  {
   "cell_type": "markdown",
   "metadata": {},
   "source": [
    "The histogram shows the number of users whose activity time was within `x` number of days."
   ]
  },
  {
   "cell_type": "code",
   "execution_count": 7,
   "metadata": {
    "collapsed": false
   },
   "outputs": [
    {
     "name": "stdout",
     "output_type": "stream",
     "text": [
      "Earliest: 2013-03-27\n",
      "Latest: 2016-03-10\n",
      "Filtered to 25324 users from 46319\n"
     ]
    }
   ],
   "source": [
    "earliest = 1e100\n",
    "latest = 0\n",
    "for user in data:\n",
    "    for ctime, _ in data[user]: #ignore last-modified for now\n",
    "        if ctime < earliest:\n",
    "            earliest = ctime\n",
    "        if ctime > latest:\n",
    "            latest = ctime\n",
    "\n",
    "print 'Earliest:', convert_time(earliest) \n",
    "print 'Latest:', convert_time(latest)\n",
    "MAXDUR = 300\n",
    "MINDUR = 150\n",
    "# get subset of data from \"old\" users whose earliest creation date is more than MAXDUR days before the end of the dataset\n",
    "# (giving them a good chance to stay on for more than MINDUR days),\n",
    "# AND have activity within MAXDUR days if they are active beyond MINDUR (to be fair to recent users)\n",
    "old_data = {}\n",
    "for user in data:\n",
    "    start_time = min([ctime for ctime, _ in data[user]])\n",
    "    if int((latest-start_time)/(86400.*1000))>MAXDUR:\n",
    "        post = filter(lambda length: length>MINDUR, \n",
    "                      map(lambda (ctime,mtime): (ctime-start_time)/(86400.*1000), data[user]))\n",
    "        if len(post)>0 and len(filter(lambda length: length<=MAXDUR, post))==0:\n",
    "            continue  # ignore users who have no activity in the 120-180 period\n",
    "        old_data[user[3:]] = summaries[user[3:]]\n",
    "print 'Filtered to', len(old_data), 'users from', len(data)\n",
    "\n",
    "old_user_activity_length = numpy.zeros(len(old_data))\n",
    "for i, user in enumerate(old_data.keys()):\n",
    "    ctimes = [ctime for ctime, _ in data[user[0:2] + '/' + user]]\n",
    "    old_user_activity_length[i] = (max(ctimes) - min(ctimes))/(86400*1000)"
   ]
  },
  {
   "cell_type": "code",
   "execution_count": 39,
   "metadata": {
    "collapsed": false
   },
   "outputs": [],
   "source": [
    "#from features import *\n",
    "\n"
   ]
  },
  {
   "cell_type": "code",
   "execution_count": 8,
   "metadata": {
    "collapsed": true
   },
   "outputs": [],
   "source": [
    "if TASK == 'RETENTION': \n",
    "    data = old_data\n",
    "if TASK == 'LANGUAGE':\n",
    "    data = lang_data"
   ]
  },
  {
   "cell_type": "code",
   "execution_count": 9,
   "metadata": {
    "collapsed": true
   },
   "outputs": [],
   "source": [
    "def getEarliest(userID):\n",
    "    return data[userID][0][0]"
   ]
  },
  {
   "cell_type": "code",
   "execution_count": 33,
   "metadata": {
    "collapsed": false
   },
   "outputs": [
    {
     "name": "stdout",
     "output_type": "stream",
     "text": [
      "1443070339416\n"
     ]
    }
   ],
   "source": [
    "\n",
    "print getEarliest(keys[0])"
   ]
  },
  {
   "cell_type": "code",
   "execution_count": 10,
   "metadata": {
    "collapsed": false
   },
   "outputs": [],
   "source": [
    "def getEarliestSummary(userID): #helper function to get the earliest project creation date for summmaries\n",
    "    user = summaries[userID]\n",
    "    earliest = user.keys()[0]\n",
    "    for proj in user: \n",
    "        creationDate = summaries[userID][proj]['**created']\n",
    "        if  creationDate < earliest: \n",
    "            earliest = creationDate\n",
    "    return earliest\n",
    "        "
   ]
  },
  {
   "cell_type": "code",
   "execution_count": 11,
   "metadata": {
    "collapsed": false
   },
   "outputs": [],
   "source": [
    "keys = lang_data.keys()\n",
    "# print keys[0:100]\n",
    "# i = 0 \n",
    "# for userID in keys: \n",
    "#     if i % 1000 == 0: \n",
    "#         print i \n",
    "#     getEarliestSummary(userID)\n",
    "#     i += 1"
   ]
  },
  {
   "cell_type": "code",
   "execution_count": 19,
   "metadata": {
    "collapsed": false
   },
   "outputs": [
    {
     "name": "stdout",
     "output_type": "stream",
     "text": [
      "loaded keys\n"
     ]
    }
   ],
   "source": [
    "users = lang_data.keys()[0:100]\n",
    "print 'loaded keys'\n",
    "for userID in users: \n",
    "    getEarliest(userID)"
   ]
  },
  {
   "cell_type": "code",
   "execution_count": 12,
   "metadata": {
    "collapsed": true
   },
   "outputs": [],
   "source": [
    "def getProjectsInMINDUR(userID): #for summaries\n",
    "    projList = []\n",
    "    earliest = getEarliest(userID)\n",
    "\n",
    "    latest = (MINDUR * 86400 * 1000) + earliest \n",
    "    user = summaries[userID]\n",
    "    for proj in user: \n",
    "        if summaries[userID][proj]['**created'] >= earliest and summaries[userID][proj]['**created'] <= latest: \n",
    "            projList.append(summaries[userID][proj])\n",
    "    return projList\n",
    "                        \n",
    "                                                                                 "
   ]
  },
  {
   "cell_type": "code",
   "execution_count": 62,
   "metadata": {
    "collapsed": true
   },
   "outputs": [],
   "source": [
    "def getProjects(userID):\n",
    "    if TASK == 'LANGUAGE': \n",
    "        return {userID: summaries[userID]} \n",
    "    if TASK == 'RETENTION':\n",
    "        return {userID : getProjectsInMINDUR(userID)}"
   ]
  },
  {
   "cell_type": "code",
   "execution_count": 90,
   "metadata": {
    "collapsed": false
   },
   "outputs": [],
   "source": [
    "def sortedProjects(userID): \n",
    "    r = getProjects(userID)\n",
    "    projects = r[r.keys()[0]] \n",
    "    #print projects[projects.keys()[0]]['**created']\n",
    "\n",
    "    name_time = [(project, projects[project]['**created']) for project in projects]\n",
    "    name_time = sorted(name_time, key=lambda t: t[1])  \n",
    "    proj_list = [summaries[userID][project[0]] for project in name_time]\n",
    "    return proj_list\n",
    "    #print proj_list\n"
   ]
  },
  {
   "cell_type": "code",
   "execution_count": 129,
   "metadata": {
    "collapsed": false
   },
   "outputs": [
    {
     "name": "stdout",
     "output_type": "stream",
     "text": [
      "100.0\n",
      "100.0\n",
      "86.3636363636\n",
      "100.0\n",
      "96.1538461538\n",
      "95.4545454545\n",
      "75.0\n",
      "95.652173913\n",
      "80.0\n",
      "92.5925925926\n"
     ]
    }
   ],
   "source": []
  },
  {
   "cell_type": "code",
   "execution_count": 112,
   "metadata": {
    "collapsed": true
   },
   "outputs": [],
   "source": [
    "def getAverageProjectLen(projects):\n",
    "    num_projects = len(projects)\n",
    "    total_project_length = 0 #the sum of all the lengths of the project (from date created to date modified)\n",
    "    \n",
    "    prev = projects[0][\"**created\"]\n",
    "    for project in projects[1:]: \n",
    "        curr = project['**created']\n",
    "        total_project_length += (curr - prev)/(86400.*1000)   #SR: added this to scale to days\n",
    "        prev = curr \n",
    "    return int(total_project_length / float(num_projects))"
   ]
  },
  {
   "cell_type": "code",
   "execution_count": 122,
   "metadata": {
    "collapsed": false
   },
   "outputs": [],
   "source": [
    "def numProjects(projects):\n",
    "    return len(projects)"
   ]
  },
  {
   "cell_type": "code",
   "execution_count": 123,
   "metadata": {
    "collapsed": true
   },
   "outputs": [],
   "source": [
    "def percentOnWeekday(projects):\n",
    "    num_projs = numProjects(projects)\n",
    "    weekday_projs = 0\n",
    "    for project in projects: \n",
    "        if datetime.datetime.fromtimestamp(project['**created'] / 1e3).weekday() < 6: \n",
    "            weekday_projs += 1.0\n",
    "    return weekday_projs / num_projs * 100"
   ]
  },
  {
   "cell_type": "code",
   "execution_count": 135,
   "metadata": {
    "collapsed": false
   },
   "outputs": [],
   "source": [
    "import datetime\n",
    "def percentOnDay(projects):\n",
    "    num_projs = len(projects)\n",
    "    weekday_projs = 0\n",
    "    dow = [] \n",
    "    for i in range(7):\n",
    "        dow.append(0)\n",
    "    for project in projects: \n",
    "        date = datetime.datetime.fromtimestamp(project['**created'] / 1e3).weekday() \n",
    "        dow[date] += 1.0\n",
    "    for i in range(7):\n",
    "        dow[i] = dow[i] / num_projs * 100 \n",
    "    return dow"
   ]
  },
  {
   "cell_type": "code",
   "execution_count": 140,
   "metadata": {
    "collapsed": true
   },
   "outputs": [],
   "source": [
    "def getDecileBoundaries(projects):\n",
    "    first= projects[len(projects)-1]['**created']\n",
    "    decile_width = MINDUR * 86400000/ 10 \n",
    "    decileNums = []\n",
    "    for i in range(1,11): \n",
    "        decileNums.append(first + decile_width*i)\n",
    "    return decileNums"
   ]
  },
  {
   "cell_type": "code",
   "execution_count": 205,
   "metadata": {
    "collapsed": false
   },
   "outputs": [],
   "source": [
    " def numProjectsInDecile(projects):\n",
    "    ''' the first decile is the 0th decile (covering from 0-10% of the time), \n",
    "    the last decile is the 9th decile'''\n",
    "    first= int(projects[0]['**created'])\n",
    "    #print first\n",
    "    last = int(projects[len(projects)-1]['**created'])\n",
    "    #print last\n",
    "    decile_width = (last - first) / (86400 * 1000)\n",
    "    decileList = []\n",
    "    \n",
    "    for i in range(10): \n",
    "        decileList.append(0)\n",
    "        \n",
    "    for project in projects: \n",
    "        if project['**created'] >= first and project['**created'] <= last: \n",
    "            index  = ((project['**created']-first)/(86400 * 10000))\n",
    "            if index >= 10: \n",
    "                decileList[9] = decileList[9] + 1\n",
    "            else: \n",
    "                decileList[index] = decileList[index] + 1\n",
    "    return decileList\n",
    "    "
   ]
  },
  {
   "cell_type": "code",
   "execution_count": 228,
   "metadata": {
    "collapsed": false,
    "scrolled": false
   },
   "outputs": [
    {
     "name": "stdout",
     "output_type": "stream",
     "text": [
      "{u'**modified': 1394175531773L, u'**created': 1394173993464L, u'**Project Name': u'PlayMusic', u'*Media Assets': [u'skycity.mid'], u'Screen1': {u'Blocks': {u'Orphan Blocks': u'NO ORPHAN BLOCKS', u'*Top Level Blocks': {u'Slider.PositionChanged': 1, u'Button.Click': 3, u'global_declaration': 1}, u'Active Blocks': {u'Global Variable Names': {u'thumbPosition': 1, u'global vMusic': 4, u'vMusic': 1}, u'*Number of Blocks': 35, u'Procedure Names': {}, u'Local Variable Names': {}, u'Procedure Parameter Names': {}, u'Strings': {u'Basket.mid': 1, u'SkyCity.mid': 1, u'null': 1, u'Toto.mid': 1, u'\\u6b63\\u5728\\u64ad\\u653e ': 1}, u'Types': {u'Player.Stop': 1, u'Slider.PositionChanged': 1, u'lexical_variable_set': 3, u'CheckBox.GetChecked': 3, u'Player.SetSource': 1, u'Button.Click': 3, u'Player.Pause': 1, u'text': 5, u'controls_if': 1, u'Slider.GetThumbPosition': 1, u'Player.Start': 1, u'Label.SetText': 1, u'text_join': 1, u'Player.GetSource': 1, u'global_declaration': 1, u'Slider.SetThumbPosition': 1, u'Player.SetVolume': 1, u'CheckBox.SetChecked': 3, u'lexical_variable_get': 2, u'logic_false': 3}}}, u'Components': {u'Type and Frequency': {u'VerticalArrangement': 1, u'Player': 1, u'Label': 1, u'HorizontalArrangement': 3}, u'Strings': [], u'Number of Components': 4}}, u'*Number of Screens': 1}\n"
     ]
    }
   ],
   "source": [
    "users = old_data.keys()[0:1]\n",
    "for userID in users:\n",
    "    r = sortedProjects(userID)\n"
   ]
  },
  {
   "cell_type": "code",
   "execution_count": null,
   "metadata": {
    "collapsed": true
   },
   "outputs": [],
   "source": [
    "#Summary features "
   ]
  },
  {
   "cell_type": "code",
   "execution_count": 60,
   "metadata": {
    "collapsed": false
   },
   "outputs": [
    {
     "name": "stdout",
     "output_type": "stream",
     "text": [
      "[u'p010_009_simplecalc', u'p021_020_clock', u'p012_011_molemash', u'p006_005_talktome', u'p018_018_webviewer', u'p005_008_lightmeup', u'p004_003_triplebutton', u'p017_017_spinner', u'p003_004_sound', u'p000_000_Helpme', u'p013_016_paintpot', u'p020_021_finalsmartinez', u'p002_002_topperformer', u'p014_012_mutiplescreens', u'p009_010_checkbox', u'p001_001_buttonimg', u'p008_006_timepicker', u'p011_014_ballbounce', u'p016_015_slider', u'p015_013_magic8ball', u'p019_019_coloreddots', u'p007_007_datepicker']\n"
     ]
    }
   ],
   "source": [
    "print summaries['44884'].keys()#['p021_020_clock'].keys()#['Screen1']['Blocks']['Active Blocks'].keys()#['Local Variable Names'].keys() #['Local Variable Names']"
   ]
  },
  {
   "cell_type": "code",
   "execution_count": 247,
   "metadata": {
    "collapsed": false
   },
   "outputs": [],
   "source": [
    "def getAveNumLocalVariables(projects):\n",
    "    numScreens = getNumScreens(projects)\n",
    "    lv_count = 0 \n",
    "    if not noAbnormalities(userID, projName): return 0 \n",
    "    for projectScreens in range(len(numScreens)):\n",
    "        for i in range(projectScreens):\n",
    "            screenNum = \"Screen\"+ str(i + 1)\n",
    "            if screenNum in summaries[userID][projName].keys():\n",
    "                if summaries[userID][projName][screenNum]['Blocks']['Active Blocks'] != 'NO ACTIVE BLOCKS':\n",
    "                    lv_count += len(summaries[userID][projName][screenNum]['Blocks']['Active Blocks']['Local Variable Names'].keys())\n",
    "    return lv_count"
   ]
  },
  {
   "cell_type": "code",
   "execution_count": 279,
   "metadata": {
    "collapsed": true
   },
   "outputs": [],
   "source": [
    "def getAveNumLocalVariables(projects):\n",
    "    numScreens = getNumScreens(projects)\n",
    "    #print numScreens\n",
    "    #print projects\n",
    "    lv_count = 0\n",
    "    for i in range(len(projects)): \n",
    "        project = projects[i]\n",
    "        for n in range(numScreens[i]):\n",
    "            screenNum = \"Screen\"+ str(n + 1)\n",
    "            if screenNum in project.keys():                    \n",
    "                      if project[screenNum][\"Blocks\"][\"Active Blocks\"] != 'NO ACTIVE BLOCKS':\n",
    "                        try: \n",
    "                            lv_count += len(project['Blocks']['Active Blocks']['Local Variable Names'].keys())\n",
    "                        except KeyError: \n",
    "                            print \"ERROR\", project\n",
    "    return lv_count / float(len(projects))"
   ]
  },
  {
   "cell_type": "code",
   "execution_count": 280,
   "metadata": {
    "collapsed": false
   },
   "outputs": [
    {
     "name": "stdout",
     "output_type": "stream",
     "text": [
      "ERROR {u'**modified': 1394175531773L, u'**created': 1394173993464L, u'**Project Name': u'PlayMusic', u'*Media Assets': [u'skycity.mid'], u'Screen1': {u'Blocks': {u'Orphan Blocks': u'NO ORPHAN BLOCKS', u'*Top Level Blocks': {u'Slider.PositionChanged': 1, u'Button.Click': 3, u'global_declaration': 1}, u'Active Blocks': {u'Global Variable Names': {u'thumbPosition': 1, u'global vMusic': 4, u'vMusic': 1}, u'*Number of Blocks': 35, u'Procedure Names': {}, u'Local Variable Names': {}, u'Procedure Parameter Names': {}, u'Strings': {u'Basket.mid': 1, u'SkyCity.mid': 1, u'null': 1, u'Toto.mid': 1, u'\\u6b63\\u5728\\u64ad\\u653e ': 1}, u'Types': {u'Player.Stop': 1, u'Slider.PositionChanged': 1, u'lexical_variable_set': 3, u'CheckBox.GetChecked': 3, u'Player.SetSource': 1, u'Button.Click': 3, u'Player.Pause': 1, u'text': 5, u'controls_if': 1, u'Slider.GetThumbPosition': 1, u'Player.Start': 1, u'Label.SetText': 1, u'text_join': 1, u'Player.GetSource': 1, u'global_declaration': 1, u'Slider.SetThumbPosition': 1, u'Player.SetVolume': 1, u'CheckBox.SetChecked': 3, u'lexical_variable_get': 2, u'logic_false': 3}}}, u'Components': {u'Type and Frequency': {u'VerticalArrangement': 1, u'Player': 1, u'Label': 1, u'HorizontalArrangement': 3}, u'Strings': [], u'Number of Components': 4}}, u'*Number of Screens': 1}\n",
      "ERROR {u'**modified': 1395380260832L, u'**created': 1394177668666L, u'**Project Name': u'r0981143420', u'*Media Assets': [], u'Screen1': {u'Blocks': {u'Orphan Blocks': u'NO ORPHAN BLOCKS', u'*Top Level Blocks': {u'Button.Click': 1}, u'Active Blocks': {u'Global Variable Names': {}, u'*Number of Blocks': 3, u'Procedure Names': {}, u'Local Variable Names': {}, u'Procedure Parameter Names': {}, u'Strings': {u'\\u9ec3\\u4ec1\\u5a01': 1}, u'Types': {u'Label.SetText': 1, u'text': 1, u'Button.Click': 1}}}, u'Components': {u'Type and Frequency': {u'HorizontalArrangement': 1}, u'Strings': [], u'Number of Components': 1}}, u'*Number of Screens': 1}\n",
      "ERROR {u'**modified': 1395382671115L, u'**created': 1395380296583L, u'**Project Name': u'BallBounce', u'*Media Assets': [u'frog.gif'], u'Screen1': {u'Blocks': {u'Orphan Blocks': u'NO ORPHAN BLOCKS', u'*Top Level Blocks': {u'Ball.Flung': 1, u'ImageSprite.EdgeReached': 1, u'Ball.EdgeReached': 1, u'ImageSprite.Flung': 1}, u'Active Blocks': {u'Global Variable Names': {u'edge': 2, u'speed': 2, u'heading': 2}, u'*Number of Blocks': 16, u'Procedure Names': {}, u'Local Variable Names': {}, u'Procedure Parameter Names': {}, u'Strings': {}, u'Types': {u'Ball.Flung': 1, u'Ball.Bounce': 1, u'ImageSprite.Flung': 1, u'ImageSprite.EdgeReached': 1, u'Ball.SetSpeed': 1, u'ImageSprite.SetHeading': 1, u'ImageSprite.Bounce': 1, u'Ball.SetHeading': 1, u'Ball.EdgeReached': 1, u'ImageSprite.SetHeight': 1, u'lexical_variable_get': 6}}}, u'Components': {u'Type and Frequency': {u'Canvas': 1}, u'Strings': [], u'Number of Components': 1}}, u'*Number of Screens': 1}\n",
      "ERROR {u'**modified': 1395383772605L, u'**created': 1395383372224L, u'**Project Name': u'EasyPaint', u'*Media Assets': [u'Koala.jpg'], u'Screen1': {u'Blocks': {u'Orphan Blocks': u'NO ORPHAN BLOCKS', u'*Top Level Blocks': {u'Canvas.Dragged': 1, u'AccelerometerSensor.Shaking': 1}, u'Active Blocks': {u'Global Variable Names': {u'prevX': 1, u'prevY': 1, u'currentY': 1, u'currentX': 1}, u'*Number of Blocks': 8, u'Procedure Names': {}, u'Local Variable Names': {}, u'Procedure Parameter Names': {}, u'Strings': {}, u'Types': {u'Canvas.Clear': 1, u'Canvas.Dragged': 1, u'AccelerometerSensor.Shaking': 1, u'lexical_variable_get': 4, u'Canvas.DrawLine': 1}}}, u'Components': {u'Type and Frequency': {u'Canvas': 1, u'AccelerometerSensor': 1}, u'Strings': [], u'Number of Components': 2}}, u'*Number of Screens': 1}\n",
      "ERROR {u'**modified': 1395987524058L, u'**created': 1395385038865L, u'**Project Name': u'ppr1888', u'*Media Assets': [], u'Screen1': {u'Blocks': {u'Orphan Blocks': u'NO ORPHAN BLOCKS', u'*Top Level Blocks': {u'TextBox.GotFocus': 1, u'global_declaration': 1}, u'Active Blocks': {u'Global Variable Names': {u' ': 1, u'name': 1}, u'*Number of Blocks': 17, u'Procedure Names': {}, u'Local Variable Names': {}, u'Procedure Parameter Names': {}, u'Strings': {u'max =': 1}, u'Types': {u'math_single': 1, u'TextBox.GotFocus': 1, u'TextBox.SetText': 1, u'lexical_variable_set': 1, u'math_format_as_decimal': 1, u'text_join': 1, u'math_on_list': 1, u'global_declaration': 1, u'text': 1, u'math_number': 8}}}, u'Components': {u'Type and Frequency': {u'Button': 1, u'TextBox': 1}, u'Strings': [u'Text for Button1'], u'Number of Components': 2}}, u'*Number of Screens': 1}\n",
      "ERROR {u'**modified': 1397195488817L, u'**created': 1395987667999L, u'**Project Name': u'cit140328', u'*Media Assets': [u'hole.png', u'mole.png'], u'Screen1': {u'Blocks': {u'Orphan Blocks': u'NO ORPHAN BLOCKS', u'*Top Level Blocks': {u'Clock.Timer': 1, u'procedures_defnoreturn': 1, u'Form.Initialize': 1, u'global_declaration': 1}, u'Active Blocks': {u'Global Variable Names': {u'global holes': 4, u'holes': 1}, u'*Number of Blocks': 22, u'Procedure Names': {u'movemole': 3}, u'Local Variable Names': {u'name': 1}, u'Procedure Parameter Names': {}, u'Strings': {}, u'Types': {u'ImageSprite.GetX': 1, u'ImageSprite.GetY': 1, u'Form.Initialize': 1, u'Clock.Timer': 1, u'local_declaration_statement': 1, u'lists_create_with': 1, u'component_component_block': 5, u'lists_add_items': 1, u'ImageSprite.MoveTo': 1, u'procedures_callnoreturn': 2, u'procedures_defnoreturn': 1, u'global_declaration': 1, u'lists_pick_random_item': 1, u'lexical_variable_get': 4}}}, u'Components': {u'Type and Frequency': {u'Sound': 1, u'HorizontalArrangement': 1, u'Canvas': 1, u'Clock': 1}, u'Strings': [], u'Number of Components': 4}}, u'*Number of Screens': 1}\n",
      "ERROR {u'**modified': 1397806297312L, u'**created': 1397202311517L, u'**Project Name': u'web', u'*Media Assets': [], u'Screen1': {u'Blocks': {u'Orphan Blocks': u'NO ORPHAN BLOCKS', u'*Top Level Blocks': {u'Button.Click': 1}, u'Active Blocks': {u'Global Variable Names': {}, u'*Number of Blocks': 3, u'Procedure Names': {}, u'Local Variable Names': {}, u'Procedure Parameter Names': {}, u'Strings': {}, u'Types': {u'TextBox.GetText': 1, u'WebViewer.GoToUrl': 1, u'Button.Click': 1}}}, u'Components': {u'Type and Frequency': {u'Button': 1, u'WebViewer': 1, u'TextBox': 1}, u'Strings': [u'Text for Button1'], u'Number of Components': 3}}, u'*Number of Screens': 1}\n",
      "ERROR {u'**modified': 1400219299560L, u'**created': 1397806305310L, u'**Project Name': u'a599888', u'*Media Assets': [], u'Screen2': {u'Blocks': {u'Orphan Blocks': u'NO ORPHAN BLOCKS', u'*Top Level Blocks': {u'Form.Initialize': 1, u'Button.Click': 1}, u'Active Blocks': {u'Global Variable Names': {}, u'*Number of Blocks': 8, u'Procedure Names': {}, u'Local Variable Names': {}, u'Procedure Parameter Names': {}, u'Strings': {u'\\u5230\\u6b64\\u4e00\\u904a': 1}, u'Types': {u'Form.Initialize': 1, u'controls_getStartValue': 1, u'controls_closeScreen': 1, u'text': 1, u'Label.SetText': 1, u'text_join': 1, u'Label.GetText': 1, u'Button.Click': 1}}}, u'Components': {u'Type and Frequency': {u'Button': 1, u'Label': 1}, u'Strings': [u'page', u'close'], u'Number of Components': 2}}, u'Screen1': {u'Blocks': {u'Orphan Blocks': {u'Global Variable Names': {}, u'*Number of Blocks': 3, u'Procedure Names': {}, u'Local Variable Names': {}, u'Procedure Parameter Names': {}, u'Strings': {u'\\u9ec3\\u4ec1\\u5a01': 1, u'page2': 1}, u'Types': {u'controls_openAnotherScreenWithStartValue': 1, u'text': 2}}, u'*Top Level Blocks': {u'controls_openAnotherScreenWithStartValue': 1, u'SpeechRecognizer.AfterGettingText': 1, u'Button.Click': 1}, u'Active Blocks': {u'Global Variable Names': {u'result': 1}, u'*Number of Blocks': 7, u'Procedure Names': {}, u'Local Variable Names': {}, u'Procedure Parameter Names': {}, u'Strings': {u'stop': 1}, u'Types': {u'controls_openAnotherScreen': 1, u'Button.Click': 1, u'controls_if': 1, u'text': 1, u'SpeechRecognizer.AfterGettingText': 1, u'text_contains': 1, u'lexical_variable_get': 1}}}, u'Components': {u'Type and Frequency': {u'SpeechRecognizer': 1, u'Button': 1, u'Label': 1}, u'Strings': [u'Text for Label1', u'\\u524d\\u9032\\u7b2c\\u4e8c\\u9801'], u'Number of Components': 3}}, u'*Number of Screens': 2}\n",
      "ERROR {u'**modified': 1400219299560L, u'**created': 1397806305310L, u'**Project Name': u'a599888', u'*Media Assets': [], u'Screen2': {u'Blocks': {u'Orphan Blocks': u'NO ORPHAN BLOCKS', u'*Top Level Blocks': {u'Form.Initialize': 1, u'Button.Click': 1}, u'Active Blocks': {u'Global Variable Names': {}, u'*Number of Blocks': 8, u'Procedure Names': {}, u'Local Variable Names': {}, u'Procedure Parameter Names': {}, u'Strings': {u'\\u5230\\u6b64\\u4e00\\u904a': 1}, u'Types': {u'Form.Initialize': 1, u'controls_getStartValue': 1, u'controls_closeScreen': 1, u'text': 1, u'Label.SetText': 1, u'text_join': 1, u'Label.GetText': 1, u'Button.Click': 1}}}, u'Components': {u'Type and Frequency': {u'Button': 1, u'Label': 1}, u'Strings': [u'page', u'close'], u'Number of Components': 2}}, u'Screen1': {u'Blocks': {u'Orphan Blocks': {u'Global Variable Names': {}, u'*Number of Blocks': 3, u'Procedure Names': {}, u'Local Variable Names': {}, u'Procedure Parameter Names': {}, u'Strings': {u'\\u9ec3\\u4ec1\\u5a01': 1, u'page2': 1}, u'Types': {u'controls_openAnotherScreenWithStartValue': 1, u'text': 2}}, u'*Top Level Blocks': {u'controls_openAnotherScreenWithStartValue': 1, u'SpeechRecognizer.AfterGettingText': 1, u'Button.Click': 1}, u'Active Blocks': {u'Global Variable Names': {u'result': 1}, u'*Number of Blocks': 7, u'Procedure Names': {}, u'Local Variable Names': {}, u'Procedure Parameter Names': {}, u'Strings': {u'stop': 1}, u'Types': {u'controls_openAnotherScreen': 1, u'Button.Click': 1, u'controls_if': 1, u'text': 1, u'SpeechRecognizer.AfterGettingText': 1, u'text_contains': 1, u'lexical_variable_get': 1}}}, u'Components': {u'Type and Frequency': {u'SpeechRecognizer': 1, u'Button': 1, u'Label': 1}, u'Strings': [u'Text for Label1', u'\\u524d\\u9032\\u7b2c\\u4e8c\\u9801'], u'Number of Components': 3}}, u'*Number of Screens': 2}\n",
      "ERROR {u'**modified': 1400219278771L, u'**created': 1400219271525L, u'**Project Name': u'brick2', u'*Media Assets': [u'cube.png', u'hitWall.mp3', u'hitBrick.mp3'], u'Screen1': {u'Blocks': {u'Orphan Blocks': u'NO ORPHAN BLOCKS', u'*Top Level Blocks': {u'Ball.EdgeReached': 1, u'Ball.CollidedWith': 1, u'SpeechRecognizer.AfterGettingText': 1, u'Button.Click': 1, u'global_declaration': 1}, u'Active Blocks': {u'Global Variable Names': {u'global Score': 3, u'other': 1, u'Score': 1, u'result': 4, u'edge': 1}, u'*Number of Blocks': 57, u'Procedure Names': {}, u'Local Variable Names': {}, u'Procedure Parameter Names': {}, u'Strings': {u'\\u59cb': 1, u'\\u6b62': 1, u'\\u958b': 1, u'\\u505c': 1}, u'Types': {u'lexical_variable_set': 1, u'global_declaration': 1, u'Sound.Play': 2, u'ImageSprite.MoveTo': 1, u'text_contains': 4, u'math_number': 13, u'Ball.SetHeading': 2, u'component_component_block': 1, u'Ball.Bounce': 1, u'Ball.SetSpeed': 3, u'SpeechRecognizer.AfterGettingText': 1, u'text': 4, u'Ball.EdgeReached': 1, u'math_random_int': 4, u'Ball.CollidedWith': 1, u'Button.Click': 1, u'logic_or': 2, u'controls_if': 3, u'Label.SetText': 1, u'logic_compare': 1, u'math_add': 1, u'lexical_variable_get': 8}}}, u'Components': {u'Type and Frequency': {u'Sound': 2, u'HorizontalArrangement': 1, u'Canvas': 1, u'SpeechRecognizer': 1, u'Label': 1}, u'Strings': [u'\\u5f97\\u5206:'], u'Number of Components': 5}}, u'*Number of Screens': 1}\n",
      "ERROR {u'**modified': 1400824073730L, u'**created': 1400219499574L, u'**Project Name': u'r59907035', u'*Media Assets': [u'hello_kitty.png', u'O'], u'Screen2': {u'Blocks': {u'Orphan Blocks': u'NO ORPHAN BLOCKS', u'*Top Level Blocks': {}, u'Active Blocks': u'NO ACTIVE BLOCKS'}, u'Components': u'N'}, u'Screen1': {u'Blocks': {u'Orphan Blocks': u'NO ORPHAN BLOCKS', u'*Top Level Blocks': {u'ListPicker.AfterPicking': 1, u'Form.Initialize': 1, u'global_declaration': 3}, u'Active Blocks': {u'Global Variable Names': {u'index': 1, u'global index': 2, u'global name2': 1, u'name2': 1, u'global name': 2, u'name': 1}, u'*Number of Blocks': 27, u'Procedure Names': {}, u'Local Variable Names': {}, u'Procedure Parameter Names': {}, u'Strings': {u'\\u57fa\\u9686\\u6e2f\\u5730\\u5716': 1, u'\\u57fa\\u9686\\u6e2f\\u8857\\u666f': 1, u'https://www.google.com.tw/maps/place/%E5%B4%87%E5%8F%B3%E6%8A%80%E8%A1%93%E5%AD%B8%E9%99%A2/@25.129276,121.753486,17z/data=!3m1!4b1!4m2!3m1!1s0x345d4e381cc631e3:0x908b02c23b08a173': 4, u'\\u5d07\\u53f3\\u5730\\u5716': 1, u'\\u5d07\\u53f3\\u8857\\u666f': 1}, u'Types': {u'Form.SetAboutScreen': 1, u'lexical_variable_set': 1, u'Form.Initialize': 1, u'lists_create_with': 2, u'text': 8, u'ListPicker.AfterPicking': 1, u'lists_select_item': 1, u'ActivityStarter.StartActivity': 1, u'global_declaration': 3, u'lists_position_in': 1, u'ActivityStarter.SetDataUri': 1, u'math_number': 1, u'lexical_variable_get': 4, u'ListPicker.GetSelection': 1}}}, u'Components': {u'Type and Frequency': {u'Image': 1, u'ActivityStarter': 1, u'ListPicker': 1}, u'Strings': [u'Text for ListPicker1'], u'Number of Components': 3}}, u'*Number of Screens': 2}\n",
      "ERROR {u'**modified': 1400224031288L, u'**created': 1400220392204L, u'**Project Name': u'f59907035', u'*Media Assets': [u'img01.jpg'], u'Screen1': {u'Blocks': {u'Orphan Blocks': u'NO ORPHAN BLOCKS', u'*Top Level Blocks': {u'Camera.AfterPicture': 1, u'Button.Click': 1, u'ImagePicker.AfterPicking': 1}, u'Active Blocks': {u'Global Variable Names': {u'image': 1}, u'*Number of Blocks': 8, u'Procedure Names': {}, u'Local Variable Names': {}, u'Procedure Parameter Names': {}, u'Strings': {}, u'Types': {u'Camera.AfterPicture': 1, u'Button.Click': 1, u'ImagePicker.AfterPicking': 1, u'Image.SetPicture': 2, u'Camera.TakePicture': 1, u'lexical_variable_get': 1, u'ImagePicker.GetSelection': 1}}}, u'Components': {u'Type and Frequency': {u'Button': 1, u'Camera': 1, u'Image': 1, u'ImagePicker': 1}, u'Strings': [u'Text for Button1', u'Text for ImagePicker1'], u'Number of Components': 4}}, u'*Number of Screens': 1}\n",
      "ERROR {u'**modified': 1401430895392L, u'**created': 1400824073873L, u'**Project Name': u's59907035', u'*Media Assets': [u'abboy.png'], u'Screen1': {u'Blocks': {u'Orphan Blocks': u'NO ORPHAN BLOCKS', u'*Top Level Blocks': {u'ImageSprite.Touched': 1}, u'Active Blocks': {u'Global Variable Names': {}, u'*Number of Blocks': 3, u'Procedure Names': {}, u'Local Variable Names': {}, u'Procedure Parameter Names': {}, u'Strings': {}, u'Types': {u'ImageSprite.Touched': 1, u'Form.SetBackgroundColor': 1, u'color_blue': 1}}}, u'Components': {u'Type and Frequency': {u'Canvas': 1}, u'Strings': [], u'Number of Components': 1}}, u'*Number of Screens': 1}\n",
      "ERROR {u'**modified': 1402640518052L, u'**created': 1402037532625L, u'**Project Name': u'jmobile', u'*Media Assets': [], u'Screen1': {u'Blocks': {u'Orphan Blocks': u'NO ORPHAN BLOCKS', u'*Top Level Blocks': {u'Form.Initialize': 1}, u'Active Blocks': {u'Global Variable Names': {}, u'*Number of Blocks': 3, u'Procedure Names': {}, u'Local Variable Names': {}, u'Procedure Parameter Names': {}, u'Strings': {u'file:///android_asset/html5.html': 1}, u'Types': {u'text': 1, u'WebViewer.GoToUrl': 1, u'Form.Initialize': 1}}}, u'Components': {u'Type and Frequency': {u'WebViewer': 1}, u'Strings': [], u'Number of Components': 1}}, u'*Number of Screens': 1}\n",
      "ERROR {u'**modified': 1412038536684L, u'**created': 1402640533892L, u'**Project Name': u'flung', u'*Media Assets': [u'cookie.png'], u'Screen1': {u'Blocks': {u'Orphan Blocks': u'NO ORPHAN BLOCKS', u'*Top Level Blocks': {u'procedures_defnoreturn': 2, u'Canvas.Flung': 1, u'global_declaration': 4}, u'Active Blocks': {u'Global Variable Names': {u'direction': 4, u'listColors': 1, u'global listColors': 3, u'indexColor': 1, u'listImages': 1, u'global indexColor': 7, u'global indexImage': 7, u'global listImages': 3, u'indexImage': 1, u'heading': 6}, u'*Number of Blocks': 109, u'Procedure Names': {u'topOrBottom': 2, u'direction': 2, u'leftOrRight': 2}, u'Local Variable Names': {}, u'Procedure Parameter Names': {u'direction': 6}, u'Strings': {u'right': 2, u'Bottom': 1, u'top': 2, u'elf.png': 1, u'cookie.png': 1, u'santa.png': 1, u'cute-snowman.png': 1, u'left': 1}, u'Types': {u'lexical_variable_set': 6, u'color_red': 1, u'math_number': 16, u'lists_select_item': 2, u'color_yellow': 1, u'controls_choose': 2, u'Canvas.Flung': 1, u'Canvas.SetBackgroundImage': 1, u'color_green': 1, u'Form.SetTitle': 2, u'procedures_callnoreturn': 4, u'procedures_defnoreturn': 2, u'global_declaration': 4, u'math_compare': 12, u'lists_length': 4, u'controls_if': 6, u'lists_create_with': 2, u'math_abs': 2, u'color_white': 1, u'logic_compare': 2, u'text': 10, u'Form.SetBackgroundColor': 1, u'math_add': 2, u'lexical_variable_get': 24}}}, u'Components': {u'Type and Frequency': {u'Canvas': 1, u'Notifier': 1}, u'Strings': [], u'Number of Components': 2}}, u'*Number of Screens': 1}\n",
      "ERROR {u'**modified': 1412045328845L, u'**created': 1412041778782L, u'**Project Name': u'p0930a', u'*Media Assets': [u'hello_kitty.png', u'meow.mp3'], u'Screen1': {u'Blocks': {u'Orphan Blocks': u'NO ORPHAN BLOCKS', u'*Top Level Blocks': {u'AccelerometerSensor.Shaking': 1, u'Button.Click': 1}, u'Active Blocks': {u'Global Variable Names': {}, u'*Number of Blocks': 6, u'Procedure Names': {}, u'Local Variable Names': {}, u'Procedure Parameter Names': {}, u'Strings': {}, u'Types': {u'Sound.Play': 2, u'Sound.Vibrate': 1, u'math_number': 1, u'Button.Click': 1, u'AccelerometerSensor.Shaking': 1}}}, u'Components': {u'Type and Frequency': {u'Sound': 1, u'Button': 1, u'AccelerometerSensor': 1, u'Label': 1}, u'Strings': [u'\\u8acb\\u76e1\\u91cf\\u7684\\u6478\\u6211\\u5594'], u'Number of Components': 4}}, u'*Number of Screens': 1}\n",
      "ERROR {u'**modified': 1412053555827L, u'**created': 1412047388399L, u'**Project Name': u'p0930b', u'*Media Assets': [u'cube.png'], u'Screen1': {u'Blocks': {u'Orphan Blocks': u'NO ORPHAN BLOCKS', u'*Top Level Blocks': {u'Ball.EdgeReached': 1, u'Ball.CollidedWith': 1, u'Button.Click': 1, u'global_declaration': 1}, u'Active Blocks': {u'Global Variable Names': {u'score': 1, u'other': 1, u'global score': 3, u'edge': 1}, u'*Number of Blocks': 30, u'Procedure Names': {}, u'Local Variable Names': {}, u'Procedure Parameter Names': {}, u'Strings': {}, u'Types': {u'ImageSprite.MoveTo': 1, u'component_component_block': 1, u'Ball.CollidedWith': 1, u'Ball.EdgeReached': 1, u'Button.Click': 1, u'controls_if': 1, u'Ball.Bounce': 1, u'Ball.SetSpeed': 1, u'math_compare': 1, u'lexical_variable_set': 1, u'Label.SetText': 1, u'Ball.SetHeading': 1, u'global_declaration': 1, u'math_random_int': 3, u'math_add': 1, u'math_number': 9, u'lexical_variable_get': 4}}}, u'Components': {u'Type and Frequency': {u'Button': 1, u'Canvas': 1, u'Label': 1}, u'Strings': [u'\\u5f97\\u5206:', u'\\u958b\\u59cb\\u904a\\u6232'], u'Number of Components': 3}}, u'*Number of Screens': 1}\n",
      "ERROR {u'**modified': 1412057811242L, u'**created': 1412056509346L, u'**Project Name': u'p0930c', u'*Media Assets': [u'img01.jpg'], u'Screen1': {u'Blocks': {u'Orphan Blocks': u'NO ORPHAN BLOCKS', u'*Top Level Blocks': {u'Camera.AfterPicture': 1, u'Button.Click': 1, u'ImagePicker.AfterPicking': 1}, u'Active Blocks': {u'Global Variable Names': {u'image': 1}, u'*Number of Blocks': 8, u'Procedure Names': {}, u'Local Variable Names': {}, u'Procedure Parameter Names': {}, u'Strings': {}, u'Types': {u'Camera.AfterPicture': 1, u'Button.Click': 1, u'ImagePicker.AfterPicking': 1, u'Image.SetPicture': 2, u'Camera.TakePicture': 1, u'lexical_variable_get': 1, u'ImagePicker.GetSelection': 1}}}, u'Components': {u'Type and Frequency': {u'Button': 1, u'Camera': 1, u'Image': 1, u'ImagePicker': 1}, u'Strings': [u'\\u4f7f\\u7528\\u76f8\\u6a5f\\u7167\\u76f8', u'\\u9078\\u53d6\\u76f8\\u7247\\u6a94\\u6848'], u'Number of Components': 4}}, u'*Number of Screens': 1}\n",
      "ERROR {u'**modified': 1412060995431L, u'**created': 1412058439898L, u'**Project Name': u'p0930d', u'*Media Assets': [u'key1.png', u'key2.png', u'key3.png', u'Si.mp3', u'Mi.mp3', u'Re.mp3', u'Fa.mp3', u'So.mp3', u'La.mp3', u'Do.mp3'], u'Screen1': {u'Blocks': {u'Orphan Blocks': u'NO ORPHAN BLOCKS', u'*Top Level Blocks': {u'Button.Click': 7}, u'Active Blocks': {u'Global Variable Names': {}, u'*Number of Blocks': 14, u'Procedure Names': {}, u'Local Variable Names': {}, u'Procedure Parameter Names': {}, u'Strings': {}, u'Types': {u'Sound.Play': 7, u'Button.Click': 7}}}, u'Components': {u'Type and Frequency': {u'Sound': 7, u'HorizontalArrangement': 1}, u'Strings': [], u'Number of Components': 2}}, u'*Number of Screens': 1}\n",
      "ERROR {u'**modified': 1412062324807L, u'**created': 1412061755389L, u'**Project Name': u'p0930e', u'*Media Assets': [], u'Screen1': {u'Blocks': {u'Orphan Blocks': u'NO ORPHAN BLOCKS', u'*Top Level Blocks': {u'Button.Click': 3}, u'Active Blocks': {u'Global Variable Names': {}, u'*Number of Blocks': 10, u'Procedure Names': {}, u'Local Variable Names': {}, u'Procedure Parameter Names': {}, u'Strings': {u'video1.mp4': 1, u'video2.mp4': 1}, u'Types': {u'VideoPlayer.Start': 1, u'VideoPlayer.Pause': 2, u'Button.Click': 3, u'VideoPlayer.SetSource': 2, u'text': 2}}}, u'Components': {u'Type and Frequency': {u'HorizontalArrangement': 1, u'Button': 1, u'VideoPlayer': 1}, u'Strings': [u'\\u64ad\\u653e'], u'Number of Components': 3}}, u'*Number of Screens': 1}\n",
      "ERROR {u'bike': {u'Blocks': {u'Orphan Blocks': u'NO ORPHAN BLOCKS', u'*Top Level Blocks': {}, u'Active Blocks': u'NO ACTIVE BLOCKS'}, u'Components': {u'Type and Frequency': {u'Button': 1, u'Label': 2}, u'Strings': [u'\\u7c21\\u4ecb:', u'\\u8173\\u8e0f\\u8eca\\u7c21\\u4ecb \\u8173\\u8e0f\\u8eca\\uff0c\\u6216\\u7a31\\u81ea\\u884c\\u8eca\\u3001\\u55ae\\u8eca\\u3001\\u81ea\\u7531\\u8eca\\u3001\\u9435\\u99ac\\uff0c\\u662f\\u4e00\\u7a2e\\u4ee5\\u4eba\\u529b\\u8e29\\u8e0f\\u8173\\u8e0f\\u677f\\u9a45\\u52d5\\u7684\\u5c0f\\u578b\\u9678\\u4e0a\\u8eca\\u8f1b\\u3002 \\u8173\\u8e0f\\u8eca\\u901a\\u5e38\\u662f\\u4e8c\\u8f2a\\u7684\\uff08\\u4e5f\\u6709\\u4e09\\u8f2a\\u7684\\uff0c\\u4f46\\u4e3b\\u8981\\u7528\\u65bc\\u8ca8\\u904b\\uff0c\\u76f8\\u5c0d\\u5c11\\u898b\\uff09\\u3002 \\u5728\\u81fa\\u7063\\u548c\\u4e2d\\u570b\\u5927\\u9678\\uff0c\\u901a\\u5e38\\u7a31\\u70ba\\u300c\\u81ea\\u884c\\u8eca\\u300d\\u3001\\u300c\\u9435\\u99ac\\u300d\\uff0c\\u53f0\\u7063\\u4e5f\\u7a31\\u300c\\u5b54\\u660e\\u8eca\\u300d\\u3001\\u300c\\u8173\\u8e0f\\u8eca\\u300d\\uff1b\\u6c5f\\u6d59\\u3001\\u4e0a\\u6d77\\u7b49\\u5730\\u4ea6\\u6709\\u300c\\u8173\\u8e0f\\u8eca\\u300d\\u4e00\\u7a31\\uff1b \\u5728\\u9999\\u6e2f\\u3001\\u6fb3\\u9580\\u3001\\u5ee3\\u6771\\u3001\\u5ee3\\u897f\\u3001\\u6e56\\u5357\\u7b49\\u4e2d\\u570b\\u5357\\u65b9\\u5730\\u5340\\u5247\\u66f4\\u5e38\\u7a31\\u5176\\u70ba\\u300c\\u55ae\\u8eca\\u300d\\uff1b\\u5728\\u65b0\\u52a0\\u5761\\u3001\\u99ac\\u4f86\\u897f\\u4e9e\\u3001\\u4e2d\\u570b\\u6f6e\\u6c55\\u5730\\u5340\\u5247\\u7a31\\u4e4b\\u300c\\u8173\\u8eca\\u300d\\uff0c\\u6c5f\\u897f\\u8d1b\\u8a9e\\u66f4\\u7a31\\u4e4b\\u70ba\\u300c\\u7dda\\u8eca\\uff08\\u561a\\uff09\\u300d\\u3001\\u300c\\u92fc\\u7d72\\u8eca\\u300d\\u3001\\u300c\\u8173\\u8e0f\\u8eca\\u561a\\u300d\\u3002  \\u4e00\\u822c\\u4eba\\u65e5\\u5e38\\u9a0e\\u8eca\\u7684\\u901f\\u5ea6\\u7d0415-25\\u516c\\u91cc\\u6bcf\\u5c0f\\u6642\\uff08\\u6309\\u6b65\\u884c\\u51fa\\u529b\\uff09\\uff0c\\u7d93\\u904e\\u8a13\\u7df4\\u7684\\u4eba\\u9a0e\\u884c\\u5c08\\u7528\\u8eca\\u53ef\\u4ee5\\u9054\\u523040\\u516c\\u91cc\\u6bcf\\u5c0f\\u6642\\u7684\\u901f\\u5ea6\\uff08\\u901a\\u904e\\u4f0f\\u4f4e\\u59ff\\u614b\\u5229\\u7528\\u7a7a\\u6c23\\u6d41\\u7dda\\u578b\\uff0c\\u7576\\u901f\\u5ea6\\u589e\\u52a0\\u7a7a\\u6c23\\u963b\\u529b\\u6309\\u540c\\u6bd4\\u4f8b\\u5e73\\u65b9\\u589e\\u52a0\\uff09\\uff1b  \\u9a0e\\u8eca\\u80fd\\u6e90\\u6548\\u7387\\u5f88\\u9ad8\\uff0c\\u6d88\\u8017\\u80fd\\u91cf\\u548c\\u4e8c\\u6c27\\u5316\\u78b3\\uff0c\\u5e73\\u5747\\u6bcf\\u516c\\u91cc\\u4e0d\\u5230\\u6c7d\\u8eca\\u76841/10\\u3002  \\u4e2d\\u570b \\u8173\\u8e0f\\u8eca\\u5927\\u7d04\\u65bc1875\\u5e74\\u50b3\\u5165\\u4e2d\\u570b\\uff0c\\u8173\\u8e0f\\u8eca\\u6700\\u521d\\u7a31\\u70ba\\u300c\\u6d0b\\u99ac\\u5152\\u300d\\u3002\\u5c0d\\u4e2d\\u570b\\u4eba\\u4f86\\u8aaa\\uff0c\\u300c\\u6d0b\\u99ac\\u5152\\u300d\\u662f\\u65b0\\u5947\\u7684\\u4e8b\\u7269\\u3002 \\u5728\\u7576\\u6642\\u7684\\u520a\\u7269\\u300a\\u9ede\\u77f3\\u9f4b\\u756b\\u5831\\u300b\\u5c31\\u597d\\u5e7e\\u6b21\\u628a\\u5916\\u570b\\u4eba\\u9a0e\\u8173\\u8e0f\\u8eca\\u7576\\u6210\\u4e86\\u65b0\\u805e\\u3002 1922\\u5e74\\u4e2d\\u83ef\\u6c11\\u570b\\u6642\\u671f\\uff0c\\u905c\\u4f4d\\u7687\\u5e1d\\u6ea5\\u5100\\u7d50\\u5a5a\\u6642\\uff0c\\u4ed6\\u7684\\u5802\\u54e5\\u6ea5\\u4f73\\u9001\\u4e86\\u4ed6\\u4e00\\u90e8\\u8173\\u8e0f\\u8eca\\u3002 \\u6709\\u5927\\u81e3\\u72e0\\u72e0\\u5730\\u7f75\\u4e86\\u6ea5\\u4f73\\u4e00\\u9813\\uff0c\\u8aaa\\u4e0d\\u61c9\\u8a72\\u628a\\u9019\\u5371\\u96aa\\u7684\\u6771\\u897f\\u7d66\\u7687\\u5e1d\\u3002 \\u4f46\\u6ea5\\u5100\\u6c92\\u6709\\u7406\\u6703\\u5927\\u81e3\\u7684\\u53cd\\u5c0d\\uff0c\\u53ea\\u4e0d\\u904e\\u5341\\u5e7e\\u5929\\u4fbf\\u5b78\\u6703\\u4e86\\u9a0e\\u8173\\u8e0f\\u8eca\\uff0c\\u6210\\u70ba\\u4e86\\u4e2d\\u570b\\u6b77\\u53f2\\u4e0a\\u552f\\u4e00\\u4e00\\u4f4d\\u61c2\\u9a0e\\u8173\\u8e0f\\u8eca\\u7684\\u4e2d\\u570b\\u7687\\u5e1d\\u3002 \\u64da\\u8aaa\\uff0c\\u6ea5\\u5100\\u66fe\\u56e0\\u70ba\\u8981\\u9a0e\\u8173\\u8e0f\\u8eca\\u800c\\u628a\\u7687\\u5bae\\u4e2d\\u7684\\u6240\\u6709\\u9580\\u6abb\\u4e5f\\u62c6\\u9664\\u4e86\\u3002  \\u81fa\\u7063 \\u81fa\\u7063\\u8173\\u8e0f\\u8eca\\u7684\\u50b3\\u5165\\u59cb\\u65bc\\u65e5\\u6cbb\\u6642\\u4ee3\\uff0c\\u6709\\u6cbf\\u8972\\u65e5\\u8a9e\\u7a31\\u300c\\u81ea\\u8f49\\u8eca\\u300d\\uff0c\\u4ea6\\u6709\\u7a31\"\\u9435\\u99ac\"\\u3002 1898\\u5e74\\uff0c\\u65e5\\u672c\\u7b2c\\u4e00\\u5bb6\\u81ea\\u8f49\\u8eca\\u5de5\\u5ee0\\u300c\\u5bae\\u7530\\u88fd\\u9283\\u6240\\u300d\\u5c07\\u570b\\u7522\\u8173\\u8e0f\\u8eca\\u5448\\u737b\\u7687\\u592a\\u5b50\\uff0c\\u96f6\\u661f\\u8173\\u8e0f\\u8eca\\u9032\\u53e3\\u81fa\\u7063\\u3002 1900\\u5e7410\\u67085\\u65e5\\u7684\\u5831\\u7d19\\u9084\\u5c07\\u81ea\\u8f49\\u8eca\\u8eca\\u798d\\u520a\\u8f09\\uff0c \\u76f8\\u95dc\\u5ee3\\u544a\\u4e5f\\u958b\\u59cb\\u51fa\\u73fe\\u65bc\\u5831\\u7ae0\\u96dc\\u8a8c\\uff0c\\u7576\\u6642\\u4f4d\\u65bc\\u81fa\\u5317\\u5e02\\u5317\\u9580\\u8857\\uff08\\u4eca\\u535a\\u611b\\u8def\\uff09\\u7684\\u9418\\u9336\\u5e97\\u300c\\u6a2b\\u6751\\u652f\\u5e97\\u300d\\uff0c \\u4ea6\\u7d93\\u92b7\\u81ea\\u8f49\\u8eca\\uff0c\\u986f\\u793a\\u4e00\\u822c\\u6c11\\u773e\\u5df2\\u8996\\u70ba\\u4ea4\\u901a\\u5de5\\u5177\\uff0c\\u751a\\u81f3\\u7d44\\u7e54\\u300c\\u9060\\u4e58\\u6703\\u300d\\u9a0e\\u8eca\\u9060\\u8db3\\uff0c\\u50f9\\u683c\\u65b9\\u9762\\uff0c\\u7f8e\\u570b\\u9032\\u53e3\\u8981\\u6bd4\\u65e5\\u672c\\u4fbf\\u5b9c\\u3002 1905\\u5e749\\u6708\\uff0c\\u81fa\\u7063\\u53f2\\u4e0a\\u7b2c\\u4e00\\u500b\\u88ab\\u5077\\u8173\\u8e0f\\u7684\\u8eca\\u4e3b\\u984f\\u632f\\u8072\\u65b0\\u805e\\u88ab\\u5831\\u7d19\\u62ab\\u9732\\u3002 \\u4f9d\\u64da\\u7e3d\\u7763\\u5e9c\\u7d71\\u8a08\\uff0c1930\\u5e74\\u4ee3\\uff0c\\u81fa\\u7063\\u6bcf\\u4e09\\u6236\\u5c31\\u6709\\u4e00\\u8f1b\\u8173\\u8e0f\\u8eca\\uff0c\\u76f8\\u7576\\u666e\\u904d\\uff0c\\u7576\\u6642\\u7684\\u7167\\u7247\\u4e5f\\u986f\\u793a\\u5546\\u5e97\\u8857\\u7684\\u300c\\u4ead\\u4ed4\\u8173\\u300d\\u96a8\\u8655\\u53ef\\u898b\\u8cfc\\u7269\\u6216\\u904b\\u9001\\u6240\\u9a0e\\u4e58\\u7684\\u8173\\u8e0f\\u8eca\\u505c\\u653e\\u3002 \\u6230\\u5f8c\\u4e2d\\u83ef\\u6c11\\u570b\\u653f\\u5e9c\\u9077\\u53f0\\uff0c\\u300c\\u81ea\\u884c\\u8eca\\u300d\\u3001\\u300c\\u8173\\u8e0f\\u8eca\\u300d\\u7528\\u8a5e\\u65b9\\u50b3\\u5165\\u81fa\\u7063\\uff0c\\u4e00\\u822c\\u6c11\\u773e\\u7a31\\u93c8\\u689d\\u812b\\u843d\\u7684\\u72c0\\u6cc1\\u70ba\\u300c\\u843d\\u93c8\\u300d\\uff08\\u53f0\\u8a9e\\u767c\\u97f3\\uff09\\u30021990\\u5e74\\u4ee3\\uff0c\\u81fa\\u7063\\u6210\\u70ba\\u5168\\u7403\\u88fd\\u9020\\u8173\\u8e0f\\u8eca\\u7684\\u91cd\\u8981\\u751f\\u7522\\u5730\\u4e4b\\u4e00\\uff0c\\u5e02\\u4f54\\u7387\\u8d85\\u904e50\\uff05\\u3002  \\u9999\\u6e2f \\u8173\\u8e0f\\u8eca\\u50b3\\u5165\\u9999\\u6e2f\\u7684\\u6642\\u9593\\u4e0d\\u53ef\\u8003\\u8b49\\uff0c\\u9999\\u6e2f\\u4eba\\u666e\\u904d\\u7a31\\u8173\\u8e0f\\u8eca\\u70ba\\u300c\\u55ae\\u8eca\\u300d\\u3002 \\u300c\\u55ae\\u8eca\\u300d\\u4f5c\\u70ba\\u5dff\\u6c11\\u65e5\\u5e38\\u4ee3\\u6b65\\u7684\\u8f14\\u52a9\\u4ea4\\u901a\\u516c\\u5177\\uff0c\\u5df2\\u6709\\u8d85\\u904e40\\u5e74\\u6642\\u9593\\uff0c\\u81ea\\u5f9e\\u9999\\u6e2f\\u767c\\u5c55\\u885b\\u661f\\u57ce\\u5dff\\uff0c\\u52a0\\u5165\\u300c\\u55ae\\u8eca\\u5f91\\u300d\\u8d77\\uff0c\\u300c\\u55ae\\u8eca\\u6587\\u5316\\u300d\\u9010\\u6f38\\u6d41\\u884c\\u3002 \\u81ea\\u5f9e\\u81c9\\u66f8\\u6d41\\u884c\\uff0c\\u4ee5\\u4e0d\\u540c\\u7d20\\u6c42\\u958b\\u5c55\\u7684\\u8173\\u8e0f\\u8eca\\u5718\\u9ad4\\u9010\\u6f38\\u958b\\u5c55\\uff0c \\u4f8b\\u5982\\u7531\\u77e5\\u8b58\\u4efd\\u5b50\\u548c\\u8a2d\\u8a08\\u5e2b\\u5728\\u9999\\u6e2f\\u6d77\\u62d4\\u6700\\u9ad8\\u7684\\u5927\\u5e3d\\u5c71\\u9802\\u9598\\u6210\\u7acb\\u7684\\u300c\\u55ae\\u8eca\\u975a\\u666f\\u5718\\u300d\\uff0c\\u4ee5\\u8173\\u8e0f\\u8eca\\u904a\\u548c\\u7f8e\\u666f\\u70ba\\u4e3b\\u984c\\uff0c\\u63a8\\u5ee3\\u8173\\u8e0f\\u8eca\\u904a\\u6587\\u5316\\uff0c\\u63a8\\u52d5\\u4e86\\u8173\\u8e0f\\u8eca\\u8def\\u7dda\\u548c\\u7f8e\\u666f\\u7684\\u4ea4\\u6d41\\u3002', u'\\u8173\\u8e0f\\u8eca\\u4ecb\\u7d39'], u'Number of Components': 2}}, u'**modified': 1414740248700L, u'**created': 1412300127185L, u'**Project Name': u'school', u'*Media Assets': [u'O'], u'Screen1': {u'Blocks': {u'Orphan Blocks': u'NO ORPHAN BLOCKS', u'*Top Level Blocks': {u'Button.Click': 4}, u'Active Blocks': {u'Global Variable Names': {}, u'*Number of Blocks': 12, u'Procedure Names': {}, u'Local Variable Names': {}, u'Procedure Parameter Names': {}, u'Strings': {u'sightseem': 1, u'bike': 1, u'road': 1, u'ubike': 1}, u'Types': {u'controls_openAnotherScreen': 4, u'text': 4, u'Button.Click': 4}}}, u'Components': {u'Type and Frequency': {u'Button': 4, u'Label': 1}, u'Strings': [u'\\u878d\\u5408\\u529b\\u8207\\u7f8e\\u7684\\u4ea4\\u901a\\u5de5\\u5177-\\u8173\\u8e0f\\u8eca', u'\\u95dc\\u65bc\\u8173\\u8e0f\\u8eca', u'\\u6709\\u95dcU-Bike', u'U-Bike\\u63a8\\u85a6\\u8def\\u7dda', u'\\u8173\\u8e0f\\u8eca\\u63a8\\u85a6\\u65c5\\u904a\\u666f\\u9ede'], u'Number of Components': 2}}, u'ubike': {u'Blocks': {u'Orphan Blocks': u'NO ORPHAN BLOCKS', u'*Top Level Blocks': {}, u'Active Blocks': u'NO ACTIVE BLOCKS'}, u'Components': u'N'}, u'sightseem': {u'Blocks': {u'Orphan Blocks': u'NO ORPHAN BLOCKS', u'*Top Level Blocks': {}, u'Active Blocks': u'NO ACTIVE BLOCKS'}, u'Components': {u'Type and Frequency': {u'Button': 1}, u'Strings': [u'Text for Button1'], u'Number of Components': 1}}, u'*Number of Screens': 5, u'road': {u'Blocks': {u'Orphan Blocks': u'NO ORPHAN BLOCKS', u'*Top Level Blocks': {}, u'Active Blocks': u'NO ACTIVE BLOCKS'}, u'Components': u'N'}}\n",
      "0.0\n"
     ]
    }
   ],
   "source": [
    "users = old_data.keys()[0:1]\n",
    "for userID in users:\n",
    "    r = sortedProjects(userID)\n",
    "    print getAveNumLocalVariables(r)\n"
   ]
  },
  {
   "cell_type": "code",
   "execution_count": null,
   "metadata": {
    "collapsed": true
   },
   "outputs": [],
   "source": [
    "def getNumGlobalVariables(userID, projName):\n",
    "    numScreens = getNumScreens(userID, projName)\n",
    "    gv_count = 0 \n",
    "    if not noAbnormalities(userID, projName): return 0 \n",
    "    for i in range(numScreens):\n",
    "        screenNum = \"Screen\"+ str(i + 1)\n",
    "\n",
    "        if screenNum in summaries[userID][proj].keys():\n",
    "            if summaries[userID][projName][screenNum]['Blocks']['Active Blocks'] != 'NO ACTIVE BLOCKS':\n",
    "                    gv_count += len(summaries[userID][projName][screenNum]['Blocks']['Active Blocks']['Global Variable Names'].keys())\n",
    "    return gv_count"
   ]
  },
  {
   "cell_type": "code",
   "execution_count": null,
   "metadata": {
    "collapsed": true
   },
   "outputs": [],
   "source": [
    "def getAllVariables(userID, projName): \n",
    "    return getNumLocalVariables(userID, projName) + getNumGlobalVariables(userID, projName)"
   ]
  },
  {
   "cell_type": "code",
   "execution_count": 232,
   "metadata": {
    "collapsed": true
   },
   "outputs": [],
   "source": [
    "def averageLocalVar(projects):\n",
    "    lv_count = 0\n",
    "    \n",
    "    for project in projects:\n",
    "        lv_count += getNumLocalVariables(userID, project['**Project Name'])\n",
    "    return lv_count/ float(len(projList))\n"
   ]
  },
  {
   "cell_type": "code",
   "execution_count": null,
   "metadata": {
    "collapsed": true
   },
   "outputs": [],
   "source": [
    "def averageGlobalVar(userID):\n",
    "    projList = getProjectsNamesInMINDUR(userID)\n",
    "    gv_count = 0 \n",
    "    for projName in projList:\n",
    "        gv_count += getNumGlobalVariables(userID, projName)\n",
    "    return gv_count/ float(len(projList))\n"
   ]
  },
  {
   "cell_type": "code",
   "execution_count": null,
   "metadata": {
    "collapsed": true
   },
   "outputs": [],
   "source": [
    "def averageVar(userID): \n",
    "    projList = getProjectsNamesInMINDUR(userID)\n",
    "    var_count = 0 \n",
    "    for projName in projList:\n",
    "        var_count += getAllVariables(userID, projName)\n",
    "    return var_count/ float(len(projList))\n"
   ]
  },
  {
   "cell_type": "code",
   "execution_count": null,
   "metadata": {
    "collapsed": false
   },
   "outputs": [],
   "source": [
    "# keys = lang_data.keys()\n",
    "# for userID in keys:\n",
    "#     #print userID\n",
    "#     projList = getProjectsNamesInMINDUR(userID)\n",
    "\n",
    "#     for proj in projList:\n",
    "#         getNumLocalVariables(userID,proj)\n",
    "#         getNumGlobalVariables(userID, proj)\n",
    "# #     print averageVar(userID)"
   ]
  },
  {
   "cell_type": "code",
   "execution_count": 214,
   "metadata": {
    "collapsed": true
   },
   "outputs": [],
   "source": [
    "def noAbnormalities(userID,projName): \n",
    "    numScreens = getNumScreens(userID, projName)\n",
    "\n",
    "    for i in range(numScreens):\n",
    "        screenNum = \"Screen\"+ str(i + 1)\n",
    "        if screenNum not in summaries[userID][projName].keys():\n",
    "            return False\n",
    "        if summaries[userID][projName][screenNum]['Blocks']=='NO BLOCKS':\n",
    "            return False\n",
    "        blocks = summaries[userID][projName][screenNum]['Blocks']\n",
    "        if blocks == 'MALFORMED BKYFILE':\n",
    "            return False\n",
    "        if blocks['Active Blocks']=='NO ACTIVE BLOCKS':\n",
    "            return False\n",
    "        if summaries[userID][projName][screenNum]['Components']=='N':\n",
    "            return False\n",
    "    return True\n",
    "\n",
    "         "
   ]
  },
  {
   "cell_type": "code",
   "execution_count": null,
   "metadata": {
    "collapsed": true
   },
   "outputs": [],
   "source": []
  },
  {
   "cell_type": "code",
   "execution_count": null,
   "metadata": {
    "collapsed": false
   },
   "outputs": [],
   "source": [
    "# keys = summaries.keys()[0:100]\n",
    "\n",
    "# for userID in keys:\n",
    "#     projList = getProjectsNamesInMINDUR(userID)\n",
    "#     for proj in projList:  \n",
    "#         print noAbnormalities(userID, proj)\n",
    "    \n",
    "# for userID in keys: \n",
    "#     projList = getProjectsNamesInMINDUR(userID)\n",
    "#     for proj in projList:\n",
    "#         try: \n",
    "#             getNumLocalVariables(userID, proj)\n",
    "#         except TypeError: \n",
    "#              print userID"
   ]
  },
  {
   "cell_type": "code",
   "execution_count": 243,
   "metadata": {
    "collapsed": true
   },
   "outputs": [],
   "source": [
    "def getNumScreens(projects):\n",
    "    numScreens = []\n",
    "    for project in projects: \n",
    "         numScreens.append(project['*Number of Screens'])\n",
    "    return numScreens\n",
    "    "
   ]
  },
  {
   "cell_type": "code",
   "execution_count": null,
   "metadata": {
    "collapsed": true
   },
   "outputs": [],
   "source": []
  },
  {
   "cell_type": "code",
   "execution_count": null,
   "metadata": {
    "collapsed": false
   },
   "outputs": [],
   "source": [
    "def averageNumScreens(userID):\n",
    "    totalScreens = 0\n",
    "    numProjs = 0\n",
    "    validProjects = getProjectsNamesInMINDUR(userID)\n",
    "    for project in validProjects: \n",
    "        numProjs += 1\n",
    "        #print summaries[userID][project]\n",
    "        totalScreens += getNumScreens(userID, project)\n",
    "        \n",
    "    return totalScreens/float(numProjs)\n",
    "        "
   ]
  },
  {
   "cell_type": "code",
   "execution_count": null,
   "metadata": {
    "collapsed": false
   },
   "outputs": [],
   "source": [
    "def averageNumBlocks(userID):\n",
    "    totalBlocks = 0 \n",
    "    numProjs = 0\n",
    "    validProjects = getProjectsNamesInMINDUR(userID)\n",
    "    if validProjects ==0: return 0\n",
    "    for proj in validProjects: \n",
    "        numScreens = getNumScreens(userID, proj)\n",
    "        numProjs += 1\n",
    "        for i in range(numScreens):\n",
    "            screenNum = \"Screen\"+ str(i + 1)\n",
    "            if screenNum in summaries[userID][proj].keys(): \n",
    "                if noAbnormalities(userID): \n",
    "                    totalBlocks += summaries[userID][proj][screenNum]['Blocks']['Active Blocks']['*Number of Blocks']\n",
    "                else: return 0\n",
    "    return totalBlocks/ float(numProjs)\n"
   ]
  },
  {
   "cell_type": "code",
   "execution_count": null,
   "metadata": {
    "collapsed": false
   },
   "outputs": [],
   "source": [
    "for userID in old_data: \n",
    "    try: \n",
    "        averageNumBlocks(userID)\n",
    "    except TypeError:\n",
    "        print userID"
   ]
  },
  {
   "cell_type": "code",
   "execution_count": null,
   "metadata": {
    "collapsed": false
   },
   "outputs": [],
   "source": [
    "def averageOrphanBlocks(userID): \n",
    "    numProjs = 0\n",
    "    oBlocks = 0\n",
    "    validProjects = getProjectsNamesInMINDUR(userID)\n",
    "    for proj in validProjects: \n",
    "        numScreens = getNumScreens(userID, proj)\n",
    "        numProjs += 1\n",
    "        for i in range(numScreens):\n",
    "            screenNum = \"Screen\"+ str(i + 1)\n",
    "            if screenNum in summaries[userID][proj].keys() and 'Blocks' in summaries[userID][proj][screenNum].keys() and 'Orphan Blocks' in summaries[userID][proj][screenNum]['Blocks']: #occassional error otherwise\n",
    "                if (summaries[userID][proj][screenNum]['Blocks']['Orphan Blocks'] != 'NO ORPHAN BLOCKS'): \n",
    "                    oBlocks += summaries[userID][proj][screenNum]['Blocks']['Orphan Blocks']['*Number of Blocks']\n",
    "    return oBlocks / float(numProjs)\n",
    "    \n",
    "                    "
   ]
  },
  {
   "cell_type": "code",
   "execution_count": null,
   "metadata": {
    "collapsed": false
   },
   "outputs": [],
   "source": [
    "def averageNumTopLevelBlocks(userID): #per project, maybe do another function averageNumTopLevelBlocks per screen\n",
    "    validProjects = getProjectsNamesInMINDUR(userID)\n",
    "    totalTL = 0 \n",
    "    numProjs = 0\n",
    "    for proj in validProjects: \n",
    "        numScreens = getNumScreens(userID, proj)\n",
    "        numProjs += 1\n",
    "        for i in range(numScreens):\n",
    "            screenNum = \"Screen\"+ str(i + 1)\n",
    "            if screenNum in summaries[userID][proj].keys() and '*Top Level Blocks' in summaries[userID][proj][screenNum]['Blocks']: \n",
    "                typesOfTL = summaries[userID][proj][screenNum]['Blocks']['*Top Level Blocks'].keys()\n",
    "                for block in typesOfTL: \n",
    "                    totalTL += summaries[userID][proj][screenNum]['Blocks']['*Top Level Blocks'][block]\n",
    "    return totalTL/float(numProjs)\n",
    "    \n",
    "                \n",
    "            \n",
    "    "
   ]
  },
  {
   "cell_type": "code",
   "execution_count": null,
   "metadata": {
    "collapsed": false
   },
   "outputs": [],
   "source": [
    "def getDecileBoundaries(userID):\n",
    "    earliest = getEarliest(userID)\n",
    "    #print (earliest + MINDUR * 86400000)\n",
    "\n",
    "    decile_width = MINDUR * 86400000/ 10 \n",
    "    #print decile_width\n",
    "    decileNums = []\n",
    "    for i in range(1,11): \n",
    "        decileNums.append(earliest + decile_width*i)\n",
    "    return decileNums"
   ]
  },
  {
   "cell_type": "code",
   "execution_count": null,
   "metadata": {
    "collapsed": false
   },
   "outputs": [],
   "source": []
  },
  {
   "cell_type": "code",
   "execution_count": null,
   "metadata": {
    "collapsed": false
   },
   "outputs": [],
   "source": [
    "def decileNumScreens(userID): \n",
    "    all_deciles = []\n",
    "    for i in range(10):\n",
    "         all_deciles.append([])\n",
    "    projs = getProjectsNamesInMINDUR(userID)\n",
    "    decile_boundaries = getDecileBoundaries(userID)\n",
    "    \n",
    "    for proj in projs: \n",
    "        date = summaries[userID][proj]['**created']\n",
    "        placed = False\n",
    "        for boundary in decile_boundaries: \n",
    "            if date < boundary and not placed: \n",
    "                index = decile_boundaries.index(boundary)\n",
    "                numScreens = summaries[userID][proj]['*Number of Screens']\n",
    "                all_deciles[index].insert(0,numScreens)\n",
    "                placed = True\n",
    "    for i in range(10):\n",
    "        if len(all_deciles[i]) == 0: \n",
    "            all_deciles[i] = 0\n",
    "        else: \n",
    "            all_deciles[i] = sum(all_deciles[i])/ float(len(all_deciles[i]))\n",
    "    return all_deciles"
   ]
  },
  {
   "cell_type": "code",
   "execution_count": null,
   "metadata": {
    "collapsed": false
   },
   "outputs": [],
   "source": [
    "def decileNumScreens2(userID): \n",
    "    all_deciles = []\n",
    "    earliest = int(getEarliest(userID))\n",
    "    #print earliest\n",
    "    for i in range(10):\n",
    "         all_deciles.append([])\n",
    "    projs = getProjectsNamesInMINDUR(userID)\n",
    "    decile_boundaries = getDecileBoundaries(userID)\n",
    "    for proj in projs: \n",
    "        date = summaries[userID][proj]['**created']\n",
    "        index  = ((date-earliest)/(86400 * 1000))/(MINDUR/10)\n",
    "        #print index\n",
    "        all_deciles[index].insert(0,getNumScreens(userID,proj))\n",
    "    for i in range(10):\n",
    "        if len(all_deciles[i]) == 0: \n",
    "            all_deciles[i] = 0\n",
    "        else: \n",
    "            all_deciles[i] = sum(all_deciles[i])/ float(len(all_deciles[i]))\n",
    "    return all_deciles"
   ]
  },
  {
   "cell_type": "code",
   "execution_count": null,
   "metadata": {
    "collapsed": false
   },
   "outputs": [],
   "source": [
    "# keys =  summaries.keys()\n",
    "# for userID in keys:\n",
    "#     if userID != '00999':\n",
    "#         decileNumScreens2(userID)\n",
    "#         decileNumTopLevelBlocks2(userID)\n",
    "#         decileOrphanBlocks2(userID)"
   ]
  },
  {
   "cell_type": "code",
   "execution_count": null,
   "metadata": {
    "collapsed": true
   },
   "outputs": [],
   "source": [
    "def decileNumTopLevelBlocks2(userID): \n",
    "    '''measures how many TLblocks per project in each decile '''\n",
    "    all_deciles = []\n",
    "    for i in range(10):\n",
    "         all_deciles.append([])\n",
    "    projs = getProjectsNamesInMINDUR(userID)\n",
    "    decile_boundaries = getDecileBoundaries(userID)\n",
    "    \n",
    "    for proj in projs: \n",
    "        totalTL =0 \n",
    "        numScreens = getNumScreens(userID, proj)\n",
    "        for i in range(numScreens):\n",
    "            screenNum = \"Screen\"+ str(i + 1)\n",
    "            if screenNum in summaries[userID][proj].keys() and '*Top Level Blocks' in summaries[userID][proj][screenNum]['Blocks']: \n",
    "                typesOfTL = summaries[userID][proj][screenNum]['Blocks']['*Top Level Blocks'].keys()\n",
    "                for block in typesOfTL: \n",
    "                    totalTL += summaries[userID][proj][screenNum]['Blocks']['*Top Level Blocks'][block]\n",
    "        date = summaries[userID][proj]['**created']\n",
    "        index  = ((date-earliest)/(86400 * 10000))/(MINDUR/10)\n",
    "        #print index\n",
    "        all_deciles[index].append(totalTL)\n",
    "    for i in range(10):\n",
    "        if len(all_deciles[i]) == 0: \n",
    "            all_deciles[i] = 0\n",
    "        else: \n",
    "            all_deciles[i] = sum(all_deciles[i])/ float(len(all_deciles[i]))\n",
    "    return all_deciles\n",
    "    "
   ]
  },
  {
   "cell_type": "code",
   "execution_count": null,
   "metadata": {
    "collapsed": false
   },
   "outputs": [],
   "source": [
    "def decileNumTopLevelBlocks(userID): \n",
    "    '''measures how many TLblocks per project in each decile '''\n",
    "    all_deciles = []\n",
    "    for i in range(10):\n",
    "         all_deciles.append([])\n",
    "    projs = getProjectsNamesInMINDUR(userID)\n",
    "    decile_boundaries = getDecileBoundaries(userID)\n",
    "    \n",
    "    for proj in projs: \n",
    "        totalTL =0 \n",
    "        numScreens = getNumScreens(userID, proj)\n",
    "        for i in range(numScreens):\n",
    "            screenNum = \"Screen\"+ str(i + 1)\n",
    "            if screenNum in summaries[userID][proj].keys() and '*Top Level Blocks' in summaries[userID][proj][screenNum]['Blocks']: \n",
    "                typesOfTL = summaries[userID][proj][screenNum]['Blocks']['*Top Level Blocks'].keys()\n",
    "                for block in typesOfTL: \n",
    "                    totalTL += summaries[userID][proj][screenNum]['Blocks']['*Top Level Blocks'][block]\n",
    "        date = summaries[userID][proj]['**created']\n",
    "        placed = False\n",
    "        for boundary in decile_boundaries: \n",
    "            if date < boundary and not placed: \n",
    "                index = decile_boundaries.index(boundary)\n",
    "                all_deciles[index].insert(0,totalTL)\n",
    "                placed = True\n",
    "    for i in range(10):\n",
    "        if len(all_deciles[i]) == 0: \n",
    "            all_deciles[i] = 0\n",
    "        else: \n",
    "            all_deciles[i] = sum(all_deciles[i])/ float(len(all_deciles[i]))\n",
    "    return all_deciles\n",
    "    "
   ]
  },
  {
   "cell_type": "code",
   "execution_count": null,
   "metadata": {
    "collapsed": true
   },
   "outputs": [],
   "source": [
    "def decileOrphanBlocks2(userID): \n",
    "    '''measures how many orphan blocks per project in each decile '''\n",
    "    all_deciles = []\n",
    "    for i in range(10):\n",
    "         all_deciles.append([])\n",
    "    projs = getProjectsNamesInMINDUR(userID)\n",
    "    decile_boundaries = getDecileBoundaries(userID)\n",
    "    \n",
    "    for proj in projs: \n",
    "        oBlocks =0 \n",
    "        numScreens = getNumScreens(userID, proj)\n",
    "        for i in range(numScreens):\n",
    "            screenNum = \"Screen\"+ str(i + 1)\n",
    "            if screenNum in summaries[userID][proj].keys() and 'Blocks' in summaries[userID][proj][screenNum].keys() and 'Orphan Blocks' in summaries[userID][proj][screenNum]['Blocks']: #occassional error otherwise\n",
    "                if summaries[userID][proj][screenNum]['Blocks']['Orphan Blocks'] != \"NO ORPHAN BLOCKS\":\n",
    "                    try: \n",
    "                        oBlocks += summaries[userID][proj][screenNum]['Blocks']['Orphan Blocks']['*Number of Blocks']\n",
    "                    except TypeError: \n",
    "                        print summaries[userID][proj][screenNum]['Blocks']['Orphan Blocks']['*Number of Blocks']\n",
    "        date = summaries[userID][proj]['**created']\n",
    "        index  = ((date-earliest)/(86400 * 10000))/(MINDUR/10)\n",
    "        #print index\n",
    "        all_deciles[index].insert(0,oBlocks)\n",
    "    for i in range(10):\n",
    "        if len(all_deciles[i]) == 0: \n",
    "            all_deciles[i] = 0\n",
    "        else: \n",
    "            all_deciles[i] = sum(all_deciles[i])/ float(len(all_deciles[i]))\n",
    "    return all_deciles"
   ]
  },
  {
   "cell_type": "code",
   "execution_count": null,
   "metadata": {
    "collapsed": false
   },
   "outputs": [],
   "source": [
    "def decileOrphanBlocks(userID): \n",
    "    '''measures how many orphan blocks per project in each decile '''\n",
    "    all_deciles = []\n",
    "    for i in range(10):\n",
    "         all_deciles.append([])\n",
    "    projs = getProjectsNamesInMINDUR(userID)\n",
    "    decile_boundaries = getDecileBoundaries(userID)\n",
    "    \n",
    "    for proj in projs: \n",
    "        oBlocks =0 \n",
    "        numScreens = getNumScreens(userID, proj)\n",
    "        for i in range(numScreens):\n",
    "            screenNum = \"Screen\"+ str(i + 1)\n",
    "            if screenNum in summaries[userID][proj].keys() and 'Blocks' in summaries[userID][proj][screenNum].keys() and 'Orphan Blocks' in summaries[userID][proj][screenNum]['Blocks']: #occassional error otherwise\n",
    "                if summaries[userID][proj][screenNum]['Blocks']['Orphan Blocks'] != \"NO ORPHAN BLOCKS\":\n",
    "                    try: \n",
    "                        oBlocks += summaries[userID][proj][screenNum]['Blocks']['Orphan Blocks']['*Number of Blocks']\n",
    "                    except TypeError: \n",
    "                        print summaries[userID][proj][screenNum]['Blocks']['Orphan Blocks']['*Number of Blocks']\n",
    "        date = summaries[userID][proj]['**created']\n",
    "        placed = False\n",
    "        for boundary in decile_boundaries: \n",
    "            if date < boundary and not placed: \n",
    "                index = decile_boundaries.index(boundary)\n",
    "                all_deciles[index].insert(0,oBlocks)\n",
    "                placed = True\n",
    "    for i in range(10):\n",
    "        if len(all_deciles[i]) == 0: \n",
    "            all_deciles[i] = 0\n",
    "        else: \n",
    "            all_deciles[i] = sum(all_deciles[i])/ float(len(all_deciles[i]))\n",
    "    return all_deciles"
   ]
  },
  {
   "cell_type": "code",
   "execution_count": null,
   "metadata": {
    "collapsed": false
   },
   "outputs": [],
   "source": [
    "# keys = summaries.keys()[0:100]\n",
    "# for userID in keys: \n",
    "#     print decileOrphanBlocks(userID)"
   ]
  },
  {
   "cell_type": "code",
   "execution_count": null,
   "metadata": {
    "collapsed": false
   },
   "outputs": [],
   "source": [
    "#summaries['44884']['p021_020_clock']['**created']\n",
    "#for userID in summaries.keys()[0:10]:\n",
    "#     print userID\n",
    "#     print averageNumScreens(userID)\n",
    "#     print averageNumBlocks(userID)\n",
    "#     print averageOrphanBlocks(userID)\n",
    "#     print averageNumTopLevelBlocks(userID)\n",
    "#      print decileNumScreens(userID\n",
    "   # print decileOrphanBlocks(userID)"
   ]
  },
  {
   "cell_type": "code",
   "execution_count": null,
   "metadata": {
    "collapsed": true
   },
   "outputs": [],
   "source": [
    "\n"
   ]
  },
  {
   "cell_type": "code",
   "execution_count": null,
   "metadata": {
    "collapsed": false
   },
   "outputs": [],
   "source": []
  },
  {
   "cell_type": "code",
   "execution_count": null,
   "metadata": {
    "collapsed": true
   },
   "outputs": [],
   "source": []
  },
  {
   "cell_type": "code",
   "execution_count": null,
   "metadata": {
    "collapsed": false
   },
   "outputs": [],
   "source": []
  },
  {
   "cell_type": "code",
   "execution_count": null,
   "metadata": {
    "collapsed": false
   },
   "outputs": [],
   "source": []
  },
  {
   "cell_type": "code",
   "execution_count": null,
   "metadata": {
    "collapsed": true
   },
   "outputs": [],
   "source": []
  },
  {
   "cell_type": "code",
   "execution_count": null,
   "metadata": {
    "collapsed": true
   },
   "outputs": [],
   "source": []
  },
  {
   "cell_type": "code",
   "execution_count": null,
   "metadata": {
    "collapsed": true
   },
   "outputs": [],
   "source": [
    "#returns the number of projects a user started in a particular decile... doesn't always get all projects :(\n"
   ]
  },
  {
   "cell_type": "code",
   "execution_count": null,
   "metadata": {
    "collapsed": false
   },
   "outputs": [],
   "source": [
    "from sklearn.feature_extraction import DictVectorizer\n",
    "\n",
    "def percentProjectsFeatures(userID):\n",
    "    \"\"\"return a dictionary mapping each time slot (10%, 20%, etc) to the percentage of projects created\n",
    "    at that time,\n",
    "    for a particular user represented as list of (creation times, modified times),\n",
    "    using only their first MINDUR days of activity\"\"\"   \n",
    "    userDict = {} \n",
    "    #note: feature names are for our reference only\n",
    "    userDict[\"average length\"] = getAverageProjectLen(userID)\n",
    "    userDict[\"ten percent\"] =  percentProjects(userID, 10)\n",
    "    userDict[\"twenty percent\"] = percentProjects(userID, 20)\n",
    "    userDict[\"thirty percent\"] =  percentProjects(userID, 30)\n",
    "    userDict[\"forty percent\"] = percentProjects(userID, 40)\n",
    "    userDict[\"fifty percent\"] =  percentProjects(userID, 50)\n",
    "    userDict[\"sixty percent\"] = percentProjects(userID, 60)\n",
    "    userDict[\"seventy percent\"] =  percentProjects(userID, 70)\n",
    "    userDict[\"eighty percent\"] = percentProjects(userID, 80)\n",
    "    userDict[\"ninety percent\"] =  percentProjects(userID, 90)\n",
    "    userDict[\"hundred percent\"] = percentProjects(userID, 100)\n",
    "    return userDict\n"
   ]
  },
  {
   "cell_type": "code",
   "execution_count": null,
   "metadata": {
    "collapsed": true
   },
   "outputs": [],
   "source": [
    "def dayAnalysisFeatures(userID): \n",
    "    userDict = {} \n",
    "    userDict[\"weekday\"] = percentOnWeekday(userID) #\n",
    "    userDict[\"Monday\"] = percentOnDay(userID, 0)\n",
    "    userDict[\"Tuesday\"] = percentOnDay(userID, 1)\n",
    "    userDict[\"Wednesday\"] = percentOnDay(userID, 2)\n",
    "    userDict[\"Thursday\"] = percentOnDay(userID, 3)\n",
    "    userDict[\"Friday\"] = percentOnDay(userID, 4)\n",
    "    userDict[\"Saturday\"] = percentOnDay(userID, 5)\n",
    "    userDict[\"Sunday\"] = percentOnDay(userID, 6)\n",
    "\n",
    "    return userDict"
   ]
  },
  {
   "cell_type": "code",
   "execution_count": null,
   "metadata": {
    "collapsed": true
   },
   "outputs": [],
   "source": [
    "def decileFeatures(userID): \n",
    "    userDict = {} \n",
    "    userDict[\"1st\"] = numProjectsInDecile(userID, 0)\n",
    "    userDict[\"2nd\"] = numProjectsInDecile(userID, 1)\n",
    "    userDict[\"3rd\"] = numProjectsInDecile(userID, 2)\n",
    "    userDict[\"4th\"] = numProjectsInDecile(userID, 3)\n",
    "    userDict[\"5th\"] = numProjectsInDecile(userID, 4)\n",
    "    userDict[\"6th\"] = numProjectsInDecile(userID, 5)\n",
    "    userDict[\"7th\"] = numProjectsInDecile(userID, 6)\n",
    "    userDict[\"8th\"] = numProjectsInDecile(userID, 7)\n",
    "    userDict[\"9th\"] = numProjectsInDecile(userID, 8)\n",
    "    \n",
    "    return userDict"
   ]
  },
  {
   "cell_type": "code",
   "execution_count": null,
   "metadata": {
    "collapsed": true
   },
   "outputs": [],
   "source": [
    "def summaryNumScreensDecile(userID): \n",
    "    userDict = {}\n",
    "    decileNumScreen = decileNumScreens(userID)\n",
    "    userDict[\"NS 1\"] = decileNumScreen[0]\n",
    "    userDict[\"NS 2\"] = decileNumScreen[1]\n",
    "    userDict[\"NS 3\"] = decileNumScreen[2]\n",
    "    userDict[\"NS 4\"] = decileNumScreen[3]\n",
    "    userDict[\"NS 5\"] = decileNumScreen[4]\n",
    "    userDict[\"NS 6\"] = decileNumScreen[5]\n",
    "    userDict[\"NS 7\"] = decileNumScreen[6]\n",
    "    userDict[\"NS 8\"] = decileNumScreen[7]\n",
    "    userDict[\"NS 9\"] = decileNumScreen[8]\n",
    "    userDict[\"NS 10\"] = decileNumScreen[9]\n",
    "    \n",
    " \n",
    "    \n",
    "    \n",
    "    \n",
    "    \n",
    "    return userDict"
   ]
  },
  {
   "cell_type": "code",
   "execution_count": null,
   "metadata": {
    "collapsed": true
   },
   "outputs": [],
   "source": [
    "def summaryOBlockDecile(userID): \n",
    "    userDict = {}\n",
    "    decileOrphanBlock = decileOrphanBlocks(userID)\n",
    "    userDict[\"O 1\"] = decileOrphanBlock[0]\n",
    "    userDict[\"O 2\"] = decileOrphanBlock[1]\n",
    "    userDict[\"O 3\"] = decileOrphanBlock[2]\n",
    "    userDict[\"O 4\"] = decileOrphanBlock[3]\n",
    "    userDict[\"O 5\"] = decileOrphanBlock[4]\n",
    "    userDict[\"O 6\"] = decileOrphanBlock[5]\n",
    "    userDict[\"O 7\"] = decileOrphanBlock[6]\n",
    "    userDict[\"O 8\"] = decileOrphanBlock[7]\n",
    "    userDict[\"O 9\"] = decileOrphanBlock[8]\n",
    "    userDict[\"O 10\"] = decileOrphanBlock[9]\n",
    "    return userDict"
   ]
  },
  {
   "cell_type": "code",
   "execution_count": null,
   "metadata": {
    "collapsed": true
   },
   "outputs": [],
   "source": [
    "def summaryDecileTLBlocks(userID): \n",
    "    userDict = {}\n",
    "    decileNumTopLevelBlock = decileNumTopLevelBlocks(userID)\n",
    "    userDict[\"TL 1\"] = decileNumTopLevelBlock[0]\n",
    "    userDict[\"TL 2\"] = decileNumTopLevelBlock[1]\n",
    "    userDict[\"TL 3\"] = decileNumTopLevelBlock[2]\n",
    "    userDict[\"TL 4\"] = decileNumTopLevelBlock[3]\n",
    "    userDict[\"TL 5\"] = decileNumTopLevelBlock[4]\n",
    "    userDict[\"TL 6\"] = decileNumTopLevelBlock[5]\n",
    "    userDict[\"TL 7\"] = decileNumTopLevelBlock[6]\n",
    "    userDict[\"TL 8\"] = decileNumTopLevelBlock[7]\n",
    "    userDict[\"TL 9\"] = decileNumTopLevelBlock[8]\n",
    "    userDict[\"TL 10\"] = decileNumTopLevelBlock[9]\n",
    "    return userDict"
   ]
  },
  {
   "cell_type": "code",
   "execution_count": null,
   "metadata": {
    "collapsed": true
   },
   "outputs": [],
   "source": [
    "def summaryAverages(userID):\n",
    "    userDict = {} \n",
    "    userDict[\"NS\"] = averageNumScreens(userID)\n",
    "    #userDict[\"NB\"] = averageNumBlocks(userID)\n",
    "    userDict[\"OB\"] = averageOrphanBlocks(userID)\n",
    "    return userDict"
   ]
  },
  {
   "cell_type": "code",
   "execution_count": null,
   "metadata": {
    "collapsed": false
   },
   "outputs": [],
   "source": [
    "# users_percent_dicts = map(summaryAverages, old_data.keys())\n",
    "# vec = DictVectorizer()\n",
    "# X = vec.fit_transform(users_percent_dicts) # converts to array: http://scikit-learn.org/stable/modules/feature_extraction.html"
   ]
  },
  {
   "cell_type": "markdown",
   "metadata": {},
   "source": [
    "Write other feature functions -- perhaps different interval sizes (instead of 10%), proportion of projects rather than number, etc. With some effort, we can get a measure of activity on weekends/evenings as features too. Experiment...\n",
    "\n",
    "Give each feature function a distinct name, and re-run the above two cells with the function in place of `featurize` to see if the contingency tables change\n",
    "\n",
    "Remember from the CS111 assignment that we can combine a list of feature functions to give a new feature function, so you should experiment with combinations as well."
   ]
  },
  {
   "cell_type": "code",
   "execution_count": null,
   "metadata": {
    "collapsed": true
   },
   "outputs": [],
   "source": [
    "def combine_featfuncs(funclist):\n",
    "    def combined(user):\n",
    "        basedict = funclist[0](user)\n",
    "        for f in funclist[1:]:\n",
    "            basedict.update(f(user))\n",
    "        return basedict\n",
    "    return combined"
   ]
  },
  {
   "cell_type": "markdown",
   "metadata": {
    "collapsed": true
   },
   "source": [
    "RETENTION:"
   ]
  },
  {
   "cell_type": "code",
   "execution_count": null,
   "metadata": {
    "collapsed": false
   },
   "outputs": [],
   "source": [
    "from sklearn.preprocessing import normalize\n",
    "user_dicts = []\n",
    "# i = 0\n",
    "\n",
    "if TASK == \"RETENTION\":\n",
    "    for userID in old_data: #user is just the user's id num \n",
    "        combined = combine_featfuncs([percentProjectsFeatures, dayAnalysisFeatures, decileFeatures]) #,summaryNumScreensDecile,summaryOBlockDecile,summaryDecileTLBlocks,summaryAverages]) #a function object is being returned here?? \n",
    "        user_dicts.append(combined(userID))\n",
    "\n",
    "\n",
    "    print ('done loading featurizers')\n",
    "    \n",
    "\n",
    "    vec = DictVectorizer()\n",
    "    X = vec.fit_transform(user_dicts) # converts to array: http://scikit-learn.org/stable/modules/feature_extraction.html\n",
    "\n",
    "    X = normalize(X, axis=0, norm='l1') #normalization is bringing the values down significantly \n",
    "\n",
    "    print X.shape\n"
   ]
  },
  {
   "cell_type": "markdown",
   "metadata": {},
   "source": [
    "**Attempt 1: Clustering.** Is there any correlation between the clusters produced by these features, and whether or not a user is retained?"
   ]
  },
  {
   "cell_type": "code",
   "execution_count": null,
   "metadata": {
    "collapsed": false
   },
   "outputs": [],
   "source": [
    "from sklearn.cluster import KMeans\n",
    "if TASK == 'RETENTION':\n",
    "\n",
    "    KMeans_model = KMeans(n_clusters=2)\n",
    "    users_clusterids = KMeans_model.fit_predict(X)\n",
    "\n",
    "    from scipy.stats import chi2_contingency\n",
    "    conting = numpy.zeros((2, 2))  # row = cluster ID (0, 1), col = #days (0 for <=120, 1 for >120)\n",
    "\n",
    "    for i in range(len(users_clusterids)):\n",
    "        cluster = users_clusterids[i]\n",
    "        if old_user_activity_length[i]<=MINDUR:\n",
    "            conting[cluster, 0] += 1\n",
    "        else:\n",
    "            conting[cluster, 1] += 1\n",
    "\n",
    "# visualize\n",
    "    print conting\n",
    "\n",
    "# compute chi2 statistic to get the probability that there is no association between\n",
    "# the clustering and whether or not the user is active for >120 days\n",
    "# lower probabilities are better\n",
    "    _, p, _, _ = chi2_contingency(conting)\n",
    "    print 'There is a', p, 'probability that the clusters and retention are independent.'"
   ]
  },
  {
   "cell_type": "code",
   "execution_count": null,
   "metadata": {
    "collapsed": true
   },
   "outputs": [],
   "source": []
  },
  {
   "cell_type": "markdown",
   "metadata": {},
   "source": [
    "**Attempt 2: Classification.**"
   ]
  },
  {
   "cell_type": "code",
   "execution_count": null,
   "metadata": {
    "collapsed": false
   },
   "outputs": [],
   "source": [
    "from sklearn.cross_validation import StratifiedKFold\n",
    "from sklearn.neighbors import KNeighborsClassifier\n",
    "from  sklearn.metrics import f1_score \n",
    "from sklearn import linear_model\n",
    "\n",
    "if TASK=='RETENTION':\n",
    "    y = numpy.array(map(lambda d: int(d>MINDUR), old_user_activity_length))  # labels (0 for less than MINDUR, 1 otherwise)\n",
    "\n",
    "    percentpos = sum(y)/float(len(y))\n",
    "    chance = max(percentpos, 1-percentpos)\n",
    "    print 'Chance is', chance\n",
    "\n",
    "    print 'Building a model with', X.shape[1], 'features for', TASK\n",
    "    all_coefs = [] \n",
    "    for trainidx, testidx in StratifiedKFold(y):\n",
    "        print 'Fold'\n",
    "        k = 70 #num neighbors\n",
    "        Xtrain = X[trainidx, :]  # using numpy's smart indexing\n",
    "        Xtest = X[testidx, :]\n",
    "        ytrain = y[trainidx]\n",
    "        ytest = y[testidx]\n",
    "\n",
    "    \n",
    "        KNeighbors_model = KNeighborsClassifier(n_neighbors=k)  \n",
    "        logistic_model = linear_model.LogisticRegression(fit_intercept= False)\n",
    "    \n",
    "        KNeighbors_model.fit(Xtrain, ytrain)\n",
    "        logistic_model.fit(Xtrain, ytrain)\n",
    "\n",
    "        KNN_XtestP = KNeighbors_model.predict(Xtest)\n",
    "        log_XtestP = logistic_model.predict(Xtest)\n",
    "    \n",
    "\n",
    "    \n",
    "        print k, 'neighbors' \n",
    "        print \"KNN Score: \", KNeighbors_model.score(Xtest, ytest)\n",
    "        print 'KNN f1 score', f1_score(KNN_XtestP, ytest),'\\n'\n",
    "\n",
    "        print'Logistic Regression Score: ', logistic_model.score(Xtest, ytest)\n",
    "        print 'Logistic f1 score', f1_score(log_XtestP, ytest) \n",
    "        print \"max\",numpy.amax(logistic_model.coef_)\n",
    "        print \"min\", numpy.amin(logistic_model.coef_)\n",
    "        print'Coefficients:', logistic_model.coef_\n",
    "    \n",
    "\n"
   ]
  },
  {
   "cell_type": "markdown",
   "metadata": {
    "collapsed": true
   },
   "source": [
    "LANGUAGE:\n",
    "    "
   ]
  },
  {
   "cell_type": "code",
   "execution_count": null,
   "metadata": {
    "collapsed": false
   },
   "outputs": [],
   "source": [
    "from sklearn.preprocessing import normalize\n",
    "user_dicts = []\n",
    "\n",
    "for userID in lang_data: #user is just the user's id num \n",
    "    combined = combine_featfuncs([percentProjectsFeatures, dayAnalysisFeatures, decileFeatures]) #,summaryNumScreensDecile,summaryOBlockDecile,summaryDecileTLBlocks,summaryAverages]) #a function object is being returned here?? \n",
    "    user_dicts.append(combined(userID))\n",
    "\n",
    "\n",
    "print ('done loading featurizers')\n",
    "    \n",
    "\n",
    "vec = DictVectorizer()\n",
    "X = vec.fit_transform(user_dicts) # converts to array: http://scikit-learn.org/stable/modules/feature_extraction.html\n",
    "\n",
    "#X = normalize(X, axis=0, norm='l1') #normalization is bringing the values down significantly \n",
    "\n",
    "print X.shape\n"
   ]
  },
  {
   "cell_type": "code",
   "execution_count": null,
   "metadata": {
    "collapsed": false
   },
   "outputs": [],
   "source": [
    "# print len(data)\n",
    "# print len(lang_data)\n",
    "# #what y is\n",
    "# print [lang_dict[user_langs[userID]] for userID in lang_data]"
   ]
  },
  {
   "cell_type": "code",
   "execution_count": null,
   "metadata": {
    "collapsed": false
   },
   "outputs": [],
   "source": [
    "from sklearn.cross_validation import StratifiedKFold\n",
    "from sklearn.neighbors import KNeighborsClassifier\n",
    "from  sklearn.metrics import f1_score \n",
    "\n",
    "print old_user_activity_length[0:100]\n",
    "if TASK=='LANGUAGE':\n",
    "    y =  numpy.array([lang_dict[user_langs[userID]] for userID in lang_data]) # labels\n",
    "\n",
    "percentpos = sum(y)/float(len(y))\n",
    "chance = max(percentpos, 1-percentpos)\n",
    "print 'Chance is', chance\n",
    "\n",
    "print 'Building a model with', X.shape[1], 'features for', TASK\n",
    "all_coefs = [] \n",
    "for trainidx, testidx in StratifiedKFold(y):\n",
    "    print 'Fold'\n",
    "    k = 70 #num neighbors\n",
    "    Xtrain = X[trainidx, :]  # using numpy's smart indexing\n",
    "    print 'xtrained'\n",
    "    Xtest = X[testidx, :]\n",
    "    print 'xtested'\n",
    "    ytrain = y[trainidx]\n",
    "    print 'ytrained'\n",
    "    ytest = y[testidx]\n",
    "    print 'ytested'\n",
    "    \n",
    "    KNeighbors_model = KNeighborsClassifier(n_neighbors=k)  \n",
    "    print 'model created'\n",
    "    KNeighbors_model.fit(Xtrain, ytrain)\n",
    "    print 'model fit'\n",
    "    KNN_XtestP = KNeighbors_model.predict(Xtest)\n",
    "    print 'model predicted'\n",
    "    print k, 'neighbors' \n",
    "    print \"KNN Score: \", KNeighbors_model.score(Xtest, ytest)\n",
    "   # print 'KNN f1 score', f1_score(KNN_XtestP, ytest),'\\n'\n",
    "\n",
    "\n"
   ]
  },
  {
   "cell_type": "code",
   "execution_count": null,
   "metadata": {
    "collapsed": false
   },
   "outputs": [],
   "source": []
  }
 ],
 "metadata": {
  "anaconda-cloud": {},
  "kernelspec": {
   "display_name": "Python [ipykernel_py2]",
   "language": "python",
   "name": "Python [ipykernel_py2]"
  },
  "language_info": {
   "codemirror_mode": {
    "name": "ipython",
    "version": 2
   },
   "file_extension": ".py",
   "mimetype": "text/x-python",
   "name": "python",
   "nbconvert_exporter": "python",
   "pygments_lexer": "ipython2",
   "version": "2.7.12"
  }
 },
 "nbformat": 4,
 "nbformat_minor": 0
}
