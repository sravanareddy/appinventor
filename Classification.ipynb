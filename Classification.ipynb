{
 "cells": [
  {
   "cell_type": "code",
   "execution_count": 1,
   "metadata": {
    "collapsed": false
   },
   "outputs": [],
   "source": [
    "import ujson\n",
    "import numpy \n",
    "import datetime"
   ]
  },
  {
   "cell_type": "markdown",
   "metadata": {},
   "source": [
    "# Load Data"
   ]
  },
  {
   "cell_type": "code",
   "execution_count": 2,
   "metadata": {
    "collapsed": false
   },
   "outputs": [
    {
     "name": "stdout",
     "output_type": "stream",
     "text": [
      "0 1 2 3 4 5 6 7 8 9 10 11 12 13 14 15 16 17 18 19\n"
     ]
    }
   ],
   "source": [
    "summaries = {}\n",
    "ctr = 0\n",
    "for line in open('user_project_summaries.json'): # lazy iteration because the file is large\n",
    "    print ctr,\n",
    "    ctr+=1\n",
    "    summaries.update(ujson.loads(line))\n",
    "    if ctr==20:\n",
    "        break"
   ]
  },
  {
   "cell_type": "code",
   "execution_count": 3,
   "metadata": {
    "collapsed": true
   },
   "outputs": [],
   "source": [
    "from features import *"
   ]
  },
  {
   "cell_type": "code",
   "execution_count": 7,
   "metadata": {
    "collapsed": false
   },
   "outputs": [
    {
     "name": "stdout",
     "output_type": "stream",
     "text": [
      "0\n",
      "1\n",
      "2\n",
      "3\n",
      "4\n",
      "5\n",
      "6\n",
      "7\n",
      "8\n",
      "9\n",
      "00999 p005_006_Draw\n",
      "00999 p002_002_WildLifeShow\n",
      "00999 p010_010_RememberInformation\n",
      "00999 p011_011_DetermineLocation\n",
      "00999 p006_004_Draw2\n",
      "00999 p012_012_ProcessAList\n",
      "00999 p008_008_MoleMash\n"
     ]
    }
   ],
   "source": [
    "not_tutorials = {}\n",
    "\n",
    "for i in range(10): \n",
    "    print i \n",
    "    notT_list = ujson.load(open('tutorial_comparisons/nottutorials_' + str(i) +'.json'))\n",
    "    for entry in notT_list: \n",
    "        if entry[0] not in summaries:\n",
    "            continue\n",
    "        proj_name = entry[1].split(\"_summary.json\")[0]\n",
    "        if entry[0] not in not_tutorials: \n",
    "            not_tutorials[entry[0]] = {}\n",
    "        try: \n",
    "            not_tutorials[entry[0]][proj_name] = summaries[entry[0]][proj_name]\n",
    "        except KeyError: \n",
    "            print entry[0], proj_name\n"
   ]
  },
  {
   "cell_type": "code",
   "execution_count": 8,
   "metadata": {
    "collapsed": true
   },
   "outputs": [],
   "source": [
    "not_tutorials = {user: not_tutorials[user] for user in not_tutorials.keys() if len(not_tutorials[user])>0}\n",
    "# SR's fix"
   ]
  },
  {
   "cell_type": "markdown",
   "metadata": {},
   "source": [
    "## Language\n",
    "\n",
    "Create Language Data Set and Initialize Language Codes"
   ]
  },
  {
   "cell_type": "code",
   "execution_count": 9,
   "metadata": {
    "collapsed": false
   },
   "outputs": [
    {
     "name": "stdout",
     "output_type": "stream",
     "text": [
      "lang data created with 17638 users and 6 languages\n"
     ]
    }
   ],
   "source": [
    "'''We are using all the data from the user from whom we we have previously \n",
    "classfied what their primary langauge is '''\n",
    "\n",
    "isocodes = ujson.load(open('isocodes.json'))  # mapping from  iso code to language name\n",
    "user_langs = ujson.load(open('user_inferredlangs.json'))  # mapping from userid to inferred language\n",
    "#remove Latin because it's not a reliable inference\n",
    "#TODO for later: get next-best language besides Latin in the inference function\n",
    "# remove uncommon languages\n",
    "lang_counts = {}\n",
    "for user in user_langs:\n",
    "    lang = user_langs[user]\n",
    "    lang_counts[lang] = lang_counts.get(lang, 0) + 1\n",
    "        \n",
    "user_langs = {user: lang for user, lang in user_langs.items() if lang!='la' and lang_counts[lang]>=500 and user in summaries}\n",
    "\n",
    "langset = sorted(list(set(user_langs.values())))\n",
    "lang_num_map = {lang: i for i, lang in enumerate(langset)} #key is langauge isocode, value is number \n",
    "print 'lang data created with', len(user_langs), 'users and', len(langset), 'languages'"
   ]
  },
  {
   "cell_type": "markdown",
   "metadata": {},
   "source": [
    "## Time"
   ]
  },
  {
   "cell_type": "code",
   "execution_count": 10,
   "metadata": {
    "collapsed": false
   },
   "outputs": [],
   "source": [
    "# time utilities\n",
    "def convert_time(el):\n",
    "    \"\"\"Human readable time\"\"\"\n",
    "    el = int(str(el)[:10])\n",
    "    return datetime.date.fromtimestamp(el)\n",
    "\n",
    "def timediff(t1, t2):\n",
    "    \"\"\"difference between times (millisec precision) as days\"\"\"\n",
    "    return (t1-t2)/(86400.*1000)"
   ]
  },
  {
   "cell_type": "code",
   "execution_count": 11,
   "metadata": {
    "collapsed": false
   },
   "outputs": [
    {
     "name": "stdout",
     "output_type": "stream",
     "text": [
      "1 2 3 4 5 6 7 8 9 10 11 12 13 14 15 16 17 18 19 20\n",
      "Earliest: 2013-03-27\n",
      "Latest: 2016-03-10\n",
      "1 2 3 4 5 6 7 8 9 10 11 12 13 14 15 16 17 18 19 00999 has no projects\n",
      "\n",
      "Filtered to 10926 users from 20000\n"
     ]
    }
   ],
   "source": [
    "earliest = 1e100\n",
    "latest = 0\n",
    "\n",
    "ctr = 0\n",
    "for user in summaries:\n",
    "    for project in summaries[user]:\n",
    "        ctime = summaries[user][project][\"**created\"]\n",
    "        if ctime < earliest:\n",
    "            earliest = ctime\n",
    "        if ctime > latest:\n",
    "            latest = ctime\n",
    "            \n",
    "    ctr+=1\n",
    "    if ctr%1000==0:\n",
    "        print ctr/1000,\n",
    "            \n",
    "print\n",
    "print 'Earliest:', convert_time(earliest) \n",
    "print 'Latest:', convert_time(latest)\n",
    "MAXDUR = 300\n",
    "MINDUR = 150\n",
    "# get subset of data from \"old\" users whose earliest creation date is more than MAXDUR days before the end of the dataset\n",
    "# (giving them a good chance to stay on for more than MINDUR days),\n",
    "# AND have activity within MAXDUR days if they are active beyond MINDUR (to be fair to recent users)\n",
    "\n",
    "old_users = set() \n",
    "\n",
    "ctr = 0\n",
    "for user in summaries:\n",
    "    ctimes = [project[\"**created\"] for project in summaries[user].values()]\n",
    "    if ctimes==[]:\n",
    "        print user, 'has no projects'\n",
    "        continue\n",
    "    start_time = min(ctimes)\n",
    "    if timediff(latest, start_time)>MAXDUR:  # first restrict to old users\n",
    "        # creation times since start date of user\n",
    "        ctimes_from_start = [timediff(project[\"**created\"], start_time) for project in summaries[user].values()]  \n",
    "        # projects created at least MINDUR days after start\n",
    "        post_mindur = [ctime for ctime in ctimes_from_start if ctime>MINDUR]\n",
    "        # consider users who either were not active after MINDUR days, or had activity between MINDUR and MAXDUR days\n",
    "        if post_mindur==[] or len(filter(lambda length: length<=MAXDUR, post_mindur))>0:\n",
    "            old_users.add(user)\n",
    "            \n",
    "    ctr+=1\n",
    "    if ctr%1000==0:\n",
    "        print ctr/1000,\n",
    "        \n",
    "print\n",
    "print 'Filtered to', len(old_users), 'users from', len(summaries)"
   ]
  },
  {
   "cell_type": "code",
   "execution_count": 12,
   "metadata": {
    "collapsed": false
   },
   "outputs": [],
   "source": [
    "# print list(old_users)[0]\n",
    "# summaries['11542'].keys()"
   ]
  },
  {
   "cell_type": "code",
   "execution_count": 13,
   "metadata": {
    "collapsed": true
   },
   "outputs": [],
   "source": [
    "def createKeywordDict(projects): \n",
    "    '''creates a dictionary of all of the classes a user used in their projects and how many times each class was used'''\n",
    "    numScreens = getScreenNames(projects)\n",
    "    keywordDict = {}\n",
    "    i = 0\n",
    "    while i < len(projects):\n",
    "        for screenName in numScreens[i]:\n",
    "            if screenName in projects[i].keys():\n",
    "                if  not isinstance(projects[i][screenName]['Components'], unicode):\n",
    "#                    if 'Number of Components' in projects[i][screenName]['Components'].keys():\n",
    "                    if not isinstance(projects[i][screenName]['Components']['Type and Frequency'],unicode):\n",
    "                        for key in projects[i][screenName]['Components']['Type and Frequency']:\n",
    "                            if key in keywordDict:\n",
    "                                keywordDict[key] = keywordDict[key] + projects[i][screenName]['Components']['Type and Frequency'][key]\n",
    "                            else: \n",
    "                                keywordDict[key] = projects[i][screenName]['Components']['Type and Frequency'][key]\n",
    "        i+=1\n",
    "    \n",
    "    return keywordDict "
   ]
  },
  {
   "cell_type": "code",
   "execution_count": null,
   "metadata": {
    "collapsed": true
   },
   "outputs": [],
   "source": []
  },
  {
   "cell_type": "code",
   "execution_count": 14,
   "metadata": {
    "collapsed": false
   },
   "outputs": [],
   "source": [
    "def projectKeywords(project): \n",
    "    '''the same as createKeywordDict, but for one project'''\n",
    "    keywordDict = {}\n",
    "\n",
    "    screenNames = [key for key in project.keys() if '*' not in key]\n",
    "    \n",
    "    for screenName in screenNames:\n",
    "        if screenName in project.keys():\n",
    "            if  not isinstance(project[screenName]['Components'], unicode):\n",
    "#                    if 'Number of Components' in projects[i][screenName]['Components'].keys():\n",
    "                if not isinstance(project[screenName]['Components']['Type and Frequency'],unicode):\n",
    "                    for key in project[screenName]['Components']['Type and Frequency']:\n",
    "                        if key in keywordDict:\n",
    "                            keywordDict[key] = keywordDict[key] + project[screenName]['Components']['Type and Frequency'][key]\n",
    "                        else: \n",
    "                            keywordDict[key] = project[screenName]['Components']['Type and Frequency'][key]\n",
    "    \n",
    "    return keywordDict "
   ]
  },
  {
   "cell_type": "code",
   "execution_count": 15,
   "metadata": {
    "collapsed": false
   },
   "outputs": [],
   "source": [
    "# for user in first_ten[0:1]: \n",
    "#     projects= getProjects(user, \"LANGUAGE\")\n",
    "#     print createKeywordDict(projects)"
   ]
  },
  {
   "cell_type": "code",
   "execution_count": 16,
   "metadata": {
    "collapsed": true
   },
   "outputs": [],
   "source": [
    "def blockClassFrequency(projects): \n",
    "    '''a dictionary that contains the number of projects\n",
    "    a user used each class of blocks in that was used by the user at least once'''\n",
    "    freqDict = {} \n",
    "    numProjects = len(projects)\n",
    "    for project in projects: \n",
    "        projectDict = projectKeywords(project)\n",
    "        keys = projectDict.keys()\n",
    "        for key in keys: \n",
    "            if key not in freqDict.keys(): \n",
    "                freqDict[key] = 1\n",
    "            else: \n",
    "                freqDict[key] +=1\n",
    "    finalKeys = freqDict.keys() \n",
    "    for key in finalKeys: \n",
    "        freqDict[key] = float(freqDict[key])\n",
    "    return freqDict"
   ]
  },
  {
   "cell_type": "code",
   "execution_count": 17,
   "metadata": {
    "collapsed": false
   },
   "outputs": [],
   "source": [
    "# for user in first_ten: \n",
    "#     print blockClassFrequency(getProjects(user,\"LANGUAGE\"))"
   ]
  },
  {
   "cell_type": "code",
   "execution_count": 18,
   "metadata": {
    "collapsed": true
   },
   "outputs": [],
   "source": [
    "def projectFunctions(project):\n",
    "    '''returns how many times a user used a function a particular in a project'''\n",
    "    freqDict = {}\n",
    "    screenNames = [key for key in project.keys() if '*' not in key]\n",
    "    i = 0\n",
    "    while i < len(projects):\n",
    "        for screenName in screenNames:\n",
    "            if screenName in project.keys():\n",
    "                if  not isinstance(project[screenName]['Blocks'], unicode):\n",
    "                    if  not isinstance(project[screenName]['Blocks']['Active Blocks'],unicode):\n",
    "                        if project[screenName]['Blocks']['Active Blocks'] != 'NO ACTIVE BLOCKS':\n",
    "                            all_funcs =  project[screenName]['Blocks']['Active Blocks']['Types'].keys()                                               \n",
    "                            for func in all_funcs:\n",
    "                                sfunc = []\n",
    "                                if \"_\" in func: \n",
    "                                    sfunc = func.split('_')\n",
    "                                if \".\" in func:\n",
    "                                    sfunc = func.split('.')\n",
    "                                if type(sfunc) == list and len(sfunc) > 1:\n",
    "                                    key = sfunc[1]\n",
    "                                    if func[1] not in freqDict.keys(): \n",
    "                                         freqDict[key] =  project[screenName]['Blocks']['Active Blocks']['Types'][func]\n",
    "                                    else: \n",
    "                                        freqDict[key] += project[screenName]['Blocks']['Active Blocks']['Types'][func] \n",
    "        i+=1\n",
    "                            \n",
    "    return freqDict"
   ]
  },
  {
   "cell_type": "code",
   "execution_count": 19,
   "metadata": {
    "collapsed": true
   },
   "outputs": [],
   "source": [
    "def blockFuncFrequency(projects):\n",
    "    '''a dictionary that contains the number of projects\n",
    "    a user used each function. each function must have been used by the user at least once'''\n",
    "    freqDict = {} \n",
    "    numProjects = len(projects)\n",
    "    for project in projects: \n",
    "        projectDict = projectFunctions(project)\n",
    "        keys = projectDict.keys()\n",
    "        for key in keys: \n",
    "            if key not in freqDict: \n",
    "                freqDict[key] = 1\n",
    "            else: \n",
    "                freqDict[key] +=1\n",
    "    finalKeys = freqDict.keys() \n",
    "    for key in finalKeys: \n",
    "        freqDict[key] = float(freqDict[key])\n",
    "    return freqDict"
   ]
  },
  {
   "cell_type": "code",
   "execution_count": 20,
   "metadata": {
    "collapsed": false
   },
   "outputs": [],
   "source": [
    "def functionDict(projects):\n",
    "    '''returns a dictionary how many times a user used each function (that was used at least once) throughout her projects. function equivalent to createKeywordDict'''\n",
    "    freqDict = {}\n",
    "    screenNames = getScreenNames(projects)\n",
    "    i = 0\n",
    "    while i < len(projects):\n",
    "        for screenName in screenNames[i]:\n",
    "            if screenName in project: #removed .keys() \n",
    "                if  not isinstance(projects[i][screenName]['Blocks'], unicode):\n",
    "                    if  not isinstance(projects[i][screenName]['Blocks']['Active Blocks'],unicode):\n",
    "                        if projects[i][screenName]['Blocks']['Active Blocks'] != 'NO ACTIVE BLOCKS':\n",
    "                            all_funcs =  projects[i][screenName]['Blocks']['Active Blocks']['Types'].keys()                                               \n",
    "                            for func in all_funcs:\n",
    "                                sfunc = []\n",
    "                                if \"_\" in func: \n",
    "                                    sfunc = func.split('_')\n",
    "                                if \".\" in func:\n",
    "                                    sfunc = func.split('.')\n",
    "                                if type(sfunc) == list and len(sfunc) > 1:\n",
    "                                    key = sfunc[1]\n",
    "                                    if func[1] not in freqDict.keys(): \n",
    "                                         freqDict[key] =  projects[i][screenName]['Blocks']['Active Blocks']['Types'][func]\n",
    "                                    else: \n",
    "                                        freqDict[key] += projects[i][screenName]['Blocks']['Active Blocks']['Types'][func] \n",
    "        i+=1\n",
    "                            \n",
    "    return freqDict"
   ]
  },
  {
   "cell_type": "code",
   "execution_count": 21,
   "metadata": {
    "collapsed": false
   },
   "outputs": [],
   "source": [
    "# '''this code compiles the frequency of all classes among all users. The frequency dictionary of all classes is allKeysD. \n",
    "# commonList holds a list of all classes that are used more than 15 times across all users. rareList holds a list of all class that are used fewer than 15 times.'''\n",
    "# allKeys = set()\n",
    "# allKeysD = {}\n",
    "# i=0 \n",
    "# for user in all_users: \n",
    "#     keywords = createKeywordDict(getProjects(user, \"LANGUAGE\")).keys()\n",
    "#     for key in keywords: \n",
    "#         if key not in allKeys: \n",
    "#             allKeys.add(key)\n",
    "#             allKeysD[key] = 1\n",
    "#         else: \n",
    "#             allKeysD[key] +=1\n",
    "\n",
    "#     if i % 1000 == 0: \n",
    "#         print i\n",
    "#     i+=1 \n",
    "# print allKeysD, '\\n\\n'\n"
   ]
  },
  {
   "cell_type": "code",
   "execution_count": 22,
   "metadata": {
    "collapsed": true
   },
   "outputs": [],
   "source": [
    "# commonList =[]\n",
    "# rareList = []\n",
    "# for k in allKeys: \n",
    "#     if allKeysD[k] > 15: \n",
    "#         commonList.append((k, allKeysD[k]))\n",
    "#     else:\n",
    "#         rareList.append((k, allKeysD[k])) \n"
   ]
  },
  {
   "cell_type": "code",
   "execution_count": 23,
   "metadata": {
    "collapsed": false
   },
   "outputs": [],
   "source": [
    "# print sorted(commonList, key= lambda x: x[1])"
   ]
  },
  {
   "cell_type": "code",
   "execution_count": 24,
   "metadata": {
    "collapsed": false
   },
   "outputs": [],
   "source": [
    "# print sorted(rareList, key= lambda x: x[1])"
   ]
  },
  {
   "cell_type": "markdown",
   "metadata": {},
   "source": [
    "All possible classes[u'Web', u'Canvas', u'FtcIrSeekerSensor', u'BluetoothServer', u'ActivityStarter', u'Texting', u'SoundRecorder', u'HorizontalArrangement', u'Sharing', u'FloatingButton', u'Sound', u'LinkedData', u'SpeechRecognizer', u'mrSoundMeter', u'FtcOpMode', u'SensorDB', u'NxtDrive', u'LinkedDataForm', u'mrPanel', u'Voting', u'mrButton', u'ProximitySensor', u'InAppBilling', u'Pedometer', u'NxtColorSensor', u'LightSensor', u'NearField', u'YandexTranslate', u'mrSoundRecorder', u'TableArrangement', u'GalleryViewer', u'CheckBox', u'Clock', u'FtcRobotController', u'Label', u'Camera', u'EmailPicker', u'AdMobInterstitial', u'NxtTouchSensor', u'ContactPicker', u'FusiontablesControl', u'VSVArrangement', u'PhoneNumberPicker', u'Button', u'NxtDirectCommands', u'ListPicker', u'MIOIOUltrasonidos', u'AdAmazonInterstitial', u'PhoneStatus', u'BarcodeScanner', u'DigitalRead', u'BLE', u'FtcServo', u'GoogleDrive', u'Camcorder', u'Notifier', u'TextBox', u'MobFoxInterstitial', u'Image', u'KitchenSink', u'TinyWebDB', u'GameClient', u'UsbAccessory', u'Sharer', u'Spinner', u'BluetoothClient', u'NxtLightSensor', u'LocationSensor', u'TextToSpeech', u'OrientationSensor', u'FtcGamepad', u'mrSlider', u'ListView', u'FtcOpticalDistanceSensor', u'MMedia', u'WebViewer', u'MMediaInterstitial', u'mrCanvas', u'FtcDcMotor', u'GyroscopeSensor', u'AdAmazon', u'Twitter', u'iSENSE', u'FtcDeviceInterfaceModule', u'VideoPlayer', u'AdMob', u'TimePicker', u'HSVArrangement', u'LinkedDataListPicker', u'FtcTouchSensor', u'mrSound', u'DatePicker', u'VerticalArrangement', u'XYChart', u'FirebaseDB', u'NxtUltrasonicSensor', u'SQLite', u'GoogleMap', u'Slider', u'PasswordTextBox', u'ImagePicker', u'Dropbox', u'WICEDSense', u'TinyDB', u'mrSphero', u'GoogleCloudMessaging', u'mrPlayer', u'Chronometer', u'DropBox', u'AccelerometerSensor', u'PhoneCall', u'Player', u'File', u'NxtSoundSensor', u'UdooArduino"
   ]
  },
  {
   "cell_type": "code",
   "execution_count": 25,
   "metadata": {
    "collapsed": true
   },
   "outputs": [],
   "source": [
    "# all_users = summaries.keys()"
   ]
  },
  {
   "cell_type": "code",
   "execution_count": 26,
   "metadata": {
    "collapsed": true
   },
   "outputs": [],
   "source": [
    "# first_thousand = all_users[0:1000]\n",
    "# first_ten = all_users[0:10]"
   ]
  },
  {
   "cell_type": "code",
   "execution_count": 27,
   "metadata": {
    "collapsed": false
   },
   "outputs": [],
   "source": [
    "# #list of all functions used\n",
    "# allFunctions = set()\n",
    "# allFunctionsD = {}\n",
    "# i=0 \n",
    "# for user in all_users: \n",
    "#     functions = functionDict(getProjects(user, \"LANGUAGE\")).keys()\n",
    "#     for funcName in functions\n",
    "#         if funcName not in allFunctions: \n",
    "#             allFunctions.add(funcName)\n",
    "#             allFunctionsD[funcName] = 1\n",
    "#         else: \n",
    "#             allFunctionsD[funcName] +=1\n",
    "\n",
    "#     if i % 1000 == 0: \n",
    "#         print i\n",
    "#     i+=1 \n",
    "# print allFunctionsD, '\\n\\n'\n",
    "# commonFList =[]\n",
    "# rareFList = []\n",
    "# for k in allFunctionsD: \n",
    "#     if allFunctionsD[k] > 15: \n",
    "#         commonFList.append(k)\n",
    "#     else:\n",
    "#         rareFList.append(k) \n"
   ]
  },
  {
   "cell_type": "code",
   "execution_count": 28,
   "metadata": {
    "collapsed": false
   },
   "outputs": [],
   "source": [
    "# for k in allFunctionsD: \n",
    "#     if allFunctionsD[k] > 15: \n",
    "#         commonFList.append((k, allFunctionsD[k]))\n",
    "#     else:\n",
    "#         rareFList.append((k, allFunctionsD[k])) \n",
    "\n",
    "# #print sorted(commonFList, key= lambda y: y[1]), '\\n'\n",
    "# #print sorted(rareFList, key= lambda z: z[1])"
   ]
  },
  {
   "cell_type": "code",
   "execution_count": 29,
   "metadata": {
    "collapsed": false
   },
   "outputs": [],
   "source": [
    "def get_tf(term,project, freqType): \n",
    "    numactiveblocks = numActiveBlocks(project) \n",
    "    if numactiveblocks == 0: return 0  \n",
    "    \n",
    "    if freqType == 'functions': \n",
    "        projectFrequency = projectFunctions(project)\n",
    "    if freqType == 'classes': \n",
    "        projectFrequency = projectKeywords(project)\n",
    "    \n",
    "    if term in projectFrequency: \n",
    "        return projectFrequency[term] #/ float(numactiveblocks)\n",
    "    else: return 0"
   ]
  },
  {
   "cell_type": "code",
   "execution_count": 30,
   "metadata": {
    "collapsed": false
   },
   "outputs": [],
   "source": [
    "import math\n",
    "def get_idf(term, projects, freqType): \n",
    "    '''idf is log(total number of docs/ number of docs with term in it)'''\n",
    "    \n",
    "    if freqType == 'functions': \n",
    "        projectFrequency = blockFuncFrequency(projects)\n",
    "    if freqType == 'classes': \n",
    "        projectFrequency = blockClassFrequency(projects)\n",
    "    \n",
    "    l = float(numProjects(projects))\n",
    "    if term not in projectFrequency: return 0 \n",
    "    \n",
    "    f = projectFrequency[term]\n",
    "   \n",
    "    if l == 0 or f == 0: return 0\n",
    "    \n",
    "    return math.log(l / float(f))"
   ]
  },
  {
   "cell_type": "code",
   "execution_count": 31,
   "metadata": {
    "collapsed": false
   },
   "outputs": [],
   "source": [
    "def get_tfidf(term, projects, freqType):\n",
    "    idf = get_idf(term, projects, freqType)\n",
    "    all_tf = 0\n",
    "    for project in projects:\n",
    "        tf = get_tf(term, project, freqType)\n",
    "        all_tf += tf\n",
    "    return (tf/numProjects(projects)) * idf"
   ]
  },
  {
   "cell_type": "code",
   "execution_count": 32,
   "metadata": {
    "collapsed": false
   },
   "outputs": [],
   "source": [
    "def numActiveBlocks(project):\n",
    "    screenNames = [key for key in project.keys() if '*' not in key]\n",
    "    totalBlocks = 0\n",
    "    for screenName in screenNames:\n",
    "        if screenName in project.keys():\n",
    "            if  not isinstance(project[screenName]['Blocks'], unicode):\n",
    "                if  not isinstance(project[screenName]['Blocks']['Active Blocks'],unicode):\n",
    "                    totalBlocks += project[screenName]['Blocks']['Active Blocks']['*Number of Blocks']\n",
    "    return totalBlocks"
   ]
  },
  {
   "cell_type": "code",
   "execution_count": 33,
   "metadata": {
    "collapsed": true
   },
   "outputs": [],
   "source": [
    "def getScreenNames(projects): \n",
    "    screenNames = []\n",
    "    for project in projects: \n",
    "        projectScreens = [key for key in project.keys() if '*' not in key]\n",
    "        screenNames.append(projectScreens)\n",
    "    return screenNames"
   ]
  },
  {
   "cell_type": "code",
   "execution_count": null,
   "metadata": {
    "collapsed": false
   },
   "outputs": [],
   "source": []
  },
  {
   "cell_type": "markdown",
   "metadata": {},
   "source": [
    "# Features"
   ]
  },
  {
   "cell_type": "code",
   "execution_count": 34,
   "metadata": {
    "collapsed": false
   },
   "outputs": [],
   "source": [
    "from features import *\n",
    "import features\n",
    "reload(features)\n",
    "import sys, os\n",
    "sys.path.append(os.getcwd())"
   ]
  },
  {
   "cell_type": "code",
   "execution_count": 35,
   "metadata": {
    "collapsed": false
   },
   "outputs": [],
   "source": [
    "def deltaDeciles(decileDict):\n",
    "    values = sortDeciles(decileDict)\n",
    "    deltas = {}\n",
    "    for i in range(10): \n",
    "        if i== 0: pass\n",
    "        else: deltas[i] = values[i]-values[i-1]\n",
    "    return deltas\n",
    "\n",
    "\n",
    "def sortDeciles(decileDict):\n",
    "    deciles_sorted = []\n",
    "    keys = decileDict.keys()\n",
    "    for key in keys: \n",
    "        deciles_sorted.insert(int(key[-1]), decileDict[key])\n",
    "    return deciles_sorted\n",
    "\n"
   ]
  },
  {
   "cell_type": "markdown",
   "metadata": {},
   "source": [
    "## Time Features\n",
    "\n",
    "Get moments from list of project lengths and intervals."
   ]
  },
  {
   "cell_type": "code",
   "execution_count": 36,
   "metadata": {
    "collapsed": false
   },
   "outputs": [],
   "source": [
    "def projectLengthFeatures(projects):\n",
    "    \"\"\"moments of project lengths and intervals, as well as number of projects\"\"\"\n",
    "    lengths = getProjectLengths(projects)\n",
    "    intervals = getProjectIntervals(projects)\n",
    "    \n",
    "    #note: feature names are for our reference only\n",
    "    userDict = {} \n",
    "    userDict[\"mean of lengths\"] = numpy.mean(lengths)\n",
    "    userDict[\"stddev of lengths\"] = numpy.std(lengths)\n",
    "    userDict[\"mean of intervals\"] = numpy.mean(lengths)\n",
    "    userDict[\"stddev of intervals\"] = numpy.std(lengths)\n",
    "    \n",
    "    userDict[\"num projects\"] = numProjects(projects)\n",
    "    \n",
    "    return userDict"
   ]
  },
  {
   "cell_type": "markdown",
   "metadata": {},
   "source": [
    "Get weekday distibution features."
   ]
  },
  {
   "cell_type": "code",
   "execution_count": 37,
   "metadata": {
    "collapsed": true
   },
   "outputs": [],
   "source": [
    "def dayAnalysisFeatures(projects):\n",
    "    \"\"\"number of projects on each day of the week, and the percentage of them on a weekday\"\"\"\n",
    "    byday = numOnDay(projects)\n",
    "\n",
    "    userDict = {day: byday[i] for i, day in enumerate([\"Monday\", \n",
    "                                                       \"Tuesday\", \n",
    "                                                       \"Wednesday\", \n",
    "                                                       \"Thursday\", \n",
    "                                                       \"Friday\", \n",
    "                                                       \"Saturday\", \n",
    "                                                       \"Sunday\"])}\n",
    "    return userDict"
   ]
  },
  {
   "cell_type": "markdown",
   "metadata": {},
   "source": [
    "Histogram of user's projects in the period."
   ]
  },
  {
   "cell_type": "code",
   "execution_count": 38,
   "metadata": {
    "collapsed": true
   },
   "outputs": [],
   "source": [
    "def decileProjects(projects):\n",
    "    numbins = 10\n",
    "    hist = projectsPerUserPeriod(projects, bins=numbins)\n",
    "    \n",
    "    userDict = {'decile '+str(i+1): hist[i] for i in range(numbins)}\n",
    "    return userDict"
   ]
  },
  {
   "cell_type": "markdown",
   "metadata": {},
   "source": [
    "Here is a function to combine different feature groups."
   ]
  },
  {
   "cell_type": "code",
   "execution_count": 39,
   "metadata": {
    "collapsed": true
   },
   "outputs": [],
   "source": [
    "def combine_featfuncs(funclist):\n",
    "    def combined(user):\n",
    "        basedict = funclist[0](user)\n",
    "        for f in funclist[1:]:\n",
    "            basedict.update(f(user))\n",
    "        return basedict\n",
    "    return combined"
   ]
  },
  {
   "cell_type": "markdown",
   "metadata": {},
   "source": [
    "## Code Features\n"
   ]
  },
  {
   "cell_type": "code",
   "execution_count": 40,
   "metadata": {
    "collapsed": true
   },
   "outputs": [],
   "source": [
    "def summaryOBlockDecile(projects): \n",
    "    hist = decileOrphanBlocks(projects)\n",
    "    userDict = {'Orphan Decile '+str(i+1): hist[i] for i in range(10)}\n",
    "    return userDict"
   ]
  },
  {
   "cell_type": "code",
   "execution_count": 41,
   "metadata": {
    "collapsed": true
   },
   "outputs": [],
   "source": [
    "def summaryDecileTLBlocks(projects): \n",
    "    hist = decileTypesTopLevelBlocks(projects)\n",
    "    userDict = {'TopLevel Decile '+str(i+1): hist[i] for i in range(10)}\n",
    "    return userDict"
   ]
  },
  {
   "cell_type": "code",
   "execution_count": 42,
   "metadata": {
    "collapsed": true
   },
   "outputs": [],
   "source": [
    "def summaryDecileNumScreens(projects): \n",
    "    hist = decileNumScreens(projects)\n",
    "    userDict = {'NumScreens Decile '+str(i+1): hist[i] for i in range(10)}\n",
    "    return userDict"
   ]
  },
  {
   "cell_type": "code",
   "execution_count": 43,
   "metadata": {
    "collapsed": true
   },
   "outputs": [],
   "source": [
    "def summaryDeltasTLBlocks(projects): \n",
    "    tlblocks = summaryOBlockDecile(projects)\n",
    "    return deltaDeciles(tlblocks)"
   ]
  },
  {
   "cell_type": "code",
   "execution_count": 44,
   "metadata": {
    "collapsed": true
   },
   "outputs": [],
   "source": [
    "def summaryDeltasOBlock(projects): \n",
    "    oblock = summaryOBlockDecile(projects)\n",
    "    return deltaDeciles(oblock)"
   ]
  },
  {
   "cell_type": "code",
   "execution_count": 45,
   "metadata": {
    "collapsed": true
   },
   "outputs": [],
   "source": [
    "def summaryDeltasNumScreens(projects): \n",
    "    numscreens = summaryOBlockDecile(projects)\n",
    "    return deltaDeciles(numscreens)"
   ]
  },
  {
   "cell_type": "code",
   "execution_count": 46,
   "metadata": {
    "collapsed": false
   },
   "outputs": [],
   "source": [
    "def summaryAverages(projects):\n",
    "    userDict = {} \n",
    "    userDict[\"mean of numScreens\"] = numpy.mean(getNumScreens(projects))\n",
    "    userDict[\"NB\"] = averageNumBlocks(projects)\n",
    "    userDict[\"OB\"] = getAverageOrphanBlocks(projects)\n",
    "    \n",
    "    userDict[\"TL\"] = getAverageTypeTLBlocks(projects)\n",
    "    userDict[\"TL2\"] = getAverageNumTLBlocks(projects)\n",
    "    \n",
    "    userDict[\"NC\"] = averageNumComponents(projects)\n",
    "    userDict[\"NTC\"] = averageNumTypeComponents(projects)\n",
    "\n",
    "    userDict[\"MC\"] = aveNumMediaAssets(projects)\n",
    "    \n",
    "    userDict[\"NP\"] = averageNumProcedures(projects)\n",
    "    userDict[\"NS\"] = averageNumStrings(projects) \n",
    "    \n",
    "    #userDict[\"KW\"] = countKeywords(projects)\n",
    "    \n",
    "    varList = getAllVariables(projects)\n",
    "    userDict[\"local vars\"] = varList[0]\n",
    "    userDict[\"global vars\"] = varList[1]\n",
    "    \n",
    "    return userDict"
   ]
  },
  {
   "cell_type": "code",
   "execution_count": 47,
   "metadata": {
    "collapsed": true
   },
   "outputs": [],
   "source": [
    "def funcs_tfidf(projects):\n",
    "    userDict = {}\n",
    "    userDict[\"Click\"] = get_tfidf(\"Click\", projects, \"classes\")\n",
    "    userDict[\"variable\"] = get_tfidf(\"variable\", projects, \"classes\")\n",
    "    userDict[\"SetText\"] = get_tfidf(\"SetText\", projects, \"classes\")\n",
    "    userDict[\"number\"] = get_tfidf(\"number\", projects, \"classes\")\n",
    "    userDict[\"GetText\"] = get_tfidf(\"GetText\", projects, \"classes\")\n",
    "    userDict[\"if\"] = get_tfidf(\"if\", projects, \"classes\")\n",
    "    userDict[\"declaration\"] = get_tfidf(\"declaration\", projects, \"classes\")\n",
    "    userDict[\"compare\"] = get_tfidf(\"compare\", projects, \"classes\")\n",
    "    userDict[\"add\"] = get_tfidf(\"add\", projects, \"classes\")\n",
    "    userDict[\"join\"] = get_tfidf(\"join\", projects, \"classes\")\n",
    "\n",
    "    return userDict"
   ]
  },
  {
   "cell_type": "code",
   "execution_count": 48,
   "metadata": {
    "collapsed": true
   },
   "outputs": [],
   "source": [
    "def classes_tfidf(projects): \n",
    "    userDict = {}\n",
    "    userDict[\"Button\"] = get_tfidf(\"Button\", projects, \"functions\")\n",
    "    userDict[\"Label\"] = get_tfidf(\"Label\", projects, \"functions\")\n",
    "    userDict[\"HorizontalArrangement\"] = get_tfidf(\"HorizontalArrangement\", projects, \"functions\")\n",
    "    userDict[\"Canvas\"] = get_tfidf(\"Canvas\", projects, \"functions\")\n",
    "    userDict[\"TextBox\"] = get_tfidf(\"TextBox\", projects, \"functions\")\n",
    "    userDict[\"Clock\"] = get_tfidf(\"Clock\", projects, \"functions\")\n",
    "    userDict[\"Sound\"] = get_tfidf(\"Sound\", projects, \"functions\")\n",
    "    userDict[\"image\"] = get_tfidf(\"Notifier\", projects, \"functions\")\n",
    "    userDict[\"VerticalArrangement\"] = get_tfidf(\"VerticalArrangement\", projects, \"functions\")\n",
    "\n",
    "    return userDict"
   ]
  },
  {
   "cell_type": "markdown",
   "metadata": {
    "collapsed": true
   },
   "source": [
    "# Classification"
   ]
  },
  {
   "cell_type": "markdown",
   "metadata": {},
   "source": [
    "Get list of projects for each user."
   ]
  },
  {
   "cell_type": "code",
   "execution_count": 49,
   "metadata": {
    "collapsed": false
   },
   "outputs": [],
   "source": [
    "def getAllProjects(userID, no_tutorials): \n",
    "    \"\"\"list of projects sorted by creation times\"\"\"\n",
    "    if (no_tutorials):\n",
    "        try: \n",
    "            projectlist = not_tutorials[userID].values()\n",
    "        except:\n",
    "            print userID\n",
    "    else: \n",
    "        projectlist = summaries[userID].values()\n",
    "    return sorted(projectlist,\n",
    "                  key=lambda project: project['**created']) \n",
    "\n",
    "def projectsInMindur(projectlist):\n",
    "    \"\"\"filter projects within user's MINDUR duration from earliest\"\"\"\n",
    "    earliest = projectlist[0]['**created']\n",
    "    filtered_projects = [projectlist[0]]\n",
    "    for project in projectlist[1:]:\n",
    "        if timediff(project['**created'], earliest)>120:#1/29 manually changed from MINDUR to 120\n",
    "            break\n",
    "        filtered_projects.append(project)\n",
    "    return filtered_projects\n",
    "\n",
    "def userDuration(projectlist):\n",
    "    \"\"\"get the duration (difference between last and earliest creation dates)\"\"\"\n",
    "    return timediff(projectlist[-1]['**created'], projectlist[0]['**created'])\n",
    "\n",
    "def getProjects(userID, task, no_tutorials):\n",
    "    projectlist = getAllProjects(userID, no_tutorials)\n",
    "    if task == 'LANGUAGE': \n",
    "        return projectlist\n",
    "    if task == 'RETENTION':\n",
    "        return projectsInMindur(projectlist)"
   ]
  },
  {
   "cell_type": "markdown",
   "metadata": {},
   "source": [
    "Use the appropriate set of users for each task with labels."
   ]
  },
  {
   "cell_type": "code",
   "execution_count": 50,
   "metadata": {
    "collapsed": false
   },
   "outputs": [],
   "source": [
    "def get_user_labels(task, not_tutorials):\n",
    "    if task == 'RETENTION': \n",
    "        return {user: int(userDuration(getAllProjects(user, not_tutorials))>MINDUR) for user in old_users} \n",
    "    if task == 'LANGUAGE':\n",
    "        return {user: lang_num_map[lang] for user, lang in user_langs.items()}"
   ]
  },
  {
   "cell_type": "markdown",
   "metadata": {
    "collapsed": true
   },
   "source": [
    "### Featurizing"
   ]
  },
  {
   "cell_type": "code",
   "execution_count": 61,
   "metadata": {
    "collapsed": false
   },
   "outputs": [],
   "source": [
    "# featurizer functions\n",
    "time_combined = combine_featfuncs([projectLengthFeatures, dayAnalysisFeatures, decileProjects])  \n",
    "code_combined = combine_featfuncs([summaryDecileNumScreens,summaryOBlockDecile,summaryDecileTLBlocks])#,summaryAverages,summaryDeltasNumScreens,summaryDeltasOBlock, summaryDeltasOBlock]) #funcs_tfidf, classes_tfidf]) "
   ]
  },
  {
   "cell_type": "code",
   "execution_count": 62,
   "metadata": {
    "collapsed": false
   },
   "outputs": [
    {
     "name": "stdout",
     "output_type": "stream",
     "text": [
      ". . . . . . . . . . . . . . . . .\n"
     ]
    }
   ],
   "source": [
    "from sklearn.feature_extraction import DictVectorizer\n",
    "\n",
    "all_features = []\n",
    "time_features = [] \n",
    "code_features = []\n",
    "\n",
    "TASK = 'LANGUAGE'  # toggle between LANGUAGE and RETENTION\n",
    "userlabels = get_user_labels(TASK, False)\n",
    "\n",
    "y = []\n",
    "ctr = 0\n",
    "for user in userlabels:\n",
    "    projects = getProjects(user, TASK, False)  # this returns projects sorted by creation date that include tutorials \n",
    "    \n",
    "    y.append(userlabels[user])\n",
    "    \n",
    "    time_features.append(time_combined(projects))\n",
    "    code_features.append(code_combined(projects))\n",
    "    \n",
    "    \n",
    "    # merge time and code feature dicts\n",
    "    all_features_user = time_features[-1].copy()\n",
    "    all_features_user.update(code_features[-1])\n",
    "    all_features.append(all_features_user)\n",
    "  \n",
    "    ctr+=1\n",
    "    if ctr%1000==0:\n",
    "        print ctr/1000\n",
    "        \n",
    "\n",
    "\n",
    "y = numpy.array(y)\n",
    "\n",
    "timevec = DictVectorizer()\n",
    "\n",
    "Xtime = timevec.fit_transform(time_features) \n",
    "\n",
    "codevec = DictVectorizer()\n",
    "\n",
    "Xcode = codevec.fit_transform(code_features)\n",
    "\n",
    "allvec = DictVectorizer()\n",
    "\n",
    "Xall = allvec.fit_transform(all_features)\n"
   ]
  },
  {
   "cell_type": "code",
   "execution_count": 71,
   "metadata": {
    "collapsed": false
   },
   "outputs": [
    {
     "name": "stdout",
     "output_type": "stream",
     "text": [
      "{u'en': 0, u'zh': 5, u'pt': 4, u'ko': 3, u'it': 2, u'es': 1}\n",
      "[5 3 5 0 0 1 5 3 5 0]\n",
      "07539 5\n",
      "16079 3\n",
      "11542 5\n",
      "11543 0\n",
      "11540 0\n",
      "11541 1\n",
      "11547 5\n",
      "11544 3\n",
      "11545 5\n",
      "11548 0\n"
     ]
    }
   ],
   "source": [
    "print lang_num_map\n",
    "print y[:10]\n",
    "ctr = 0\n",
    "for user in userlabels:\n",
    "    print user, userlabels[user]\n",
    "    ctr+=1\n",
    "    if ctr==10:\n",
    "        break\n",
    "    "
   ]
  },
  {
   "cell_type": "markdown",
   "metadata": {},
   "source": [
    "## Tutorial Filtered Featurizing "
   ]
  },
  {
   "cell_type": "code",
   "execution_count": 74,
   "metadata": {
    "collapsed": false
   },
   "outputs": [
    {
     "name": "stdout",
     "output_type": "stream",
     "text": [
      ". . . . . . . . . . . . . . . . . 68\n"
     ]
    }
   ],
   "source": [
    "\n",
    "#version w/o tutorials\n",
    "all_features2 = []\n",
    "time_features2 = [] \n",
    "code_features2 = []\n",
    "\n",
    "TASK = 'LANGUAGE'  # toggle between LANGUAGE and RETENTION\n",
    "userlabels = get_user_labels(TASK, True)\n",
    "\n",
    "extras = [] \n",
    "\n",
    "y = []\n",
    "ctr = 0\n",
    "for user in userlabels:\n",
    "    if user in not_tutorials: \n",
    "        no_t_projects = getProjects(user, TASK, True) #does not include tutorials \n",
    "\n",
    "        y.append(userlabels[user])\n",
    "\n",
    "        time_features2.append(time_combined(no_t_projects))\n",
    "        code_features2.append(code_combined(no_t_projects))   \n",
    "\n",
    "        # merge time and code feature dicts\n",
    "\n",
    "        all_features_user2 = time_features2[-1].copy()\n",
    "        all_features_user2.update(code_features2[-1])\n",
    "        all_features2.append(all_features_user2)\n",
    "\n",
    "        ctr+=1\n",
    "        if ctr%1000==0:\n",
    "            print '.',\n",
    "        \n",
    "    else: \n",
    "         extras.append(user)\n",
    "\n",
    "print len(extras)            \n",
    "            \n",
    "y = numpy.array(y)\n",
    "\n",
    "timevec2 = DictVectorizer()\n",
    "\n",
    "Xtime2 = timevec2.fit_transform(time_features2) \n",
    "\n",
    "codevec2 = DictVectorizer()\n",
    "\n",
    "Xcode2 = codevec2.fit_transform(code_features2)\n",
    "\n",
    "allvec2 = DictVectorizer()\n",
    "\n",
    "Xall2 = allvec2.fit_transform(all_features2)"
   ]
  },
  {
   "cell_type": "markdown",
   "metadata": {},
   "source": [
    "Scale and standardize features"
   ]
  },
  {
   "cell_type": "code",
   "execution_count": 73,
   "metadata": {
    "collapsed": false
   },
   "outputs": [
    {
     "ename": "AttributeError",
     "evalue": "'numpy.ndarray' object has no attribute 'toarray'",
     "output_type": "error",
     "traceback": [
      "\u001b[0;31m---------------------------------------------------------------------------\u001b[0m",
      "\u001b[0;31mAttributeError\u001b[0m                            Traceback (most recent call last)",
      "\u001b[0;32m<ipython-input-73-79ccc02f2276>\u001b[0m in \u001b[0;36m<module>\u001b[0;34m()\u001b[0m\n\u001b[1;32m      2\u001b[0m \u001b[0;32mfrom\u001b[0m \u001b[0mnumpy\u001b[0m \u001b[0;32mimport\u001b[0m \u001b[0;34m*\u001b[0m\u001b[0;34m\u001b[0m\u001b[0m\n\u001b[1;32m      3\u001b[0m \u001b[0;31m# # convert to dense matrices since these are dense anyway\u001b[0m\u001b[0;34m\u001b[0m\u001b[0;34m\u001b[0m\u001b[0m\n\u001b[0;32m----> 4\u001b[0;31m \u001b[0mXtime\u001b[0m \u001b[0;34m=\u001b[0m \u001b[0mscale\u001b[0m\u001b[0;34m(\u001b[0m\u001b[0mXtime\u001b[0m\u001b[0;34m.\u001b[0m\u001b[0mtoarray\u001b[0m\u001b[0;34m(\u001b[0m\u001b[0;34m)\u001b[0m\u001b[0;34m)\u001b[0m\u001b[0;34m\u001b[0m\u001b[0m\n\u001b[0m\u001b[1;32m      5\u001b[0m \u001b[0mXtime2\u001b[0m \u001b[0;34m=\u001b[0m \u001b[0mscale\u001b[0m\u001b[0;34m(\u001b[0m\u001b[0mXtime2\u001b[0m\u001b[0;34m.\u001b[0m\u001b[0mtoarray\u001b[0m\u001b[0;34m(\u001b[0m\u001b[0;34m)\u001b[0m\u001b[0;34m)\u001b[0m\u001b[0;34m\u001b[0m\u001b[0m\n\u001b[1;32m      6\u001b[0m \u001b[0;34m\u001b[0m\u001b[0m\n",
      "\u001b[0;31mAttributeError\u001b[0m: 'numpy.ndarray' object has no attribute 'toarray'"
     ]
    }
   ],
   "source": [
    "from sklearn.preprocessing import scale\n",
    "from numpy import *\n",
    "# # convert to dense matrices since these are dense anyway\n",
    "Xtime = scale(Xtime.toarray())\n",
    "Xtime2 = scale(Xtime2.toarray())\n",
    "\n",
    "Xcode = scale(Xcode.toarray())\n",
    "Xcode2 = scale(Xcode2.toarray())\n",
    "\n",
    "Xall = scale(Xall.toarray())\n",
    "Xall2 = scale(Xall2.toarray())\n",
    "\n",
    "print len(y)"
   ]
  },
  {
   "cell_type": "markdown",
   "metadata": {},
   "source": [
    "### Model and Prediction"
   ]
  },
  {
   "cell_type": "code",
   "execution_count": 67,
   "metadata": {
    "collapsed": false
   },
   "outputs": [
    {
     "name": "stdout",
     "output_type": "stream",
     "text": [
      "Chance is 0.513545816733\n",
      "Building a logreg model with 22 time features for LANGUAGE\n",
      "Fold 1\n",
      "Fold 2\n",
      "Fold 3\n",
      "Average accuracy 0.0981204650791\n",
      "Average F1 score 0.0\n",
      "Building a logreg model with 30 code features for LANGUAGE\n",
      "Fold 1\n",
      "Fold 2\n",
      "Fold 3\n",
      "Average accuracy 0.105292314614\n",
      "Average F1 score 0.0\n",
      "Building a logreg model with 52 all features for LANGUAGE\n",
      "Fold 1\n",
      "Fold 2\n",
      "Fold 3\n",
      "Average accuracy 0.114398470996\n",
      "Average F1 score 0.0\n",
      "Building a logreg model with 22 time2 features for LANGUAGE\n",
      "Fold 1\n",
      "Fold 2\n",
      "Fold 3\n",
      "Average accuracy 0.36374522772\n",
      "Average F1 score 0.0\n",
      "Building a logreg model with 30 code2 features for LANGUAGE\n",
      "Fold 1\n",
      "Fold 2\n",
      "Fold 3\n",
      "Average accuracy 0.255209125771\n",
      "Average F1 score 0.0\n",
      "Building a logreg model with 52 all2 features for LANGUAGE\n",
      "Fold 1\n",
      "Fold 2\n",
      "Fold 3\n",
      "Average accuracy 0.342117157255\n",
      "Average F1 score 0.0\n"
     ]
    }
   ],
   "source": [
    "from sklearn.cross_validation import StratifiedKFold\n",
    "from sklearn.neighbors import KNeighborsClassifier\n",
    "from  sklearn.metrics import f1_score \n",
    "from sklearn.linear_model import LogisticRegression\n",
    "from sklearn.metrics import confusion_matrix\n",
    "\n",
    "\n",
    "print 'Chance is', max(numpy.bincount(y))/float(len(y))\n",
    "\n",
    "foldindices = StratifiedKFold(y)\n",
    "\n",
    "if TASK=='LANGUAGE':\n",
    "    labels = map(lambda x:x[0], sorted(lang_num_map.items(), key=lambda x:x[1]))  \n",
    "    # languages corresponding to class labels as a list\n",
    "elif TASK=='RETENTION':\n",
    "    labels = ['left', 'survived']\n",
    "    \n",
    "k = 70 #num neighbors for kNN\n",
    "if TASK == 'RETENTION':\n",
    "    classifiers = [('knn', KNeighborsClassifier(n_neighbors=k)), \n",
    "                   ('logreg', LogisticRegression())]\n",
    "else:\n",
    "    classifiers = [('logreg', LogisticRegression(class_weight='balanced', \n",
    "                                                             multi_class='multinomial', \n",
    "                                                             solver='lbfgs'))]  # no knn because it's too slow\n",
    "\n",
    "for modelname, model in classifiers:\n",
    "    for featname, X in [('time', Xtime), ('code', Xcode), ('all', Xall),('time2', Xtime2), ('code2', Xcode2), ('all2', Xall2)]:\n",
    "        print  'Building a', modelname, 'model with', X.shape[1], featname, 'features for', TASK\n",
    "    \n",
    "        cvaccs = numpy.zeros(len(foldindices))\n",
    "        cvf1 = numpy.zeros(len(foldindices))\n",
    "        for i, (trainidx, testidx) in enumerate(foldindices):\n",
    "            print 'Fold', i+1\n",
    "        \n",
    "            ytrain = y[trainidx]\n",
    "            ytest = y[testidx]\n",
    "        \n",
    "            Xtrain = X[trainidx, :]  \n",
    "            Xtest = X[testidx, :]\n",
    "            \n",
    "            model.fit(Xtrain, ytrain)\n",
    "            cvaccs[i] = model.score(Xtest, ytest)\n",
    "        \n",
    "            predictions = model.predict(Xtest)\n",
    "            #cvf1[i] = f1_score(ytest, predictions)\n",
    "            \n",
    "            #print '****', modelname, cvaccs[i]\n",
    "        #analyze last fold only\n",
    "        cnf_matrix = confusion_matrix(ytest, predictions)  \n",
    "        #plot_confusion_matrix(cnf_matrix, labels)\n",
    "        #plt.show()\n",
    "        \n",
    "        print 'Average accuracy', numpy.mean(cvaccs)\n",
    "        print 'Average F1 score', numpy.mean(cvf1)"
   ]
  },
  {
   "cell_type": "code",
   "execution_count": null,
   "metadata": {
    "collapsed": false
   },
   "outputs": [],
   "source": []
  }
 ],
 "metadata": {
  "anaconda-cloud": {},
  "kernelspec": {
   "display_name": "Python 2",
   "language": "python",
   "name": "python2"
  },
  "language_info": {
   "codemirror_mode": {
    "name": "ipython",
    "version": 2
   },
   "file_extension": ".py",
   "mimetype": "text/x-python",
   "name": "python",
   "nbconvert_exporter": "python",
   "pygments_lexer": "ipython2",
   "version": "2.7.10"
  }
 },
 "nbformat": 4,
 "nbformat_minor": 0
}
