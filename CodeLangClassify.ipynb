{
 "cells": [
  {
   "cell_type": "code",
   "execution_count": 1,
   "metadata": {
    "collapsed": true
   },
   "outputs": [],
   "source": [
    "import ujson\n",
    "import numpy \n",
    "import datetime\n",
    "from collections import Counter, defaultdict\n",
    "\n",
    "import sys, os\n",
    "sys.path.append(os.getcwd())\n",
    "\n",
    "from filter_data import user_project_filter, print_datastats"
   ]
  },
  {
   "cell_type": "markdown",
   "metadata": {},
   "source": [
    "## 1. Load Data"
   ]
  },
  {
   "cell_type": "code",
   "execution_count": 2,
   "metadata": {},
   "outputs": [
    {
     "name": "stdout",
     "output_type": "stream",
     "text": [
      "46320 users and 1546033 projects\n"
     ]
    }
   ],
   "source": [
    "# loads pre-computed counts of each active block type per project for every user \n",
    "blockcounts = ujson.load(open('user_project_allblockcounts.json'))\n",
    "# loads other stats \n",
    "othercounts = ujson.load(open('user_project_othercounts.json'))\n",
    "print_datastats(blockcounts)"
   ]
  },
  {
   "cell_type": "code",
   "execution_count": 3,
   "metadata": {},
   "outputs": [
    {
     "name": "stdout",
     "output_type": "stream",
     "text": [
      "46320 users and 1385816 projects\n"
     ]
    }
   ],
   "source": [
    "for user in blockcounts:\n",
    "    projects = blockcounts[user].keys()\n",
    "    for project in projects:\n",
    "        if sum(blockcounts[user][project].values())==0:\n",
    "            blockcounts[user].pop(project)\n",
    "            othercounts[user].pop(project)\n",
    "print_datastats(blockcounts)"
   ]
  },
  {
   "cell_type": "markdown",
   "metadata": {},
   "source": [
    "## 2. Get Language Labels\n",
    "\n",
    "The languages labels are inferred from the `namestrings_to_langs.py` script using `langid`."
   ]
  },
  {
   "cell_type": "code",
   "execution_count": 4,
   "metadata": {},
   "outputs": [
    {
     "name": "stdout",
     "output_type": "stream",
     "text": [
      "lang data created with 43160 users and 11 languages set([u'el', u'fr', u'en', u'zh', u'pt', u'ca', u'de', u'ko', u'it', u'th', u'es'])\n",
      "43160 users and 1300201 projects\n"
     ]
    }
   ],
   "source": [
    "isocodes = ujson.load(open('isocodes.json'))  # mapping from  iso code to language name\n",
    "user_langs = ujson.load(open('user_inferredlangs.json'))  # mapping from userid to inferred language\n",
    "# remove uncommon languages\n",
    "lang_counts = Counter()\n",
    "for user in user_langs:\n",
    "    lang = user_langs[user]\n",
    "    lang_counts[lang] += 1\n",
    "    \n",
    "user_langs = {user: lang for user, lang in user_langs.items() if lang_counts[lang]>=250 and user in blockcounts}\n",
    "langset = set(user_langs.values())\n",
    "print 'lang data created with', len(user_langs), 'users and', len(langset), 'languages', langset\n",
    "\n",
    "# filter these users from code summaries\n",
    "blockcounts = {user: blockcounts[user] for user in user_langs}\n",
    "othercounts = {user: othercounts[user] for user in user_langs}\n",
    "print_datastats(blockcounts)"
   ]
  },
  {
   "cell_type": "markdown",
   "metadata": {},
   "source": [
    "Create a map from each language to the set of users assigned to that language."
   ]
  },
  {
   "cell_type": "code",
   "execution_count": 5,
   "metadata": {},
   "outputs": [
    {
     "name": "stdout",
     "output_type": "stream",
     "text": [
      "[(257, u'th'), (291, u'el'), (322, u'fr'), (451, u'de'), (470, u'ca'), (838, u'pt'), (862, u'it'), (3605, u'ko'), (4926, u'es'), (9950, u'zh'), (21188, u'en')]\n"
     ]
    }
   ],
   "source": [
    "lang_users = defaultdict(set)  \n",
    "for user in user_langs:\n",
    "    lang = user_langs[user]\n",
    "    lang_users[lang].add(user)\n",
    "print sorted([(len(lang_users[lang]), lang) for lang in lang_users])"
   ]
  },
  {
   "cell_type": "code",
   "execution_count": 6,
   "metadata": {
    "scrolled": true
   },
   "outputs": [
    {
     "name": "stdout",
     "output_type": "stream",
     "text": [
      "[291, 322, 21188, 9950, 838, 470, 451, 3605, 862, 257, 4926]\n",
      "[u'el', u'fr', u'en', u'zh', u'pt', u'ca', u'de', u'ko', u'it', u'th', u'es']\n"
     ]
    },
    {
     "data": {
      "image/png": "[encoded data removed]",
      "text/plain": [
       "<matplotlib.figure.Figure at 0x27e98fe10>"
      ]
     },
     "metadata": {},
     "output_type": "display_data"
    }
   ],
   "source": [
    "import matplotlib.pyplot as plt; plt.rcdefaults()\n",
    "import numpy as np\n",
    "import matplotlib.pyplot as plt\n",
    "%matplotlib inline\n",
    "\n",
    "def plot_langs(lang_users, filename=None):\n",
    "    y_pos = np.arange(len(lang_users))\n",
    "    numusers = [len(lang_users[lang]) for lang in lang_users]\n",
    "    plt.bar(y_pos, numusers, color = 'indigo', align='center')\n",
    "    print numusers\n",
    "    print lang_users.keys()\n",
    "    plt.xticks(y_pos, lang_users.keys())\n",
    "    plt.ylabel('Number of Users')\n",
    "    plt.xlabel('Languages')\n",
    "    #plt.title('User Language Distribution')\n",
    "    if filename:\n",
    "        plt.savefig(filename)\n",
    "    plt.show()\n",
    "    \n",
    "plot_langs(lang_users)"
   ]
  },
  {
   "cell_type": "markdown",
   "metadata": {},
   "source": [
    "## 2. Filter Unoriginal Projects\n",
    "\n",
    "Run the cells below only if we want to filter."
   ]
  },
  {
   "cell_type": "markdown",
   "metadata": {},
   "source": [
    "Filter projects that are identical to several projects from many users (results of `identify_similar.py` and `process_graph.py`)."
   ]
  },
  {
   "cell_type": "code",
   "execution_count": 7,
   "metadata": {},
   "outputs": [
    {
     "name": "stdout",
     "output_type": "stream",
     "text": [
      "38167 users and 277533 projects\n"
     ]
    }
   ],
   "source": [
    "hypnontutorials = ujson.load(open('user_hypnontutorial_projects3.json'))\n",
    "blockcounts = user_project_filter(blockcounts, hypnontutorials)\n",
    "othercounts = user_project_filter(othercounts, hypnontutorials)\n",
    "print_datastats(blockcounts)"
   ]
  },
  {
   "cell_type": "markdown",
   "metadata": {},
   "source": [
    "Finally, discard any users with too few projects after the above filtering steps."
   ]
  },
  {
   "cell_type": "code",
   "execution_count": 8,
   "metadata": {},
   "outputs": [
    {
     "name": "stdout",
     "output_type": "stream",
     "text": [
      "20291 users and 234975 projects\n",
      "[194, 289, 10061, 3151, 644, 329, 354, 1617, 713, 157, 2782]\n",
      "[u'el', u'fr', u'en', u'zh', u'pt', u'ca', u'de', u'ko', u'it', u'th', u'es']\n"
     ]
    },
    {
     "data": {
      "image/png": "[encoded data removed]",
      "text/plain": [
       "<matplotlib.figure.Figure at 0x28df50590>"
      ]
     },
     "metadata": {},
     "output_type": "display_data"
    }
   ],
   "source": [
    "blockcounts_final = {user: blockcounts[user] for user in blockcounts if len(blockcounts[user])>=5}\n",
    "othercounts_final = {user: othercounts[user] for user in othercounts if user in blockcounts_final}\n",
    "print_datastats(blockcounts_final)\n",
    "\n",
    "filtered_lang_users = {}\n",
    "for lang in lang_users:\n",
    "    filtered_lang_users[lang] = lang_users[lang].intersection(blockcounts_final)\n",
    "plot_langs(filtered_lang_users, 'filtered_lang_dist.png')"
   ]
  },
  {
   "cell_type": "markdown",
   "metadata": {
    "collapsed": true
   },
   "source": [
    "Language groups."
   ]
  },
  {
   "cell_type": "code",
   "execution_count": 9,
   "metadata": {},
   "outputs": [
    {
     "name": "stdout",
     "output_type": "stream",
     "text": [
      "[10061, 4925, 5305]\n",
      "['english', 'asian', 'european']\n"
     ]
    },
    {
     "data": {
      "image/png": "[encoded data removed]",
      "text/plain": [
       "<matplotlib.figure.Figure at 0x28dcaf150>"
      ]
     },
     "metadata": {},
     "output_type": "display_data"
    }
   ],
   "source": [
    "langgroups = {'es': 'european',\n",
    "              'pt': 'european', \n",
    "              'it': 'european', \n",
    "              'de': 'european', \n",
    "              'fr': 'european', \n",
    "              'ca': 'european', \n",
    "              'el': 'european', \n",
    "              'en': 'english',\n",
    "              'ko': 'asian', \n",
    "              'zh': 'asian', \n",
    "              'th': 'asian'}\n",
    "user_lang_groups = {user: langgroups[lang] for user, lang in user_langs.items() if lang in langgroups.keys()}\n",
    "grouped_lang_users = defaultdict(set)\n",
    "for lang in langgroups:\n",
    "    if lang in filtered_lang_users:\n",
    "        grouped_lang_users[langgroups[lang]].update(filtered_lang_users[lang])\n",
    "plot_langs(grouped_lang_users, 'langgroup_dist.png')"
   ]
  },
  {
   "cell_type": "markdown",
   "metadata": {},
   "source": [
    "Histogram of number of projects."
   ]
  },
  {
   "cell_type": "code",
   "execution_count": 10,
   "metadata": {},
   "outputs": [
    {
     "name": "stdout",
     "output_type": "stream",
     "text": [
      "['5-10', '10-15', '15-20', '20-25', '25+'] 5\n",
      "[11246, 4788, 2097, 1024, 1136] 5\n"
     ]
    },
    {
     "data": {
      "image/png": "[encoded data removed]",
      "text/plain": [
       "<matplotlib.figure.Figure at 0x28df50dd0>"
      ]
     },
     "metadata": {},
     "output_type": "display_data"
    }
   ],
   "source": [
    "project_counts = [len(blockcounts_final[user]) for user in blockcounts_final]\n",
    "hist, bins = np.histogram(project_counts, bins=range(5, 26, 5))\n",
    "project_counts_over = len([p for p in project_counts if p>25])\n",
    "bins = bins.astype(str)\n",
    "bins = [bins[i]+'-'+bins[i+1] for i in range(len(bins)-1)]\n",
    "hist = list(hist)\n",
    "bins.append('25+')\n",
    "hist.append(project_counts_over)\n",
    "print bins, len(bins)\n",
    "print hist, len(hist)\n",
    "pos = np.arange(len(hist))\n",
    "plt.figure(figsize=(6, 4))\n",
    "plt.barh(pos, hist, color = 'indigo', align='center')\n",
    "plt.yticks(pos, bins)\n",
    "plt.xlabel('Number of users')\n",
    "plt.ylabel('Number of projects')\n",
    "#plt.title('User Project Counts')\n",
    "plt.savefig('projectcounts.png')\n",
    "plt.show()\n"
   ]
  },
  {
   "cell_type": "markdown",
   "metadata": {},
   "source": [
    "## 2. Featurize (Code)"
   ]
  },
  {
   "cell_type": "markdown",
   "metadata": {},
   "source": [
    "#### Static Train-Test Split"
   ]
  },
  {
   "cell_type": "code",
   "execution_count": 11,
   "metadata": {},
   "outputs": [],
   "source": [
    "trainuserlist, testuserlist = ujson.load(open('traintest.json'))"
   ]
  },
  {
   "cell_type": "markdown",
   "metadata": {},
   "source": [
    "#### Load Manual Annotations"
   ]
  },
  {
   "cell_type": "code",
   "execution_count": 13,
   "metadata": {},
   "outputs": [],
   "source": [
    "testlabels = dict([line.split() for line in open('testlabels.txt').readlines()])\n",
    "for user in testuserlist:\n",
    "    if user in testlabels:\n",
    "        user_langs[user] = testlabels[user]  # new languages"
   ]
  },
  {
   "cell_type": "markdown",
   "metadata": {},
   "source": [
    "#### Featurize and Vectorize"
   ]
  },
  {
   "cell_type": "code",
   "execution_count": 27,
   "metadata": {},
   "outputs": [
    {
     "name": "stdout",
     "output_type": "stream",
     "text": [
      "9202\n",
      "1064\n",
      "[u'ca' u'de' u'el' u'es' u'fr' u'it' u'ko' u'pt' u'th' u'zh']\n",
      "(10266, 1414)\n"
     ]
    }
   ],
   "source": [
    "from sklearn.feature_extraction import DictVectorizer\n",
    "from sklearn.preprocessing import LabelEncoder \n",
    "import code_features\n",
    "reload(code_features)\n",
    "\n",
    "def combine_featfuncs(funclist, dictlist):\n",
    "    def combined(user):\n",
    "        basedict = funclist[0](dictlist[0][user])\n",
    "        for f, d in zip(funclist[1:], dictlist[1:]):\n",
    "            basedict.update(f(d[user]))\n",
    "        return basedict\n",
    "    return combined\n",
    "\n",
    "GROUPLANG = 'no'\n",
    "\n",
    "combinedf = combine_featfuncs([code_features.get_all_blocks, code_features.get_all_othercounts], \n",
    "                            [blockcounts_final, othercounts_final])\n",
    "#{user: {project: code_features.collapse_blocks(blockcounts_final[user][project]) \n",
    "                              #       for project in blockcounts_final[user]}\n",
    "                              #for user in blockcounts_final}\n",
    "labels = []\n",
    "featurized = []\n",
    "#train\n",
    "for user in trainuserlist:\n",
    "    if user_langs[user]!='en':\n",
    "        if GROUPLANG =='binary':\n",
    "            labels.append(langgroups[user_langs[user]]) \n",
    "        else:\n",
    "            labels.append(user_langs[user]) \n",
    "        featurized.append(combinedf(user))\n",
    "numtrain = len(labels)\n",
    "print numtrain\n",
    "#test\n",
    "for user in testuserlist:\n",
    "    if user_langs[user]!='en' and user_langs[user] in lang_users:\n",
    "        if GROUPLANG =='binary':\n",
    "            labels.append(langgroups[user_langs[user]]) \n",
    "        else:\n",
    "            labels.append(user_langs[user])  \n",
    "        featurized.append(combinedf(user))\n",
    "        \n",
    "print len(labels)-numtrain\n",
    "\n",
    "le = LabelEncoder()\n",
    "y = le.fit_transform(labels)\n",
    "print le.classes_\n",
    "\n",
    "codevec = DictVectorizer()\n",
    "Xcode = codevec.fit_transform(featurized).todense()\n",
    "\n",
    "from sklearn.preprocessing import scale\n",
    "Xcode = scale(Xcode)\n",
    "print Xcode.shape"
   ]
  },
  {
   "cell_type": "markdown",
   "metadata": {},
   "source": [
    "### Model Training and Testing"
   ]
  },
  {
   "cell_type": "code",
   "execution_count": 31,
   "metadata": {
    "scrolled": true
   },
   "outputs": [
    {
     "name": "stdout",
     "output_type": "stream",
     "text": [
      "Chance is 0.302631578947\n",
      "Building a logreg_l2 model with 1414 features\n",
      "Accuracy 0.529135338346\n"
     ]
    },
    {
     "data": {
      "image/png": "[encoded data removed]",
      "text/plain": [
       "<matplotlib.figure.Figure at 0x28d6e6650>"
      ]
     },
     "metadata": {},
     "output_type": "display_data"
    },
    {
     "name": "stdout",
     "output_type": "stream",
     "text": [
      "Building a feedfwd model with 1414 features\n",
      "Accuracy 0.614661654135\n"
     ]
    },
    {
     "data": {
      "image/png": "[encoded data removed]",
      "text/plain": [
       "<matplotlib.figure.Figure at 0x28d0de2d0>"
      ]
     },
     "metadata": {},
     "output_type": "display_data"
    }
   ],
   "source": [
    "from sklearn.neighbors import KNeighborsClassifier\n",
    "from sklearn.metrics import f1_score \n",
    "from sklearn.linear_model import LogisticRegression\n",
    "from sklearn.ensemble import RandomForestClassifier\n",
    "from sklearn.metrics import confusion_matrix\n",
    "import matplotlib.pyplot as plt\n",
    "from sklearn.neural_network import MLPClassifier\n",
    "import plotcnf\n",
    "reload(plotcnf)\n",
    "from sklearn.decomposition import PCA\n",
    "\n",
    "classifiers = [\n",
    "           #('logreg_l1', LogisticRegression(penalty = 'l1', C=0.1, class_weight='balanced', solver='liblinear')),\n",
    "              ('logreg_l2', LogisticRegression(penalty = 'l2', multi_class='multinomial', \n",
    "                                               solver='lbfgs', class_weight='balanced')),\n",
    "            ('feedfwd', MLPClassifier(hidden_layer_sizes=(100,), activation='relu', solver='adam')),\n",
    "            #  ('random_forest', RandomForestClassifier(criterion='entropy', n_estimators=4, max_depth=X.shape[1]/2)),\n",
    "            ]     \n",
    "\n",
    "for featname, X in [('code', Xcode)]:\n",
    "    ytrain = y[:numtrain]\n",
    "    ytest = y[numtrain:]\n",
    "    Xtrain = X[:numtrain, :]  \n",
    "    Xtest = X[numtrain:, :]\n",
    "    \n",
    "    print 'Chance is', max(numpy.bincount(ytest))/float(len(ytest))\n",
    "    for modelname, model in classifiers:\n",
    "        print  'Building a', modelname, 'model with', X.shape[1], 'features'\n",
    "        \n",
    "        model.fit(Xtrain, ytrain)\n",
    "        a = model.score(Xtest, ytest)\n",
    "        print 'Accuracy', a  \n",
    "        \n",
    "        if modelname == 'logreg_l1':\n",
    "            importances = sorted(filter(lambda x:x[0]!=0, zip(model.coef_[0], codevec.feature_names_)), reverse=True)\n",
    "            print importances\n",
    "        if modelname=='random_forest':\n",
    "            importances = sorted(zip(model.feature_importances_, codevec.feature_names_), reverse=True)\n",
    "            print importances[:10]\n",
    "        predictions = model.predict(Xtest)\n",
    "        cnf_matrix = confusion_matrix(ytest, predictions)  \n",
    "        plotcnf.plot_confusion_matrix(cnf_matrix, le.classes_, showtext=(GROUPLANG=='binary'), normed=True)\n",
    "        plt.show()\n",
    "        "
   ]
  },
  {
   "cell_type": "code",
   "execution_count": null,
   "metadata": {
    "collapsed": true
   },
   "outputs": [],
   "source": []
  },
  {
   "cell_type": "code",
   "execution_count": null,
   "metadata": {
    "collapsed": true
   },
   "outputs": [],
   "source": []
  }
 ],
 "metadata": {
  "anaconda-cloud": {},
  "kernelspec": {
   "display_name": "Python 2",
   "language": "python",
   "name": "python2"
  },
  "language_info": {
   "codemirror_mode": {
    "name": "ipython",
    "version": 2
   },
   "file_extension": ".py",
   "mimetype": "text/x-python",
   "name": "python",
   "nbconvert_exporter": "python",
   "pygments_lexer": "ipython2",
   "version": "2.7.13"
  }
 },
 "nbformat": 4,
 "nbformat_minor": 1
}
