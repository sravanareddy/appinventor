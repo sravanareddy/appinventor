{
 "cells": [
  {
   "cell_type": "code",
   "execution_count": 1,
   "metadata": {
    "collapsed": false
   },
   "outputs": [],
   "source": [
    "import ujson\n",
    "import numpy \n",
    "import datetime\n",
    "from collections import Counter, defaultdict\n",
    "\n",
    "from features import *\n",
    "import features\n",
    "reload(features)\n",
    "import sys, os\n",
    "sys.path.append(os.getcwd())\n",
    "\n",
    "from identify_similar import user_project_filter, print_datastats"
   ]
  },
  {
   "cell_type": "markdown",
   "metadata": {},
   "source": [
    "## 1. Load Data"
   ]
  },
  {
   "cell_type": "code",
   "execution_count": 2,
   "metadata": {
    "collapsed": false
   },
   "outputs": [
    {
     "ename": "TypeError",
     "evalue": "print_datastats() takes exactly 1 argument (0 given)",
     "output_type": "error",
     "traceback": [
      "\u001b[0;31m---------------------------------------------------------------------------\u001b[0m",
      "\u001b[0;31mTypeError\u001b[0m                                 Traceback (most recent call last)",
      "\u001b[0;32m<ipython-input-2-e92e24312ffe>\u001b[0m in \u001b[0;36m<module>\u001b[0;34m()\u001b[0m\n\u001b[1;32m      4\u001b[0m \u001b[0mothercounts\u001b[0m \u001b[0;34m=\u001b[0m \u001b[0mujson\u001b[0m\u001b[0;34m.\u001b[0m\u001b[0mload\u001b[0m\u001b[0;34m(\u001b[0m\u001b[0mopen\u001b[0m\u001b[0;34m(\u001b[0m\u001b[0;34m'user_project_othercounts.json'\u001b[0m\u001b[0;34m)\u001b[0m\u001b[0;34m)\u001b[0m\u001b[0;34m\u001b[0m\u001b[0m\n\u001b[1;32m      5\u001b[0m \u001b[0;34m\u001b[0m\u001b[0m\n\u001b[0;32m----> 6\u001b[0;31m \u001b[0mprint_datastats\u001b[0m\u001b[0;34m(\u001b[0m\u001b[0;34m)\u001b[0m\u001b[0;34m\u001b[0m\u001b[0m\n\u001b[0m",
      "\u001b[0;31mTypeError\u001b[0m: print_datastats() takes exactly 1 argument (0 given)"
     ]
    }
   ],
   "source": [
    "# loads pre-computed counts of each active block type per project for every user \n",
    "blockcounts = ujson.load(open('user_project_allblockcounts.json'))\n",
    "# loads other stats \n",
    "othercounts = ujson.load(open('user_project_othercounts.json'))\n",
    "\n",
    "print_datastats(blockcounts)"
   ]
  },
  {
   "cell_type": "markdown",
   "metadata": {},
   "source": [
    "## 2. Filter Unoriginal Projects\n",
    "\n",
    "Remove tutorials. Run the cells below only if we want to filter."
   ]
  },
  {
   "cell_type": "code",
   "execution_count": 3,
   "metadata": {
    "collapsed": false
   },
   "outputs": [
    {
     "name": "stdout",
     "output_type": "stream",
     "text": [
      "Filtered to 37986 users and 846119 projects\n"
     ]
    }
   ],
   "source": [
    "nontutorials = ujson.load(open('user_nontutorial_projects.json'))\n",
    "blockcounts = user_project_filter(blockcounts, nontutorials)\n",
    "othercounts = user_project_filter(othercounts, nontutorials)\n",
    "print_datastats(blockcounts)"
   ]
  },
  {
   "cell_type": "markdown",
   "metadata": {},
   "source": [
    "Identify frequent prefixes in project names. These are likely to be tutorials."
   ]
  },
  {
   "cell_type": "code",
   "execution_count": 9,
   "metadata": {
    "collapsed": false
   },
   "outputs": [
    {
     "name": "stdout",
     "output_type": "stream",
     "text": [
      "[(u'test', 1840), (u'BMI', 1816), (u'AndroidMashStarter', 1304), (u'MoleMash', 1246), (u'CoinFlipMediaOnly', 1123), (u'WhereIsNorthTemplate', 1120), (u'WhereAmI', 949), (u'MapTourMediaOnly', 938), (u'Calculator', 928), (u'TinyDB', 923), (u'TestApp', 866), (u'Magic8Ball', 803), (u'PaintPot', 796), (u'piano', 751), (u'TinyWebDbTemplate', 732), (u'HelloPurr', 724), (u'calculator', 691), (u'ListPicker', 670), (u'ball', 664), (u'btchat', 651), (u'CoinFlipExperiment', 635), (u'Piano', 631), (u'test2', 626), (u'CoinFlipProjects', 606), (u'compass', 595), (u'list', 578), (u'Test', 575), (u'CoinFlip', 571), (u'xylophone', 570), (u'Timer', 568), (u'GPS', 561), (u'HelloWorld', 560), (u'Canvas', 558), (u'test1', 553), (u'Dice', 553), (u'NoTextingWhileBusy', 549), (u'BallBounce', 540), (u'calculadora', 517), (u'new', 517), (u'Calculadora', 516), (u'clock', 511), (u'IHaveADreamStarter', 507), (u'TinyDBTemplate', 498), (u'CheckBox', 483), (u'Pong', 480), (u'game', 476), (u'Magic8BallTemplate', 474), (u'List', 461), (u'MapTour', 458), (u'TipCalculator', 450), (u'WhereIsNorth', 448), (u'timer', 443), (u'PongBasic', 430), (u'bmi', 430), (u'bluetooth', 426), (u'Compass', 422), (u'Bouquet_v1', 418), (u'Animation', 414), (u'MyDirectionsTemplate', 414), (u'TinyWebDB', 410), (u'a', 410), (u'Bluetooth', 409), (u'camera', 404), (u'Procedure', 402), (u'Clock', 400), (u'ex_ATM', 398), (u'dice', 374), (u'Notifier', 374), (u'web', 368), (u'AndroidMashWebDbProjects', 366), (u'Random', 366), (u'Accelerometer', 363), (u'mysql', 352), (u'Ball', 347), (u'Button', 346), (u'canvas', 346), (u'app', 346), (u'eMail', 343), (u'Temp', 341), (u'BTClient1', 339), (u'LocationSensor', 335), (u'aaa', 329), (u'ex_commonFactor', 323), (u'Texting', 322), (u'homework', 321), (u'Dice_1', 321), (u'phonecall', 319), (u'color_chooser_stage1', 318), (u'BluetoothConnectionWhatakuai', 309), (u'BTServer1', 307), (u'Weather', 303), (u'gps', 300), (u'bounceBall', 298), (u'DigitalDoodle', 294), (u'AndroidMash', 293), (u'Orientation', 293), (u'test3', 292), (u'password', 289), (u'ex_F2C', 288), (u'Ballot', 287), (u'Spaceinvaders', 282), (u'sound', 282), (u'Camera', 281), (u'Book', 281), (u'Math', 280), (u'text', 280), (u'abc', 279), (u'survey', 279), (u'ex_CanvasDraw', 278), (u'ex_BMI', 277), (u'WalkingTourTemplate', 277), (u'TalkToMe', 276), (u'paint', 274), (u'Location', 272), (u'countdown', 272), (u'brujula', 271), (u'WebViewer', 268), (u'NoTextingWhileDriving', 266), (u'Variable', 264), (u'Ballot_1', 263), (u'listpicker', 262), (u'Game', 262), (u'ex_Piano', 261), (u'ex_ScoreSearch', 261), (u'ex_ListManage', 261), (u'Paint', 260), (u'score', 260), (u'ex_FeedButterFly', 259), (u'ex_TinyDB', 258), (u'ex_ButterFly', 258), (u'BarcodeScanner', 258), (u'OrientationSensor', 257), (u'Login', 257), (u'date', 257), (u'slider', 257), (u'SoundBoard', 255), (u'math', 255), (u'iRead', 252), (u'quiz', 251), (u'ex_Poker', 251), (u'accelerometer', 251), (u'Xylophone', 250), (u'texting', 250), (u'animation', 248), (u'sms', 247), (u'SmsEmailHubTemplate', 246), (u'ex_ListPicker', 245), (u'scratchcard', 244), (u'ex_Temperature', 243), (u'Quiz', 242), (u'PaintPot2Projects', 242), (u'Dialogs', 242), (u'If', 241), (u'ParisMapTour', 238), (u'ex_SimplePoker', 237), (u'ex_Slider', 237), (u'multiscreen', 236), (u'Counter', 235), (u'gawibawibo', 235), (u'MiniGolf', 233), (u'PhoneCall', 233), (u'PaintPot2Template', 233), (u'ex_idealBMI', 232), (u'project', 232), (u'pong', 232), (u'ex_Camera', 231), (u'login', 231), (u'ex_Stopwatch', 231), (u'bounceBallStage3', 231), (u'bounceBallStage5', 230), (u'CheckConnection', 229), (u'ex_Player', 229), (u'cat', 228), (u'random', 227), (u'Sound', 226), (u'ex_Layer', 226), (u'GuessingGame', 225), (u'Countdown', 224), (u'While', 222), (u'Brujula', 222), (u'bounceBallStage4', 220), (u'Video', 218), (u'Movie', 218), (u'ex_ActivityStarter', 217), (u'hello', 217), (u'flung', 217), (u'SMS', 217), (u'IfElse', 216), (u'Add', 215), (u'AnimationAndEffects', 215), (u'ex_Clock', 215), (u'p121', 215), (u'database', 215), (u'ex_if', 214), (u'molemash', 214), (u'PaintPot2', 214), (u'Soundboard', 214), (u'Piano_1', 214), (u'Paint_2', 213), (u'map', 212)]\n"
     ]
    }
   ],
   "source": [
    "def most_common_prefixes():\n",
    "    c = Counter()\n",
    "    for user in blockcounts: \n",
    "        for projectname in blockcounts[user]: \n",
    "            c[projectname.split('_', 2)[-1]]+=1\n",
    "    return c.most_common(200) \n",
    "\n",
    "print most_common_prefixes()"
   ]
  },
  {
   "cell_type": "code",
   "execution_count": null,
   "metadata": {
    "collapsed": true
   },
   "outputs": [],
   "source": []
  },
  {
   "cell_type": "markdown",
   "metadata": {},
   "source": [
    "Remove projects judged to be unoriginal by Eni's method. Run the cell below only we want to filter."
   ]
  },
  {
   "cell_type": "code",
   "execution_count": null,
   "metadata": {
    "collapsed": true
   },
   "outputs": [],
   "source": [
    "originals = ujson.load(open('user_original_projects.json'))\n",
    "blockcounts = user_project_filter(blockcounts, originals)\n",
    "othercounts = user_project_filter(othercounts, originals)"
   ]
  },
  {
   "cell_type": "code",
   "execution_count": null,
   "metadata": {
    "collapsed": true
   },
   "outputs": [],
   "source": []
  },
  {
   "cell_type": "markdown",
   "metadata": {},
   "source": [
    "Remove projects who names match patterns that indicate they are class projects."
   ]
  },
  {
   "cell_type": "code",
   "execution_count": 6,
   "metadata": {
    "collapsed": false
   },
   "outputs": [
    {
     "name": "stdout",
     "output_type": "stream",
     "text": [
      "[(u'BMI', 379), (u'test', 288), (u'HelloPurr', 191), (u'piano', 140), (u'Piano', 106), (u'firstApp', 104), (u'TinyDB', 103), (u'Dice', 101), (u'bmi', 94), (u'test1', 92), (u'test2', 92), (u'ex_ATM', 92), (u'ball', 87), (u'Temp', 86), (u'Dice_1', 86), (u'Paint', 80), (u'new', 76), (u'paint', 76), (u'ex_commonFactor', 73), (u'Book', 73), (u'ex_F2C', 71), (u'ex_CanvasDraw', 71), (u'Weather', 71), (u'Ball', 71), (u'Ballot', 70), (u'Ballot_1', 68), (u'ex_ShowAlert', 68), (u'WhereAmI', 67), (u'score', 67), (u'hello', 66), (u'LocationSensor', 66), (u'ex_BMI', 64), (u'ex_idealBMI', 64), (u'a', 63), (u'ex_ScoreSearch', 62), (u'abc', 62), (u'MultiScreen', 62), (u'ex_Player', 62), (u'ex_Piano', 61), (u'app', 61), (u'ex_ButterFly', 61), (u'Movie', 61), (u'p121', 61), (u'a1', 60), (u'WebViewer', 60), (u'ex_Poker', 60), (u'ex_FeedButterFly', 60), (u'clock', 59), (u'ex_Temperature', 59), (u'ex_ListManage', 59)]\n",
      "[(u'MoleMash', 28), (u'HelloPurr', 21), (u'Pong', 18), (u'prova', 17), (u'PaintPot', 16), (u'pong', 13), (u'calculadora', 9), (u'Adreces_DavidMartinez', 9), (u'SantJordi_SAURINA', 8), (u'NomIntroduit', 8), (u'prova2', 8), (u'CercleVersusPunt', 8), (u'paintpot', 8), (u'MoleMash2', 7), (u'PizzaParty_MIT_2014', 7), (u'SpaceInvaders', 7), (u'farmacies', 6), (u'prova1', 6), (u'GPS', 6), (u'MapIt_MIT', 6), (u'Farmacies', 6), (u'examen', 5), (u'bruixola', 5), (u'pantalles', 5), (u'variables', 5), (u'PaintPot2', 5), (u'paintpot2', 5), (u'Pong2', 4), (u'Magic8Ball', 4), (u'TakeQuiz', 4), (u'QuizMe_MIT', 4), (u'variable', 4), (u'veu', 4), (u'MoleMash2_MIT', 4), (u'DigitalDoodle', 4), (u'spaceinvaders', 4), (u'controls', 4), (u'mapa', 4), (u'Fusion_tables_romero', 4), (u'Rutes', 4), (u'MakeQuiz', 4), (u'pilota', 4), (u'Projecte1', 4), (u'Projecte4', 4), (u'PresidentsQuiz', 4), (u'dibuix', 4), (u'molemash', 4), (u'BallBounce', 4), (u'SMS', 4), (u'agenda', 4)]\n",
      "[(u'teste', 34), (u'HelloPurr', 27), (u'Calculadora', 27), (u'MoleMash', 21), (u'PizzaParty_MIT_2014', 17), (u'Teste', 13), (u'PaintPot', 13), (u'MapIt_MIT', 13), (u'IMC', 12), (u'calculadora', 11), (u'TinyDB', 10), (u'TalkToMe', 9), (u'AndroidWheresMyCar_MIT', 9), (u'Agenda', 8), (u'btchat', 8), (u'novo', 8), (u'DataEHora', 8), (u'ArduinoBluetooth', 8), (u'Quiz', 8), (u'MyDataBank', 7), (u'Notas', 7), (u'Canvas', 7), (u'WhereAmI', 7), (u'mysql', 7), (u'GPS', 7), (u'Magic8Ball', 6), (u'GPSAccuracyLogger', 6), (u'DataKeep', 6), (u'BallBounce', 6), (u'Camera', 6), (u'lista', 6), (u'cup_game', 5), (u'importCSV', 5), (u'FaleComigo', 5), (u'Chat', 5), (u'calc', 5), (u'DigitalDoodle', 5), (u'date', 5), (u'FL4PPYBiRDD', 5), (u'PainPot', 5), (u'NoTextingWhileDriving', 5), (u'PaintPot2', 5), (u'Paint', 5), (u'GetTheGold', 5), (u'teste1', 5), (u'teste3', 5), (u'pdf', 5), (u'TinyDB_3campos', 5), (u'paintpot2', 5), (u'Pong', 5)]\n",
      "[(u'test', 24), (u'Test', 19), (u'BallBounce', 15), (u'MoleMash', 14), (u'HelloPurr', 13), (u'PaintPot', 13), (u'Einkaufsliste', 9), (u'IHaveADreamStarter', 9), (u'SpaceInvaders', 8), (u'Magic8Ball', 7), (u'TalkToMe', 7), (u'Filme', 7), (u'Taschenrechner', 7), (u'GetTheGold', 7), (u'thePiano', 6), (u'Spiel', 6), (u'Kompass', 6), (u'Uebung_1_1', 6), (u'PingPong', 6), (u'Mehrwertsteuer', 6), (u'MapIt_MIT', 6), (u'quiz', 6), (u'test2', 6), (u'QuizMe', 6), (u'Lachsack', 5), (u'BarcodeScanner', 5), (u'AngryBlob', 5), (u'ZufallsgeneratorLayout', 5), (u'Wuerfel', 5), (u'DigitalDoodle', 5), (u'Web', 5), (u'AndroidWheresMyCar_MIT', 5), (u'TheCalculator', 5), (u'Vorlesung_4_Farben', 5), (u'Pong', 5), (u'MoleMash2', 5), (u'Uhr', 4), (u'Klingel_5ik_2', 4), (u'Calculator', 4), (u'Button', 4), (u'MagicHeidi_2015_45', 4), (u'Rechner', 4), (u'TinyDB', 4), (u'Clock', 4), (u'Malen', 4), (u'Produktsuche', 4), (u'NFC', 4), (u'PizzaParty_MIT_2014', 4), (u'Uebersetzer', 4), (u'Wahrheitskugel', 4)]\n",
      "[(u'xylophone', 181), (u'test', 146), (u'camera', 141), (u'cat', 135), (u'sketch', 135), (u'gawibawibo', 128), (u'HelloPurr', 123), (u'IHaveADreamStarter', 116), (u'sound', 113), (u'Xylophone', 111), (u'MoleMash', 105), (u'PaintPot', 93), (u'ball', 84), (u'Quiz', 82), (u'mole', 72), (u'BallBounce', 72), (u'Mole', 71), (u'voicetalk', 71), (u'phonecall', 66), (u'test1', 65), (u'quiz', 64), (u'new', 62), (u'test2', 60), (u'game', 59), (u'TalkToMe', 59), (u'voiceTalk', 53), (u'MakeQuiz', 53), (u'NoTextingWhileDriving', 52), (u'tinyDB', 50), (u'multiscreen', 50), (u'TinyDB', 50), (u'Camera', 49), (u'LadybugChase', 49), (u'DrawColor', 47), (u'IcecreamPicker', 47), (u'shakeTalk', 47), (u'mapFind', 47), (u'first', 46), (u'dice', 46), (u'ListEx01', 45), (u'a', 44), (u'bugFollow', 44), (u'TakeQuiz', 42), (u'GuessNum', 41), (u'multiScreen', 40), (u'HelloWorld', 40), (u'practice', 40), (u'shaketalk', 39), (u'list', 39), (u'buttonTalk', 39)]\n",
      "[(u'prova', 46), (u'test', 18), (u'MoleMash', 17), (u'TalkToMe', 16), (u'Prova', 16), (u'prova2', 15), (u'Submarine_Shooter', 15), (u'calcolatrice', 15), (u'Calcolatrice', 15), (u'sms', 14), (u'BallBounce', 14), (u'liste', 14), (u'disegno', 14), (u'MultiScreen_TinyDB', 13), (u'Quiz', 13), (u'PaintPot', 13), (u'prova1', 12), (u'file', 12), (u'HelloPurr', 12), (u'traduttore', 11), (u'PizzaParty_MIT_2014', 11), (u'variabili', 11), (u'AndroidWheresMyCar_MIT', 11), (u'gps', 11), (u'video', 10), (u'Paint', 10), (u'testo', 10), (u'Traduttore', 10), (u'SMS', 9), (u'Magic8Ball', 8), (u'testo3', 8), (u'telefono', 8), (u'lista', 8), (u'variabili1', 8), (u'App_TinyDB', 8), (u'LanciaLaPalla', 8), (u'tabelline', 8), (u'matematica', 8), (u'BTClient1', 7), (u'verifica', 7), (u'rubrica', 7), (u'testo2', 7), (u'Radio', 7), (u'nuovo', 7), (u'variabili2', 7), (u'labirinto', 7), (u'MapIt_MIT', 7), (u'Cronometro', 7), (u'notifiche', 6), (u'primo', 6)]\n",
      "[(u'calculadora', 120), (u'Calculadora', 116), (u'HelloPurr', 104), (u'MoleMash', 90), (u'prueba', 80), (u'PaintPot', 79), (u'brujula', 67), (u'examen', 49), (u'VideoWall', 46), (u'GPS', 45), (u'BallBounce', 44), (u'PicCall', 44), (u'canvas', 42), (u'pantallas', 42), (u'PizzaParty_MIT_2014', 42), (u'Brujula', 42), (u'camara', 41), (u'TalkToMe', 40), (u'Prueba', 38), (u'HolaMundo', 38), (u'juego', 38), (u'hola', 38), (u'proyecto', 37), (u'Magic8Ball', 36), (u'SpaceInvaders', 36), (u'MapIt_MIT', 35), (u'reloj', 35), (u'listas', 35), (u'gato', 35), (u'DigitalDoodle', 33), (u'AndroidWheresMyCar_MIT', 31), (u'topo', 30), (u'Cronometro', 30), (u'Pong', 30), (u'variables', 30), (u'suma', 29), (u'nuevo', 29), (u'pong', 29), (u'Listas', 29), (u'acelerometro', 28), (u'Reloj', 28), (u'paint', 28), (u'GetTheGold', 28), (u'CALCULADORA', 28), (u'btchat', 27), (u'holamundo', 27), (u'traductor', 26), (u'pelota', 26), (u'Proyecto', 26), (u'molemash', 26)]\n"
     ]
    },
    {
     "ename": "NameError",
     "evalue": "name 'c' is not defined",
     "output_type": "error",
     "traceback": [
      "\u001b[0;31m---------------------------------------------------------------------------\u001b[0m",
      "\u001b[0;31mNameError\u001b[0m                                 Traceback (most recent call last)",
      "\u001b[0;32m<ipython-input-6-3b9fe21d2aa3>\u001b[0m in \u001b[0;36m<module>\u001b[0;34m()\u001b[0m\n\u001b[1;32m      9\u001b[0m     \u001b[0;32mprint\u001b[0m \u001b[0mmost_common_names_by_lang\u001b[0m\u001b[0;34m(\u001b[0m\u001b[0mlang\u001b[0m\u001b[0;34m)\u001b[0m\u001b[0;34m\u001b[0m\u001b[0m\n\u001b[1;32m     10\u001b[0m \u001b[0;34m\u001b[0m\u001b[0m\n\u001b[0;32m---> 11\u001b[0;31m \u001b[0mzh_examples\u001b[0m \u001b[0;34m=\u001b[0m \u001b[0;34m[\u001b[0m\u001b[0mentry\u001b[0m \u001b[0;32mfor\u001b[0m \u001b[0mentry\u001b[0m \u001b[0;32min\u001b[0m \u001b[0mc\u001b[0m \u001b[0;32mif\u001b[0m \u001b[0;34m'ex_'\u001b[0m \u001b[0;32min\u001b[0m \u001b[0mentry\u001b[0m \u001b[0;32mand\u001b[0m \u001b[0mc\u001b[0m\u001b[0;34m[\u001b[0m\u001b[0mentry\u001b[0m\u001b[0;34m]\u001b[0m \u001b[0;34m>\u001b[0m \u001b[0;36m100\u001b[0m\u001b[0;34m]\u001b[0m\u001b[0;34m\u001b[0m\u001b[0m\n\u001b[0m\u001b[1;32m     12\u001b[0m \u001b[0mpt_examples\u001b[0m \u001b[0;34m=\u001b[0m \u001b[0;34m[\u001b[0m\u001b[0;34m'Calculadora'\u001b[0m\u001b[0;34m,\u001b[0m \u001b[0;34m'calculadora'\u001b[0m\u001b[0;34m,\u001b[0m \u001b[0;34m'DataEHora'\u001b[0m\u001b[0;34m,\u001b[0m \u001b[0;34m'Lista'\u001b[0m\u001b[0;34m]\u001b[0m\u001b[0;34m\u001b[0m\u001b[0m\n\u001b[1;32m     13\u001b[0m \u001b[0mca_examples\u001b[0m \u001b[0;34m=\u001b[0m \u001b[0;34m[\u001b[0m\u001b[0;34m'CercleVersusPunt'\u001b[0m\u001b[0;34m,\u001b[0m \u001b[0;34m'Adreces_DavidMartinez'\u001b[0m\u001b[0;34m,\u001b[0m \u001b[0;34m'NomIntroduit'\u001b[0m\u001b[0;34m,\u001b[0m \u001b[0;34m'TallersSanJordi'\u001b[0m\u001b[0;34m]\u001b[0m\u001b[0;34m\u001b[0m\u001b[0m\n",
      "\u001b[0;31mNameError\u001b[0m: name 'c' is not defined"
     ]
    }
   ],
   "source": [
    "def most_common_names_by_lang(lang):\n",
    "    c = Counter()\n",
    "    for user in lang_users[lang]: \n",
    "        for projectname in projectnames[user]: \n",
    "            c[projectname.split('_', 2)[-1]]+=1\n",
    "    return c.most_common(50)      \n",
    "\n",
    "for lang in ['zh', 'ca', 'pt', 'de', 'ko', 'it', 'es']:\n",
    "    print most_common_names_by_lang(lang)\n",
    "    \n",
    "zh_examples = [entry for entry in c if 'ex_' in entry and c[entry] > 100]\n",
    "pt_examples = ['Calculadora', 'calculadora', 'DataEHora', 'Lista']\n",
    "ca_examples = ['CercleVersusPunt', 'Adreces_DavidMartinez', 'NomIntroduit', 'TallersSanJordi']\n",
    "de_examples = ['Taschenrechner', 'Einkaufsliste', 'Mehrwertsteuer',  'ZufallsgeneratorLayout']\n",
    "ko_examples = ['gawibawibo', 'ParisMapTour']\n",
    "it_examples = ['calcolatrice', 'traduttore']\n",
    "es_examples = ['prueba', 'brujula', 'examen', 'accelerometro', u'adivina_numero', 'Proyecto', 'Xilofono']\n",
    "\n",
    "lang_tutorials = set(zh_examples + pt_examples + ca_examples + de_examples + ko_examples + it_examples + es_examples)\n",
    "print len(lang_tutorials)"
   ]
  },
  {
   "cell_type": "markdown",
   "metadata": {},
   "source": [
    "## 2. Get Language Labels\n",
    "\n",
    "The languages labels are inferred from the `namestrings_to_langs.py` script using `langid`."
   ]
  },
  {
   "cell_type": "code",
   "execution_count": 29,
   "metadata": {
    "collapsed": false
   },
   "outputs": [
    {
     "name": "stdout",
     "output_type": "stream",
     "text": [
      "lang data created with 930 users and 11 languages set([u'el', u'fr', u'en', u'zh', u'pt', u'ca', u'de', u'ko', u'it', u'th', u'es'])\n"
     ]
    }
   ],
   "source": [
    "isocodes = ujson.load(open('isocodes.json'))  # mapping from  iso code to language name\n",
    "user_langs = ujson.load(open('user_inferredlangs.json'))  # mapping from userid to inferred language\n",
    "# remove uncommon languages\n",
    "lang_counts = Counter()\n",
    "for user in user_langs:\n",
    "    lang = user_langs[user]\n",
    "    lang_counts[lang] += 1\n",
    "    \n",
    "user_langs = {user: lang for user, lang in user_langs.items() if lang_counts[lang]>=250 and user in blockcounts}\n",
    "langset = set(user_langs.values())\n",
    "print 'lang data created with', len(user_langs), 'users and', len(langset), 'languages', langset\n",
    "\n",
    "# filter these users from code summaries\n",
    "blockcounts = {user: blockcounts[user] for user in user_langs}\n",
    "othercounts = {user: othercounts[user] for user in user_langs}"
   ]
  },
  {
   "cell_type": "markdown",
   "metadata": {},
   "source": [
    "Create a map from each language to the set of users assigned to that language."
   ]
  },
  {
   "cell_type": "code",
   "execution_count": 30,
   "metadata": {
    "collapsed": false
   },
   "outputs": [],
   "source": [
    "lang_users = defaultdict(set)  \n",
    "for user in user_langs:\n",
    "    lang = user_langs[user]\n",
    "    lang_users[lang].add(user)"
   ]
  },
  {
   "cell_type": "code",
   "execution_count": 5,
   "metadata": {
    "collapsed": false,
    "scrolled": true
   },
   "outputs": [
    {
     "data": {
      "image/png": "[encoded data removed]",
      "text/plain": [
       "<matplotlib.figure.Figure at 0x10f652850>"
      ]
     },
     "metadata": {},
     "output_type": "display_data"
    }
   ],
   "source": [
    "import matplotlib.pyplot as plt; plt.rcdefaults()\n",
    "import numpy as np\n",
    "import matplotlib.pyplot as plt\n",
    "%matplotlib inline\n",
    "\n",
    "y_pos = np.arange(len(lang_users))\n",
    "#print [len(lang_users[lang]) for lang in lang_users]\n",
    "plt.bar(y_pos, [len(lang_users[lang]) for lang in lang_users], color = 'indigo', align='center')\n",
    "plt.xticks(y_pos, lang_users.keys())\n",
    "plt.ylabel('Number of Users')\n",
    "plt.xlabel('Languages')\n",
    "plt.title('User Language Distribution')\n",
    "\n",
    "plt.show()"
   ]
  },
  {
   "cell_type": "markdown",
   "metadata": {},
   "source": [
    "## 2. Featurize (Code)"
   ]
  },
  {
   "cell_type": "code",
   "execution_count": 21,
   "metadata": {
    "collapsed": true
   },
   "outputs": [],
   "source": [
    "def combine_featfuncs(funclist):\n",
    "    def combined(user):\n",
    "        basedict = funclist[0](user)\n",
    "        for f in funclist[1:]:\n",
    "            basedict.update(f(user))\n",
    "        return basedict\n",
    "    return combined\n",
    "\n"
   ]
  },
  {
   "cell_type": "code",
   "execution_count": 37,
   "metadata": {
    "collapsed": false
   },
   "outputs": [],
   "source": [
    "langgroups = {'es': 'eur',\n",
    "              'pt': 'eur', \n",
    "              'it': 'eur', \n",
    "              'de': 'eur', \n",
    "              'fr': 'eur', \n",
    "              'ca': 'eur', \n",
    "              'el': 'eur', \n",
    "              'nl': 'eur', \n",
    "              'pl': 'eur',\n",
    "              'en': 'eur',\n",
    "              'ko': 'asia', \n",
    "              'zh': 'asia', \n",
    "              'th': 'asia'}\n",
    "user_lang_groups = {user: langgroups[lang] for user, lang in user_langs.items() if lang in langgroups.keys()}"
   ]
  },
  {
   "cell_type": "code",
   "execution_count": 40,
   "metadata": {
    "collapsed": false
   },
   "outputs": [
    {
     "name": "stderr",
     "output_type": "stream",
     "text": [
      "/Users/emmalurie/anaconda/lib/python2.7/site-packages/numpy/lib/function_base.py:1110: RuntimeWarning: Mean of empty slice.\n",
      "  avg = a.mean(axis)\n",
      "/Users/emmalurie/anaconda/lib/python2.7/site-packages/numpy/core/_methods.py:80: RuntimeWarning: invalid value encountered in double_scalars\n",
      "  ret = ret.dtype.type(ret / rcount)\n"
     ]
    },
    {
     "name": "stdout",
     "output_type": "stream",
     "text": [
      "1 2 3 4 5 6 7 8 9 10 11 12 13 14 15 16 17 18 19 20 21 22 23 24 25 26 27 28 29 30 31 32 33 34 35 36 37 38 39 40 41 42\n"
     ]
    }
   ],
   "source": [
    "from sklearn.feature_extraction import DictVectorizer\n",
    "from sklearn.preprocessing import LabelEncoder \n",
    "\n",
    "\n",
    "for user in user_lang_groups:\n",
    "    y.append(userlabels[user])\n",
    "\n",
    "        code_features.append(code_combined(projects))\n",
    "\n",
    "\n",
    "        ctr+=1\n",
    "        if ctr%1000==0:\n",
    "            print ctr/1000,\n",
    "\n",
    "        \n",
    "\n",
    "\n",
    "y = numpy.array(y)\n",
    "\n",
    "# timevec = DictVectorizer()\n",
    "\n",
    "# Xtime = timevec.fit_transform(time_features) \n",
    "\n",
    "codevec = DictVectorizer()\n",
    "\n",
    "Xcode = codevec.fit_transform(code_features)\n",
    "\n",
    "\n",
    "\n",
    "# allvec = DictVectorizer()\n",
    "\n",
    "# Xall = allvec.fit_transform(all_list)\n",
    "\n",
    "# butvec = DictVectorizer()\n",
    "\n",
    "# Xbut = butvec.fit_transform(but_list)\n"
   ]
  },
  {
   "cell_type": "code",
   "execution_count": 41,
   "metadata": {
    "collapsed": false
   },
   "outputs": [],
   "source": [
    "from sklearn.preprocessing import scale\n",
    "from numpy import *\n",
    "# # convert to dense matrices since these are dense anyway\n",
    "# Xtime = scale(Xtime.toarray())\n",
    "Xcode = scale(Xcode.toarray())\n",
    "# Xall = scale(Xall.toarray())\n",
    "# Xall = scale(Xall.toarray())\n",
    "# Xbut = scale(Xbut.toarray())\n"
   ]
  },
  {
   "cell_type": "markdown",
   "metadata": {},
   "source": [
    "#### Static KFold Values"
   ]
  },
  {
   "cell_type": "code",
   "execution_count": 42,
   "metadata": {
    "collapsed": true
   },
   "outputs": [],
   "source": [
    "import pickle"
   ]
  },
  {
   "cell_type": "code",
   "execution_count": 43,
   "metadata": {
    "collapsed": false
   },
   "outputs": [],
   "source": [
    "if filter_tutorials:\n",
    "    with open('filtered_kfold.pickle', 'rb') as f:\n",
    "        foldindices = pickle.load(f)\n",
    "else:\n",
    "    with open('unfiltered_kfold.pickle', 'rb') as f:\n",
    "        foldindices = pickle.load(f)"
   ]
  },
  {
   "cell_type": "markdown",
   "metadata": {},
   "source": [
    "### Model Training and Testing"
   ]
  },
  {
   "cell_type": "code",
   "execution_count": null,
   "metadata": {
    "collapsed": false,
    "scrolled": true
   },
   "outputs": [
    {
     "name": "stdout",
     "output_type": "stream",
     "text": [
      "Chance is 0.678882455397\n",
      "Building a logreg model with 569 features\n",
      "Fold 1\n"
     ]
    }
   ],
   "source": [
    "from sklearn.cross_validation import StratifiedKFold\n",
    "from sklearn.neighbors import KNeighborsClassifier\n",
    "from  sklearn.metrics import f1_score \n",
    "from sklearn.linear_model import LogisticRegression\n",
    "from sklearn.metrics import confusion_matrix\n",
    "import matplotlib.pyplot as plt\n",
    "%matplotlib inline \n",
    "from plotcnf import plot_confusion_matrix\n",
    "from sklearn.decomposition import PCA\n",
    "\n",
    "print 'Chance is', max(numpy.bincount(y))/float(len(y))\n",
    "\n",
    "### added later ### ************************    \n",
    "\n",
    "\n",
    "labels = map(lambda x:x[0], sorted(langgroup_num_map.items(), key=lambda x:x[1]))  \n",
    "# languages corresponding to class labels as a list\n",
    "\n",
    "    \n",
    "k = 70 #num neighbors for kNN\n",
    "\n",
    "classifiers = [('logreg', LogisticRegression(penalty = 'l1'))]  # no knn because it's too slow \n",
    "#multi_class='multinomial', \n",
    "   \n",
    "\n",
    "for modelname, model in classifiers:\n",
    "    for featname, X in [('code', Xcode)]:\n",
    "        print  'Building a', modelname, 'model with', X.shape[1], 'features'\n",
    "    \n",
    "        cvaccs = numpy.zeros(len(foldindices))\n",
    "        #cvf1 = numpy.zeros(len(foldindices))\n",
    "        for i, (trainidx, testidx) in enumerate(foldindices):\n",
    "            \n",
    "            print 'Fold', i+1\n",
    "        \n",
    "            ytrain = y[trainidx]\n",
    "            ytest = y[testidx]\n",
    "        \n",
    "            Xtrain = X[trainidx, :]  \n",
    "            Xtest = X[testidx, :]\n",
    "            \n",
    "            model.fit(Xtrain, ytrain)\n",
    "            cvaccs[i] = model.score(Xtest, ytest)\n",
    "            \n",
    "            predictions = model.predict(Xtest)\n",
    "\n",
    "#             pca = PCA(n_components=7)\n",
    "\n",
    "#             reduced_train = pca.fit_transform(Xtrain)\n",
    "#             reduced_test = pca.transform(Xtest)\n",
    "            \n",
    "#             model.fit(reduced_train, ytrain)\n",
    "#             cvaccs[i] = model.score(reduced_test, ytest)\n",
    "    \n",
    "        \n",
    "#             predictions = model.predict(reduced_test)\n",
    "\n",
    "            #cvf1[i] = f1_score(ytest, predictions)\n",
    "            \n",
    "              \n",
    "            #print '****', modelname, cvaccs[i]\n",
    "        #analyze last fold only\n",
    "        cnf_matrix = confusion_matrix(ytest, predictions)  \n",
    "        plot_confusion_matrix(cnf_matrix, labels)\n",
    "        plt.title('European and Asian Language Groupings')\n",
    "\n",
    "        plt.show()\n",
    "        coef = model.coef_\n",
    "        print 'Average accuracy:', numpy.mean(cvaccs)"
   ]
  },
  {
   "cell_type": "markdown",
   "metadata": {},
   "source": [
    "### Testing different sized training setes"
   ]
  },
  {
   "cell_type": "code",
   "execution_count": 72,
   "metadata": {
    "collapsed": false
   },
   "outputs": [
    {
     "name": "stdout",
     "output_type": "stream",
     "text": [
      "100 0.711129741853\n",
      "200 0.783669935684\n",
      "300 0.812526448775\n",
      "400 0.822764666939\n",
      "500 0.824200432356\n",
      "600 0.837734530064\n",
      "700 0.843854362557\n",
      "800 0.851292179904\n",
      "900 0.851786475332\n",
      "1000 0.851245313319\n",
      "1100 0.851574846931\n",
      "1200 0.850115403078\n",
      "1300 0.849762277456\n",
      "1400 0.851456968317\n",
      "1500 0.851504014395\n",
      "1600 0.855623066511\n",
      "1700 0.856941099571\n",
      "1800 0.860189394576\n",
      "1900 0.862401839907\n",
      "2000 0.864214201636\n",
      "2100 0.865744080813\n",
      "2200 0.86689734042\n",
      "2300 0.869298172824\n",
      "2400 0.868662680998\n",
      "2500 0.871228143926\n",
      "2600 0.872946350342\n",
      "2700 0.87318177684\n",
      "2800 0.875841469865\n",
      "2900 0.876076801631\n",
      "3000 0.876994830849\n",
      "3100 0.875535534916\n",
      "3200 0.875676689765\n",
      "3300 0.875158878778\n",
      "3400 0.87492345228\n",
      "3500 0.876359146234\n",
      "3600 0.876476818764\n",
      "3700 0.877842034177\n",
      "3800 0.878477577528\n",
      "3900 0.877394871247\n",
      "4000 0.87826581949\n",
      "4100 0.879866328445\n",
      "4200 0.881890516348\n",
      "4300 0.88238475693\n",
      "4400 0.882926233056\n",
      "4500 0.883961785228\n",
      "4600 0.883867629921\n",
      "4700 0.88478551787\n",
      "4800 0.885138565377\n",
      "4900 0.885397505774\n",
      "5000 0.885585806421\n",
      "5100 0.885491646126\n",
      "5200 0.885774035604\n",
      "5300 0.886715555455\n",
      "5400 0.887468739759\n",
      "5500 0.887704089804\n",
      "5600 0.887539391142\n",
      "5700 0.887021536943\n",
      "5800 0.888763288833\n",
      "5900 0.889445879923\n",
      "6000 0.889751859745\n",
      "6100 0.890034302404\n",
      "6200 0.890363824379\n",
      "6300 0.890834574332\n",
      "6400 0.891258276547\n",
      "6500 0.891728996586\n",
      "6600 0.892952950784\n",
      "6700 0.89311771094\n",
      "6800 0.892905854848\n",
      "6900 0.893047032965\n",
      "7000 0.892482162605\n",
      "7100 0.89377671833\n",
      "7200 0.893894394183\n",
      "7300 0.893776715005\n",
      "7400 0.894412198524\n",
      "7500 0.893847344783\n",
      "7600 0.894012084994\n",
      "7700 0.894883004985\n",
      "7800 0.89540080434\n",
      "7900 0.896083357202\n",
      "8000 0.896577647644\n",
      "8100 0.897307333007\n",
      "8200 0.896507090994\n",
      "8300 0.896342339146\n",
      "8400 0.896318793671\n",
      "8500 0.896248192148\n",
      "8600 0.896624780144\n",
      "8700 0.897001368139\n",
      "8800 0.896601234668\n",
      "8900 0.896813059183\n",
      "9000 0.897472088177\n",
      "9100 0.897989909136\n",
      "9200 0.898460627511\n",
      "9300 0.898107570034\n",
      "9400 0.898225212648\n",
      "9500 0.898837198888\n",
      "9600 0.898131113847\n",
      "9700 0.898319372943\n",
      "9800 0.898531197458\n",
      "9900 0.89930791228\n",
      "10000 0.899213778576\n",
      "10100 0.898601764083\n",
      "10200 0.898884183474\n",
      "10300 0.89942553495\n",
      "10400 0.899637399354\n",
      "10500 0.89921372207\n",
      "10600 0.899119571746\n",
      "10700 0.898884190123\n",
      "10800 0.899331394601\n",
      "10900 0.899401997786\n",
      "11000 0.898860621379\n",
      "11100 0.898907700695\n",
      "11200 0.899237245939\n",
      "11300 0.899213698802\n",
      "11400 0.899354923457\n",
      "11500 0.899378465606\n",
      "11600 0.899637386058\n",
      "11700 0.899331384628\n",
      "11800 0.899707974286\n",
      "11900 0.899778575809\n",
      "12000 0.899496131488\n",
      "12100 0.89966089663\n",
      "12200 0.899707967638\n",
      "12300 0.900061053372\n",
      "12400 0.899613830612\n",
      "12500 0.899849218883\n",
      "12600 0.899943347601\n",
      "12700 0.899802134581\n",
      "12800 0.899778612375\n",
      "12900 0.900343504341\n",
      "13000 0.901120232457\n",
      "13100 0.900555348801\n",
      "13200 0.900931946769\n",
      "13300 0.901143789566\n",
      "13400 0.900931966712\n",
      "13500 0.90144976939\n",
      "13600 0.90142622059\n",
      "13700 0.901167313434\n",
      "13800 0.901402675114\n",
      "13900 0.901661607201\n",
      "14000 0.901543916389\n",
      "14100 0.901685132733\n",
      "14200 0.901355609096\n",
      "14300 0.901473313203\n",
      "14400 0.901308546399\n",
      "14500 0.901261462096\n",
      "14600 0.901755749215\n",
      "14700 0.901755734256\n",
      "14800 0.901826354063\n",
      "14900 0.9020146464\n",
      "15000 0.902108816664\n",
      "15100 0.90222652576\n",
      "15200 0.902344211586\n",
      "15300 0.901944113016\n",
      "15400 0.902038268326\n",
      "15500 0.901897038686\n",
      "15600 0.902509013293\n",
      "15700 0.902626712416\n",
      "15800 0.902344258123\n",
      "15900 0.902297178807\n",
      "16000 0.902108913063\n",
      "16100 0.901897073589\n",
      "16200 0.902485517678\n",
      "16300 0.90253259201\n",
      "16400 0.902367818556\n",
      "16500 0.90246196888\n",
      "16600 0.902603163618\n",
      "16700 0.902485472806\n",
      "16800 0.902673795058\n",
      "16900 0.902932678945\n",
      "17000 0.90293266731\n",
      "17100 0.902767918788\n",
      "17200 0.902909145103\n",
      "17300 0.903026829268\n",
      "17400 0.902603170265\n",
      "17500 0.902744401565\n",
      "17600 0.902697320586\n",
      "17700 0.902815014723\n",
      "17800 0.902885616245\n",
      "17900 0.903732934252\n",
      "18000 0.903379873448\n",
      "18100 0.903474042054\n",
      "18200 0.903238685361\n",
      "18300 0.903497577558\n",
      "18400 0.903850648333\n",
      "18500 0.903638800549\n",
      "18600 0.903709420354\n",
      "18700 0.903732947548\n",
      "18800 0.903356364538\n",
      "18900 0.903662357659\n",
      "19000 0.903709417031\n",
      "19100 0.903591734528\n",
      "19200 0.903379931619\n",
      "19300 0.902979778204\n",
      "19400 0.902862072433\n",
      "19500 0.902838545239\n",
      "19600 0.902956227742\n",
      "19700 0.902767912138\n",
      "19800 0.9024854861\n",
      "19900 0.902461940624\n",
      "20000 0.902885604613\n"
     ]
    }
   ],
   "source": [
    "train_size = 100\n",
    "accuracies = [] \n",
    "X = Xcode \n",
    "\n",
    "for n in range(200): \n",
    "    cvaccs = numpy.zeros(len(foldindices))\n",
    "    for i, (trainidx, testidx) in enumerate(foldindices):\n",
    "\n",
    "        ytrain = y[trainidx[0:train_size]]\n",
    "        ytest = y[testidx]\n",
    "\n",
    "        Xtrain = X[trainidx[0:train_size], :]  \n",
    "        Xtest = X[testidx, :]\n",
    "\n",
    "        model.fit(Xtrain, ytrain)\n",
    "        cvaccs[i] = model.score(Xtest, ytest)\n",
    "\n",
    "        predictions = model.predict(Xtest)\n",
    "\n",
    "    print train_size, numpy.mean(cvaccs)\n",
    "    accuracies.append((train_size, numpy.mean(cvaccs)))\n",
    "    train_size+= 100\n",
    "\n"
   ]
  },
  {
   "cell_type": "code",
   "execution_count": 73,
   "metadata": {
    "collapsed": true
   },
   "outputs": [],
   "source": []
  },
  {
   "cell_type": "code",
   "execution_count": 76,
   "metadata": {
    "collapsed": false
   },
   "outputs": [
    {
     "data": {
      "image/png": "[encoded data removed]",
      "text/plain": [
       "<matplotlib.figure.Figure at 0x73c3d8f90>"
      ]
     },
     "metadata": {},
     "output_type": "display_data"
    }
   ],
   "source": [
    "plt.plot([a[0] for a in accuracies],[a[1] for a in accuracies] , 'bo')\n",
    "plt.xlabel('Training Set Size')\n",
    "plt.ylabel('Accuracy')\n",
    "plt.show()"
   ]
  },
  {
   "cell_type": "code",
   "execution_count": 45,
   "metadata": {
    "collapsed": false
   },
   "outputs": [
    {
     "name": "stdout",
     "output_type": "stream",
     "text": [
      "Confusion matrix, without normalization\n"
     ]
    },
    {
     "data": {
      "image/png": "[encoded data removed]",
      "text/plain": [
       "<matplotlib.figure.Figure at 0x72aadc850>"
      ]
     },
     "metadata": {},
     "output_type": "display_data"
    }
   ],
   "source": []
  },
  {
   "cell_type": "code",
   "execution_count": 47,
   "metadata": {
    "collapsed": false
   },
   "outputs": [],
   "source": [
    "# eigenvalues = pca.explained_variance_\n",
    "# print eigenvalues\n",
    "#dictvectorizer has features_names\n",
    "#codevec \n",
    "#inverse_tranform "
   ]
  },
  {
   "cell_type": "code",
   "execution_count": 48,
   "metadata": {
    "collapsed": false
   },
   "outputs": [],
   "source": [
    "# plt.show()\n",
    "# coef = model.coef_\n",
    "# print 'Average accuracy:', numpy.mean(cvaccs)"
   ]
  },
  {
   "cell_type": "markdown",
   "metadata": {},
   "source": [
    "### Coefs "
   ]
  },
  {
   "cell_type": "code",
   "execution_count": 49,
   "metadata": {
    "collapsed": false
   },
   "outputs": [],
   "source": [
    "# sorted(zip(allvec.get_feature_names(), coef[0]), key=lambda tup: tup[1])"
   ]
  },
  {
   "cell_type": "code",
   "execution_count": 50,
   "metadata": {
    "collapsed": false
   },
   "outputs": [],
   "source": [
    "# from sklearn.metrics import f1_score\n",
    "# f1_score(ytest, predictions)"
   ]
  }
 ],
 "metadata": {
  "anaconda-cloud": {},
  "kernelspec": {
   "display_name": "Python 2",
   "language": "python",
   "name": "python2"
  },
  "language_info": {
   "codemirror_mode": {
    "name": "ipython",
    "version": 2
   },
   "file_extension": ".py",
   "mimetype": "text/x-python",
   "name": "python",
   "nbconvert_exporter": "python",
   "pygments_lexer": "ipython2",
   "version": "2.7.10"
  }
 },
 "nbformat": 4,
 "nbformat_minor": 0
}
